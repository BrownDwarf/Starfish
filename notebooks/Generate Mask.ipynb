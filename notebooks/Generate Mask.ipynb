{
 "metadata": {
  "name": "",
  "signature": "sha256:7da2cae741e7f7702c148b465b89a1a5be4beace1026c1ab1bc5bb556ffcf344"
 },
 "nbformat": 3,
 "nbformat_minor": 0,
 "worksheets": [
  {
   "cells": [
    {
     "cell_type": "markdown",
     "metadata": {},
     "source": [
      "Code to help generate masks for a Data Spectrum."
     ]
    },
    {
     "cell_type": "code",
     "collapsed": false,
     "input": [
      "import matplotlib.pyplot as plt\n",
      "import numpy as np\n",
      "import h5py"
     ],
     "language": "python",
     "metadata": {},
     "outputs": [],
     "prompt_number": 1
    },
    {
     "cell_type": "code",
     "collapsed": false,
     "input": [
      "def update_mask(mask, DataSpectrum, wl_range):\n",
      "    '''\n",
      "    Given the current mask, DataSpectrum (not truncated by any orders), and two new wl_ranges, update the mask to \n",
      "    include these indices as False. Mask will be a 2D numpy array that should be written to HDF5.\n",
      "    '''\n",
      "    \n",
      "    wls = DataSpectrum.wls \n",
      "    \n",
      "    wl0,wl1 = wl_range\n",
      "    assert wl0 < wl1, \"wl_range must span a positive wl range\"\n",
      "    ind = (wls >= wl0) & (wls <= wl1) #select all of the indices between the two wl bounds\n",
      "    mask[ind] = False #np.zeros(np.sum(ind), dtype='bool') #set these elements in the mask to False\n",
      "    \n",
      "    return mask\n",
      "\n",
      "def update_mask_list(mask, DataSpectrum, wl_ranges):\n",
      "    '''\n",
      "    Run `update_mask` on the list of wl_ranges provided.\n",
      "    '''\n",
      "    for wl_range in wl_ranges:\n",
      "        mask = update_mask(mask, DataSpectrum, wl_range)\n",
      "        \n",
      "    return mask\n",
      "\n",
      "def write_mask(fname, mask):\n",
      "    hdf5 = h5py.File(fname, \"w\")\n",
      "    shape = mask.shape\n",
      "    dset = hdf5.create_dataset(\"masks\", shape, dtype=\"b\", compression='gzip', compression_opts=9)\n",
      "    dset[:] = mask\n",
      "\n",
      "    hdf5.close()"
     ],
     "language": "python",
     "metadata": {},
     "outputs": [],
     "prompt_number": 15
    },
    {
     "cell_type": "code",
     "collapsed": false,
     "input": [
      "from StellarSpectra.spectrum import DataSpectrum\n",
      "#mySpec = DataSpectrum.open(\"../data/WASP14/WASP14-2009-06-14.hdf5\")\n",
      "mySpec = DataSpectrum.open(\"../data/Gl51/Gl51RA.hdf5\")"
     ],
     "language": "python",
     "metadata": {},
     "outputs": [],
     "prompt_number": 3
    },
    {
     "cell_type": "code",
     "collapsed": false,
     "input": [
      "#wl = mySpec.wls[0]\n",
      "#fl = mySpec.fls[0]\n",
      "mask = mySpec.masks"
     ],
     "language": "python",
     "metadata": {},
     "outputs": [],
     "prompt_number": 10
    },
    {
     "cell_type": "code",
     "collapsed": false,
     "input": [
      "#For PHOENIX, WASP14, order 23\n",
      "region_list = [[5142.5, 5143.2],\n",
      "               [5150.4, 5151.],\n",
      "               [5151.55, 5152.05],\n",
      "               [5166.7, 5167.6],\n",
      "               [5168.7, 5169.6],\n",
      "               [5170.3, 5171.8],\n",
      "               [5176.5, 5177.4],\n",
      "               [5178.2, 5179.1],\n",
      "               [5179.6, 5180.25],\n",
      "               [5187.5, 5188.1],\n",
      "               [5188.45, 5189.15],\n",
      "               [5194.55, 5195.2],\n",
      "               [5198.3, 5198.9],\n",
      "               [5201.75, 5202.65],\n",
      "               [5211.35, 5212.25],\n",
      "               [5215.0, 5218.5],\n",
      "               [5235.0, 5235.56]           \n",
      "               ]\n",
      "\n",
      "new_mask = update_mask_list(mask, wl, region_list)\n",
      "np.save(\"WASP14_23.mask.npy\", new_mask)"
     ],
     "language": "python",
     "metadata": {},
     "outputs": [],
     "prompt_number": 5
    },
    {
     "cell_type": "code",
     "collapsed": false,
     "input": [
      "#For PHOENIX, WASP14, order 24\n",
      "region_list = [[5234.7, 5236.7],\n",
      "               [5245.1, 5246.4],\n",
      "               [5250.25, 5250.9],\n",
      "               [5258.2, 5259.4],\n",
      "               [5260.1, 5261.1],\n",
      "               [5267.9, 5270.6],\n",
      "               [5288.1, 5288.8],\n",
      "               [5292.0, 5293.0]\n",
      "               ]\n",
      "\n",
      "new_mask = update_mask_list(mask, wl, region_list)\n",
      "np.save(\"WASP14_24.mask.npy\", new_mask)"
     ],
     "language": "python",
     "metadata": {},
     "outputs": [
      {
       "output_type": "stream",
       "stream": "stderr",
       "text": [
        "ERROR:astropy:AttributeError: 'numpy.ndarray' object has no attribute 'wls'\n"
       ]
      },
      {
       "output_type": "stream",
       "stream": "stdout",
       "text": [
        "ERROR: AttributeError: 'numpy.ndarray' object has no attribute 'wls' [IPython.core.interactiveshell]\n"
       ]
      },
      {
       "ename": "AttributeError",
       "evalue": "'numpy.ndarray' object has no attribute 'wls'",
       "output_type": "pyerr",
       "traceback": [
        "\u001b[1;31m---------------------------------------------------------------------------\u001b[0m\n\u001b[1;31mAttributeError\u001b[0m                            Traceback (most recent call last)",
        "\u001b[1;32m<ipython-input-6-3fe56df05864>\u001b[0m in \u001b[0;36m<module>\u001b[1;34m()\u001b[0m\n\u001b[0;32m     10\u001b[0m                ]\n\u001b[0;32m     11\u001b[0m \u001b[1;33m\u001b[0m\u001b[0m\n\u001b[1;32m---> 12\u001b[1;33m \u001b[0mnew_mask\u001b[0m \u001b[1;33m=\u001b[0m \u001b[0mupdate_mask_list\u001b[0m\u001b[1;33m(\u001b[0m\u001b[0mmask\u001b[0m\u001b[1;33m,\u001b[0m \u001b[0mwl\u001b[0m\u001b[1;33m,\u001b[0m \u001b[0mregion_list\u001b[0m\u001b[1;33m)\u001b[0m\u001b[1;33m\u001b[0m\u001b[0m\n\u001b[0m\u001b[0;32m     13\u001b[0m \u001b[0mnp\u001b[0m\u001b[1;33m.\u001b[0m\u001b[0msave\u001b[0m\u001b[1;33m(\u001b[0m\u001b[1;34m\"WASP14_24.mask.npy\"\u001b[0m\u001b[1;33m,\u001b[0m \u001b[0mnew_mask\u001b[0m\u001b[1;33m)\u001b[0m\u001b[1;33m\u001b[0m\u001b[0m\n",
        "\u001b[1;32m<ipython-input-2-e0c2252af224>\u001b[0m in \u001b[0;36mupdate_mask_list\u001b[1;34m(mask, DataSpectrum, wl_ranges)\u001b[0m\n\u001b[0;32m     19\u001b[0m     '''\n\u001b[0;32m     20\u001b[0m     \u001b[1;32mfor\u001b[0m \u001b[0mwl_range\u001b[0m \u001b[1;32min\u001b[0m \u001b[0mwl_ranges\u001b[0m\u001b[1;33m:\u001b[0m\u001b[1;33m\u001b[0m\u001b[0m\n\u001b[1;32m---> 21\u001b[1;33m         \u001b[0mmask\u001b[0m \u001b[1;33m=\u001b[0m \u001b[0mupdate_mask\u001b[0m\u001b[1;33m(\u001b[0m\u001b[0mmask\u001b[0m\u001b[1;33m,\u001b[0m \u001b[0mDataSpectrum\u001b[0m\u001b[1;33m,\u001b[0m \u001b[0mwl_range\u001b[0m\u001b[1;33m)\u001b[0m\u001b[1;33m\u001b[0m\u001b[0m\n\u001b[0m\u001b[0;32m     22\u001b[0m \u001b[1;33m\u001b[0m\u001b[0m\n\u001b[0;32m     23\u001b[0m     \u001b[1;32mreturn\u001b[0m \u001b[0mmask\u001b[0m\u001b[1;33m\u001b[0m\u001b[0m\n",
        "\u001b[1;32m<ipython-input-2-e0c2252af224>\u001b[0m in \u001b[0;36mupdate_mask\u001b[1;34m(mask, DataSpectrum, wl_range)\u001b[0m\n\u001b[0;32m      5\u001b[0m     '''\n\u001b[0;32m      6\u001b[0m \u001b[1;33m\u001b[0m\u001b[0m\n\u001b[1;32m----> 7\u001b[1;33m     \u001b[0mwls\u001b[0m \u001b[1;33m=\u001b[0m \u001b[0mDataSpectrum\u001b[0m\u001b[1;33m.\u001b[0m\u001b[0mwls\u001b[0m\u001b[1;33m\u001b[0m\u001b[0m\n\u001b[0m\u001b[0;32m      8\u001b[0m \u001b[1;33m\u001b[0m\u001b[0m\n\u001b[0;32m      9\u001b[0m     \u001b[0mwl0\u001b[0m\u001b[1;33m,\u001b[0m\u001b[0mwl1\u001b[0m \u001b[1;33m=\u001b[0m \u001b[0mwl_range\u001b[0m\u001b[1;33m\u001b[0m\u001b[0m\n",
        "\u001b[1;31mAttributeError\u001b[0m: 'numpy.ndarray' object has no attribute 'wls'"
       ]
      }
     ],
     "prompt_number": 6
    },
    {
     "cell_type": "code",
     "collapsed": false,
     "input": [
      "#For PHOENIX, Gl51\n",
      "region_list = [[22020, 22120], #Na I\n",
      "               [22580, 22690]] #Ca I\n",
      "new_mask = update_mask_list(mask, mySpec, region_list)\n",
      "write_mask(\"Gl51.NaCamask.hdf5\", new_mask)"
     ],
     "language": "python",
     "metadata": {},
     "outputs": [],
     "prompt_number": 18
    },
    {
     "cell_type": "code",
     "collapsed": false,
     "input": [
      "import matplotlib.pyplot as plt"
     ],
     "language": "python",
     "metadata": {},
     "outputs": [],
     "prompt_number": 6
    },
    {
     "cell_type": "code",
     "collapsed": false,
     "input": [
      "plt.plot(wl, new_mask)\n",
      "plt.show()"
     ],
     "language": "python",
     "metadata": {},
     "outputs": [],
     "prompt_number": 7
    },
    {
     "cell_type": "code",
     "collapsed": false,
     "input": [],
     "language": "python",
     "metadata": {},
     "outputs": []
    }
   ],
   "metadata": {}
  }
 ]
}