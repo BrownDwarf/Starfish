{
 "metadata": {
  "name": "",
  "signature": "sha256:444c01f3b34cabbaca87b4a97c7c0316089dfb913e47bc1ddbdefd6a11a18691"
 },
 "nbformat": 3,
 "nbformat_minor": 0,
 "worksheets": [
  {
   "cells": [
    {
     "cell_type": "markdown",
     "metadata": {},
     "source": [
      "Code to help generate masks for a Data Spectrum."
     ]
    },
    {
     "cell_type": "code",
     "collapsed": false,
     "input": [
      "import matplotlib.pyplot as plt\n",
      "import numpy as np"
     ],
     "language": "python",
     "metadata": {},
     "outputs": [],
     "prompt_number": 1
    },
    {
     "cell_type": "code",
     "collapsed": false,
     "input": [
      "def update_mask(mask, wl, wl_range):\n",
      "    '''\n",
      "    Given the current mask, wl array, and two new wl_ranges, update the mask to include these indices as False.\n",
      "    '''\n",
      "    assert mask.shape == wl.shape, \"mask and wl are not the same shape\"\n",
      "    assert len(mask.shape) == 1, \"arrays must be 1-D\"\n",
      "\n",
      "    wl0,wl1 = wl_range\n",
      "    assert wl0 < wl1, \"wl_range must span a positive wl range\"\n",
      "    ind = (wl >= wl0) & (wl <= wl1) #select all of the indices between the two wl bounds\n",
      "    mask[ind] = np.zeros(np.sum(ind), dtype='bool') #set these elements in the mask to False\n",
      "    \n",
      "    return mask\n",
      "\n",
      "def update_mask_list(mask, wl, wl_ranges):\n",
      "    '''\n",
      "    Run `update_mask` on the list of wl_ranges provided.\n",
      "    '''\n",
      "    for wl_range in wl_ranges:\n",
      "        mask = update_mask(mask, wl, wl_range)\n",
      "        \n",
      "    return mask"
     ],
     "language": "python",
     "metadata": {},
     "outputs": [],
     "prompt_number": 2
    },
    {
     "cell_type": "code",
     "collapsed": false,
     "input": [
      "from StellarSpectra.spectrum import DataSpectrum\n",
      "#mySpec = DataSpectrum.open(\"../data/WASP14/WASP14-2009-06-14.hdf5\", orders=[22])\n",
      "#mySpec = DataSpectrum.open(\"../data/WASP14/WASP14-2009-06-14.hdf5\", orders=[23])\n",
      "mySpec = DataSpectrum.open(\"../data/Gl51/Gl51RA.hdf5\", orders=[0])"
     ],
     "language": "python",
     "metadata": {},
     "outputs": [],
     "prompt_number": 3
    },
    {
     "cell_type": "code",
     "collapsed": false,
     "input": [
      "wl = mySpec.wls[0]\n",
      "fl = mySpec.fls[0]\n",
      "mask = mySpec.masks[0]"
     ],
     "language": "python",
     "metadata": {},
     "outputs": [],
     "prompt_number": 4
    },
    {
     "cell_type": "code",
     "collapsed": false,
     "input": [
      "#For PHOENIX, WASP14, order 23\n",
      "region_list = [[5142.5, 5143.2],\n",
      "               [5150.4, 5151.],\n",
      "               [5151.55, 5152.05],\n",
      "               [5166.7, 5167.6],\n",
      "               [5168.7, 5169.6],\n",
      "               [5170.3, 5171.8],\n",
      "               [5176.5, 5177.4],\n",
      "               [5178.2, 5179.1],\n",
      "               [5179.6, 5180.25],\n",
      "               [5187.5, 5188.1],\n",
      "               [5188.45, 5189.15],\n",
      "               [5194.55, 5195.2],\n",
      "               [5198.3, 5198.9],\n",
      "               [5201.75, 5202.65],\n",
      "               [5211.35, 5212.25],\n",
      "               [5215.0, 5218.5],\n",
      "               [5235.0, 5235.56]           \n",
      "               ]\n",
      "\n",
      "new_mask = update_mask_list(mask, wl, region_list)\n",
      "np.save(\"WASP14_23.mask.npy\", new_mask)"
     ],
     "language": "python",
     "metadata": {},
     "outputs": [],
     "prompt_number": 5
    },
    {
     "cell_type": "code",
     "collapsed": false,
     "input": [
      "#For PHOENIX, WASP14, order 24\n",
      "region_list = [[5234.7, 5236.7],\n",
      "               [5245.1, 5246.4],\n",
      "               [5250.25, 5250.9],\n",
      "               [5258.2, 5259.4],\n",
      "               [5260.1, 5261.1],\n",
      "               [5267.9, 5270.6],\n",
      "               [5288.1, 5288.8],\n",
      "               [5292.0, 5293.0]\n",
      "               ]\n",
      "\n",
      "new_mask = update_mask_list(mask, wl, region_list)\n",
      "np.save(\"WASP14_24.mask.npy\", new_mask)"
     ],
     "language": "python",
     "metadata": {},
     "outputs": [],
     "prompt_number": 7
    },
    {
     "cell_type": "code",
     "collapsed": false,
     "input": [
      "#For PHOENIX, Gl51\n",
      "region_list = [[22020, 22120], #Na I\n",
      "               [22580, 22690]] #Ca I\n",
      "new_mask = update_mask_list(mask, wl, region_list)\n",
      "np.save(\"Gl51RA.mask.npy\", new_mask)"
     ],
     "language": "python",
     "metadata": {},
     "outputs": [],
     "prompt_number": 5
    },
    {
     "cell_type": "code",
     "collapsed": false,
     "input": [
      "import matplotlib.pyplot as plt"
     ],
     "language": "python",
     "metadata": {},
     "outputs": [],
     "prompt_number": 6
    },
    {
     "cell_type": "code",
     "collapsed": false,
     "input": [
      "plt.plot(wl, new_mask)\n",
      "plt.show()"
     ],
     "language": "python",
     "metadata": {},
     "outputs": [],
     "prompt_number": 7
    },
    {
     "cell_type": "code",
     "collapsed": false,
     "input": [],
     "language": "python",
     "metadata": {},
     "outputs": []
    }
   ],
   "metadata": {}
  }
 ]
}