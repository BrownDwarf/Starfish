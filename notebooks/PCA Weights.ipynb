{
 "metadata": {
  "name": "",
  "signature": "sha256:5530c6a2433012f22d8035397fb66ca45b98672f6c09dec6b34722d5011f7d04"
 },
 "nbformat": 3,
 "nbformat_minor": 0,
 "worksheets": [
  {
   "cells": [
    {
     "cell_type": "code",
     "collapsed": false,
     "input": [
      "from Starfish import emulator"
     ],
     "language": "python",
     "metadata": {},
     "outputs": [
      {
       "output_type": "stream",
       "stream": "stdout",
       "text": [
        "Using 112 spectra with Npix = 2067\n",
        "Shape of PCA components (112, 2067)"
       ]
      },
      {
       "output_type": "stream",
       "stream": "stdout",
       "text": [
        "\n",
        "Keeping only the first 5 components\n"
       ]
      }
     ],
     "prompt_number": 1
    },
    {
     "cell_type": "code",
     "collapsed": false,
     "input": [
      "import matplotlib.pyplot as plt"
     ],
     "language": "python",
     "metadata": {},
     "outputs": [],
     "prompt_number": 7
    },
    {
     "cell_type": "code",
     "collapsed": false,
     "input": [
      "w = emulator.get_w()"
     ],
     "language": "python",
     "metadata": {},
     "outputs": [],
     "prompt_number": 2
    },
    {
     "cell_type": "code",
     "collapsed": false,
     "input": [
      "len(w)"
     ],
     "language": "python",
     "metadata": {},
     "outputs": [
      {
       "metadata": {},
       "output_type": "pyout",
       "prompt_number": 3,
       "text": [
        "560"
       ]
      }
     ],
     "prompt_number": 3
    },
    {
     "cell_type": "code",
     "collapsed": false,
     "input": [
      "w1 = w[:112]\n",
      "w2 = w[112:224]\n",
      "w3 = w[224:326]\n",
      "w4 = w[326:438]\n",
      "w5 = w[438:]"
     ],
     "language": "python",
     "metadata": {},
     "outputs": [],
     "prompt_number": 24
    },
    {
     "cell_type": "code",
     "collapsed": false,
     "input": [
      "gparams = emulator.gparams\n",
      "len(gparams)"
     ],
     "language": "python",
     "metadata": {},
     "outputs": [
      {
       "metadata": {},
       "output_type": "pyout",
       "prompt_number": 15,
       "text": [
        "112"
       ]
      }
     ],
     "prompt_number": 15
    },
    {
     "cell_type": "code",
     "collapsed": false,
     "input": [
      "temp = gparams[:,0]"
     ],
     "language": "python",
     "metadata": {},
     "outputs": [],
     "prompt_number": 17
    },
    {
     "cell_type": "code",
     "collapsed": false,
     "input": [
      "plt.plot(gparams[:4,2], w1[:4], \"o\")\n",
      "plt.plot(gparams[:4,2], w2[:4], \"o\")\n",
      "plt.plot(gparams[:4,2], w3[:4], \"o\")\n",
      "plt.plot(gparams[:4,2], w4[:4], \"o\")\n",
      "plt.plot(gparams[:4,2], w5[:4], \"o\")\n",
      "plt.xlabel(\"Metallicity\")\n",
      "plt.show()"
     ],
     "language": "python",
     "metadata": {},
     "outputs": [
      {
       "output_type": "stream",
       "stream": "stderr",
       "text": [
        "/usr/lib/python3.4/site-packages/matplotlib/texmanager.py:575: DeprecationWarning: npy_PyFile_Dup is deprecated, use npy_PyFile_Dup2\n",
        "  X = read_png(os.path.join(self.texcache, pngfile))\n",
        "/usr/lib/python3.4/site-packages/matplotlib/texmanager.py:575: DeprecationWarning: npy_PyFile_Dup is deprecated, use npy_PyFile_Dup2\n",
        "  X = read_png(os.path.join(self.texcache, pngfile))\n",
        "/usr/lib/python3.4/site-packages/matplotlib/texmanager.py:575: DeprecationWarning: npy_PyFile_Dup is deprecated, use npy_PyFile_Dup2\n",
        "  X = read_png(os.path.join(self.texcache, pngfile))\n",
        "/usr/lib/python3.4/site-packages/matplotlib/texmanager.py:575: DeprecationWarning: npy_PyFile_Dup is deprecated, use npy_PyFile_Dup2\n",
        "  X = read_png(os.path.join(self.texcache, pngfile))\n",
        "/usr/lib/python3.4/site-packages/matplotlib/texmanager.py:575: DeprecationWarning: npy_PyFile_Dup is deprecated, use npy_PyFile_Dup2\n",
        "  X = read_png(os.path.join(self.texcache, pngfile))\n"
       ]
      },
      {
       "output_type": "stream",
       "stream": "stderr",
       "text": [
        "/usr/lib/python3.4/site-packages/matplotlib/texmanager.py:575: DeprecationWarning: npy_PyFile_Dup is deprecated, use npy_PyFile_Dup2\n",
        "  X = read_png(os.path.join(self.texcache, pngfile))\n",
        "/usr/lib/python3.4/site-packages/matplotlib/texmanager.py:575: DeprecationWarning: npy_PyFile_Dup is deprecated, use npy_PyFile_Dup2\n",
        "  X = read_png(os.path.join(self.texcache, pngfile))\n",
        "/usr/lib/python3.4/site-packages/matplotlib/texmanager.py:575: DeprecationWarning: npy_PyFile_Dup is deprecated, use npy_PyFile_Dup2\n",
        "  X = read_png(os.path.join(self.texcache, pngfile))\n",
        "/usr/lib/python3.4/site-packages/matplotlib/texmanager.py:575: DeprecationWarning: npy_PyFile_Dup is deprecated, use npy_PyFile_Dup2\n",
        "  X = read_png(os.path.join(self.texcache, pngfile))\n",
        "/usr/lib/python3.4/site-packages/matplotlib/texmanager.py:575: DeprecationWarning: npy_PyFile_Dup is deprecated, use npy_PyFile_Dup2\n",
        "  X = read_png(os.path.join(self.texcache, pngfile))\n",
        "/usr/lib/python3.4/site-packages/matplotlib/texmanager.py:575: DeprecationWarning: npy_PyFile_Dup is deprecated, use npy_PyFile_Dup2\n",
        "  X = read_png(os.path.join(self.texcache, pngfile))\n",
        "/usr/lib/python3.4/site-packages/matplotlib/texmanager.py:575: DeprecationWarning: npy_PyFile_Dup is deprecated, use npy_PyFile_Dup2\n",
        "  X = read_png(os.path.join(self.texcache, pngfile))\n",
        "/usr/lib/python3.4/site-packages/matplotlib/backends/backend_agg.py:517: DeprecationWarning: npy_PyFile_Dup is deprecated, use npy_PyFile_Dup2\n",
        "  filename_or_obj, self.figure.dpi)\n"
       ]
      }
     ],
     "prompt_number": 25
    },
    {
     "cell_type": "code",
     "collapsed": false,
     "input": [],
     "language": "python",
     "metadata": {},
     "outputs": []
    }
   ],
   "metadata": {}
  }
 ]
}