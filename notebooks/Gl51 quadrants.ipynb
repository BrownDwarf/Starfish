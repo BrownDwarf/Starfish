{
 "metadata": {
  "name": "",
  "signature": "sha256:f50c0edb905bc00e91b355569186b8256e78e61bab65984e0066cf4b180644d4"
 },
 "nbformat": 3,
 "nbformat_minor": 0,
 "worksheets": [
  {
   "cells": [
    {
     "cell_type": "markdown",
     "metadata": {},
     "source": [
      "Plot showing how many pixels have a non-monotonic kink"
     ]
    },
    {
     "cell_type": "code",
     "collapsed": false,
     "input": [
      "import matplotlib.pyplot as plt\n",
      "import numpy as np\n",
      "from StellarSpectra.model import Model\n",
      "from StellarSpectra.spectrum import DataSpectrum\n",
      "from StellarSpectra.grid_tools import SPEX, HDF5Interface\n",
      "import scipy.sparse as sp\n",
      "import numpy as np"
     ],
     "language": "python",
     "metadata": {},
     "outputs": [],
     "prompt_number": 1
    },
    {
     "cell_type": "code",
     "collapsed": false,
     "input": [
      "myDataSpectrum = DataSpectrum.open(\"../data/Gl51/Gl51RA.hdf5\")\n",
      "\n",
      "myInstrument = SPEX()\n",
      "\n",
      "myHDF5Interface = HDF5Interface(\"../libraries/PHOENIX_SPEX_M.hdf5\")\n",
      "errorHDF5Interface = HDF5Interface(\"../libraries/PHOENIX_SPEX_M.hdf5\")\n",
      "\n",
      "myModel = Model(myDataSpectrum, myInstrument, myHDF5Interface, errorHDF5Interface, \n",
      "                stellar_tuple=(\"temp\", \"logg\", \"Z\", \"vsini\", \"vz\", \"logOmega\"), \n",
      "                cheb_tuple=(\"logc0\", \"c1\", \"c2\", \"c3\"), cov_tuple=(\"sigAmp\", \"logAmp\", \"l\"), \n",
      "                region_tuple=(\"loga\", \"mu\", \"sigma\"))\n",
      "myOrderModel = myModel.OrderModels[0]"
     ],
     "language": "python",
     "metadata": {},
     "outputs": [
      {
       "output_type": "stream",
       "stream": "stdout",
       "text": [
        "Determine Chunk Log: Wl is 2048\n",
        "Determine Chunk Log: Wl is 2048\n",
        "Creating OrderModel 0\n"
       ]
      }
     ],
     "prompt_number": 3
    },
    {
     "cell_type": "code",
     "collapsed": false,
     "input": [
      "spec = myModel.get_data()\n",
      "wl = spec.wls[0]\n",
      "fl = spec.fls[0]\n",
      "mask = spec.masks[0]"
     ],
     "language": "python",
     "metadata": {},
     "outputs": [],
     "prompt_number": 40
    },
    {
     "cell_type": "code",
     "collapsed": false,
     "input": [
      "#First pass at actually plotting the model\n",
      "params = {\"temp\":3000, \"logg\":5.0, \"Z\":0.0, \"vsini\":4, \"vz\":0, \"logOmega\":-19.62}\n",
      "myModel.update_Model(params)\n",
      "flp00 = myOrderModel.get_spectrum()\n",
      "flp00 /= np.mean(flp00)"
     ],
     "language": "python",
     "metadata": {},
     "outputs": [],
     "prompt_number": 9
    },
    {
     "cell_type": "code",
     "collapsed": false,
     "input": [
      "params = {\"temp\":3000, \"logg\":5.0, \"Z\":-0.5, \"vsini\":4, \"vz\":0, \"logOmega\":-19.62}\n",
      "myModel.update_Model(params)\n",
      "flm05 = myOrderModel.get_spectrum()\n",
      "flm05 /= np.mean(flm05)"
     ],
     "language": "python",
     "metadata": {},
     "outputs": [],
     "prompt_number": 10
    },
    {
     "cell_type": "code",
     "collapsed": false,
     "input": [
      "params = {\"temp\":3000, \"logg\":5.0, \"Z\":0.5, \"vsini\":4, \"vz\":0, \"logOmega\":-19.62}\n",
      "myModel.update_Model(params)\n",
      "flp05 = myOrderModel.get_spectrum()\n",
      "flp05 /= np.mean(flp05)"
     ],
     "language": "python",
     "metadata": {},
     "outputs": [],
     "prompt_number": 11
    },
    {
     "cell_type": "code",
     "collapsed": false,
     "input": [
      "d1 = flp00 - flm05\n",
      "d2 = flp05 - flp00"
     ],
     "language": "python",
     "metadata": {},
     "outputs": [],
     "prompt_number": 12
    },
    {
     "cell_type": "code",
     "collapsed": false,
     "input": [
      "fig = plt.figure(figsize=(6,6))\n",
      "ax = fig.add_subplot(111)\n",
      "ax.axvline(0.0, ls=\":\", color=\"k\")\n",
      "ax.axhline(0.0, ls=\":\", color=\"k\")\n",
      "ax.scatter(d1,d2)\n",
      "ax.set_xlabel(r\"$-0.5 \\rightarrow 0.0$\")\n",
      "ax.set_ylabel(r\"$0.0 \\rightarrow 0.5$\")\n",
      "ax.set_ylim(-0.04, 0.04)\n",
      "ax.set_xlim(-0.04, 0.04)\n",
      "fig.subplots_adjust(left=0.2)\n",
      "plt.show()"
     ],
     "language": "python",
     "metadata": {},
     "outputs": [],
     "prompt_number": 22
    },
    {
     "cell_type": "code",
     "collapsed": false,
     "input": [
      "ind = ((d1 > 0) & (d2 < 0)) | ((d1 < 0) & (d2 > 0))"
     ],
     "language": "python",
     "metadata": {},
     "outputs": [],
     "prompt_number": 31
    },
    {
     "cell_type": "code",
     "collapsed": false,
     "input": [
      "np.sum(ind)/len(d1)"
     ],
     "language": "python",
     "metadata": {},
     "outputs": [
      {
       "metadata": {},
       "output_type": "pyout",
       "prompt_number": 34,
       "text": [
        "0.083188908145580595"
       ]
      }
     ],
     "prompt_number": 34
    },
    {
     "cell_type": "markdown",
     "metadata": {},
     "source": [
      "About 8% of all pixels in this spectrum show non-monotonic behavior. "
     ]
    },
    {
     "cell_type": "code",
     "collapsed": false,
     "input": [
      "plt.plot(wl, flp00, \"b\")\n",
      "plt.plot(wl[ind], flp00[ind], \"r\")\n",
      "plt.show()"
     ],
     "language": "python",
     "metadata": {},
     "outputs": [],
     "prompt_number": 42
    },
    {
     "cell_type": "code",
     "collapsed": false,
     "input": [
      "plt.plot(wl, flm05)\n",
      "plt.plot(wl, flp00)\n",
      "plt.plot(wl, flp05)\n",
      "plt.show()"
     ],
     "language": "python",
     "metadata": {},
     "outputs": [],
     "prompt_number": 43
    },
    {
     "cell_type": "code",
     "collapsed": false,
     "input": [
      "fls = np.vstack((flm05, flp00, flp05))\n",
      "stds = np.std(fls, axis=0)\n",
      "plt.plot(wl, stds)\n",
      "plt.show()"
     ],
     "language": "python",
     "metadata": {},
     "outputs": [],
     "prompt_number": 45
    },
    {
     "cell_type": "code",
     "collapsed": false,
     "input": [],
     "language": "python",
     "metadata": {},
     "outputs": []
    }
   ],
   "metadata": {}
  }
 ]
}