{
 "metadata": {
  "name": "",
  "signature": "sha256:fb517b9c1109082f292d6b79d3c117f3f0081872c6c09a2ae14b6fc3597ce23a"
 },
 "nbformat": 3,
 "nbformat_minor": 0,
 "worksheets": [
  {
   "cells": [
    {
     "cell_type": "markdown",
     "metadata": {},
     "source": [
      "#Or, \"WTF is up with those Z=0 and Z=-0.5 grid points showing up in my posterior?\""
     ]
    },
    {
     "cell_type": "code",
     "collapsed": false,
     "input": [
      "%matplotlib\n",
      "import matplotlib.pyplot as plt\n",
      "import numpy as np\n",
      "from IPython.html import widgets # Widget definitions\n",
      "from IPython.display import display, clear_output, HTML # Used to display widgets in the notebook\n",
      "from IPython.html.widgets import interact, interactive, fixed"
     ],
     "language": "python",
     "metadata": {},
     "outputs": [
      {
       "output_type": "stream",
       "stream": "stdout",
       "text": [
        "Using matplotlib backend: Qt4Agg\n"
       ]
      }
     ],
     "prompt_number": 1
    },
    {
     "cell_type": "code",
     "collapsed": false,
     "input": [
      "from StellarSpectra.model import Model\n",
      "from StellarSpectra.spectrum import DataSpectrum\n",
      "from StellarSpectra.grid_tools import TRES, SPEX, HDF5Interface\n",
      "from StellarSpectra.utils import saveall\n",
      "import scipy.sparse as sp\n",
      "import numpy as np\n",
      "\n",
      "myDataSpectrum = DataSpectrum.open(\"../data/WASP14/WASP14-2009-06-14.hdf5\", orders=np.array([22]))\n",
      "myInstrument = TRES()\n",
      "myHDF5Interface = HDF5Interface(\"../libraries/PHOENIX_TRES_F.hdf5\")"
     ],
     "language": "python",
     "metadata": {},
     "outputs": [],
     "prompt_number": 2
    },
    {
     "cell_type": "code",
     "collapsed": false,
     "input": [
      "#Or, instantiate and tweak parameters\n",
      "myModel = Model(myDataSpectrum, myInstrument, myHDF5Interface, stellar_tuple=(\"temp\", \"logg\", \"Z\", \"vsini\", \"vz\", \"logOmega\"), \n",
      "                cheb_tuple=(\"logc0\",\"c1\", \"c2\", \"c3\"), cov_tuple=(\"sigAmp\", \"logAmp\", \"l\"), region_tuple=(\"loga\", \"mu\", \"sigma\"))\n",
      "myOrderModel = myModel.OrderModels[0]"
     ],
     "language": "python",
     "metadata": {},
     "outputs": [
      {
       "output_type": "stream",
       "stream": "stdout",
       "text": [
        "Determine Chunk Log: Wl is 8192\n",
        "Creating OrderModel 0\n",
        "Deallocating Covariance Matrix\n",
        "Deallocating GlobalCovarianceMatrix\n",
        "Deallocating Common\n"
       ]
      }
     ],
     "prompt_number": 7
    },
    {
     "cell_type": "code",
     "collapsed": false,
     "input": [
      "spec = myModel.get_data()\n",
      "wl = spec.wls[0]\n",
      "fl = spec.fls[0]\n",
      "mask = spec.masks[0]"
     ],
     "language": "python",
     "metadata": {},
     "outputs": [],
     "prompt_number": 5
    },
    {
     "cell_type": "code",
     "collapsed": false,
     "input": [
      "params0 = {'temp': 6273., 'vz': 0., 'logOmega': 1.0, \n",
      "          'Z': 0.0, 'vsini': 5., 'logg': 4.29}\n",
      "\n",
      "params1 = {'temp': 6273., 'vz': 0., 'logOmega': 1.0, \n",
      "          'Z': -0.5, 'vsini': 5., 'logg': 4.29}\n",
      "\n",
      "params2 = {'temp': 6273., 'vz': 0., 'logOmega': 1.0, \n",
      "          'Z': -1.0, 'vsini': 5., 'logg': 4.29}"
     ],
     "language": "python",
     "metadata": {},
     "outputs": [],
     "prompt_number": 6
    },
    {
     "cell_type": "code",
     "collapsed": false,
     "input": [
      "myModel.update_Model(params0)\n",
      "fl0 = myOrderModel.get_spectrum()"
     ],
     "language": "python",
     "metadata": {},
     "outputs": [],
     "prompt_number": 10
    },
    {
     "cell_type": "code",
     "collapsed": false,
     "input": [
      "myModel.update_Model(params1)\n",
      "fl1 = myOrderModel.get_spectrum()"
     ],
     "language": "python",
     "metadata": {},
     "outputs": [],
     "prompt_number": 11
    },
    {
     "cell_type": "code",
     "collapsed": false,
     "input": [
      "myModel.update_Model(params2)\n",
      "fl2 = myOrderModel.get_spectrum()"
     ],
     "language": "python",
     "metadata": {},
     "outputs": [],
     "prompt_number": 12
    },
    {
     "cell_type": "code",
     "collapsed": false,
     "input": [
      "fig, ax = plt.subplots(nrows=3, sharex=True)\n",
      "\n",
      "ax[0].plot(wl, fl0 - fl1)\n",
      "\n",
      "ax[1].plot(wl, fl2 - fl1)\n",
      "\n",
      "ax[2].plot(wl, fl2 - fl0)\n",
      "\n",
      "plt.show()"
     ],
     "language": "python",
     "metadata": {},
     "outputs": [],
     "prompt_number": 17
    },
    {
     "cell_type": "code",
     "collapsed": false,
     "input": [
      "#Try plotting all three at once\n",
      "fig, ax = plt.subplots(nrows=2)\n",
      "\n",
      "ax[0].plot(wl, fl0, label=\"Z 0.0\")\n",
      "ax[0].plot(wl, fl1, label=\"Z -0.5\")\n",
      "ax[0].plot(wl, fl2, label=\"Z -1.0\")\n",
      "\n",
      "plt.show()"
     ],
     "language": "python",
     "metadata": {},
     "outputs": [],
     "prompt_number": 18
    },
    {
     "cell_type": "code",
     "collapsed": false,
     "input": [],
     "language": "python",
     "metadata": {},
     "outputs": []
    }
   ],
   "metadata": {}
  }
 ]
}