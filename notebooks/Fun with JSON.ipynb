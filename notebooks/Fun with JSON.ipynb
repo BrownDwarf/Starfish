{
 "metadata": {
  "name": "",
  "signature": "sha256:3221e9cbb1e79996837e5fb8f9f89ad60f7fc85f1790a2881aa23d9355825f8e"
 },
 "nbformat": 3,
 "nbformat_minor": 0,
 "worksheets": [
  {
   "cells": [
    {
     "cell_type": "markdown",
     "metadata": {},
     "source": [
      "#Fun with JSON\n",
      "\n",
      "This is to explore how easy/hard it might be to serialize spectra into JSON. Conclusion: there is no baked in support to easily convert numpy arrays to json. It wouldn't be too hard to write a conversion routine that does this as lists, though.\n",
      "\n",
      "This will be a nice way to output the status of a model, however, since they do not really require arrays."
     ]
    },
    {
     "cell_type": "code",
     "collapsed": false,
     "input": [
      "import numpy as np\n",
      "import json"
     ],
     "language": "python",
     "metadata": {},
     "outputs": [],
     "prompt_number": 1
    },
    {
     "cell_type": "code",
     "collapsed": false,
     "input": [
      "class Model:\n",
      "    @classmethod\n",
      "    def loads(cls, mydict):\n",
      "        '''\n",
      "        Instantiate from dictionary\n",
      "        \n",
      "        '''\n",
      "        name = mydict['name']\n",
      "        tempcls = cls(name)\n",
      "        tempcls.__dict__.update(mydict)\n",
      "        return tempcls\n",
      "    \n",
      "    def __init__(self, name):\n",
      "        self.name = name\n",
      "        self.order = 22\n",
      "        self.stellar_params = {\"temp\":6200, \"logg\":3.0}\n",
      "\n",
      "\n",
      "class ModelEncoder(json.JSONEncoder):\n",
      "    '''\n",
      "    Designed to serialize an instance of o=Model() to JSON\n",
      "    '''\n",
      "    def default(self, o):\n",
      "        try:\n",
      "            #We turn Model into a hierarchical dictionary, which will serialize to JSON\n",
      "            mydict = {\"name\": o.name, \"orders\": {o.order: {\"stellar_params\": o.stellar_params}}}\n",
      "        except TypeError:\n",
      "            pass\n",
      "        else:\n",
      "            return mydict\n",
      "        # Let the base class default method raise the TypeError\n",
      "        return json.JSONEncoder.default(self, o)"
     ],
     "language": "python",
     "metadata": {},
     "outputs": [],
     "prompt_number": 10
    },
    {
     "cell_type": "code",
     "collapsed": false,
     "input": [
      "model = Model(\"WASP14\")\n",
      "\n",
      "f = open(\"out.json\", 'w')\n",
      "out = json.dump(model, f, cls=ModelEncoder, indent=2, sort_keys=True)\n",
      "f.close()"
     ],
     "language": "python",
     "metadata": {},
     "outputs": [],
     "prompt_number": 11
    },
    {
     "cell_type": "code",
     "collapsed": false,
     "input": [
      "read = json.load(open(\"out.json\", 'r'))"
     ],
     "language": "python",
     "metadata": {},
     "outputs": [],
     "prompt_number": 12
    },
    {
     "cell_type": "code",
     "collapsed": false,
     "input": [
      "read"
     ],
     "language": "python",
     "metadata": {},
     "outputs": [
      {
       "metadata": {},
       "output_type": "pyout",
       "prompt_number": 13,
       "text": [
        "{'name': 'WASP14',\n",
        " 'orders': {'22': {'stellar_params': {'logg': 3.0, 'temp': 6200}}}}"
       ]
      }
     ],
     "prompt_number": 13
    },
    {
     "cell_type": "code",
     "collapsed": false,
     "input": [
      "myModel = Model.loads(read)"
     ],
     "language": "python",
     "metadata": {},
     "outputs": [],
     "prompt_number": 15
    },
    {
     "cell_type": "code",
     "collapsed": false,
     "input": [
      "print(myModel.name)\n",
      "print(myModel.stellar_params)"
     ],
     "language": "python",
     "metadata": {},
     "outputs": [
      {
       "output_type": "stream",
       "stream": "stdout",
       "text": [
        "WASP14\n",
        "{'logg': 3.0, 'temp': 6200}\n"
       ]
      }
     ],
     "prompt_number": 18
    },
    {
     "cell_type": "code",
     "collapsed": false,
     "input": [],
     "language": "python",
     "metadata": {},
     "outputs": []
    }
   ],
   "metadata": {}
  }
 ]
}