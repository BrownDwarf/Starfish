{
 "metadata": {
  "name": "",
  "signature": "sha256:44c85abc82f38173c4193c00473095c66ee738eb3718358ff9efff4cee10ee9a"
 },
 "nbformat": 3,
 "nbformat_minor": 0,
 "worksheets": [
  {
   "cells": [
    {
     "cell_type": "code",
     "collapsed": false,
     "input": [
      "%load_ext autoreload\n",
      "%autoreload 2"
     ],
     "language": "python",
     "metadata": {},
     "outputs": []
    },
    {
     "cell_type": "code",
     "collapsed": false,
     "input": [
      "from Starfish import emulator\n",
      "import numpy as np\n",
      "import matplotlib.pyplot as plt\n",
      "from matplotlib.ticker import FormatStrFormatter as FSF\n",
      "from matplotlib.ticker import MaxNLocator\n",
      "from matplotlib.ticker import MultipleLocator"
     ],
     "language": "python",
     "metadata": {},
     "outputs": []
    },
    {
     "cell_type": "code",
     "collapsed": false,
     "input": [
      "from Starfish.grid_tools import HDF5Interface"
     ],
     "language": "python",
     "metadata": {},
     "outputs": [],
     "prompt_number": 26
    },
    {
     "cell_type": "code",
     "collapsed": false,
     "input": [
      "interface = HDF5Interface(cfg[\"grid\"], ranges=cfg[\"ranges\"])\n",
      "wl = interface.wl"
     ],
     "language": "python",
     "metadata": {},
     "outputs": [],
     "prompt_number": 27
    },
    {
     "cell_type": "code",
     "collapsed": false,
     "input": [
      "np.sum((wl > 20033) & (wl < 24000))\n"
     ],
     "language": "python",
     "metadata": {},
     "outputs": [
      {
       "metadata": {},
       "output_type": "pyout",
       "prompt_number": 35,
       "text": [
        "2048"
       ]
      }
     ],
     "prompt_number": 35
    },
    {
     "cell_type": "code",
     "collapsed": false,
     "input": [
      "print([2**i for i in range(20)])"
     ],
     "language": "python",
     "metadata": {},
     "outputs": [
      {
       "output_type": "stream",
       "stream": "stdout",
       "text": [
        "[1, 2, 4, 8, 16, 32, 64, 128, 256, 512, 1024, 2048, 4096, 8192, 16384, 32768, 65536, 131072, 262144, 524288]\n"
       ]
      }
     ],
     "prompt_number": 23
    },
    {
     "cell_type": "code",
     "collapsed": false,
     "input": [
      "#Configuration dictionary\n",
      "cfg = {\"grid\": \"../libraries/PHOENIX_SPEX_M.hdf5\",\n",
      "       \"ranges\": {\"temp\": [2800, 3400], \"logg\": [4.5, 6.0], \"Z\": [-0.5, 1.0], \"alpha\": [0.0, 0.0]},\n",
      "       \"wl\" : [20010, 24000],\n",
      "       \"test_index\" : 500,\n",
      "       \"outdir\" : \"output/emulator/Gl51/\",\n",
      "       \"ncomp\" : 5}"
     ],
     "language": "python",
     "metadata": {},
     "outputs": [],
     "prompt_number": 24
    },
    {
     "cell_type": "code",
     "collapsed": false,
     "input": [],
     "language": "python",
     "metadata": {},
     "outputs": []
    },
    {
     "cell_type": "code",
     "collapsed": false,
     "input": [
      "pcagrid = emulator.PCAGrid(cfg)"
     ],
     "language": "python",
     "metadata": {},
     "outputs": []
    },
    {
     "cell_type": "code",
     "collapsed": false,
     "input": [
      "#Load individual samples and then concatenate them\n",
      "base = \"../output/emulator/Gl51/\"\n",
      "samples = np.array([np.load(base + \"samples_w{}.npy\".format(i)) for i in range(5)])\n",
      "samples.shape"
     ],
     "language": "python",
     "metadata": {},
     "outputs": []
    },
    {
     "cell_type": "code",
     "collapsed": false,
     "input": [
      "np.save(\"../output/emulator/Gl51/samples.npy\", samples)"
     ],
     "language": "python",
     "metadata": {},
     "outputs": [],
     "prompt_number": 20
    },
    {
     "cell_type": "code",
     "collapsed": false,
     "input": [
      "#Set up the emulator\n",
      "EM = emulator.Emulator(pcagrid, samples)"
     ],
     "language": "python",
     "metadata": {},
     "outputs": []
    },
    {
     "cell_type": "code",
     "collapsed": false,
     "input": [
      "specs = [EM(np.array([3010, 5.1, 0.1])) for i in range(10)]\n",
      "for spec in specs:\n",
      "    plt.plot(pcagrid.wl, spec, \"k\", lw=0.2)\n",
      "    \n",
      "plt.show()"
     ],
     "language": "python",
     "metadata": {},
     "outputs": []
    },
    {
     "cell_type": "code",
     "collapsed": false,
     "input": [
      "%timeit EM(np.array([3010, 5.1, 0.1]))"
     ],
     "language": "python",
     "metadata": {},
     "outputs": [
      {
       "output_type": "stream",
       "stream": "stderr",
       "text": [
        "/home/ian/Grad/Research/Disks/Starfish/Starfish/emulator.py:422: DeprecationWarning: using a non-integer number instead of an integer will result in an error in the future\n",
        "  return np.random.multivariate_normal(self.mu, self.sig)\n",
        "/home/ian/Grad/Research/Disks/Starfish/Starfish/emulator.py:422: DeprecationWarning: using a non-integer number instead of an integer will result in an error in the future\n",
        "  return np.random.multivariate_normal(self.mu, self.sig)\n",
        "/home/ian/Grad/Research/Disks/Starfish/Starfish/emulator.py:422: DeprecationWarning: using a non-integer number instead of an integer will result in an error in the future\n",
        "  return np.random.multivariate_normal(self.mu, self.sig)\n",
        "/home/ian/Grad/Research/Disks/Starfish/Starfish/emulator.py:422: DeprecationWarning: using a non-integer number instead of an integer will result in an error in the future\n",
        "  return np.random.multivariate_normal(self.mu, self.sig)\n",
        "/home/ian/Grad/Research/Disks/Starfish/Starfish/emulator.py:422: DeprecationWarning: using a non-integer number instead of an integer will result in an error in the future\n",
        "  return np.random.multivariate_normal(self.mu, self.sig)\n"
       ]
      },
      {
       "output_type": "stream",
       "stream": "stderr",
       "text": [
        "/home/ian/Grad/Research/Disks/Starfish/Starfish/emulator.py:422: DeprecationWarning: using a non-integer number instead of an integer will result in an error in the future\n",
        "  return np.random.multivariate_normal(self.mu, self.sig)\n",
        "/home/ian/Grad/Research/Disks/Starfish/Starfish/emulator.py:422: DeprecationWarning: using a non-integer number instead of an integer will result in an error in the future\n",
        "  return np.random.multivariate_normal(self.mu, self.sig)\n",
        "/home/ian/Grad/Research/Disks/Starfish/Starfish/emulator.py:422: DeprecationWarning: using a non-integer number instead of an integer will result in an error in the future\n",
        "  return np.random.multivariate_normal(self.mu, self.sig)\n",
        "/home/ian/Grad/Research/Disks/Starfish/Starfish/emulator.py:422: DeprecationWarning: using a non-integer number instead of an integer will result in an error in the future\n",
        "  return np.random.multivariate_normal(self.mu, self.sig)\n"
       ]
      },
      {
       "output_type": "stream",
       "stream": "stderr",
       "text": [
        "/home/ian/Grad/Research/Disks/Starfish/Starfish/emulator.py:422: DeprecationWarning: using a non-integer number instead of an integer will result in an error in the future\n",
        "  return np.random.multivariate_normal(self.mu, self.sig)\n",
        "/home/ian/Grad/Research/Disks/Starfish/Starfish/emulator.py:422: DeprecationWarning: using a non-integer number instead of an integer will result in an error in the future\n",
        "  return np.random.multivariate_normal(self.mu, self.sig)\n",
        "/home/ian/Grad/Research/Disks/Starfish/Starfish/emulator.py:422: DeprecationWarning: using a non-integer number instead of an integer will result in an error in the future\n",
        "  return np.random.multivariate_normal(self.mu, self.sig)\n",
        "/home/ian/Grad/Research/Disks/Starfish/Starfish/emulator.py:422: DeprecationWarning: using a non-integer number instead of an integer will result in an error in the future\n",
        "  return np.random.multivariate_normal(self.mu, self.sig)\n"
       ]
      },
      {
       "output_type": "stream",
       "stream": "stderr",
       "text": [
        "/home/ian/Grad/Research/Disks/Starfish/Starfish/emulator.py:422: DeprecationWarning: using a non-integer number instead of an integer will result in an error in the future\n",
        "  return np.random.multivariate_normal(self.mu, self.sig)\n",
        "/home/ian/Grad/Research/Disks/Starfish/Starfish/emulator.py:422: DeprecationWarning: using a non-integer number instead of an integer will result in an error in the future\n",
        "  return np.random.multivariate_normal(self.mu, self.sig)\n",
        "/home/ian/Grad/Research/Disks/Starfish/Starfish/emulator.py:422: DeprecationWarning: using a non-integer number instead of an integer will result in an error in the future\n",
        "  return np.random.multivariate_normal(self.mu, self.sig)\n",
        "/home/ian/Grad/Research/Disks/Starfish/Starfish/emulator.py:422: DeprecationWarning: using a non-integer number instead of an integer will result in an error in the future\n",
        "  return np.random.multivariate_normal(self.mu, self.sig)\n",
        "/home/ian/Grad/Research/Disks/Starfish/Starfish/emulator.py:422: DeprecationWarning: using a non-integer number instead of an integer will result in an error in the future\n",
        "  return np.random.multivariate_normal(self.mu, self.sig)\n"
       ]
      },
      {
       "output_type": "stream",
       "stream": "stderr",
       "text": [
        "/home/ian/Grad/Research/Disks/Starfish/Starfish/emulator.py:422: DeprecationWarning: using a non-integer number instead of an integer will result in an error in the future\n",
        "  return np.random.multivariate_normal(self.mu, self.sig)\n",
        "/home/ian/Grad/Research/Disks/Starfish/Starfish/emulator.py:422: DeprecationWarning: using a non-integer number instead of an integer will result in an error in the future\n",
        "  return np.random.multivariate_normal(self.mu, self.sig)\n",
        "/home/ian/Grad/Research/Disks/Starfish/Starfish/emulator.py:422: DeprecationWarning: using a non-integer number instead of an integer will result in an error in the future\n",
        "  return np.random.multivariate_normal(self.mu, self.sig)\n",
        "/home/ian/Grad/Research/Disks/Starfish/Starfish/emulator.py:422: DeprecationWarning: using a non-integer number instead of an integer will result in an error in the future\n",
        "  return np.random.multivariate_normal(self.mu, self.sig)\n",
        "/home/ian/Grad/Research/Disks/Starfish/Starfish/emulator.py:422: DeprecationWarning: using a non-integer number instead of an integer will result in an error in the future\n",
        "  return np.random.multivariate_normal(self.mu, self.sig)\n"
       ]
      },
      {
       "output_type": "stream",
       "stream": "stderr",
       "text": [
        "/home/ian/Grad/Research/Disks/Starfish/Starfish/emulator.py:422: DeprecationWarning: using a non-integer number instead of an integer will result in an error in the future\n",
        "  return np.random.multivariate_normal(self.mu, self.sig)\n",
        "/home/ian/Grad/Research/Disks/Starfish/Starfish/emulator.py:422: DeprecationWarning: using a non-integer number instead of an integer will result in an error in the future\n",
        "  return np.random.multivariate_normal(self.mu, self.sig)\n",
        "/home/ian/Grad/Research/Disks/Starfish/Starfish/emulator.py:422: DeprecationWarning: using a non-integer number instead of an integer will result in an error in the future\n",
        "  return np.random.multivariate_normal(self.mu, self.sig)\n",
        "/home/ian/Grad/Research/Disks/Starfish/Starfish/emulator.py:422: DeprecationWarning: using a non-integer number instead of an integer will result in an error in the future\n",
        "  return np.random.multivariate_normal(self.mu, self.sig)\n",
        "/home/ian/Grad/Research/Disks/Starfish/Starfish/emulator.py:422: DeprecationWarning: using a non-integer number instead of an integer will result in an error in the future\n",
        "  return np.random.multivariate_normal(self.mu, self.sig)\n"
       ]
      },
      {
       "output_type": "stream",
       "stream": "stderr",
       "text": [
        "/home/ian/Grad/Research/Disks/Starfish/Starfish/emulator.py:422: DeprecationWarning: using a non-integer number instead of an integer will result in an error in the future\n",
        "  return np.random.multivariate_normal(self.mu, self.sig)\n",
        "/home/ian/Grad/Research/Disks/Starfish/Starfish/emulator.py:422: DeprecationWarning: using a non-integer number instead of an integer will result in an error in the future\n",
        "  return np.random.multivariate_normal(self.mu, self.sig)\n",
        "/home/ian/Grad/Research/Disks/Starfish/Starfish/emulator.py:422: DeprecationWarning: using a non-integer number instead of an integer will result in an error in the future\n",
        "  return np.random.multivariate_normal(self.mu, self.sig)\n",
        "/home/ian/Grad/Research/Disks/Starfish/Starfish/emulator.py:422: DeprecationWarning: using a non-integer number instead of an integer will result in an error in the future\n",
        "  return np.random.multivariate_normal(self.mu, self.sig)\n"
       ]
      },
      {
       "output_type": "stream",
       "stream": "stderr",
       "text": [
        "/home/ian/Grad/Research/Disks/Starfish/Starfish/emulator.py:422: DeprecationWarning: using a non-integer number instead of an integer will result in an error in the future\n",
        "  return np.random.multivariate_normal(self.mu, self.sig)\n",
        "/home/ian/Grad/Research/Disks/Starfish/Starfish/emulator.py:422: DeprecationWarning: using a non-integer number instead of an integer will result in an error in the future\n",
        "  return np.random.multivariate_normal(self.mu, self.sig)\n",
        "/home/ian/Grad/Research/Disks/Starfish/Starfish/emulator.py:422: DeprecationWarning: using a non-integer number instead of an integer will result in an error in the future\n",
        "  return np.random.multivariate_normal(self.mu, self.sig)\n",
        "/home/ian/Grad/Research/Disks/Starfish/Starfish/emulator.py:422: DeprecationWarning: using a non-integer number instead of an integer will result in an error in the future\n",
        "  return np.random.multivariate_normal(self.mu, self.sig)\n",
        "/home/ian/Grad/Research/Disks/Starfish/Starfish/emulator.py:422: DeprecationWarning: using a non-integer number instead of an integer will result in an error in the future\n",
        "  return np.random.multivariate_normal(self.mu, self.sig)\n"
       ]
      },
      {
       "output_type": "stream",
       "stream": "stderr",
       "text": [
        "/home/ian/Grad/Research/Disks/Starfish/Starfish/emulator.py:422: DeprecationWarning: using a non-integer number instead of an integer will result in an error in the future\n",
        "  return np.random.multivariate_normal(self.mu, self.sig)\n",
        "/home/ian/Grad/Research/Disks/Starfish/Starfish/emulator.py:422: DeprecationWarning: using a non-integer number instead of an integer will result in an error in the future\n",
        "  return np.random.multivariate_normal(self.mu, self.sig)\n",
        "/home/ian/Grad/Research/Disks/Starfish/Starfish/emulator.py:422: DeprecationWarning: using a non-integer number instead of an integer will result in an error in the future\n",
        "  return np.random.multivariate_normal(self.mu, self.sig)\n",
        "/home/ian/Grad/Research/Disks/Starfish/Starfish/emulator.py:422: DeprecationWarning: using a non-integer number instead of an integer will result in an error in the future\n",
        "  return np.random.multivariate_normal(self.mu, self.sig)\n",
        "/home/ian/Grad/Research/Disks/Starfish/Starfish/emulator.py:422: DeprecationWarning: using a non-integer number instead of an integer will result in an error in the future\n",
        "  return np.random.multivariate_normal(self.mu, self.sig)\n"
       ]
      },
      {
       "output_type": "stream",
       "stream": "stderr",
       "text": [
        "/home/ian/Grad/Research/Disks/Starfish/Starfish/emulator.py:422: DeprecationWarning: using a non-integer number instead of an integer will result in an error in the future\n",
        "  return np.random.multivariate_normal(self.mu, self.sig)\n",
        "/home/ian/Grad/Research/Disks/Starfish/Starfish/emulator.py:422: DeprecationWarning: using a non-integer number instead of an integer will result in an error in the future\n",
        "  return np.random.multivariate_normal(self.mu, self.sig)\n",
        "/home/ian/Grad/Research/Disks/Starfish/Starfish/emulator.py:422: DeprecationWarning: using a non-integer number instead of an integer will result in an error in the future\n",
        "  return np.random.multivariate_normal(self.mu, self.sig)\n",
        "/home/ian/Grad/Research/Disks/Starfish/Starfish/emulator.py:422: DeprecationWarning: using a non-integer number instead of an integer will result in an error in the future\n",
        "  return np.random.multivariate_normal(self.mu, self.sig)\n"
       ]
      },
      {
       "output_type": "stream",
       "stream": "stderr",
       "text": [
        "/home/ian/Grad/Research/Disks/Starfish/Starfish/emulator.py:422: DeprecationWarning: using a non-integer number instead of an integer will result in an error in the future\n",
        "  return np.random.multivariate_normal(self.mu, self.sig)\n",
        "/home/ian/Grad/Research/Disks/Starfish/Starfish/emulator.py:422: DeprecationWarning: using a non-integer number instead of an integer will result in an error in the future\n",
        "  return np.random.multivariate_normal(self.mu, self.sig)\n",
        "/home/ian/Grad/Research/Disks/Starfish/Starfish/emulator.py:422: DeprecationWarning: using a non-integer number instead of an integer will result in an error in the future\n",
        "  return np.random.multivariate_normal(self.mu, self.sig)\n",
        "/home/ian/Grad/Research/Disks/Starfish/Starfish/emulator.py:422: DeprecationWarning: using a non-integer number instead of an integer will result in an error in the future\n",
        "  return np.random.multivariate_normal(self.mu, self.sig)\n",
        "/home/ian/Grad/Research/Disks/Starfish/Starfish/emulator.py:422: DeprecationWarning: using a non-integer number instead of an integer will result in an error in the future\n",
        "  return np.random.multivariate_normal(self.mu, self.sig)\n"
       ]
      },
      {
       "output_type": "stream",
       "stream": "stderr",
       "text": [
        "/home/ian/Grad/Research/Disks/Starfish/Starfish/emulator.py:422: DeprecationWarning: using a non-integer number instead of an integer will result in an error in the future\n",
        "  return np.random.multivariate_normal(self.mu, self.sig)\n",
        "/home/ian/Grad/Research/Disks/Starfish/Starfish/emulator.py:422: DeprecationWarning: using a non-integer number instead of an integer will result in an error in the future\n",
        "  return np.random.multivariate_normal(self.mu, self.sig)\n",
        "/home/ian/Grad/Research/Disks/Starfish/Starfish/emulator.py:422: DeprecationWarning: using a non-integer number instead of an integer will result in an error in the future\n",
        "  return np.random.multivariate_normal(self.mu, self.sig)\n",
        "/home/ian/Grad/Research/Disks/Starfish/Starfish/emulator.py:422: DeprecationWarning: using a non-integer number instead of an integer will result in an error in the future\n",
        "  return np.random.multivariate_normal(self.mu, self.sig)\n"
       ]
      },
      {
       "output_type": "stream",
       "stream": "stderr",
       "text": [
        "/home/ian/Grad/Research/Disks/Starfish/Starfish/emulator.py:422: DeprecationWarning: using a non-integer number instead of an integer will result in an error in the future\n",
        "  return np.random.multivariate_normal(self.mu, self.sig)\n",
        "/home/ian/Grad/Research/Disks/Starfish/Starfish/emulator.py:422: DeprecationWarning: using a non-integer number instead of an integer will result in an error in the future\n",
        "  return np.random.multivariate_normal(self.mu, self.sig)\n",
        "/home/ian/Grad/Research/Disks/Starfish/Starfish/emulator.py:422: DeprecationWarning: using a non-integer number instead of an integer will result in an error in the future\n",
        "  return np.random.multivariate_normal(self.mu, self.sig)\n",
        "/home/ian/Grad/Research/Disks/Starfish/Starfish/emulator.py:422: DeprecationWarning: using a non-integer number instead of an integer will result in an error in the future\n",
        "  return np.random.multivariate_normal(self.mu, self.sig)\n"
       ]
      },
      {
       "output_type": "stream",
       "stream": "stderr",
       "text": [
        "/home/ian/Grad/Research/Disks/Starfish/Starfish/emulator.py:422: DeprecationWarning: using a non-integer number instead of an integer will result in an error in the future\n",
        "  return np.random.multivariate_normal(self.mu, self.sig)\n",
        "/home/ian/Grad/Research/Disks/Starfish/Starfish/emulator.py:422: DeprecationWarning: using a non-integer number instead of an integer will result in an error in the future\n",
        "  return np.random.multivariate_normal(self.mu, self.sig)\n",
        "/home/ian/Grad/Research/Disks/Starfish/Starfish/emulator.py:422: DeprecationWarning: using a non-integer number instead of an integer will result in an error in the future\n",
        "  return np.random.multivariate_normal(self.mu, self.sig)\n",
        "/home/ian/Grad/Research/Disks/Starfish/Starfish/emulator.py:422: DeprecationWarning: using a non-integer number instead of an integer will result in an error in the future\n",
        "  return np.random.multivariate_normal(self.mu, self.sig)\n",
        "/home/ian/Grad/Research/Disks/Starfish/Starfish/emulator.py:422: DeprecationWarning: using a non-integer number instead of an integer will result in an error in the future\n",
        "  return np.random.multivariate_normal(self.mu, self.sig)\n"
       ]
      },
      {
       "output_type": "stream",
       "stream": "stderr",
       "text": [
        "/home/ian/Grad/Research/Disks/Starfish/Starfish/emulator.py:422: DeprecationWarning: using a non-integer number instead of an integer will result in an error in the future\n",
        "  return np.random.multivariate_normal(self.mu, self.sig)\n",
        "/home/ian/Grad/Research/Disks/Starfish/Starfish/emulator.py:422: DeprecationWarning: using a non-integer number instead of an integer will result in an error in the future\n",
        "  return np.random.multivariate_normal(self.mu, self.sig)\n",
        "/home/ian/Grad/Research/Disks/Starfish/Starfish/emulator.py:422: DeprecationWarning: using a non-integer number instead of an integer will result in an error in the future\n",
        "  return np.random.multivariate_normal(self.mu, self.sig)\n",
        "/home/ian/Grad/Research/Disks/Starfish/Starfish/emulator.py:422: DeprecationWarning: using a non-integer number instead of an integer will result in an error in the future\n",
        "  return np.random.multivariate_normal(self.mu, self.sig)\n"
       ]
      },
      {
       "output_type": "stream",
       "stream": "stderr",
       "text": [
        "/home/ian/Grad/Research/Disks/Starfish/Starfish/emulator.py:422: DeprecationWarning: using a non-integer number instead of an integer will result in an error in the future\n",
        "  return np.random.multivariate_normal(self.mu, self.sig)\n",
        "/home/ian/Grad/Research/Disks/Starfish/Starfish/emulator.py:422: DeprecationWarning: using a non-integer number instead of an integer will result in an error in the future\n",
        "  return np.random.multivariate_normal(self.mu, self.sig)\n",
        "/home/ian/Grad/Research/Disks/Starfish/Starfish/emulator.py:422: DeprecationWarning: using a non-integer number instead of an integer will result in an error in the future\n",
        "  return np.random.multivariate_normal(self.mu, self.sig)\n",
        "/home/ian/Grad/Research/Disks/Starfish/Starfish/emulator.py:422: DeprecationWarning: using a non-integer number instead of an integer will result in an error in the future\n",
        "  return np.random.multivariate_normal(self.mu, self.sig)\n",
        "/home/ian/Grad/Research/Disks/Starfish/Starfish/emulator.py:422: DeprecationWarning: using a non-integer number instead of an integer will result in an error in the future\n",
        "  return np.random.multivariate_normal(self.mu, self.sig)\n"
       ]
      },
      {
       "output_type": "stream",
       "stream": "stderr",
       "text": [
        "/home/ian/Grad/Research/Disks/Starfish/Starfish/emulator.py:422: DeprecationWarning: using a non-integer number instead of an integer will result in an error in the future\n",
        "  return np.random.multivariate_normal(self.mu, self.sig)\n",
        "/home/ian/Grad/Research/Disks/Starfish/Starfish/emulator.py:422: DeprecationWarning: using a non-integer number instead of an integer will result in an error in the future\n",
        "  return np.random.multivariate_normal(self.mu, self.sig)\n",
        "/home/ian/Grad/Research/Disks/Starfish/Starfish/emulator.py:422: DeprecationWarning: using a non-integer number instead of an integer will result in an error in the future\n",
        "  return np.random.multivariate_normal(self.mu, self.sig)\n",
        "/home/ian/Grad/Research/Disks/Starfish/Starfish/emulator.py:422: DeprecationWarning: using a non-integer number instead of an integer will result in an error in the future\n",
        "  return np.random.multivariate_normal(self.mu, self.sig)\n",
        "/home/ian/Grad/Research/Disks/Starfish/Starfish/emulator.py:422: DeprecationWarning: using a non-integer number instead of an integer will result in an error in the future\n",
        "  return np.random.multivariate_normal(self.mu, self.sig)\n"
       ]
      },
      {
       "output_type": "stream",
       "stream": "stderr",
       "text": [
        "/home/ian/Grad/Research/Disks/Starfish/Starfish/emulator.py:422: DeprecationWarning: using a non-integer number instead of an integer will result in an error in the future\n",
        "  return np.random.multivariate_normal(self.mu, self.sig)\n",
        "/home/ian/Grad/Research/Disks/Starfish/Starfish/emulator.py:422: DeprecationWarning: using a non-integer number instead of an integer will result in an error in the future\n",
        "  return np.random.multivariate_normal(self.mu, self.sig)\n",
        "/home/ian/Grad/Research/Disks/Starfish/Starfish/emulator.py:422: DeprecationWarning: using a non-integer number instead of an integer will result in an error in the future\n",
        "  return np.random.multivariate_normal(self.mu, self.sig)\n",
        "/home/ian/Grad/Research/Disks/Starfish/Starfish/emulator.py:422: DeprecationWarning: using a non-integer number instead of an integer will result in an error in the future\n",
        "  return np.random.multivariate_normal(self.mu, self.sig)\n"
       ]
      },
      {
       "output_type": "stream",
       "stream": "stderr",
       "text": [
        "/home/ian/Grad/Research/Disks/Starfish/Starfish/emulator.py:422: DeprecationWarning: using a non-integer number instead of an integer will result in an error in the future\n",
        "  return np.random.multivariate_normal(self.mu, self.sig)\n",
        "/home/ian/Grad/Research/Disks/Starfish/Starfish/emulator.py:422: DeprecationWarning: using a non-integer number instead of an integer will result in an error in the future\n",
        "  return np.random.multivariate_normal(self.mu, self.sig)\n",
        "/home/ian/Grad/Research/Disks/Starfish/Starfish/emulator.py:422: DeprecationWarning: using a non-integer number instead of an integer will result in an error in the future\n",
        "  return np.random.multivariate_normal(self.mu, self.sig)\n",
        "/home/ian/Grad/Research/Disks/Starfish/Starfish/emulator.py:422: DeprecationWarning: using a non-integer number instead of an integer will result in an error in the future\n",
        "  return np.random.multivariate_normal(self.mu, self.sig)\n"
       ]
      },
      {
       "output_type": "stream",
       "stream": "stderr",
       "text": [
        "/home/ian/Grad/Research/Disks/Starfish/Starfish/emulator.py:422: DeprecationWarning: using a non-integer number instead of an integer will result in an error in the future\n",
        "  return np.random.multivariate_normal(self.mu, self.sig)\n",
        "/home/ian/Grad/Research/Disks/Starfish/Starfish/emulator.py:422: DeprecationWarning: using a non-integer number instead of an integer will result in an error in the future\n",
        "  return np.random.multivariate_normal(self.mu, self.sig)\n",
        "/home/ian/Grad/Research/Disks/Starfish/Starfish/emulator.py:422: DeprecationWarning: using a non-integer number instead of an integer will result in an error in the future\n",
        "  return np.random.multivariate_normal(self.mu, self.sig)\n",
        "/home/ian/Grad/Research/Disks/Starfish/Starfish/emulator.py:422: DeprecationWarning: using a non-integer number instead of an integer will result in an error in the future\n",
        "  return np.random.multivariate_normal(self.mu, self.sig)\n"
       ]
      },
      {
       "output_type": "stream",
       "stream": "stderr",
       "text": [
        "/home/ian/Grad/Research/Disks/Starfish/Starfish/emulator.py:422: DeprecationWarning: using a non-integer number instead of an integer will result in an error in the future\n",
        "  return np.random.multivariate_normal(self.mu, self.sig)\n",
        "/home/ian/Grad/Research/Disks/Starfish/Starfish/emulator.py:422: DeprecationWarning: using a non-integer number instead of an integer will result in an error in the future\n",
        "  return np.random.multivariate_normal(self.mu, self.sig)\n",
        "/home/ian/Grad/Research/Disks/Starfish/Starfish/emulator.py:422: DeprecationWarning: using a non-integer number instead of an integer will result in an error in the future\n",
        "  return np.random.multivariate_normal(self.mu, self.sig)\n",
        "/home/ian/Grad/Research/Disks/Starfish/Starfish/emulator.py:422: DeprecationWarning: using a non-integer number instead of an integer will result in an error in the future\n",
        "  return np.random.multivariate_normal(self.mu, self.sig)\n",
        "/home/ian/Grad/Research/Disks/Starfish/Starfish/emulator.py:422: DeprecationWarning: using a non-integer number instead of an integer will result in an error in the future\n",
        "  return np.random.multivariate_normal(self.mu, self.sig)\n"
       ]
      },
      {
       "output_type": "stream",
       "stream": "stderr",
       "text": [
        "/home/ian/Grad/Research/Disks/Starfish/Starfish/emulator.py:422: DeprecationWarning: using a non-integer number instead of an integer will result in an error in the future\n",
        "  return np.random.multivariate_normal(self.mu, self.sig)\n",
        "/home/ian/Grad/Research/Disks/Starfish/Starfish/emulator.py:422: DeprecationWarning: using a non-integer number instead of an integer will result in an error in the future\n",
        "  return np.random.multivariate_normal(self.mu, self.sig)\n",
        "/home/ian/Grad/Research/Disks/Starfish/Starfish/emulator.py:422: DeprecationWarning: using a non-integer number instead of an integer will result in an error in the future\n",
        "  return np.random.multivariate_normal(self.mu, self.sig)\n",
        "/home/ian/Grad/Research/Disks/Starfish/Starfish/emulator.py:422: DeprecationWarning: using a non-integer number instead of an integer will result in an error in the future\n",
        "  return np.random.multivariate_normal(self.mu, self.sig)\n",
        "/home/ian/Grad/Research/Disks/Starfish/Starfish/emulator.py:422: DeprecationWarning: using a non-integer number instead of an integer will result in an error in the future\n",
        "  return np.random.multivariate_normal(self.mu, self.sig)\n"
       ]
      },
      {
       "output_type": "stream",
       "stream": "stderr",
       "text": [
        "/home/ian/Grad/Research/Disks/Starfish/Starfish/emulator.py:422: DeprecationWarning: using a non-integer number instead of an integer will result in an error in the future\n",
        "  return np.random.multivariate_normal(self.mu, self.sig)\n",
        "/home/ian/Grad/Research/Disks/Starfish/Starfish/emulator.py:422: DeprecationWarning: using a non-integer number instead of an integer will result in an error in the future\n",
        "  return np.random.multivariate_normal(self.mu, self.sig)\n",
        "/home/ian/Grad/Research/Disks/Starfish/Starfish/emulator.py:422: DeprecationWarning: using a non-integer number instead of an integer will result in an error in the future\n",
        "  return np.random.multivariate_normal(self.mu, self.sig)\n",
        "/home/ian/Grad/Research/Disks/Starfish/Starfish/emulator.py:422: DeprecationWarning: using a non-integer number instead of an integer will result in an error in the future\n",
        "  return np.random.multivariate_normal(self.mu, self.sig)\n",
        "/home/ian/Grad/Research/Disks/Starfish/Starfish/emulator.py:422: DeprecationWarning: using a non-integer number instead of an integer will result in an error in the future\n",
        "  return np.random.multivariate_normal(self.mu, self.sig)\n"
       ]
      },
      {
       "output_type": "stream",
       "stream": "stderr",
       "text": [
        "/home/ian/Grad/Research/Disks/Starfish/Starfish/emulator.py:422: DeprecationWarning: using a non-integer number instead of an integer will result in an error in the future\n",
        "  return np.random.multivariate_normal(self.mu, self.sig)\n",
        "/home/ian/Grad/Research/Disks/Starfish/Starfish/emulator.py:422: DeprecationWarning: using a non-integer number instead of an integer will result in an error in the future\n",
        "  return np.random.multivariate_normal(self.mu, self.sig)\n",
        "/home/ian/Grad/Research/Disks/Starfish/Starfish/emulator.py:422: DeprecationWarning: using a non-integer number instead of an integer will result in an error in the future\n",
        "  return np.random.multivariate_normal(self.mu, self.sig)\n",
        "/home/ian/Grad/Research/Disks/Starfish/Starfish/emulator.py:422: DeprecationWarning: using a non-integer number instead of an integer will result in an error in the future\n",
        "  return np.random.multivariate_normal(self.mu, self.sig)\n",
        "/home/ian/Grad/Research/Disks/Starfish/Starfish/emulator.py:422: DeprecationWarning: using a non-integer number instead of an integer will result in an error in the future\n",
        "  return np.random.multivariate_normal(self.mu, self.sig)\n"
       ]
      },
      {
       "output_type": "stream",
       "stream": "stderr",
       "text": [
        "/home/ian/Grad/Research/Disks/Starfish/Starfish/emulator.py:422: DeprecationWarning: using a non-integer number instead of an integer will result in an error in the future\n",
        "  return np.random.multivariate_normal(self.mu, self.sig)\n",
        "/home/ian/Grad/Research/Disks/Starfish/Starfish/emulator.py:422: DeprecationWarning: using a non-integer number instead of an integer will result in an error in the future\n",
        "  return np.random.multivariate_normal(self.mu, self.sig)\n",
        "/home/ian/Grad/Research/Disks/Starfish/Starfish/emulator.py:422: DeprecationWarning: using a non-integer number instead of an integer will result in an error in the future\n",
        "  return np.random.multivariate_normal(self.mu, self.sig)\n",
        "/home/ian/Grad/Research/Disks/Starfish/Starfish/emulator.py:422: DeprecationWarning: using a non-integer number instead of an integer will result in an error in the future\n",
        "  return np.random.multivariate_normal(self.mu, self.sig)\n",
        "/home/ian/Grad/Research/Disks/Starfish/Starfish/emulator.py:422: DeprecationWarning: using a non-integer number instead of an integer will result in an error in the future\n",
        "  return np.random.multivariate_normal(self.mu, self.sig)\n"
       ]
      },
      {
       "output_type": "stream",
       "stream": "stderr",
       "text": [
        "/home/ian/Grad/Research/Disks/Starfish/Starfish/emulator.py:422: DeprecationWarning: using a non-integer number instead of an integer will result in an error in the future\n",
        "  return np.random.multivariate_normal(self.mu, self.sig)\n",
        "/home/ian/Grad/Research/Disks/Starfish/Starfish/emulator.py:422: DeprecationWarning: using a non-integer number instead of an integer will result in an error in the future\n",
        "  return np.random.multivariate_normal(self.mu, self.sig)\n",
        "/home/ian/Grad/Research/Disks/Starfish/Starfish/emulator.py:422: DeprecationWarning: using a non-integer number instead of an integer will result in an error in the future\n",
        "  return np.random.multivariate_normal(self.mu, self.sig)\n",
        "/home/ian/Grad/Research/Disks/Starfish/Starfish/emulator.py:422: DeprecationWarning: using a non-integer number instead of an integer will result in an error in the future\n",
        "  return np.random.multivariate_normal(self.mu, self.sig)\n"
       ]
      },
      {
       "output_type": "stream",
       "stream": "stderr",
       "text": [
        "/home/ian/Grad/Research/Disks/Starfish/Starfish/emulator.py:422: DeprecationWarning: using a non-integer number instead of an integer will result in an error in the future\n",
        "  return np.random.multivariate_normal(self.mu, self.sig)\n",
        "/home/ian/Grad/Research/Disks/Starfish/Starfish/emulator.py:422: DeprecationWarning: using a non-integer number instead of an integer will result in an error in the future\n",
        "  return np.random.multivariate_normal(self.mu, self.sig)\n",
        "/home/ian/Grad/Research/Disks/Starfish/Starfish/emulator.py:422: DeprecationWarning: using a non-integer number instead of an integer will result in an error in the future\n",
        "  return np.random.multivariate_normal(self.mu, self.sig)\n",
        "/home/ian/Grad/Research/Disks/Starfish/Starfish/emulator.py:422: DeprecationWarning: using a non-integer number instead of an integer will result in an error in the future\n",
        "  return np.random.multivariate_normal(self.mu, self.sig)\n",
        "/home/ian/Grad/Research/Disks/Starfish/Starfish/emulator.py:422: DeprecationWarning: using a non-integer number instead of an integer will result in an error in the future\n",
        "  return np.random.multivariate_normal(self.mu, self.sig)\n"
       ]
      },
      {
       "output_type": "stream",
       "stream": "stderr",
       "text": [
        "/home/ian/Grad/Research/Disks/Starfish/Starfish/emulator.py:422: DeprecationWarning: using a non-integer number instead of an integer will result in an error in the future\n",
        "  return np.random.multivariate_normal(self.mu, self.sig)\n",
        "/home/ian/Grad/Research/Disks/Starfish/Starfish/emulator.py:422: DeprecationWarning: using a non-integer number instead of an integer will result in an error in the future\n",
        "  return np.random.multivariate_normal(self.mu, self.sig)\n",
        "/home/ian/Grad/Research/Disks/Starfish/Starfish/emulator.py:422: DeprecationWarning: using a non-integer number instead of an integer will result in an error in the future\n",
        "  return np.random.multivariate_normal(self.mu, self.sig)\n",
        "/home/ian/Grad/Research/Disks/Starfish/Starfish/emulator.py:422: DeprecationWarning: using a non-integer number instead of an integer will result in an error in the future\n",
        "  return np.random.multivariate_normal(self.mu, self.sig)\n",
        "/home/ian/Grad/Research/Disks/Starfish/Starfish/emulator.py:422: DeprecationWarning: using a non-integer number instead of an integer will result in an error in the future\n",
        "  return np.random.multivariate_normal(self.mu, self.sig)\n"
       ]
      },
      {
       "output_type": "stream",
       "stream": "stderr",
       "text": [
        "/home/ian/Grad/Research/Disks/Starfish/Starfish/emulator.py:422: DeprecationWarning: using a non-integer number instead of an integer will result in an error in the future\n",
        "  return np.random.multivariate_normal(self.mu, self.sig)\n",
        "/home/ian/Grad/Research/Disks/Starfish/Starfish/emulator.py:422: DeprecationWarning: using a non-integer number instead of an integer will result in an error in the future\n",
        "  return np.random.multivariate_normal(self.mu, self.sig)\n",
        "/home/ian/Grad/Research/Disks/Starfish/Starfish/emulator.py:422: DeprecationWarning: using a non-integer number instead of an integer will result in an error in the future\n",
        "  return np.random.multivariate_normal(self.mu, self.sig)\n",
        "/home/ian/Grad/Research/Disks/Starfish/Starfish/emulator.py:422: DeprecationWarning: using a non-integer number instead of an integer will result in an error in the future\n",
        "  return np.random.multivariate_normal(self.mu, self.sig)\n",
        "/home/ian/Grad/Research/Disks/Starfish/Starfish/emulator.py:422: DeprecationWarning: using a non-integer number instead of an integer will result in an error in the future\n",
        "  return np.random.multivariate_normal(self.mu, self.sig)\n"
       ]
      },
      {
       "output_type": "stream",
       "stream": "stderr",
       "text": [
        "/home/ian/Grad/Research/Disks/Starfish/Starfish/emulator.py:422: DeprecationWarning: using a non-integer number instead of an integer will result in an error in the future\n",
        "  return np.random.multivariate_normal(self.mu, self.sig)\n",
        "/home/ian/Grad/Research/Disks/Starfish/Starfish/emulator.py:422: DeprecationWarning: using a non-integer number instead of an integer will result in an error in the future\n",
        "  return np.random.multivariate_normal(self.mu, self.sig)\n",
        "/home/ian/Grad/Research/Disks/Starfish/Starfish/emulator.py:422: DeprecationWarning: using a non-integer number instead of an integer will result in an error in the future\n",
        "  return np.random.multivariate_normal(self.mu, self.sig)\n",
        "/home/ian/Grad/Research/Disks/Starfish/Starfish/emulator.py:422: DeprecationWarning: using a non-integer number instead of an integer will result in an error in the future\n",
        "  return np.random.multivariate_normal(self.mu, self.sig)\n",
        "/home/ian/Grad/Research/Disks/Starfish/Starfish/emulator.py:422: DeprecationWarning: using a non-integer number instead of an integer will result in an error in the future\n",
        "  return np.random.multivariate_normal(self.mu, self.sig)\n"
       ]
      },
      {
       "output_type": "stream",
       "stream": "stderr",
       "text": [
        "/home/ian/Grad/Research/Disks/Starfish/Starfish/emulator.py:422: DeprecationWarning: using a non-integer number instead of an integer will result in an error in the future\n",
        "  return np.random.multivariate_normal(self.mu, self.sig)\n",
        "/home/ian/Grad/Research/Disks/Starfish/Starfish/emulator.py:422: DeprecationWarning: using a non-integer number instead of an integer will result in an error in the future\n",
        "  return np.random.multivariate_normal(self.mu, self.sig)\n",
        "/home/ian/Grad/Research/Disks/Starfish/Starfish/emulator.py:422: DeprecationWarning: using a non-integer number instead of an integer will result in an error in the future\n",
        "  return np.random.multivariate_normal(self.mu, self.sig)\n",
        "/home/ian/Grad/Research/Disks/Starfish/Starfish/emulator.py:422: DeprecationWarning: using a non-integer number instead of an integer will result in an error in the future\n",
        "  return np.random.multivariate_normal(self.mu, self.sig)\n",
        "/home/ian/Grad/Research/Disks/Starfish/Starfish/emulator.py:422: DeprecationWarning: using a non-integer number instead of an integer will result in an error in the future\n",
        "  return np.random.multivariate_normal(self.mu, self.sig)\n"
       ]
      },
      {
       "output_type": "stream",
       "stream": "stderr",
       "text": [
        "/home/ian/Grad/Research/Disks/Starfish/Starfish/emulator.py:422: DeprecationWarning: using a non-integer number instead of an integer will result in an error in the future\n",
        "  return np.random.multivariate_normal(self.mu, self.sig)\n",
        "/home/ian/Grad/Research/Disks/Starfish/Starfish/emulator.py:422: DeprecationWarning: using a non-integer number instead of an integer will result in an error in the future\n",
        "  return np.random.multivariate_normal(self.mu, self.sig)\n",
        "/home/ian/Grad/Research/Disks/Starfish/Starfish/emulator.py:422: DeprecationWarning: using a non-integer number instead of an integer will result in an error in the future\n",
        "  return np.random.multivariate_normal(self.mu, self.sig)\n",
        "/home/ian/Grad/Research/Disks/Starfish/Starfish/emulator.py:422: DeprecationWarning: using a non-integer number instead of an integer will result in an error in the future\n",
        "  return np.random.multivariate_normal(self.mu, self.sig)\n"
       ]
      },
      {
       "output_type": "stream",
       "stream": "stderr",
       "text": [
        "/home/ian/Grad/Research/Disks/Starfish/Starfish/emulator.py:422: DeprecationWarning: using a non-integer number instead of an integer will result in an error in the future\n",
        "  return np.random.multivariate_normal(self.mu, self.sig)\n",
        "/home/ian/Grad/Research/Disks/Starfish/Starfish/emulator.py:422: DeprecationWarning: using a non-integer number instead of an integer will result in an error in the future\n",
        "  return np.random.multivariate_normal(self.mu, self.sig)\n",
        "/home/ian/Grad/Research/Disks/Starfish/Starfish/emulator.py:422: DeprecationWarning: using a non-integer number instead of an integer will result in an error in the future\n",
        "  return np.random.multivariate_normal(self.mu, self.sig)\n",
        "/home/ian/Grad/Research/Disks/Starfish/Starfish/emulator.py:422: DeprecationWarning: using a non-integer number instead of an integer will result in an error in the future\n",
        "  return np.random.multivariate_normal(self.mu, self.sig)\n"
       ]
      },
      {
       "output_type": "stream",
       "stream": "stderr",
       "text": [
        "/home/ian/Grad/Research/Disks/Starfish/Starfish/emulator.py:422: DeprecationWarning: using a non-integer number instead of an integer will result in an error in the future\n",
        "  return np.random.multivariate_normal(self.mu, self.sig)\n",
        "/home/ian/Grad/Research/Disks/Starfish/Starfish/emulator.py:422: DeprecationWarning: using a non-integer number instead of an integer will result in an error in the future\n",
        "  return np.random.multivariate_normal(self.mu, self.sig)\n",
        "/home/ian/Grad/Research/Disks/Starfish/Starfish/emulator.py:422: DeprecationWarning: using a non-integer number instead of an integer will result in an error in the future\n",
        "  return np.random.multivariate_normal(self.mu, self.sig)\n",
        "/home/ian/Grad/Research/Disks/Starfish/Starfish/emulator.py:422: DeprecationWarning: using a non-integer number instead of an integer will result in an error in the future\n",
        "  return np.random.multivariate_normal(self.mu, self.sig)\n"
       ]
      },
      {
       "output_type": "stream",
       "stream": "stderr",
       "text": [
        "/home/ian/Grad/Research/Disks/Starfish/Starfish/emulator.py:422: DeprecationWarning: using a non-integer number instead of an integer will result in an error in the future\n",
        "  return np.random.multivariate_normal(self.mu, self.sig)\n",
        "/home/ian/Grad/Research/Disks/Starfish/Starfish/emulator.py:422: DeprecationWarning: using a non-integer number instead of an integer will result in an error in the future\n",
        "  return np.random.multivariate_normal(self.mu, self.sig)\n",
        "/home/ian/Grad/Research/Disks/Starfish/Starfish/emulator.py:422: DeprecationWarning: using a non-integer number instead of an integer will result in an error in the future\n",
        "  return np.random.multivariate_normal(self.mu, self.sig)\n",
        "/home/ian/Grad/Research/Disks/Starfish/Starfish/emulator.py:422: DeprecationWarning: using a non-integer number instead of an integer will result in an error in the future\n",
        "  return np.random.multivariate_normal(self.mu, self.sig)\n"
       ]
      },
      {
       "output_type": "stream",
       "stream": "stderr",
       "text": [
        "/home/ian/Grad/Research/Disks/Starfish/Starfish/emulator.py:422: DeprecationWarning: using a non-integer number instead of an integer will result in an error in the future\n",
        "  return np.random.multivariate_normal(self.mu, self.sig)\n",
        "/home/ian/Grad/Research/Disks/Starfish/Starfish/emulator.py:422: DeprecationWarning: using a non-integer number instead of an integer will result in an error in the future\n",
        "  return np.random.multivariate_normal(self.mu, self.sig)\n",
        "/home/ian/Grad/Research/Disks/Starfish/Starfish/emulator.py:422: DeprecationWarning: using a non-integer number instead of an integer will result in an error in the future\n",
        "  return np.random.multivariate_normal(self.mu, self.sig)\n",
        "/home/ian/Grad/Research/Disks/Starfish/Starfish/emulator.py:422: DeprecationWarning: using a non-integer number instead of an integer will result in an error in the future\n",
        "  return np.random.multivariate_normal(self.mu, self.sig)\n"
       ]
      },
      {
       "output_type": "stream",
       "stream": "stderr",
       "text": [
        "/home/ian/Grad/Research/Disks/Starfish/Starfish/emulator.py:422: DeprecationWarning: using a non-integer number instead of an integer will result in an error in the future\n",
        "  return np.random.multivariate_normal(self.mu, self.sig)\n",
        "/home/ian/Grad/Research/Disks/Starfish/Starfish/emulator.py:422: DeprecationWarning: using a non-integer number instead of an integer will result in an error in the future\n",
        "  return np.random.multivariate_normal(self.mu, self.sig)\n",
        "/home/ian/Grad/Research/Disks/Starfish/Starfish/emulator.py:422: DeprecationWarning: using a non-integer number instead of an integer will result in an error in the future\n",
        "  return np.random.multivariate_normal(self.mu, self.sig)\n",
        "/home/ian/Grad/Research/Disks/Starfish/Starfish/emulator.py:422: DeprecationWarning: using a non-integer number instead of an integer will result in an error in the future\n",
        "  return np.random.multivariate_normal(self.mu, self.sig)\n"
       ]
      },
      {
       "output_type": "stream",
       "stream": "stderr",
       "text": [
        "/home/ian/Grad/Research/Disks/Starfish/Starfish/emulator.py:422: DeprecationWarning: using a non-integer number instead of an integer will result in an error in the future\n",
        "  return np.random.multivariate_normal(self.mu, self.sig)\n",
        "/home/ian/Grad/Research/Disks/Starfish/Starfish/emulator.py:422: DeprecationWarning: using a non-integer number instead of an integer will result in an error in the future\n",
        "  return np.random.multivariate_normal(self.mu, self.sig)\n",
        "/home/ian/Grad/Research/Disks/Starfish/Starfish/emulator.py:422: DeprecationWarning: using a non-integer number instead of an integer will result in an error in the future\n",
        "  return np.random.multivariate_normal(self.mu, self.sig)\n",
        "/home/ian/Grad/Research/Disks/Starfish/Starfish/emulator.py:422: DeprecationWarning: using a non-integer number instead of an integer will result in an error in the future\n",
        "  return np.random.multivariate_normal(self.mu, self.sig)\n"
       ]
      },
      {
       "output_type": "stream",
       "stream": "stderr",
       "text": [
        "/home/ian/Grad/Research/Disks/Starfish/Starfish/emulator.py:422: DeprecationWarning: using a non-integer number instead of an integer will result in an error in the future\n",
        "  return np.random.multivariate_normal(self.mu, self.sig)\n",
        "/home/ian/Grad/Research/Disks/Starfish/Starfish/emulator.py:422: DeprecationWarning: using a non-integer number instead of an integer will result in an error in the future\n",
        "  return np.random.multivariate_normal(self.mu, self.sig)\n",
        "/home/ian/Grad/Research/Disks/Starfish/Starfish/emulator.py:422: DeprecationWarning: using a non-integer number instead of an integer will result in an error in the future\n",
        "  return np.random.multivariate_normal(self.mu, self.sig)\n",
        "/home/ian/Grad/Research/Disks/Starfish/Starfish/emulator.py:422: DeprecationWarning: using a non-integer number instead of an integer will result in an error in the future\n",
        "  return np.random.multivariate_normal(self.mu, self.sig)\n"
       ]
      },
      {
       "output_type": "stream",
       "stream": "stderr",
       "text": [
        "/home/ian/Grad/Research/Disks/Starfish/Starfish/emulator.py:422: DeprecationWarning: using a non-integer number instead of an integer will result in an error in the future\n",
        "  return np.random.multivariate_normal(self.mu, self.sig)\n",
        "/home/ian/Grad/Research/Disks/Starfish/Starfish/emulator.py:422: DeprecationWarning: using a non-integer number instead of an integer will result in an error in the future\n",
        "  return np.random.multivariate_normal(self.mu, self.sig)\n",
        "/home/ian/Grad/Research/Disks/Starfish/Starfish/emulator.py:422: DeprecationWarning: using a non-integer number instead of an integer will result in an error in the future\n",
        "  return np.random.multivariate_normal(self.mu, self.sig)\n",
        "/home/ian/Grad/Research/Disks/Starfish/Starfish/emulator.py:422: DeprecationWarning: using a non-integer number instead of an integer will result in an error in the future\n",
        "  return np.random.multivariate_normal(self.mu, self.sig)\n",
        "/home/ian/Grad/Research/Disks/Starfish/Starfish/emulator.py:422: DeprecationWarning: using a non-integer number instead of an integer will result in an error in the future\n",
        "  return np.random.multivariate_normal(self.mu, self.sig)\n"
       ]
      },
      {
       "output_type": "stream",
       "stream": "stderr",
       "text": [
        "/home/ian/Grad/Research/Disks/Starfish/Starfish/emulator.py:422: DeprecationWarning: using a non-integer number instead of an integer will result in an error in the future\n",
        "  return np.random.multivariate_normal(self.mu, self.sig)\n",
        "/home/ian/Grad/Research/Disks/Starfish/Starfish/emulator.py:422: DeprecationWarning: using a non-integer number instead of an integer will result in an error in the future\n",
        "  return np.random.multivariate_normal(self.mu, self.sig)\n",
        "/home/ian/Grad/Research/Disks/Starfish/Starfish/emulator.py:422: DeprecationWarning: using a non-integer number instead of an integer will result in an error in the future\n",
        "  return np.random.multivariate_normal(self.mu, self.sig)\n",
        "/home/ian/Grad/Research/Disks/Starfish/Starfish/emulator.py:422: DeprecationWarning: using a non-integer number instead of an integer will result in an error in the future\n",
        "  return np.random.multivariate_normal(self.mu, self.sig)\n",
        "/home/ian/Grad/Research/Disks/Starfish/Starfish/emulator.py:422: DeprecationWarning: using a non-integer number instead of an integer will result in an error in the future\n",
        "  return np.random.multivariate_normal(self.mu, self.sig)\n"
       ]
      },
      {
       "output_type": "stream",
       "stream": "stderr",
       "text": [
        "/home/ian/Grad/Research/Disks/Starfish/Starfish/emulator.py:422: DeprecationWarning: using a non-integer number instead of an integer will result in an error in the future\n",
        "  return np.random.multivariate_normal(self.mu, self.sig)\n",
        "/home/ian/Grad/Research/Disks/Starfish/Starfish/emulator.py:422: DeprecationWarning: using a non-integer number instead of an integer will result in an error in the future\n",
        "  return np.random.multivariate_normal(self.mu, self.sig)\n",
        "/home/ian/Grad/Research/Disks/Starfish/Starfish/emulator.py:422: DeprecationWarning: using a non-integer number instead of an integer will result in an error in the future\n",
        "  return np.random.multivariate_normal(self.mu, self.sig)\n",
        "/home/ian/Grad/Research/Disks/Starfish/Starfish/emulator.py:422: DeprecationWarning: using a non-integer number instead of an integer will result in an error in the future\n",
        "  return np.random.multivariate_normal(self.mu, self.sig)\n",
        "/home/ian/Grad/Research/Disks/Starfish/Starfish/emulator.py:422: DeprecationWarning: using a non-integer number instead of an integer will result in an error in the future\n",
        "  return np.random.multivariate_normal(self.mu, self.sig)\n"
       ]
      },
      {
       "output_type": "stream",
       "stream": "stderr",
       "text": [
        "/home/ian/Grad/Research/Disks/Starfish/Starfish/emulator.py:422: DeprecationWarning: using a non-integer number instead of an integer will result in an error in the future\n",
        "  return np.random.multivariate_normal(self.mu, self.sig)\n",
        "/home/ian/Grad/Research/Disks/Starfish/Starfish/emulator.py:422: DeprecationWarning: using a non-integer number instead of an integer will result in an error in the future\n",
        "  return np.random.multivariate_normal(self.mu, self.sig)\n",
        "/home/ian/Grad/Research/Disks/Starfish/Starfish/emulator.py:422: DeprecationWarning: using a non-integer number instead of an integer will result in an error in the future\n",
        "  return np.random.multivariate_normal(self.mu, self.sig)\n",
        "/home/ian/Grad/Research/Disks/Starfish/Starfish/emulator.py:422: DeprecationWarning: using a non-integer number instead of an integer will result in an error in the future\n",
        "  return np.random.multivariate_normal(self.mu, self.sig)\n"
       ]
      },
      {
       "output_type": "stream",
       "stream": "stderr",
       "text": [
        "/home/ian/Grad/Research/Disks/Starfish/Starfish/emulator.py:422: DeprecationWarning: using a non-integer number instead of an integer will result in an error in the future\n",
        "  return np.random.multivariate_normal(self.mu, self.sig)\n",
        "/home/ian/Grad/Research/Disks/Starfish/Starfish/emulator.py:422: DeprecationWarning: using a non-integer number instead of an integer will result in an error in the future\n",
        "  return np.random.multivariate_normal(self.mu, self.sig)\n",
        "/home/ian/Grad/Research/Disks/Starfish/Starfish/emulator.py:422: DeprecationWarning: using a non-integer number instead of an integer will result in an error in the future\n",
        "  return np.random.multivariate_normal(self.mu, self.sig)\n",
        "/home/ian/Grad/Research/Disks/Starfish/Starfish/emulator.py:422: DeprecationWarning: using a non-integer number instead of an integer will result in an error in the future\n",
        "  return np.random.multivariate_normal(self.mu, self.sig)\n"
       ]
      },
      {
       "output_type": "stream",
       "stream": "stderr",
       "text": [
        "/home/ian/Grad/Research/Disks/Starfish/Starfish/emulator.py:422: DeprecationWarning: using a non-integer number instead of an integer will result in an error in the future\n",
        "  return np.random.multivariate_normal(self.mu, self.sig)\n",
        "/home/ian/Grad/Research/Disks/Starfish/Starfish/emulator.py:422: DeprecationWarning: using a non-integer number instead of an integer will result in an error in the future\n",
        "  return np.random.multivariate_normal(self.mu, self.sig)\n",
        "/home/ian/Grad/Research/Disks/Starfish/Starfish/emulator.py:422: DeprecationWarning: using a non-integer number instead of an integer will result in an error in the future\n",
        "  return np.random.multivariate_normal(self.mu, self.sig)\n",
        "/home/ian/Grad/Research/Disks/Starfish/Starfish/emulator.py:422: DeprecationWarning: using a non-integer number instead of an integer will result in an error in the future\n",
        "  return np.random.multivariate_normal(self.mu, self.sig)\n"
       ]
      },
      {
       "output_type": "stream",
       "stream": "stdout",
       "text": [
        "10 loops, best of 3: 85.4 ms per loop\n"
       ]
      },
      {
       "output_type": "stream",
       "stream": "stderr",
       "text": [
        "/home/ian/Grad/Research/Disks/Starfish/Starfish/emulator.py:422: DeprecationWarning: using a non-integer number instead of an integer will result in an error in the future\n",
        "  return np.random.multivariate_normal(self.mu, self.sig)\n",
        "/home/ian/Grad/Research/Disks/Starfish/Starfish/emulator.py:422: DeprecationWarning: using a non-integer number instead of an integer will result in an error in the future\n",
        "  return np.random.multivariate_normal(self.mu, self.sig)\n"
       ]
      }
     ],
     "prompt_number": 13
    },
    {
     "cell_type": "code",
     "collapsed": false,
     "input": [
      "wl = pcagrid.wl\n",
      "temps = np.unique(pcagrid.gparams[:,0])\n",
      "loggs = np.unique(pcagrid.gparams[:,1])\n",
      "Zs = np.unique(pcagrid.gparams[:,2])\n",
      "points = {\"temp\":temps, \"logg\":loggs, \"Z\":Zs}"
     ],
     "language": "python",
     "metadata": {},
     "outputs": [],
     "prompt_number": 12
    },
    {
     "cell_type": "markdown",
     "metadata": {},
     "source": [
      "## Weight display"
     ]
    },
    {
     "cell_type": "code",
     "collapsed": false,
     "input": [
      "int_temps = np.linspace(temps[0], temps[-1], num=40)\n",
      "int_loggs = np.linspace(loggs[0], loggs[-1], num=40)\n",
      "int_Zs = np.linspace(Zs[0], Zs[-1], num=40)"
     ],
     "language": "python",
     "metadata": {},
     "outputs": [],
     "prompt_number": 14
    },
    {
     "cell_type": "code",
     "collapsed": true,
     "input": [
      "def explore(weight_index):\n",
      "\n",
      "    weights = pcagrid.w[weight_index]\n",
      "    pcomp = pcagrid.pcomps[weight_index]\n",
      "    EMw = EM.WEs[weight_index]\n",
      "    \n",
      "    nsamp = 5\n",
      "    \n",
      "    figt, axt = plt.subplots(nrows=4, ncols=4, figsize=(12,12), sharex=True, sharey=True)\n",
      "\n",
      "    for i in range(4):\n",
      "        for j in range(4):\n",
      "            logg = loggs[i]\n",
      "            Z = Zs[j]\n",
      "            ww = []\n",
      "            for temp in temps:\n",
      "                pars = np.array([temp, logg, Z])\n",
      "                index = pcagrid.get_index(pars)\n",
      "                ww.append(weights[index])\n",
      "            axt[i,j].plot(temps, ww, \"k\")\n",
      "            axt[i,j].plot(temps, ww, \"bo\")\n",
      "            axt[i,j].annotate(r\"$\\log g = {:.1f}$\".format(logg), (0.1, 0.90), xycoords=\"axes fraction\", ha=\"left\", color=\"k\", size=9)\n",
      "            axt[i,j].annotate(r\"$Z = {:.1f}$\".format(Z), (0.1, 0.8), xycoords=\"axes fraction\", ha=\"left\", color=\"k\", size=9)      \n",
      "            \n",
      "            fparams = []\n",
      "            for temp in int_temps:\n",
      "                fparams.append([temp, logg, Z])\n",
      "            fparams = np.array(fparams)        \n",
      "            \n",
      "            for k in range(nsamp):\n",
      "                axt[i,j].plot(int_temps, EMw(fparams), \"b\", lw=0.5)                \n",
      "\n",
      "    axt[-1, -1].xaxis.set_major_formatter(FSF(\"%.0f\"))        \n",
      "    axt[-1, -1].xaxis.set_major_locator(MultipleLocator(200))        \n",
      "    \n",
      "    \n",
      "    figl, axl = plt.subplots(nrows=4, ncols=7, figsize=(18,12), sharex=True, sharey=True)\n",
      "\n",
      "    for i in range(4):\n",
      "        for j in range(7):\n",
      "            Z = Zs[i]\n",
      "            temp = temps[j]\n",
      "            ww = []\n",
      "            for logg in loggs:\n",
      "                pars = np.array([temp, logg, Z])\n",
      "                index = pcagrid.get_index(pars)\n",
      "                ww.append(weights[index]) #np.sum(emulator.fluxes[index] * pcomp))\n",
      "            axl[i,j].plot(loggs, ww, \"k\")\n",
      "            axl[i,j].plot(loggs, ww, \"bo\")\n",
      "            axl[i,j].annotate(r\"$T_{\\rm eff}$\" + \"$= {:.0f}$\".format(temp), (0.1, 0.90), xycoords=\"axes fraction\", ha=\"left\", color=\"k\", size=9)\n",
      "            axl[i,j].annotate(r\"$Z = {:.1f}$\".format(Z), (0.1, 0.8), xycoords=\"axes fraction\", ha=\"left\", color=\"k\", size=9)      \n",
      "            \n",
      "            fparams = []\n",
      "            for logg in int_loggs:\n",
      "                fparams.append([temp, logg, Z])\n",
      "            fparams = np.array(fparams)        \n",
      "            \n",
      "            for k in range(nsamp):\n",
      "                #EMw.emulator_params = samples[np.random.choice(indexes)]\n",
      "                axl[i,j].plot(int_loggs, EMw(fparams), \"b\", lw=0.5)\n",
      "            \n",
      "    axl[-1, -1].xaxis.set_major_formatter(FSF(\"%.1f\"))        \n",
      "    axl[-1, -1].xaxis.set_major_locator(MultipleLocator(0.5))    \n",
      "    \n",
      "    figz, axz = plt.subplots(nrows=4, ncols=7, figsize=(18,12), sharex=True, sharey=True)\n",
      "\n",
      "    for i in range(4):\n",
      "        for j in range(7):\n",
      "            logg = loggs[i]\n",
      "            temp = temps[j]\n",
      "            ww = []\n",
      "            for Z in Zs:\n",
      "                pars = np.array([temp, logg, Z])\n",
      "                index = pcagrid.get_index(pars)\n",
      "                ww.append(weights[index]) #np.sum(emulator.fluxes[index] * pcomp))\n",
      "            axz[i,j].plot(Zs, ww, \"k\")\n",
      "            axz[i,j].plot(Zs, ww, \"bo\")\n",
      "            axz[i,j].annotate(r\"$\\log g = {:.1f}$\".format(logg), (0.1, 0.90), xycoords=\"axes fraction\", ha=\"left\", color=\"k\", size=9)\n",
      "            axz[i,j].annotate(r\"$T_{\\rm eff}$\" + \"$ = {:.0f}$\".format(temp), (0.1, 0.8), xycoords=\"axes fraction\", ha=\"left\", color=\"k\", size=9)      \n",
      "            \n",
      "            fparams = []\n",
      "            for Z in int_Zs:\n",
      "                fparams.append([temp, logg, Z])\n",
      "            fparams = np.array(fparams)        \n",
      "            \n",
      "            for k in range(nsamp):\n",
      "                #EMw.emulator_params = samples[np.random.choice(indexes)]\n",
      "                axz[i,j].plot(int_Zs, EMw(fparams), \"b\", lw=0.5)\n",
      "\n",
      "    axz[-1, -1].xaxis.set_major_formatter(FSF(\"%.1f\"))        \n",
      "    axz[-1, -1].xaxis.set_major_locator(MultipleLocator(0.5))  \n",
      "    \n",
      "    plt.show()"
     ],
     "language": "python",
     "metadata": {},
     "outputs": [],
     "prompt_number": 17
    },
    {
     "cell_type": "code",
     "collapsed": true,
     "input": [
      "explore(0);"
     ],
     "language": "python",
     "metadata": {},
     "outputs": [
      {
       "output_type": "stream",
       "stream": "stderr",
       "text": [
        "/home/ian/Grad/Research/Disks/Starfish/Starfish/emulator.py:422: DeprecationWarning: using a non-integer number instead of an integer will result in an error in the future\n",
        "  return np.random.multivariate_normal(self.mu, self.sig)\n",
        "/home/ian/Grad/Research/Disks/Starfish/Starfish/emulator.py:422: DeprecationWarning: using a non-integer number instead of an integer will result in an error in the future\n",
        "  return np.random.multivariate_normal(self.mu, self.sig)\n",
        "/home/ian/Grad/Research/Disks/Starfish/Starfish/emulator.py:422: DeprecationWarning: using a non-integer number instead of an integer will result in an error in the future\n",
        "  return np.random.multivariate_normal(self.mu, self.sig)\n"
       ]
      },
      {
       "output_type": "stream",
       "stream": "stderr",
       "text": [
        "/home/ian/Grad/Research/Disks/Starfish/Starfish/emulator.py:422: DeprecationWarning: using a non-integer number instead of an integer will result in an error in the future\n",
        "  return np.random.multivariate_normal(self.mu, self.sig)\n",
        "/home/ian/Grad/Research/Disks/Starfish/Starfish/emulator.py:422: DeprecationWarning: using a non-integer number instead of an integer will result in an error in the future\n",
        "  return np.random.multivariate_normal(self.mu, self.sig)\n",
        "/home/ian/Grad/Research/Disks/Starfish/Starfish/emulator.py:422: DeprecationWarning: using a non-integer number instead of an integer will result in an error in the future\n",
        "  return np.random.multivariate_normal(self.mu, self.sig)\n"
       ]
      },
      {
       "output_type": "stream",
       "stream": "stderr",
       "text": [
        "/home/ian/Grad/Research/Disks/Starfish/Starfish/emulator.py:422: DeprecationWarning: using a non-integer number instead of an integer will result in an error in the future\n",
        "  return np.random.multivariate_normal(self.mu, self.sig)\n",
        "/home/ian/Grad/Research/Disks/Starfish/Starfish/emulator.py:422: DeprecationWarning: using a non-integer number instead of an integer will result in an error in the future\n",
        "  return np.random.multivariate_normal(self.mu, self.sig)\n",
        "/home/ian/Grad/Research/Disks/Starfish/Starfish/emulator.py:422: DeprecationWarning: using a non-integer number instead of an integer will result in an error in the future\n",
        "  return np.random.multivariate_normal(self.mu, self.sig)\n"
       ]
      },
      {
       "output_type": "stream",
       "stream": "stderr",
       "text": [
        "/home/ian/Grad/Research/Disks/Starfish/Starfish/emulator.py:422: DeprecationWarning: using a non-integer number instead of an integer will result in an error in the future\n",
        "  return np.random.multivariate_normal(self.mu, self.sig)\n",
        "/home/ian/Grad/Research/Disks/Starfish/Starfish/emulator.py:422: DeprecationWarning: using a non-integer number instead of an integer will result in an error in the future\n",
        "  return np.random.multivariate_normal(self.mu, self.sig)\n",
        "/home/ian/Grad/Research/Disks/Starfish/Starfish/emulator.py:422: DeprecationWarning: using a non-integer number instead of an integer will result in an error in the future\n",
        "  return np.random.multivariate_normal(self.mu, self.sig)\n"
       ]
      },
      {
       "output_type": "stream",
       "stream": "stderr",
       "text": [
        "/home/ian/Grad/Research/Disks/Starfish/Starfish/emulator.py:422: DeprecationWarning: using a non-integer number instead of an integer will result in an error in the future\n",
        "  return np.random.multivariate_normal(self.mu, self.sig)\n",
        "/home/ian/Grad/Research/Disks/Starfish/Starfish/emulator.py:422: DeprecationWarning: using a non-integer number instead of an integer will result in an error in the future\n",
        "  return np.random.multivariate_normal(self.mu, self.sig)\n",
        "/home/ian/Grad/Research/Disks/Starfish/Starfish/emulator.py:422: DeprecationWarning: using a non-integer number instead of an integer will result in an error in the future\n",
        "  return np.random.multivariate_normal(self.mu, self.sig)\n"
       ]
      },
      {
       "output_type": "stream",
       "stream": "stderr",
       "text": [
        "/home/ian/Grad/Research/Disks/Starfish/Starfish/emulator.py:422: DeprecationWarning: using a non-integer number instead of an integer will result in an error in the future\n",
        "  return np.random.multivariate_normal(self.mu, self.sig)\n",
        "/home/ian/Grad/Research/Disks/Starfish/Starfish/emulator.py:422: DeprecationWarning: using a non-integer number instead of an integer will result in an error in the future\n",
        "  return np.random.multivariate_normal(self.mu, self.sig)\n",
        "/home/ian/Grad/Research/Disks/Starfish/Starfish/emulator.py:422: DeprecationWarning: using a non-integer number instead of an integer will result in an error in the future\n",
        "  return np.random.multivariate_normal(self.mu, self.sig)\n"
       ]
      },
      {
       "output_type": "stream",
       "stream": "stderr",
       "text": [
        "/home/ian/Grad/Research/Disks/Starfish/Starfish/emulator.py:422: DeprecationWarning: using a non-integer number instead of an integer will result in an error in the future\n",
        "  return np.random.multivariate_normal(self.mu, self.sig)\n",
        "/home/ian/Grad/Research/Disks/Starfish/Starfish/emulator.py:422: DeprecationWarning: using a non-integer number instead of an integer will result in an error in the future\n",
        "  return np.random.multivariate_normal(self.mu, self.sig)\n",
        "/home/ian/Grad/Research/Disks/Starfish/Starfish/emulator.py:422: DeprecationWarning: using a non-integer number instead of an integer will result in an error in the future\n",
        "  return np.random.multivariate_normal(self.mu, self.sig)\n"
       ]
      },
      {
       "output_type": "stream",
       "stream": "stderr",
       "text": [
        "/home/ian/Grad/Research/Disks/Starfish/Starfish/emulator.py:422: DeprecationWarning: using a non-integer number instead of an integer will result in an error in the future\n",
        "  return np.random.multivariate_normal(self.mu, self.sig)\n",
        "/home/ian/Grad/Research/Disks/Starfish/Starfish/emulator.py:422: DeprecationWarning: using a non-integer number instead of an integer will result in an error in the future\n",
        "  return np.random.multivariate_normal(self.mu, self.sig)\n",
        "/home/ian/Grad/Research/Disks/Starfish/Starfish/emulator.py:422: DeprecationWarning: using a non-integer number instead of an integer will result in an error in the future\n",
        "  return np.random.multivariate_normal(self.mu, self.sig)\n"
       ]
      },
      {
       "output_type": "stream",
       "stream": "stderr",
       "text": [
        "/home/ian/Grad/Research/Disks/Starfish/Starfish/emulator.py:422: DeprecationWarning: using a non-integer number instead of an integer will result in an error in the future\n",
        "  return np.random.multivariate_normal(self.mu, self.sig)\n",
        "/home/ian/Grad/Research/Disks/Starfish/Starfish/emulator.py:422: DeprecationWarning: using a non-integer number instead of an integer will result in an error in the future\n",
        "  return np.random.multivariate_normal(self.mu, self.sig)\n"
       ]
      },
      {
       "output_type": "stream",
       "stream": "stderr",
       "text": [
        "/home/ian/Grad/Research/Disks/Starfish/Starfish/emulator.py:422: DeprecationWarning: using a non-integer number instead of an integer will result in an error in the future\n",
        "  return np.random.multivariate_normal(self.mu, self.sig)\n",
        "/home/ian/Grad/Research/Disks/Starfish/Starfish/emulator.py:422: DeprecationWarning: using a non-integer number instead of an integer will result in an error in the future\n",
        "  return np.random.multivariate_normal(self.mu, self.sig)\n",
        "/home/ian/Grad/Research/Disks/Starfish/Starfish/emulator.py:422: DeprecationWarning: using a non-integer number instead of an integer will result in an error in the future\n",
        "  return np.random.multivariate_normal(self.mu, self.sig)\n"
       ]
      },
      {
       "output_type": "stream",
       "stream": "stderr",
       "text": [
        "/home/ian/Grad/Research/Disks/Starfish/Starfish/emulator.py:422: DeprecationWarning: using a non-integer number instead of an integer will result in an error in the future\n",
        "  return np.random.multivariate_normal(self.mu, self.sig)\n",
        "/home/ian/Grad/Research/Disks/Starfish/Starfish/emulator.py:422: DeprecationWarning: using a non-integer number instead of an integer will result in an error in the future\n",
        "  return np.random.multivariate_normal(self.mu, self.sig)\n",
        "/home/ian/Grad/Research/Disks/Starfish/Starfish/emulator.py:422: DeprecationWarning: using a non-integer number instead of an integer will result in an error in the future\n",
        "  return np.random.multivariate_normal(self.mu, self.sig)\n"
       ]
      },
      {
       "output_type": "stream",
       "stream": "stderr",
       "text": [
        "/home/ian/Grad/Research/Disks/Starfish/Starfish/emulator.py:422: DeprecationWarning: using a non-integer number instead of an integer will result in an error in the future\n",
        "  return np.random.multivariate_normal(self.mu, self.sig)\n",
        "/home/ian/Grad/Research/Disks/Starfish/Starfish/emulator.py:422: DeprecationWarning: using a non-integer number instead of an integer will result in an error in the future\n",
        "  return np.random.multivariate_normal(self.mu, self.sig)\n"
       ]
      },
      {
       "output_type": "stream",
       "stream": "stderr",
       "text": [
        "/home/ian/Grad/Research/Disks/Starfish/Starfish/emulator.py:422: DeprecationWarning: using a non-integer number instead of an integer will result in an error in the future\n",
        "  return np.random.multivariate_normal(self.mu, self.sig)\n",
        "/home/ian/Grad/Research/Disks/Starfish/Starfish/emulator.py:422: DeprecationWarning: using a non-integer number instead of an integer will result in an error in the future\n",
        "  return np.random.multivariate_normal(self.mu, self.sig)\n"
       ]
      },
      {
       "output_type": "stream",
       "stream": "stderr",
       "text": [
        "/home/ian/Grad/Research/Disks/Starfish/Starfish/emulator.py:422: DeprecationWarning: using a non-integer number instead of an integer will result in an error in the future\n",
        "  return np.random.multivariate_normal(self.mu, self.sig)\n",
        "/home/ian/Grad/Research/Disks/Starfish/Starfish/emulator.py:422: DeprecationWarning: using a non-integer number instead of an integer will result in an error in the future\n",
        "  return np.random.multivariate_normal(self.mu, self.sig)\n",
        "/home/ian/Grad/Research/Disks/Starfish/Starfish/emulator.py:422: DeprecationWarning: using a non-integer number instead of an integer will result in an error in the future\n",
        "  return np.random.multivariate_normal(self.mu, self.sig)\n"
       ]
      },
      {
       "output_type": "stream",
       "stream": "stderr",
       "text": [
        "/home/ian/Grad/Research/Disks/Starfish/Starfish/emulator.py:422: DeprecationWarning: using a non-integer number instead of an integer will result in an error in the future\n",
        "  return np.random.multivariate_normal(self.mu, self.sig)\n",
        "/home/ian/Grad/Research/Disks/Starfish/Starfish/emulator.py:422: DeprecationWarning: using a non-integer number instead of an integer will result in an error in the future\n",
        "  return np.random.multivariate_normal(self.mu, self.sig)\n"
       ]
      },
      {
       "output_type": "stream",
       "stream": "stderr",
       "text": [
        "/home/ian/Grad/Research/Disks/Starfish/Starfish/emulator.py:422: DeprecationWarning: using a non-integer number instead of an integer will result in an error in the future\n",
        "  return np.random.multivariate_normal(self.mu, self.sig)\n",
        "/home/ian/Grad/Research/Disks/Starfish/Starfish/emulator.py:422: DeprecationWarning: using a non-integer number instead of an integer will result in an error in the future\n",
        "  return np.random.multivariate_normal(self.mu, self.sig)\n",
        "/home/ian/Grad/Research/Disks/Starfish/Starfish/emulator.py:422: DeprecationWarning: using a non-integer number instead of an integer will result in an error in the future\n",
        "  return np.random.multivariate_normal(self.mu, self.sig)\n"
       ]
      },
      {
       "output_type": "stream",
       "stream": "stderr",
       "text": [
        "/home/ian/Grad/Research/Disks/Starfish/Starfish/emulator.py:422: DeprecationWarning: using a non-integer number instead of an integer will result in an error in the future\n",
        "  return np.random.multivariate_normal(self.mu, self.sig)\n",
        "/home/ian/Grad/Research/Disks/Starfish/Starfish/emulator.py:422: DeprecationWarning: using a non-integer number instead of an integer will result in an error in the future\n",
        "  return np.random.multivariate_normal(self.mu, self.sig)\n"
       ]
      },
      {
       "output_type": "stream",
       "stream": "stderr",
       "text": [
        "/home/ian/Grad/Research/Disks/Starfish/Starfish/emulator.py:422: DeprecationWarning: using a non-integer number instead of an integer will result in an error in the future\n",
        "  return np.random.multivariate_normal(self.mu, self.sig)\n",
        "/home/ian/Grad/Research/Disks/Starfish/Starfish/emulator.py:422: DeprecationWarning: using a non-integer number instead of an integer will result in an error in the future\n",
        "  return np.random.multivariate_normal(self.mu, self.sig)\n",
        "/home/ian/Grad/Research/Disks/Starfish/Starfish/emulator.py:422: DeprecationWarning: using a non-integer number instead of an integer will result in an error in the future\n",
        "  return np.random.multivariate_normal(self.mu, self.sig)\n"
       ]
      },
      {
       "output_type": "stream",
       "stream": "stderr",
       "text": [
        "/home/ian/Grad/Research/Disks/Starfish/Starfish/emulator.py:422: DeprecationWarning: using a non-integer number instead of an integer will result in an error in the future\n",
        "  return np.random.multivariate_normal(self.mu, self.sig)\n",
        "/home/ian/Grad/Research/Disks/Starfish/Starfish/emulator.py:422: DeprecationWarning: using a non-integer number instead of an integer will result in an error in the future\n",
        "  return np.random.multivariate_normal(self.mu, self.sig)\n",
        "/home/ian/Grad/Research/Disks/Starfish/Starfish/emulator.py:422: DeprecationWarning: using a non-integer number instead of an integer will result in an error in the future\n",
        "  return np.random.multivariate_normal(self.mu, self.sig)\n"
       ]
      },
      {
       "output_type": "stream",
       "stream": "stderr",
       "text": [
        "/home/ian/Grad/Research/Disks/Starfish/Starfish/emulator.py:422: DeprecationWarning: using a non-integer number instead of an integer will result in an error in the future\n",
        "  return np.random.multivariate_normal(self.mu, self.sig)\n",
        "/home/ian/Grad/Research/Disks/Starfish/Starfish/emulator.py:422: DeprecationWarning: using a non-integer number instead of an integer will result in an error in the future\n",
        "  return np.random.multivariate_normal(self.mu, self.sig)\n",
        "/home/ian/Grad/Research/Disks/Starfish/Starfish/emulator.py:422: DeprecationWarning: using a non-integer number instead of an integer will result in an error in the future\n",
        "  return np.random.multivariate_normal(self.mu, self.sig)\n"
       ]
      },
      {
       "output_type": "stream",
       "stream": "stderr",
       "text": [
        "/home/ian/Grad/Research/Disks/Starfish/Starfish/emulator.py:422: DeprecationWarning: using a non-integer number instead of an integer will result in an error in the future\n",
        "  return np.random.multivariate_normal(self.mu, self.sig)\n",
        "/home/ian/Grad/Research/Disks/Starfish/Starfish/emulator.py:422: DeprecationWarning: using a non-integer number instead of an integer will result in an error in the future\n",
        "  return np.random.multivariate_normal(self.mu, self.sig)\n",
        "/home/ian/Grad/Research/Disks/Starfish/Starfish/emulator.py:422: DeprecationWarning: using a non-integer number instead of an integer will result in an error in the future\n",
        "  return np.random.multivariate_normal(self.mu, self.sig)\n"
       ]
      },
      {
       "output_type": "stream",
       "stream": "stderr",
       "text": [
        "/home/ian/Grad/Research/Disks/Starfish/Starfish/emulator.py:422: DeprecationWarning: using a non-integer number instead of an integer will result in an error in the future\n",
        "  return np.random.multivariate_normal(self.mu, self.sig)\n",
        "/home/ian/Grad/Research/Disks/Starfish/Starfish/emulator.py:422: DeprecationWarning: using a non-integer number instead of an integer will result in an error in the future\n",
        "  return np.random.multivariate_normal(self.mu, self.sig)\n",
        "/home/ian/Grad/Research/Disks/Starfish/Starfish/emulator.py:422: DeprecationWarning: using a non-integer number instead of an integer will result in an error in the future\n",
        "  return np.random.multivariate_normal(self.mu, self.sig)\n"
       ]
      },
      {
       "output_type": "stream",
       "stream": "stderr",
       "text": [
        "/home/ian/Grad/Research/Disks/Starfish/Starfish/emulator.py:422: DeprecationWarning: using a non-integer number instead of an integer will result in an error in the future\n",
        "  return np.random.multivariate_normal(self.mu, self.sig)\n",
        "/home/ian/Grad/Research/Disks/Starfish/Starfish/emulator.py:422: DeprecationWarning: using a non-integer number instead of an integer will result in an error in the future\n",
        "  return np.random.multivariate_normal(self.mu, self.sig)\n",
        "/home/ian/Grad/Research/Disks/Starfish/Starfish/emulator.py:422: DeprecationWarning: using a non-integer number instead of an integer will result in an error in the future\n",
        "  return np.random.multivariate_normal(self.mu, self.sig)\n"
       ]
      },
      {
       "output_type": "stream",
       "stream": "stderr",
       "text": [
        "/home/ian/Grad/Research/Disks/Starfish/Starfish/emulator.py:422: DeprecationWarning: using a non-integer number instead of an integer will result in an error in the future\n",
        "  return np.random.multivariate_normal(self.mu, self.sig)\n",
        "/home/ian/Grad/Research/Disks/Starfish/Starfish/emulator.py:422: DeprecationWarning: using a non-integer number instead of an integer will result in an error in the future\n",
        "  return np.random.multivariate_normal(self.mu, self.sig)\n",
        "/home/ian/Grad/Research/Disks/Starfish/Starfish/emulator.py:422: DeprecationWarning: using a non-integer number instead of an integer will result in an error in the future\n",
        "  return np.random.multivariate_normal(self.mu, self.sig)\n"
       ]
      },
      {
       "output_type": "stream",
       "stream": "stderr",
       "text": [
        "/home/ian/Grad/Research/Disks/Starfish/Starfish/emulator.py:422: DeprecationWarning: using a non-integer number instead of an integer will result in an error in the future\n",
        "  return np.random.multivariate_normal(self.mu, self.sig)\n",
        "/home/ian/Grad/Research/Disks/Starfish/Starfish/emulator.py:422: DeprecationWarning: using a non-integer number instead of an integer will result in an error in the future\n",
        "  return np.random.multivariate_normal(self.mu, self.sig)\n",
        "/home/ian/Grad/Research/Disks/Starfish/Starfish/emulator.py:422: DeprecationWarning: using a non-integer number instead of an integer will result in an error in the future\n",
        "  return np.random.multivariate_normal(self.mu, self.sig)\n"
       ]
      },
      {
       "output_type": "stream",
       "stream": "stderr",
       "text": [
        "/home/ian/Grad/Research/Disks/Starfish/Starfish/emulator.py:422: DeprecationWarning: using a non-integer number instead of an integer will result in an error in the future\n",
        "  return np.random.multivariate_normal(self.mu, self.sig)\n",
        "/home/ian/Grad/Research/Disks/Starfish/Starfish/emulator.py:422: DeprecationWarning: using a non-integer number instead of an integer will result in an error in the future\n",
        "  return np.random.multivariate_normal(self.mu, self.sig)\n",
        "/home/ian/Grad/Research/Disks/Starfish/Starfish/emulator.py:422: DeprecationWarning: using a non-integer number instead of an integer will result in an error in the future\n",
        "  return np.random.multivariate_normal(self.mu, self.sig)\n"
       ]
      },
      {
       "output_type": "stream",
       "stream": "stderr",
       "text": [
        "/home/ian/Grad/Research/Disks/Starfish/Starfish/emulator.py:422: DeprecationWarning: using a non-integer number instead of an integer will result in an error in the future\n",
        "  return np.random.multivariate_normal(self.mu, self.sig)\n",
        "/home/ian/Grad/Research/Disks/Starfish/Starfish/emulator.py:422: DeprecationWarning: using a non-integer number instead of an integer will result in an error in the future\n",
        "  return np.random.multivariate_normal(self.mu, self.sig)\n",
        "/home/ian/Grad/Research/Disks/Starfish/Starfish/emulator.py:422: DeprecationWarning: using a non-integer number instead of an integer will result in an error in the future\n",
        "  return np.random.multivariate_normal(self.mu, self.sig)\n"
       ]
      },
      {
       "output_type": "stream",
       "stream": "stderr",
       "text": [
        "/home/ian/Grad/Research/Disks/Starfish/Starfish/emulator.py:422: DeprecationWarning: using a non-integer number instead of an integer will result in an error in the future\n",
        "  return np.random.multivariate_normal(self.mu, self.sig)\n",
        "/home/ian/Grad/Research/Disks/Starfish/Starfish/emulator.py:422: DeprecationWarning: using a non-integer number instead of an integer will result in an error in the future\n",
        "  return np.random.multivariate_normal(self.mu, self.sig)\n",
        "/home/ian/Grad/Research/Disks/Starfish/Starfish/emulator.py:422: DeprecationWarning: using a non-integer number instead of an integer will result in an error in the future\n",
        "  return np.random.multivariate_normal(self.mu, self.sig)\n"
       ]
      },
      {
       "output_type": "stream",
       "stream": "stderr",
       "text": [
        "/home/ian/Grad/Research/Disks/Starfish/Starfish/emulator.py:422: DeprecationWarning: using a non-integer number instead of an integer will result in an error in the future\n",
        "  return np.random.multivariate_normal(self.mu, self.sig)\n",
        "/home/ian/Grad/Research/Disks/Starfish/Starfish/emulator.py:422: DeprecationWarning: using a non-integer number instead of an integer will result in an error in the future\n",
        "  return np.random.multivariate_normal(self.mu, self.sig)\n"
       ]
      },
      {
       "output_type": "stream",
       "stream": "stderr",
       "text": [
        "/home/ian/Grad/Research/Disks/Starfish/Starfish/emulator.py:422: DeprecationWarning: using a non-integer number instead of an integer will result in an error in the future\n",
        "  return np.random.multivariate_normal(self.mu, self.sig)\n",
        "/home/ian/Grad/Research/Disks/Starfish/Starfish/emulator.py:422: DeprecationWarning: using a non-integer number instead of an integer will result in an error in the future\n",
        "  return np.random.multivariate_normal(self.mu, self.sig)\n",
        "/home/ian/Grad/Research/Disks/Starfish/Starfish/emulator.py:422: DeprecationWarning: using a non-integer number instead of an integer will result in an error in the future\n",
        "  return np.random.multivariate_normal(self.mu, self.sig)\n"
       ]
      },
      {
       "output_type": "stream",
       "stream": "stderr",
       "text": [
        "/home/ian/Grad/Research/Disks/Starfish/Starfish/emulator.py:422: DeprecationWarning: using a non-integer number instead of an integer will result in an error in the future\n",
        "  return np.random.multivariate_normal(self.mu, self.sig)\n",
        "/home/ian/Grad/Research/Disks/Starfish/Starfish/emulator.py:422: DeprecationWarning: using a non-integer number instead of an integer will result in an error in the future\n",
        "  return np.random.multivariate_normal(self.mu, self.sig)\n"
       ]
      },
      {
       "output_type": "stream",
       "stream": "stderr",
       "text": [
        "/home/ian/Grad/Research/Disks/Starfish/Starfish/emulator.py:422: DeprecationWarning: using a non-integer number instead of an integer will result in an error in the future\n",
        "  return np.random.multivariate_normal(self.mu, self.sig)\n",
        "/home/ian/Grad/Research/Disks/Starfish/Starfish/emulator.py:422: DeprecationWarning: using a non-integer number instead of an integer will result in an error in the future\n",
        "  return np.random.multivariate_normal(self.mu, self.sig)\n",
        "/home/ian/Grad/Research/Disks/Starfish/Starfish/emulator.py:422: DeprecationWarning: using a non-integer number instead of an integer will result in an error in the future\n",
        "  return np.random.multivariate_normal(self.mu, self.sig)\n"
       ]
      },
      {
       "output_type": "stream",
       "stream": "stderr",
       "text": [
        "/home/ian/Grad/Research/Disks/Starfish/Starfish/emulator.py:422: DeprecationWarning: using a non-integer number instead of an integer will result in an error in the future\n",
        "  return np.random.multivariate_normal(self.mu, self.sig)\n",
        "/home/ian/Grad/Research/Disks/Starfish/Starfish/emulator.py:422: DeprecationWarning: using a non-integer number instead of an integer will result in an error in the future\n",
        "  return np.random.multivariate_normal(self.mu, self.sig)\n"
       ]
      },
      {
       "output_type": "stream",
       "stream": "stderr",
       "text": [
        "/home/ian/Grad/Research/Disks/Starfish/Starfish/emulator.py:422: DeprecationWarning: using a non-integer number instead of an integer will result in an error in the future\n",
        "  return np.random.multivariate_normal(self.mu, self.sig)\n",
        "/home/ian/Grad/Research/Disks/Starfish/Starfish/emulator.py:422: DeprecationWarning: using a non-integer number instead of an integer will result in an error in the future\n",
        "  return np.random.multivariate_normal(self.mu, self.sig)\n",
        "/home/ian/Grad/Research/Disks/Starfish/Starfish/emulator.py:422: DeprecationWarning: using a non-integer number instead of an integer will result in an error in the future\n",
        "  return np.random.multivariate_normal(self.mu, self.sig)\n"
       ]
      },
      {
       "output_type": "stream",
       "stream": "stderr",
       "text": [
        "/home/ian/Grad/Research/Disks/Starfish/Starfish/emulator.py:422: DeprecationWarning: using a non-integer number instead of an integer will result in an error in the future\n",
        "  return np.random.multivariate_normal(self.mu, self.sig)\n",
        "/home/ian/Grad/Research/Disks/Starfish/Starfish/emulator.py:422: DeprecationWarning: using a non-integer number instead of an integer will result in an error in the future\n",
        "  return np.random.multivariate_normal(self.mu, self.sig)\n"
       ]
      },
      {
       "output_type": "stream",
       "stream": "stderr",
       "text": [
        "/home/ian/Grad/Research/Disks/Starfish/Starfish/emulator.py:422: DeprecationWarning: using a non-integer number instead of an integer will result in an error in the future\n",
        "  return np.random.multivariate_normal(self.mu, self.sig)\n",
        "/home/ian/Grad/Research/Disks/Starfish/Starfish/emulator.py:422: DeprecationWarning: using a non-integer number instead of an integer will result in an error in the future\n",
        "  return np.random.multivariate_normal(self.mu, self.sig)\n"
       ]
      },
      {
       "output_type": "stream",
       "stream": "stderr",
       "text": [
        "/home/ian/Grad/Research/Disks/Starfish/Starfish/emulator.py:422: DeprecationWarning: using a non-integer number instead of an integer will result in an error in the future\n",
        "  return np.random.multivariate_normal(self.mu, self.sig)\n",
        "/home/ian/Grad/Research/Disks/Starfish/Starfish/emulator.py:422: DeprecationWarning: using a non-integer number instead of an integer will result in an error in the future\n",
        "  return np.random.multivariate_normal(self.mu, self.sig)\n"
       ]
      },
      {
       "output_type": "stream",
       "stream": "stderr",
       "text": [
        "/home/ian/Grad/Research/Disks/Starfish/Starfish/emulator.py:422: DeprecationWarning: using a non-integer number instead of an integer will result in an error in the future\n",
        "  return np.random.multivariate_normal(self.mu, self.sig)\n",
        "/home/ian/Grad/Research/Disks/Starfish/Starfish/emulator.py:422: DeprecationWarning: using a non-integer number instead of an integer will result in an error in the future\n",
        "  return np.random.multivariate_normal(self.mu, self.sig)\n"
       ]
      },
      {
       "output_type": "stream",
       "stream": "stderr",
       "text": [
        "/home/ian/Grad/Research/Disks/Starfish/Starfish/emulator.py:422: DeprecationWarning: using a non-integer number instead of an integer will result in an error in the future\n",
        "  return np.random.multivariate_normal(self.mu, self.sig)\n",
        "/home/ian/Grad/Research/Disks/Starfish/Starfish/emulator.py:422: DeprecationWarning: using a non-integer number instead of an integer will result in an error in the future\n",
        "  return np.random.multivariate_normal(self.mu, self.sig)\n",
        "/home/ian/Grad/Research/Disks/Starfish/Starfish/emulator.py:422: DeprecationWarning: using a non-integer number instead of an integer will result in an error in the future\n",
        "  return np.random.multivariate_normal(self.mu, self.sig)\n"
       ]
      },
      {
       "output_type": "stream",
       "stream": "stderr",
       "text": [
        "/home/ian/Grad/Research/Disks/Starfish/Starfish/emulator.py:422: DeprecationWarning: using a non-integer number instead of an integer will result in an error in the future\n",
        "  return np.random.multivariate_normal(self.mu, self.sig)\n",
        "/home/ian/Grad/Research/Disks/Starfish/Starfish/emulator.py:422: DeprecationWarning: using a non-integer number instead of an integer will result in an error in the future\n",
        "  return np.random.multivariate_normal(self.mu, self.sig)\n",
        "/home/ian/Grad/Research/Disks/Starfish/Starfish/emulator.py:422: DeprecationWarning: using a non-integer number instead of an integer will result in an error in the future\n",
        "  return np.random.multivariate_normal(self.mu, self.sig)\n"
       ]
      },
      {
       "output_type": "stream",
       "stream": "stderr",
       "text": [
        "/home/ian/Grad/Research/Disks/Starfish/Starfish/emulator.py:422: DeprecationWarning: using a non-integer number instead of an integer will result in an error in the future\n",
        "  return np.random.multivariate_normal(self.mu, self.sig)\n",
        "/home/ian/Grad/Research/Disks/Starfish/Starfish/emulator.py:422: DeprecationWarning: using a non-integer number instead of an integer will result in an error in the future\n",
        "  return np.random.multivariate_normal(self.mu, self.sig)\n",
        "/home/ian/Grad/Research/Disks/Starfish/Starfish/emulator.py:422: DeprecationWarning: using a non-integer number instead of an integer will result in an error in the future\n",
        "  return np.random.multivariate_normal(self.mu, self.sig)\n"
       ]
      },
      {
       "output_type": "stream",
       "stream": "stderr",
       "text": [
        "/home/ian/Grad/Research/Disks/Starfish/Starfish/emulator.py:422: DeprecationWarning: using a non-integer number instead of an integer will result in an error in the future\n",
        "  return np.random.multivariate_normal(self.mu, self.sig)\n",
        "/home/ian/Grad/Research/Disks/Starfish/Starfish/emulator.py:422: DeprecationWarning: using a non-integer number instead of an integer will result in an error in the future\n",
        "  return np.random.multivariate_normal(self.mu, self.sig)\n",
        "/home/ian/Grad/Research/Disks/Starfish/Starfish/emulator.py:422: DeprecationWarning: using a non-integer number instead of an integer will result in an error in the future\n",
        "  return np.random.multivariate_normal(self.mu, self.sig)\n"
       ]
      },
      {
       "output_type": "stream",
       "stream": "stderr",
       "text": [
        "/home/ian/Grad/Research/Disks/Starfish/Starfish/emulator.py:422: DeprecationWarning: using a non-integer number instead of an integer will result in an error in the future\n",
        "  return np.random.multivariate_normal(self.mu, self.sig)\n",
        "/home/ian/Grad/Research/Disks/Starfish/Starfish/emulator.py:422: DeprecationWarning: using a non-integer number instead of an integer will result in an error in the future\n",
        "  return np.random.multivariate_normal(self.mu, self.sig)\n"
       ]
      },
      {
       "output_type": "stream",
       "stream": "stderr",
       "text": [
        "/home/ian/Grad/Research/Disks/Starfish/Starfish/emulator.py:422: DeprecationWarning: using a non-integer number instead of an integer will result in an error in the future\n",
        "  return np.random.multivariate_normal(self.mu, self.sig)\n",
        "/home/ian/Grad/Research/Disks/Starfish/Starfish/emulator.py:422: DeprecationWarning: using a non-integer number instead of an integer will result in an error in the future\n",
        "  return np.random.multivariate_normal(self.mu, self.sig)\n",
        "/home/ian/Grad/Research/Disks/Starfish/Starfish/emulator.py:422: DeprecationWarning: using a non-integer number instead of an integer will result in an error in the future\n",
        "  return np.random.multivariate_normal(self.mu, self.sig)\n"
       ]
      },
      {
       "output_type": "stream",
       "stream": "stderr",
       "text": [
        "/home/ian/Grad/Research/Disks/Starfish/Starfish/emulator.py:422: DeprecationWarning: using a non-integer number instead of an integer will result in an error in the future\n",
        "  return np.random.multivariate_normal(self.mu, self.sig)\n",
        "/home/ian/Grad/Research/Disks/Starfish/Starfish/emulator.py:422: DeprecationWarning: using a non-integer number instead of an integer will result in an error in the future\n",
        "  return np.random.multivariate_normal(self.mu, self.sig)\n"
       ]
      },
      {
       "output_type": "stream",
       "stream": "stderr",
       "text": [
        "/home/ian/Grad/Research/Disks/Starfish/Starfish/emulator.py:422: DeprecationWarning: using a non-integer number instead of an integer will result in an error in the future\n",
        "  return np.random.multivariate_normal(self.mu, self.sig)\n",
        "/home/ian/Grad/Research/Disks/Starfish/Starfish/emulator.py:422: DeprecationWarning: using a non-integer number instead of an integer will result in an error in the future\n",
        "  return np.random.multivariate_normal(self.mu, self.sig)\n",
        "/home/ian/Grad/Research/Disks/Starfish/Starfish/emulator.py:422: DeprecationWarning: using a non-integer number instead of an integer will result in an error in the future\n",
        "  return np.random.multivariate_normal(self.mu, self.sig)\n"
       ]
      },
      {
       "output_type": "stream",
       "stream": "stderr",
       "text": [
        "/home/ian/Grad/Research/Disks/Starfish/Starfish/emulator.py:422: DeprecationWarning: using a non-integer number instead of an integer will result in an error in the future\n",
        "  return np.random.multivariate_normal(self.mu, self.sig)\n",
        "/home/ian/Grad/Research/Disks/Starfish/Starfish/emulator.py:422: DeprecationWarning: using a non-integer number instead of an integer will result in an error in the future\n",
        "  return np.random.multivariate_normal(self.mu, self.sig)\n"
       ]
      },
      {
       "output_type": "stream",
       "stream": "stderr",
       "text": [
        "/home/ian/Grad/Research/Disks/Starfish/Starfish/emulator.py:422: DeprecationWarning: using a non-integer number instead of an integer will result in an error in the future\n",
        "  return np.random.multivariate_normal(self.mu, self.sig)\n",
        "/home/ian/Grad/Research/Disks/Starfish/Starfish/emulator.py:422: DeprecationWarning: using a non-integer number instead of an integer will result in an error in the future\n",
        "  return np.random.multivariate_normal(self.mu, self.sig)\n",
        "/home/ian/Grad/Research/Disks/Starfish/Starfish/emulator.py:422: DeprecationWarning: using a non-integer number instead of an integer will result in an error in the future\n",
        "  return np.random.multivariate_normal(self.mu, self.sig)\n"
       ]
      },
      {
       "output_type": "stream",
       "stream": "stderr",
       "text": [
        "/home/ian/Grad/Research/Disks/Starfish/Starfish/emulator.py:422: DeprecationWarning: using a non-integer number instead of an integer will result in an error in the future\n",
        "  return np.random.multivariate_normal(self.mu, self.sig)\n",
        "/home/ian/Grad/Research/Disks/Starfish/Starfish/emulator.py:422: DeprecationWarning: using a non-integer number instead of an integer will result in an error in the future\n",
        "  return np.random.multivariate_normal(self.mu, self.sig)\n"
       ]
      },
      {
       "output_type": "stream",
       "stream": "stderr",
       "text": [
        "/home/ian/Grad/Research/Disks/Starfish/Starfish/emulator.py:422: DeprecationWarning: using a non-integer number instead of an integer will result in an error in the future\n",
        "  return np.random.multivariate_normal(self.mu, self.sig)\n",
        "/home/ian/Grad/Research/Disks/Starfish/Starfish/emulator.py:422: DeprecationWarning: using a non-integer number instead of an integer will result in an error in the future\n",
        "  return np.random.multivariate_normal(self.mu, self.sig)\n",
        "/home/ian/Grad/Research/Disks/Starfish/Starfish/emulator.py:422: DeprecationWarning: using a non-integer number instead of an integer will result in an error in the future\n",
        "  return np.random.multivariate_normal(self.mu, self.sig)\n"
       ]
      },
      {
       "output_type": "stream",
       "stream": "stderr",
       "text": [
        "/home/ian/Grad/Research/Disks/Starfish/Starfish/emulator.py:422: DeprecationWarning: using a non-integer number instead of an integer will result in an error in the future\n",
        "  return np.random.multivariate_normal(self.mu, self.sig)\n",
        "/home/ian/Grad/Research/Disks/Starfish/Starfish/emulator.py:422: DeprecationWarning: using a non-integer number instead of an integer will result in an error in the future\n",
        "  return np.random.multivariate_normal(self.mu, self.sig)\n"
       ]
      },
      {
       "output_type": "stream",
       "stream": "stderr",
       "text": [
        "/home/ian/Grad/Research/Disks/Starfish/Starfish/emulator.py:422: DeprecationWarning: using a non-integer number instead of an integer will result in an error in the future\n",
        "  return np.random.multivariate_normal(self.mu, self.sig)\n",
        "/home/ian/Grad/Research/Disks/Starfish/Starfish/emulator.py:422: DeprecationWarning: using a non-integer number instead of an integer will result in an error in the future\n",
        "  return np.random.multivariate_normal(self.mu, self.sig)\n",
        "/home/ian/Grad/Research/Disks/Starfish/Starfish/emulator.py:422: DeprecationWarning: using a non-integer number instead of an integer will result in an error in the future\n",
        "  return np.random.multivariate_normal(self.mu, self.sig)\n"
       ]
      },
      {
       "output_type": "stream",
       "stream": "stderr",
       "text": [
        "/home/ian/Grad/Research/Disks/Starfish/Starfish/emulator.py:422: DeprecationWarning: using a non-integer number instead of an integer will result in an error in the future\n",
        "  return np.random.multivariate_normal(self.mu, self.sig)\n",
        "/home/ian/Grad/Research/Disks/Starfish/Starfish/emulator.py:422: DeprecationWarning: using a non-integer number instead of an integer will result in an error in the future\n",
        "  return np.random.multivariate_normal(self.mu, self.sig)\n"
       ]
      },
      {
       "output_type": "stream",
       "stream": "stderr",
       "text": [
        "/home/ian/Grad/Research/Disks/Starfish/Starfish/emulator.py:422: DeprecationWarning: using a non-integer number instead of an integer will result in an error in the future\n",
        "  return np.random.multivariate_normal(self.mu, self.sig)\n",
        "/home/ian/Grad/Research/Disks/Starfish/Starfish/emulator.py:422: DeprecationWarning: using a non-integer number instead of an integer will result in an error in the future\n",
        "  return np.random.multivariate_normal(self.mu, self.sig)\n",
        "/home/ian/Grad/Research/Disks/Starfish/Starfish/emulator.py:422: DeprecationWarning: using a non-integer number instead of an integer will result in an error in the future\n",
        "  return np.random.multivariate_normal(self.mu, self.sig)\n"
       ]
      },
      {
       "output_type": "stream",
       "stream": "stderr",
       "text": [
        "/home/ian/Grad/Research/Disks/Starfish/Starfish/emulator.py:422: DeprecationWarning: using a non-integer number instead of an integer will result in an error in the future\n",
        "  return np.random.multivariate_normal(self.mu, self.sig)\n",
        "/home/ian/Grad/Research/Disks/Starfish/Starfish/emulator.py:422: DeprecationWarning: using a non-integer number instead of an integer will result in an error in the future\n",
        "  return np.random.multivariate_normal(self.mu, self.sig)\n"
       ]
      },
      {
       "output_type": "stream",
       "stream": "stderr",
       "text": [
        "/home/ian/Grad/Research/Disks/Starfish/Starfish/emulator.py:422: DeprecationWarning: using a non-integer number instead of an integer will result in an error in the future\n",
        "  return np.random.multivariate_normal(self.mu, self.sig)\n",
        "/home/ian/Grad/Research/Disks/Starfish/Starfish/emulator.py:422: DeprecationWarning: using a non-integer number instead of an integer will result in an error in the future\n",
        "  return np.random.multivariate_normal(self.mu, self.sig)\n",
        "/home/ian/Grad/Research/Disks/Starfish/Starfish/emulator.py:422: DeprecationWarning: using a non-integer number instead of an integer will result in an error in the future\n",
        "  return np.random.multivariate_normal(self.mu, self.sig)\n"
       ]
      },
      {
       "output_type": "stream",
       "stream": "stderr",
       "text": [
        "/home/ian/Grad/Research/Disks/Starfish/Starfish/emulator.py:422: DeprecationWarning: using a non-integer number instead of an integer will result in an error in the future\n",
        "  return np.random.multivariate_normal(self.mu, self.sig)\n",
        "/home/ian/Grad/Research/Disks/Starfish/Starfish/emulator.py:422: DeprecationWarning: using a non-integer number instead of an integer will result in an error in the future\n",
        "  return np.random.multivariate_normal(self.mu, self.sig)\n"
       ]
      },
      {
       "output_type": "stream",
       "stream": "stderr",
       "text": [
        "/home/ian/Grad/Research/Disks/Starfish/Starfish/emulator.py:422: DeprecationWarning: using a non-integer number instead of an integer will result in an error in the future\n",
        "  return np.random.multivariate_normal(self.mu, self.sig)\n",
        "/home/ian/Grad/Research/Disks/Starfish/Starfish/emulator.py:422: DeprecationWarning: using a non-integer number instead of an integer will result in an error in the future\n",
        "  return np.random.multivariate_normal(self.mu, self.sig)\n",
        "/home/ian/Grad/Research/Disks/Starfish/Starfish/emulator.py:422: DeprecationWarning: using a non-integer number instead of an integer will result in an error in the future\n",
        "  return np.random.multivariate_normal(self.mu, self.sig)\n"
       ]
      },
      {
       "output_type": "stream",
       "stream": "stderr",
       "text": [
        "/home/ian/Grad/Research/Disks/Starfish/Starfish/emulator.py:422: DeprecationWarning: using a non-integer number instead of an integer will result in an error in the future\n",
        "  return np.random.multivariate_normal(self.mu, self.sig)\n",
        "/home/ian/Grad/Research/Disks/Starfish/Starfish/emulator.py:422: DeprecationWarning: using a non-integer number instead of an integer will result in an error in the future\n",
        "  return np.random.multivariate_normal(self.mu, self.sig)\n"
       ]
      },
      {
       "output_type": "stream",
       "stream": "stderr",
       "text": [
        "/home/ian/Grad/Research/Disks/Starfish/Starfish/emulator.py:422: DeprecationWarning: using a non-integer number instead of an integer will result in an error in the future\n",
        "  return np.random.multivariate_normal(self.mu, self.sig)\n",
        "/home/ian/Grad/Research/Disks/Starfish/Starfish/emulator.py:422: DeprecationWarning: using a non-integer number instead of an integer will result in an error in the future\n",
        "  return np.random.multivariate_normal(self.mu, self.sig)\n",
        "/home/ian/Grad/Research/Disks/Starfish/Starfish/emulator.py:422: DeprecationWarning: using a non-integer number instead of an integer will result in an error in the future\n",
        "  return np.random.multivariate_normal(self.mu, self.sig)\n"
       ]
      },
      {
       "output_type": "stream",
       "stream": "stderr",
       "text": [
        "/home/ian/Grad/Research/Disks/Starfish/Starfish/emulator.py:422: DeprecationWarning: using a non-integer number instead of an integer will result in an error in the future\n",
        "  return np.random.multivariate_normal(self.mu, self.sig)\n",
        "/home/ian/Grad/Research/Disks/Starfish/Starfish/emulator.py:422: DeprecationWarning: using a non-integer number instead of an integer will result in an error in the future\n",
        "  return np.random.multivariate_normal(self.mu, self.sig)\n"
       ]
      },
      {
       "output_type": "stream",
       "stream": "stderr",
       "text": [
        "/home/ian/Grad/Research/Disks/Starfish/Starfish/emulator.py:422: DeprecationWarning: using a non-integer number instead of an integer will result in an error in the future\n",
        "  return np.random.multivariate_normal(self.mu, self.sig)\n",
        "/home/ian/Grad/Research/Disks/Starfish/Starfish/emulator.py:422: DeprecationWarning: using a non-integer number instead of an integer will result in an error in the future\n",
        "  return np.random.multivariate_normal(self.mu, self.sig)\n",
        "/home/ian/Grad/Research/Disks/Starfish/Starfish/emulator.py:422: DeprecationWarning: using a non-integer number instead of an integer will result in an error in the future\n",
        "  return np.random.multivariate_normal(self.mu, self.sig)\n"
       ]
      },
      {
       "output_type": "stream",
       "stream": "stderr",
       "text": [
        "/home/ian/Grad/Research/Disks/Starfish/Starfish/emulator.py:422: DeprecationWarning: using a non-integer number instead of an integer will result in an error in the future\n",
        "  return np.random.multivariate_normal(self.mu, self.sig)\n",
        "/home/ian/Grad/Research/Disks/Starfish/Starfish/emulator.py:422: DeprecationWarning: using a non-integer number instead of an integer will result in an error in the future\n",
        "  return np.random.multivariate_normal(self.mu, self.sig)\n"
       ]
      },
      {
       "output_type": "stream",
       "stream": "stderr",
       "text": [
        "/home/ian/Grad/Research/Disks/Starfish/Starfish/emulator.py:422: DeprecationWarning: using a non-integer number instead of an integer will result in an error in the future\n",
        "  return np.random.multivariate_normal(self.mu, self.sig)\n",
        "/home/ian/Grad/Research/Disks/Starfish/Starfish/emulator.py:422: DeprecationWarning: using a non-integer number instead of an integer will result in an error in the future\n",
        "  return np.random.multivariate_normal(self.mu, self.sig)\n",
        "/home/ian/Grad/Research/Disks/Starfish/Starfish/emulator.py:422: DeprecationWarning: using a non-integer number instead of an integer will result in an error in the future\n",
        "  return np.random.multivariate_normal(self.mu, self.sig)\n"
       ]
      },
      {
       "output_type": "stream",
       "stream": "stderr",
       "text": [
        "/home/ian/Grad/Research/Disks/Starfish/Starfish/emulator.py:422: DeprecationWarning: using a non-integer number instead of an integer will result in an error in the future\n",
        "  return np.random.multivariate_normal(self.mu, self.sig)\n",
        "/home/ian/Grad/Research/Disks/Starfish/Starfish/emulator.py:422: DeprecationWarning: using a non-integer number instead of an integer will result in an error in the future\n",
        "  return np.random.multivariate_normal(self.mu, self.sig)\n"
       ]
      },
      {
       "output_type": "stream",
       "stream": "stderr",
       "text": [
        "/home/ian/Grad/Research/Disks/Starfish/Starfish/emulator.py:422: DeprecationWarning: using a non-integer number instead of an integer will result in an error in the future\n",
        "  return np.random.multivariate_normal(self.mu, self.sig)\n",
        "/home/ian/Grad/Research/Disks/Starfish/Starfish/emulator.py:422: DeprecationWarning: using a non-integer number instead of an integer will result in an error in the future\n",
        "  return np.random.multivariate_normal(self.mu, self.sig)\n",
        "/home/ian/Grad/Research/Disks/Starfish/Starfish/emulator.py:422: DeprecationWarning: using a non-integer number instead of an integer will result in an error in the future\n",
        "  return np.random.multivariate_normal(self.mu, self.sig)\n"
       ]
      },
      {
       "output_type": "stream",
       "stream": "stderr",
       "text": [
        "/home/ian/Grad/Research/Disks/Starfish/Starfish/emulator.py:422: DeprecationWarning: using a non-integer number instead of an integer will result in an error in the future\n",
        "  return np.random.multivariate_normal(self.mu, self.sig)\n",
        "/home/ian/Grad/Research/Disks/Starfish/Starfish/emulator.py:422: DeprecationWarning: using a non-integer number instead of an integer will result in an error in the future\n",
        "  return np.random.multivariate_normal(self.mu, self.sig)\n"
       ]
      },
      {
       "output_type": "stream",
       "stream": "stderr",
       "text": [
        "/home/ian/Grad/Research/Disks/Starfish/Starfish/emulator.py:422: DeprecationWarning: using a non-integer number instead of an integer will result in an error in the future\n",
        "  return np.random.multivariate_normal(self.mu, self.sig)\n",
        "/home/ian/Grad/Research/Disks/Starfish/Starfish/emulator.py:422: DeprecationWarning: using a non-integer number instead of an integer will result in an error in the future\n",
        "  return np.random.multivariate_normal(self.mu, self.sig)\n",
        "/home/ian/Grad/Research/Disks/Starfish/Starfish/emulator.py:422: DeprecationWarning: using a non-integer number instead of an integer will result in an error in the future\n",
        "  return np.random.multivariate_normal(self.mu, self.sig)\n"
       ]
      },
      {
       "output_type": "stream",
       "stream": "stderr",
       "text": [
        "/home/ian/Grad/Research/Disks/Starfish/Starfish/emulator.py:422: DeprecationWarning: using a non-integer number instead of an integer will result in an error in the future\n",
        "  return np.random.multivariate_normal(self.mu, self.sig)\n",
        "/home/ian/Grad/Research/Disks/Starfish/Starfish/emulator.py:422: DeprecationWarning: using a non-integer number instead of an integer will result in an error in the future\n",
        "  return np.random.multivariate_normal(self.mu, self.sig)\n"
       ]
      },
      {
       "output_type": "stream",
       "stream": "stderr",
       "text": [
        "/home/ian/Grad/Research/Disks/Starfish/Starfish/emulator.py:422: DeprecationWarning: using a non-integer number instead of an integer will result in an error in the future\n",
        "  return np.random.multivariate_normal(self.mu, self.sig)\n",
        "/home/ian/Grad/Research/Disks/Starfish/Starfish/emulator.py:422: DeprecationWarning: using a non-integer number instead of an integer will result in an error in the future\n",
        "  return np.random.multivariate_normal(self.mu, self.sig)\n",
        "/home/ian/Grad/Research/Disks/Starfish/Starfish/emulator.py:422: DeprecationWarning: using a non-integer number instead of an integer will result in an error in the future\n",
        "  return np.random.multivariate_normal(self.mu, self.sig)\n"
       ]
      },
      {
       "output_type": "stream",
       "stream": "stderr",
       "text": [
        "/home/ian/Grad/Research/Disks/Starfish/Starfish/emulator.py:422: DeprecationWarning: using a non-integer number instead of an integer will result in an error in the future\n",
        "  return np.random.multivariate_normal(self.mu, self.sig)\n",
        "/home/ian/Grad/Research/Disks/Starfish/Starfish/emulator.py:422: DeprecationWarning: using a non-integer number instead of an integer will result in an error in the future\n",
        "  return np.random.multivariate_normal(self.mu, self.sig)\n"
       ]
      },
      {
       "output_type": "stream",
       "stream": "stderr",
       "text": [
        "/home/ian/Grad/Research/Disks/Starfish/Starfish/emulator.py:422: DeprecationWarning: using a non-integer number instead of an integer will result in an error in the future\n",
        "  return np.random.multivariate_normal(self.mu, self.sig)\n",
        "/home/ian/Grad/Research/Disks/Starfish/Starfish/emulator.py:422: DeprecationWarning: using a non-integer number instead of an integer will result in an error in the future\n",
        "  return np.random.multivariate_normal(self.mu, self.sig)\n",
        "/home/ian/Grad/Research/Disks/Starfish/Starfish/emulator.py:422: DeprecationWarning: using a non-integer number instead of an integer will result in an error in the future\n",
        "  return np.random.multivariate_normal(self.mu, self.sig)\n"
       ]
      },
      {
       "output_type": "stream",
       "stream": "stderr",
       "text": [
        "/home/ian/Grad/Research/Disks/Starfish/Starfish/emulator.py:422: DeprecationWarning: using a non-integer number instead of an integer will result in an error in the future\n",
        "  return np.random.multivariate_normal(self.mu, self.sig)\n",
        "/home/ian/Grad/Research/Disks/Starfish/Starfish/emulator.py:422: DeprecationWarning: using a non-integer number instead of an integer will result in an error in the future\n",
        "  return np.random.multivariate_normal(self.mu, self.sig)\n"
       ]
      },
      {
       "output_type": "stream",
       "stream": "stderr",
       "text": [
        "/home/ian/Grad/Research/Disks/Starfish/Starfish/emulator.py:422: DeprecationWarning: using a non-integer number instead of an integer will result in an error in the future\n",
        "  return np.random.multivariate_normal(self.mu, self.sig)\n",
        "/home/ian/Grad/Research/Disks/Starfish/Starfish/emulator.py:422: DeprecationWarning: using a non-integer number instead of an integer will result in an error in the future\n",
        "  return np.random.multivariate_normal(self.mu, self.sig)\n",
        "/home/ian/Grad/Research/Disks/Starfish/Starfish/emulator.py:422: DeprecationWarning: using a non-integer number instead of an integer will result in an error in the future\n",
        "  return np.random.multivariate_normal(self.mu, self.sig)\n"
       ]
      },
      {
       "output_type": "stream",
       "stream": "stderr",
       "text": [
        "/home/ian/Grad/Research/Disks/Starfish/Starfish/emulator.py:422: DeprecationWarning: using a non-integer number instead of an integer will result in an error in the future\n",
        "  return np.random.multivariate_normal(self.mu, self.sig)\n",
        "/home/ian/Grad/Research/Disks/Starfish/Starfish/emulator.py:422: DeprecationWarning: using a non-integer number instead of an integer will result in an error in the future\n",
        "  return np.random.multivariate_normal(self.mu, self.sig)\n"
       ]
      },
      {
       "output_type": "stream",
       "stream": "stderr",
       "text": [
        "/home/ian/Grad/Research/Disks/Starfish/Starfish/emulator.py:422: DeprecationWarning: using a non-integer number instead of an integer will result in an error in the future\n",
        "  return np.random.multivariate_normal(self.mu, self.sig)\n",
        "/home/ian/Grad/Research/Disks/Starfish/Starfish/emulator.py:422: DeprecationWarning: using a non-integer number instead of an integer will result in an error in the future\n",
        "  return np.random.multivariate_normal(self.mu, self.sig)\n",
        "/home/ian/Grad/Research/Disks/Starfish/Starfish/emulator.py:422: DeprecationWarning: using a non-integer number instead of an integer will result in an error in the future\n",
        "  return np.random.multivariate_normal(self.mu, self.sig)\n"
       ]
      },
      {
       "output_type": "stream",
       "stream": "stderr",
       "text": [
        "/home/ian/Grad/Research/Disks/Starfish/Starfish/emulator.py:422: DeprecationWarning: using a non-integer number instead of an integer will result in an error in the future\n",
        "  return np.random.multivariate_normal(self.mu, self.sig)\n",
        "/home/ian/Grad/Research/Disks/Starfish/Starfish/emulator.py:422: DeprecationWarning: using a non-integer number instead of an integer will result in an error in the future\n",
        "  return np.random.multivariate_normal(self.mu, self.sig)\n"
       ]
      },
      {
       "output_type": "stream",
       "stream": "stderr",
       "text": [
        "/home/ian/Grad/Research/Disks/Starfish/Starfish/emulator.py:422: DeprecationWarning: using a non-integer number instead of an integer will result in an error in the future\n",
        "  return np.random.multivariate_normal(self.mu, self.sig)\n",
        "/home/ian/Grad/Research/Disks/Starfish/Starfish/emulator.py:422: DeprecationWarning: using a non-integer number instead of an integer will result in an error in the future\n",
        "  return np.random.multivariate_normal(self.mu, self.sig)\n",
        "/home/ian/Grad/Research/Disks/Starfish/Starfish/emulator.py:422: DeprecationWarning: using a non-integer number instead of an integer will result in an error in the future\n",
        "  return np.random.multivariate_normal(self.mu, self.sig)\n"
       ]
      },
      {
       "output_type": "stream",
       "stream": "stderr",
       "text": [
        "/home/ian/Grad/Research/Disks/Starfish/Starfish/emulator.py:422: DeprecationWarning: using a non-integer number instead of an integer will result in an error in the future\n",
        "  return np.random.multivariate_normal(self.mu, self.sig)\n",
        "/home/ian/Grad/Research/Disks/Starfish/Starfish/emulator.py:422: DeprecationWarning: using a non-integer number instead of an integer will result in an error in the future\n",
        "  return np.random.multivariate_normal(self.mu, self.sig)\n"
       ]
      },
      {
       "output_type": "stream",
       "stream": "stderr",
       "text": [
        "/home/ian/Grad/Research/Disks/Starfish/Starfish/emulator.py:422: DeprecationWarning: using a non-integer number instead of an integer will result in an error in the future\n",
        "  return np.random.multivariate_normal(self.mu, self.sig)\n",
        "/home/ian/Grad/Research/Disks/Starfish/Starfish/emulator.py:422: DeprecationWarning: using a non-integer number instead of an integer will result in an error in the future\n",
        "  return np.random.multivariate_normal(self.mu, self.sig)\n",
        "/home/ian/Grad/Research/Disks/Starfish/Starfish/emulator.py:422: DeprecationWarning: using a non-integer number instead of an integer will result in an error in the future\n",
        "  return np.random.multivariate_normal(self.mu, self.sig)\n"
       ]
      },
      {
       "output_type": "stream",
       "stream": "stderr",
       "text": [
        "/home/ian/Grad/Research/Disks/Starfish/Starfish/emulator.py:422: DeprecationWarning: using a non-integer number instead of an integer will result in an error in the future\n",
        "  return np.random.multivariate_normal(self.mu, self.sig)\n",
        "/home/ian/Grad/Research/Disks/Starfish/Starfish/emulator.py:422: DeprecationWarning: using a non-integer number instead of an integer will result in an error in the future\n",
        "  return np.random.multivariate_normal(self.mu, self.sig)\n"
       ]
      },
      {
       "output_type": "stream",
       "stream": "stderr",
       "text": [
        "/home/ian/Grad/Research/Disks/Starfish/Starfish/emulator.py:422: DeprecationWarning: using a non-integer number instead of an integer will result in an error in the future\n",
        "  return np.random.multivariate_normal(self.mu, self.sig)\n",
        "/home/ian/Grad/Research/Disks/Starfish/Starfish/emulator.py:422: DeprecationWarning: using a non-integer number instead of an integer will result in an error in the future\n",
        "  return np.random.multivariate_normal(self.mu, self.sig)\n",
        "/home/ian/Grad/Research/Disks/Starfish/Starfish/emulator.py:422: DeprecationWarning: using a non-integer number instead of an integer will result in an error in the future\n",
        "  return np.random.multivariate_normal(self.mu, self.sig)\n"
       ]
      },
      {
       "output_type": "stream",
       "stream": "stderr",
       "text": [
        "/home/ian/Grad/Research/Disks/Starfish/Starfish/emulator.py:422: DeprecationWarning: using a non-integer number instead of an integer will result in an error in the future\n",
        "  return np.random.multivariate_normal(self.mu, self.sig)\n",
        "/home/ian/Grad/Research/Disks/Starfish/Starfish/emulator.py:422: DeprecationWarning: using a non-integer number instead of an integer will result in an error in the future\n",
        "  return np.random.multivariate_normal(self.mu, self.sig)\n"
       ]
      },
      {
       "output_type": "stream",
       "stream": "stderr",
       "text": [
        "/home/ian/Grad/Research/Disks/Starfish/Starfish/emulator.py:422: DeprecationWarning: using a non-integer number instead of an integer will result in an error in the future\n",
        "  return np.random.multivariate_normal(self.mu, self.sig)\n",
        "/home/ian/Grad/Research/Disks/Starfish/Starfish/emulator.py:422: DeprecationWarning: using a non-integer number instead of an integer will result in an error in the future\n",
        "  return np.random.multivariate_normal(self.mu, self.sig)\n",
        "/home/ian/Grad/Research/Disks/Starfish/Starfish/emulator.py:422: DeprecationWarning: using a non-integer number instead of an integer will result in an error in the future\n",
        "  return np.random.multivariate_normal(self.mu, self.sig)\n"
       ]
      },
      {
       "output_type": "stream",
       "stream": "stderr",
       "text": [
        "/home/ian/Grad/Research/Disks/Starfish/Starfish/emulator.py:422: DeprecationWarning: using a non-integer number instead of an integer will result in an error in the future\n",
        "  return np.random.multivariate_normal(self.mu, self.sig)\n",
        "/home/ian/Grad/Research/Disks/Starfish/Starfish/emulator.py:422: DeprecationWarning: using a non-integer number instead of an integer will result in an error in the future\n",
        "  return np.random.multivariate_normal(self.mu, self.sig)\n"
       ]
      },
      {
       "output_type": "stream",
       "stream": "stderr",
       "text": [
        "/home/ian/Grad/Research/Disks/Starfish/Starfish/emulator.py:422: DeprecationWarning: using a non-integer number instead of an integer will result in an error in the future\n",
        "  return np.random.multivariate_normal(self.mu, self.sig)\n",
        "/home/ian/Grad/Research/Disks/Starfish/Starfish/emulator.py:422: DeprecationWarning: using a non-integer number instead of an integer will result in an error in the future\n",
        "  return np.random.multivariate_normal(self.mu, self.sig)\n",
        "/home/ian/Grad/Research/Disks/Starfish/Starfish/emulator.py:422: DeprecationWarning: using a non-integer number instead of an integer will result in an error in the future\n",
        "  return np.random.multivariate_normal(self.mu, self.sig)\n"
       ]
      },
      {
       "output_type": "stream",
       "stream": "stderr",
       "text": [
        "/home/ian/Grad/Research/Disks/Starfish/Starfish/emulator.py:422: DeprecationWarning: using a non-integer number instead of an integer will result in an error in the future\n",
        "  return np.random.multivariate_normal(self.mu, self.sig)\n",
        "/home/ian/Grad/Research/Disks/Starfish/Starfish/emulator.py:422: DeprecationWarning: using a non-integer number instead of an integer will result in an error in the future\n",
        "  return np.random.multivariate_normal(self.mu, self.sig)\n"
       ]
      },
      {
       "output_type": "stream",
       "stream": "stderr",
       "text": [
        "/home/ian/Grad/Research/Disks/Starfish/Starfish/emulator.py:422: DeprecationWarning: using a non-integer number instead of an integer will result in an error in the future\n",
        "  return np.random.multivariate_normal(self.mu, self.sig)\n",
        "/home/ian/Grad/Research/Disks/Starfish/Starfish/emulator.py:422: DeprecationWarning: using a non-integer number instead of an integer will result in an error in the future\n",
        "  return np.random.multivariate_normal(self.mu, self.sig)\n",
        "/home/ian/Grad/Research/Disks/Starfish/Starfish/emulator.py:422: DeprecationWarning: using a non-integer number instead of an integer will result in an error in the future\n",
        "  return np.random.multivariate_normal(self.mu, self.sig)\n"
       ]
      },
      {
       "output_type": "stream",
       "stream": "stderr",
       "text": [
        "/home/ian/Grad/Research/Disks/Starfish/Starfish/emulator.py:422: DeprecationWarning: using a non-integer number instead of an integer will result in an error in the future\n",
        "  return np.random.multivariate_normal(self.mu, self.sig)\n",
        "/home/ian/Grad/Research/Disks/Starfish/Starfish/emulator.py:422: DeprecationWarning: using a non-integer number instead of an integer will result in an error in the future\n",
        "  return np.random.multivariate_normal(self.mu, self.sig)\n"
       ]
      },
      {
       "output_type": "stream",
       "stream": "stderr",
       "text": [
        "/home/ian/Grad/Research/Disks/Starfish/Starfish/emulator.py:422: DeprecationWarning: using a non-integer number instead of an integer will result in an error in the future\n",
        "  return np.random.multivariate_normal(self.mu, self.sig)\n",
        "/home/ian/Grad/Research/Disks/Starfish/Starfish/emulator.py:422: DeprecationWarning: using a non-integer number instead of an integer will result in an error in the future\n",
        "  return np.random.multivariate_normal(self.mu, self.sig)\n",
        "/home/ian/Grad/Research/Disks/Starfish/Starfish/emulator.py:422: DeprecationWarning: using a non-integer number instead of an integer will result in an error in the future\n",
        "  return np.random.multivariate_normal(self.mu, self.sig)\n"
       ]
      },
      {
       "output_type": "stream",
       "stream": "stderr",
       "text": [
        "/home/ian/Grad/Research/Disks/Starfish/Starfish/emulator.py:422: DeprecationWarning: using a non-integer number instead of an integer will result in an error in the future\n",
        "  return np.random.multivariate_normal(self.mu, self.sig)\n",
        "/home/ian/Grad/Research/Disks/Starfish/Starfish/emulator.py:422: DeprecationWarning: using a non-integer number instead of an integer will result in an error in the future\n",
        "  return np.random.multivariate_normal(self.mu, self.sig)\n"
       ]
      },
      {
       "output_type": "stream",
       "stream": "stderr",
       "text": [
        "/home/ian/Grad/Research/Disks/Starfish/Starfish/emulator.py:422: DeprecationWarning: using a non-integer number instead of an integer will result in an error in the future\n",
        "  return np.random.multivariate_normal(self.mu, self.sig)\n",
        "/home/ian/Grad/Research/Disks/Starfish/Starfish/emulator.py:422: DeprecationWarning: using a non-integer number instead of an integer will result in an error in the future\n",
        "  return np.random.multivariate_normal(self.mu, self.sig)\n",
        "/home/ian/Grad/Research/Disks/Starfish/Starfish/emulator.py:422: DeprecationWarning: using a non-integer number instead of an integer will result in an error in the future\n",
        "  return np.random.multivariate_normal(self.mu, self.sig)\n"
       ]
      },
      {
       "output_type": "stream",
       "stream": "stderr",
       "text": [
        "/home/ian/Grad/Research/Disks/Starfish/Starfish/emulator.py:422: DeprecationWarning: using a non-integer number instead of an integer will result in an error in the future\n",
        "  return np.random.multivariate_normal(self.mu, self.sig)\n",
        "/home/ian/Grad/Research/Disks/Starfish/Starfish/emulator.py:422: DeprecationWarning: using a non-integer number instead of an integer will result in an error in the future\n",
        "  return np.random.multivariate_normal(self.mu, self.sig)\n"
       ]
      },
      {
       "output_type": "stream",
       "stream": "stderr",
       "text": [
        "/home/ian/Grad/Research/Disks/Starfish/Starfish/emulator.py:422: DeprecationWarning: using a non-integer number instead of an integer will result in an error in the future\n",
        "  return np.random.multivariate_normal(self.mu, self.sig)\n",
        "/home/ian/Grad/Research/Disks/Starfish/Starfish/emulator.py:422: DeprecationWarning: using a non-integer number instead of an integer will result in an error in the future\n",
        "  return np.random.multivariate_normal(self.mu, self.sig)\n",
        "/home/ian/Grad/Research/Disks/Starfish/Starfish/emulator.py:422: DeprecationWarning: using a non-integer number instead of an integer will result in an error in the future\n",
        "  return np.random.multivariate_normal(self.mu, self.sig)\n"
       ]
      },
      {
       "output_type": "stream",
       "stream": "stderr",
       "text": [
        "/home/ian/Grad/Research/Disks/Starfish/Starfish/emulator.py:422: DeprecationWarning: using a non-integer number instead of an integer will result in an error in the future\n",
        "  return np.random.multivariate_normal(self.mu, self.sig)\n",
        "/home/ian/Grad/Research/Disks/Starfish/Starfish/emulator.py:422: DeprecationWarning: using a non-integer number instead of an integer will result in an error in the future\n",
        "  return np.random.multivariate_normal(self.mu, self.sig)\n"
       ]
      },
      {
       "output_type": "stream",
       "stream": "stderr",
       "text": [
        "/home/ian/Grad/Research/Disks/Starfish/Starfish/emulator.py:422: DeprecationWarning: using a non-integer number instead of an integer will result in an error in the future\n",
        "  return np.random.multivariate_normal(self.mu, self.sig)\n",
        "/home/ian/Grad/Research/Disks/Starfish/Starfish/emulator.py:422: DeprecationWarning: using a non-integer number instead of an integer will result in an error in the future\n",
        "  return np.random.multivariate_normal(self.mu, self.sig)\n",
        "/home/ian/Grad/Research/Disks/Starfish/Starfish/emulator.py:422: DeprecationWarning: using a non-integer number instead of an integer will result in an error in the future\n",
        "  return np.random.multivariate_normal(self.mu, self.sig)\n"
       ]
      },
      {
       "output_type": "stream",
       "stream": "stderr",
       "text": [
        "/home/ian/Grad/Research/Disks/Starfish/Starfish/emulator.py:422: DeprecationWarning: using a non-integer number instead of an integer will result in an error in the future\n",
        "  return np.random.multivariate_normal(self.mu, self.sig)\n",
        "/home/ian/Grad/Research/Disks/Starfish/Starfish/emulator.py:422: DeprecationWarning: using a non-integer number instead of an integer will result in an error in the future\n",
        "  return np.random.multivariate_normal(self.mu, self.sig)\n"
       ]
      },
      {
       "output_type": "stream",
       "stream": "stderr",
       "text": [
        "/home/ian/Grad/Research/Disks/Starfish/Starfish/emulator.py:422: DeprecationWarning: using a non-integer number instead of an integer will result in an error in the future\n",
        "  return np.random.multivariate_normal(self.mu, self.sig)\n",
        "/home/ian/Grad/Research/Disks/Starfish/Starfish/emulator.py:422: DeprecationWarning: using a non-integer number instead of an integer will result in an error in the future\n",
        "  return np.random.multivariate_normal(self.mu, self.sig)\n",
        "/home/ian/Grad/Research/Disks/Starfish/Starfish/emulator.py:422: DeprecationWarning: using a non-integer number instead of an integer will result in an error in the future\n",
        "  return np.random.multivariate_normal(self.mu, self.sig)\n"
       ]
      },
      {
       "output_type": "stream",
       "stream": "stderr",
       "text": [
        "/home/ian/Grad/Research/Disks/Starfish/Starfish/emulator.py:422: DeprecationWarning: using a non-integer number instead of an integer will result in an error in the future\n",
        "  return np.random.multivariate_normal(self.mu, self.sig)\n",
        "/home/ian/Grad/Research/Disks/Starfish/Starfish/emulator.py:422: DeprecationWarning: using a non-integer number instead of an integer will result in an error in the future\n",
        "  return np.random.multivariate_normal(self.mu, self.sig)\n"
       ]
      },
      {
       "output_type": "stream",
       "stream": "stderr",
       "text": [
        "/home/ian/Grad/Research/Disks/Starfish/Starfish/emulator.py:422: DeprecationWarning: using a non-integer number instead of an integer will result in an error in the future\n",
        "  return np.random.multivariate_normal(self.mu, self.sig)\n",
        "/home/ian/Grad/Research/Disks/Starfish/Starfish/emulator.py:422: DeprecationWarning: using a non-integer number instead of an integer will result in an error in the future\n",
        "  return np.random.multivariate_normal(self.mu, self.sig)\n",
        "/home/ian/Grad/Research/Disks/Starfish/Starfish/emulator.py:422: DeprecationWarning: using a non-integer number instead of an integer will result in an error in the future\n",
        "  return np.random.multivariate_normal(self.mu, self.sig)\n"
       ]
      },
      {
       "output_type": "stream",
       "stream": "stderr",
       "text": [
        "/home/ian/Grad/Research/Disks/Starfish/Starfish/emulator.py:422: DeprecationWarning: using a non-integer number instead of an integer will result in an error in the future\n",
        "  return np.random.multivariate_normal(self.mu, self.sig)\n",
        "/home/ian/Grad/Research/Disks/Starfish/Starfish/emulator.py:422: DeprecationWarning: using a non-integer number instead of an integer will result in an error in the future\n",
        "  return np.random.multivariate_normal(self.mu, self.sig)\n"
       ]
      },
      {
       "output_type": "stream",
       "stream": "stderr",
       "text": [
        "/home/ian/Grad/Research/Disks/Starfish/Starfish/emulator.py:422: DeprecationWarning: using a non-integer number instead of an integer will result in an error in the future\n",
        "  return np.random.multivariate_normal(self.mu, self.sig)\n",
        "/home/ian/Grad/Research/Disks/Starfish/Starfish/emulator.py:422: DeprecationWarning: using a non-integer number instead of an integer will result in an error in the future\n",
        "  return np.random.multivariate_normal(self.mu, self.sig)\n",
        "/home/ian/Grad/Research/Disks/Starfish/Starfish/emulator.py:422: DeprecationWarning: using a non-integer number instead of an integer will result in an error in the future\n",
        "  return np.random.multivariate_normal(self.mu, self.sig)\n"
       ]
      },
      {
       "output_type": "stream",
       "stream": "stderr",
       "text": [
        "/home/ian/Grad/Research/Disks/Starfish/Starfish/emulator.py:422: DeprecationWarning: using a non-integer number instead of an integer will result in an error in the future\n",
        "  return np.random.multivariate_normal(self.mu, self.sig)\n",
        "/home/ian/Grad/Research/Disks/Starfish/Starfish/emulator.py:422: DeprecationWarning: using a non-integer number instead of an integer will result in an error in the future\n",
        "  return np.random.multivariate_normal(self.mu, self.sig)\n"
       ]
      },
      {
       "output_type": "stream",
       "stream": "stderr",
       "text": [
        "/home/ian/Grad/Research/Disks/Starfish/Starfish/emulator.py:422: DeprecationWarning: using a non-integer number instead of an integer will result in an error in the future\n",
        "  return np.random.multivariate_normal(self.mu, self.sig)\n",
        "/home/ian/Grad/Research/Disks/Starfish/Starfish/emulator.py:422: DeprecationWarning: using a non-integer number instead of an integer will result in an error in the future\n",
        "  return np.random.multivariate_normal(self.mu, self.sig)\n"
       ]
      },
      {
       "output_type": "stream",
       "stream": "stderr",
       "text": [
        "/home/ian/Grad/Research/Disks/Starfish/Starfish/emulator.py:422: DeprecationWarning: using a non-integer number instead of an integer will result in an error in the future\n",
        "  return np.random.multivariate_normal(self.mu, self.sig)\n",
        "/home/ian/Grad/Research/Disks/Starfish/Starfish/emulator.py:422: DeprecationWarning: using a non-integer number instead of an integer will result in an error in the future\n",
        "  return np.random.multivariate_normal(self.mu, self.sig)\n"
       ]
      },
      {
       "output_type": "stream",
       "stream": "stderr",
       "text": [
        "/home/ian/Grad/Research/Disks/Starfish/Starfish/emulator.py:422: DeprecationWarning: using a non-integer number instead of an integer will result in an error in the future\n",
        "  return np.random.multivariate_normal(self.mu, self.sig)\n",
        "/home/ian/Grad/Research/Disks/Starfish/Starfish/emulator.py:422: DeprecationWarning: using a non-integer number instead of an integer will result in an error in the future\n",
        "  return np.random.multivariate_normal(self.mu, self.sig)\n",
        "/home/ian/Grad/Research/Disks/Starfish/Starfish/emulator.py:422: DeprecationWarning: using a non-integer number instead of an integer will result in an error in the future\n",
        "  return np.random.multivariate_normal(self.mu, self.sig)\n"
       ]
      },
      {
       "output_type": "stream",
       "stream": "stderr",
       "text": [
        "/home/ian/Grad/Research/Disks/Starfish/Starfish/emulator.py:422: DeprecationWarning: using a non-integer number instead of an integer will result in an error in the future\n",
        "  return np.random.multivariate_normal(self.mu, self.sig)\n",
        "/home/ian/Grad/Research/Disks/Starfish/Starfish/emulator.py:422: DeprecationWarning: using a non-integer number instead of an integer will result in an error in the future\n",
        "  return np.random.multivariate_normal(self.mu, self.sig)\n",
        "/home/ian/Grad/Research/Disks/Starfish/Starfish/emulator.py:422: DeprecationWarning: using a non-integer number instead of an integer will result in an error in the future\n",
        "  return np.random.multivariate_normal(self.mu, self.sig)\n"
       ]
      },
      {
       "output_type": "stream",
       "stream": "stderr",
       "text": [
        "/home/ian/Grad/Research/Disks/Starfish/Starfish/emulator.py:422: DeprecationWarning: using a non-integer number instead of an integer will result in an error in the future\n",
        "  return np.random.multivariate_normal(self.mu, self.sig)\n",
        "/home/ian/Grad/Research/Disks/Starfish/Starfish/emulator.py:422: DeprecationWarning: using a non-integer number instead of an integer will result in an error in the future\n",
        "  return np.random.multivariate_normal(self.mu, self.sig)\n",
        "/home/ian/Grad/Research/Disks/Starfish/Starfish/emulator.py:422: DeprecationWarning: using a non-integer number instead of an integer will result in an error in the future\n",
        "  return np.random.multivariate_normal(self.mu, self.sig)\n"
       ]
      },
      {
       "output_type": "stream",
       "stream": "stderr",
       "text": [
        "/home/ian/Grad/Research/Disks/Starfish/Starfish/emulator.py:422: DeprecationWarning: using a non-integer number instead of an integer will result in an error in the future\n",
        "  return np.random.multivariate_normal(self.mu, self.sig)\n",
        "/home/ian/Grad/Research/Disks/Starfish/Starfish/emulator.py:422: DeprecationWarning: using a non-integer number instead of an integer will result in an error in the future\n",
        "  return np.random.multivariate_normal(self.mu, self.sig)\n"
       ]
      },
      {
       "output_type": "stream",
       "stream": "stderr",
       "text": [
        "/home/ian/Grad/Research/Disks/Starfish/Starfish/emulator.py:422: DeprecationWarning: using a non-integer number instead of an integer will result in an error in the future\n",
        "  return np.random.multivariate_normal(self.mu, self.sig)\n",
        "/home/ian/Grad/Research/Disks/Starfish/Starfish/emulator.py:422: DeprecationWarning: using a non-integer number instead of an integer will result in an error in the future\n",
        "  return np.random.multivariate_normal(self.mu, self.sig)\n",
        "/home/ian/Grad/Research/Disks/Starfish/Starfish/emulator.py:422: DeprecationWarning: using a non-integer number instead of an integer will result in an error in the future\n",
        "  return np.random.multivariate_normal(self.mu, self.sig)\n"
       ]
      },
      {
       "output_type": "stream",
       "stream": "stderr",
       "text": [
        "/home/ian/Grad/Research/Disks/Starfish/Starfish/emulator.py:422: DeprecationWarning: using a non-integer number instead of an integer will result in an error in the future\n",
        "  return np.random.multivariate_normal(self.mu, self.sig)\n",
        "/home/ian/Grad/Research/Disks/Starfish/Starfish/emulator.py:422: DeprecationWarning: using a non-integer number instead of an integer will result in an error in the future\n",
        "  return np.random.multivariate_normal(self.mu, self.sig)\n"
       ]
      },
      {
       "output_type": "stream",
       "stream": "stderr",
       "text": [
        "/home/ian/Grad/Research/Disks/Starfish/Starfish/emulator.py:422: DeprecationWarning: using a non-integer number instead of an integer will result in an error in the future\n",
        "  return np.random.multivariate_normal(self.mu, self.sig)\n",
        "/home/ian/Grad/Research/Disks/Starfish/Starfish/emulator.py:422: DeprecationWarning: using a non-integer number instead of an integer will result in an error in the future\n",
        "  return np.random.multivariate_normal(self.mu, self.sig)\n",
        "/home/ian/Grad/Research/Disks/Starfish/Starfish/emulator.py:422: DeprecationWarning: using a non-integer number instead of an integer will result in an error in the future\n",
        "  return np.random.multivariate_normal(self.mu, self.sig)\n"
       ]
      },
      {
       "output_type": "stream",
       "stream": "stderr",
       "text": [
        "/home/ian/Grad/Research/Disks/Starfish/Starfish/emulator.py:422: DeprecationWarning: using a non-integer number instead of an integer will result in an error in the future\n",
        "  return np.random.multivariate_normal(self.mu, self.sig)\n",
        "/home/ian/Grad/Research/Disks/Starfish/Starfish/emulator.py:422: DeprecationWarning: using a non-integer number instead of an integer will result in an error in the future\n",
        "  return np.random.multivariate_normal(self.mu, self.sig)\n"
       ]
      },
      {
       "output_type": "stream",
       "stream": "stderr",
       "text": [
        "/home/ian/Grad/Research/Disks/Starfish/Starfish/emulator.py:422: DeprecationWarning: using a non-integer number instead of an integer will result in an error in the future\n",
        "  return np.random.multivariate_normal(self.mu, self.sig)\n",
        "/home/ian/Grad/Research/Disks/Starfish/Starfish/emulator.py:422: DeprecationWarning: using a non-integer number instead of an integer will result in an error in the future\n",
        "  return np.random.multivariate_normal(self.mu, self.sig)\n",
        "/home/ian/Grad/Research/Disks/Starfish/Starfish/emulator.py:422: DeprecationWarning: using a non-integer number instead of an integer will result in an error in the future\n",
        "  return np.random.multivariate_normal(self.mu, self.sig)\n"
       ]
      },
      {
       "output_type": "stream",
       "stream": "stderr",
       "text": [
        "/home/ian/Grad/Research/Disks/Starfish/Starfish/emulator.py:422: DeprecationWarning: using a non-integer number instead of an integer will result in an error in the future\n",
        "  return np.random.multivariate_normal(self.mu, self.sig)\n",
        "/home/ian/Grad/Research/Disks/Starfish/Starfish/emulator.py:422: DeprecationWarning: using a non-integer number instead of an integer will result in an error in the future\n",
        "  return np.random.multivariate_normal(self.mu, self.sig)\n"
       ]
      },
      {
       "output_type": "stream",
       "stream": "stderr",
       "text": [
        "/home/ian/Grad/Research/Disks/Starfish/Starfish/emulator.py:422: DeprecationWarning: using a non-integer number instead of an integer will result in an error in the future\n",
        "  return np.random.multivariate_normal(self.mu, self.sig)\n",
        "/home/ian/Grad/Research/Disks/Starfish/Starfish/emulator.py:422: DeprecationWarning: using a non-integer number instead of an integer will result in an error in the future\n",
        "  return np.random.multivariate_normal(self.mu, self.sig)\n",
        "/home/ian/Grad/Research/Disks/Starfish/Starfish/emulator.py:422: DeprecationWarning: using a non-integer number instead of an integer will result in an error in the future\n",
        "  return np.random.multivariate_normal(self.mu, self.sig)\n"
       ]
      },
      {
       "output_type": "stream",
       "stream": "stderr",
       "text": [
        "/home/ian/Grad/Research/Disks/Starfish/Starfish/emulator.py:422: DeprecationWarning: using a non-integer number instead of an integer will result in an error in the future\n",
        "  return np.random.multivariate_normal(self.mu, self.sig)\n",
        "/home/ian/Grad/Research/Disks/Starfish/Starfish/emulator.py:422: DeprecationWarning: using a non-integer number instead of an integer will result in an error in the future\n",
        "  return np.random.multivariate_normal(self.mu, self.sig)\n"
       ]
      },
      {
       "output_type": "stream",
       "stream": "stderr",
       "text": [
        "/home/ian/Grad/Research/Disks/Starfish/Starfish/emulator.py:422: DeprecationWarning: using a non-integer number instead of an integer will result in an error in the future\n",
        "  return np.random.multivariate_normal(self.mu, self.sig)\n",
        "/home/ian/Grad/Research/Disks/Starfish/Starfish/emulator.py:422: DeprecationWarning: using a non-integer number instead of an integer will result in an error in the future\n",
        "  return np.random.multivariate_normal(self.mu, self.sig)\n",
        "/home/ian/Grad/Research/Disks/Starfish/Starfish/emulator.py:422: DeprecationWarning: using a non-integer number instead of an integer will result in an error in the future\n",
        "  return np.random.multivariate_normal(self.mu, self.sig)\n"
       ]
      },
      {
       "output_type": "stream",
       "stream": "stderr",
       "text": [
        "/home/ian/Grad/Research/Disks/Starfish/Starfish/emulator.py:422: DeprecationWarning: using a non-integer number instead of an integer will result in an error in the future\n",
        "  return np.random.multivariate_normal(self.mu, self.sig)\n",
        "/home/ian/Grad/Research/Disks/Starfish/Starfish/emulator.py:422: DeprecationWarning: using a non-integer number instead of an integer will result in an error in the future\n",
        "  return np.random.multivariate_normal(self.mu, self.sig)\n"
       ]
      },
      {
       "output_type": "stream",
       "stream": "stderr",
       "text": [
        "/home/ian/Grad/Research/Disks/Starfish/Starfish/emulator.py:422: DeprecationWarning: using a non-integer number instead of an integer will result in an error in the future\n",
        "  return np.random.multivariate_normal(self.mu, self.sig)\n",
        "/home/ian/Grad/Research/Disks/Starfish/Starfish/emulator.py:422: DeprecationWarning: using a non-integer number instead of an integer will result in an error in the future\n",
        "  return np.random.multivariate_normal(self.mu, self.sig)\n",
        "/home/ian/Grad/Research/Disks/Starfish/Starfish/emulator.py:422: DeprecationWarning: using a non-integer number instead of an integer will result in an error in the future\n",
        "  return np.random.multivariate_normal(self.mu, self.sig)\n"
       ]
      },
      {
       "output_type": "stream",
       "stream": "stderr",
       "text": [
        "/home/ian/Grad/Research/Disks/Starfish/Starfish/emulator.py:422: DeprecationWarning: using a non-integer number instead of an integer will result in an error in the future\n",
        "  return np.random.multivariate_normal(self.mu, self.sig)\n",
        "/home/ian/Grad/Research/Disks/Starfish/Starfish/emulator.py:422: DeprecationWarning: using a non-integer number instead of an integer will result in an error in the future\n",
        "  return np.random.multivariate_normal(self.mu, self.sig)\n"
       ]
      },
      {
       "output_type": "stream",
       "stream": "stderr",
       "text": [
        "/home/ian/Grad/Research/Disks/Starfish/Starfish/emulator.py:422: DeprecationWarning: using a non-integer number instead of an integer will result in an error in the future\n",
        "  return np.random.multivariate_normal(self.mu, self.sig)\n",
        "/home/ian/Grad/Research/Disks/Starfish/Starfish/emulator.py:422: DeprecationWarning: using a non-integer number instead of an integer will result in an error in the future\n",
        "  return np.random.multivariate_normal(self.mu, self.sig)\n",
        "/home/ian/Grad/Research/Disks/Starfish/Starfish/emulator.py:422: DeprecationWarning: using a non-integer number instead of an integer will result in an error in the future\n",
        "  return np.random.multivariate_normal(self.mu, self.sig)\n"
       ]
      },
      {
       "output_type": "stream",
       "stream": "stderr",
       "text": [
        "/home/ian/Grad/Research/Disks/Starfish/Starfish/emulator.py:422: DeprecationWarning: using a non-integer number instead of an integer will result in an error in the future\n",
        "  return np.random.multivariate_normal(self.mu, self.sig)\n",
        "/home/ian/Grad/Research/Disks/Starfish/Starfish/emulator.py:422: DeprecationWarning: using a non-integer number instead of an integer will result in an error in the future\n",
        "  return np.random.multivariate_normal(self.mu, self.sig)\n"
       ]
      },
      {
       "output_type": "stream",
       "stream": "stderr",
       "text": [
        "/home/ian/Grad/Research/Disks/Starfish/Starfish/emulator.py:422: DeprecationWarning: using a non-integer number instead of an integer will result in an error in the future\n",
        "  return np.random.multivariate_normal(self.mu, self.sig)\n",
        "/home/ian/Grad/Research/Disks/Starfish/Starfish/emulator.py:422: DeprecationWarning: using a non-integer number instead of an integer will result in an error in the future\n",
        "  return np.random.multivariate_normal(self.mu, self.sig)\n",
        "/home/ian/Grad/Research/Disks/Starfish/Starfish/emulator.py:422: DeprecationWarning: using a non-integer number instead of an integer will result in an error in the future\n",
        "  return np.random.multivariate_normal(self.mu, self.sig)\n"
       ]
      },
      {
       "output_type": "stream",
       "stream": "stderr",
       "text": [
        "/home/ian/Grad/Research/Disks/Starfish/Starfish/emulator.py:422: DeprecationWarning: using a non-integer number instead of an integer will result in an error in the future\n",
        "  return np.random.multivariate_normal(self.mu, self.sig)\n",
        "/home/ian/Grad/Research/Disks/Starfish/Starfish/emulator.py:422: DeprecationWarning: using a non-integer number instead of an integer will result in an error in the future\n",
        "  return np.random.multivariate_normal(self.mu, self.sig)\n"
       ]
      },
      {
       "output_type": "stream",
       "stream": "stderr",
       "text": [
        "/home/ian/Grad/Research/Disks/Starfish/Starfish/emulator.py:422: DeprecationWarning: using a non-integer number instead of an integer will result in an error in the future\n",
        "  return np.random.multivariate_normal(self.mu, self.sig)\n",
        "/home/ian/Grad/Research/Disks/Starfish/Starfish/emulator.py:422: DeprecationWarning: using a non-integer number instead of an integer will result in an error in the future\n",
        "  return np.random.multivariate_normal(self.mu, self.sig)\n",
        "/home/ian/Grad/Research/Disks/Starfish/Starfish/emulator.py:422: DeprecationWarning: using a non-integer number instead of an integer will result in an error in the future\n",
        "  return np.random.multivariate_normal(self.mu, self.sig)\n"
       ]
      },
      {
       "output_type": "stream",
       "stream": "stderr",
       "text": [
        "/home/ian/Grad/Research/Disks/Starfish/Starfish/emulator.py:422: DeprecationWarning: using a non-integer number instead of an integer will result in an error in the future\n",
        "  return np.random.multivariate_normal(self.mu, self.sig)\n",
        "/home/ian/Grad/Research/Disks/Starfish/Starfish/emulator.py:422: DeprecationWarning: using a non-integer number instead of an integer will result in an error in the future\n",
        "  return np.random.multivariate_normal(self.mu, self.sig)\n"
       ]
      },
      {
       "output_type": "stream",
       "stream": "stderr",
       "text": [
        "/home/ian/Grad/Research/Disks/Starfish/Starfish/emulator.py:422: DeprecationWarning: using a non-integer number instead of an integer will result in an error in the future\n",
        "  return np.random.multivariate_normal(self.mu, self.sig)\n",
        "/home/ian/Grad/Research/Disks/Starfish/Starfish/emulator.py:422: DeprecationWarning: using a non-integer number instead of an integer will result in an error in the future\n",
        "  return np.random.multivariate_normal(self.mu, self.sig)\n",
        "/home/ian/Grad/Research/Disks/Starfish/Starfish/emulator.py:422: DeprecationWarning: using a non-integer number instead of an integer will result in an error in the future\n",
        "  return np.random.multivariate_normal(self.mu, self.sig)\n"
       ]
      },
      {
       "output_type": "stream",
       "stream": "stderr",
       "text": [
        "/home/ian/Grad/Research/Disks/Starfish/Starfish/emulator.py:422: DeprecationWarning: using a non-integer number instead of an integer will result in an error in the future\n",
        "  return np.random.multivariate_normal(self.mu, self.sig)\n",
        "/home/ian/Grad/Research/Disks/Starfish/Starfish/emulator.py:422: DeprecationWarning: using a non-integer number instead of an integer will result in an error in the future\n",
        "  return np.random.multivariate_normal(self.mu, self.sig)\n"
       ]
      },
      {
       "output_type": "stream",
       "stream": "stderr",
       "text": [
        "/home/ian/Grad/Research/Disks/Starfish/Starfish/emulator.py:422: DeprecationWarning: using a non-integer number instead of an integer will result in an error in the future\n",
        "  return np.random.multivariate_normal(self.mu, self.sig)\n",
        "/home/ian/Grad/Research/Disks/Starfish/Starfish/emulator.py:422: DeprecationWarning: using a non-integer number instead of an integer will result in an error in the future\n",
        "  return np.random.multivariate_normal(self.mu, self.sig)\n",
        "/home/ian/Grad/Research/Disks/Starfish/Starfish/emulator.py:422: DeprecationWarning: using a non-integer number instead of an integer will result in an error in the future\n",
        "  return np.random.multivariate_normal(self.mu, self.sig)\n"
       ]
      },
      {
       "output_type": "stream",
       "stream": "stderr",
       "text": [
        "/home/ian/Grad/Research/Disks/Starfish/Starfish/emulator.py:422: DeprecationWarning: using a non-integer number instead of an integer will result in an error in the future\n",
        "  return np.random.multivariate_normal(self.mu, self.sig)\n",
        "/home/ian/Grad/Research/Disks/Starfish/Starfish/emulator.py:422: DeprecationWarning: using a non-integer number instead of an integer will result in an error in the future\n",
        "  return np.random.multivariate_normal(self.mu, self.sig)\n"
       ]
      },
      {
       "output_type": "stream",
       "stream": "stderr",
       "text": [
        "/home/ian/Grad/Research/Disks/Starfish/Starfish/emulator.py:422: DeprecationWarning: using a non-integer number instead of an integer will result in an error in the future\n",
        "  return np.random.multivariate_normal(self.mu, self.sig)\n",
        "/home/ian/Grad/Research/Disks/Starfish/Starfish/emulator.py:422: DeprecationWarning: using a non-integer number instead of an integer will result in an error in the future\n",
        "  return np.random.multivariate_normal(self.mu, self.sig)\n",
        "/home/ian/Grad/Research/Disks/Starfish/Starfish/emulator.py:422: DeprecationWarning: using a non-integer number instead of an integer will result in an error in the future\n",
        "  return np.random.multivariate_normal(self.mu, self.sig)\n"
       ]
      },
      {
       "output_type": "stream",
       "stream": "stderr",
       "text": [
        "/home/ian/Grad/Research/Disks/Starfish/Starfish/emulator.py:422: DeprecationWarning: using a non-integer number instead of an integer will result in an error in the future\n",
        "  return np.random.multivariate_normal(self.mu, self.sig)\n",
        "/home/ian/Grad/Research/Disks/Starfish/Starfish/emulator.py:422: DeprecationWarning: using a non-integer number instead of an integer will result in an error in the future\n",
        "  return np.random.multivariate_normal(self.mu, self.sig)\n"
       ]
      },
      {
       "output_type": "stream",
       "stream": "stderr",
       "text": [
        "/home/ian/Grad/Research/Disks/Starfish/Starfish/emulator.py:422: DeprecationWarning: using a non-integer number instead of an integer will result in an error in the future\n",
        "  return np.random.multivariate_normal(self.mu, self.sig)\n",
        "/home/ian/Grad/Research/Disks/Starfish/Starfish/emulator.py:422: DeprecationWarning: using a non-integer number instead of an integer will result in an error in the future\n",
        "  return np.random.multivariate_normal(self.mu, self.sig)\n",
        "/home/ian/Grad/Research/Disks/Starfish/Starfish/emulator.py:422: DeprecationWarning: using a non-integer number instead of an integer will result in an error in the future\n",
        "  return np.random.multivariate_normal(self.mu, self.sig)\n"
       ]
      },
      {
       "output_type": "stream",
       "stream": "stderr",
       "text": [
        "/home/ian/Grad/Research/Disks/Starfish/Starfish/emulator.py:422: DeprecationWarning: using a non-integer number instead of an integer will result in an error in the future\n",
        "  return np.random.multivariate_normal(self.mu, self.sig)\n",
        "/home/ian/Grad/Research/Disks/Starfish/Starfish/emulator.py:422: DeprecationWarning: using a non-integer number instead of an integer will result in an error in the future\n",
        "  return np.random.multivariate_normal(self.mu, self.sig)\n"
       ]
      },
      {
       "output_type": "stream",
       "stream": "stderr",
       "text": [
        "/home/ian/Grad/Research/Disks/Starfish/Starfish/emulator.py:422: DeprecationWarning: using a non-integer number instead of an integer will result in an error in the future\n",
        "  return np.random.multivariate_normal(self.mu, self.sig)\n",
        "/home/ian/Grad/Research/Disks/Starfish/Starfish/emulator.py:422: DeprecationWarning: using a non-integer number instead of an integer will result in an error in the future\n",
        "  return np.random.multivariate_normal(self.mu, self.sig)\n",
        "/home/ian/Grad/Research/Disks/Starfish/Starfish/emulator.py:422: DeprecationWarning: using a non-integer number instead of an integer will result in an error in the future\n",
        "  return np.random.multivariate_normal(self.mu, self.sig)\n"
       ]
      },
      {
       "output_type": "stream",
       "stream": "stderr",
       "text": [
        "/home/ian/Grad/Research/Disks/Starfish/Starfish/emulator.py:422: DeprecationWarning: using a non-integer number instead of an integer will result in an error in the future\n",
        "  return np.random.multivariate_normal(self.mu, self.sig)\n",
        "/home/ian/Grad/Research/Disks/Starfish/Starfish/emulator.py:422: DeprecationWarning: using a non-integer number instead of an integer will result in an error in the future\n",
        "  return np.random.multivariate_normal(self.mu, self.sig)\n"
       ]
      },
      {
       "output_type": "stream",
       "stream": "stderr",
       "text": [
        "/home/ian/Grad/Research/Disks/Starfish/Starfish/emulator.py:422: DeprecationWarning: using a non-integer number instead of an integer will result in an error in the future\n",
        "  return np.random.multivariate_normal(self.mu, self.sig)\n",
        "/home/ian/Grad/Research/Disks/Starfish/Starfish/emulator.py:422: DeprecationWarning: using a non-integer number instead of an integer will result in an error in the future\n",
        "  return np.random.multivariate_normal(self.mu, self.sig)\n",
        "/home/ian/Grad/Research/Disks/Starfish/Starfish/emulator.py:422: DeprecationWarning: using a non-integer number instead of an integer will result in an error in the future\n",
        "  return np.random.multivariate_normal(self.mu, self.sig)\n"
       ]
      },
      {
       "output_type": "stream",
       "stream": "stderr",
       "text": [
        "/home/ian/Grad/Research/Disks/Starfish/Starfish/emulator.py:422: DeprecationWarning: using a non-integer number instead of an integer will result in an error in the future\n",
        "  return np.random.multivariate_normal(self.mu, self.sig)\n",
        "/home/ian/Grad/Research/Disks/Starfish/Starfish/emulator.py:422: DeprecationWarning: using a non-integer number instead of an integer will result in an error in the future\n",
        "  return np.random.multivariate_normal(self.mu, self.sig)\n"
       ]
      },
      {
       "output_type": "stream",
       "stream": "stderr",
       "text": [
        "/home/ian/Grad/Research/Disks/Starfish/Starfish/emulator.py:422: DeprecationWarning: using a non-integer number instead of an integer will result in an error in the future\n",
        "  return np.random.multivariate_normal(self.mu, self.sig)\n",
        "/home/ian/Grad/Research/Disks/Starfish/Starfish/emulator.py:422: DeprecationWarning: using a non-integer number instead of an integer will result in an error in the future\n",
        "  return np.random.multivariate_normal(self.mu, self.sig)\n",
        "/home/ian/Grad/Research/Disks/Starfish/Starfish/emulator.py:422: DeprecationWarning: using a non-integer number instead of an integer will result in an error in the future\n",
        "  return np.random.multivariate_normal(self.mu, self.sig)\n"
       ]
      },
      {
       "output_type": "stream",
       "stream": "stderr",
       "text": [
        "/home/ian/Grad/Research/Disks/Starfish/Starfish/emulator.py:422: DeprecationWarning: using a non-integer number instead of an integer will result in an error in the future\n",
        "  return np.random.multivariate_normal(self.mu, self.sig)\n",
        "/usr/lib/python3.4/site-packages/matplotlib/texmanager.py:575: DeprecationWarning: npy_PyFile_Dup is deprecated, use npy_PyFile_Dup2\n",
        "  X = read_png(os.path.join(self.texcache, pngfile))\n"
       ]
      },
      {
       "output_type": "stream",
       "stream": "stderr",
       "text": [
        "/usr/lib/python3.4/site-packages/matplotlib/texmanager.py:575: DeprecationWarning: npy_PyFile_Dup is deprecated, use npy_PyFile_Dup2\n",
        "  X = read_png(os.path.join(self.texcache, pngfile))\n",
        "/usr/lib/python3.4/site-packages/matplotlib/texmanager.py:575: DeprecationWarning: npy_PyFile_Dup is deprecated, use npy_PyFile_Dup2\n",
        "  X = read_png(os.path.join(self.texcache, pngfile))\n",
        "/usr/lib/python3.4/site-packages/matplotlib/texmanager.py:575: DeprecationWarning: npy_PyFile_Dup is deprecated, use npy_PyFile_Dup2\n",
        "  X = read_png(os.path.join(self.texcache, pngfile))\n",
        "/usr/lib/python3.4/site-packages/matplotlib/texmanager.py:575: DeprecationWarning: npy_PyFile_Dup is deprecated, use npy_PyFile_Dup2\n",
        "  X = read_png(os.path.join(self.texcache, pngfile))\n",
        "/usr/lib/python3.4/site-packages/matplotlib/texmanager.py:575: DeprecationWarning: npy_PyFile_Dup is deprecated, use npy_PyFile_Dup2\n",
        "  X = read_png(os.path.join(self.texcache, pngfile))\n",
        "/usr/lib/python3.4/site-packages/matplotlib/texmanager.py:575: DeprecationWarning: npy_PyFile_Dup is deprecated, use npy_PyFile_Dup2\n",
        "  X = read_png(os.path.join(self.texcache, pngfile))\n",
        "/usr/lib/python3.4/site-packages/matplotlib/texmanager.py:575: DeprecationWarning: npy_PyFile_Dup is deprecated, use npy_PyFile_Dup2\n",
        "  X = read_png(os.path.join(self.texcache, pngfile))\n",
        "/usr/lib/python3.4/site-packages/matplotlib/texmanager.py:575: DeprecationWarning: npy_PyFile_Dup is deprecated, use npy_PyFile_Dup2\n",
        "  X = read_png(os.path.join(self.texcache, pngfile))\n",
        "/usr/lib/python3.4/site-packages/matplotlib/texmanager.py:575: DeprecationWarning: npy_PyFile_Dup is deprecated, use npy_PyFile_Dup2\n",
        "  X = read_png(os.path.join(self.texcache, pngfile))\n"
       ]
      },
      {
       "output_type": "stream",
       "stream": "stderr",
       "text": [
        "/usr/lib/python3.4/site-packages/matplotlib/texmanager.py:575: DeprecationWarning: npy_PyFile_Dup is deprecated, use npy_PyFile_Dup2\n",
        "  X = read_png(os.path.join(self.texcache, pngfile))\n",
        "/usr/lib/python3.4/site-packages/matplotlib/texmanager.py:575: DeprecationWarning: npy_PyFile_Dup is deprecated, use npy_PyFile_Dup2\n",
        "  X = read_png(os.path.join(self.texcache, pngfile))\n",
        "/usr/lib/python3.4/site-packages/matplotlib/texmanager.py:575: DeprecationWarning: npy_PyFile_Dup is deprecated, use npy_PyFile_Dup2\n",
        "  X = read_png(os.path.join(self.texcache, pngfile))\n"
       ]
      },
      {
       "output_type": "stream",
       "stream": "stderr",
       "text": [
        "/usr/lib/python3.4/site-packages/matplotlib/texmanager.py:575: DeprecationWarning: npy_PyFile_Dup is deprecated, use npy_PyFile_Dup2\n",
        "  X = read_png(os.path.join(self.texcache, pngfile))\n",
        "/usr/lib/python3.4/site-packages/matplotlib/texmanager.py:575: DeprecationWarning: npy_PyFile_Dup is deprecated, use npy_PyFile_Dup2\n",
        "  X = read_png(os.path.join(self.texcache, pngfile))\n"
       ]
      },
      {
       "output_type": "stream",
       "stream": "stderr",
       "text": [
        "/usr/lib/python3.4/site-packages/matplotlib/texmanager.py:575: DeprecationWarning: npy_PyFile_Dup is deprecated, use npy_PyFile_Dup2\n",
        "  X = read_png(os.path.join(self.texcache, pngfile))\n",
        "/usr/lib/python3.4/site-packages/matplotlib/texmanager.py:575: DeprecationWarning: npy_PyFile_Dup is deprecated, use npy_PyFile_Dup2\n",
        "  X = read_png(os.path.join(self.texcache, pngfile))\n"
       ]
      },
      {
       "output_type": "stream",
       "stream": "stderr",
       "text": [
        "/usr/lib/python3.4/site-packages/matplotlib/texmanager.py:575: DeprecationWarning: npy_PyFile_Dup is deprecated, use npy_PyFile_Dup2\n",
        "  X = read_png(os.path.join(self.texcache, pngfile))\n",
        "/usr/lib/python3.4/site-packages/matplotlib/texmanager.py:575: DeprecationWarning: npy_PyFile_Dup is deprecated, use npy_PyFile_Dup2\n",
        "  X = read_png(os.path.join(self.texcache, pngfile))\n",
        "/usr/lib/python3.4/site-packages/matplotlib/texmanager.py:575: DeprecationWarning: npy_PyFile_Dup is deprecated, use npy_PyFile_Dup2\n",
        "  X = read_png(os.path.join(self.texcache, pngfile))\n",
        "/usr/lib/python3.4/site-packages/matplotlib/texmanager.py:575: DeprecationWarning: npy_PyFile_Dup is deprecated, use npy_PyFile_Dup2\n",
        "  X = read_png(os.path.join(self.texcache, pngfile))\n"
       ]
      },
      {
       "output_type": "stream",
       "stream": "stderr",
       "text": [
        "/usr/lib/python3.4/site-packages/matplotlib/texmanager.py:575: DeprecationWarning: npy_PyFile_Dup is deprecated, use npy_PyFile_Dup2\n",
        "  X = read_png(os.path.join(self.texcache, pngfile))\n",
        "/usr/lib/python3.4/site-packages/matplotlib/texmanager.py:575: DeprecationWarning: npy_PyFile_Dup is deprecated, use npy_PyFile_Dup2\n",
        "  X = read_png(os.path.join(self.texcache, pngfile))\n",
        "/usr/lib/python3.4/site-packages/matplotlib/texmanager.py:575: DeprecationWarning: npy_PyFile_Dup is deprecated, use npy_PyFile_Dup2\n",
        "  X = read_png(os.path.join(self.texcache, pngfile))\n"
       ]
      },
      {
       "output_type": "stream",
       "stream": "stderr",
       "text": [
        "/usr/lib/python3.4/site-packages/matplotlib/texmanager.py:575: DeprecationWarning: npy_PyFile_Dup is deprecated, use npy_PyFile_Dup2\n",
        "  X = read_png(os.path.join(self.texcache, pngfile))\n",
        "/usr/lib/python3.4/site-packages/matplotlib/texmanager.py:575: DeprecationWarning: npy_PyFile_Dup is deprecated, use npy_PyFile_Dup2\n",
        "  X = read_png(os.path.join(self.texcache, pngfile))\n",
        "/usr/lib/python3.4/site-packages/matplotlib/texmanager.py:575: DeprecationWarning: npy_PyFile_Dup is deprecated, use npy_PyFile_Dup2\n",
        "  X = read_png(os.path.join(self.texcache, pngfile))\n"
       ]
      },
      {
       "output_type": "stream",
       "stream": "stderr",
       "text": [
        "/usr/lib/python3.4/site-packages/matplotlib/texmanager.py:575: DeprecationWarning: npy_PyFile_Dup is deprecated, use npy_PyFile_Dup2\n",
        "  X = read_png(os.path.join(self.texcache, pngfile))\n",
        "/usr/lib/python3.4/site-packages/matplotlib/texmanager.py:575: DeprecationWarning: npy_PyFile_Dup is deprecated, use npy_PyFile_Dup2\n",
        "  X = read_png(os.path.join(self.texcache, pngfile))\n"
       ]
      },
      {
       "output_type": "stream",
       "stream": "stderr",
       "text": [
        "/usr/lib/python3.4/site-packages/matplotlib/texmanager.py:575: DeprecationWarning: npy_PyFile_Dup is deprecated, use npy_PyFile_Dup2\n",
        "  X = read_png(os.path.join(self.texcache, pngfile))\n",
        "/usr/lib/python3.4/site-packages/matplotlib/texmanager.py:575: DeprecationWarning: npy_PyFile_Dup is deprecated, use npy_PyFile_Dup2\n",
        "  X = read_png(os.path.join(self.texcache, pngfile))\n",
        "/usr/lib/python3.4/site-packages/matplotlib/texmanager.py:575: DeprecationWarning: npy_PyFile_Dup is deprecated, use npy_PyFile_Dup2\n",
        "  X = read_png(os.path.join(self.texcache, pngfile))\n",
        "/usr/lib/python3.4/site-packages/matplotlib/texmanager.py:575: DeprecationWarning: npy_PyFile_Dup is deprecated, use npy_PyFile_Dup2\n",
        "  X = read_png(os.path.join(self.texcache, pngfile))\n"
       ]
      },
      {
       "output_type": "stream",
       "stream": "stderr",
       "text": [
        "/usr/lib/python3.4/site-packages/matplotlib/texmanager.py:575: DeprecationWarning: npy_PyFile_Dup is deprecated, use npy_PyFile_Dup2\n",
        "  X = read_png(os.path.join(self.texcache, pngfile))\n",
        "/usr/lib/python3.4/site-packages/matplotlib/texmanager.py:575: DeprecationWarning: npy_PyFile_Dup is deprecated, use npy_PyFile_Dup2\n",
        "  X = read_png(os.path.join(self.texcache, pngfile))\n",
        "/usr/lib/python3.4/site-packages/matplotlib/texmanager.py:575: DeprecationWarning: npy_PyFile_Dup is deprecated, use npy_PyFile_Dup2\n",
        "  X = read_png(os.path.join(self.texcache, pngfile))\n"
       ]
      },
      {
       "output_type": "stream",
       "stream": "stderr",
       "text": [
        "/usr/lib/python3.4/site-packages/matplotlib/texmanager.py:575: DeprecationWarning: npy_PyFile_Dup is deprecated, use npy_PyFile_Dup2\n",
        "  X = read_png(os.path.join(self.texcache, pngfile))\n",
        "/usr/lib/python3.4/site-packages/matplotlib/texmanager.py:575: DeprecationWarning: npy_PyFile_Dup is deprecated, use npy_PyFile_Dup2\n",
        "  X = read_png(os.path.join(self.texcache, pngfile))\n",
        "/usr/lib/python3.4/site-packages/matplotlib/texmanager.py:575: DeprecationWarning: npy_PyFile_Dup is deprecated, use npy_PyFile_Dup2\n",
        "  X = read_png(os.path.join(self.texcache, pngfile))\n"
       ]
      },
      {
       "output_type": "stream",
       "stream": "stderr",
       "text": [
        "/usr/lib/python3.4/site-packages/matplotlib/texmanager.py:575: DeprecationWarning: npy_PyFile_Dup is deprecated, use npy_PyFile_Dup2\n",
        "  X = read_png(os.path.join(self.texcache, pngfile))\n",
        "/usr/lib/python3.4/site-packages/matplotlib/texmanager.py:575: DeprecationWarning: npy_PyFile_Dup is deprecated, use npy_PyFile_Dup2\n",
        "  X = read_png(os.path.join(self.texcache, pngfile))\n",
        "/usr/lib/python3.4/site-packages/matplotlib/texmanager.py:575: DeprecationWarning: npy_PyFile_Dup is deprecated, use npy_PyFile_Dup2\n",
        "  X = read_png(os.path.join(self.texcache, pngfile))\n",
        "/usr/lib/python3.4/site-packages/matplotlib/texmanager.py:575: DeprecationWarning: npy_PyFile_Dup is deprecated, use npy_PyFile_Dup2\n",
        "  X = read_png(os.path.join(self.texcache, pngfile))\n"
       ]
      }
     ],
     "prompt_number": 18
    },
    {
     "cell_type": "code",
     "collapsed": true,
     "input": [
      "def plot_weights(pindex):\n",
      "\n",
      "    fig, ax = plt.subplots(nrows=4, ncols=4, figsize=(12,12), sharex=True, sharey=True)\n",
      "\n",
      "    for i in range(4):\n",
      "        for j in range(4):\n",
      "            logg = loggs[i]\n",
      "            Z = Zs[j]\n",
      "            w_temp = []\n",
      "            for temp in temps:\n",
      "                pars = np.array([temp, logg, Z])\n",
      "                index = emulator.get_index(pars)\n",
      "                #print(i, j, pars, index)\n",
      "                w_temp.append(np.sum(emulator.fluxes[index] * emulator.pcomps[pindex]))\n",
      "            ax[i,j].plot(temps, w_temp, \"k\")\n",
      "            ax[i,j].plot(temps, w_temp, \"bo\")\n",
      "            ax[i,j].annotate(r\"$\\log g = {:.1f}$\".format(logg), (0.1, 0.90), xycoords=\"axes fraction\", ha=\"left\", color=\"k\", size=9)\n",
      "            ax[i,j].annotate(r\"$Z = {:.1f}$\".format(Z), (0.1, 0.8), xycoords=\"axes fraction\", ha=\"left\", color=\"k\", size=9)      \n",
      "\n",
      "    ax[-1, -1].xaxis.set_major_formatter(FSF(\"%.0f\"))        \n",
      "    ax[-1, -1].xaxis.set_major_locator(MultipleLocator(200))        \n",
      "\n",
      "    fig.savefig(\"weights{}\".format(pindex + 1))\n",
      "    \n",
      "def plot_weights_logg(pindex):\n",
      "\n",
      "    fig, ax = plt.subplots(nrows=4, ncols=7, figsize=(20,12), sharex=True, sharey=True)\n",
      "\n",
      "    for i in range(4):\n",
      "        for j in range(7):\n",
      "            Z = Zs[i]\n",
      "            temp = temps[j]\n",
      "            w_logg = []\n",
      "            for logg in loggs:\n",
      "                pars = np.array([temp, logg, Z])\n",
      "                index = emulator.get_index(pars)\n",
      "                #print(i, j, pars, index)\n",
      "                w_logg.append(np.sum(emulator.fluxes[index] * emulator.pcomps[pindex]))\n",
      "            ax[i,j].plot(loggs, w_logg, \"k\")\n",
      "            ax[i,j].plot(loggs, w_logg, \"bo\")\n",
      "            ax[i,j].annotate(r\"$T_{\\rm eff}$\" + r\"$= {:.0f}$\".format(temp), (0.1, 0.90), xycoords=\"axes fraction\", ha=\"left\", color=\"k\", size=9)\n",
      "            ax[i,j].annotate(r\"$Z = {:.1f}$\".format(Z), (0.1, 0.8), xycoords=\"axes fraction\", ha=\"left\", color=\"k\", size=9)      \n",
      "\n",
      "    ax[-1, -1].xaxis.set_major_formatter(FSF(\"%.1f\"))        \n",
      "    ax[-1, -1].xaxis.set_major_locator(MultipleLocator(0.5))        \n",
      "\n",
      "    fig.savefig(\"weights_logg{}\".format(pindex + 1))\n",
      "    plt.clf()\n",
      "    \n",
      "def plot_weights_Z(pindex):\n",
      "\n",
      "    fig, ax = plt.subplots(nrows=4, ncols=7, figsize=(20,12), sharex=True, sharey=True)\n",
      "\n",
      "    for i in range(4):\n",
      "        for j in range(7):\n",
      "            logg = loggs[i]\n",
      "            temp = temps[j]\n",
      "            w_Z = []\n",
      "            for Z in Zs:\n",
      "                pars = np.array([temp, logg, Z])\n",
      "                index = emulator.get_index(pars)\n",
      "                #print(i, j, pars, index)\n",
      "                w_Z.append(np.sum(emulator.fluxes[index] * emulator.pcomps[pindex]))\n",
      "            ax[i,j].plot(Zs, w_Z, \"k\")\n",
      "            ax[i,j].plot(Zs, w_Z, \"bo\")\n",
      "            ax[i,j].annotate(r\"$\\log g = {:.0f}$\".format(logg), (0.1, 0.90), xycoords=\"axes fraction\", ha=\"left\", color=\"k\", size=9)\n",
      "            ax[i,j].annotate(r\"$Z = {:.1f}$\".format(Z), (0.1, 0.8), xycoords=\"axes fraction\", ha=\"left\", color=\"k\", size=9)      \n",
      "\n",
      "    ax[-1, -1].xaxis.set_major_formatter(FSF(\"%.1f\"))        \n",
      "    ax[-1, -1].xaxis.set_major_locator(MultipleLocator(0.5))        \n",
      "\n",
      "    fig.savefig(\"weights_Z{}\".format(pindex + 1))\n",
      "    plt.clf()"
     ],
     "language": "python",
     "metadata": {},
     "outputs": []
    },
    {
     "cell_type": "markdown",
     "metadata": {},
     "source": [
      "## Priors"
     ]
    },
    {
     "cell_type": "code",
     "collapsed": false,
     "input": [
      "def prior_wi(lw, aw, bw):\n",
      "    return lw**(aw - 1.0) * np.exp(-bw * lw)\n",
      "\n",
      "def prior_rho(rho, br):\n",
      "    return (1 - rho)**(br - 1.)\n",
      "\n",
      "def prior_lp(lp, ap, bp):\n",
      "    return - (ap - 1) * np.log(lp) * bp * lp\n",
      "\n",
      "def gamma_prior(x, a, b):\n",
      "    return b**a * x**(a - 1) * np.exp(-b * x)/math.gamma(a)\n",
      "\n"
     ],
     "language": "python",
     "metadata": {},
     "outputs": []
    },
    {
     "cell_type": "code",
     "collapsed": false,
     "input": [
      "lw = np.linspace(0., 5.)\n",
      "pw = prior_wi(lw, 5., 5.)\n",
      "plt.plot(lw, pw)\n",
      "plt.show()"
     ],
     "language": "python",
     "metadata": {},
     "outputs": []
    },
    {
     "cell_type": "code",
     "collapsed": false,
     "input": [
      "\n",
      "\n",
      "\n",
      "rs = np.linspace(0, 1.)\n",
      "pr = prior_rho(rs, 0.1)\n",
      "plt.plot(rs, pr)\n",
      "plt.show()\n",
      "\n",
      "print(emulator.a_Pprime)\n",
      "print(emulator.b_Pprime[0,0])\n",
      "\n",
      "import math\n",
      "xs = np.linspace(0, 10)\n",
      "gps = gamma_prior(xs, 1.0, 0.0001)\n",
      "plt.plot(xs, gps)\n",
      "plt.show()\n",
      "\n",
      "lps = np.logspace(-4, 8)\n",
      "plps = prior_lp(lps, emulator.a_Pprime, emulator.b_Pprime[0,0])\n",
      "plt.semilogx(lps, plps)\n",
      "plt.show()"
     ],
     "language": "python",
     "metadata": {},
     "outputs": []
    },
    {
     "cell_type": "markdown",
     "metadata": {},
     "source": [
      "## Plot the eigenspectra"
     ]
    },
    {
     "cell_type": "code",
     "collapsed": false,
     "input": [
      "wl = emulator.grid.wl[emulator.ind]"
     ],
     "language": "python",
     "metadata": {},
     "outputs": []
    },
    {
     "cell_type": "code",
     "collapsed": false,
     "input": [
      "fig = plt.figure(figsize=(8, 8))\n",
      "ax = fig.add_subplot(111)\n",
      "\n",
      "    \n",
      "ax.xaxis.set_major_formatter(FSF(\"%.1f\"))\n",
      "ax.set_xlabel(r\"$\\lambda [\\mu {\\rm m}]$\")\n",
      "ax.set_ylabel(r\"$\\propto f_\\lambda$\")\n",
      "    \n",
      "ax.set_xlim(2.15, 2.3)\n",
      "ax.set_title(\"Eigenspectra\")\n",
      "\n",
      "for i,comp in enumerate(emulator.pcomps):\n",
      "    ax.plot(wl*1e-4, comp, label=\"{}\".format(i+1))\n",
      "    \n",
      "ax.legend(loc=\"lower left\")\n",
      "\n",
      "fig.savefig(\"../plots/emulator/eigenspectra.png\")\n",
      "plt.show()\n"
     ],
     "language": "python",
     "metadata": {},
     "outputs": []
    },
    {
     "cell_type": "code",
     "collapsed": false,
     "input": [
      "fig = plt.figure(figsize=(8, 5))\n",
      "ax = fig.add_subplot(111)\n",
      "ax.xaxis.set_major_formatter(FSF(\"%.1f\"))\n",
      "ax.set_xlabel(r\"$\\lambda [\\mu {\\rm m}]$\")\n",
      "ax.set_ylabel(r\"$\\propto f_\\lambda$\")\n",
      "ax.plot(wl*1e-4, emulator.flux_mean)\n",
      "ax.set_title(\"Mean flux\")\n",
      "fig.savefig(\"../plots/emulator/mean.png\")\n",
      "plt.show()"
     ],
     "language": "python",
     "metadata": {},
     "outputs": []
    },
    {
     "cell_type": "code",
     "collapsed": false,
     "input": [
      "fig = plt.figure(figsize=(8, 5))\n",
      "ax = fig.add_subplot(111)\n",
      "ax.xaxis.set_major_formatter(FSF(\"%.1f\"))\n",
      "ax.set_xlabel(r\"$\\lambda [\\mu {\\rm m}]$\")\n",
      "ax.set_ylabel(r\"$\\propto f_\\lambda$\")\n",
      "ax.plot(wl*1e-4, emulator.flux_std)\n",
      "ax.set_title(\"Std flux\")\n",
      "fig.savefig(\"../plots/emulator/std.png\")\n",
      "plt.show()"
     ],
     "language": "python",
     "metadata": {},
     "outputs": []
    },
    {
     "cell_type": "code",
     "collapsed": false,
     "input": [
      "w = emulator.get_w()"
     ],
     "language": "python",
     "metadata": {},
     "outputs": []
    },
    {
     "cell_type": "code",
     "collapsed": false,
     "input": [
      "recons_large = emulator.reconstruct_full(emulator.PHI, w)"
     ],
     "language": "python",
     "metadata": {},
     "outputs": []
    },
    {
     "cell_type": "code",
     "collapsed": false,
     "input": [
      "plt.plot(np.ravel(emulator.fluxes * emulator.flux_std + emulator.flux_mean))\n",
      "plt.plot(recons_large)\n",
      "plt.show()"
     ],
     "language": "python",
     "metadata": {},
     "outputs": []
    },
    {
     "cell_type": "code",
     "collapsed": false,
     "input": [],
     "language": "python",
     "metadata": {},
     "outputs": []
    }
   ],
   "metadata": {}
  }
 ]
}