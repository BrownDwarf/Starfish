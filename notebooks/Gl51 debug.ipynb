{
 "metadata": {
  "name": "",
  "signature": "sha256:2f7b31ec20cacc9c9ced6a7b8003bd8fd6e93b737d52f4b7fde6c5fc05ea36c3"
 },
 "nbformat": 3,
 "nbformat_minor": 0,
 "worksheets": [
  {
   "cells": [
    {
     "cell_type": "code",
     "collapsed": false,
     "input": [
      "import matplotlib.pyplot as plt\n",
      "import numpy as np\n",
      "import StellarSpectra.constants as C\n",
      "from StellarSpectra.utils import saveall\n",
      "from StellarSpectra.model import Model\n",
      "from StellarSpectra.spectrum import DataSpectrum\n",
      "from StellarSpectra.grid_tools import SPEX, HDF5Interface\n",
      "import scipy.sparse as sp\n",
      "import matplotlib\n"
     ],
     "language": "python",
     "metadata": {},
     "outputs": [],
     "prompt_number": 3
    },
    {
     "cell_type": "code",
     "collapsed": false,
     "input": [
      "interface = HDF5Interface(\"../libraries/PHOENIX_SPEX_M.hdf5\")\n",
      "dataSpectrum = DataSpectrum.open(\"../data/Gl51/Gl51RA.hdf5\")\n",
      "instrument = SPEX()"
     ],
     "language": "python",
     "metadata": {},
     "outputs": [],
     "prompt_number": 4
    },
    {
     "cell_type": "code",
     "collapsed": false,
     "input": [
      "#Load a model using the JSON file\n",
      "\n",
      "myModel = Model(dataSpectrum, instrument, interface, stellar_tuple=(\"temp\", \"logg\", \"Z\", \"vsini\", \"vz\", \"logOmega\"), \n",
      "                cheb_tuple=(\"logc0\", \"c1\", \"c2\", \"c3\"), cov_tuple=(\"sigAmp\", \"logAmp\", \"l\"), region_tuple=(\"loga\", \"mu\", \"sigma\"),\n",
      "                max_v=600)\n",
      "\n",
      "myOrderModel = myModel.OrderModels[0]\n",
      "spec = myModel.get_data()\n",
      "\n",
      "wl = spec.wls[0]\n",
      "fl = spec.fls[0]\n",
      "sigma = spec.sigmas[0]\n",
      "\n",
      "model_fl = myOrderModel.get_spectrum()\n",
      "\n",
      "residuals = fl - model_fl\n",
      "cheb = myOrderModel.get_Cheb()"
     ],
     "language": "python",
     "metadata": {},
     "outputs": [
      {
       "output_type": "stream",
       "stream": "stdout",
       "text": [
        "Determine Chunk Log: Wl is 2048\n",
        "Creating OrderModel 0\n",
        "Deallocating Covariance Matrix\n",
        "Deallocating GlobalCovarianceMatrix\n",
        "Deallocating InterpCovarianceMatrix\n",
        "Deallocating Common\n"
       ]
      }
     ],
     "prompt_number": 12
    },
    {
     "cell_type": "code",
     "collapsed": false,
     "input": [
      "params = {'vz': 0, 'logOmega': -19.62, 'vsini': 5.0, 'temp': 3000., 'logg': 5.0, 'Z': -0.1}\n",
      "myModel.update_Model(params)"
     ],
     "language": "python",
     "metadata": {},
     "outputs": [],
     "prompt_number": 20
    },
    {
     "cell_type": "code",
     "collapsed": false,
     "input": [
      "cov = myModel.OrderModels[0].get_Cov_interp().todense()"
     ],
     "language": "python",
     "metadata": {},
     "outputs": [],
     "prompt_number": 21
    },
    {
     "cell_type": "code",
     "collapsed": false,
     "input": [
      "plt.imshow(cov, origin=\"upper\", interpolation=\"none\")\n",
      "plt.colorbar()\n",
      "plt.show()"
     ],
     "language": "python",
     "metadata": {},
     "outputs": [],
     "prompt_number": 22
    },
    {
     "cell_type": "code",
     "collapsed": false,
     "input": [],
     "language": "python",
     "metadata": {},
     "outputs": []
    }
   ],
   "metadata": {}
  }
 ]
}