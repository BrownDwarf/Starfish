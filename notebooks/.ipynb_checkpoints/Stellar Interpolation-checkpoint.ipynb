{
 "metadata": {
  "name": "",
  "signature": "sha256:a87de098e371d1c15f08703571d621107a21c4b788ae6e3d6daa6360bea44df2"
 },
 "nbformat": 3,
 "nbformat_minor": 0,
 "worksheets": [
  {
   "cells": [
    {
     "cell_type": "markdown",
     "metadata": {},
     "source": [
      "#A suite of tests to explore interpolation amonst the stellar parameters"
     ]
    },
    {
     "cell_type": "code",
     "collapsed": false,
     "input": [
      "import matplotlib.pyplot as plt\n",
      "import numpy as np\n",
      "from scipy.interpolate import InterpolatedUnivariateSpline as IUS\n",
      "from StellarSpectra.grid_tools import HDF5Interface\n",
      "myInterface = HDF5Interface(\"../libraries/PHOENIX_submaster.hdf5\")"
     ],
     "language": "python",
     "metadata": {},
     "outputs": [],
     "prompt_number": 1
    },
    {
     "cell_type": "code",
     "collapsed": false,
     "input": [
      "def load_pixel(index, temp, logg, Z):\n",
      "    '''\n",
      "    Return the flux value at a specific pixel in a spectrum, defined by params\n",
      "    '''\n",
      "    params = {\"temp\":temp, \"logg\":logg, \"Z\":Z, \"alpha\":0.0}\n",
      "    flux = myInterface.load_flux(params)\n",
      "    return flux[index]\n",
      "\n",
      "def get_wl(index):\n",
      "    return myInterface.wl[index]"
     ],
     "language": "python",
     "metadata": {},
     "outputs": [],
     "prompt_number": 2
    },
    {
     "cell_type": "code",
     "collapsed": false,
     "input": [
      "#Determine truncation indices for order of interest\n",
      "wl = myInterface.wl\n",
      "inds = np.argwhere((wl > 5120) & (wl < 5220))[np.array([0, -1])]\n",
      "inds[0], inds[1]"
     ],
     "language": "python",
     "metadata": {},
     "outputs": [
      {
       "metadata": {},
       "output_type": "pyout",
       "prompt_number": 4,
       "text": [
        "(array([345476]), array([355478]))"
       ]
      }
     ],
     "prompt_number": 4
    },
    {
     "cell_type": "code",
     "collapsed": false,
     "input": [
      "flux = myInterface.load_flux({\"temp\":6000, \"logg\":4.0, \"Z\":0.0, \"alpha\":0.0})\n",
      "print(len(flux))\n",
      "#plt.plot(flux[inds[0]:inds[1]])\n",
      "#plt.show()"
     ],
     "language": "python",
     "metadata": {},
     "outputs": [
      {
       "output_type": "stream",
       "stream": "stdout",
       "text": [
        "983561\n"
       ]
      }
     ],
     "prompt_number": 37
    },
    {
     "cell_type": "code",
     "collapsed": false,
     "input": [
      "temps = myInterface.points[\"temp\"]"
     ],
     "language": "python",
     "metadata": {},
     "outputs": [],
     "prompt_number": 6
    },
    {
     "cell_type": "code",
     "collapsed": false,
     "input": [
      "#Pixel indices for lines\n",
      "cont = 5018\n",
      "mg_bot = 5268\n",
      "mg_side = 5242\n",
      "fe_bot = 5053\n",
      "fe_side = 5050"
     ],
     "language": "python",
     "metadata": {},
     "outputs": [],
     "prompt_number": 14
    },
    {
     "cell_type": "code",
     "collapsed": false,
     "input": [
      "flux_cont = [load_pixel(cont, temp, 4.0, 0.0) for temp in temps]\n",
      "flux_mg_bot = [load_pixel(mg_bot, temp, 4.0, 0.0) for temp in temps]\n",
      "flux_mg_side = [load_pixel(mg_side, temp, 4.0, 0.0) for temp in temps]\n",
      "flux_fe_bot = [load_pixel(fe_bot, temp, 4.0, 0.0) for temp in temps]\n",
      "flux_fe_side = [load_pixel(fe_side, temp, 4.0, 0.0) for temp in temps]"
     ],
     "language": "python",
     "metadata": {},
     "outputs": [],
     "prompt_number": 9
    },
    {
     "cell_type": "code",
     "collapsed": false,
     "input": [
      "fig = plt.figure(figsize=(6,6))\n",
      "ax = fig.add_subplot(111)\n",
      "ax.plot(temps, flux_cont, label=\"continuum\")\n",
      "ax.plot(temps, flux_cont, \"ko\")\n",
      "ax.plot(temps, flux_mg_bot, label=\"Mg bottom\")\n",
      "ax.plot(temps, flux_mg_bot, \"ko\")\n",
      "ax.plot(temps, flux_mg_side, label=\"Mg side\")\n",
      "ax.plot(temps, flux_mg_side, \"ko\")\n",
      "ax.plot(temps, flux_fe_bot, label=\"Fe bottom\")\n",
      "ax.plot(temps, flux_fe_bot, \"ko\")\n",
      "ax.plot(temps, flux_fe_side, label=\"Fe side\")\n",
      "ax.plot(temps, flux_fe_side, \"ko\")\n",
      "\n",
      "#try fitting a spline to fe_side\n",
      "myspline = IUS(temps, flux_fe_side)\n",
      "fine_temps = np.linspace(5000, 7000, num=300)\n",
      "fine_fe_side = myspline(fine_temps)\n",
      "ax.plot(fine_temps, fine_fe_side, \"k\", lw=0.5)\n",
      "\n",
      "\n",
      "ax.set_xlabel(r\"Temperature ($K$)\")\n",
      "ax.set_ylabel(r\"$\\propto f_\\lambda$\")\n",
      "ax.legend(loc=\"upper left\")\n",
      "fig.savefig(\"../plots/interpolation_temp.png\")\n",
      "plt.show()"
     ],
     "language": "python",
     "metadata": {},
     "outputs": [],
     "prompt_number": 11
    },
    {
     "cell_type": "markdown",
     "metadata": {},
     "source": [
      "# log g tests"
     ]
    },
    {
     "cell_type": "code",
     "collapsed": false,
     "input": [
      "loggs = np.arange(3.5, 5.6, 0.5)"
     ],
     "language": "python",
     "metadata": {},
     "outputs": [],
     "prompt_number": 62
    },
    {
     "cell_type": "code",
     "collapsed": false,
     "input": [
      "flux_cont = [load_pixel(cont, 6000, logg, 0.0) for logg in loggs]\n",
      "flux_mg_bot = [load_pixel(mg_bot, 6000, logg, 0.0) for logg in loggs]\n",
      "flux_mg_side = [load_pixel(mg_side, 6000, logg, 0.0) for logg in loggs]\n",
      "flux_fe_bot = [load_pixel(fe_bot, 6000, logg, 0.0) for logg in loggs]\n",
      "flux_fe_side = [load_pixel(fe_side, 6000, logg, 0.0) for logg in loggs]"
     ],
     "language": "python",
     "metadata": {},
     "outputs": [],
     "prompt_number": 63
    },
    {
     "cell_type": "code",
     "collapsed": false,
     "input": [
      "fig = plt.figure(figsize=(6,6))\n",
      "ax = fig.add_subplot(111)\n",
      "ax.plot(loggs, flux_cont, label=\"continuum\")\n",
      "ax.plot(loggs, flux_cont, \"ko\")\n",
      "ax.plot(loggs, flux_mg_bot, label=\"Mg bottom\")\n",
      "ax.plot(loggs, flux_mg_bot, \"ko\")\n",
      "ax.plot(loggs, flux_mg_side, label=\"Mg side\")\n",
      "ax.plot(loggs, flux_mg_side, \"ko\")\n",
      "ax.plot(loggs, flux_fe_bot, label=\"Fe bottom\")\n",
      "ax.plot(loggs, flux_fe_bot, \"ko\")\n",
      "ax.plot(loggs, flux_fe_side, label=\"Fe side\")\n",
      "ax.plot(loggs, flux_fe_side, \"ko\")\n",
      "\n",
      "ax.set_xlabel(r\"Temperature ($K$)\")\n",
      "ax.set_ylabel(r\"$\\propto f_\\lambda$\")\n",
      "ax.legend(loc=\"lower right\")\n",
      "plt.show()"
     ],
     "language": "python",
     "metadata": {},
     "outputs": [],
     "prompt_number": 66
    },
    {
     "cell_type": "markdown",
     "metadata": {},
     "source": [
      "# Metallicity tests"
     ]
    },
    {
     "cell_type": "code",
     "collapsed": false,
     "input": [
      "Zs = myInterface.points[\"Z\"]"
     ],
     "language": "python",
     "metadata": {},
     "outputs": [],
     "prompt_number": 16
    },
    {
     "cell_type": "code",
     "collapsed": false,
     "input": [
      "flux_cont = [load_pixel(cont, 6000, 4.0, Z) for Z in Zs]\n",
      "flux_mg_bot = [load_pixel(mg_bot, 6000, 4.0, Z) for Z in Zs]\n",
      "flux_mg_side = [load_pixel(mg_side, 6000, 4.0, Z) for Z in Zs]\n",
      "flux_fe_bot = [load_pixel(fe_bot, 6000, 4.0, Z) for Z in Zs]\n",
      "flux_fe_side = [load_pixel(fe_side, 6000, 4.0, Z) for Z in Zs]"
     ],
     "language": "python",
     "metadata": {},
     "outputs": [],
     "prompt_number": 21
    },
    {
     "cell_type": "code",
     "collapsed": false,
     "input": [
      "fig = plt.figure(figsize=(6,6))\n",
      "ax = fig.add_subplot(111)\n",
      "ax.plot(Zs, flux_cont, label=\"continuum\")\n",
      "ax.plot(Zs, flux_cont, \"ko\")\n",
      "ax.plot(Zs, flux_mg_bot, label=\"Mg bottom\")\n",
      "ax.plot(Zs, flux_mg_bot, \"ko\")\n",
      "ax.plot(Zs, flux_mg_side, label=\"Mg side\")\n",
      "ax.plot(Zs, flux_mg_side, \"ko\")\n",
      "ax.plot(Zs, flux_fe_bot, label=\"Fe bottom\")\n",
      "ax.plot(Zs, flux_fe_bot, \"ko\")\n",
      "ax.plot(Zs, flux_fe_side, label=\"Fe side\")\n",
      "ax.plot(Zs, flux_fe_side, \"ko\")\n",
      "\n",
      "ax.set_xlabel(r\"Metallicity\")\n",
      "ax.set_ylabel(r\"$\\propto f_\\lambda$\")\n",
      "ax.legend(loc=\"lower right\")\n",
      "plt.show()"
     ],
     "language": "python",
     "metadata": {},
     "outputs": [],
     "prompt_number": 23
    },
    {
     "cell_type": "code",
     "collapsed": false,
     "input": [
      "flux_fe_bot"
     ],
     "language": "python",
     "metadata": {},
     "outputs": [
      {
       "metadata": {},
       "output_type": "pyout",
       "prompt_number": 22,
       "text": [
        "[6378120.0, 5492418.5, 3951947.0]"
       ]
      }
     ],
     "prompt_number": 22
    },
    {
     "cell_type": "markdown",
     "metadata": {},
     "source": [
      "# Spline interpolation"
     ]
    },
    {
     "cell_type": "code",
     "collapsed": false,
     "input": [
      "from scipy.interpolate import RectBivariateSpline\n",
      "import matplotlib.pyplot as plt\n",
      "import numpy as np\n",
      "from scipy.interpolate import InterpolatedUnivariateSpline as IUS"
     ],
     "language": "python",
     "metadata": {},
     "outputs": [],
     "prompt_number": 13
    },
    {
     "cell_type": "code",
     "collapsed": false,
     "input": [
      "temps = myInterface.points[\"temp\"]\n",
      "print(temps)\n",
      "loggs = myInterface.points[\"logg\"]\n",
      "print(loggs)"
     ],
     "language": "python",
     "metadata": {},
     "outputs": [
      {
       "output_type": "stream",
       "stream": "stdout",
       "text": [
        "[5000 5100 5200 5300 5400 5500 5600 5700 5800 5900 6000 6100 6200 6300 6400\n",
        " 6500 6600 6700 6800 6900 7000]\n",
        "[ 3.5  4.   4.5  5.   5.5]\n"
       ]
      }
     ],
     "prompt_number": 23
    },
    {
     "cell_type": "code",
     "collapsed": false,
     "input": [
      "#This is the part that actually takes a while, loading all of the spectra. \n",
      "#If we could do it on a computer with a lot of memory, it might not\n",
      "#be so bad\n",
      "values = np.empty((temps.size, loggs.size))\n",
      "for i,temp in enumerate(temps):\n",
      "    for j, logg in enumerate(loggs):\n",
      "        values[i,j] = load_pixel(0, temp, logg, Z=0.0)"
     ],
     "language": "python",
     "metadata": {},
     "outputs": [],
     "prompt_number": 32
    },
    {
     "cell_type": "code",
     "collapsed": false,
     "input": [
      "def interpolate_pixel(index, mytemp, mylogg):\n",
      "    \n",
      "    #Create a 2D array of shape (temps.size, loggs.size) with the value of the flux at the pixel\n",
      "    #values = np.empty((temps.size, loggs.size))\n",
      "    \n",
      "    #for i,temp in enumerate(temps):\n",
      "    #    for j, logg in enumerate(loggs):\n",
      "    #        values[i,j] = load_pixel(index, temp, logg, Z=0.0)\n",
      "    \n",
      "    #create a bivariate spline over this grid\n",
      "    spl = RectBivariateSpline(temps, loggs, values)\n",
      "    \n",
      "    return spl(mytemp, mylogg)"
     ],
     "language": "python",
     "metadata": {},
     "outputs": [],
     "prompt_number": 25
    },
    {
     "cell_type": "code",
     "collapsed": false,
     "input": [
      "timeit value = interpolate_pixel(0, 6010, 3.8)"
     ],
     "language": "python",
     "metadata": {},
     "outputs": [
      {
       "output_type": "stream",
       "stream": "stdout",
       "text": [
        "1000 loops, best of 3: 787 \u00b5s per loop\n"
       ]
      }
     ],
     "prompt_number": 36
    },
    {
     "cell_type": "code",
     "collapsed": false,
     "input": [
      "print(value)"
     ],
     "language": "python",
     "metadata": {},
     "outputs": [
      {
       "output_type": "stream",
       "stream": "stdout",
       "text": [
        "[[ 6129205.16129755]]\n"
       ]
      }
     ],
     "prompt_number": 35
    },
    {
     "cell_type": "code",
     "collapsed": false,
     "input": [
      "plt.imshow(values,origin=\"upper\",interpolation=\"none\")\n",
      "plt.show()"
     ],
     "language": "python",
     "metadata": {},
     "outputs": [],
     "prompt_number": 12
    },
    {
     "cell_type": "code",
     "collapsed": false,
     "input": [],
     "language": "python",
     "metadata": {},
     "outputs": []
    }
   ],
   "metadata": {}
  }
 ]
}