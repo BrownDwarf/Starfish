{
 "metadata": {
  "name": "",
  "signature": "sha256:3f644b6ecb1db8ea2c544494cfcbc2a6334157e5ca9a78ced015f01937c56865"
 },
 "nbformat": 3,
 "nbformat_minor": 0,
 "worksheets": [
  {
   "cells": [
    {
     "cell_type": "code",
     "collapsed": false,
     "input": [
      "%matplotlib\n",
      "import matplotlib.pyplot as plt\n",
      "import numpy as np\n",
      "from IPython.html import widgets # Widget definitions\n",
      "from IPython.display import display, clear_output, HTML # Used to display widgets in the notebook\n",
      "from IPython.html.widgets import interact, interactive, fixed"
     ],
     "language": "python",
     "metadata": {},
     "outputs": [
      {
       "output_type": "stream",
       "stream": "stdout",
       "text": [
        "Using matplotlib backend: Qt4Agg\n"
       ]
      }
     ],
     "prompt_number": 1
    },
    {
     "cell_type": "code",
     "collapsed": false,
     "input": [
      "from StellarSpectra.spectrum import ChebyshevSpectrum, DataSpectrum\n",
      "from numpy.polynomial.chebyshev import Chebyshev\n",
      "myDataSpectrum = DataSpectrum.open(\"../data/Gl51/Gl51.hdf5\")"
     ],
     "language": "python",
     "metadata": {},
     "outputs": [],
     "prompt_number": 2
    },
    {
     "cell_type": "code",
     "collapsed": false,
     "input": [
      "myChebyshevSpectrum = ChebyshevSpectrum(myDataSpectrum, index=0, npoly=9)"
     ],
     "language": "python",
     "metadata": {},
     "outputs": [
      {
       "output_type": "stream",
       "stream": "stdout",
       "text": [
        "[array([-1.        , -0.99954914, -0.99909829, ...,  0.99909829,\n",
        "        0.99954914,  1.        ]), array([ 1.        ,  0.99819698,  0.99639477, ...,  0.99639477,\n",
        "        0.99819698,  1.        ]), array([-1.        , -0.99594473, -0.99189433, ...,  0.99189433,\n",
        "        0.99594473,  1.        ]), array([ 1.        ,  0.99279442,  0.98560509, ...,  0.98560509,\n",
        "        0.99279442,  1.        ]), array([-1.        , -0.9887489 , -0.97753837, ...,  0.97753837,\n",
        "        0.9887489 ,  1.        ]), array([ 1.        ,  0.98381181,  0.96770874, ...,  0.96770874,\n",
        "        0.98381181,  1.        ]), array([-1.        , -0.9779876 , -0.95613392, ...,  0.95613392,\n",
        "        0.9779876 ,  1.        ]), array([ 1.        ,  0.97128153,  0.94283478, ...,  0.94283478,\n",
        "        0.97128153,  1.        ])]\n"
       ]
      },
      {
       "ename": "SystemExit",
       "evalue": "",
       "output_type": "pyerr",
       "traceback": [
        "An exception has occurred, use %tb to see the full traceback.\n",
        "\u001b[1;31mSystemExit\u001b[0m\n"
       ]
      },
      {
       "output_type": "stream",
       "stream": "stderr",
       "text": [
        "To exit: use 'exit', 'quit', or Ctrl-D.\n"
       ]
      }
     ],
     "prompt_number": 3
    },
    {
     "cell_type": "code",
     "collapsed": true,
     "input": [
      "myCheb = Chebyshev([1, 1, 1, 1, 1, 1, 1])\n",
      "print(myCheb.coef)\n"
     ],
     "language": "python",
     "metadata": {},
     "outputs": [
      {
       "output_type": "stream",
       "stream": "stdout",
       "text": [
        "[ 1.  1.  1.  1.  1.  1.  1.]\n"
       ]
      }
     ],
     "prompt_number": 7
    },
    {
     "cell_type": "code",
     "collapsed": false,
     "input": [
      "myCheb.coef = np.array([1, 3., 4.])"
     ],
     "language": "python",
     "metadata": {},
     "outputs": [],
     "prompt_number": 8
    },
    {
     "cell_type": "code",
     "collapsed": false,
     "input": [
      "myCheb.basis"
     ],
     "language": "python",
     "metadata": {},
     "outputs": [
      {
       "metadata": {},
       "output_type": "pyout",
       "prompt_number": 16,
       "text": [
        "<function numpy.polynomial.chebyshev.basis>"
       ]
      }
     ],
     "prompt_number": 16
    },
    {
     "cell_type": "code",
     "collapsed": false,
     "input": [
      "plt.plot(myCheb(np.linspace(-1, 1)))\n",
      "plt.show()"
     ],
     "language": "python",
     "metadata": {},
     "outputs": [],
     "prompt_number": 10
    },
    {
     "cell_type": "code",
     "collapsed": false,
     "input": [
      "Chebyshev.basis(3)"
     ],
     "language": "python",
     "metadata": {},
     "outputs": [
      {
       "metadata": {},
       "output_type": "pyout",
       "prompt_number": 13,
       "text": [
        "Chebyshev([ 0.,  0.,  0.,  1.], [-1.,  1.], [-1.,  1.])"
       ]
      }
     ],
     "prompt_number": 13
    },
    {
     "cell_type": "code",
     "collapsed": false,
     "input": [
      "(3,) + (4,)"
     ],
     "language": "python",
     "metadata": {},
     "outputs": [
      {
       "metadata": {},
       "output_type": "pyout",
       "prompt_number": 17,
       "text": [
        "(3, 4)"
       ]
      }
     ],
     "prompt_number": 17
    },
    {
     "cell_type": "code",
     "collapsed": false,
     "input": [],
     "language": "python",
     "metadata": {},
     "outputs": []
    }
   ],
   "metadata": {}
  }
 ]
}