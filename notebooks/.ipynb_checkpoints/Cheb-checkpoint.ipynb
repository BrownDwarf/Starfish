{
 "metadata": {
  "name": "",
  "signature": "sha256:3da0a67d1cb101bca93b7cb6e7ae7eb7284fece69b1f4db4ee1a803f3c7d4f31"
 },
 "nbformat": 3,
 "nbformat_minor": 0,
 "worksheets": [
  {
   "cells": [
    {
     "cell_type": "markdown",
     "metadata": {},
     "source": [
      "I envision this figure much like the previous one, in a 1-column vertical distribution of \n",
      " panels.  At top, you would show the data spectrum at an overlap of two spectral orders, along \n",
      " with the post-processed model with no Chebyshev polynomials applied.  Next, you would show the \n",
      " two Chebyshev polynomials appropriate for the two orders.  And then in the final panel you would \n",
      " revisit the top panel with the polynomials applied, demonstrating the improvement."
     ]
    },
    {
     "cell_type": "code",
     "collapsed": false,
     "input": [
      "import matplotlib\n",
      "import matplotlib.pyplot as plt\n",
      "from matplotlib.ticker import FormatStrFormatter as FSF\n",
      "from matplotlib.ticker import MultipleLocator\n",
      "import numpy as np\n",
      "\n",
      "from StellarSpectra.spectrum import DataSpectrum"
     ],
     "language": "python",
     "metadata": {},
     "outputs": [],
     "prompt_number": 40
    },
    {
     "cell_type": "code",
     "collapsed": false,
     "input": [
      "myDataSpectrum = DataSpectrum.open(\"../../data/WASP14/WASP14-2009-06-14.hdf5\", orders=[22,23])\n",
      "wls = myDataSpectrum.wls\n",
      "fls = myDataSpectrum.fls"
     ],
     "language": "python",
     "metadata": {},
     "outputs": [],
     "prompt_number": 3
    },
    {
     "cell_type": "code",
     "collapsed": false,
     "input": [
      "plt.plot(wls[0], fls[0])\n",
      "plt.plot(wls[1], fls[1])\n",
      "plt.show()"
     ],
     "language": "python",
     "metadata": {},
     "outputs": [],
     "prompt_number": 4
    },
    {
     "cell_type": "code",
     "collapsed": false,
     "input": [
      "from StellarSpectra.model import Model\n",
      "from StellarSpectra.spectrum import DataSpectrum\n",
      "from StellarSpectra.grid_tools import TRES, HDF5Interface\n",
      "\n",
      "\n",
      "myInstrument = TRES()\n",
      "myHDF5Interface = HDF5Interface(\"../../libraries/PHOENIX_TRES_F.hdf5\")\n",
      "\n",
      "myModel = Model.from_json(\"WASP14_model_final.json\", myDataSpectrum, myInstrument, myHDF5Interface)"
     ],
     "language": "python",
     "metadata": {},
     "outputs": [
      {
       "output_type": "stream",
       "stream": "stdout",
       "text": [
        "Determine Chunk Log: Wl is 16384\n",
        "Creating OrderModel 0\n",
        "Creating OrderModel 1\n",
        "params are "
       ]
      },
      {
       "output_type": "stream",
       "stream": "stdout",
       "text": [
        " {'c3': 0.0005107342605481593, 'c1': -0.009583093653685693, 'logc0': -0.013769369781552732, 'c2': -0.019550448699885134}\n",
        "params are  {'c3': 0.003066670918689978, 'c1': 0.002592650013904527, 'logc0': 0.0, 'c2': 0.02144585024538215}\n"
       ]
      }
     ],
     "prompt_number": 23
    },
    {
     "cell_type": "code",
     "collapsed": false,
     "input": [
      "model22 = myModel.OrderModels[0]\n",
      "model23 = myModel.OrderModels[1]"
     ],
     "language": "python",
     "metadata": {},
     "outputs": [
      {
       "output_type": "stream",
       "stream": "stdout",
       "text": [
        "Deallocating Covariance Matrix\n",
        "Deallocating GlobalCovarianceMatrix\n",
        "Deallocating Common\n",
        "Deallocating Covariance Matrix\n",
        "Deallocating GlobalCovarianceMatrix\n",
        "Deallocating Common\n"
       ]
      }
     ],
     "prompt_number": 24
    },
    {
     "cell_type": "code",
     "collapsed": false,
     "input": [
      "cheb22 = model22.get_Cheb()\n",
      "cheb23 = model23.get_Cheb()"
     ],
     "language": "python",
     "metadata": {},
     "outputs": [],
     "prompt_number": 25
    },
    {
     "cell_type": "code",
     "collapsed": false,
     "input": [
      "fl22 = model22.get_spectrum()\n",
      "fl23 = model23.get_spectrum()"
     ],
     "language": "python",
     "metadata": {},
     "outputs": [],
     "prompt_number": 26
    },
    {
     "cell_type": "code",
     "collapsed": false,
     "input": [
      "fl22n = fl22/cheb22\n",
      "fl23n = fl23/cheb23"
     ],
     "language": "python",
     "metadata": {},
     "outputs": [],
     "prompt_number": 27
    },
    {
     "cell_type": "code",
     "collapsed": false,
     "input": [
      "plt.plot(wls[0], cheb22)\n",
      "plt.plot(wls[1], cheb23)\n",
      "plt.show()"
     ],
     "language": "python",
     "metadata": {},
     "outputs": [],
     "prompt_number": 9
    },
    {
     "cell_type": "code",
     "collapsed": false,
     "input": [
      "plt.plot(wls[0], fls[0]/cheb22)\n",
      "plt.plot(wls[1], fls[1]/cheb23)\n",
      "plt.show()"
     ],
     "language": "python",
     "metadata": {},
     "outputs": [],
     "prompt_number": 11
    },
    {
     "cell_type": "markdown",
     "metadata": {},
     "source": [
      "Get a model spectrum with cheb set to 0.0, or just divide by the cheb spectrum"
     ]
    },
    {
     "cell_type": "code",
     "collapsed": false,
     "input": [
      "fig, ax = plt.subplots(nrows=3, figsize=(3.5, 6), sharex=True)\n",
      "\n",
      "ax[0].plot(wls[0], fl22n, \"r\", lw=0.5)\n",
      "ax[0].plot(wls[1], fl23n, \"r\", lw=0.5)\n",
      "\n",
      "ax[0].plot(wls[0], fls[0], \"b\")\n",
      "ax[0].plot(wls[1], fls[1], \"g\")\n",
      "ax[0].set_ylabel(\"$\\propto f_\\lambda$\")\n",
      "\n",
      "ax[1].plot(wls[0], cheb22, \"b\")\n",
      "ax[1].plot(wls[1], cheb23, \"g\")\n",
      "ax[1].set_ylabel(\"Chebyshev\")\n",
      "\n",
      "ax[2].plot(wls[0], fl22, \"b\")\n",
      "ax[2].plot(wls[1], fl23, \"g\")\n",
      "ax[2].set_xlim(5210, 5240)\n",
      "\n",
      "ax[2].xaxis.set_major_formatter(FSF(\"%.0f\"))\n",
      "ax[2].xaxis.set_major_locator(MultipleLocator(8.))\n",
      "ax[2].set_xlabel(r\"$\\lambda$  (\\AA)\")\n",
      "\n",
      "ax[2].set_ylabel(\"$\\propto f_\\lambda$\")\n",
      "\n",
      "fig.subplots_adjust(left=0.2, top=0.94)\n",
      "fig.savefig(\"../../plots/chebyshev.png\")\n",
      "fig.savefig(\"../../plots/chebyshev.pdf\")\n",
      "fig.savefig(\"../../plots/chebyshev.svg\")\n",
      "\n",
      "plt.show()\n"
     ],
     "language": "python",
     "metadata": {},
     "outputs": [],
     "prompt_number": 47
    },
    {
     "cell_type": "code",
     "collapsed": false,
     "input": [],
     "language": "python",
     "metadata": {},
     "outputs": []
    }
   ],
   "metadata": {}
  }
 ]
}