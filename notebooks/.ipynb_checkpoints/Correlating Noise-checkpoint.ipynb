{
 "metadata": {
  "name": "",
  "signature": "sha256:25ddda7c01e2699d970e82d5ff817dbc39f202e98e4594820da2829dda85731b"
 },
 "nbformat": 3,
 "nbformat_minor": 0,
 "worksheets": [
  {
   "cells": [
    {
     "cell_type": "markdown",
     "metadata": {},
     "source": [
      "#Does the LSF correlate the noise?\n",
      "\n",
      "1. generate random, uncorrelated Gaussian noise\n",
      "2. convolve with a kernel\n",
      "\n",
      "Is the result correlated or not?"
     ]
    },
    {
     "cell_type": "code",
     "collapsed": false,
     "input": [
      "%matplotlib\n",
      "import matplotlib.pyplot as plt\n",
      "import numpy as np\n",
      "from scipy.ndimage.filters import convolve"
     ],
     "language": "python",
     "metadata": {},
     "outputs": [
      {
       "output_type": "stream",
       "stream": "stdout",
       "text": [
        "Using matplotlib backend: Qt4Agg\n"
       ]
      }
     ],
     "prompt_number": 1
    },
    {
     "cell_type": "code",
     "collapsed": false,
     "input": [
      "def karray(center, width, res):\n",
      "    '''Creates a kernel array with an odd number of elements, the central element centered at `center` and spanning\n",
      "    out to +/- width in steps of resolution. Works similar to arange in that it may or may not get all the way to the\n",
      "    edge.'''\n",
      "    neg = np.arange(center - res, center - width, -res)[::-1]\n",
      "    pos = np.arange(center, center + width, res)\n",
      "    kar = np.concatenate([neg, pos])\n",
      "    return kar\n",
      "\n",
      "#TRES Instrument Broadening\n",
      "def gauss_kernel(xx, dx, sigma):\n",
      "    return np.exp(- xx** 2 / (2. * sigma ** 2))\n",
      "\n",
      "def gauss_series(dx, sigma):\n",
      "    '''sampled from +/- 3sigma at dx'''\n",
      "    xx = karray(0., 6 * sigma, dx) # Gaussian kernel stretching +/- 6 sigma in steps of dx\n",
      "    gk = gauss_kernel(xx, dx, sigma)\n",
      "    return gk / np.sum(gk) #normalize to 1"
     ],
     "language": "python",
     "metadata": {},
     "outputs": [],
     "prompt_number": 30
    },
    {
     "cell_type": "code",
     "collapsed": false,
     "input": [
      "xs = np.linspace(0, np.pi * 10, num=200)\n",
      "ys = 3 + np.random.normal(size=200)\n",
      "dx = xs[1] - xs[0]"
     ],
     "language": "python",
     "metadata": {},
     "outputs": [],
     "prompt_number": 86
    },
    {
     "cell_type": "code",
     "collapsed": false,
     "input": [
      "#convolve with filter to resolution of TRES\n",
      "filt = gauss_series(dx, 0.2)\n",
      "ys_con = convolve(ys, filt)"
     ],
     "language": "python",
     "metadata": {},
     "outputs": [],
     "prompt_number": 91
    },
    {
     "cell_type": "code",
     "collapsed": false,
     "input": [
      "fig, ax = plt.subplots(nrows=2, figsize=(7,6), sharex=True)\n",
      "ax[0].plot(xs, 3 * np.ones_like(xs), \"k\", label=\"true\")\n",
      "ax[0].plot(xs, ys, \"b\", drawstyle=\"steps-mid\", label=\"uncorrelated\")\n",
      "ax[0].plot(xs, ys_con, \"r\", drawstyle=\"steps-mid\", label=\"convolved\")\n",
      "ax[0].set_ylabel(r\"$y$\")\n",
      "ax[0].legend()\n",
      "ax[0].set_ylim(0, 8)\n",
      "ax[1].plot(xs, ys_con - 3., \"r\", drawstyle=\"steps-mid\", label=\"convolved\")\n",
      "ax[1].legend(loc=\"lower left\")\n",
      "ax[1].set_title(\"zoomed residuals\")\n",
      "ax[-1].set_xlim(np.min(xs), np.max(xs))\n",
      "ax[-1].set_xlabel(r\"$x$\")\n",
      "ax[-1].set_ylabel(r\"$y$\")\n",
      "fig.subplots_adjust(hspace=0.24)\n",
      "fig.savefig(\"../plots/correlated_noise.png\")\n",
      "fig.savefig(\"../plots/correlated_noise.eps\")\n",
      "plt.show()"
     ],
     "language": "python",
     "metadata": {},
     "outputs": [],
     "prompt_number": 92
    },
    {
     "cell_type": "code",
     "collapsed": false,
     "input": [],
     "language": "python",
     "metadata": {},
     "outputs": []
    }
   ],
   "metadata": {}
  }
 ]
}