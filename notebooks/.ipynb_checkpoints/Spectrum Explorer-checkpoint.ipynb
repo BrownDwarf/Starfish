{
 "metadata": {
  "name": "",
  "signature": "sha256:c184599d14adeb02dbbfcb987906becb79f3bd19c8e685c585fd46d3d467e1c7"
 },
 "nbformat": 3,
 "nbformat_minor": 0,
 "worksheets": [
  {
   "cells": [
    {
     "cell_type": "markdown",
     "metadata": {},
     "source": [
      "#Spectrum Explorer\n",
      "\n",
      "Designed to visualize and explore fits to the data"
     ]
    },
    {
     "cell_type": "code",
     "collapsed": false,
     "input": [
      "%matplotlib\n",
      "import matplotlib.pyplot as plt\n",
      "import numpy as np\n",
      "from IPython.html import widgets # Widget definitions\n",
      "from IPython.display import display, clear_output, HTML # Used to display widgets in the notebook\n",
      "from IPython.html.widgets import interact, interactive, fixed"
     ],
     "language": "python",
     "metadata": {},
     "outputs": [
      {
       "output_type": "stream",
       "stream": "stdout",
       "text": [
        "Using matplotlib backend: Qt4Agg\n"
       ]
      }
     ],
     "prompt_number": 1
    },
    {
     "cell_type": "code",
     "collapsed": false,
     "input": [
      "from StellarSpectra.model import Model\n",
      "from StellarSpectra.spectrum import DataSpectrum\n",
      "from StellarSpectra.grid_tools import TRES, SPEX, HDF5Interface\n",
      "import scipy.sparse as sp\n",
      "import numpy as np\n",
      "\n",
      "myDataSpectrum = DataSpectrum.open(\"../data/WASP14/WASP14-2010-03-29.hdf5\", orders=np.array([22]))\n",
      "#mask = np.load(\"WASP14_24.mask.npy\")\n",
      "#myDataSpectrum.add_mask(np.atleast_2d(mask))\n",
      "#myDataSpectrum = DataSpectrum.open(\"../data/LkCa15/LkCa15-2013-10-12.hdf5\", orders=np.array([32]))\n",
      "# myDataSpectrum = DataSpectrum.open(\"../data/Gl51/Gl51.hdf5\")\n",
      "\n",
      "myInstrument = TRES()\n",
      "# myInstrument = SPEX()\n",
      "\n",
      "#myHDF5Interface = HDF5Interface(\"../libraries/PHOENIX_TRES_F.hdf5\")\n",
      "myHDF5Interface = HDF5Interface(\"../libraries/Kurucz_TRES.hdf5\")\n",
      "#myHDF5Interface = HDF5Interface(\"../libraries/Kurucz_master.hdf5\")"
     ],
     "language": "python",
     "metadata": {},
     "outputs": [],
     "prompt_number": 10
    },
    {
     "cell_type": "code",
     "collapsed": false,
     "input": [
      "#Load a model using the JSON file\n",
      "myModel = Model.from_json(\"WASP14_22_model_final_region.json\", myDataSpectrum, myInstrument, myHDF5Interface)\n",
      "myModel.evaluate()"
     ],
     "language": "python",
     "metadata": {},
     "outputs": [
      {
       "output_type": "stream",
       "stream": "stdout",
       "text": [
        "Determine Chunk Log: Wl is 4096\n",
        "Creating OrderModel 0\n",
        "creating region "
       ]
      },
      {
       "output_type": "stream",
       "stream": "stderr",
       "text": [
        "INFO:RegionCovarianceMatrix 5188.770929306509:Created region\n"
       ]
      },
      {
       "output_type": "stream",
       "stream": "stderr",
       "text": [
        "INFO:CovarianceMatrix:Added region 0 to self.RegionList\n"
       ]
      },
      {
       "output_type": "stream",
       "stream": "stderr",
       "text": [
        "INFO:RegionCovarianceMatrix 5151.8534158849325:Created region\n"
       ]
      },
      {
       "output_type": "stream",
       "stream": "stderr",
       "text": [
        "INFO:CovarianceMatrix:Added region 1 to self.RegionList\n"
       ]
      },
      {
       "output_type": "stream",
       "stream": "stdout",
       "text": [
        " 0 0 {'mu': 5188.770929306509, 'sigma': 5.161308092494482, 'loga': -12.076165336887787}\n",
        "creating region  1 1 {'mu': 5151.8534158849325, 'sigma': 4.809287151430395, 'loga': -12.78120822355448}\n",
        "creating region "
       ]
      },
      {
       "output_type": "stream",
       "stream": "stderr",
       "text": [
        "INFO:RegionCovarianceMatrix 5142.815880890552:Created region\n"
       ]
      },
      {
       "output_type": "stream",
       "stream": "stderr",
       "text": [
        "INFO:CovarianceMatrix:Added region 2 to self.RegionList\n"
       ]
      },
      {
       "output_type": "stream",
       "stream": "stderr",
       "text": [
        "INFO:RegionCovarianceMatrix 5201.686815355184:Created region\n"
       ]
      },
      {
       "output_type": "stream",
       "stream": "stderr",
       "text": [
        "INFO:CovarianceMatrix:Added region 3 to self.RegionList\n"
       ]
      },
      {
       "output_type": "stream",
       "stream": "stdout",
       "text": [
        " 2 2 {'mu': 5142.815880890552, 'sigma': 7.433720494996769, 'loga': -12.526338163621313}\n",
        "creating region  3 3 {'mu': 5201.686815355184, 'sigma': 9.560940730866921, 'loga': -57.064715539113124}\n",
        "creating region "
       ]
      },
      {
       "output_type": "stream",
       "stream": "stderr",
       "text": [
        "INFO:RegionCovarianceMatrix 5150.756876675764:Created region\n"
       ]
      },
      {
       "output_type": "stream",
       "stream": "stderr",
       "text": [
        "INFO:CovarianceMatrix:Added region 4 to self.RegionList\n"
       ]
      },
      {
       "output_type": "stream",
       "stream": "stderr",
       "text": [
        "INFO:RegionCovarianceMatrix 5169.085875719616:Created region\n"
       ]
      },
      {
       "output_type": "stream",
       "stream": "stderr",
       "text": [
        "INFO:CovarianceMatrix:Added region 5 to self.RegionList\n"
       ]
      },
      {
       "output_type": "stream",
       "stream": "stdout",
       "text": [
        " 4 4 {'mu': 5150.756876675764, 'sigma': 7.17815124402818, 'loga': -12.305001160847057}\n",
        "creating region  5 5 {'mu': 5169.085875719616, 'sigma': 6.878226981503173, 'loga': -12.438745669164504}\n",
        "creating region "
       ]
      },
      {
       "output_type": "stream",
       "stream": "stderr",
       "text": [
        "INFO:RegionCovarianceMatrix 5198.620012768345:Created region\n"
       ]
      },
      {
       "output_type": "stream",
       "stream": "stderr",
       "text": [
        "INFO:CovarianceMatrix:Added region 6 to self.RegionList\n"
       ]
      },
      {
       "output_type": "stream",
       "stream": "stderr",
       "text": [
        "INFO:RegionCovarianceMatrix 5178.849915297965:Created region\n"
       ]
      },
      {
       "output_type": "stream",
       "stream": "stderr",
       "text": [
        "INFO:CovarianceMatrix:Added region 7 to self.RegionList\n"
       ]
      },
      {
       "output_type": "stream",
       "stream": "stdout",
       "text": [
        " 6 6 {'mu': 5198.620012768345, 'sigma': 6.1537481296828425, 'loga': -12.927756678556008}\n",
        "creating region  7 7 {'mu': 5178.849915297965, 'sigma': 1.5886138084364085, 'loga': -52.89854288142054}\n"
       ]
      },
      {
       "metadata": {},
       "output_type": "pyout",
       "prompt_number": 11,
       "text": [
        "19000.244571759915"
       ]
      }
     ],
     "prompt_number": 11
    },
    {
     "cell_type": "code",
     "collapsed": false,
     "input": [
      "#Or, instantiate and tweak parameters\n",
      "myModel = Model(myDataSpectrum, myInstrument, myHDF5Interface, stellar_tuple=(\"temp\", \"logg\", \"Z\", \"vsini\", \"vz\", \"logOmega\"), \n",
      "                cheb_tuple=(\"logc0\",\"c1\", \"c2\", \"c3\"), cov_tuple=(\"sigAmp\", \"logAmp\", \"l\"), region_tuple=(\"loga\", \"mu\", \"sigma\"))"
     ],
     "language": "python",
     "metadata": {},
     "outputs": [
      {
       "output_type": "stream",
       "stream": "stdout",
       "text": [
        "Determine Chunk Log: Wl is 8192\n",
        "Creating OrderModel 0\n"
       ]
      }
     ],
     "prompt_number": 3
    },
    {
     "cell_type": "code",
     "collapsed": false,
     "input": [
      "#myOrderModel.update_Cov({\"sigAmp\": 1, \"logAmp\":-14 , \"l\":10.})\n",
      "#First pass at actually plotting the model\n",
      "params = {\"temp\":6000, \"logg\":4.0, \"Z\":-0.3, \"vsini\":4, \"vz\":-5, \"logOmega\":-19.6}\n",
      "# params = {\"temp\":6315, \"logg\":3.92, \"Z\":-0.3, \"vsini\":4, \"vz\":-5, \"logOmega\":-12.72}\n",
      "#params = {\"temp\":4500, \"logg\":4.0, \"Z\":-0.1, \"vsini\":10, \"vz\":15, \"logOmega\":-19.}\n",
      "# params = {\"temp\":3000, \"logg\":4.0, \"Z\":-0.1, \"vsini\":10, \"vz\":0, \"logOmega\":-19.}\n",
      "myModel.update_Model(params)\n",
      "\n",
      "#myOrderModel.update_Cheb({\"c1\":0.0, \"c2\":0.0, \"c3\":0.0})\n",
      "\n",
      "#cov = myModel.OrderModels[0].get_Cov()"
     ],
     "language": "python",
     "metadata": {},
     "outputs": [],
     "prompt_number": 4
    },
    {
     "cell_type": "code",
     "collapsed": false,
     "input": [
      "myOrderModel = myModel.OrderModels[0]\n",
      "model_flux = myOrderModel.get_spectrum()"
     ],
     "language": "python",
     "metadata": {},
     "outputs": [
      {
       "output_type": "stream",
       "stream": "stdout",
       "text": [
        "Deallocating Covariance Matrix\n",
        "Deallocating GlobalCovarianceMatrix\n",
        "Deallocating RegionCovarianceMatrix\n",
        "Deallocating RegionCovarianceMatrix\n",
        "Deallocating RegionCovarianceMatrix\n",
        "Deallocating RegionCovarianceMatrix\n",
        "Deallocating RegionCovarianceMatrix\n",
        "Deallocating RegionCovarianceMatrix\n",
        "Deallocating RegionCovarianceMatrix\n",
        "Deallocating RegionCovarianceMatrix\n",
        "Deallocating Common\n"
       ]
      }
     ],
     "prompt_number": 12
    },
    {
     "cell_type": "code",
     "collapsed": false,
     "input": [
      "spec = myModel.get_data()\n",
      "wl = spec.wls[0]\n",
      "fl = spec.fls[0]\n",
      "mask = spec.masks[0]\n",
      "\n",
      "fig, ax = plt.subplots(nrows=2, figsize=(11,8), sharex=True)\n",
      "ax[0].plot(wl, fl, \"b\")\n",
      "l_model, = ax[0].plot(wl, model_flux, \"r\")\n",
      "ax[0].set_ylabel(\"Data and Model\")\n",
      "l_resid, = ax[1].plot(wl, fl - model_flux, \"b\")\n",
      "ax[1].set_xlabel(r\"$\\lambda$\\AA\")\n",
      "ax[1].set_ylabel(\"Residuals\")\n",
      "\n",
      "good = [5142.8, 5150.7, 5151.8, 5169.1, 5170.7, 5172.3, 5183.2, 5183.8, 5184.2, 5187.8, 5188.8, 5197.4, 5198.6, 5217.7, 5235.3]\n",
      "bad = [5145., 5167.0, 5171.5, 5178.7, 5194.9, 5202.3, 5226.5, 5232.5, 5234.6]\n",
      "\n",
      "#Plot the axvline on the lines\n",
      "for line in good:\n",
      "    ax[1].axvline(line, color=\"0.5\")\n",
      "    \n",
      "for line in bad:\n",
      "    ax[1].axvline(line, color=\"r\")\n",
      "\n",
      "\n",
      "\n",
      "cov = myModel.OrderModels[0].get_Cov().todense()\n",
      "\n",
      "fig2 = plt.figure()\n",
      "ax2 = fig2.add_subplot(111)\n",
      "im = ax2.imshow(cov, origin='upper', interpolation='none')\n",
      "\n",
      "plt.show()"
     ],
     "language": "python",
     "metadata": {},
     "outputs": [],
     "prompt_number": 13
    },
    {
     "cell_type": "code",
     "collapsed": false,
     "input": [
      "def update_model_plot(**kwargs):\n",
      "    '''Take the kwargs, update the model and residuals'''\n",
      "    \n",
      "    #Update the model spectrum\n",
      "    myModel.update_Model(kwargs)\n",
      "    model_flux = myOrderModel.get_spectrum()\n",
      "    l_model.set_ydata(model_flux)\n",
      "    \n",
      "    #Update the residuals\n",
      "    residuals = fl - model_flux\n",
      "    l_resid.set_ydata(residuals)\n",
      "    \n",
      "    #Find ymax and ymin and rescale\n",
      "    ax[0].set_ylim(np.min([fl, model_flux]), np.max([fl, model_flux]))\n",
      "    ax[1].set_ylim(np.min(fl - model_flux), np.max(fl - model_flux))\n",
      "    \n",
      "    #Redraw the plot\n",
      "    fig.canvas.draw_idle()\n",
      "    \n",
      "    #Calculate and print the lnprob\n",
      "    print(myOrderModel.evaluate())\n",
      "    "
     ],
     "language": "python",
     "metadata": {},
     "outputs": [],
     "prompt_number": 14
    },
    {
     "cell_type": "code",
     "collapsed": false,
     "input": [
      "np.save(\"WASPfl.npy\", myOrderModel.get_spectrum())\n",
      "np.save(\"WASP_resid.npy\", fl - model_flux)    "
     ],
     "language": "python",
     "metadata": {},
     "outputs": [],
     "prompt_number": 11
    },
    {
     "cell_type": "code",
     "collapsed": false,
     "input": [
      "def update_Cheb_plot(**kw):\n",
      "    '''Take the kwargs, update the model and residuals'''\n",
      "    \n",
      "    #Update the Chebyshev polynomial\n",
      "    myOrderModel.update_Cheb(kw)\n",
      "    \n",
      "    model_flux = myOrderModel.get_spectrum()\n",
      "    l_model.set_ydata(model_flux)\n",
      "    \n",
      "    #Update the residuals\n",
      "    l_resid.set_ydata(fl - model_flux)\n",
      "    \n",
      "    #Find ymax and ymin and rescale\n",
      "    ax[0].set_ylim(np.min([fl, model_flux]), np.max([fl, model_flux]))\n",
      "    ax[1].set_ylim(np.min(fl - model_flux), np.max(fl - model_flux))\n",
      "    \n",
      "    #Redraw the plot\n",
      "    fig.canvas.draw_idle()\n",
      "    \n",
      "    #Calculate and print the lnprob\n",
      "    #print(myModel.evaluate())\n",
      "    "
     ],
     "language": "python",
     "metadata": {},
     "outputs": [],
     "prompt_number": 8
    },
    {
     "cell_type": "code",
     "collapsed": false,
     "input": [
      "def update_Cov_plot(**kwargs):\n",
      "    '''Take the kwargs, update the model and residuals'''\n",
      "    \n",
      "    #Update the covariance matrix\n",
      "    myModel.OrderModels[0].update_Cov(kwargs)\n",
      "    cov = myModel.OrderModels[0].get_Cov().todense()\n",
      "    \n",
      "    \n",
      "    #Replot the covariance matrix\n",
      "    im.set_array(cov)\n",
      "    \n",
      "    #Redraw the plot\n",
      "    fig2.canvas.draw_idle()\n",
      "    \n",
      "    #Calculate and print the lnprob\n",
      "    print(myModel.evaluate())\n",
      "    "
     ],
     "language": "python",
     "metadata": {},
     "outputs": [],
     "prompt_number": 8
    },
    {
     "cell_type": "code",
     "collapsed": false,
     "input": [
      "i = interact(update_model_plot,\n",
      "         temp=(5500,6500, 10),\n",
      "         logg=(2.5,5.0, 0.1),\n",
      "         Z=(-1, 0.5, 0.1),\n",
      "         #alpha=(0.0, 0.4, 0.05),\n",
      "         vsini=(3, 8., 0.5),\n",
      "         vz=(-10,0, 0.1),\n",
      "         #Av=(0.0,1.0, 0.05),\n",
      "         logOmega=(-15.9,-11.5, 0.01),\n",
      "         #logOmega=(-20.4,-19.0, 0.01),\n",
      "         )"
     ],
     "language": "python",
     "metadata": {},
     "outputs": [
      {
       "output_type": "stream",
       "stream": "stdout",
       "text": [
        "74647.21412289877\n"
       ]
      }
     ],
     "prompt_number": 15
    },
    {
     "cell_type": "code",
     "collapsed": false,
     "input": [
      "i = interact(update_Cheb_plot,\n",
      "         c1=(-0.2, 0.2, 0.01),\n",
      "         c2=(-0.2, 0.2, 0.01),\n",
      "         c3=(-0.2, 0.2, 0.01),\n",
      "         )"
     ],
     "language": "python",
     "metadata": {},
     "outputs": [
      {
       "output_type": "stream",
       "stream": "stdout",
       "text": [
        "params are  {'c1': 0.11, 'c2': -0.2, 'c3': -6.938893903907228e-18}\n"
       ]
      }
     ],
     "prompt_number": 10
    },
    {
     "cell_type": "code",
     "collapsed": false,
     "input": [
      "i = interact(update_Cov_plot,\n",
      "         sigAmp=(.5,1.5, 0.1),\n",
      "         logAmp=(-15,-13, 0.2),\n",
      "         l=(1, 50, 1),\n",
      "         )"
     ],
     "language": "python",
     "metadata": {},
     "outputs": [
      {
       "output_type": "stream",
       "stream": "stdout",
       "text": [
        "74024.8847862\n"
       ]
      }
     ],
     "prompt_number": 14
    },
    {
     "cell_type": "markdown",
     "metadata": {},
     "source": [
      "Good starting guesses for WASP-14:\n",
      "temp: 6100\n",
      "logg: 4.0\n",
      "Z: -0.5\n",
      "vsini: 6\n",
      "vz: 13.7\n",
      "log_Omega: -19.7\n",
      "alpha: 0.2"
     ]
    }
   ],
   "metadata": {}
  }
 ]
}