{
 "metadata": {
  "name": "",
  "signature": "sha256:651581acec900195d12524db0d7ec2ffc826ab3b38f4e7a8578532b2c720d379"
 },
 "nbformat": 3,
 "nbformat_minor": 0,
 "worksheets": [
  {
   "cells": [
    {
     "cell_type": "markdown",
     "metadata": {},
     "source": [
      "It would be useful to have a spectrum explorer, but written in an IPython notebook. Matplotlib would not have to be \"in-line\", but there could also be more robust functionality besides just panning and zooming, like ``np.fsolve``, and buttons for ``compute chi2``. \n",
      "\n",
      "##Slider bars\n",
      "\n",
      "For each of the parameters, t\n",
      "\n",
      "* temp\n",
      "* logg\n",
      "* Z\n",
      "* alpha\n",
      "* vsini\n",
      "* vz\n",
      "* Av\n",
      "* FF\n",
      "\n",
      "How do we choose a reasonable range of slider values? Can this instead be just a flipper? Maybe there can be toggle button widgets which set the ranges of the sliders? Or maybe we can just regenerate the sliders using some more reasonable values.\n",
      "\n",
      "##Containers are useful to pull together many different widgets at once (Part 3)\n",
      "\n",
      "##Can also show other widgets based upon values of others\n",
      "\n",
      "For example, if  $Z >=0 $, then $[\\alpha/{\\rm Fe}] = 0$.\n",
      "\n",
      "##Styling\n",
      "\n",
      "Of these widgets is also possible, but in reality is not super important at the moment."
     ]
    },
    {
     "cell_type": "code",
     "collapsed": false,
     "input": [
      "%matplotlib\n",
      "import matplotlib.pyplot as plt\n",
      "import numpy as np\n",
      "from IPython.html import widgets # Widget definitions\n",
      "from IPython.display import display, clear_output, HTML # Used to display widgets in the notebook\n",
      "from IPython.html.widgets import interact, interactive, fixed"
     ],
     "language": "python",
     "metadata": {},
     "outputs": [
      {
       "output_type": "stream",
       "stream": "stdout",
       "text": [
        "Using matplotlib backend: Qt4Agg\n"
       ]
      }
     ],
     "prompt_number": 24
    },
    {
     "cell_type": "code",
     "collapsed": false,
     "input": [
      "from StellarSpectra.model import Model, SamplerStellarCheb\n",
      "from StellarSpectra.spectrum import DataSpectrum\n",
      "from StellarSpectra.grid_tools import TRES, HDF5Interface, InterpolationError\n",
      "import numpy as np\n",
      "\n",
      "myDataSpectrum = DataSpectrum.open(\"/home/ian/Grad/Research/Disks/StellarSpectra/tests/WASP14/WASP-14_2009-06-15_04h13m57s_cb.spec.flux\", orders=np.array([22]))\n",
      "myInstrument = TRES()\n",
      "myHDF5Interface = HDF5Interface(\"/home/ian/Grad/Research/Disks/StellarSpectra/libraries/PHOENIX_submaster.hdf5\")\n",
      "\n",
      "myModel = Model(myDataSpectrum, myInstrument, myHDF5Interface, (\"temp\", \"logg\", \"Z\", \"vsini\", \"vz\", \"Av\", \"log_Omega\"))"
     ],
     "language": "python",
     "metadata": {},
     "outputs": [],
     "prompt_number": 25
    },
    {
     "cell_type": "code",
     "collapsed": false,
     "input": [
      "print(myDataSpectrum.sigmas**2)"
     ],
     "language": "python",
     "metadata": {},
     "outputs": [
      {
       "output_type": "stream",
       "stream": "stdout",
       "text": [
        "[[  1.72827083e-29   1.67459182e-29   1.77554203e-29 ...,   1.73267836e-29\n",
        "    1.80844427e-29   1.79873875e-29]]\n"
       ]
      }
     ],
     "prompt_number": 23
    },
    {
     "cell_type": "code",
     "collapsed": false,
     "input": [
      "params = {\"temp\":6200, \"logg\":4.0, \"Z\":-0.2, \"vsini\":10, \"vz\":15, \"log_Omega\":-22}\n",
      "myModel.update_Model(params)\n",
      "model_flux = myModel.get_spectrum()[0]\n",
      "print(model_flux)\n",
      "\n",
      "print(myModel.ModelSpectrum.grid_params)\n",
      "print(\"vz {}\".format(myModel.ModelSpectrum.vz))\n",
      "print(\"Av {}\".format(myModel.ModelSpectrum.Av))\n",
      "print(\"log_Omega {}\".format(myModel.ModelSpectrum.log_Omega))"
     ],
     "language": "python",
     "metadata": {},
     "outputs": [
      {
       "output_type": "stream",
       "stream": "stdout",
       "text": [
        "[  1.00861947e-15   1.00826123e-15   1.00870663e-15 ...,   9.82531261e-16\n",
        "   9.70787027e-16   9.44749188e-16]\n",
        "{'temp': 6200, 'Z': -0.2, 'logg': 4.0}\n",
        "vz 15\n",
        "Av 0\n",
        "log_Omega -22\n"
       ]
      }
     ],
     "prompt_number": 26
    },
    {
     "cell_type": "code",
     "collapsed": false,
     "input": [
      "#First pass at actually plotting the model\n",
      "params = {\"temp\":6200, \"logg\":4.0, \"Z\":-0.2, \"vsini\":10, \"vz\":15, \"log_Omega\":-20}\n",
      "myModel.update_Model(params)\n",
      "\n",
      "myModel.update_Cheb(np.array([1, 0, 0, 0]))\n",
      "model_flux = myModel.get_spectrum()[0]\n",
      "\n",
      "spec = myModel.get_data()\n",
      "wl = spec.wls[0]\n",
      "fl = spec.fls[0]\n",
      "\n",
      "fig, ax = plt.subplots(nrows=2, figsize=(11,8), sharex=True)\n",
      "ax[0].plot(wl, fl, \"b\")\n",
      "l_model, = ax[0].plot(wl, model_flux, \"r\")\n",
      "ax[0].set_ylabel(\"Data and Model\")\n",
      "l_resid, = ax[1].plot(wl, fl - model_flux, \"b\")\n",
      "ax[1].set_xlabel(r\"$\\lambda$\\AA\")\n",
      "ax[1].set_ylabel(\"Residuals\")\n",
      "\n",
      "cov = myModel.get_Cov()[0].todense()\n",
      "\n",
      "fig2 = plt.figure()\n",
      "ax2 = fig2.add_subplot(111)\n",
      "im = ax2.imshow(cov, origin='upper', interpolation='none')\n",
      "\n",
      "plt.show()"
     ],
     "language": "python",
     "metadata": {},
     "outputs": [],
     "prompt_number": 27
    },
    {
     "cell_type": "code",
     "collapsed": false,
     "input": [
      "def update_model_plot(**kwargs):\n",
      "    '''Take the kwargs, update the model and residuals'''\n",
      "    \n",
      "    #Update the model spectrum\n",
      "    myModel.update_Model(kwargs)\n",
      "    model_flux = myModel.get_spectrum()[0]\n",
      "    l_model.set_ydata(model_flux)\n",
      "    \n",
      "    #Update the residuals\n",
      "    l_resid.set_ydata(fl - model_flux)\n",
      "    \n",
      "    #Find ymax and ymin and rescale\n",
      "    ax[0].set_ylim(np.min([fl, model_flux]), np.max([fl, model_flux]))\n",
      "    ax[1].set_ylim(np.min(fl - model_flux), np.max(fl - model_flux))\n",
      "    \n",
      "    #Redraw the plot\n",
      "    fig.canvas.draw_idle()\n",
      "    \n",
      "    #Calculate and print the lnprob\n",
      "    print(myModel.evaluate())\n",
      "    "
     ],
     "language": "python",
     "metadata": {},
     "outputs": [],
     "prompt_number": 28
    },
    {
     "cell_type": "code",
     "collapsed": false,
     "input": [
      "def update_Cheb_plot(**kw):\n",
      "    '''Take the kwargs, update the model and residuals'''\n",
      "    \n",
      "    p = np.array([1.0, kw['c1'], kw['c2'], kw['c3']])\n",
      "    #Update the Chebyshev polynomial\n",
      "    myModel.update_Cheb(p)\n",
      "    \n",
      "    model_flux = myModel.get_spectrum()[0]\n",
      "    l_model.set_ydata(model_flux)\n",
      "    \n",
      "    #Update the residuals\n",
      "    l_resid.set_ydata(fl - model_flux)\n",
      "    \n",
      "    #Find ymax and ymin and rescale\n",
      "    ax[0].set_ylim(np.min([fl, model_flux]), np.max([fl, model_flux]))\n",
      "    ax[1].set_ylim(np.min(fl - model_flux), np.max(fl - model_flux))\n",
      "    \n",
      "    #Redraw the plot\n",
      "    fig.canvas.draw_idle()\n",
      "    \n",
      "    #Calculate and print the lnprob\n",
      "    print(myModel.evaluate())\n",
      "    "
     ],
     "language": "python",
     "metadata": {},
     "outputs": [],
     "prompt_number": 29
    },
    {
     "cell_type": "code",
     "collapsed": false,
     "input": [
      "def update_Cov_plot(**kwargs):\n",
      "    '''Take the kwargs, update the model and residuals'''\n",
      "    \n",
      "    #Update the covariance matrix\n",
      "    kwargs['amp'] = 10**kwargs['amp']\n",
      "    myModel.update_Cov(kwargs)\n",
      "    cov = myModel.get_Cov()[0].todense()\n",
      "    \n",
      "    #Replot the covariance matrix\n",
      "    im.set_array(cov)\n",
      "    \n",
      "    #Redraw the plot\n",
      "    fig2.canvas.draw_idle()\n",
      "    \n",
      "    #Calculate and print the lnprob\n",
      "    print(myModel.evaluate())\n",
      "    "
     ],
     "language": "python",
     "metadata": {},
     "outputs": [],
     "prompt_number": 36
    },
    {
     "cell_type": "code",
     "collapsed": false,
     "input": [
      "i = interact(update_model_plot,\n",
      "         temp=(6000,6400, 10),\n",
      "         logg=(3.6,5.0, 0.1),\n",
      "         Z=(-1.0, 0.0, 0.1),\n",
      "         #alpha=(0.0, 0.4, 0.05),\n",
      "         vsini=(3, 8., 0.5),\n",
      "         vz=(12,14, 0.1),\n",
      "         #Av=(0.0,1.0, 0.05),\n",
      "         log_Omega=(-19.9,-19.5, 0.01),\n",
      "         )"
     ],
     "language": "python",
     "metadata": {},
     "outputs": [
      {
       "output_type": "stream",
       "stream": "stdout",
       "text": [
        "73883.8258999\n"
       ]
      }
     ],
     "prompt_number": 40
    },
    {
     "cell_type": "code",
     "collapsed": false,
     "input": [
      "i = interact(update_Cheb_plot,\n",
      "         c1=(-0.2, 0.2, 0.01),\n",
      "         c2=(-0.2, 0.2, 0.01),\n",
      "         c3=(-0.2, 0.2, 0.01),\n",
      "         )"
     ],
     "language": "python",
     "metadata": {},
     "outputs": [
      {
       "output_type": "stream",
       "stream": "stdout",
       "text": [
        "70152.5580308\n"
       ]
      }
     ],
     "prompt_number": 32
    },
    {
     "cell_type": "code",
     "collapsed": false,
     "input": [
      "i = interact(update_Cov_plot,\n",
      "         sig_amp=(.5,1.5, 0.1),\n",
      "         amp=(-15,-13, 0.2),\n",
      "         l=(0.1, 1, 0.1),\n",
      "         )"
     ],
     "language": "python",
     "metadata": {},
     "outputs": [
      {
       "output_type": "stream",
       "stream": "stdout",
       "text": [
        "73880.5559306\n"
       ]
      }
     ],
     "prompt_number": 37
    },
    {
     "cell_type": "markdown",
     "metadata": {},
     "source": [
      "Good starting guesses:\n",
      "temp: 6100\n",
      "logg: 4.0\n",
      "Z: -0.5\n",
      "vsini: 6\n",
      "vz: 13.7\n",
      "log_Omega: -19.7\n",
      "alpha: 0.2"
     ]
    }
   ],
   "metadata": {}
  }
 ]
}