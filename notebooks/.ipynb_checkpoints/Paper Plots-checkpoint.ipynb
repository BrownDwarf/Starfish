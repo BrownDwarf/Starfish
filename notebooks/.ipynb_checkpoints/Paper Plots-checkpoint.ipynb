{
 "metadata": {
  "language": "Julia",
  "name": "",
  "signature": "sha256:74704c53eacdc23fe459acaa62b036ed7d5e825db70149b7aaa7a44bc1e97ee9"
 },
 "nbformat": 3,
 "nbformat_minor": 0,
 "worksheets": [
  {
   "cells": [
    {
     "cell_type": "markdown",
     "metadata": {},
     "source": [
      "# Plotting routines for paper"
     ]
    },
    {
     "cell_type": "code",
     "collapsed": false,
     "input": [
      "#Import all of the relevant python modules\n",
      "import numpy as np\n",
      "import scipy.sparse as sp #Sparse array module\n",
      "from scipy.sparse.linalg import inv as sinv\n",
      "from scipy.sparse.linalg import spsolve\n",
      "from numpy.linalg import inv,det, cholesky\n",
      "\n",
      "import matplotlib\n",
      "import matplotlib.pyplot as plt\n",
      "from matplotlib.ticker import FormatStrFormatter as FSF\n",
      "from matplotlib.ticker import MaxNLocator\n",
      "from matplotlib.ticker import MultipleLocator"
     ],
     "language": "python",
     "metadata": {},
     "outputs": [],
     "prompt_number": 1
    },
    {
     "cell_type": "code",
     "collapsed": false,
     "input": [
      "from StellarSpectra.model import Model\n",
      "from StellarSpectra.spectrum import DataSpectrum\n",
      "from StellarSpectra.grid_tools import TRES, HDF5Interface\n",
      "import scipy.sparse as sp\n",
      "import numpy as np\n",
      "\n",
      "myDataSpectrum = DataSpectrum.open(\"WASP14/WASP-14_2009-06-15_04h13m57s_cb.spec.flux\", orders=np.array([22]))\n",
      "myInstrument = TRES()\n",
      "myHDF5Interface = HDF5Interface(\"../libraries/PHOENIX_submaster.hdf5\")\n",
      "#myHDF5Interface = HDF5Interface(\"../libraries/Kurucz_master.hdf5\")"
     ],
     "language": "python",
     "metadata": {},
     "outputs": [],
     "prompt_number": 2
    },
    {
     "cell_type": "code",
     "collapsed": false,
     "input": [
      "#Load a model using the JSON file\n",
      "myModel = Model.from_json(\"WASP14/model_final.json\", myDataSpectrum, myInstrument, myHDF5Interface)\n",
      "myOrderModel = myModel.OrderModels[0]\n",
      "spec = myModel.get_data()\n",
      "\n",
      "wl = spec.wls[0]\n",
      "fl = spec.fls[0]\n",
      "\n",
      "model_fl = myOrderModel.get_spectrum()\n",
      "\n",
      "median_fl = np.median(fl)\n",
      "fl_norm = fl / median_fl\n",
      "model_fl_norm = model_fl / median_fl\n",
      "\n",
      "residuals = fl_norm - model_fl_norm\n",
      "cheb = myOrderModel.get_Cheb()"
     ],
     "language": "python",
     "metadata": {},
     "outputs": [
      {
       "output_type": "stream",
       "stream": "stdout",
       "text": [
        "Grid stretches from 5135.32127896173 to 5236.2786948156\n",
        "wl_FFT is 0.04805860213977044 km/s\n",
        "Creating OrderModel 0\n",
        "params are "
       ]
      },
      {
       "output_type": "stream",
       "stream": "stdout",
       "text": [
        " {'c3': -0.004788022228329032, 'c1': -0.017684987777693707, 'logc0': -0.030610219611502083, 'c2': -0.017530605981209466}\n",
        "creating region  0 0 {'h': 0.6329127690014178, 'mu': 5189.096201903731, 'loga': -14.185547680154697, 'sigma': 0.1078243984103198}\n",
        "Added region to self.RegionList\n",
        "updating region 0 with params {'h': 0.6329127690014178, 'mu': 5189.096201903731, 'loga': -14.185547680154697, 'sigma': 0.1078243984103198}\n",
        "creating region  1 1 {'h': 1.2354606540285378, 'mu': 5152.090349451458, 'loga': -13.891324093216593, 'sigma': 0.15590626116459438}\n",
        "Added region to self.RegionList\n",
        "updating region 1 with params {'h': 1.2354606540285378, 'mu': 5152.090349451458, 'loga': -13.891324093216593, 'sigma': 0.15590626116459438}\n"
       ]
      }
     ],
     "prompt_number": 3
    },
    {
     "cell_type": "markdown",
     "metadata": {},
     "source": [
      "# Poster plots of single spectra"
     ]
    },
    {
     "cell_type": "code",
     "collapsed": false,
     "input": [
      "figsize=(14, 4)\n",
      "lw = 3\n",
      "\n",
      "fig = plt.figure(figsize=figsize)\n",
      "ax = fig.add_subplot(111)\n",
      "ax.plot(wl, fl_norm, \"b\", lw=lw)\n",
      "\n",
      "ax.set_xlim(5152, 5209)\n",
      "#print(np.min(fl_norm), np.max(fl_norm))\n",
      "ax.set_ylim(0.18, 1.09)\n",
      "fig.subplots_adjust(left=0, right=1, bottom=0, top=1)\n",
      "\n",
      "ax.axis('off')\n",
      "fig.savefig(\"../plots/data.svg\")\n",
      "plt.show()"
     ],
     "language": "python",
     "metadata": {},
     "outputs": [],
     "prompt_number": 29
    },
    {
     "cell_type": "code",
     "collapsed": false,
     "input": [
      "fig = plt.figure(figsize=figsize)\n",
      "ax = fig.add_subplot(111)\n",
      "ax.plot(wl, model_fl_norm, \"r\", lw=lw)\n",
      "ax.set_ylim(0.18, 1.09)\n",
      "ax.set_xlim(5152, 5209)\n",
      "\n",
      "fig.subplots_adjust(left=0, right=1, bottom=0, top=1)\n",
      "\n",
      "ax.axis('off')\n",
      "fig.savefig(\"../plots/model.svg\")\n",
      "plt.show()"
     ],
     "language": "python",
     "metadata": {},
     "outputs": [],
     "prompt_number": 30
    },
    {
     "cell_type": "code",
     "collapsed": false,
     "input": [
      "fig = plt.figure(figsize=figsize)\n",
      "ax = fig.add_subplot(111)\n",
      "ax.plot(wl, residuals, \"k\", lw=lw)\n",
      "span = (1.09 - 0.18)/2\n",
      "ax.set_ylim(-span, span)\n",
      "ax.set_xlim(5152, 5209)\n",
      "\n",
      "fig.subplots_adjust(left=0, right=1, bottom=0, top=1)\n",
      "\n",
      "ax.axis('off')\n",
      "fig.savefig(\"../plots/residuals.svg\")\n",
      "plt.show()"
     ],
     "language": "python",
     "metadata": {},
     "outputs": [],
     "prompt_number": 31
    },
    {
     "cell_type": "markdown",
     "metadata": {},
     "source": [
      "# Chebyshev, Data + Model, and Residuals"
     ]
    },
    {
     "cell_type": "code",
     "collapsed": false,
     "input": [
      "nullfmt = matplotlib.ticker.NullFormatter()\n",
      "import matplotlib as mpl\n",
      "mpl.rc('lines', linewidth=1)\n",
      "\n",
      "fig = plt.figure(figsize=(7,5))\n",
      "#[left, bottom, width, height]\n",
      "left = 0.12\n",
      "width = 0.85\n",
      "\n",
      "plt_base = 0.13\n",
      "label_ax = fig.add_axes([left - 0.1, 0.05, .95, .95],alpha=0.0,frame_on=False,xticks=[],yticks=[])\n",
      "\n",
      "#unit of height for each plot\n",
      "height = 0.15\n",
      "\n",
      "ax_resid = fig.add_axes([left,plt_base,width, 1.3 * height])\n",
      "ax_resid.plot(wl, residuals, \"k\", label=\"residuals\")\n",
      "ax_resid.xaxis.set_major_formatter(FSF(\"%.0f\"))\n",
      "ax_resid.set_xlabel(r\"$\\lambda$  (\\AA)\")\n",
      "#ax_resid.legend(loc='lower left')\n",
      "ax_resid.text(0.02, 0.1, \"residuals\", transform=ax_resid.transAxes)\n",
      "ax_resid.set_ylabel(\"$\\propto f_\\lambda$\")\n",
      "ax_resid.yaxis.set_major_locator(MaxNLocator(nbins=5, prune='upper'))\n",
      "\n",
      "ax_data = fig.add_axes([left,plt_base + 1.3 * height,width, 3 * height])\n",
      "ax_data.xaxis.set_major_formatter(nullfmt)\n",
      "ax_data.plot(wl, fl_norm, \"b\", label=\"data\")\n",
      "ax_data.plot(wl, model_fl_norm, \"r:\", label=\"model\")\n",
      "lg = ax_data.legend(loc=\"lower left\")\n",
      "lg.draw_frame(False)\n",
      "ax_data.set_ylabel(\"$\\propto f_\\lambda$\")\n",
      "ax_data.yaxis.set_major_locator(MaxNLocator(prune='both'))\n",
      "\n",
      "ax_cheb = fig.add_axes([left,plt_base + 4.3 * height,width, height])\n",
      "ax_cheb.xaxis.set_major_formatter(nullfmt)\n",
      "ax_cheb.plot(wl, cheb, \"k\", label=\"Chebyshev\")\n",
      "ax_cheb.set_ylim(.99, 1.02)\n",
      "#ax_cheb.legend(loc=\"lower left\")\n",
      "ax_cheb.text(0.02, 0.1, \"Chebyshev\", transform=ax_cheb.transAxes)\n",
      "ax_cheb.yaxis.set_major_locator(MaxNLocator(nbins=5, prune='lower'))\n",
      "\n",
      "for ax in [ax_resid, ax_data, ax_cheb]:\n",
      "    ax.set_xlim(5155,5200)\n",
      "\n",
      "fig.savefig(\"../plots/model_data.eps\")\n",
      "plt.show()"
     ],
     "language": "python",
     "metadata": {},
     "outputs": [],
     "prompt_number": 29
    },
    {
     "cell_type": "markdown",
     "metadata": {},
     "source": [
      "#Examples of correlated noise and bad regions"
     ]
    },
    {
     "cell_type": "code",
     "collapsed": false,
     "input": [
      "import matplotlib as mpl\n",
      "mpl.rc('lines', linewidth=1)\n",
      "\n",
      "fig, ax = plt.subplots(nrows=2, ncols=4, figsize=(6.5,4.))\n",
      "spec2 = DataSpectrum.open(\"WASP14/WASP-14_2009-06-15_04h13m57s_cb.spec.flux\", orders=[22,23])\n",
      "fl23, fl24 = spec2.fls\n",
      "\n",
      "median_fl23 = np.median(fl23)\n",
      "median_fl24 = np.median(fl24)\n",
      "\n",
      "fl23n = fl23/median_fl23\n",
      "fl24n = fl24/median_fl24\n",
      "\n",
      "#Model\n",
      "wl23 = np.load(\"../residuals/wlsz23.npy\")[0]\n",
      "f23 = np.load(\"../residuals/fl23.npy\")[0]/median_fl23\n",
      "wl24 = np.load(\"../residuals/wlsz24.npy\")[0]\n",
      "f24 = np.load(\"../residuals/fl24.npy\")[0]/median_fl24\n",
      "\n",
      "\n",
      "r23 = (fl23n - f23)\n",
      "r24 = (fl24n - f24)\n",
      "\n",
      "ax[0,0].plot(wl23, fl23n, \"b\", label=\"data\", drawstyle=\"steps-mid\")\n",
      "ax[0,0].plot(wl23, f23, \"r:\", label=\"model\", drawstyle=\"steps-mid\")\n",
      "\n",
      "ax[1,0].plot(wl23, r23, \"k\", drawstyle=\"steps-mid\")\n",
      "#ax[0,0].set_xlim(5136.4, 5139)\n",
      "#ax[1,0].set_xlim(5136.4, 5139)\n",
      "ax[1,0].set_ylim(-.1,.1)\n",
      "\n",
      "ax[0,0].set_xlim(5144, 5150)\n",
      "ax[1,0].set_xlim(5144, 5150)\n",
      "\n",
      "ax[0,1].plot(wl23, fl23n, \"b\", drawstyle=\"steps-mid\")\n",
      "ax[0,1].plot(wl23, f23, \"r:\", drawstyle=\"steps-mid\")\n",
      "ax[1,1].plot(wl23, r23, \"k\", drawstyle=\"steps-mid\")\n",
      "ax[0,1].set_xlim(5188, 5189.5)\n",
      "ax[1,1].set_xlim(5188, 5189.5)\n",
      "#ax[1,1].set_ylim(-4,4)\n",
      "\n",
      "ax[0,2].plot(wl24, fl24n, \"b\", label='data', drawstyle=\"steps-mid\")\n",
      "ax[0,2].plot(wl24, f24, \"r:\", label='model', drawstyle=\"steps-mid\")\n",
      "ax[0,2].legend(loc=\"lower center\", prop={'size':10})\n",
      "\n",
      "ax[1,2].plot(wl24, r24, \"k\", drawstyle=\"steps-mid\")\n",
      "ax[0,2].set_xlim(5258, 5260)\n",
      "ax[1,2].set_xlim(5258, 5260)\n",
      "\n",
      "ax[0,3].plot(wl24, fl24n, \"b\", drawstyle=\"steps-mid\")\n",
      "ax[0,3].plot(wl24, f24, \"r:\", drawstyle=\"steps-mid\")\n",
      "ax[1,3].plot(wl24, r24, \"k\", drawstyle=\"steps-mid\")\n",
      "ax[0,3].set_xlim(5260, 5269)\n",
      "ax[1,3].set_xlim(5260, 5269)\n",
      "#ax[0,3].set_xlim(5260, 5271)\n",
      "#ax[1,3].set_xlim(5260, 5271)\n",
      "ax[1,3].set_ylim(-.18, .18)\n",
      "\n",
      "\n",
      "for j in range(4):\n",
      "    labels = ax[1,j].get_xticklabels()\n",
      "    for label in labels:\n",
      "        label.set_rotation(60)\n",
      "\n",
      "ax[0,0].set_ylabel(r\"$\\propto f_\\lambda$\")\n",
      "ax[1,0].set_ylabel(r\"residuals $\\propto f_\\lambda$\")\n",
      "\n",
      "for i in range(2):\n",
      "    for j in range(4):\n",
      "        ax[i,j].xaxis.set_major_formatter(FSF(\"%.0f\"))\n",
      "        ax[i,j].xaxis.set_major_locator(MultipleLocator(1.))\n",
      "        ax[i,j].tick_params(axis='both', which='major', labelsize=10)\n",
      "\n",
      "for i in [0,1]:\n",
      "    for j in [1,2]:\n",
      "        ax[i,j].xaxis.set_major_formatter(FSF(\"%.1f\"))\n",
      "        ax[i,j].xaxis.set_major_locator(MultipleLocator(0.5))\n",
      "\n",
      "for i in [0,1]:\n",
      "    ax[i,3].xaxis.set_major_formatter(FSF(\"%.0f\"))\n",
      "    ax[i,3].xaxis.set_major_locator(MultipleLocator(2))\n",
      "\n",
      "class_label = [\"0\", \"I\", \"II\", \"III\"]\n",
      "for j in range(4):\n",
      "    ax[0,j].set_title(class_label[j])\n",
      "    ax[0,j].xaxis.set_ticklabels([])\n",
      "    ax[0,j].set_ylim(0.4, 1.15)\n",
      "    if j != 0:\n",
      "        ax[0,j].yaxis.set_ticklabels([])\n",
      "\n",
      "fig.subplots_adjust(left=0.13, right=0.99, top=0.94, bottom=0.18, hspace=0.1, wspace=0.3)\n",
      "fig.text(0.48, 0.02, r\"$\\lambda$ (\\AA)\")\n",
      "fig.savefig(\"../plots/badlines.pdf\")\n",
      "plt.show()"
     ],
     "language": "python",
     "metadata": {},
     "outputs": [],
     "prompt_number": 13
    },
    {
     "cell_type": "markdown",
     "metadata": {},
     "source": [
      "# Autocorrelation of Class 0 region\n",
      "\n",
      "Create two separate figures, such that they can be shown side-by-side using \\includegraphics{}"
     ]
    },
    {
     "cell_type": "code",
     "collapsed": false,
     "input": [
      "fig, ax = plt.subplots(nrows=2, sharex=True, figsize=(3.5, 3.5))\n",
      "spec2 = DataSpectrum.open(\"WASP14/WASP-14_2009-06-15_04h13m57s_cb.spec.flux\", orders=[22])\n",
      "fl23 = spec2.fls[0]\n",
      "\n",
      "median_fl23 = np.median(fl23)\n",
      "\n",
      "fl23n = fl23/median_fl23\n",
      "\n",
      "#Model\n",
      "wl23 = np.load(\"../residuals/wlsz23.npy\")[0]\n",
      "f23 = np.load(\"../residuals/fl23.npy\")[0]/median_fl23\n",
      "\n",
      "ind = (wl23 > 5144) & (wl23 < 5150)\n",
      "wl23 = wl23[ind]\n",
      "f23 = f23[ind]\n",
      "fl23n = fl23n[ind]\n",
      "\n",
      "r23 = (fl23n - f23)\n",
      "\n",
      "ax[0].plot(wl23, fl23n, \"b\", label=\"data\", drawstyle=\"steps-mid\")\n",
      "ax[0].plot(wl23, f23, \"r:\", label=\"model\", drawstyle=\"steps-mid\")\n",
      "ax[0].legend(loc=\"lower left\")\n",
      "ax[0].set_ylabel(r\"$\\propto f_\\lambda$\")\n",
      "\n",
      "\n",
      "ax[1].plot(wl23, r23, \"k\", label=\"residuals\", drawstyle=\"steps-mid\")\n",
      "ax[1].legend(loc=\"lower right\")\n",
      "ax[1].set_ylabel(r\"residuals $\\propto f_\\lambda$\")\n",
      "ax[1].set_xlabel(r\"$\\lambda$ [\\AA]\")\n",
      "\n",
      "ax[1].xaxis.set_major_formatter(FSF(\"%.0f\"))\n",
      "\n",
      "fig.subplots_adjust(right=0.92, bottom=0.13, left=0.22)\n",
      "fig.savefig(\"../plots/class0_residuals.pdf\")\n",
      "plt.show()"
     ],
     "language": "python",
     "metadata": {},
     "outputs": [],
     "prompt_number": 37
    },
    {
     "cell_type": "markdown",
     "metadata": {},
     "source": [
      "$$\\hat{R}(k) = \\frac{1}{(n - k) \\sigma^2} \\sum_{t = 1}^{n - k} (X_t - \\mu) (X_{t+k} - \\mu) $$"
     ]
    },
    {
     "cell_type": "code",
     "collapsed": false,
     "input": [
      "def estimated_autocorrelation(x):\n",
      "    '''From http://stackoverflow.com/questions/14297012/estimate-autocorrelation-using-python'''\n",
      "    n = len(x)\n",
      "    variance = np.var(x)\n",
      "    x = x - np.mean(x)\n",
      "    r = np.correlate(x, x, mode = 'full')[-n:] #takes the positive half of the correlation\n",
      "    #assert N.allclose(r, N.array([(x[:n-k]*x[-(n-k):]).sum() for k in range(n)]))\n",
      "    result = r/(variance*(np.arange(n, 0, -1))) #divides by the number pixels used in the estimation\n",
      "    return result"
     ],
     "language": "python",
     "metadata": {},
     "outputs": [],
     "prompt_number": 24
    },
    {
     "cell_type": "code",
     "collapsed": false,
     "input": [
      "#Now estimate the autocorrelation of the residuals \n",
      "fig = plt.figure(figsize=(2.5,2.5))\n",
      "ax = fig.add_subplot(111)\n",
      "ax.plot(estimated_autocorrelation(r23), drawstyle=\"steps-mid\")\n",
      "ax.set_xlabel(r\"pixel offset $k$\")\n",
      "ax.set_ylabel(r\"$\\hat{\\rho}(k)$\")\n",
      "ax.set_xlim(-1,60)\n",
      "fig.subplots_adjust(left=0.27, bottom=0.17, right=0.95)\n",
      "fig.savefig(\"../plots/class0_autocorrelation.pdf\")\n",
      "plt.show()"
     ],
     "language": "python",
     "metadata": {},
     "outputs": [],
     "prompt_number": 40
    },
    {
     "cell_type": "markdown",
     "metadata": {},
     "source": [
      "# Global covariance matrix"
     ]
    },
    {
     "cell_type": "code",
     "collapsed": false,
     "input": [
      "def k_3_2(r, l):\n",
      "    return (1 + np.sqrt(3) * r/l) * np.exp(-np.sqrt(3) * r/l)\n",
      "\n",
      "@np.vectorize\n",
      "def hann(r, r0):\n",
      "    if np.abs(r) < r0:\n",
      "        return 0.5 + 0.5 * np.cos(np.pi * r/r0)\n",
      "    else:\n",
      "        return 0\n",
      "\n",
      "def k_3_2_hann(r, l):\n",
      "    return k_3_2(r, l) * hann(r, 6 * l)    "
     ],
     "language": "python",
     "metadata": {},
     "outputs": [],
     "prompt_number": 32
    },
    {
     "cell_type": "code",
     "collapsed": false,
     "input": [
      "def gauss_func(x0i, x1i, x0v=None, x1v=None, amp=None, mu=None, sigma=None):\n",
      "    x0 = x0v[x0i]\n",
      "    x1 = x1v[x1i]\n",
      "    return amp**2/(2 * np.pi * sigma**2) * np.exp(-((x0 - mu)**2 + (x1 - mu)**2)/(2 * sigma**2))\n",
      "\n",
      "def k_3_2_func(x0i, x1i, x0v=None, x1v=None, amp=None, l=None):\n",
      "    x0 = x0v[x0i]\n",
      "    x1 = x1v[x1i]\n",
      "    r = np.abs(x1 - x0)\n",
      "    return amp**2 * k_3_2(r, l)\n",
      "\n",
      "def k_3_2_hann_func(x0i, x1i, x0v=None, x1v=None, amp=None, l=None):\n",
      "    x0 = x0v[x0i]\n",
      "    x1 = x1v[x1i]\n",
      "    r = np.abs(x1 - x0)\n",
      "    return amp**2 * k_3_2_hann(r, l)"
     ],
     "language": "python",
     "metadata": {},
     "outputs": [],
     "prompt_number": 33
    },
    {
     "cell_type": "markdown",
     "metadata": {},
     "source": [
      "# Matrix Thumbnail Plot for poster"
     ]
    },
    {
     "cell_type": "code",
     "collapsed": false,
     "input": [
      "spec2 = DataSpectrum.open(\"WASP14/WASP-14_2009-06-15_04h13m57s_cb.spec.flux\", orders=[22])\n",
      "fl23 = spec2.fls[0]\n",
      "sigma23 = spec2.sigmas[0]\n",
      "\n",
      "median_fl23 = np.median(fl23)\n",
      "\n",
      "fl23n = fl23/median_fl23\n",
      "sigma23n = sigma23/median_fl23\n",
      "\n",
      "#Model\n",
      "wl23 = np.load(\"../residuals/wlsz23.npy\")[0]\n",
      "f23 = np.load(\"../residuals/fl23.npy\")[0]/median_fl23\n",
      "\n",
      "#ind = (wl23 > 5144) & (wl23 < 5150)\n",
      "ind = (wl23 > 5144) & (wl23 < 5145)\n",
      "wl23 = wl23[ind]\n",
      "f23 = f23[ind]\n",
      "fl23n = fl23n[ind]\n",
      "sigma23n = sigma23n[ind]\n",
      "\n",
      "r23 = (fl23n - f23)\n",
      "\n",
      "N = len(wl23)\n",
      "\n"
     ],
     "language": "python",
     "metadata": {},
     "outputs": [],
     "prompt_number": 37
    },
    {
     "cell_type": "code",
     "collapsed": false,
     "input": [
      "mat_3_2 = np.fromfunction(k_3_2_hann_func, (N,N), x0v=wl23, x1v=wl23, amp=0.028, l=0.14, dtype=np.int) #matrix from Matern kernel\n",
      "mat = mat_3_2 + sigma23n**2 * np.eye(N) #add in the per-pixel noise"
     ],
     "language": "python",
     "metadata": {},
     "outputs": [],
     "prompt_number": 38
    },
    {
     "cell_type": "code",
     "collapsed": false,
     "input": [
      "fig = plt.figure(figsize=(14, 14))\n",
      "ax = fig.add_subplot(111)\n",
      "mi, ma = wl23[0], wl23[-1]\n",
      "img = ax.imshow(mat, origin=\"upper\", interpolation=\"none\", extent=[mi, ma, ma, mi], cmap=plt.cm.OrRd)\n",
      "\n",
      "cax = fig.add_axes([0.93, 0.2, 0.06, 0.6])\n",
      "cb = fig.colorbar(img, cax=cax)\n",
      "cb.set_ticks([])\n",
      "\n",
      "fig.subplots_adjust(left=0.02, bottom=0.02, top=0.98, right=0.88)\n",
      "ax.axis('off')\n",
      "fig.savefig(\"../plots/matrix_thumbnail.pdf\")\n",
      "#plt.show()"
     ],
     "language": "python",
     "metadata": {},
     "outputs": [],
     "prompt_number": 55
    },
    {
     "cell_type": "markdown",
     "metadata": {},
     "source": [
      "# Matrix full plot for poster"
     ]
    },
    {
     "cell_type": "code",
     "collapsed": false,
     "input": [
      "spec2 = DataSpectrum.open(\"WASP14/WASP-14_2009-06-15_04h13m57s_cb.spec.flux\", orders=[22])\n",
      "fl23 = spec2.fls[0]\n",
      "sigma23 = spec2.sigmas[0]\n",
      "\n",
      "median_fl23 = np.median(fl23)\n",
      "\n",
      "fl23n = fl23/median_fl23\n",
      "sigma23n = sigma23/median_fl23\n",
      "\n",
      "#Model\n",
      "wl23 = np.load(\"../residuals/wlsz23.npy\")[0]\n",
      "f23 = np.load(\"../residuals/fl23.npy\")[0]/median_fl23\n",
      "\n",
      "\n",
      "ind = (wl23 > 5152) & (wl23 < 5209)\n",
      "wl23 = wl23[ind]\n",
      "f23 = f23[ind]\n",
      "fl23n = fl23n[ind]\n",
      "sigma23n = sigma23n[ind]\n",
      "\n",
      "r23 = (fl23n - f23)\n",
      "\n",
      "N = len(wl23)"
     ],
     "language": "python",
     "metadata": {},
     "outputs": [],
     "prompt_number": 57
    },
    {
     "cell_type": "code",
     "collapsed": false,
     "input": [
      "mat_3_2 = np.fromfunction(k_3_2_hann_func, (N,N), x0v=wl23, x1v=wl23, amp=0.028, l=0.14, dtype=np.int) #matrix from Matern kernel\n",
      "mat = mat_3_2 + sigma23n**2 * np.eye(N) #add in the per-pixel noise"
     ],
     "language": "python",
     "metadata": {},
     "outputs": [],
     "prompt_number": 58
    },
    {
     "cell_type": "code",
     "collapsed": false,
     "input": [
      "fig = plt.figure(figsize=(14, 14))\n",
      "ax = fig.add_subplot(111)\n",
      "mi, ma = wl23[0], wl23[-1]\n",
      "img = ax.imshow(mat, origin=\"upper\", interpolation=\"none\", extent=[mi, ma, ma, mi], cmap=plt.cm.OrRd)\n",
      "\n",
      "cax = fig.add_axes([0.93, 0.2, 0.06, 0.6])\n",
      "cb = fig.colorbar(img, cax=cax)\n",
      "cb.set_ticks([])\n",
      "\n",
      "fig.subplots_adjust(left=0.02, bottom=0.02, top=0.98, right=0.88)\n",
      "ax.axis('off')\n",
      "fig.savefig(\"../plots/matrix_full.pdf\")\n",
      "#plt.show()"
     ],
     "language": "python",
     "metadata": {},
     "outputs": [],
     "prompt_number": 59
    },
    {
     "cell_type": "markdown",
     "metadata": {},
     "source": [
      "# Plot for paper"
     ]
    },
    {
     "cell_type": "markdown",
     "metadata": {},
     "source": [
      "Using the same wavelength range from the Class 0 plot, imshow the Matern matrix\n"
     ]
    },
    {
     "cell_type": "code",
     "collapsed": false,
     "input": [
      "spec2 = DataSpectrum.open(\"WASP14/WASP-14_2009-06-15_04h13m57s_cb.spec.flux\", orders=[22])\n",
      "fl23 = spec2.fls[0]\n",
      "sigma23 = spec2.sigmas[0]\n",
      "\n",
      "median_fl23 = np.median(fl23)\n",
      "\n",
      "fl23n = fl23/median_fl23\n",
      "sigma23n = sigma23/median_fl23\n",
      "\n",
      "#Model\n",
      "wl23 = np.load(\"../residuals/wlsz23.npy\")[0]\n",
      "f23 = np.load(\"../residuals/fl23.npy\")[0]/median_fl23\n",
      "\n",
      "#ind = (wl23 > 5144) & (wl23 < 5150)\n",
      "ind = (wl23 > 5144) & (wl23 < 5145)\n",
      "wl23 = wl23[ind]\n",
      "f23 = f23[ind]\n",
      "fl23n = fl23n[ind]\n",
      "sigma23n = sigma23n[ind]\n",
      "\n",
      "r23 = (fl23n - f23)\n",
      "\n",
      "N = len(wl23)"
     ],
     "language": "python",
     "metadata": {},
     "outputs": [],
     "prompt_number": 34
    },
    {
     "cell_type": "code",
     "collapsed": false,
     "input": [
      "mat_3_2 = np.fromfunction(k_3_2_hann_func, (N,N), x0v=wl23, x1v=wl23, amp=0.028, l=0.14, dtype=np.int) #matrix from Matern kernel\n",
      "mat = mat_3_2 + sigma23n**2 * np.eye(N) #add in the per-pixel noise"
     ],
     "language": "python",
     "metadata": {},
     "outputs": [],
     "prompt_number": 6
    },
    {
     "cell_type": "code",
     "collapsed": false,
     "input": [
      "print(np.max(mat))"
     ],
     "language": "python",
     "metadata": {},
     "outputs": [
      {
       "output_type": "stream",
       "stream": "stdout",
       "text": [
        "0.00108466625491\n"
       ]
      }
     ],
     "prompt_number": 18
    },
    {
     "cell_type": "code",
     "collapsed": false,
     "input": [
      "fig = plt.figure(figsize=(3.5,3.5))\n",
      "ax = fig.add_subplot(111)\n",
      "mi, ma = wl23[0], wl23[-1]\n",
      "img = ax.imshow(mat, origin=\"upper\", interpolation=\"none\", extent=[mi, ma, ma, mi], cmap=plt.cm.OrRd)\n",
      "ax.xaxis.set_major_formatter(FSF(\"%.1f\"))\n",
      "\n",
      "labels = ax.get_xticklabels()\n",
      "for label in labels:\n",
      "    label.set_rotation(40)\n",
      "\n",
      "ax.yaxis.set_major_formatter(FSF(\"%.1f\"))\n",
      "\n",
      "ax.set_xlabel(r\"$\\lambda$ [\\AA]\")\n",
      "ax.set_ylabel(r\"$\\lambda$ [\\AA]\")\n",
      "\n",
      "cax = fig.add_axes([0.85, 0.2, 0.03, 0.65])\n",
      "cb = fig.colorbar(img, cax=cax)\n",
      "\n",
      "ticks = np.linspace(0, 1e-3, num=6)\n",
      "cb.set_ticks(ticks)\n",
      "\n",
      "fig.suptitle(r\"$\\sigma_{ij}$\",x=0.76,y=0.89)\n",
      "\n",
      "fig.subplots_adjust(left=0.24, bottom=0.13, top=0.97, right=0.8)\n",
      "fig.savefig(\"../plots/matern_matrix.pdf\")\n",
      "fig.savefig(\"../plots/matern_matrix.png\")\n",
      "plt.show()"
     ],
     "language": "python",
     "metadata": {},
     "outputs": [],
     "prompt_number": 19
    },
    {
     "cell_type": "markdown",
     "metadata": {},
     "source": [
      "# Draws from the Global covariance matrix"
     ]
    },
    {
     "cell_type": "code",
     "collapsed": false,
     "input": [
      "spec2 = DataSpectrum.open(\"WASP14/WASP-14_2009-06-15_04h13m57s_cb.spec.flux\", orders=[22])\n",
      "fl23 = spec2.fls[0]\n",
      "sigma23 = spec2.sigmas[0]\n",
      "\n",
      "median_fl23 = np.median(fl23)\n",
      "\n",
      "fl23n = fl23/median_fl23\n",
      "sigma23n = sigma23/median_fl23\n",
      "\n",
      "#Model\n",
      "wl23 = np.load(\"../residuals/wlsz23.npy\")[0]\n",
      "f23 = np.load(\"../residuals/fl23.npy\")[0]/median_fl23\n",
      "\n",
      "ind = (wl23 > 5144) & (wl23 < 5150)\n",
      "wl23 = wl23[ind]\n",
      "f23 = f23[ind]\n",
      "fl23n = fl23n[ind]\n",
      "sigma23n = sigma23n[ind]\n",
      "\n",
      "r23 = (fl23n - f23)\n",
      "\n",
      "N = len(wl23)"
     ],
     "language": "python",
     "metadata": {},
     "outputs": [],
     "prompt_number": 20
    },
    {
     "cell_type": "code",
     "collapsed": false,
     "input": [
      "mat_3_2 = np.fromfunction(k_3_2_hann_func, (N,N), x0v=wl23, x1v=wl23, amp=0.028, l=0.14, dtype=np.int) #matrix from Matern kernel\n",
      "mat = mat_3_2 + sigma23n**2 * np.eye(N) #add in the per-pixel noise"
     ],
     "language": "python",
     "metadata": {},
     "outputs": [],
     "prompt_number": 41
    },
    {
     "cell_type": "code",
     "collapsed": false,
     "input": [
      "fl_fake = np.random.multivariate_normal(np.zeros((N,)), mat)\n",
      "fl_fake2 = np.random.multivariate_normal(np.zeros((N,)), mat)\n",
      "fl_fake3 = np.random.multivariate_normal(np.zeros((N,)), mat)"
     ],
     "language": "python",
     "metadata": {},
     "outputs": [],
     "prompt_number": 52
    },
    {
     "cell_type": "code",
     "collapsed": false,
     "input": [
      "fig, ax = plt.subplots(nrows=4, sharex=True, figsize=(3.2, 3.2))\n",
      "\n",
      "left = 5144.1\n",
      "ax[0].plot(wl23, r23, \"k\", label=\"residuals\", drawstyle=\"steps-mid\")\n",
      "ax[0].text(left, 0.04, \"residuals\")\n",
      "\n",
      "bot = -0.09\n",
      "ax[1].plot(wl23, fl_fake1, \"b\", drawstyle=\"steps-mid\", label=\"random draw\")\n",
      "ax[1].text(left, bot, \"random draw\")\n",
      "\n",
      "ax[2].plot(wl23, fl_fake2, \"b\", drawstyle=\"steps-mid\")\n",
      "ax[2].text(left, bot, \"random draw\")\n",
      "\n",
      "ax[3].plot(wl23, fl_fake3, \"b\", drawstyle=\"steps-mid\")\n",
      "ax[3].text(left, bot, \"random draw\")\n",
      "\n",
      "#tl = [text.get_text() for text in ax[0].yaxis.get_ticklabels()]\n",
      "#print(tl)\n",
      "\n",
      "for j in range(3):\n",
      "    ax[j + 1].yaxis.set_ticklabels([])\n",
      "    \n",
      "for j in range(4):\n",
      "    ax[j].yaxis.set_major_locator(MaxNLocator(nbins=5))\n",
      "    ax[j].set_ylim(-0.1,0.1)\n",
      "    \n",
      "\n",
      "ax[2].set_ylabel(r\"$\\propto f_\\lambda$\")\n",
      "ax[-1].set_xlabel(r\"$\\lambda$ [\\AA]\")\n",
      "ax[-1].xaxis.set_major_formatter(FSF(\"%.0f\"))\n",
      "ax[-1].xaxis.set_major_locator(MultipleLocator(1.))\n",
      "ax[-1].set_xlim(5144, 5149.5)\n",
      "\n",
      "fig.subplots_adjust(hspace=0., right=0.98, top=0.95, bottom=0.15, left=0.15)\n",
      "fig.savefig(\"../plots/matern_draw.pdf\")\n",
      "plt.show()"
     ],
     "language": "python",
     "metadata": {},
     "outputs": [],
     "prompt_number": 53
    },
    {
     "cell_type": "markdown",
     "metadata": {},
     "source": [
      "# Global covariance movie"
     ]
    },
    {
     "cell_type": "code",
     "collapsed": false,
     "input": [
      "spec2 = DataSpectrum.open(\"WASP14/WASP-14_2009-06-15_04h13m57s_cb.spec.flux\", orders=[22])\n",
      "fl23 = spec2.fls[0]\n",
      "sigma23 = spec2.sigmas[0]\n",
      "\n",
      "median_fl23 = np.median(fl23)\n",
      "\n",
      "fl23n = fl23/median_fl23\n",
      "sigma23n = sigma23/median_fl23\n",
      "\n",
      "#Model\n",
      "wl23 = np.load(\"../residuals/wlsz23.npy\")[0]\n",
      "f23 = np.load(\"../residuals/fl23.npy\")[0]/median_fl23\n",
      "\n",
      "ind = (wl23 > 5144) & (wl23 < 5150)\n",
      "wl23 = wl23[ind]\n",
      "f23 = f23[ind]\n",
      "fl23n = fl23n[ind]\n",
      "sigma23n = sigma23n[ind]\n",
      "\n",
      "r23 = (fl23n - f23)\n",
      "\n",
      "N = len(wl23)"
     ],
     "language": "python",
     "metadata": {},
     "outputs": [],
     "prompt_number": 5
    },
    {
     "cell_type": "code",
     "collapsed": false,
     "input": [
      "mat_3_2 = np.fromfunction(k_3_2_hann_func, (N,N), x0v=wl23, x1v=wl23, amp=0.028, l=0.14, dtype=np.int) #matrix from Matern kernel\n",
      "mat = mat_3_2 + sigma23n**2 * np.eye(N) #add in the per-pixel noise"
     ],
     "language": "python",
     "metadata": {},
     "outputs": [],
     "prompt_number": 6
    },
    {
     "cell_type": "code",
     "collapsed": false,
     "input": [
      "# First set up the figure, the axis, and the plot element we want to animate\n",
      "fig, ax = plt.subplots(nrows=2, figsize=(4,4), sharex=True, sharey=True)\n",
      "\n",
      "ax[0].plot(wl23, r23, \"k\", label=\"residuals\", drawstyle=\"steps-mid\")\n",
      "ax[0].set_title(\"data residuals\")\n",
      "\n",
      "\n",
      "#Function to generate interpolated spectra\n",
      "container = np.empty((2, len(wl23)))\n",
      "def interp_spec(spec0, spec1, percentage):\n",
      "    '''\n",
      "    Return the interpolated spectrum between two spectra, weighted by\n",
      "    the percentage (out of 1) of elapsed time between spectra.\n",
      "    '''\n",
      "    container[0, :] = spec0 * (1 - percentage)\n",
      "    container[1, :] = spec1 * percentage\n",
      "    return np.sum(container, axis=0)\n",
      "\n",
      "ndraws = 10 #How many random spectra to draw\n",
      "trans = np.concatenate((np.zeros((50,)), np.linspace(0, 1, num=5)))\n",
      "print(trans)\n",
      "ntrans = len(trans) \n",
      "\n",
      "#Create an array to hold all of the spectra\n",
      "#starts with 1 + (ndraws - 1) * ntrans \n",
      "shape = (1 + ndraws * ntrans, len(wl23))\n",
      "all_spectra = np.empty(shape)\n",
      "#Fill it with fake draws and transitions between them\n",
      "\n",
      "fake0 = np.random.multivariate_normal(np.zeros((N,)), mat)\n",
      "all_spectra[0, :] = fake0\n",
      "counter = 1\n",
      "for draw in range(ndraws):\n",
      "    fake1 = np.random.multivariate_normal(np.zeros((N,)), mat)\n",
      "    for tran in trans:\n",
      "        all_spectra[counter, :] = interp_spec(fake0, fake1, tran)\n",
      "        counter += 1\n",
      "    fake0 = fake1\n",
      "        \n",
      "#fl_fake = np.random.multivariate_normal(np.zeros((N,)), mat)\n",
      "line, = ax[1].plot(wl23, fl_fakes[0], \"b\", drawstyle=\"steps-mid\")\n",
      "\n",
      "\n",
      "ax[1].set_title(\"fake residuals\")\n",
      "ax[-1].set_xlabel(r\"$\\lambda$ [\\AA]\")\n",
      "ax[-1].xaxis.set_major_formatter(FSF(\"%.0f\"))\n",
      "ax[-1].xaxis.set_major_locator(MultipleLocator(1.))\n",
      "ax[-1].set_ylim(-0.1, 0.1)\n",
      "ax[-1].set_xlim(5144.5, 5149.5)\n",
      "fig.subplots_adjust(top=0.93, bottom=0.12, right=0.97)\n",
      "\n",
      "for i,spec in enumerate(all_spectra[1:]):\n",
      "    line.set_ydata(spec)\n",
      "    \n",
      "    fig.canvas.draw_idle()\n",
      "    fig.savefig(\"../plots/animation/global/{:0>3d}.png\".format(i))\n",
      "    #plt.close(fig)"
     ],
     "language": "python",
     "metadata": {},
     "outputs": [
      {
       "output_type": "stream",
       "stream": "stdout",
       "text": [
        "[ 0.    0.    0.    0.    0.    0.    0.    0.    0.    0.    0.    0.    0.\n",
        "  0.    0.    0.    0.    0.    0.    0.    0.    0.    0.    0.    0.    0.\n",
        "  0.    0.    0.    0.    0.    0.    0.    0.    0.    0.    0.    0.    0.\n",
        "  0.    0.    0.    0.    0.    0.    0.    0.    0.    0.    0.    0.\n",
        "  0.25  0.5   0.75  1.  ]\n",
        "shape is (551, 128)\n",
        "draw # 0\n",
        "draw # 1\n",
        "draw #"
       ]
      },
      {
       "output_type": "stream",
       "stream": "stdout",
       "text": [
        " 2\n",
        "draw # 3\n",
        "draw # 4\n",
        "draw #"
       ]
      },
      {
       "output_type": "stream",
       "stream": "stdout",
       "text": [
        " 5\n",
        "draw # 6\n",
        "draw # 7\n",
        "draw #"
       ]
      },
      {
       "output_type": "stream",
       "stream": "stdout",
       "text": [
        " 8\n",
        "draw # 9\n"
       ]
      }
     ],
     "prompt_number": 30
    },
    {
     "cell_type": "code",
     "collapsed": false,
     "input": [
      "#Generating movies using ffmpeg\n",
      "!ffmpeg -y -r 30 -i ../plots/animation/global/%03d.png -vcodec libx264 -r 30 -pix_fmt yuv420p ../plots/animation/global/global_animation.mp4 "
     ],
     "language": "python",
     "metadata": {},
     "outputs": [
      {
       "output_type": "stream",
       "stream": "stdout",
       "text": [
        "ffmpeg version 2.2.1 Copyright (c) 2000-2014 the FFmpeg developers\r\n",
        "  built on Apr 10 2014 16:26:13 with gcc 4.8.2 (GCC) 20140206 (prerelease)\r\n",
        "  configuration: --prefix=/usr --disable-debug --disable-static --enable-avresample --enable-dxva2 --enable-fontconfig --enable-gnutls --enable-gpl --enable-libass --enable-libbluray --enable-libfreetype --enable-libgsm --enable-libmodplug --enable-libmp3lame --enable-libopencore_amrnb --enable-libopencore_amrwb --enable-libopenjpeg --enable-libopus --enable-libpulse --enable-librtmp --enable-libschroedinger --enable-libspeex --enable-libtheora --enable-libv4l2 --enable-libvorbis --enable-libvpx --enable-libx264 --enable-libx265 --enable-libxvid --enable-pic --enable-postproc --enable-runtime-cpudetect --enable-shared --enable-swresample --enable-vdpau --enable-version3 --enable-x11grab\r\n",
        "  libavutil      52. 66.100 / 52. 66.100\r\n",
        "  libavcodec     55. 52.102 / 55. 52.102\r\n",
        "  libavformat    55. 33.100 / 55. 33.100\r\n",
        "  libavdevice    55. 10.100 / 55. 10.100\r\n",
        "  libavfilter     4.  2.100 /  4.  2.100\r\n",
        "  libavresample   1.  2.  0 /  1.  2.  0\r\n",
        "  libswscale      2.  5.102 /  2.  5.102\r\n",
        "  libswresample   0. 18.100 /  0. 18.100\r\n",
        "  libpostproc    52.  3.100 / 52.  3.100\r\n"
       ]
      },
      {
       "output_type": "stream",
       "stream": "stdout",
       "text": [
        "Input #0, image2, from '../plots/animation/%03d.png':\r\n",
        "  Duration: 00:00:22.00, start: 0.000000, bitrate: N/A\r\n",
        "    Stream #0:0: Video: png, rgba, 800x800 [SAR 7874:7874 DAR 1:1], 25 fps, 25 tbr, 25 tbn, 25 tbc\r\n",
        "\u001b[1;36m[libx264 @ 0x11db500] \u001b[0musing SAR=1/1\r\n",
        "\u001b[1;36m[libx264 @ 0x11db500] \u001b[0musing cpu capabilities: MMX2 SSE2Fast SSSE3 SSE4.2\r\n",
        "\u001b[1;36m[libx264 @ 0x11db500] \u001b[0mprofile High, level 3.1\r\n",
        "\u001b[1;36m[libx264 @ 0x11db500] \u001b[0m264 - core 142 r2397 aff928d - H.264/MPEG-4 AVC codec - Copyleft 2003-2014 - http://www.videolan.org/x264.html - options: cabac=1 ref=3 deblock=1:0:0 analyse=0x3:0x113 me=hex subme=7 psy=1 psy_rd=1.00:0.00 mixed_ref=1 me_range=16 chroma_me=1 trellis=1 8x8dct=1 cqm=0 deadzone=21,11 fast_pskip=1 chroma_qp_offset=-2 threads=6 lookahead_threads=1 sliced_threads=0 nr=0 decimate=1 interlaced=0 bluray_compat=0 constrained_intra=0 bframes=3 b_pyramid=2 b_adapt=1 b_bias=0 direct=1 weightb=1 open_gop=0 weightp=2 keyint=250 keyint_min=25 scenecut=40 intra_refresh=0 rc_lookahead=40 rc=crf mbtree=1 crf=23.0 qcomp=0.60 qpmin=0 qpmax=69 qpstep=4 ip_ratio=1.40 aq=1:1.00\r\n",
        "Output #0, mp4, to '../plots/animation/out.mp4':\r\n",
        "  Metadata:\r\n",
        "    encoder         : Lavf55.33.100\r\n",
        "    Stream #0:0: Video: h264 (libx264) ([33][0][0][0] / 0x0021), yuv420p, 800x800 [SAR 1:1 DAR 1:1], q=-1--1, 15360 tbn, 30 tbc\r\n",
        "Stream mapping:\r\n",
        "  Stream #0:0 -> #0:0 (png -> libx264)\r\n",
        "Press [q] to stop, [?] for help\r\n"
       ]
      },
      {
       "output_type": "stream",
       "stream": "stdout",
       "text": [
        "frame=   47 fps=0.0 q=0.0 size=       0kB time=00:00:00.00 bitrate=N/A    \r"
       ]
      },
      {
       "output_type": "stream",
       "stream": "stdout",
       "text": [
        "frame=   85 fps= 82 q=29.0 size=      30kB time=00:00:01.10 bitrate= 222.1kbits/s    \r"
       ]
      },
      {
       "output_type": "stream",
       "stream": "stdout",
       "text": [
        "frame=  121 fps= 79 q=29.0 size=      45kB time=00:00:02.30 bitrate= 161.4kbits/s    \r"
       ]
      },
      {
       "output_type": "stream",
       "stream": "stdout",
       "text": [
        "frame=  159 fps= 78 q=29.0 size=      58kB time=00:00:03.56 bitrate= 133.3kbits/s    \r"
       ]
      },
      {
       "output_type": "stream",
       "stream": "stdout",
       "text": [
        "frame=  199 fps= 78 q=29.0 size=      62kB time=00:00:04.90 bitrate= 103.9kbits/s    \r"
       ]
      },
      {
       "output_type": "stream",
       "stream": "stdout",
       "text": [
        "frame=  235 fps= 77 q=29.0 size=      78kB time=00:00:06.10 bitrate= 104.9kbits/s    \r"
       ]
      },
      {
       "output_type": "stream",
       "stream": "stdout",
       "text": [
        "frame=  272 fps= 77 q=29.0 size=      93kB time=00:00:07.33 bitrate= 103.7kbits/s    \r"
       ]
      },
      {
       "output_type": "stream",
       "stream": "stdout",
       "text": [
        "frame=  310 fps= 76 q=29.0 size=     124kB time=00:00:08.60 bitrate= 118.6kbits/s    \r"
       ]
      },
      {
       "output_type": "stream",
       "stream": "stdout",
       "text": [
        "frame=  349 fps= 76 q=29.0 size=     138kB time=00:00:09.90 bitrate= 114.3kbits/s    \r"
       ]
      },
      {
       "output_type": "stream",
       "stream": "stdout",
       "text": [
        "frame=  387 fps= 76 q=29.0 size=     154kB time=00:00:11.16 bitrate= 112.7kbits/s    \r"
       ]
      },
      {
       "output_type": "stream",
       "stream": "stdout",
       "text": [
        "frame=  425 fps= 76 q=29.0 size=     156kB time=00:00:12.43 bitrate= 102.6kbits/s    \r"
       ]
      },
      {
       "output_type": "stream",
       "stream": "stdout",
       "text": [
        "frame=  463 fps= 76 q=29.0 size=     172kB time=00:00:13.70 bitrate= 102.6kbits/s    \r"
       ]
      },
      {
       "output_type": "stream",
       "stream": "stdout",
       "text": [
        "frame=  499 fps= 76 q=29.0 size=     187kB time=00:00:14.90 bitrate= 102.6kbits/s    \r"
       ]
      },
      {
       "output_type": "stream",
       "stream": "stdout",
       "text": [
        "frame=  537 fps= 76 q=29.0 size=     189kB time=00:00:16.16 bitrate=  95.7kbits/s    \r"
       ]
      },
      {
       "output_type": "stream",
       "stream": "stdout",
       "text": [
        "frame=  550 fps= 73 q=-1.0 Lsize=     251kB time=00:00:18.26 bitrate= 112.4kbits/s    \r",
        "\r\n",
        "video:244kB audio:0kB subtitle:0 data:0 global headers:0kB muxing overhead 2.946554%\r\n",
        "\u001b[1;36m[libx264 @ 0x11db500] \u001b[0mframe I:3     Avg QP:19.37  size: 28076\r\n",
        "\u001b[1;36m[libx264 @ 0x11db500] \u001b[0mframe P:149   Avg QP:15.08  size:   776\r\n",
        "\u001b[1;36m[libx264 @ 0x11db500] \u001b[0mframe B:398   Avg QP:14.62  size:   123\r\n",
        "\u001b[1;36m[libx264 @ 0x11db500] \u001b[0mconsecutive B-frames:  3.3%  0.4%  1.1% 95.3%\r\n",
        "\u001b[1;36m[libx264 @ 0x11db500] \u001b[0mmb I  I16..4: 31.5% 42.7% 25.8%\r\n",
        "\u001b[1;36m[libx264 @ 0x11db500] \u001b[0mmb P  I16..4:  0.4%  0.3%  0.4%  P16..4:  0.7%  0.3%  0.1%  0.0%  0.0%    skip:97.8%\r\n",
        "\u001b[1;36m[libx264 @ 0x11db500] \u001b[0mmb B  I16..4:  0.1%  0.0%  0.0%  B16..8:  1.5%  0.1%  0.0%  direct: 0.0%  skip:98.4%  L0:59.2% L1:40.6% BI: 0.1%\r\n",
        "\u001b[1;36m[libx264 @ 0x11db500] \u001b[0m8x8 transform intra:35.8% inter:12.6%\r\n",
        "\u001b[1;36m[libx264 @ 0x11db500] \u001b[0mcoded y,uvDC,uvAC intra: 14.1% 19.5% 18.3% inter: 0.1% 0.2% 0.2%\r\n",
        "\u001b[1;36m[libx264 @ 0x11db500] \u001b[0mi16 v,h,dc,p: 77% 21%  2%  0%\r\n",
        "\u001b[1;36m[libx264 @ 0x11db500] \u001b[0mi8 v,h,dc,ddl,ddr,vr,hd,vl,hu: 54% 13% 32%  0%  0%  0%  0%  0%  0%\r\n",
        "\u001b[1;36m[libx264 @ 0x11db500] \u001b[0mi4 v,h,dc,ddl,ddr,vr,hd,vl,hu: 59% 17% 15%  1%  2%  2%  2%  1%  1%\r\n",
        "\u001b[1;36m[libx264 @ 0x11db500] \u001b[0mi8c dc,h,v,p: 74%  4% 22%  0%\r\n",
        "\u001b[1;36m[libx264 @ 0x11db500] \u001b[0mWeighted P-Frames: Y:0.0% UV:0.0%\r\n",
        "\u001b[1;36m[libx264 @ 0x11db500] \u001b[0mref P L0: 76.1%  3.3% 15.7%  5.0%\r\n",
        "\u001b[1;36m[libx264 @ 0x11db500] \u001b[0mref B L0: 59.1% 39.3%  1.6%\r\n",
        "\u001b[1;36m[libx264 @ 0x11db500] \u001b[0mref B L1: 98.1%  1.9%\r\n",
        "\u001b[1;36m[libx264 @ 0x11db500] \u001b[0mkb/s:108.52\r\n"
       ]
      }
     ],
     "prompt_number": 31
    },
    {
     "cell_type": "markdown",
     "metadata": {},
     "source": [
      "# Gaussian line kernel"
     ]
    },
    {
     "cell_type": "code",
     "collapsed": false,
     "input": [
      "def k_3_2(r, l):\n",
      "    return (1 + np.sqrt(3) * r/l) * np.exp(-np.sqrt(3) * r/l)\n",
      "\n",
      "@np.vectorize\n",
      "def hann(r, r0):\n",
      "    if np.abs(r) < r0:\n",
      "        return 0.5 + 0.5 * np.cos(np.pi * r/r0)\n",
      "    else:\n",
      "        return 0\n",
      "\n",
      "def k_3_2_hann(r, l):\n",
      "    return k_3_2(r, l) * hann(r, 6 * l)    "
     ],
     "language": "python",
     "metadata": {},
     "outputs": [],
     "prompt_number": 3
    },
    {
     "cell_type": "code",
     "collapsed": false,
     "input": [
      "def gauss_func(x0i, x1i, x0v=None, x1v=None, amp=None, mu=None, sigma=None):\n",
      "    x0 = x0v[x0i]\n",
      "    x1 = x1v[x1i]\n",
      "    return amp**2/(2 * np.pi * sigma**2) * np.exp(-((x0 - mu)**2 + (x1 - mu)**2)/(2 * sigma**2))\n",
      "\n",
      "def k_3_2_func(x0i, x1i, x0v=None, x1v=None, amp=None, l=None):\n",
      "    x0 = x0v[x0i]\n",
      "    x1 = x1v[x1i]\n",
      "    r = np.abs(x1 - x0)\n",
      "    return amp**2 * k_3_2(r, l)\n",
      "\n",
      "def k_3_2_hann_func(x0i, x1i, x0v=None, x1v=None, amp=None, l=None):\n",
      "    x0 = x0v[x0i]\n",
      "    x1 = x1v[x1i]\n",
      "    r = np.abs(x1 - x0)\n",
      "    return amp**2 * k_3_2_hann(r, l)\n",
      "\n",
      "def gauss_hann_func(x0i, x1i, x0v=None, x1v=None, amp=None, mu=None, sigma=None):\n",
      "    x0 = x0v[x0i]\n",
      "    x1 = x1v[x1i]\n",
      "    r = np.abs(x1 - x0)\n",
      "    return hann(r, 4 * sigma) * amp**2/(2 * np.pi * sigma**2) * np.exp(-((x0 - mu)**2 + (x1 - mu)**2)/(2 * sigma**2))"
     ],
     "language": "python",
     "metadata": {},
     "outputs": [],
     "prompt_number": 4
    },
    {
     "cell_type": "code",
     "collapsed": false,
     "input": [
      "spec2 = DataSpectrum.open(\"WASP14/WASP-14_2009-06-15_04h13m57s_cb.spec.flux\", orders=[22])\n",
      "fl23 = spec2.fls[0]\n",
      "sigma23 = spec2.sigmas[0]\n",
      "\n",
      "median_fl23 = np.median(fl23)\n",
      "\n",
      "fl23n = fl23/median_fl23\n",
      "sigma23n = sigma23/median_fl23\n",
      "\n",
      "#Model\n",
      "wl23 = np.load(\"../residuals/wlsz23.npy\")[0]\n",
      "f23 = np.load(\"../residuals/fl23.npy\")[0]/median_fl23\n",
      "\n",
      "ind = (wl23 > 5188.1) & (wl23 < 5190.2)\n",
      "wl23 = wl23[ind]\n",
      "f23 = f23[ind]\n",
      "fl23n = fl23n[ind]\n",
      "sigma23n = sigma23n[ind]\n",
      "\n",
      "r23 = (fl23n - f23)\n",
      "\n",
      "N = len(wl23)"
     ],
     "language": "python",
     "metadata": {},
     "outputs": [],
     "prompt_number": 5
    },
    {
     "cell_type": "code",
     "collapsed": false,
     "input": [
      "mat_3_2 = np.fromfunction(k_3_2_hann_func, (N,N), x0v=wl23, x1v=wl23, amp=0.028, l=0.14, dtype=np.int) #matrix from Matern kernel\n",
      "mat_gauss = np.fromfunction(gauss_hann_func, (N,N), x0v=wl23, x1v=wl23, amp=0.09, mu=5188.84, sigma=0.1, dtype=np.int) #matrix from Matern kernel\n",
      "mat = mat_3_2 + mat_gauss + sigma23n**2 * np.eye(N) #add in the per-pixel noise"
     ],
     "language": "python",
     "metadata": {},
     "outputs": [],
     "prompt_number": 6
    },
    {
     "cell_type": "code",
     "collapsed": false,
     "input": [
      "from matplotlib.colors import LogNorm\n",
      "fig = plt.figure(figsize=(3.5,3.5))\n",
      "ax = fig.add_subplot(111)\n",
      "mi, ma = wl23[0], wl23[-1]\n",
      "img = ax.imshow(mat + 1e-4, origin=\"upper\", interpolation=\"none\", extent=[mi, ma, ma, mi], cmap=plt.cm.OrRd, norm=LogNorm(vmin=0.0001, clip=True))\n",
      "ax.xaxis.set_major_formatter(FSF(\"%.1f\"))\n",
      "\n",
      "labels = ax.get_xticklabels()\n",
      "for label in labels:\n",
      "    label.set_rotation(40)\n",
      "\n",
      "ax.yaxis.set_major_formatter(FSF(\"%.1f\"))\n",
      "\n",
      "\n",
      "ax.set_xlabel(r\"$\\lambda$ [\\AA]\")\n",
      "ax.set_ylabel(r\"$\\lambda$ [\\AA]\")\n",
      "\n",
      "cax = fig.add_axes([0.85, 0.2, 0.03, 0.65])\n",
      "cb = fig.colorbar(img, cax=cax)\n",
      "\n",
      "#Set two colorbars in an image? \n",
      "#ticks = np.linspace(0, 1e-3, num=6)\n",
      "#cb.set_ticks(ticks)\n",
      "\n",
      "fig.suptitle(r\"$\\sigma_{ij}$\",x=0.76,y=0.9)\n",
      "\n",
      "fig.subplots_adjust(left=0.24, bottom=0.13, top=0.97, right=0.8)\n",
      "fig.savefig(\"../plots/gauss_matrix.pdf\")\n",
      "fig.savefig(\"../plots/gauss_matrix.png\")\n",
      "plt.show()"
     ],
     "language": "python",
     "metadata": {},
     "outputs": [],
     "prompt_number": 18
    },
    {
     "cell_type": "markdown",
     "metadata": {},
     "source": [
      "# Draws from the Gaussian line kernel"
     ]
    },
    {
     "cell_type": "code",
     "collapsed": false,
     "input": [
      "fig = plt.figure()\n",
      "ax = fig.add_subplot(111)\n",
      "\n",
      "for i in range(20):\n",
      "    fl_fake = np.random.multivariate_normal(np.zeros((N,)), mat)\n",
      "    ax.plot(wl23, fl_fake, \"k\", lw=0.2)\n",
      "\n",
      "\n",
      "ax.plot(wl23, r23)\n",
      "plt.show()"
     ],
     "language": "python",
     "metadata": {},
     "outputs": [],
     "prompt_number": 17
    },
    {
     "cell_type": "code",
     "collapsed": false,
     "input": [
      "gauss = 0.09 / (np.sqrt(2 * np.pi) * 0.1) * np.exp(-0.5 * (wl23 - 5188.8)**2/(0.01))\n",
      "plt.plot(wl23, gauss)\n",
      "plt.show()"
     ],
     "language": "python",
     "metadata": {},
     "outputs": [],
     "prompt_number": 23
    },
    {
     "cell_type": "code",
     "collapsed": false,
     "input": [
      "fl_fake1 = np.random.multivariate_normal(np.zeros((N,)), mat)"
     ],
     "language": "python",
     "metadata": {},
     "outputs": [],
     "prompt_number": 37
    },
    {
     "cell_type": "code",
     "collapsed": false,
     "input": [
      "fl_fake2 = np.random.multivariate_normal(np.zeros((N,)), mat)"
     ],
     "language": "python",
     "metadata": {},
     "outputs": [],
     "prompt_number": 38
    },
    {
     "cell_type": "code",
     "collapsed": false,
     "input": [
      "fl_fake3 = np.random.multivariate_normal(np.zeros((N,)), mat)"
     ],
     "language": "python",
     "metadata": {},
     "outputs": [],
     "prompt_number": 28
    },
    {
     "cell_type": "code",
     "collapsed": false,
     "input": [
      "fig, ax = plt.subplots(nrows=4, sharex=True, figsize=(3.2, 3.2))\n",
      "\n",
      "right = 5189.4\n",
      "top = -0.5\n",
      "ax[0].plot(wl23, r23, \"k\", label=\"residuals\", drawstyle=\"steps-mid\")\n",
      "ax[0].text(right, top, \"residuals\")\n",
      "\n",
      "\n",
      "ax[1].plot(wl23, fl_fake1, \"b\", drawstyle=\"steps-mid\", label=\"random draw\")\n",
      "ax[1].text(right, top, \"random draw\")\n",
      "\n",
      "ax[2].plot(wl23, fl_fake2, \"b\", drawstyle=\"steps-mid\")\n",
      "ax[2].text(right, top, \"random draw\")\n",
      "\n",
      "ax[3].plot(wl23, fl_fake3, \"b\", drawstyle=\"steps-mid\")\n",
      "ax[3].text(right, top, \"random draw\")\n",
      "\n",
      "for j in range(3):\n",
      "    ax[j + 1].yaxis.set_ticklabels([])\n",
      "    \n",
      "for j in range(4):\n",
      "    ax[j].yaxis.set_major_locator(MaxNLocator(nbins=5))\n",
      "    ax[j].set_ylim(-0.6,0.3)\n",
      "    \n",
      "\n",
      "ax[2].set_ylabel(r\"$\\propto f_\\lambda$\")\n",
      "ax[-1].set_xlabel(r\"$\\lambda$ [\\AA]\")\n",
      "ax[-1].xaxis.set_major_formatter(FSF(\"%.1f\"))\n",
      "ax[-1].xaxis.set_major_locator(MultipleLocator(0.5))\n",
      "ax[-1].set_xlim(5188.1, 5190.2)\n",
      "\n",
      "fig.subplots_adjust(hspace=0., right=0.98, top=0.95, bottom=0.15, left=0.15)\n",
      "fig.savefig(\"../plots/gauss_draw.pdf\")\n",
      "fig.savefig(\"../plots/gauss_draw.png\")\n",
      "plt.show()"
     ],
     "language": "python",
     "metadata": {},
     "outputs": [],
     "prompt_number": 44
    },
    {
     "cell_type": "markdown",
     "metadata": {},
     "source": [
      "# Gaussian line movie"
     ]
    },
    {
     "cell_type": "code",
     "collapsed": false,
     "input": [
      "# First set up the figure, the axis, and the plot element we want to animate\n",
      "fig, ax = plt.subplots(nrows=2, figsize=(4,4), sharex=True, sharey=True)\n",
      "\n",
      "ax[0].plot(wl23, r23, \"k\", label=\"residuals\", drawstyle=\"steps-mid\")\n",
      "ax[0].set_title(\"data residuals\")\n",
      "\n",
      "\n",
      "#Function to generate interpolated spectra\n",
      "container = np.empty((2, len(wl23)))\n",
      "def interp_spec(spec0, spec1, percentage):\n",
      "    '''\n",
      "    Return the interpolated spectrum between two spectra, weighted by\n",
      "    the percentage (out of 1) of elapsed time between spectra.\n",
      "    '''\n",
      "    container[0, :] = spec0 * (1 - percentage)\n",
      "    container[1, :] = spec1 * percentage\n",
      "    return np.sum(container, axis=0)\n",
      "\n",
      "ndraws = 15 #How many random spectra to draw\n",
      "trans = np.concatenate((np.zeros((15,)), np.linspace(0, 1, num=5)))\n",
      "print(trans)\n",
      "ntrans = len(trans) \n",
      "\n",
      "#Create an array to hold all of the spectra\n",
      "#starts with 1 + (ndraws - 1) * ntrans \n",
      "shape = (1 + ndraws * ntrans, len(wl23))\n",
      "print(\"shape is\", shape)\n",
      "all_spectra = np.empty(shape)\n",
      "#Fill it with fake draws and transitions between them\n",
      "\n",
      "fake0 = np.random.multivariate_normal(np.zeros((N,)), mat)\n",
      "all_spectra[0, :] = fake0\n",
      "counter = 1\n",
      "for draw in range(ndraws):\n",
      "    print(\"draw #\", draw)\n",
      "    fake1 = np.random.multivariate_normal(np.zeros((N,)), mat)\n",
      "    for tran in trans:\n",
      "        (\"tran percentage\", tran)\n",
      "        all_spectra[counter, :] = interp_spec(fake0, fake1, tran)\n",
      "        counter += 1\n",
      "    fake0 = fake1\n",
      "        \n",
      "\n",
      "line, = ax[1].plot(wl23, fake0, \"b\", drawstyle=\"steps-mid\")\n",
      "\n",
      "ax[1].set_title(\"fake residuals\")\n",
      "ax[-1].set_xlabel(r\"$\\lambda$ [\\AA]\")\n",
      "ax[-1].xaxis.set_major_formatter(FSF(\"%.1f\"))\n",
      "ax[-1].xaxis.set_major_locator(MultipleLocator(0.5))\n",
      "ax[-1].set_ylim(-0.55, 0.55)\n",
      "ax[-1].set_xlim(5188.2, 5190)\n",
      "fig.subplots_adjust(top=0.93, bottom=0.12, right=0.97)\n",
      "\n",
      "for i,spec in enumerate(all_spectra[1:]):\n",
      "    line.set_ydata(spec)\n",
      "    \n",
      "    fig.canvas.draw_idle()\n",
      "    fig.savefig(\"../plots/animation/line/{:0>3d}.png\".format(i))"
     ],
     "language": "python",
     "metadata": {},
     "outputs": [
      {
       "output_type": "stream",
       "stream": "stdout",
       "text": [
        "[ 0.    0.    0.    0.    0.    0.    0.    0.    0.    0.    0.    0.    0.\n",
        "  0.    0.    0.    0.25  0.5   0.75  1.  ]\n",
        "shape is (301, 47)\n",
        "draw # 0\n",
        "draw # 1\n",
        "draw # 2\n",
        "draw # 3\n",
        "draw # 4\n",
        "draw # 5\n",
        "draw # 6\n",
        "draw # 7\n",
        "draw # 8\n",
        "draw # 9\n",
        "draw # 10\n",
        "draw # 11\n",
        "draw # 12\n",
        "draw # 13\n",
        "draw # 14\n"
       ]
      }
     ],
     "prompt_number": 52
    },
    {
     "cell_type": "code",
     "collapsed": false,
     "input": [
      "#Generating movies using ffmpeg\n",
      "!ffmpeg -y -r 30 -i ../plots/animation/line/%03d.png -vcodec libx264 -r 30 -pix_fmt yuv420p ../plots/animation/line/line_animation.mp4 "
     ],
     "language": "python",
     "metadata": {},
     "outputs": [
      {
       "output_type": "stream",
       "stream": "stdout",
       "text": [
        "ffmpeg version 2.2.1 Copyright (c) 2000-2014 the FFmpeg developers\r\n",
        "  built on Apr 10 2014 16:26:13 with gcc 4.8.2 (GCC) 20140206 (prerelease)\r\n",
        "  configuration: --prefix=/usr --disable-debug --disable-static --enable-avresample --enable-dxva2 --enable-fontconfig --enable-gnutls --enable-gpl --enable-libass --enable-libbluray --enable-libfreetype --enable-libgsm --enable-libmodplug --enable-libmp3lame --enable-libopencore_amrnb --enable-libopencore_amrwb --enable-libopenjpeg --enable-libopus --enable-libpulse --enable-librtmp --enable-libschroedinger --enable-libspeex --enable-libtheora --enable-libv4l2 --enable-libvorbis --enable-libvpx --enable-libx264 --enable-libx265 --enable-libxvid --enable-pic --enable-postproc --enable-runtime-cpudetect --enable-shared --enable-swresample --enable-vdpau --enable-version3 --enable-x11grab\r\n",
        "  libavutil      52. 66.100 / 52. 66.100\r\n",
        "  libavcodec     55. 52.102 / 55. 52.102\r\n",
        "  libavformat    55. 33.100 / 55. 33.100\r\n",
        "  libavdevice    55. 10.100 / 55. 10.100\r\n",
        "  libavfilter     4.  2.100 /  4.  2.100\r\n",
        "  libavresample   1.  2.  0 /  1.  2.  0\r\n",
        "  libswscale      2.  5.102 /  2.  5.102\r\n",
        "  libswresample   0. 18.100 /  0. 18.100\r\n",
        "  libpostproc    52.  3.100 / 52.  3.100\r\n"
       ]
      },
      {
       "output_type": "stream",
       "stream": "stdout",
       "text": [
        "Input #0, image2, from '../plots/animation/line/%03d.png':\r\n",
        "  Duration: 00:00:12.00, start: 0.000000, bitrate: N/A\r\n",
        "    Stream #0:0: Video: png, rgba, 800x800 [SAR 7874:7874 DAR 1:1], 25 fps, 25 tbr, 25 tbn, 25 tbc\r\n",
        "\u001b[1;36m[libx264 @ 0x15abfc0] \u001b[0musing SAR=1/1\r\n",
        "\u001b[1;36m[libx264 @ 0x15abfc0] \u001b[0musing cpu capabilities: MMX2 SSE2Fast SSSE3 SSE4.2\r\n",
        "\u001b[1;36m[libx264 @ 0x15abfc0] \u001b[0mprofile High, level 3.1\r\n",
        "\u001b[1;36m[libx264 @ 0x15abfc0] \u001b[0m264 - core 142 r2397 aff928d - H.264/MPEG-4 AVC codec - Copyleft 2003-2014 - http://www.videolan.org/x264.html - options: cabac=1 ref=3 deblock=1:0:0 analyse=0x3:0x113 me=hex subme=7 psy=1 psy_rd=1.00:0.00 mixed_ref=1 me_range=16 chroma_me=1 trellis=1 8x8dct=1 cqm=0 deadzone=21,11 fast_pskip=1 chroma_qp_offset=-2 threads=6 lookahead_threads=1 sliced_threads=0 nr=0 decimate=1 interlaced=0 bluray_compat=0 constrained_intra=0 bframes=3 b_pyramid=2 b_adapt=1 b_bias=0 direct=1 weightb=1 open_gop=0 weightp=2 keyint=250 keyint_min=25 scenecut=40 intra_refresh=0 rc_lookahead=40 rc=crf mbtree=1 crf=23.0 qcomp=0.60 qpmin=0 qpmax=69 qpstep=4 ip_ratio=1.40 aq=1:1.00\r\n",
        "Output #0, mp4, to '../plots/animation/line/line_animation.mp4':\r\n",
        "  Metadata:\r\n",
        "    encoder         : Lavf55.33.100\r\n",
        "    Stream #0:0: Video: h264 (libx264) ([33][0][0][0] / 0x0021), yuv420p, 800x800 [SAR 1:1 DAR 1:1], q=-1--1, 15360 tbn, 30 tbc\r\n",
        "Stream mapping:\r\n",
        "  Stream #0:0 -> #0:0 (png -> libx264)\r\n",
        "Press [q] to stop, [?] for help\r\n"
       ]
      },
      {
       "output_type": "stream",
       "stream": "stdout",
       "text": [
        "frame=   47 fps=0.0 q=0.0 size=       0kB time=00:00:00.00 bitrate=N/A    \r"
       ]
      },
      {
       "output_type": "stream",
       "stream": "stdout",
       "text": [
        "frame=   85 fps= 84 q=29.0 size=      26kB time=00:00:01.10 bitrate= 196.3kbits/s    \r"
       ]
      },
      {
       "output_type": "stream",
       "stream": "stdout",
       "text": [
        "frame=  125 fps= 83 q=29.0 size=      34kB time=00:00:02.43 bitrate= 114.5kbits/s    \r"
       ]
      },
      {
       "output_type": "stream",
       "stream": "stdout",
       "text": [
        "frame=  166 fps= 82 q=29.0 size=      44kB time=00:00:03.80 bitrate=  95.3kbits/s    \r"
       ]
      },
      {
       "output_type": "stream",
       "stream": "stdout",
       "text": [
        "frame=  206 fps= 82 q=29.0 size=      55kB time=00:00:05.13 bitrate=  88.2kbits/s    \r"
       ]
      },
      {
       "output_type": "stream",
       "stream": "stdout",
       "text": [
        "frame=  246 fps= 81 q=29.0 size=      64kB time=00:00:06.46 bitrate=  81.0kbits/s    \r"
       ]
      },
      {
       "output_type": "stream",
       "stream": "stdout",
       "text": [
        "frame=  288 fps= 81 q=29.0 size=      77kB time=00:00:07.86 bitrate=  80.7kbits/s    \r"
       ]
      },
      {
       "output_type": "stream",
       "stream": "stdout",
       "text": [
        "frame=  300 fps= 76 q=-1.0 Lsize=     118kB time=00:00:09.93 bitrate=  97.3kbits/s    \r",
        "\r\n",
        "video:114kB audio:0kB subtitle:0 data:0 global headers:0kB muxing overhead 3.675561%\r\n",
        "\u001b[1;36m[libx264 @ 0x15abfc0] \u001b[0mframe I:2     Avg QP:17.85  size: 18080\r\n",
        "\u001b[1;36m[libx264 @ 0x15abfc0] \u001b[0mframe P:96    Avg QP:13.59  size:   617\r\n",
        "\u001b[1;36m[libx264 @ 0x15abfc0] \u001b[0mframe B:202   Avg QP:14.51  size:   101\r\n",
        "\u001b[1;36m[libx264 @ 0x15abfc0] \u001b[0mconsecutive B-frames: 10.0%  0.7%  0.0% 89.3%\r\n",
        "\u001b[1;36m[libx264 @ 0x15abfc0] \u001b[0mmb I  I16..4: 36.0% 46.5% 17.6%\r\n",
        "\u001b[1;36m[libx264 @ 0x15abfc0] \u001b[0mmb P  I16..4:  0.3%  0.3%  0.2%  P16..4:  1.1%  0.4%  0.1%  0.0%  0.0%    skip:97.6%\r\n",
        "\u001b[1;36m[libx264 @ 0x15abfc0] \u001b[0mmb B  I16..4:  0.0%  0.0%  0.0%  B16..8:  1.0%  0.1%  0.0%  direct: 0.0%  skip:98.8%  L0:52.6% L1:46.7% BI: 0.8%\r\n",
        "\u001b[1;36m[libx264 @ 0x15abfc0] \u001b[0m8x8 transform intra:42.5% inter:5.6%\r\n",
        "\u001b[1;36m[libx264 @ 0x15abfc0] \u001b[0mcoded y,uvDC,uvAC intra: 10.0% 14.8% 13.9% inter: 0.1% 0.3% 0.3%\r\n",
        "\u001b[1;36m[libx264 @ 0x15abfc0] \u001b[0mi16 v,h,dc,p: 64% 34%  2%  0%\r\n",
        "\u001b[1;36m[libx264 @ 0x15abfc0] \u001b[0mi8 v,h,dc,ddl,ddr,vr,hd,vl,hu: 57%  8% 35%  0%  0%  0%  0%  0%  0%\r\n",
        "\u001b[1;36m[libx264 @ 0x15abfc0] \u001b[0mi4 v,h,dc,ddl,ddr,vr,hd,vl,hu: 37% 33% 21%  1%  2%  2%  2%  1%  1%\r\n",
        "\u001b[1;36m[libx264 @ 0x15abfc0] \u001b[0mi8c dc,h,v,p: 83% 11%  6%  0%\r\n",
        "\u001b[1;36m[libx264 @ 0x15abfc0] \u001b[0mWeighted P-Frames: Y:0.0% UV:0.0%\r\n",
        "\u001b[1;36m[libx264 @ 0x15abfc0] \u001b[0mref P L0: 80.1%  1.5% 14.5%  4.0%\r\n",
        "\u001b[1;36m[libx264 @ 0x15abfc0] \u001b[0mref B L0: 70.2% 26.7%  3.2%\r\n",
        "\u001b[1;36m[libx264 @ 0x15abfc0] \u001b[0mref B L1: 97.8%  2.2%\r\n",
        "\u001b[1;36m[libx264 @ 0x15abfc0] \u001b[0mkb/s:92.60\r\n"
       ]
      }
     ],
     "prompt_number": 53
    },
    {
     "cell_type": "markdown",
     "metadata": {},
     "source": [
      "# M dwarf covariance kernel"
     ]
    },
    {
     "cell_type": "code",
     "collapsed": false,
     "input": [
      "def exp_func(x0i, x1i, x0v=None, x1v=None, h=None, amp=None, mu=None, sigma=None):\n",
      "    x0 = x0v[x0i]\n",
      "    x1 = x1v[x1i]\n",
      "    return amp**2/(2 * np.pi * sigma**2) * np.exp(-((x0 - mu)**2 + (x1 - mu)**2)/(2 * sigma**2)) * np.exp(-0.5 * (x0 - x1)**2/h**2)"
     ],
     "language": "python",
     "metadata": {},
     "outputs": []
    },
    {
     "cell_type": "markdown",
     "metadata": {},
     "source": [
      "# Matern kernels with a Hanning window function\n",
      "\n"
     ]
    },
    {
     "cell_type": "code",
     "collapsed": false,
     "input": [
      "fig = plt.figure()\n",
      "ax = fig.add_subplot(111)\n",
      "rs = np.linspace(0,10,num=100)\n",
      "ax.semilogy(rs, k_3_2(rs, 1), label=r\"$k_{3/2}$\")\n",
      "ax.semilogy(rs, hann(rs, 6), label=\"Hann\")\n",
      "ax.semilogy(rs, k_3_2(rs, 1)* hann(rs, 6), label=\"comb\")\n",
      "ax.legend()\n",
      "ax.set_xlim(2, 6)\n",
      "ax.set_ylim(0, 0.2)\n",
      "plt.show()"
     ],
     "language": "python",
     "metadata": {},
     "outputs": [
      {
       "metadata": {},
       "output_type": "display_data",
       "png": "[encoded data removed]",
       "text": [
        "<matplotlib.figure.Figure at 0x7f733a8b3950>"
       ]
      }
     ],
     "prompt_number": 9
    },
    {
     "cell_type": "markdown",
     "metadata": {},
     "source": [
      "## Drawing samples from the covariance matrix"
     ]
    },
    {
     "cell_type": "code",
     "collapsed": false,
     "input": [
      "len_in = len(xs)\n",
      "inds = np.arange(len_in)\n",
      "mat_3_2 = np.fromfunction(k_3_2_hann_func, (len_in,len_in), x0v=xs, x1v=xs, amp=0.8, \n",
      "                          l=1.8, dtype=np.int)\n",
      "y_reals = np.random.multivariate_normal(np.zeros((npoints,)), mat_3_2)\n",
      "plt.plot(xs, y_reals, \"k\", lw=0.2)\n",
      "plt.show()"
     ],
     "language": "python",
     "metadata": {},
     "outputs": [
      {
       "ename": "NameError",
       "evalue": "name 'k_3_2_hann_func' is not defined",
       "output_type": "pyerr",
       "traceback": [
        "\u001b[1;31m---------------------------------------------------------------------------\u001b[0m\n\u001b[1;31mNameError\u001b[0m                                 Traceback (most recent call last)",
        "\u001b[1;32m<ipython-input-5-996410b8bdb9>\u001b[0m in \u001b[0;36m<module>\u001b[1;34m()\u001b[0m\n\u001b[0;32m      1\u001b[0m \u001b[0mlen_in\u001b[0m \u001b[1;33m=\u001b[0m \u001b[0mlen\u001b[0m\u001b[1;33m(\u001b[0m\u001b[0mxs\u001b[0m\u001b[1;33m)\u001b[0m\u001b[1;33m\u001b[0m\u001b[0m\n\u001b[0;32m      2\u001b[0m \u001b[0minds\u001b[0m \u001b[1;33m=\u001b[0m \u001b[0mnp\u001b[0m\u001b[1;33m.\u001b[0m\u001b[0marange\u001b[0m\u001b[1;33m(\u001b[0m\u001b[0mlen_in\u001b[0m\u001b[1;33m)\u001b[0m\u001b[1;33m\u001b[0m\u001b[0m\n\u001b[1;32m----> 3\u001b[1;33m mat_3_2 = np.fromfunction(k_3_2_hann_func, (len_in,len_in), x0v=xs, x1v=xs, amp=0.8, \n\u001b[0m\u001b[0;32m      4\u001b[0m                           l=1.8, dtype=np.int)\n\u001b[0;32m      5\u001b[0m \u001b[0my_reals\u001b[0m \u001b[1;33m=\u001b[0m \u001b[0mnp\u001b[0m\u001b[1;33m.\u001b[0m\u001b[0mrandom\u001b[0m\u001b[1;33m.\u001b[0m\u001b[0mmultivariate_normal\u001b[0m\u001b[1;33m(\u001b[0m\u001b[0mnp\u001b[0m\u001b[1;33m.\u001b[0m\u001b[0mzeros\u001b[0m\u001b[1;33m(\u001b[0m\u001b[1;33m(\u001b[0m\u001b[0mnpoints\u001b[0m\u001b[1;33m,\u001b[0m\u001b[1;33m)\u001b[0m\u001b[1;33m)\u001b[0m\u001b[1;33m,\u001b[0m \u001b[0mmat_3_2\u001b[0m\u001b[1;33m)\u001b[0m\u001b[1;33m\u001b[0m\u001b[0m\n",
        "\u001b[1;31mNameError\u001b[0m: name 'k_3_2_hann_func' is not defined"
       ]
      }
     ],
     "prompt_number": 5
    },
    {
     "cell_type": "code",
     "collapsed": false,
     "input": [
      "fig,ax = plt.subplots(ncols=2, figsize=(8,4))\n",
      "ax[0].imshow(mat_3_2, origin=\"upper\", extent=[-20,20,-20,20])\n",
      "ax[0].set_xlabel(r\"$x$\")\n",
      "ax[0].set_title(\"covariance\")\n",
      "ax[1].plot(xs, y_reals, \"k\", lw=0.4)\n",
      "ax[1].set_title(\"sample\")\n",
      "ax[1].set_xlabel(r\"$x$\")\n",
      "ax[1].set_ylabel(r\"$y$\")\n",
      "ax[1].set_ylim(-2.5, 2.5)\n",
      "fig.subplots_adjust(left=0.05, right=0.95, wspace=0.25)\n",
      "fig.savefig(\"../plots/matern_matrix.png\")\n",
      "fig.savefig(\"../plots/matern_matrix.eps\")\n",
      "#plt.show()"
     ],
     "language": "python",
     "metadata": {},
     "outputs": [],
     "prompt_number": 19
    },
    {
     "cell_type": "markdown",
     "metadata": {},
     "source": [
      "# Sparse Covariance Matrices"
     ]
    },
    {
     "cell_type": "code",
     "collapsed": false,
     "input": [
      "#Matern kernel tapered by a Hann window\n",
      "\n",
      "def sparse_k_3_2(xs, amp, l):\n",
      "    '''\n",
      "    Create a sparse matrix using a Matern kernel tapered by a Hann window.\n",
      "    1. start from the diagonal and keep computing r on the offsets until they are all greater than 6l. \n",
      "    2. Then, calculate k_3_2 on the all the diagonals\n",
      "    3. Initialize a sparse matrix using these diagonals\n",
      "    '''\n",
      "    N = len(xs)\n",
      "    offset = 0\n",
      "    r0 = 6 * l\n",
      "    diags = []\n",
      "    while offset < N:\n",
      "        #Pairwise calculate rs\n",
      "        if offset == 0:\n",
      "            rs = np.zeros_like(xs)\n",
      "        else:\n",
      "            rs = np.abs(xs[offset:] - xs[:-offset])\n",
      "            k = np.empty_like(rs)\n",
      "        if np.min(rs) >= r0:\n",
      "            break\n",
      "        k = (0.5 + 0.5 * np.cos(np.pi * rs/r0)) * amp**2 * (1 + np.sqrt(3) * rs/l) * np.exp(-np.sqrt(3) * rs/l)\n",
      "        k[rs >= r0] = 0\n",
      "        diags.append(k)\n",
      "        offset += 1\n",
      "        \n",
      "    #Mirror the diagonals\n",
      "    front = diags[1:].copy()\n",
      "    front.reverse()\n",
      "    diags = front + diags\n",
      "    offsets = [i for i in range(-offset + 1, offset)]\n",
      "    return sp.diags(diags, offsets, format=\"csc\")"
     ],
     "language": "python",
     "metadata": {},
     "outputs": [],
     "prompt_number": 6
    },
    {
     "cell_type": "code",
     "collapsed": false,
     "input": [
      "#To plot residuals from the Matern matrix on top of the data spectrum\n",
      "\n",
      "model_flux = myOrderModel.get_spectrum()\n",
      "residuals = fl - model_flux\n",
      "\n",
      "fig,ax = plt.subplots(nrows=2, figsize=(4,4), sharex=True)\n",
      "ax[0].plot(wl, fl, label=\"data\")\n",
      "ax[0].plot(wl, model_flux, \"r\", label=\"model\")\n",
      "ax[0].set_ylim(1.e-13, 2.2e-13)\n",
      "ax[0].legend(loc=\"lower right\")\n",
      "ax[1].plot(wl, residuals, label=\"residual\")\n",
      "ax[1].plot(wl_trunc, fl_fake, \"k\", lw=0.4, label=\"sample\")\n",
      "ax[1].legend(loc=\"upper left\")\n",
      "ax[1].set_ylim(-2e-14, 5e-14)\n",
      "ax[-1].set_xlim(5136, 5139)\n",
      "ax[-1].set_ylabel(r\"$f_\\lambda$\")\n",
      "ax[-1].set_xlabel(r\"$\\lambda$ (\\AA)\")\n",
      "fig.subplots_adjust(bottom=0.13, left=0.13, top=0.95, right=0.95)\n",
      "fig.savefig(\"../plots/matern_draw.png\")\n",
      "fig.savefig(\"../plots/matern_draw.svg\")\n",
      "plt.show()"
     ],
     "language": "python",
     "metadata": {},
     "outputs": []
    },
    {
     "cell_type": "code",
     "collapsed": false,
     "input": [
      "ys = np.arange(10)\n",
      "mysparse = sparse_k_3_2(ys, 1, 1) + sp.eye(len(ys))"
     ],
     "language": "python",
     "metadata": {},
     "outputs": [
      {
       "output_type": "stream",
       "stream": "stdout",
       "text": [
        "  (0, 0)\t2.0\n",
        "  (1, 0)\t0.450978896606\n",
        "  (2, 0)\t0.104798512644\n",
        "  (3, 0)\t0.0171566215987\n",
        "  (4, 0)\t0.00194193348553\n",
        "  (5, 0)\t0.000112170968055\n",
        "  (0, 1)\t0.450978896606\n",
        "  (1, 1)\t2.0\n",
        "  (2, 1)\t0.450978896606\n",
        "  (3, 1)\t0.104798512644\n",
        "  (4, 1)\t0.0171566215987\n",
        "  (5, 1)\t0.00194193348553\n",
        "  (6, 1)\t0.000112170968055\n",
        "  (0, 2)\t0.104798512644\n",
        "  (1, 2)\t0.450978896606\n",
        "  (2, 2)\t2.0\n",
        "  (3, 2)\t0.450978896606\n",
        "  (4, 2)\t0.104798512644\n",
        "  (5, 2)\t0.0171566215987\n",
        "  (6, 2)\t0.00194193348553\n",
        "  (7, 2)\t0.000112170968055\n",
        "  (0, 3)\t0.0171566215987\n",
        "  (1, 3)\t0.104798512644\n",
        "  (2, 3)\t0.450978896606\n",
        "  (3, 3)\t2.0\n",
        "  :\t:\n",
        "  (6, 6)\t2.0\n",
        "  (7, 6)\t0.450978896606\n",
        "  (8, 6)\t0.104798512644\n",
        "  (9, 6)\t0.0171566215987\n",
        "  (2, 7)\t0.000112170968055\n",
        "  (3, 7)\t0.00194193348553\n",
        "  (4, 7)\t0.0171566215987\n",
        "  (5, 7)\t0.104798512644\n",
        "  (6, 7)\t0.450978896606\n",
        "  (7, 7)\t2.0\n",
        "  (8, 7)\t0.450978896606\n",
        "  (9, 7)\t0.104798512644\n",
        "  (3, 8)\t0.000112170968055\n",
        "  (4, 8)\t0.00194193348553\n",
        "  (5, 8)\t0.0171566215987\n",
        "  (6, 8)\t0.104798512644\n",
        "  (7, 8)\t0.450978896606\n",
        "  (8, 8)\t2.0\n",
        "  (9, 8)\t0.450978896606\n",
        "  (4, 9)\t0.000112170968055\n",
        "  (5, 9)\t0.00194193348553\n",
        "  (6, 9)\t0.0171566215987\n",
        "  (7, 9)\t0.104798512644\n",
        "  (8, 9)\t0.450978896606\n",
        "  (9, 9)\t2.0\n",
        "  (0, 0)\t10.0\n",
        "  (1, 0)\t2.25489448303\n",
        "  (2, 0)\t0.523992563221\n",
        "  (3, 0)\t0.0857831079937\n",
        "  (4, 0)\t0.00970966742763\n",
        "  (5, 0)\t0.000560854840274\n",
        "  (0, 1)\t2.25489448303\n",
        "  (1, 1)\t10.0\n",
        "  (2, 1)\t2.25489448303\n",
        "  (3, 1)\t0.523992563221\n",
        "  (4, 1)\t0.0857831079937\n",
        "  (5, 1)\t0.00970966742763\n",
        "  (6, 1)\t0.000560854840274\n",
        "  (0, 2)\t0.523992563221\n",
        "  (1, 2)\t2.25489448303\n",
        "  (2, 2)\t10.0\n",
        "  (3, 2)\t2.25489448303\n",
        "  (4, 2)\t0.523992563221\n",
        "  (5, 2)\t0.0857831079937\n",
        "  (6, 2)\t0.00970966742763\n",
        "  (7, 2)\t0.000560854840274\n",
        "  (0, 3)\t0.0857831079937\n",
        "  (1, 3)\t0.523992563221\n",
        "  (2, 3)\t2.25489448303\n",
        "  (3, 3)\t10.0\n",
        "  :\t:\n",
        "  (6, 6)\t10.0\n",
        "  (7, 6)\t2.25489448303\n",
        "  (8, 6)\t0.523992563221\n",
        "  (9, 6)\t0.0857831079937\n",
        "  (2, 7)\t0.000560854840274\n",
        "  (3, 7)\t0.00970966742763\n",
        "  (4, 7)\t0.0857831079937\n",
        "  (5, 7)\t0.523992563221\n",
        "  (6, 7)\t2.25489448303\n",
        "  (7, 7)\t10.0\n",
        "  (8, 7)\t2.25489448303\n",
        "  (9, 7)\t0.523992563221\n",
        "  (3, 8)\t0.000560854840274\n",
        "  (4, 8)\t0.00970966742763\n",
        "  (5, 8)\t0.0857831079937\n",
        "  (6, 8)\t0.523992563221\n",
        "  (7, 8)\t2.25489448303\n",
        "  (8, 8)\t10.0\n",
        "  (9, 8)\t2.25489448303\n",
        "  (4, 9)\t0.000560854840274\n",
        "  (5, 9)\t0.00970966742763\n",
        "  (6, 9)\t0.0857831079937\n",
        "  (7, 9)\t0.523992563221\n",
        "  (8, 9)\t2.25489448303\n",
        "  (9, 9)\t10.0\n"
       ]
      }
     ],
     "prompt_number": 144
    },
    {
     "cell_type": "code",
     "collapsed": false,
     "input": [
      "def gauss_func(x0i, x1i, x0v=None, x1v=None, amp=None, mu=None, sigma=None):\n",
      "    x0 = x0v[x0i]\n",
      "    x1 = x1v[x1i]\n",
      "    return amp**2/(2 * np.pi * sigma**2) * np.exp(-((x0 - mu)**2 + (x1 - mu)**2)/(2 * sigma**2))"
     ],
     "language": "python",
     "metadata": {},
     "outputs": [],
     "prompt_number": 6
    },
    {
     "cell_type": "code",
     "collapsed": false,
     "input": [
      "def Cfast(xs, amp, mu, sigma, var=1):\n",
      "    '''Create a sparse covariance matrix using identity and block_diagonal'''\n",
      "    #In the region of the Gaussian, the matrix will be dense, so just create it as `fromfunction`\n",
      "    #Above this region, the matrix will be simply Identity.\n",
      "    \n",
      "    #The matrix is also symmetric about the diagonal\n",
      "    \n",
      "    #Given mu, and the extent of sigma, estimate the data points that are above, in Gaussian, and below\n",
      "    n_above = np.sum(xs < (mu - 4 * sigma))\n",
      "    n_below = np.sum(xs > (mu + 4 * sigma))\n",
      "    ind_in = (xs >= (mu - 4 * sigma)) & (xs <= (mu + 4 * sigma)) #indices to grab the x values \n",
      "    len_in = np.sum(ind_in)\n",
      "    #print(n_above, n_below, len_in)\n",
      "    #that will be needed to evaluate the Gaussian\n",
      "    \n",
      "    if len_in == 0:\n",
      "        return sp.identity(len(xs), format=\"csc\")\n",
      "    else:    \n",
      "        #Create Gaussian, add the sparse diagonal to it\n",
      "        x_gauss = xs[ind_in]\n",
      "        gauss_mat = np.fromfunction(gauss_func, (len_in,len_in), x0v=x_gauss, x1v=x_gauss, amp=amp, mu=mu, sigma=sigma, dtype=np.int)\n",
      "        gauss_mat = gauss_mat + np.identity(len_in)\n",
      "        \n",
      "        #plt.imshow(gauss_mat)\n",
      "        if n_above == 0 and n_below == 0:\n",
      "            return sp.csc_matrix(gauss_mat)\n",
      "        elif n_above == 0:\n",
      "            return sp.block_diag((gauss_mat, sp.identity(n_below)), format=\"csc\")\n",
      "        elif n_below == 0:\n",
      "            return sp.block_diag((sp.identity(n_above), gauss_mat), format=\"csc\")\n",
      "        else:\n",
      "            return sp.block_diag((sp.identity(n_above), gauss_mat, sp.identity(n_below)), format=\"csc\")"
     ],
     "language": "python",
     "metadata": {},
     "outputs": [],
     "prompt_number": 9
    },
    {
     "cell_type": "markdown",
     "metadata": {},
     "source": [
      "How to initialize a csc_matrix using the list approach"
     ]
    },
    {
     "cell_type": "code",
     "collapsed": false,
     "input": [
      "data = np.array([3, 3, 3])\n",
      "ij = np.array([[0, 1, 2],[0, 1 , 2]])\n",
      "mymat = sp.csc_matrix((data, ij))"
     ],
     "language": "python",
     "metadata": {},
     "outputs": [],
     "prompt_number": 8
    },
    {
     "cell_type": "code",
     "collapsed": false,
     "input": [
      "def k_region(xs, amp, mu, sigma, var=1):\n",
      "    '''Create a sparse covariance matrix using identity and block_diagonal'''\n",
      "    #In the region of the Gaussian, the matrix will be dense, so just create it as `fromfunction`\n",
      "    #and then later turn it into a sparse matrix with size xs x xs\n",
      "        \n",
      "    #Given mu, and the extent of sigma, estimate the data points that are above, in Gaussian, and below\n",
      "    n_above = np.sum(xs < (mu - 4 * sigma))\n",
      "    n_below = np.sum(xs > (mu + 4 * sigma))\n",
      "    \n",
      "    #Create dense matrix and indexes, then convert to lists so that you can pack things in as:\n",
      "    \n",
      "    #csc_matrix((data, ij), [shape=(M, N)])\n",
      "    #where data and ij satisfy the relationship a[ij[0, k], ij[1, k]] = data[k]\n",
      "    \n",
      "    len_x = len(xs)\n",
      "    ind_in = (xs >= (mu - 4 * sigma)) & (xs <= (mu + 4 * sigma)) #indices to grab the x values \n",
      "    len_in = np.sum(ind_in)\n",
      "    #print(n_above, n_below, len_in)\n",
      "    #that will be needed to evaluate the Gaussian\n",
      "    \n",
      "     \n",
      "    #Create Gaussian matrix fromfunction\n",
      "    x_gauss = xs[ind_in]\n",
      "    gauss_mat = np.fromfunction(gauss_func, (len_in,len_in), x0v=x_gauss, x1v=x_gauss, \n",
      "                                amp=amp, mu=mu, sigma=sigma, dtype=np.int).flatten()\n",
      "    \n",
      "    #Create an index array that matches the Gaussian\n",
      "    ij = np.indices((len_in, len_in)) + n_above\n",
      "    ij.shape = (2, -1)\n",
      "    \n",
      "    return sp.csc_matrix((gauss_mat, ij), shape=(len_x,len_x))\n",
      "    "
     ],
     "language": "python",
     "metadata": {},
     "outputs": [],
     "prompt_number": 7
    },
    {
     "cell_type": "markdown",
     "metadata": {},
     "source": [
      "Create many bad regions"
     ]
    },
    {
     "cell_type": "code",
     "collapsed": false,
     "input": [
      "S = Cregion(xs, 10, -20, 1) + Cregion(xs, 10, 0, 1) + Cregion(xs, 10, 20, 1) + sp.eye(len(xs))"
     ],
     "language": "python",
     "metadata": {},
     "outputs": [],
     "prompt_number": 13
    },
    {
     "cell_type": "code",
     "collapsed": false,
     "input": [
      "def lnprob_fast(b,m, amp, l):\n",
      "    A = calcA(b, m)\n",
      "    S = sparse_k_3_2(xs, amp, l) + sp.eye(len(xs))\n",
      "    s, logdet = np.linalg.slogdet(S.todense())\n",
      "    if s <= 0:\n",
      "        return -np.inf\n",
      "    lnp =  -0.5 * (A.T.dot(spsolve(S,A)) + logdet)\n",
      "    return lnp   \n",
      "    "
     ],
     "language": "python",
     "metadata": {},
     "outputs": [],
     "prompt_number": 138
    },
    {
     "cell_type": "code",
     "collapsed": false,
     "input": [
      "print(lnprob_fast(10, 0.2, 1, 0.1))\n",
      "print(lnprob_fast(10, 0.2, 1, 1))\n",
      "print(lnprob_fast(10, 0.2, 1, 10))\n",
      "print()\n",
      "print(lnprob_fast(10, 0.2, 10, 0.1))\n",
      "print(lnprob_fast(10, 0.2, 10, 1))\n",
      "print(lnprob_fast(10, 0.2, 10, 10))"
     ],
     "language": "python",
     "metadata": {},
     "outputs": [
      {
       "output_type": "stream",
       "stream": "stdout",
       "text": [
        "-1883.32528909\n",
        "-1661.08224326"
       ]
      },
      {
       "output_type": "stream",
       "stream": "stdout",
       "text": [
        "\n",
        "-1688.58840283"
       ]
      },
      {
       "output_type": "stream",
       "stream": "stdout",
       "text": [
        "\n",
        "\n",
        "-3224.11425617"
       ]
      },
      {
       "output_type": "stream",
       "stream": "stdout",
       "text": [
        "\n",
        "-1965.46043112"
       ]
      },
      {
       "output_type": "stream",
       "stream": "stdout",
       "text": [
        "\n",
        "-1646.16116033"
       ]
      },
      {
       "output_type": "stream",
       "stream": "stdout",
       "text": [
        "\n"
       ]
      }
     ],
     "prompt_number": 139
    },
    {
     "cell_type": "markdown",
     "metadata": {},
     "source": [
      "Rather than use a Gaussian for $k(x, x^\\prime)$, we can use a more general covariance function, such as the 'squared exponential' but with an added Gaussian taper\n",
      "\n",
      "$$k(x, x^\\prime | h, a, \\mu, \\sigma) = \\exp \\left ( \\frac{-( x - x^\\prime)^2 }{2 h^2} \\right ) \\frac{a^2}{2 \\pi \\sigma} \\exp \\left ( - \\frac{[(x - \\mu)^2 + (x^\\prime - \\mu)^2]}{2 \\sigma^2}\\right )$$\n",
      "\n",
      "here $h$ is a \"bandwidth\" that controls the power of the oscillations. If $h$ is small, then there will be high-frequency structure. If $h$ is large, then only low-frequency structure will remain."
     ]
    },
    {
     "cell_type": "code",
     "collapsed": false,
     "input": [
      "def exp_func(x0i, x1i, x0v=None, x1v=None, h=None, amp=None, mu=None, sigma=None):\n",
      "    x0 = x0v[x0i]\n",
      "    x1 = x1v[x1i]\n",
      "    return amp**2/(2 * np.pi * sigma**2) * np.exp(-((x0 - mu)**2 + (x1 - mu)**2)/(2 * sigma**2)) * np.exp(-0.5 * (x0 - x1)**2/h**2)"
     ],
     "language": "python",
     "metadata": {},
     "outputs": [],
     "prompt_number": 3
    }
   ],
   "metadata": {}
  }
 ]
}