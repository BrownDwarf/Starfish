{
 "metadata": {
  "language": "Julia",
  "name": "",
  "signature": "sha256:0afff21b872214444786c87eac973246c95460da22bddba608604658339e6230"
 },
 "nbformat": 3,
 "nbformat_minor": 0,
 "worksheets": [
  {
   "cells": [
    {
     "cell_type": "markdown",
     "metadata": {},
     "source": [
      "# Plotting routines for paper"
     ]
    },
    {
     "cell_type": "code",
     "collapsed": false,
     "input": [
      "#Import all of the relevant python modules\n",
      "import numpy as np\n",
      "import scipy.sparse as sp #Sparse array module\n",
      "from scipy.sparse.linalg import inv as sinv\n",
      "from scipy.sparse.linalg import spsolve\n",
      "from numpy.linalg import inv,det, cholesky\n",
      "\n",
      "import matplotlib\n",
      "import matplotlib.pyplot as plt"
     ],
     "language": "python",
     "metadata": {},
     "outputs": [],
     "prompt_number": 1
    },
    {
     "cell_type": "code",
     "collapsed": false,
     "input": [
      "from StellarSpectra.model import Model\n",
      "from StellarSpectra.spectrum import DataSpectrum\n",
      "from StellarSpectra.grid_tools import TRES, HDF5Interface\n",
      "import scipy.sparse as sp\n",
      "import numpy as np\n",
      "\n",
      "myDataSpectrum = DataSpectrum.open(\"WASP14/WASP-14_2009-06-15_04h13m57s_cb.spec.flux\", orders=np.array([22]))\n",
      "myInstrument = TRES()\n",
      "myHDF5Interface = HDF5Interface(\"../libraries/PHOENIX_submaster.hdf5\")\n",
      "#myHDF5Interface = HDF5Interface(\"../libraries/Kurucz_master.hdf5\")"
     ],
     "language": "python",
     "metadata": {},
     "outputs": [],
     "prompt_number": 2
    },
    {
     "cell_type": "code",
     "collapsed": false,
     "input": [
      "#Load a model using the JSON file\n",
      "myModel = Model.from_json(\"WASP14/model_final.json\", myDataSpectrum, myInstrument, myHDF5Interface)\n",
      "myOrderModel = myModel.OrderModels[0]"
     ],
     "language": "python",
     "metadata": {},
     "outputs": [
      {
       "output_type": "stream",
       "stream": "stdout",
       "text": [
        "Grid stretches from 5135.32127896173 to 5236.2786948156\n",
        "wl_FFT is 0.04805860213977044 km/s\n",
        "Creating OrderModel 0\n",
        "orders_dict is"
       ]
      },
      {
       "output_type": "stream",
       "stream": "stdout",
       "text": [
        " {'22': {'cheb': {'c3': -0.004788022228329032, 'c1': -0.017684987777693707, 'c2': -0.017530605981209466, 'logc0': -0.030610219611502083}, 'global_cov': {'logAmp': -14.218106304917216, 'sigAmp': 1.0023460990430166, 'l': 0.19693182384744015}, 'regions': {'0': {'h': 0.6329127690014178, 'loga': -14.185547680154697, 'sigma': 0.1078243984103198, 'mu': 5189.096201903731}, '1': {'h': 1.2354606540285378, 'loga': -13.891324093216593, 'sigma': 0.15590626116459438, 'mu': 5152.090349451458}}}}\n",
        "order_dict is {'cheb': {'c3': -0.004788022228329032, 'c1': -0.017684987777693707, 'c2': -0.017530605981209466, 'logc0': -0.030610219611502083}, 'global_cov': {'logAmp': -14.218106304917216, 'sigAmp': 1.0023460990430166, 'l': 0.19693182384744015}, 'regions': {'0': {'h': 0.6329127690014178, 'loga': -14.185547680154697, 'sigma': 0.1078243984103198, 'mu': 5189.096201903731}, '1': {'h': 1.2354606540285378, 'loga': -13.891324093216593, 'sigma': 0.15590626116459438, 'mu': 5152.090349451458}}}\n",
        "params are  {'c3': -0.004788022228329032, 'c1': -0.017684987777693707, 'c2': -0.017530605981209466, 'logc0': -0.030610219611502083}\n",
        "creating region  0 0 {'h': 0.6329127690014178, 'loga': -14.185547680154697, 'sigma': 0.1078243984103198, 'mu': 5189.096201903731}\n",
        "Added region to self.RegionList\n",
        "updating region 0 with params {'h': 0.6329127690014178, 'loga': -14.185547680154697, 'sigma': 0.1078243984103198, 'mu': 5189.096201903731}\n",
        "creating region "
       ]
      },
      {
       "output_type": "stream",
       "stream": "stdout",
       "text": [
        " 1 1 {'h': 1.2354606540285378, 'loga': -13.891324093216593, 'sigma': 0.15590626116459438, 'mu': 5152.090349451458}\n",
        "Added region to self.RegionList\n",
        "updating region 1 with params {'h': 1.2354606540285378, 'loga': -13.891324093216593, 'sigma': 0.15590626116459438, 'mu': 5152.090349451458}\n"
       ]
      }
     ],
     "prompt_number": 3
    },
    {
     "cell_type": "code",
     "collapsed": false,
     "input": [
      "spec = myModel.get_data()\n",
      "wl = spec.wls[0]\n",
      "fl = spec.fls[0]\n",
      "\n",
      "model_fl = myOrderModel.get_spectrum()\n",
      "\n",
      "median_fl = np.median(fl)\n",
      "fl_norm = fl / median_fl\n",
      "model_fl_norm = model_fl / median_fl\n",
      "\n",
      "residuals = fl_norm - model_fl_norm\n",
      "cheb = myOrderModel.get_Cheb()"
     ],
     "language": "python",
     "metadata": {},
     "outputs": [],
     "prompt_number": 5
    },
    {
     "cell_type": "markdown",
     "metadata": {},
     "source": [
      "# Chebyshev, Data + Model, and Residuals"
     ]
    },
    {
     "cell_type": "code",
     "collapsed": false,
     "input": [
      "nullfmt = matplotlib.ticker.NullFormatter()\n",
      "from matplotlib.ticker import FormatStrFormatter as FSF\n",
      "from matplotlib.ticker import MaxNLocator\n",
      "import matplotlib as mpl\n",
      "mpl.rc('lines', linewidth=1)\n",
      "\n",
      "fig = plt.figure(figsize=(7,5))\n",
      "#[left, bottom, width, height]\n",
      "left = 0.12\n",
      "width = 0.85\n",
      "\n",
      "plt_base = 0.13\n",
      "label_ax = fig.add_axes([left - 0.1, 0.05, .95, .95],alpha=0.0,frame_on=False,xticks=[],yticks=[])\n",
      "\n",
      "#unit of height for each plot\n",
      "height = 0.15\n",
      "\n",
      "ax_resid = fig.add_axes([left,plt_base,width, 1.3 * height])\n",
      "ax_resid.plot(wl, residuals, \"k\", label=\"residuals\")\n",
      "ax_resid.xaxis.set_major_formatter(FSF(\"%.0f\"))\n",
      "ax_resid.set_xlabel(r\"$\\lambda$  (\\AA)\")\n",
      "#ax_resid.legend(loc='lower left')\n",
      "ax_resid.text(0.02, 0.1, \"residuals\", transform=ax_resid.transAxes)\n",
      "ax_resid.set_ylabel(\"$\\propto f_\\lambda$\")\n",
      "ax_resid.yaxis.set_major_locator(MaxNLocator(nbins=5, prune='upper'))\n",
      "\n",
      "ax_data = fig.add_axes([left,plt_base + 1.3 * height,width, 3 * height])\n",
      "ax_data.xaxis.set_major_formatter(nullfmt)\n",
      "ax_data.plot(wl, fl_norm, \"b\", label=\"data\")\n",
      "ax_data.plot(wl, model_fl_norm, \"r:\", label=\"model\")\n",
      "lg = ax_data.legend(loc=\"lower left\")\n",
      "lg.draw_frame(False)\n",
      "ax_data.set_ylabel(\"$\\propto f_\\lambda$\")\n",
      "ax_data.yaxis.set_major_locator(MaxNLocator(prune='both'))\n",
      "\n",
      "ax_cheb = fig.add_axes([left,plt_base + 4.3 * height,width, height])\n",
      "ax_cheb.xaxis.set_major_formatter(nullfmt)\n",
      "ax_cheb.plot(wl, cheb, \"k\", label=\"Chebyshev\")\n",
      "ax_cheb.set_ylim(.99, 1.02)\n",
      "#ax_cheb.legend(loc=\"lower left\")\n",
      "ax_cheb.text(0.02, 0.1, \"Chebyshev\", transform=ax_cheb.transAxes)\n",
      "ax_cheb.yaxis.set_major_locator(MaxNLocator(nbins=5, prune='lower'))\n",
      "\n",
      "for ax in [ax_resid, ax_data, ax_cheb]:\n",
      "    ax.set_xlim(5155,5200)\n",
      "\n",
      "fig.savefig(\"../plots/model_data.eps\")\n",
      "plt.show()"
     ],
     "language": "python",
     "metadata": {},
     "outputs": [],
     "prompt_number": 29
    },
    {
     "cell_type": "markdown",
     "metadata": {},
     "source": [
      "#Examples of correlated noise and bad regions"
     ]
    },
    {
     "cell_type": "code",
     "collapsed": false,
     "input": [
      "from matplotlib.ticker import MultipleLocator\n",
      "import matplotlib as mpl\n",
      "mpl.rc('lines', linewidth=1)\n",
      "\n",
      "fig, ax = plt.subplots(nrows=2, ncols=4, figsize=(7,4.))\n",
      "spec2 = DataSpectrum.open(\"WASP14/WASP-14_2009-06-15_04h13m57s_cb.spec.flux\", orders=[22,23])\n",
      "fl23, fl24 = spec2.fls\n",
      "\n",
      "median_fl23 = np.median(fl23)\n",
      "median_fl24 = np.median(fl24)\n",
      "\n",
      "fl23n = fl23/median_fl23\n",
      "fl24n = fl24/median_fl24\n",
      "\n",
      "#Model\n",
      "wl23 = np.load(\"../residuals/wlsz23.npy\")[0]\n",
      "f23 = np.load(\"../residuals/fl23.npy\")[0]/median_fl23\n",
      "wl24 = np.load(\"../residuals/wlsz24.npy\")[0]\n",
      "f24 = np.load(\"../residuals/fl24.npy\")[0]/median_fl24\n",
      "\n",
      "\n",
      "r23 = (fl23n - f23)\n",
      "r24 = (fl24n - f24)\n",
      "\n",
      "ax[0,0].plot(wl23, fl23n, \"b\", label=\"data\", drawstyle=\"steps-mid\")\n",
      "ax[0,0].plot(wl23, f23, \"r:\", label=\"model\", drawstyle=\"steps-mid\")\n",
      "\n",
      "ax[1,0].plot(wl23, r23, \"k\", drawstyle=\"steps-mid\")\n",
      "ax[0,0].set_xlim(5136.4, 5139)\n",
      "ax[1,0].set_xlim(5136.4, 5139)\n",
      "ax[1,0].set_ylim(-.1,.1)\n",
      "\n",
      "ax[0,1].plot(wl23, fl23n, \"b\", drawstyle=\"steps-mid\")\n",
      "ax[0,1].plot(wl23, f23, \"r:\", drawstyle=\"steps-mid\")\n",
      "ax[1,1].plot(wl23, r23, \"k\", drawstyle=\"steps-mid\")\n",
      "ax[0,1].set_xlim(5188, 5189.5)\n",
      "ax[1,1].set_xlim(5188, 5189.5)\n",
      "#ax[1,1].set_ylim(-4,4)\n",
      "\n",
      "ax[0,2].plot(wl24, fl24n, \"b\", label='data', drawstyle=\"steps-mid\")\n",
      "ax[0,2].plot(wl24, f24, \"r:\", label='model', drawstyle=\"steps-mid\")\n",
      "ax[0,2].legend(loc=\"lower center\", prop={'size':10})\n",
      "\n",
      "ax[1,2].plot(wl24, r24, \"k\", drawstyle=\"steps-mid\")\n",
      "ax[0,2].set_xlim(5258, 5260)\n",
      "ax[1,2].set_xlim(5258, 5260)\n",
      "\n",
      "ax[0,3].plot(wl24, fl24n, \"b\", drawstyle=\"steps-mid\")\n",
      "ax[0,3].plot(wl24, f24, \"r:\", drawstyle=\"steps-mid\")\n",
      "ax[1,3].plot(wl24, r24, \"k\", drawstyle=\"steps-mid\")\n",
      "ax[0,3].set_xlim(5260, 5271)\n",
      "ax[1,3].set_xlim(5260, 5271)\n",
      "ax[1,3].set_ylim(-.18, .18)\n",
      "\n",
      "\n",
      "for j in range(4):\n",
      "    labels = ax[1,j].get_xticklabels()\n",
      "    for label in labels:\n",
      "        label.set_rotation(60)\n",
      "\n",
      "ax[0,0].set_ylabel(r\"$\\propto f_\\lambda$\")\n",
      "ax[1,0].set_ylabel(r\"residuals $\\propto f_\\lambda$\")\n",
      "\n",
      "for i in range(2):\n",
      "    for j in range(4):\n",
      "        ax[i,j].xaxis.set_major_formatter(FSF(\"%.0f\"))\n",
      "        ax[i,j].xaxis.set_major_locator(MultipleLocator(1.))\n",
      "        ax[i,j].tick_params(axis='both', which='major', labelsize=10)\n",
      "\n",
      "for i in [0,1]:\n",
      "    for j in [1,2]:\n",
      "        ax[i,j].xaxis.set_major_formatter(FSF(\"%.1f\"))\n",
      "        ax[i,j].xaxis.set_major_locator(MultipleLocator(0.5))\n",
      "\n",
      "for i in [0,1]:\n",
      "    ax[i,3].xaxis.set_major_formatter(FSF(\"%.0f\"))\n",
      "    ax[i,3].xaxis.set_major_locator(MultipleLocator(2))\n",
      "\n",
      "class_label = [\"0\", \"I\", \"II\", \"III\"]\n",
      "for j in range(4):\n",
      "    ax[0,j].set_title(class_label[j])\n",
      "    ax[0,j].xaxis.set_ticklabels([])\n",
      "    ax[0,j].set_ylim(0.25, 1.15)\n",
      "    if j != 0:\n",
      "        ax[0,j].yaxis.set_ticklabels([])\n",
      "\n",
      "fig.subplots_adjust(left=0.1, right=0.99, top=0.94, bottom=0.18, hspace=0.1, wspace=0.27)\n",
      "fig.text(0.48, 0.02, r\"$\\lambda$ (\\AA)\")\n",
      "fig.savefig(\"../plots/badlines.eps\")\n",
      "plt.show()"
     ],
     "language": "python",
     "metadata": {},
     "outputs": [],
     "prompt_number": 28
    },
    {
     "cell_type": "code",
     "collapsed": false,
     "input": [
      "def k_3_2(r, l):\n",
      "    return (1 + np.sqrt(3) * r/l) * np.exp(-np.sqrt(3) * r/l)\n",
      "\n",
      "def k_5_2(r, l):\n",
      "    return (1 + np.sqrt(5) * r/l + 5 * r**2/(3 * l**2)) * np.exp(- np.sqrt(5) * r/l)\n",
      "\n",
      "@np.vectorize\n",
      "def hann(r, r0):\n",
      "    if np.abs(r) < r0:\n",
      "        return 0.5 + 0.5 * np.cos(np.pi * r/r0)\n",
      "    else:\n",
      "        return 0\n",
      "\n",
      "def k_3_2_hann(r, l):\n",
      "    return k_3_2(r, l) * hann(r, 6 * l)\n",
      "    "
     ],
     "language": "python",
     "metadata": {},
     "outputs": [],
     "prompt_number": 3
    },
    {
     "cell_type": "markdown",
     "metadata": {},
     "source": [
      "Initialize a dense covariance matrix using input xs."
     ]
    },
    {
     "cell_type": "code",
     "collapsed": false,
     "input": [
      "def gauss_func(x0i, x1i, x0v=None, x1v=None, amp=None, mu=None, sigma=None):\n",
      "    x0 = x0v[x0i]\n",
      "    x1 = x1v[x1i]\n",
      "    return amp**2/(2 * np.pi * sigma**2) * np.exp(-((x0 - mu)**2 + (x1 - mu)**2)/(2 * sigma**2))\n",
      "\n",
      "def k_3_2_func(x0i, x1i, x0v=None, x1v=None, amp=None, l=None):\n",
      "    x0 = x0v[x0i]\n",
      "    x1 = x1v[x1i]\n",
      "    r = np.abs(x1 - x0)\n",
      "    return amp**2 * k_3_2(r, l)\n",
      "\n",
      "def k_5_2_func(x0i, x1i, x0v=None, x1v=None, amp=None, l=None):\n",
      "    x0 = x0v[x0i]\n",
      "    x1 = x1v[x1i]\n",
      "    r = np.abs(x1 - x0)\n",
      "    return amp**2 * k_5_2(r, l)\n",
      "\n",
      "def k_3_2_hann_func(x0i, x1i, x0v=None, x1v=None, amp=None, l=None):\n",
      "    x0 = x0v[x0i]\n",
      "    x1 = x1v[x1i]\n",
      "    r = np.abs(x1 - x0)\n",
      "    return amp**2 * k_3_2(r, l) * hann(r, 6*l)\n",
      "\n",
      "def k_3_2_hann_func_tap(x0i, x1i, x0v=None, x1v=None, amp=None, l=None, tapv=None):\n",
      "    x0 = x0v[x0i]\n",
      "    x1 = x1v[x1i]\n",
      "    \n",
      "    if x0i >= x1i:\n",
      "        tap = tapv[x0i]\n",
      "    else:\n",
      "        tap = tapv[x1i]\n",
      "    \n",
      "    r = np.abs(x1 - x0)\n",
      "    return tap * amp**2 * k_3_2(r, l) * hann(r, 6*l)"
     ],
     "language": "python",
     "metadata": {},
     "outputs": [],
     "prompt_number": 4
    },
    {
     "cell_type": "markdown",
     "metadata": {},
     "source": [
      "# Matern kernels with a Hanning window function\n",
      "\n"
     ]
    },
    {
     "cell_type": "code",
     "collapsed": false,
     "input": [
      "fig = plt.figure()\n",
      "ax = fig.add_subplot(111)\n",
      "rs = np.linspace(0,10,num=100)\n",
      "ax.semilogy(rs, k_3_2(rs, 1), label=r\"$k_{3/2}$\")\n",
      "ax.semilogy(rs, hann(rs, 6), label=\"Hann\")\n",
      "ax.semilogy(rs, k_3_2(rs, 1)* hann(rs, 6), label=\"comb\")\n",
      "ax.legend()\n",
      "ax.set_xlim(2, 6)\n",
      "ax.set_ylim(0, 0.2)\n",
      "plt.show()"
     ],
     "language": "python",
     "metadata": {},
     "outputs": [
      {
       "metadata": {},
       "output_type": "display_data",
       "png": "[encoded data removed]",
       "text": [
        "<matplotlib.figure.Figure at 0x7f733a8b3950>"
       ]
      }
     ],
     "prompt_number": 9
    },
    {
     "cell_type": "markdown",
     "metadata": {},
     "source": [
      "## Drawing samples from the covariance matrix"
     ]
    },
    {
     "cell_type": "code",
     "collapsed": false,
     "input": [
      "len_in = len(xs)\n",
      "inds = np.arange(len_in)\n",
      "mat_3_2 = np.fromfunction(k_3_2_hann_func, (len_in,len_in), x0v=xs, x1v=xs, amp=0.8, \n",
      "                          l=1.8, dtype=np.int)\n",
      "y_reals = np.random.multivariate_normal(np.zeros((npoints,)), mat_3_2)\n",
      "plt.plot(xs, y_reals, \"k\", lw=0.2)\n",
      "plt.show()"
     ],
     "language": "python",
     "metadata": {},
     "outputs": [
      {
       "ename": "NameError",
       "evalue": "name 'k_3_2_hann_func' is not defined",
       "output_type": "pyerr",
       "traceback": [
        "\u001b[1;31m---------------------------------------------------------------------------\u001b[0m\n\u001b[1;31mNameError\u001b[0m                                 Traceback (most recent call last)",
        "\u001b[1;32m<ipython-input-5-996410b8bdb9>\u001b[0m in \u001b[0;36m<module>\u001b[1;34m()\u001b[0m\n\u001b[0;32m      1\u001b[0m \u001b[0mlen_in\u001b[0m \u001b[1;33m=\u001b[0m \u001b[0mlen\u001b[0m\u001b[1;33m(\u001b[0m\u001b[0mxs\u001b[0m\u001b[1;33m)\u001b[0m\u001b[1;33m\u001b[0m\u001b[0m\n\u001b[0;32m      2\u001b[0m \u001b[0minds\u001b[0m \u001b[1;33m=\u001b[0m \u001b[0mnp\u001b[0m\u001b[1;33m.\u001b[0m\u001b[0marange\u001b[0m\u001b[1;33m(\u001b[0m\u001b[0mlen_in\u001b[0m\u001b[1;33m)\u001b[0m\u001b[1;33m\u001b[0m\u001b[0m\n\u001b[1;32m----> 3\u001b[1;33m mat_3_2 = np.fromfunction(k_3_2_hann_func, (len_in,len_in), x0v=xs, x1v=xs, amp=0.8, \n\u001b[0m\u001b[0;32m      4\u001b[0m                           l=1.8, dtype=np.int)\n\u001b[0;32m      5\u001b[0m \u001b[0my_reals\u001b[0m \u001b[1;33m=\u001b[0m \u001b[0mnp\u001b[0m\u001b[1;33m.\u001b[0m\u001b[0mrandom\u001b[0m\u001b[1;33m.\u001b[0m\u001b[0mmultivariate_normal\u001b[0m\u001b[1;33m(\u001b[0m\u001b[0mnp\u001b[0m\u001b[1;33m.\u001b[0m\u001b[0mzeros\u001b[0m\u001b[1;33m(\u001b[0m\u001b[1;33m(\u001b[0m\u001b[0mnpoints\u001b[0m\u001b[1;33m,\u001b[0m\u001b[1;33m)\u001b[0m\u001b[1;33m)\u001b[0m\u001b[1;33m,\u001b[0m \u001b[0mmat_3_2\u001b[0m\u001b[1;33m)\u001b[0m\u001b[1;33m\u001b[0m\u001b[0m\n",
        "\u001b[1;31mNameError\u001b[0m: name 'k_3_2_hann_func' is not defined"
       ]
      }
     ],
     "prompt_number": 5
    },
    {
     "cell_type": "code",
     "collapsed": false,
     "input": [
      "fig,ax = plt.subplots(ncols=2, figsize=(8,4))\n",
      "ax[0].imshow(mat_3_2, origin=\"upper\", extent=[-20,20,-20,20])\n",
      "ax[0].set_xlabel(r\"$x$\")\n",
      "ax[0].set_title(\"covariance\")\n",
      "ax[1].plot(xs, y_reals, \"k\", lw=0.4)\n",
      "ax[1].set_title(\"sample\")\n",
      "ax[1].set_xlabel(r\"$x$\")\n",
      "ax[1].set_ylabel(r\"$y$\")\n",
      "ax[1].set_ylim(-2.5, 2.5)\n",
      "fig.subplots_adjust(left=0.05, right=0.95, wspace=0.25)\n",
      "fig.savefig(\"../plots/matern_matrix.png\")\n",
      "fig.savefig(\"../plots/matern_matrix.eps\")\n",
      "#plt.show()"
     ],
     "language": "python",
     "metadata": {},
     "outputs": [],
     "prompt_number": 19
    },
    {
     "cell_type": "markdown",
     "metadata": {},
     "source": [
      "# Sparse Covariance Matrices"
     ]
    },
    {
     "cell_type": "code",
     "collapsed": false,
     "input": [
      "#Matern kernel tapered by a Hann window\n",
      "\n",
      "def sparse_k_3_2(xs, amp, l):\n",
      "    '''\n",
      "    Create a sparse matrix using a Matern kernel tapered by a Hann window.\n",
      "    1. start from the diagonal and keep computing r on the offsets until they are all greater than 6l. \n",
      "    2. Then, calculate k_3_2 on the all the diagonals\n",
      "    3. Initialize a sparse matrix using these diagonals\n",
      "    '''\n",
      "    N = len(xs)\n",
      "    offset = 0\n",
      "    r0 = 6 * l\n",
      "    diags = []\n",
      "    while offset < N:\n",
      "        #Pairwise calculate rs\n",
      "        if offset == 0:\n",
      "            rs = np.zeros_like(xs)\n",
      "        else:\n",
      "            rs = np.abs(xs[offset:] - xs[:-offset])\n",
      "            k = np.empty_like(rs)\n",
      "        if np.min(rs) >= r0:\n",
      "            break\n",
      "        k = (0.5 + 0.5 * np.cos(np.pi * rs/r0)) * amp**2 * (1 + np.sqrt(3) * rs/l) * np.exp(-np.sqrt(3) * rs/l)\n",
      "        k[rs >= r0] = 0\n",
      "        diags.append(k)\n",
      "        offset += 1\n",
      "        \n",
      "    #Mirror the diagonals\n",
      "    front = diags[1:].copy()\n",
      "    front.reverse()\n",
      "    diags = front + diags\n",
      "    offsets = [i for i in range(-offset + 1, offset)]\n",
      "    return sp.diags(diags, offsets, format=\"csc\")"
     ],
     "language": "python",
     "metadata": {},
     "outputs": [],
     "prompt_number": 6
    },
    {
     "cell_type": "code",
     "collapsed": false,
     "input": [
      "#To plot residuals from the Matern matrix on top of the data spectrum\n",
      "\n",
      "model_flux = myOrderModel.get_spectrum()\n",
      "residuals = fl - model_flux\n",
      "\n",
      "fig,ax = plt.subplots(nrows=2, figsize=(4,4), sharex=True)\n",
      "ax[0].plot(wl, fl, label=\"data\")\n",
      "ax[0].plot(wl, model_flux, \"r\", label=\"model\")\n",
      "ax[0].set_ylim(1.e-13, 2.2e-13)\n",
      "ax[0].legend(loc=\"lower right\")\n",
      "ax[1].plot(wl, residuals, label=\"residual\")\n",
      "ax[1].plot(wl_trunc, fl_fake, \"k\", lw=0.4, label=\"sample\")\n",
      "ax[1].legend(loc=\"upper left\")\n",
      "ax[1].set_ylim(-2e-14, 5e-14)\n",
      "ax[-1].set_xlim(5136, 5139)\n",
      "ax[-1].set_ylabel(r\"$f_\\lambda$\")\n",
      "ax[-1].set_xlabel(r\"$\\lambda$ (\\AA)\")\n",
      "fig.subplots_adjust(bottom=0.13, left=0.13, top=0.95, right=0.95)\n",
      "fig.savefig(\"../plots/matern_draw.png\")\n",
      "fig.savefig(\"../plots/matern_draw.svg\")\n",
      "plt.show()"
     ],
     "language": "python",
     "metadata": {},
     "outputs": []
    },
    {
     "cell_type": "code",
     "collapsed": false,
     "input": [
      "ys = np.arange(10)\n",
      "mysparse = sparse_k_3_2(ys, 1, 1) + sp.eye(len(ys))"
     ],
     "language": "python",
     "metadata": {},
     "outputs": [
      {
       "output_type": "stream",
       "stream": "stdout",
       "text": [
        "  (0, 0)\t2.0\n",
        "  (1, 0)\t0.450978896606\n",
        "  (2, 0)\t0.104798512644\n",
        "  (3, 0)\t0.0171566215987\n",
        "  (4, 0)\t0.00194193348553\n",
        "  (5, 0)\t0.000112170968055\n",
        "  (0, 1)\t0.450978896606\n",
        "  (1, 1)\t2.0\n",
        "  (2, 1)\t0.450978896606\n",
        "  (3, 1)\t0.104798512644\n",
        "  (4, 1)\t0.0171566215987\n",
        "  (5, 1)\t0.00194193348553\n",
        "  (6, 1)\t0.000112170968055\n",
        "  (0, 2)\t0.104798512644\n",
        "  (1, 2)\t0.450978896606\n",
        "  (2, 2)\t2.0\n",
        "  (3, 2)\t0.450978896606\n",
        "  (4, 2)\t0.104798512644\n",
        "  (5, 2)\t0.0171566215987\n",
        "  (6, 2)\t0.00194193348553\n",
        "  (7, 2)\t0.000112170968055\n",
        "  (0, 3)\t0.0171566215987\n",
        "  (1, 3)\t0.104798512644\n",
        "  (2, 3)\t0.450978896606\n",
        "  (3, 3)\t2.0\n",
        "  :\t:\n",
        "  (6, 6)\t2.0\n",
        "  (7, 6)\t0.450978896606\n",
        "  (8, 6)\t0.104798512644\n",
        "  (9, 6)\t0.0171566215987\n",
        "  (2, 7)\t0.000112170968055\n",
        "  (3, 7)\t0.00194193348553\n",
        "  (4, 7)\t0.0171566215987\n",
        "  (5, 7)\t0.104798512644\n",
        "  (6, 7)\t0.450978896606\n",
        "  (7, 7)\t2.0\n",
        "  (8, 7)\t0.450978896606\n",
        "  (9, 7)\t0.104798512644\n",
        "  (3, 8)\t0.000112170968055\n",
        "  (4, 8)\t0.00194193348553\n",
        "  (5, 8)\t0.0171566215987\n",
        "  (6, 8)\t0.104798512644\n",
        "  (7, 8)\t0.450978896606\n",
        "  (8, 8)\t2.0\n",
        "  (9, 8)\t0.450978896606\n",
        "  (4, 9)\t0.000112170968055\n",
        "  (5, 9)\t0.00194193348553\n",
        "  (6, 9)\t0.0171566215987\n",
        "  (7, 9)\t0.104798512644\n",
        "  (8, 9)\t0.450978896606\n",
        "  (9, 9)\t2.0\n",
        "  (0, 0)\t10.0\n",
        "  (1, 0)\t2.25489448303\n",
        "  (2, 0)\t0.523992563221\n",
        "  (3, 0)\t0.0857831079937\n",
        "  (4, 0)\t0.00970966742763\n",
        "  (5, 0)\t0.000560854840274\n",
        "  (0, 1)\t2.25489448303\n",
        "  (1, 1)\t10.0\n",
        "  (2, 1)\t2.25489448303\n",
        "  (3, 1)\t0.523992563221\n",
        "  (4, 1)\t0.0857831079937\n",
        "  (5, 1)\t0.00970966742763\n",
        "  (6, 1)\t0.000560854840274\n",
        "  (0, 2)\t0.523992563221\n",
        "  (1, 2)\t2.25489448303\n",
        "  (2, 2)\t10.0\n",
        "  (3, 2)\t2.25489448303\n",
        "  (4, 2)\t0.523992563221\n",
        "  (5, 2)\t0.0857831079937\n",
        "  (6, 2)\t0.00970966742763\n",
        "  (7, 2)\t0.000560854840274\n",
        "  (0, 3)\t0.0857831079937\n",
        "  (1, 3)\t0.523992563221\n",
        "  (2, 3)\t2.25489448303\n",
        "  (3, 3)\t10.0\n",
        "  :\t:\n",
        "  (6, 6)\t10.0\n",
        "  (7, 6)\t2.25489448303\n",
        "  (8, 6)\t0.523992563221\n",
        "  (9, 6)\t0.0857831079937\n",
        "  (2, 7)\t0.000560854840274\n",
        "  (3, 7)\t0.00970966742763\n",
        "  (4, 7)\t0.0857831079937\n",
        "  (5, 7)\t0.523992563221\n",
        "  (6, 7)\t2.25489448303\n",
        "  (7, 7)\t10.0\n",
        "  (8, 7)\t2.25489448303\n",
        "  (9, 7)\t0.523992563221\n",
        "  (3, 8)\t0.000560854840274\n",
        "  (4, 8)\t0.00970966742763\n",
        "  (5, 8)\t0.0857831079937\n",
        "  (6, 8)\t0.523992563221\n",
        "  (7, 8)\t2.25489448303\n",
        "  (8, 8)\t10.0\n",
        "  (9, 8)\t2.25489448303\n",
        "  (4, 9)\t0.000560854840274\n",
        "  (5, 9)\t0.00970966742763\n",
        "  (6, 9)\t0.0857831079937\n",
        "  (7, 9)\t0.523992563221\n",
        "  (8, 9)\t2.25489448303\n",
        "  (9, 9)\t10.0\n"
       ]
      }
     ],
     "prompt_number": 144
    },
    {
     "cell_type": "code",
     "collapsed": false,
     "input": [
      "def gauss_func(x0i, x1i, x0v=None, x1v=None, amp=None, mu=None, sigma=None):\n",
      "    x0 = x0v[x0i]\n",
      "    x1 = x1v[x1i]\n",
      "    return amp**2/(2 * np.pi * sigma**2) * np.exp(-((x0 - mu)**2 + (x1 - mu)**2)/(2 * sigma**2))"
     ],
     "language": "python",
     "metadata": {},
     "outputs": [],
     "prompt_number": 6
    },
    {
     "cell_type": "code",
     "collapsed": false,
     "input": [
      "def Cfast(xs, amp, mu, sigma, var=1):\n",
      "    '''Create a sparse covariance matrix using identity and block_diagonal'''\n",
      "    #In the region of the Gaussian, the matrix will be dense, so just create it as `fromfunction`\n",
      "    #Above this region, the matrix will be simply Identity.\n",
      "    \n",
      "    #The matrix is also symmetric about the diagonal\n",
      "    \n",
      "    #Given mu, and the extent of sigma, estimate the data points that are above, in Gaussian, and below\n",
      "    n_above = np.sum(xs < (mu - 4 * sigma))\n",
      "    n_below = np.sum(xs > (mu + 4 * sigma))\n",
      "    ind_in = (xs >= (mu - 4 * sigma)) & (xs <= (mu + 4 * sigma)) #indices to grab the x values \n",
      "    len_in = np.sum(ind_in)\n",
      "    #print(n_above, n_below, len_in)\n",
      "    #that will be needed to evaluate the Gaussian\n",
      "    \n",
      "    if len_in == 0:\n",
      "        return sp.identity(len(xs), format=\"csc\")\n",
      "    else:    \n",
      "        #Create Gaussian, add the sparse diagonal to it\n",
      "        x_gauss = xs[ind_in]\n",
      "        gauss_mat = np.fromfunction(gauss_func, (len_in,len_in), x0v=x_gauss, x1v=x_gauss, amp=amp, mu=mu, sigma=sigma, dtype=np.int)\n",
      "        gauss_mat = gauss_mat + np.identity(len_in)\n",
      "        \n",
      "        #plt.imshow(gauss_mat)\n",
      "        if n_above == 0 and n_below == 0:\n",
      "            return sp.csc_matrix(gauss_mat)\n",
      "        elif n_above == 0:\n",
      "            return sp.block_diag((gauss_mat, sp.identity(n_below)), format=\"csc\")\n",
      "        elif n_below == 0:\n",
      "            return sp.block_diag((sp.identity(n_above), gauss_mat), format=\"csc\")\n",
      "        else:\n",
      "            return sp.block_diag((sp.identity(n_above), gauss_mat, sp.identity(n_below)), format=\"csc\")"
     ],
     "language": "python",
     "metadata": {},
     "outputs": [],
     "prompt_number": 9
    },
    {
     "cell_type": "markdown",
     "metadata": {},
     "source": [
      "How to initialize a csc_matrix using the list approach"
     ]
    },
    {
     "cell_type": "code",
     "collapsed": false,
     "input": [
      "data = np.array([3, 3, 3])\n",
      "ij = np.array([[0, 1, 2],[0, 1 , 2]])\n",
      "mymat = sp.csc_matrix((data, ij))"
     ],
     "language": "python",
     "metadata": {},
     "outputs": [],
     "prompt_number": 8
    },
    {
     "cell_type": "code",
     "collapsed": false,
     "input": [
      "def k_region(xs, amp, mu, sigma, var=1):\n",
      "    '''Create a sparse covariance matrix using identity and block_diagonal'''\n",
      "    #In the region of the Gaussian, the matrix will be dense, so just create it as `fromfunction`\n",
      "    #and then later turn it into a sparse matrix with size xs x xs\n",
      "        \n",
      "    #Given mu, and the extent of sigma, estimate the data points that are above, in Gaussian, and below\n",
      "    n_above = np.sum(xs < (mu - 4 * sigma))\n",
      "    n_below = np.sum(xs > (mu + 4 * sigma))\n",
      "    \n",
      "    #Create dense matrix and indexes, then convert to lists so that you can pack things in as:\n",
      "    \n",
      "    #csc_matrix((data, ij), [shape=(M, N)])\n",
      "    #where data and ij satisfy the relationship a[ij[0, k], ij[1, k]] = data[k]\n",
      "    \n",
      "    len_x = len(xs)\n",
      "    ind_in = (xs >= (mu - 4 * sigma)) & (xs <= (mu + 4 * sigma)) #indices to grab the x values \n",
      "    len_in = np.sum(ind_in)\n",
      "    #print(n_above, n_below, len_in)\n",
      "    #that will be needed to evaluate the Gaussian\n",
      "    \n",
      "     \n",
      "    #Create Gaussian matrix fromfunction\n",
      "    x_gauss = xs[ind_in]\n",
      "    gauss_mat = np.fromfunction(gauss_func, (len_in,len_in), x0v=x_gauss, x1v=x_gauss, \n",
      "                                amp=amp, mu=mu, sigma=sigma, dtype=np.int).flatten()\n",
      "    \n",
      "    #Create an index array that matches the Gaussian\n",
      "    ij = np.indices((len_in, len_in)) + n_above\n",
      "    ij.shape = (2, -1)\n",
      "    \n",
      "    return sp.csc_matrix((gauss_mat, ij), shape=(len_x,len_x))\n",
      "    "
     ],
     "language": "python",
     "metadata": {},
     "outputs": [],
     "prompt_number": 7
    },
    {
     "cell_type": "markdown",
     "metadata": {},
     "source": [
      "Create many bad regions"
     ]
    },
    {
     "cell_type": "code",
     "collapsed": false,
     "input": [
      "S = Cregion(xs, 10, -20, 1) + Cregion(xs, 10, 0, 1) + Cregion(xs, 10, 20, 1) + sp.eye(len(xs))"
     ],
     "language": "python",
     "metadata": {},
     "outputs": [],
     "prompt_number": 13
    },
    {
     "cell_type": "code",
     "collapsed": false,
     "input": [
      "def lnprob_fast(b,m, amp, l):\n",
      "    A = calcA(b, m)\n",
      "    S = sparse_k_3_2(xs, amp, l) + sp.eye(len(xs))\n",
      "    s, logdet = np.linalg.slogdet(S.todense())\n",
      "    if s <= 0:\n",
      "        return -np.inf\n",
      "    lnp =  -0.5 * (A.T.dot(spsolve(S,A)) + logdet)\n",
      "    return lnp   \n",
      "    "
     ],
     "language": "python",
     "metadata": {},
     "outputs": [],
     "prompt_number": 138
    },
    {
     "cell_type": "code",
     "collapsed": false,
     "input": [
      "print(lnprob_fast(10, 0.2, 1, 0.1))\n",
      "print(lnprob_fast(10, 0.2, 1, 1))\n",
      "print(lnprob_fast(10, 0.2, 1, 10))\n",
      "print()\n",
      "print(lnprob_fast(10, 0.2, 10, 0.1))\n",
      "print(lnprob_fast(10, 0.2, 10, 1))\n",
      "print(lnprob_fast(10, 0.2, 10, 10))"
     ],
     "language": "python",
     "metadata": {},
     "outputs": [
      {
       "output_type": "stream",
       "stream": "stdout",
       "text": [
        "-1883.32528909\n",
        "-1661.08224326"
       ]
      },
      {
       "output_type": "stream",
       "stream": "stdout",
       "text": [
        "\n",
        "-1688.58840283"
       ]
      },
      {
       "output_type": "stream",
       "stream": "stdout",
       "text": [
        "\n",
        "\n",
        "-3224.11425617"
       ]
      },
      {
       "output_type": "stream",
       "stream": "stdout",
       "text": [
        "\n",
        "-1965.46043112"
       ]
      },
      {
       "output_type": "stream",
       "stream": "stdout",
       "text": [
        "\n",
        "-1646.16116033"
       ]
      },
      {
       "output_type": "stream",
       "stream": "stdout",
       "text": [
        "\n"
       ]
      }
     ],
     "prompt_number": 139
    },
    {
     "cell_type": "markdown",
     "metadata": {},
     "source": [
      "Rather than use a Gaussian for $k(x, x^\\prime)$, we can use a more general covariance function, such as the 'squared exponential' but with an added Gaussian taper\n",
      "\n",
      "$$k(x, x^\\prime | h, a, \\mu, \\sigma) = \\exp \\left ( \\frac{-( x - x^\\prime)^2 }{2 h^2} \\right ) \\frac{a^2}{2 \\pi \\sigma} \\exp \\left ( - \\frac{[(x - \\mu)^2 + (x^\\prime - \\mu)^2]}{2 \\sigma^2}\\right )$$\n",
      "\n",
      "here $h$ is a \"bandwidth\" that controls the power of the oscillations. If $h$ is small, then there will be high-frequency structure. If $h$ is large, then only low-frequency structure will remain."
     ]
    },
    {
     "cell_type": "code",
     "collapsed": false,
     "input": [
      "def exp_func(x0i, x1i, x0v=None, x1v=None, h=None, amp=None, mu=None, sigma=None):\n",
      "    x0 = x0v[x0i]\n",
      "    x1 = x1v[x1i]\n",
      "    return amp**2/(2 * np.pi * sigma**2) * np.exp(-((x0 - mu)**2 + (x1 - mu)**2)/(2 * sigma**2)) * np.exp(-0.5 * (x0 - x1)**2/h**2)"
     ],
     "language": "python",
     "metadata": {},
     "outputs": [],
     "prompt_number": 3
    }
   ],
   "metadata": {}
  }
 ]
}