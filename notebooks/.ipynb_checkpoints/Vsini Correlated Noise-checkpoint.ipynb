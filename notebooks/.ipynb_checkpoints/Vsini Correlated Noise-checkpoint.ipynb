{
 "metadata": {
  "name": "",
  "signature": "sha256:eae97b281ecef5e583672761c99120e40a0c80a1d2d69c8563f772c5026c761e"
 },
 "nbformat": 3,
 "nbformat_minor": 0,
 "worksheets": [
  {
   "cells": [
    {
     "cell_type": "markdown",
     "metadata": {},
     "source": [
      "#Determining $v \\sin i$ in the presence of correlated noise\n",
      "\n",
      "Question: does accounting for correlated noise result in a different estimate of the rotational velocity $v \\sin i$?\n",
      "\n",
      "Procedure: take a small region of a synthetic spectrum, convolve it with a known $v \\sin i$ kernel, and then add in correlated noise as would be present in a spectrograph, for example with the same Matern kernel that we used for the fitting.\n",
      "\n",
      "Another option might be to approximate correlating noise by convolving Gaussian random noise with a LSF kernel.\n",
      "\n",
      "Then, use a fitting code to back out correlated noise again. Do we get the same answer?\n",
      "\n"
     ]
    },
    {
     "cell_type": "code",
     "collapsed": false,
     "input": [
      "%matplotlib\n",
      "import matplotlib.pyplot as plt\n",
      "import numpy as np\n",
      "from IPython.html import widgets # Widget definitions\n",
      "from IPython.display import display, clear_output, HTML # Used to display widgets in the notebook\n",
      "from IPython.html.widgets import interact, interactive, fixed"
     ],
     "language": "python",
     "metadata": {},
     "outputs": [
      {
       "output_type": "stream",
       "stream": "stdout",
       "text": [
        "Using matplotlib backend: Qt4Agg\n"
       ]
      }
     ],
     "prompt_number": 1
    },
    {
     "cell_type": "code",
     "collapsed": false,
     "input": [
      "from StellarSpectra.model import Model\n",
      "from StellarSpectra.spectrum import DataSpectrum\n",
      "from StellarSpectra.grid_tools import TRES, HDF5Interface\n",
      "import scipy.sparse as sp\n",
      "import numpy as np\n",
      "\n",
      "myDataSpectrum = DataSpectrum.open(\"../StellarSpectra/tests/WASP14/WASP-14_2009-06-15_04h13m57s_cb.spec.flux\", orders=np.array([22]))\n",
      "myInstrument = TRES()\n",
      "myHDF5Interface = HDF5Interface(\"../libraries/PHOENIX_submaster.hdf5\")\n",
      "\n",
      "myModel = Model(myDataSpectrum, myInstrument, myHDF5Interface, stellar_tuple=(\"temp\", \"logg\", \"Z\", \"vsini\", \"vz\", \"logOmega\"), \n",
      "                cov_tuple=(\"sigAmp\", \"logAmp\", \"l\"), region_tuple=(\"h\", \"loga\", \"mu\", \"sigma\"))\n",
      "myOrderModel = myModel.OrderModels[0]"
     ],
     "language": "python",
     "metadata": {},
     "outputs": [
      {
       "output_type": "stream",
       "stream": "stdout",
       "text": [
        "Grid stretches from 5135.32127896173 to 5236.2786948156\n",
        "wl_FFT is 0.04805860213977044 km/s\n",
        "Creating OrderModel 0\n"
       ]
      }
     ],
     "prompt_number": 2
    },
    {
     "cell_type": "markdown",
     "metadata": {},
     "source": [
      "## Step 1: creating the fake synthetic spectrum\n",
      "\n",
      "Use the downsampled model fluxes at the wavelength of the WASP data.\n",
      "\n",
      "Then add back in the WASP noise? The only problem is that this WASP noise is related to the original spectrum. This might be a better later step."
     ]
    },
    {
     "cell_type": "code",
     "collapsed": false,
     "input": [
      "params = {\"temp\":6200, \"logg\":4.0, \"Z\":-0.2, \"vsini\":5, \"vz\":15, \"logOmega\":-19.4}\n",
      "myModel.update_Model(params)\n",
      "model_flux = myOrderModel.get_spectrum()[0]"
     ],
     "language": "python",
     "metadata": {},
     "outputs": [],
     "prompt_number": 3
    },
    {
     "cell_type": "code",
     "collapsed": false,
     "input": [
      "np.save(\"fakeWASP.clean.fls.npy\", model_flux) # this are the clean fluxes, no noise added"
     ],
     "language": "python",
     "metadata": {},
     "outputs": [],
     "prompt_number": 6
    },
    {
     "cell_type": "markdown",
     "metadata": {},
     "source": [
      "##Step 2: create a covariance matrix using a Matern kernel\n",
      "\n",
      "Note that this can be done including different kinds of noise on the diagonal."
     ]
    },
    {
     "cell_type": "code",
     "collapsed": false,
     "input": [
      "def sparse_k_3_2(xs, amp, l):\n",
      "    N = len(xs)\n",
      "    offset = 0\n",
      "    r0 = 6 * l\n",
      "    diags = []\n",
      "    while offset < N:\n",
      "        #Pairwise calculate rs\n",
      "        if offset == 0:\n",
      "            rs = np.zeros_like(xs)\n",
      "        else:\n",
      "            rs = np.abs(xs[offset:] - xs[:-offset])\n",
      "            k = np.empty_like(rs)\n",
      "        if np.min(rs) >= r0:\n",
      "            break\n",
      "        k = (0.5 + 0.5 * np.cos(np.pi * rs/r0)) * amp**2 * (1 + np.sqrt(3) * rs/l) * np.exp(-np.sqrt(3) * rs/l)\n",
      "        k[rs >= r0] = 0\n",
      "        diags.append(k)\n",
      "        offset += 1\n",
      "        \n",
      "    #Mirror the diagonals\n",
      "    front = diags[1:].copy()\n",
      "    front.reverse()\n",
      "    diags = front + diags\n",
      "    offsets = [i for i in range(-offset + 1, offset)]\n",
      "    return sp.diags(diags, offsets, format=\"csc\")"
     ],
     "language": "python",
     "metadata": {},
     "outputs": []
    },
    {
     "cell_type": "code",
     "collapsed": false,
     "input": [
      "mysparse = sparse_k_3_2(ys, 1, 1) + sp.eye(len(ys))"
     ],
     "language": "python",
     "metadata": {},
     "outputs": []
    },
    {
     "cell_type": "markdown",
     "metadata": {},
     "source": [
      "##Step 3: generate correlated noise using the covariance matrix"
     ]
    },
    {
     "cell_type": "code",
     "collapsed": false,
     "input": [],
     "language": "python",
     "metadata": {},
     "outputs": []
    }
   ],
   "metadata": {}
  }
 ]
}