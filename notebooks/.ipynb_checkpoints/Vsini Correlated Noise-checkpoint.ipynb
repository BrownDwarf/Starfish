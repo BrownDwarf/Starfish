{
 "metadata": {
  "name": "",
  "signature": "sha256:9bb2a53e3bddb760beb07295bd8273db859e0f5c5e844d61c39cd70e2320bf09"
 },
 "nbformat": 3,
 "nbformat_minor": 0,
 "worksheets": [
  {
   "cells": [
    {
     "cell_type": "markdown",
     "metadata": {},
     "source": [
      "#Determining $v \\sin i$ in the presence of correlated noise\n",
      "\n",
      "Question: does accounting for correlated noise result in a different estimate of the rotational velocity $v \\sin i$?\n",
      "\n",
      "Procedure: take a small region of a synthetic spectrum, convolve it with a known $v \\sin i$ kernel, and then add in correlated noise as would be present in a spectrograph, for example with the same Matern kernel that we used for the fitting.\n",
      "\n",
      "Another option might be to approximate correlating noise by convolving Gaussian random noise with a LSF kernel.\n",
      "\n",
      "Then, use a fitting code to back out correlated noise again. Do we get the same answer?\n",
      "\n"
     ]
    },
    {
     "cell_type": "code",
     "collapsed": false,
     "input": [
      "%matplotlib\n",
      "import matplotlib.pyplot as plt\n",
      "import numpy as np\n",
      "from IPython.html import widgets # Widget definitions\n",
      "from IPython.display import display, clear_output, HTML # Used to display widgets in the notebook\n",
      "from IPython.html.widgets import interact, interactive, fixed"
     ],
     "language": "python",
     "metadata": {},
     "outputs": [
      {
       "output_type": "stream",
       "stream": "stdout",
       "text": [
        "Using matplotlib backend: Qt4Agg\n"
       ]
      }
     ],
     "prompt_number": 1
    },
    {
     "cell_type": "code",
     "collapsed": false,
     "input": [
      "from StellarSpectra.model import Model\n",
      "from StellarSpectra.spectrum import DataSpectrum\n",
      "from StellarSpectra.grid_tools import TRES, HDF5Interface\n",
      "import scipy.sparse as sp\n",
      "import numpy as np\n",
      "\n",
      "myDataSpectrum = DataSpectrum.open(\"../StellarSpectra/tests/WASP14/WASP-14_2009-06-15_04h13m57s_cb.spec.flux\", orders=np.array([22]))\n",
      "myInstrument = TRES()\n",
      "myHDF5Interface = HDF5Interface(\"../libraries/PHOENIX_submaster.hdf5\")\n",
      "\n",
      "myModel = Model(myDataSpectrum, myInstrument, myHDF5Interface, stellar_tuple=(\"temp\", \"logg\", \"Z\", \"vsini\", \"vz\", \"logOmega\"), \n",
      "                cov_tuple=(\"sigAmp\", \"logAmp\", \"l\"), region_tuple=(\"h\", \"loga\", \"mu\", \"sigma\"))\n",
      "myOrderModel = myModel.OrderModels[0]"
     ],
     "language": "python",
     "metadata": {},
     "outputs": [
      {
       "output_type": "stream",
       "stream": "stdout",
       "text": [
        "Grid stretches from 5135.32127896173 to 5236.2786948156\n",
        "wl_FFT is 0.04805860213977044 km/s\n",
        "Creating OrderModel 0\n"
       ]
      }
     ],
     "prompt_number": 2
    },
    {
     "cell_type": "markdown",
     "metadata": {},
     "source": [
      "## Step 1: creating the fake synthetic spectrum\n",
      "\n",
      "Use the downsampled model fluxes at the wavelength of the WASP data.\n",
      "\n",
      "Then add back in the WASP noise? The only problem is that this WASP noise is related to the original spectrum. This might be a better later step."
     ]
    },
    {
     "cell_type": "code",
     "collapsed": false,
     "input": [
      "params = {\"temp\":6000, \"logg\":3.9, \"Z\":-0.7, \"vsini\":50, \"vz\":15, \"logOmega\":-19.665}\n",
      "myModel.update_Model(params)\n",
      "model_fl = myOrderModel.get_spectrum()\n",
      "spec = myModel.get_data()\n",
      "wl = spec.wls[0]\n",
      "fl = spec.fls[0]\n",
      "sigma = spec.sigmas[0]"
     ],
     "language": "python",
     "metadata": {},
     "outputs": [],
     "prompt_number": 52
    },
    {
     "cell_type": "code",
     "collapsed": false,
     "input": [
      "np.save(\"fakeWASP.clean.fl.npy\", model_fl) # this are the clean fluxes, no noise added"
     ],
     "language": "python",
     "metadata": {},
     "outputs": [],
     "prompt_number": 41
    },
    {
     "cell_type": "code",
     "collapsed": false,
     "input": [
      "#Plot the data to make sure it looks decent\n",
      "fig, ax = plt.subplots(nrows=2, sharex=True)\n",
      "ax[0].plot(wl, fl)\n",
      "ax[1].plot(wl, sigma)\n",
      "ax[-1].set_xlabel(r\"$\\lambda$ (\\AA)\")\n",
      "plt.show()"
     ],
     "language": "python",
     "metadata": {},
     "outputs": [],
     "prompt_number": 42
    },
    {
     "cell_type": "markdown",
     "metadata": {},
     "source": [
      "Average noise value at 5180 AA is 2.4e-15, if we want to try for constant noise."
     ]
    },
    {
     "cell_type": "markdown",
     "metadata": {},
     "source": [
      "##Step 2: create a covariance matrix using a Matern kernel\n",
      "\n",
      "Note that this can be done including different kinds of noise on the diagonal."
     ]
    },
    {
     "cell_type": "code",
     "collapsed": false,
     "input": [
      "def sparse_k_3_2(xs, amp, l):\n",
      "    N = len(xs)\n",
      "    offset = 0\n",
      "    r0 = 6 * l\n",
      "    diags = []\n",
      "    while offset < N:\n",
      "        #Pairwise calculate rs\n",
      "        if offset == 0:\n",
      "            rs = np.zeros_like(xs)\n",
      "        else:\n",
      "            rs = np.abs(xs[offset:] - xs[:-offset])\n",
      "            k = np.empty_like(rs)\n",
      "        if np.min(rs) >= r0:\n",
      "            break\n",
      "        k = (0.5 + 0.5 * np.cos(np.pi * rs/r0)) * amp**2 * (1 + np.sqrt(3) * rs/l) * np.exp(-np.sqrt(3) * rs/l)\n",
      "        k[rs >= r0] = 0\n",
      "        diags.append(k)\n",
      "        offset += 1\n",
      "        \n",
      "    #Mirror the diagonals\n",
      "    front = diags[1:].copy()\n",
      "    front.reverse()\n",
      "    diags = front + diags\n",
      "    offsets = [i for i in range(-offset + 1, offset)]\n",
      "    return sp.diags(diags, offsets, format=\"csc\")"
     ],
     "language": "python",
     "metadata": {},
     "outputs": [],
     "prompt_number": 8
    },
    {
     "cell_type": "code",
     "collapsed": false,
     "input": [
      "#For now, lets assume that we can use a constant Poisson noise level added in\n",
      "mysparse = sparse_k_3_2(wl, 10**(-14.7), 0.18) + (2.4e-15)**2 * sp.eye(len(wl))"
     ],
     "language": "python",
     "metadata": {},
     "outputs": [],
     "prompt_number": 9
    },
    {
     "cell_type": "code",
     "collapsed": false,
     "input": [
      "#Plot the covariance matrix to see what it looks like\n",
      "l, h = np.min(wl), np.max(wl)\n",
      "#extent is scalars (left, right, bottom, top)\n",
      "plt.imshow(mysparse.todense(), origin=\"upper\", interpolation=\"none\", extent=[l, h, h, l])\n",
      "plt.show()"
     ],
     "language": "python",
     "metadata": {},
     "outputs": [],
     "prompt_number": 10
    },
    {
     "cell_type": "markdown",
     "metadata": {},
     "source": [
      "##Step 3: generate correlated noise using the covariance matrix"
     ]
    },
    {
     "cell_type": "code",
     "collapsed": false,
     "input": [
      "#To draw some fake correlated noise, we use the covariance matrix as part of a multi-dimensional Gaussian centered on mu=0\n",
      "fake_sigma = np.random.multivariate_normal(np.zeros((len(wl),)), mysparse.todense())"
     ],
     "language": "python",
     "metadata": {},
     "outputs": [],
     "prompt_number": 12
    },
    {
     "cell_type": "markdown",
     "metadata": {},
     "source": [
      "If we were to assume that this correlated noise were actually uncorrelated, and just assign a sigma value, what would we get?\n",
      "\n",
      "Note that this is actually pretty similar for the flat value of sigma that we assume."
     ]
    },
    {
     "cell_type": "code",
     "collapsed": false,
     "input": [
      "np.std(fake_sigma)"
     ],
     "language": "python",
     "metadata": {},
     "outputs": [
      {
       "metadata": {},
       "output_type": "pyout",
       "prompt_number": 37,
       "text": [
        "3.0711896120148921e-15"
       ]
      }
     ],
     "prompt_number": 37
    },
    {
     "cell_type": "code",
     "collapsed": false,
     "input": [
      "fig, ax = plt.subplots(nrows=3, sharey=True, sharex=True)\n",
      "ax[0].plot(wl, fl - np.median(fl)) \n",
      "ax[1].plot(wl, sigma)\n",
      "ax[2].plot(wl, fake_sigma)\n",
      "ax[-1].set_xlabel(r\"$\\lambda$ (\\AA)\")\n",
      "plt.show()\n",
      "#Zooming in on a region of stellar continuum from a true data set of WASP14, we see that the covariance kernel nicely \n",
      "#approximates the noise structure present in an actual spectrum from TRES"
     ],
     "language": "python",
     "metadata": {},
     "outputs": [],
     "prompt_number": 39
    },
    {
     "cell_type": "markdown",
     "metadata": {},
     "source": [
      "##Step 4: add the ``fake_sigma`` back onto the fakeWASP spectra"
     ]
    },
    {
     "cell_type": "code",
     "collapsed": false,
     "input": [
      "#Save the noise\n",
      "np.save(\"fakeWASP.noisey.sigma.npy\", fake_sigma)"
     ],
     "language": "python",
     "metadata": {},
     "outputs": [],
     "prompt_number": 18
    },
    {
     "cell_type": "code",
     "collapsed": false,
     "input": [
      "#Create a noisey spectrum by adding the noise to the true spectrum\n",
      "noisey_fl = model_fl + fake_sigma"
     ],
     "language": "python",
     "metadata": {},
     "outputs": [],
     "prompt_number": 53
    },
    {
     "cell_type": "code",
     "collapsed": false,
     "input": [
      "#Plot the true spectrum against the noisey spectrum to see what has changed\n",
      "fig, ax = plt.subplots(nrows=2, sharey=True, sharex=True)\n",
      "ax[0].plot(wl, model_fl)\n",
      "ax[1].plot(wl, noisey_fl)\n",
      "ax[-1].set_xlabel(r\"$\\lambda$ (\\AA)\")\n",
      "plt.show()"
     ],
     "language": "python",
     "metadata": {},
     "outputs": [],
     "prompt_number": 54
    },
    {
     "cell_type": "code",
     "collapsed": false,
     "input": [
      "#Save the noisey spectrum\n",
      "np.save(\"fakeWASP.noisey.fl.npy\", noisey_fl)"
     ],
     "language": "python",
     "metadata": {},
     "outputs": [],
     "prompt_number": 48
    },
    {
     "cell_type": "markdown",
     "metadata": {},
     "source": [
      "##Step 5: try determining stellar properties assuming uncorrelated noise"
     ]
    },
    {
     "cell_type": "markdown",
     "metadata": {},
     "source": [
      "The results:\n",
      "\n",
      "\n",
      "* Tests on a fake dataset created with vsini=5.0 km/s still return the correct answer, both assuming no correlated noise and assuming correlated noise.\n",
      "\n",
      "* Tests on WASP-14 fluxes assuming correlated noise give ~10.6 km/s\n",
      "\n",
      "* Generating fake spectra with large vsini of 50km/s and 100 km/s yield datasets (so that TRES kernel should be irrelevant) that have FWHM of 50km/s and 100 km/s respectively. Taking a look at Gray, it seems as though it shouldn't be a 1-to-1 mapping of vsini to FWHM, so this makes me a little bit skeptical.\n",
      "\n",
      "* If I fit WASP14 assuming uncorrelated noise and it still results in posteriors that favor 10.6 km/s, then we know that we have a problem with either the TRES or vsini kernel. THIS IS THE CASE, DAMMIT\n",
      "\n",
      "The logical conclusions from this exercise that either WASP-14 actually has a $ v \\sin i$ of 10 km/s, or or TRES/vsini kernels are wrong. What we do know is that the increased $v \\sin i$ determination is **not** due to the inclusion of correlated noise. Since the published values for WASP-14 vsini are ~5 km/s, AND a previous version of the code also got vsini = 5, then I have to assume that it was a bug introduced in my new version of the code.\n",
      "\n",
      "Could this be due to using the REAL FFT and not the complex case?\n",
      "\n",
      "How can we test these...\n",
      "\n",
      "Is there an easy way to independently determine the vsini of our synthetic spectrum? I don't think so. We can start with taking a raw spectrum delivered from interpolator.\n",
      "\n",
      "\n"
     ]
    },
    {
     "cell_type": "code",
     "collapsed": false,
     "input": [
      "ind =  myHDF5Interface.ind\n",
      "wl = myHDF5Interface.wl[ind[0]: ind[1]]\n",
      "fl = myHDF5Interface.load_flux({\"temp\":6000, \"logg\":4.0, \"Z\":-0.5, \"alpha\":0})"
     ],
     "language": "python",
     "metadata": {},
     "outputs": [],
     "prompt_number": 66
    },
    {
     "cell_type": "code",
     "collapsed": false,
     "input": [
      "plt.plot(wl, fl)\n",
      "plt.show()"
     ],
     "language": "python",
     "metadata": {},
     "outputs": [],
     "prompt_number": 67
    },
    {
     "cell_type": "code",
     "collapsed": false,
     "input": [
      "np.save(\"wl.npy\", wl)\n",
      "np.save(\"fl.npy\", fl)"
     ],
     "language": "python",
     "metadata": {},
     "outputs": [],
     "prompt_number": 68
    }
   ],
   "metadata": {}
  }
 ]
}