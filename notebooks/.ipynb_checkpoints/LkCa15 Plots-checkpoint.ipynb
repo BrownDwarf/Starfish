{
 "metadata": {
  "name": "",
  "signature": "sha256:2a65b1260bf02e6b9a66804d931c5ef399643d6d5d9d89e751b7758a8aac6ae0"
 },
 "nbformat": 3,
 "nbformat_minor": 0,
 "worksheets": [
  {
   "cells": [
    {
     "cell_type": "code",
     "collapsed": false,
     "input": [
      "#Import all of the relevant python modules\n",
      "import numpy as np\n",
      "import scipy.sparse as sp #Sparse array module\n",
      "from scipy.sparse.linalg import inv as sinv\n",
      "from scipy.sparse.linalg import spsolve\n",
      "from numpy.linalg import inv,det, cholesky\n",
      "\n",
      "import matplotlib\n",
      "import matplotlib.pyplot as plt\n",
      "from matplotlib.ticker import FormatStrFormatter as FSF\n",
      "from matplotlib.ticker import MaxNLocator\n",
      "from matplotlib.ticker import MultipleLocator"
     ],
     "language": "python",
     "metadata": {},
     "outputs": [],
     "prompt_number": 1
    },
    {
     "cell_type": "code",
     "collapsed": false,
     "input": [
      "from StellarSpectra.model import Model\n",
      "from StellarSpectra.spectrum import DataSpectrum\n",
      "from StellarSpectra.grid_tools import TRES, HDF5Interface\n",
      "import scipy.sparse as sp\n",
      "import numpy as np\n",
      "\n",
      "myDataSpectrum = DataSpectrum.open(\"../data/LkCa15/LkCa15-2013-10-12.hdf5\", orders=np.array([22]))\n",
      "myInstrument = TRES()\n",
      "myHDF5Interface = HDF5Interface(\"../libraries/PHOENIX_LkCa15.hdf5\")\n",
      "#myHDF5Interface = HDF5Interface(\"../libraries/Kurucz_master.hdf5\")"
     ],
     "language": "python",
     "metadata": {},
     "outputs": [],
     "prompt_number": 2
    },
    {
     "cell_type": "code",
     "collapsed": false,
     "input": [
      "#Load a model using the JSON file\n",
      "myModel = Model.from_json(\"lkca15.json\", myDataSpectrum, myInstrument, myHDF5Interface)\n",
      "myOrderModel = myModel.OrderModels[0]\n",
      "spec = myModel.get_data()\n",
      "\n",
      "wl = spec.wls[0]\n",
      "fl = spec.fls[0]\n",
      "\n",
      "model_fl = myOrderModel.get_spectrum()\n",
      "\n",
      "median_fl = np.median(fl)\n",
      "fl_norm = fl / median_fl\n",
      "model_fl_norm = model_fl / median_fl\n",
      "\n",
      "residuals = fl_norm - model_fl_norm\n",
      "cheb = myOrderModel.get_Cheb()"
     ],
     "language": "python",
     "metadata": {},
     "outputs": [
      {
       "output_type": "stream",
       "stream": "stdout",
       "text": [
        "Grid stretches from 5135.9751027239245 to 5236.7957284135055\n",
        "wl_FFT is 0.04799284436678404 km/s\n",
        "Creating OrderModel 0\n",
        "params are "
       ]
      },
      {
       "output_type": "stream",
       "stream": "stdout",
       "text": [
        " {'c1': 0.01570657585644946, 'logc0': 0.21346152385238995, 'c2': 0.02177495532701325, 'c3': -0.015492282425395673}\n"
       ]
      }
     ],
     "prompt_number": 3
    },
    {
     "cell_type": "code",
     "collapsed": false,
     "input": [
      "figsize=(4, 4)\n",
      "\n",
      "fig = plt.figure(figsize=figsize)\n",
      "ax = fig.add_subplot(111)\n",
      "ax.plot(wl, fl, \"b\", label=\"TRES\")\n",
      "ax.plot(wl, model_fl, \"r\", label=\"model\")\n",
      "\n",
      "ax.set_xlim(5145, 5189)\n",
      "ax.xaxis.set_major_formatter(FSF(\"%.0f\"))\n",
      "ax.set_xlabel(r\"$\\lambda$  (\\AA)\")\n",
      "ax.legend(loc='lower left')\n",
      "ax.set_ylabel(\"$f_\\lambda$\")\n",
      "ax.xaxis.set_major_locator(MultipleLocator(8.))\n",
      "fig.subplots_adjust(left=0.12, bottom=0.14)\n",
      "\n",
      "fig.savefig(\"../plots/lkca15.pdf\")\n",
      "plt.show()"
     ],
     "language": "python",
     "metadata": {},
     "outputs": [],
     "prompt_number": 28
    },
    {
     "cell_type": "code",
     "collapsed": false,
     "input": [],
     "language": "python",
     "metadata": {},
     "outputs": []
    }
   ],
   "metadata": {}
  }
 ]
}