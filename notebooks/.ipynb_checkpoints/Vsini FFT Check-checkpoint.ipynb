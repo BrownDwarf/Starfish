{
 "metadata": {
  "name": "",
  "signature": "sha256:ea0e45457c314ce531cec321807c9688dd16dd127ea2e19925083c8953534663"
 },
 "nbformat": 3,
 "nbformat_minor": 0,
 "worksheets": [
  {
   "cells": [
    {
     "cell_type": "code",
     "collapsed": false,
     "input": [
      "%matplotlib\n",
      "import matplotlib.pyplot as plt\n",
      "import numpy as np"
     ],
     "language": "python",
     "metadata": {},
     "outputs": [
      {
       "output_type": "stream",
       "stream": "stdout",
       "text": [
        "Using matplotlib backend: Qt4Agg\n"
       ]
      }
     ],
     "prompt_number": 1
    },
    {
     "cell_type": "code",
     "collapsed": false,
     "input": [
      "from StellarSpectra.model import Model\n",
      "from StellarSpectra.spectrum import DataSpectrum\n",
      "from StellarSpectra.grid_tools import TRES, HDF5Interface\n",
      "import scipy.sparse as sp\n",
      "import numpy as np\n",
      "\n",
      "myDataSpectrum = DataSpectrum.open(\"../StellarSpectra/tests/WASP14/WASP-14_2009-06-15_04h13m57s_cb.spec.flux\", orders=np.array([22]))\n",
      "myInstrument = TRES()\n",
      "myHDF5Interface = HDF5Interface(\"../libraries/PHOENIX_submaster.hdf5\")\n",
      "\n",
      "myModel = Model(myDataSpectrum, myInstrument, myHDF5Interface, stellar_tuple=(\"temp\", \"logg\", \"Z\", \"vsini\", \"vz\", \"logOmega\"), \n",
      "                cov_tuple=(\"sigAmp\", \"logAmp\", \"l\"), region_tuple=(\"h\", \"loga\", \"mu\", \"sigma\"))\n",
      "myOrderModel = myModel.OrderModels[0]"
     ],
     "language": "python",
     "metadata": {},
     "outputs": [
      {
       "output_type": "stream",
       "stream": "stdout",
       "text": [
        "Grid stretches from 5135.32127896173 to 5236.2786948156\n",
        "wl_FFT is 0.04805860213977044 km/s\n",
        "Creating OrderModel 0\n"
       ]
      }
     ],
     "prompt_number": 2
    },
    {
     "cell_type": "code",
     "collapsed": false,
     "input": [
      "#!! Only evaluate if you need new wl and fl\n",
      "ind =  myHDF5Interface.ind\n",
      "wl = myHDF5Interface.wl[ind[0]: ind[1]]\n",
      "fl = myHDF5Interface.load_flux({\"temp\":6000, \"logg\":4.0, \"Z\":-0.5, \"alpha\":0})\n",
      "\n",
      "np.save(\"wl.npy\", wl)\n",
      "np.save(\"fl.npy\", fl)"
     ],
     "language": "python",
     "metadata": {},
     "outputs": [],
     "prompt_number": 66
    },
    {
     "cell_type": "markdown",
     "metadata": {},
     "source": [
      "The results:\n",
      "\n",
      "\n",
      "* Tests on a fake dataset created with vsini=5.0 km/s still return the correct answer, both assuming no correlated noise and assuming correlated noise.\n",
      "\n",
      "* Tests on WASP-14 fluxes assuming correlated noise give ~10.6 km/s\n",
      "\n",
      "* Generating fake spectra with large vsini of 50km/s and 100 km/s yield datasets (so that TRES kernel should be irrelevant) that have FWHM of 50km/s and 100 km/s respectively. Taking a look at Gray, it seems as though it shouldn't be a 1-to-1 mapping of vsini to FWHM, so this makes me a little bit skeptical.\n",
      "\n",
      "* If I fit WASP14 assuming uncorrelated noise and it still results in posteriors that favor 10.6 km/s, then we know that we have a problem with either the TRES or vsini kernel. THIS IS THE CASE, DAMMIT\n",
      "\n",
      "The logical conclusions from this exercise that either WASP-14 actually has a $ v \\sin i$ of 10 km/s, or or TRES/vsini kernels are wrong. What we do know is that the increased $v \\sin i$ determination is **not** due to the inclusion of correlated noise. Since the published values for WASP-14 vsini are ~5 km/s, AND a previous version of the code also got vsini = 5, then I have to assume that it was a bug introduced in my new version of the code.\n",
      "\n",
      "Could this be due to using the REAL FFT and not the complex case?\n",
      "\n",
      "Is there an easy way to independently determine the vsini of our synthetic spectrum? I don't think so. We can start with taking a raw spectrum delivered from interpolator and trying to create a vsini spectrum from both methods.\n"
     ]
    },
    {
     "cell_type": "code",
     "collapsed": false,
     "input": [
      "wl = np.load(\"wl.npy\")\n",
      "fl = np.load(\"fl.npy\")"
     ],
     "language": "python",
     "metadata": {},
     "outputs": [],
     "prompt_number": 3
    },
    {
     "cell_type": "code",
     "collapsed": false,
     "input": [
      "plt.plot(wl, fl)\n",
      "plt.show()"
     ],
     "language": "python",
     "metadata": {},
     "outputs": [],
     "prompt_number": 4
    },
    {
     "cell_type": "markdown",
     "metadata": {},
     "source": [
      "# Old OLD code for calculating $v \\sin i$ and TRES kernel"
     ]
    },
    {
     "cell_type": "code",
     "collapsed": false,
     "input": [
      "#set vsini\n",
      "vsini = 5.0 #km/s"
     ],
     "language": "python",
     "metadata": {},
     "outputs": [],
     "prompt_number": 40
    },
    {
     "cell_type": "code",
     "collapsed": false,
     "input": [
      "from scipy.ndimage.filters import convolve\n",
      "c_ang = 2.99792458e18 #A s^-1\n",
      "c_kms = 2.99792458e5 #km s^-1"
     ],
     "language": "python",
     "metadata": {},
     "outputs": [],
     "prompt_number": 7
    },
    {
     "cell_type": "code",
     "collapsed": false,
     "input": [
      "def karray(center, width, res):\n",
      "    '''Creates a kernel array with an odd number of elements, the central element centered at `center` and spanning\n",
      "    out to +/- width in steps of resolution. Works similar to arange in that it may or may not get all the way to the\n",
      "    edge.'''\n",
      "    neg = np.arange(center - res, center - width, -res)[::-1]\n",
      "    pos = np.arange(center, center + width, res)\n",
      "    kar = np.concatenate([neg, pos])\n",
      "    return kar\n",
      "\n",
      "@np.vectorize\n",
      "def vsini_ang(lam0, vsini, dlam=0.01, epsilon=0.6):\n",
      "    '''vsini in km/s. Epsilon is the limb-darkening coefficient, typically 0.6. Formulation uses Eqn 18.14 from Gray,\n",
      "    The Observation and Analysis of Stellar Photospheres, 3rd Edition.'''\n",
      "    lamL = vsini * 1e13 * lam0 / c_ang\n",
      "    lam = karray(0, lamL, dlam)\n",
      "    c1 = 2. * (1 - epsilon) / (np.pi * lamL * (1 - epsilon / 3.))\n",
      "    c2 = epsilon / (2. * lamL * (1 - epsilon / 3.))\n",
      "    series = c1 * np.sqrt(1. - (lam / lamL) ** 2) + c2 * (1. - (lam / lamL) ** 2) ** 2\n",
      "    return series / np.sum(series)"
     ],
     "language": "python",
     "metadata": {},
     "outputs": [],
     "prompt_number": 6
    },
    {
     "cell_type": "code",
     "collapsed": false,
     "input": [
      "#TRES Instrument Broadening\n",
      "@np.vectorize\n",
      "def gauss_kernel(dlam, lam0, V=6.8):\n",
      "    '''V is the FWHM in km/s. lam0 is the central wavelength in A'''\n",
      "    sigma = V / 2.355 * 1e13 #A/s\n",
      "    return np.exp(- (c_ang * dlam / lam0) ** 2 / (2. * sigma ** 2))\n",
      "\n",
      "\n",
      "def gauss_series(dlam, lam0, V=6.8):\n",
      "    '''sampled from +/- 3sigma at dlam. V is the FWHM in km/s'''\n",
      "    sigma_l = V / (2.355 * c_kms) * lam0 # sigma in AA (lambda)\n",
      "    wl = karray(0., 6 * sigma_l, dlam) # Gaussian kernel stretching +/- 6 sigma in lambda (AA)\n",
      "    gk = gauss_kernel(wl, lam0, V)\n",
      "    return gk / np.sum(gk)"
     ],
     "language": "python",
     "metadata": {},
     "outputs": [],
     "prompt_number": 8
    },
    {
     "cell_type": "code",
     "collapsed": false,
     "input": [
      "#convolve with stellar broadening (sb)\n",
      "k = vsini_ang(np.mean(wl), vsini) # stellar rotation kernel centered at order\n",
      "f_sb = convolve(fl, k)\n",
      "\n",
      "dlam = wl[1] - wl[0] # spacing of model points for TRES resolution kernel\n",
      "\n",
      "#convolve with filter to resolution of TRES\n",
      "filt = gauss_series(dlam, lam0=np.mean(wl))\n",
      "f_TRES = convolve(f_sb, filt)"
     ],
     "language": "python",
     "metadata": {},
     "outputs": [],
     "prompt_number": 12
    },
    {
     "cell_type": "code",
     "collapsed": false,
     "input": [
      "plt.plot(wl, f_TRES)"
     ],
     "language": "python",
     "metadata": {},
     "outputs": [
      {
       "metadata": {},
       "output_type": "pyout",
       "prompt_number": 13,
       "text": [
        "[<matplotlib.lines.Line2D at 0x7fc53fbffcc0>]"
       ]
      }
     ],
     "prompt_number": 13
    },
    {
     "cell_type": "markdown",
     "metadata": {},
     "source": [
      "# Current code for calculating $v \\sin i$"
     ]
    },
    {
     "cell_type": "code",
     "collapsed": false,
     "input": [
      "from scipy.interpolate import InterpolatedUnivariateSpline\n",
      "from scipy.special import j1\n",
      "import pyfftw\n",
      "import StellarSpectra.constants as C\n",
      "from StellarSpectra.spectrum import create_log_lam_grid, calculate_min_v"
     ],
     "language": "python",
     "metadata": {},
     "outputs": [],
     "prompt_number": 18
    },
    {
     "cell_type": "code",
     "collapsed": false,
     "input": [
      "#Calculate a log_lam grid based upon the length of the DataSpectrum\n",
      "wl_min, wl_max = np.min(wl), np.max(wl)\n",
      "wl_dict = create_log_lam_grid(wl_min - 4., wl_max + 4., min_vc=0.08/C.c_kms)\n",
      "wl_FFT = wl_dict[\"wl\"]\n",
      "print(\"Grid stretches from {} to {}\".format(wl_min, wl_max))\n",
      "print(\"wl_FFT is length {} and spaced by {} km/s\".format(len(wl_FFT), calculate_min_v(wl_dict)))\n",
      "min_v = 0.08\n",
      "min_v = calculate_min_v(wl_dict)  #THIS WAS THE FUCKING PROBLEM\n",
      "\n",
      "ss = np.fft.rfftfreq(len(wl_FFT), d=min_v)\n",
      "ss[0] = 0.01 #junk so we don't get a divide by zero error\n",
      "print(\"ss has length {} and is {}\".format(len(ss), ss))\n",
      "\n",
      "#Grab chunk from wl_FFT\n",
      "chunk = len(wl_FFT)\n",
      "assert chunk % 2 == 0, \"Chunk is not a power of 2. FFT will be too slow.\"\n",
      "\n",
      "influx = pyfftw.n_byte_align_empty(chunk, 16, 'float64')\n",
      "FF = pyfftw.n_byte_align_empty(chunk // 2 + 1, 16, 'complex128')\n",
      "outflux = pyfftw.n_byte_align_empty(chunk, 16, 'float64')\n",
      "fft_object = pyfftw.FFTW(influx, FF, flags=('FFTW_ESTIMATE', 'FFTW_DESTROY_INPUT'))\n",
      "ifft_object = pyfftw.FFTW(FF, outflux, flags=('FFTW_ESTIMATE', 'FFTW_DESTROY_INPUT'), direction='FFTW_BACKWARD')"
     ],
     "language": "python",
     "metadata": {},
     "outputs": [
      {
       "output_type": "stream",
       "stream": "stdout",
       "text": [
        "Grid stretches from 5130.320485195467 to 5241.270935986825\n",
        "wl_FFT is length 131072 and spaced by 0.05246671323635133 km/s\n",
        "ss has length 65537 and is [  1.00000000e-02   1.45413998e-04   2.90827996e-04 ...,   9.52956094e+00\n",
        "   9.52970636e+00   9.52985177e+00]\n"
       ]
      }
     ],
     "prompt_number": 44
    },
    {
     "cell_type": "code",
     "collapsed": false,
     "input": [
      "#Interpolate the raw flux to wl_FFT\n",
      "interp = InterpolatedUnivariateSpline(wl, fl, k=5)\n",
      "fl_FFT = interp(wl_FFT)\n",
      "\n",
      "influx[:] = fl_FFT\n",
      "fft_object()\n",
      "\n",
      "sigma = myInstrument.FWHM / 2.35 # in km/s\n",
      "\n",
      "#Instrumentally broaden the spectrum by multiplying with a Gaussian in Fourier space\n",
      "taper = np.exp(-2 * (np.pi ** 2) * (sigma ** 2) * (ss ** 2))\n",
      "\n",
      "#Determine the stellar broadening kernel\n",
      "ub = 2. * np.pi * vsini * ss\n",
      "sb = j1(ub) / ub - 3 * np.cos(ub) / (2 * ub ** 2) + 3. * np.sin(ub) / (2 * ub ** 3)\n",
      "\n",
      "#set zeroth frequency to 1 separately (DC term)\n",
      "sb[0] = 1.\n",
      "taper[0] = 1.\n",
      "\n",
      "#institute velocity and instrumental taper\n",
      "FF *= sb * taper\n",
      "\n",
      "#do ifft\n",
      "ifft_object()\n",
      "fl_FFT[:] = outflux       "
     ],
     "language": "python",
     "metadata": {},
     "outputs": [],
     "prompt_number": 45
    },
    {
     "cell_type": "code",
     "collapsed": false,
     "input": [
      "plt.plot(wl, f_TRES)\n",
      "plt.plot(wl_FFT, fl_FFT)\n",
      "plt.ylim(1e6, 1e7);\n",
      "\n",
      "#The problem visible in this plot is that the new FFT spectrum is not broadened enough to match the pure-convolution spectrum"
     ],
     "language": "python",
     "metadata": {},
     "outputs": [
      {
       "metadata": {},
       "output_type": "pyout",
       "prompt_number": 46,
       "text": [
        "(1000000.0, 10000000.0)"
       ]
      }
     ],
     "prompt_number": 46
    },
    {
     "cell_type": "markdown",
     "metadata": {},
     "source": [
      "# Old code for calculating $v \\sin i$"
     ]
    },
    {
     "cell_type": "code",
     "collapsed": false,
     "input": [
      "#TRES convolution was done first this way\n",
      "\n",
      "f = fl\n",
      "wg_raw = wl\n",
      "\n",
      "wg_fine = wl_FFT\n",
      "wg_fine_d = \n",
      "\n",
      "def resample_and_convolve(f, wg_raw, wg_fine, wg_coarse, wg_fine_d=0.35, sigma=2.89):\n",
      "    '''Take a full-resolution PHOENIX model spectrum `f`, with raw spacing wg_raw, resample it to wg_fine\n",
      "    (done because the original grid is not log-linear spaced), instrumentally broaden it in the Fourier domain,\n",
      "    then resample it to wg_coarse. sigma in km/s.'''\n",
      "\n",
      "    #resample PHOENIX to 0.35km/s spaced grid using InterpolatedUnivariateSpline. First check to make sure there\n",
      "    #are no duplicates and the wavelength is increasing, otherwise the spline will fail and return NaN.\n",
      "    wl_sorted, ind = np.unique(wg_raw, return_index=True)\n",
      "    fl_sorted = f[ind]\n",
      "    interp_fine = InterpolatedUnivariateSpline(wl_sorted, fl_sorted)\n",
      "    f_grid = interp_fine(wg_fine)\n",
      "\n",
      "    #Fourier Transform\n",
      "    out = fft(f_grid)\n",
      "    #The frequencies (cycles/km) corresponding to each point\n",
      "    freqs = fftfreq(len(f_grid), d=wg_fine_d)\n",
      "\n",
      "    #Instrumentally broaden the spectrum by multiplying with a Gaussian in Fourier space (corresponding to FWHM 6.8km/s)\n",
      "    taper = np.exp(-2 * (np.pi ** 2) * (sigma ** 2) * (freqs ** 2))\n",
      "    tout = out * taper\n",
      "\n",
      "    #Take the broadened spectrum back to wavelength space\n",
      "    f_grid6 = ifft(tout)\n",
      "    #print(\"Total of imaginary components\", np.sum(np.abs(np.imag(f_grid6))))\n",
      "\n",
      "    #Resample the broadened spectrum to a uniform coarse grid\n",
      "    interp_coarse = InterpolatedUnivariateSpline(wg_fine, np.abs(f_grid6))\n",
      "    f_coarse = interp_coarse(wg_coarse)\n",
      "\n",
      "    del interp_fine\n",
      "    del interp_coarse\n",
      "    gc.collect() #necessary to prevent memory leak!\n",
      "\n",
      "    return f_coarse"
     ],
     "language": "python",
     "metadata": {},
     "outputs": [],
     "prompt_number": 55
    },
    {
     "cell_type": "code",
     "collapsed": false,
     "input": [
      "#vsini was calculated this way\n",
      "#Constant for all models\n",
      "ss = np.fft.fftfreq(len(wave_grid), d=2.) #2km/s spacing for wave_grid\n",
      "\n",
      "f_full = pyfftw.n_byte_align_empty(chunk, 16, 'complex128')\n",
      "FF = pyfftw.n_byte_align_empty(chunk, 16, 'complex128')\n",
      "blended = pyfftw.n_byte_align_empty(chunk, 16, 'complex128')\n",
      "blended_real = pyfftw.n_byte_align_empty(chunk, 16, \"float64\")\n",
      "fft_object = pyfftw.FFTW(f_full, FF)\n",
      "ifft_object = pyfftw.FFTW(FF, blended, direction='FFTW_BACKWARD')\n",
      "\n",
      "def model(wlsz, temp, logg, Z, vsini, Av, flux_factor):\n",
      "    '''Given parameters, return the model, exactly sliced to match the format of the echelle spectra in `efile`.\n",
      "    `temp` is effective temperature of photosphere. vsini in km/s. vz is radial velocity, negative values imply\n",
      "    blueshift. Assumes M, R are in solar units, and that d is in parsecs'''\n",
      "    #wlsz has length norders\n",
      "\n",
      "    #M = M * M_sun #g\n",
      "    #R = R * R_sun #cm\n",
      "    #d = d * pc #cm\n",
      "\n",
      "    #logg = np.log10(G * M / R**2)\n",
      "    #flux_factor = R**2/d**2 #prefactor by which to multiply model flux (at surface of star) to get recieved TRES flux\n",
      "\n",
      "    #Loads the ENTIRE spectrum, not limited to a specific order\n",
      "    f_full[:] = flux_factor * flux(temp, logg, Z)\n",
      "    #f_full = flux_factor * flux(temp, logg, Z)\n",
      "\n",
      "\n",
      "    #Take FFT of f_grid\n",
      "    #FF = fft(f_full)\n",
      "    fft_object()\n",
      "\n",
      "    #How things are done now\n",
      "    #Determine the stellar broadening kernel\n",
      "    #    ub = 2. * np.pi * self.vsini * self.ss\n",
      "    #    sb = j1(ub) / ub - 3 * np.cos(ub) / (2 * ub ** 2) + 3. * np.sin(ub) / (2 * ub ** 3)\n",
      "\n",
      "        #set zeroth frequency to 1 separately (DC term)\n",
      "    #    sb[0] = 1.\n",
      "    #    taper[0] = 1. #should this really be set to 1?\n",
      "\n",
      "        #institute velocity and instrumental taper\n",
      "    #    self.FF *= sb * taper\n",
      "    #\n",
      "    #\n",
      "    \n",
      "    \n",
      "    ss[0] = 0.01 #junk so we don't get a divide by zero error\n",
      "    ub = 2. * np.pi * vsini * ss\n",
      "    sb = j1(ub) / ub - 3 * np.cos(ub) / (2 * ub ** 2) + 3. * np.sin(ub) / (2 * ub ** 3)\n",
      "    #set zeroth frequency to 1 separately (DC term)\n",
      "    sb[0] = 1.\n",
      "\n",
      "    FF[:] *= sb #institute velocity taper\n",
      "    #FF *= sb\n",
      "\n",
      "    #do ifft\n",
      "    ifft_object()\n",
      "    #blended_real = np.abs(ifft(FF))\n",
      "\n",
      "    blended_real[:] = np.abs(blended) #remove tiny complex component\n",
      "\n",
      "    #redden spectrum\n",
      "    red = blended_real / 10 ** (0.4 * Av * red_grid)\n",
      "    #red = blended_real\n",
      "\n",
      "    #do synthetic photometry to compare to points\n",
      "\n",
      "    f = InterpolatedUnivariateSpline(wave_grid, red)\n",
      "    fresult = f(wlsz.flatten()) #do spline interpolation to TRES pixels\n",
      "    result = np.reshape(fresult, (norder, -1))\n",
      "    del f\n",
      "    gc.collect() #necessary to prevent memory leak!\n",
      "    return result"
     ],
     "language": "python",
     "metadata": {},
     "outputs": [
      {
       "output_type": "stream",
       "stream": "stderr",
       "text": [
        "ERROR:astropy:NameError: name 'wave_grid' is not defined\n"
       ]
      },
      {
       "output_type": "stream",
       "stream": "stdout",
       "text": [
        "ERROR: NameError: name 'wave_grid' is not defined [IPython.core.interactiveshell]\n"
       ]
      },
      {
       "ename": "NameError",
       "evalue": "name 'wave_grid' is not defined",
       "output_type": "pyerr",
       "traceback": [
        "\u001b[1;31m---------------------------------------------------------------------------\u001b[0m\n\u001b[1;31mNameError\u001b[0m                                 Traceback (most recent call last)",
        "\u001b[1;32m<ipython-input-56-a35f791d08b4>\u001b[0m in \u001b[0;36m<module>\u001b[1;34m()\u001b[0m\n\u001b[0;32m      1\u001b[0m \u001b[1;31m#vsini was calculated this way\u001b[0m\u001b[1;33m\u001b[0m\u001b[1;33m\u001b[0m\u001b[0m\n\u001b[0;32m      2\u001b[0m \u001b[1;31m#Constant for all models\u001b[0m\u001b[1;33m\u001b[0m\u001b[1;33m\u001b[0m\u001b[0m\n\u001b[1;32m----> 3\u001b[1;33m \u001b[0mss\u001b[0m \u001b[1;33m=\u001b[0m \u001b[0mnp\u001b[0m\u001b[1;33m.\u001b[0m\u001b[0mfft\u001b[0m\u001b[1;33m.\u001b[0m\u001b[0mfftfreq\u001b[0m\u001b[1;33m(\u001b[0m\u001b[0mlen\u001b[0m\u001b[1;33m(\u001b[0m\u001b[0mwave_grid\u001b[0m\u001b[1;33m)\u001b[0m\u001b[1;33m,\u001b[0m \u001b[0md\u001b[0m\u001b[1;33m=\u001b[0m\u001b[1;36m2.\u001b[0m\u001b[1;33m)\u001b[0m \u001b[1;31m#2km/s spacing for wave_grid\u001b[0m\u001b[1;33m\u001b[0m\u001b[0m\n\u001b[0m\u001b[0;32m      4\u001b[0m \u001b[1;33m\u001b[0m\u001b[0m\n\u001b[0;32m      5\u001b[0m \u001b[0mf_full\u001b[0m \u001b[1;33m=\u001b[0m \u001b[0mpyfftw\u001b[0m\u001b[1;33m.\u001b[0m\u001b[0mn_byte_align_empty\u001b[0m\u001b[1;33m(\u001b[0m\u001b[0mchunk\u001b[0m\u001b[1;33m,\u001b[0m \u001b[1;36m16\u001b[0m\u001b[1;33m,\u001b[0m \u001b[1;34m'complex128'\u001b[0m\u001b[1;33m)\u001b[0m\u001b[1;33m\u001b[0m\u001b[0m\n",
        "\u001b[1;31mNameError\u001b[0m: name 'wave_grid' is not defined"
       ]
      }
     ],
     "prompt_number": 56
    },
    {
     "cell_type": "code",
     "collapsed": false,
     "input": [
      "#"
     ],
     "language": "python",
     "metadata": {},
     "outputs": [],
     "prompt_number": 57
    },
    {
     "cell_type": "code",
     "collapsed": false,
     "input": [],
     "language": "python",
     "metadata": {},
     "outputs": []
    }
   ],
   "metadata": {}
  }
 ]
}