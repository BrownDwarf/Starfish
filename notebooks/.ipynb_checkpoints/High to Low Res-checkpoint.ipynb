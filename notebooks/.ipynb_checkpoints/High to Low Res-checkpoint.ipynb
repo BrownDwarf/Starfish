{
 "metadata": {
  "name": "",
  "signature": "sha256:3a17faefe97490ddeb268f9eeeabed4dcf72da263c56193a8655c8bb247f0146"
 },
 "nbformat": 3,
 "nbformat_minor": 0,
 "worksheets": [
  {
   "cells": [
    {
     "cell_type": "markdown",
     "metadata": {},
     "source": [
      "My idea for this figure is sort of 1-column wide (~3.5\"), with a set of spectral panels going \n",
      "down vertically.  The top panel shows a segment of the full resolution model.  The next one down \n",
      "can show the individual kernels described above, as well as their composite, $\\varphi_v$.  Then the \n",
      "next panel down can show the convolved (but still full-resolution) spectrum.  Finally, the bottom \n",
      "panel will show the spectrum re-sampled onto the observed pixels.  It need not be a large figure \n",
      "(maybe 5\" long?).\n"
     ]
    },
    {
     "cell_type": "code",
     "collapsed": false,
     "input": [
      "import matplotlib.pyplot as plt\n",
      "import numpy as np\n",
      "from StellarSpectra.grid_tools import HDF5Interface"
     ],
     "language": "python",
     "metadata": {},
     "outputs": [],
     "prompt_number": 1
    },
    {
     "cell_type": "code",
     "collapsed": false,
     "input": [
      "myHDF5Interface = HDF5Interface(\"../../libraries/PHOENIX_F.hdf5\")"
     ],
     "language": "python",
     "metadata": {},
     "outputs": [],
     "prompt_number": 2
    },
    {
     "cell_type": "markdown",
     "metadata": {},
     "source": [
      "Load the Raw spectrum"
     ]
    },
    {
     "cell_type": "code",
     "collapsed": false,
     "input": [
      "wl_raw = myHDF5Interface.wl\n",
      "fl_raw =myHDF5Interface.load_flux({\"temp\":6000,\"logg\":4.5, \"Z\":0.0, \"alpha\":0.0})\n",
      "ind = (wl_raw > 5150) & (wl_raw < 5200)\n",
      "wl_raw = wl_raw[ind]\n",
      "fl_raw = fl_raw[ind]"
     ],
     "language": "python",
     "metadata": {},
     "outputs": [],
     "prompt_number": 3
    },
    {
     "cell_type": "code",
     "collapsed": false,
     "input": [
      "plt.plot(wl_raw, fl_raw)\n",
      "plt.show()"
     ],
     "language": "python",
     "metadata": {},
     "outputs": [],
     "prompt_number": 70
    },
    {
     "cell_type": "markdown",
     "metadata": {},
     "source": [
      "Plot the kernels in wavelength (velocity) space"
     ]
    },
    {
     "cell_type": "code",
     "collapsed": false,
     "input": [
      "@np.vectorize\n",
      "def gauss_kernel(v, mu=0, FWHM=6.8):\n",
      "    '''\n",
      "    Return the LSF function as a function of velocity\n",
      "    '''\n",
      "    #Convert FWHM to sigma\n",
      "    sigma = FWHM/2.35\n",
      "    return 1./(np.sqrt(2. * np.pi) * sigma) * np.exp(-0.5 * (mu - v)**2/sigma**2)\n",
      "\n",
      "\n",
      "def vsini_kernel(v, vsini):\n",
      "    '''\n",
      "    Return the vsini function as a function of velocity\n",
      "    '''\n",
      "    epsilon = 0.6\n",
      "\n",
      "    c1 = 2. * (1 - epsilon) / (np.pi * vsini * (1 - epsilon / 3.))\n",
      "    c2 = epsilon / (2. * vsini * (1 - epsilon / 3.))\n",
      "    if np.abs(v) <= vsini:\n",
      "        return c1 * np.sqrt(1. - (v/vsini)**2) + c2 * (1. - (v/vsini)**2) ** 2\n",
      "    else:\n",
      "        return 0\n",
      "    "
     ],
     "language": "python",
     "metadata": {},
     "outputs": [],
     "prompt_number": 4
    },
    {
     "cell_type": "code",
     "collapsed": false,
     "input": [
      "vs = np.linspace(-15, 15, num=200)\n",
      "k0 = gauss_kernel(vs)\n",
      "k1 = np.array([vsini_kernel(v, 5) for v in vs])\n",
      "#Convolve these two series\n",
      "k2 = np.convolve(k0, k1, mode=\"same\")"
     ],
     "language": "python",
     "metadata": {},
     "outputs": [],
     "prompt_number": 5
    },
    {
     "cell_type": "code",
     "collapsed": false,
     "input": [
      "fig = plt.figure(figsize=(3.5, 2))\n",
      "ax = fig.add_subplot(111)\n",
      "ax.plot(vs, k0/np.max(k0), \"c:\", lw=2, label=r\"$\\mathcal{F}_v^{\\rm inst}$\")\n",
      "ax.plot(vs, k1/np.max(k1), \"m--\", lw=2, label=r\"$\\mathcal{F}_v^{\\rm rot}$\")\n",
      "ax.plot(vs, k2/np.max(k2), \"k-\", lw=2, label=r\"$\\varphi_v$\")\n",
      "ax.set_xlabel(r\"$\\Delta v$ [$\\textrm{km s}^{-1}$]\")\n",
      "ax.legend(loc=\"upper left\", prop={'size':10})\n",
      "fig.subplots_adjust(bottom=0.25)\n",
      "fig.savefig(\"../../plots/kernels.png\")\n",
      "fig.savefig(\"../../plots/kernels.pdf\")\n",
      "fig.savefig(\"../../plots/kernels.svg\")\n",
      "plt.show()"
     ],
     "language": "python",
     "metadata": {},
     "outputs": [],
     "prompt_number": 43
    },
    {
     "cell_type": "markdown",
     "metadata": {},
     "source": [
      "# Actually convolve the series"
     ]
    },
    {
     "cell_type": "code",
     "collapsed": false,
     "input": [
      "from scipy.interpolate import InterpolatedUnivariateSpline\n",
      "from StellarSpectra.spectrum import create_log_lam_grid, calculate_min_v\n",
      "import StellarSpectra.constants as C\n",
      "from numpy.fft import rfftfreq, rfft, irfft\n",
      "from scipy.special import j1"
     ],
     "language": "python",
     "metadata": {},
     "outputs": [],
     "prompt_number": 23
    },
    {
     "cell_type": "code",
     "collapsed": false,
     "input": [
      "FWHM = 6.8\n",
      "sigma = FWHM / 2.35 # in km/s\n",
      "vsini = 5\n",
      "\n",
      "wl_min, wl_max = np.min(wl_raw), np.max(wl_raw)\n",
      "wl_dict = create_log_lam_grid(wl_min + 4., wl_max - 4., min_vc=0.08/C.c_kms)\n",
      "wl_FFT = wl_dict[\"wl\"]\n",
      "\n",
      "min_v = calculate_min_v(wl_dict)\n",
      "print(\"min_v is\", min_v)\n",
      "ss = rfftfreq(len(wl_FFT), d=min_v)\n",
      "ss[0] = 0.01 #junk so we don't get a divide by zero error\n",
      "\n",
      "interp = InterpolatedUnivariateSpline(wl_raw, fl_raw, k=5)\n",
      "fl_FFT = interp(wl_FFT)\n",
      "\n",
      "FF = rfft(fl_FFT)\n",
      "\n",
      "#Instrumentally broaden the spectrum by multiplying with a Gaussian in Fourier space\n",
      "taper = np.exp(-2 * (np.pi ** 2) * (sigma ** 2) * (ss ** 2))\n",
      "\n",
      "#Determine the stellar broadening kernel\n",
      "ub = 2. * np.pi * vsini * ss\n",
      "sb = j1(ub) / ub - 3 * np.cos(ub) / (2 * ub ** 2) + 3. * np.sin(ub) / (2 * ub ** 3)\n",
      "\n",
      "#set zeroth frequency to 1 separately (DC term)\n",
      "sb[0] = 1.\n",
      "taper[0] = 1.\n",
      "\n",
      "FF_tap = FF * sb * taper\n",
      "\n",
      "fl_blend = irfft(FF_tap, len(wl_FFT))"
     ],
     "language": "python",
     "metadata": {},
     "outputs": [
      {
       "output_type": "stream",
       "stream": "stdout",
       "text": [
        "min_v is 0.0742314332744\n"
       ]
      }
     ],
     "prompt_number": 24
    },
    {
     "cell_type": "code",
     "collapsed": false,
     "input": [
      "plt.plot(wl_FFT, fl_blend)\n",
      "plt.show()"
     ],
     "language": "python",
     "metadata": {},
     "outputs": [],
     "prompt_number": 25
    },
    {
     "cell_type": "markdown",
     "metadata": {},
     "source": [
      "Load TRES data and sample to the same pixels"
     ]
    },
    {
     "cell_type": "code",
     "collapsed": false,
     "input": [
      "from StellarSpectra.spectrum import DataSpectrum \n",
      "mySpec = DataSpectrum.open(\"../../data/WASP14/WASP14-2009-06-14.hdf5\", orders=[22])\n",
      "\n",
      "wl_TRES = mySpec.wls[0]\n",
      "ind = (wl_TRES > 5155) & (wl_TRES < 5195)\n",
      "wl_TRES = wl_TRES[ind]\n",
      "\n",
      "interp = InterpolatedUnivariateSpline(wl_FFT, fl_blend, k=5)\n",
      "fl_TRES = interp(wl_TRES)"
     ],
     "language": "python",
     "metadata": {},
     "outputs": [],
     "prompt_number": 26
    },
    {
     "cell_type": "code",
     "collapsed": false,
     "input": [
      "plt.plot(wl_TRES, fl_TRES, ls=\"steps-mid\")\n",
      "plt.xlim(5164, 5176)\n",
      "plt.show()"
     ],
     "language": "python",
     "metadata": {},
     "outputs": [],
     "prompt_number": 22
    },
    {
     "cell_type": "code",
     "collapsed": true,
     "input": [
      "import matplotlib\n",
      "from matplotlib.ticker import FormatStrFormatter as FSF\n",
      "\n",
      "fig, ax = plt.subplots(nrows=3, figsize=(3.5, 4), sharex=True)\n",
      "wl0, wl1 = 5164, 5176\n",
      "\n",
      "ax[0].plot(wl_raw, fl_raw, \"r\")\n",
      "ax[1].plot(wl_FFT, fl_blend, \"r\")\n",
      "ax[2].plot(wl_TRES, fl_TRES, \"r\", ls=\"steps-mid\")\n",
      "ax[2].set_xlim(wl0, wl1)\n",
      "ax[2].xaxis.set_major_formatter(FSF(\"%.0f\"))\n",
      "\n",
      "\n",
      "ax[2].set_xlabel(r\"$\\lambda$  (\\AA)\")\n",
      "ax[0].set_ylabel(\"$\\propto f_\\lambda$\")\n",
      "\n",
      "for a in ax:\n",
      "    a.yaxis.set_ticklabels([])\n",
      "\n",
      "fig.subplots_adjust(hspace=0, top=0.99, bottom=0.12)\n",
      "    \n",
      "fig.savefig(\"../../plots/high2low.png\")\n",
      "fig.savefig(\"../../plots/high2low.pdf\")\n",
      "fig.savefig(\"../../plots/high2low.svg\")\n",
      "plt.show()"
     ],
     "language": "python",
     "metadata": {},
     "outputs": [],
     "prompt_number": 42
    },
    {
     "cell_type": "code",
     "collapsed": false,
     "input": [],
     "language": "python",
     "metadata": {},
     "outputs": []
    }
   ],
   "metadata": {}
  }
 ]
}