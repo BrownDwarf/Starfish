{
 "metadata": {
  "name": "",
  "signature": "sha256:18b9a992b4c39990dea116f34f6c978e20c126763f192e2b1e0961160aaec960"
 },
 "nbformat": 3,
 "nbformat_minor": 0,
 "worksheets": [
  {
   "cells": [
    {
     "cell_type": "markdown",
     "metadata": {},
     "source": [
      "Plot the WASP14 spectrum with Regions overlaid"
     ]
    },
    {
     "cell_type": "code",
     "collapsed": false,
     "input": [
      "%matplotlib\n",
      "import matplotlib.pyplot as plt\n",
      "import numpy as np\n",
      "from IPython.html import widgets # Widget definitions\n",
      "from IPython.display import display, clear_output, HTML # Used to display widgets in the notebook\n",
      "from IPython.html.widgets import interact, interactive, fixed"
     ],
     "language": "python",
     "metadata": {},
     "outputs": [
      {
       "output_type": "stream",
       "stream": "stdout",
       "text": [
        "Using matplotlib backend: Qt4Agg\n"
       ]
      }
     ],
     "prompt_number": 1
    },
    {
     "cell_type": "code",
     "collapsed": false,
     "input": [
      "from StellarSpectra.model import Model\n",
      "from StellarSpectra.spectrum import DataSpectrum\n",
      "from StellarSpectra.grid_tools import TRES, SPEX, HDF5Interface\n",
      "import scipy.sparse as sp\n",
      "import numpy as np\n",
      "\n",
      "myDataSpectrum = DataSpectrum.open(\"../../data/WASP14/WASP14-2009-06-14.hdf5\", orders=np.array([22]))\n",
      "#mask = np.load(\"WASP14_24.mask.npy\")\n",
      "#myDataSpectrum.add_mask(np.atleast_2d(mask))\n",
      "#myDataSpectrum = DataSpectrum.open(\"../data/LkCa15/LkCa15-2013-10-12.hdf5\", orders=np.array([32]))\n",
      "# myDataSpectrum = DataSpectrum.open(\"../data/Gl51/Gl51.hdf5\")\n",
      "\n",
      "myInstrument = TRES()\n",
      "# myInstrument = SPEX()\n",
      "\n",
      "myHDF5Interface = HDF5Interface(\"../../libraries/PHOENIX_TRES_F.hdf5\")\n",
      "# myHDF5Interface = HDF5Interface(\"../libraries/Kurucz_TRES.hdf5\")\n",
      "#myHDF5Interface = HDF5Interface(\"../libraries/Kurucz_master.hdf5\")\n",
      "\n",
      "#Load a model using the JSON file\n",
      "myModel = Model.from_json(\"../WASP14_22_model_final_region.json\", myDataSpectrum, myInstrument, myHDF5Interface)\n",
      "myModel.evaluate()"
     ],
     "language": "python",
     "metadata": {},
     "outputs": [
      {
       "output_type": "stream",
       "stream": "stdout",
       "text": [
        "Determine Chunk Log: Wl is 8192\n",
        "Creating OrderModel 0\n",
        "creating region "
       ]
      },
      {
       "output_type": "stream",
       "stream": "stdout",
       "text": [
        " 0 0 {'mu': 5188.770929306509, 'loga': -12.076165336887787, 'sigma': 5.161308092494482}\n",
        "('Created Region and logPrior is ', 0.0)\n",
        "Added region to self.RegionList\n",
        "creating region  1 1 {'mu': 5151.8534158849325, 'loga': -12.78120822355448, 'sigma': 4.809287151430395}\n",
        "('Created Region and logPrior is ', 0.0)\n",
        "Added region to self.RegionList\n",
        "creating region  2 2 {'mu': 5142.815880890552, 'loga': -12.526338163621313, 'sigma': 7.433720494996769}\n",
        "('Created Region and logPrior is ', 0.0)\n",
        "Added region to self.RegionList\n",
        "creating region  3 3 {'mu': 5201.686815355184, 'loga': -57.064715539113124, 'sigma': 9.560940730866921}\n",
        "('Created Region and logPrior is ', 0.0)\n",
        "Added region to self.RegionList\n",
        "creating region "
       ]
      },
      {
       "output_type": "stream",
       "stream": "stdout",
       "text": [
        " 4 4 {'mu': 5150.756876675764, 'loga': -12.305001160847057, 'sigma': 7.17815124402818}\n",
        "('Created Region and logPrior is ', 0.0)\n",
        "Added region to self.RegionList\n",
        "creating region  5 5 {'mu': 5169.085875719616, 'loga': -12.438745669164504, 'sigma': 6.878226981503173}\n",
        "('Created Region and logPrior is ', 0.0)\n",
        "Added region to self.RegionList\n",
        "creating region  6 6 {'mu': 5198.620012768345, 'loga': -12.927756678556008, 'sigma': 6.1537481296828425}\n",
        "('Created Region and logPrior is ', 0.0)\n",
        "Added region to self.RegionList\n",
        "creating region  7 7 {'mu': 5178.849915297965, 'loga': -52.89854288142054, 'sigma': 1.5886138084364085}\n",
        "('Created Region and logPrior is ', 0.0)\n",
        "Added region to self.RegionList\n"
       ]
      },
      {
       "metadata": {},
       "output_type": "pyout",
       "prompt_number": 2,
       "text": [
        "75012.470933388438"
       ]
      }
     ],
     "prompt_number": 2
    },
    {
     "cell_type": "code",
     "collapsed": false,
     "input": [
      "myOrderModel = myModel.OrderModels[0]\n",
      "model_flux = myOrderModel.get_spectrum()"
     ],
     "language": "python",
     "metadata": {},
     "outputs": [],
     "prompt_number": 3
    },
    {
     "cell_type": "code",
     "collapsed": false,
     "input": [
      "spec = myModel.get_data()\n",
      "wl = spec.wls[0]\n",
      "fl = spec.fls[0]\n",
      "mask = spec.masks[0]\n",
      "cov = myModel.OrderModels[0].get_Cov().todense()"
     ],
     "language": "python",
     "metadata": {},
     "outputs": [],
     "prompt_number": 4
    },
    {
     "cell_type": "code",
     "collapsed": false,
     "input": [
      "#also, we should visualize what typical draws look like from the Matern kernel\n",
      "#For example, what does a random draw from Matern look like, what does 3 times that in amplitude look like..."
     ],
     "language": "python",
     "metadata": {},
     "outputs": []
    },
    {
     "cell_type": "code",
     "collapsed": false,
     "input": [
      "N = len(wl)\n",
      "cov_list = [np.random.multivariate_normal(np.zeros((N,)), cov) for i in range(3)]"
     ],
     "language": "python",
     "metadata": {},
     "outputs": []
    },
    {
     "cell_type": "code",
     "collapsed": false,
     "input": [
      "for cov in cov_list:\n",
      "    plt.plot(wl, cov, \"k\", lw=0.2)\n",
      "plt.plot(wl, model_flux - fl, \"b\")\n",
      "plt.show()"
     ],
     "language": "python",
     "metadata": {},
     "outputs": []
    },
    {
     "cell_type": "code",
     "collapsed": false,
     "input": [
      "fig, ax = plt.subplots(nrows=2, figsize=(11,8), sharex=True)\n",
      "ax[0].plot(wl, fl, \"b\")\n",
      "l_model, = ax[0].plot(wl, model_flux, \"r\")\n",
      "ax[0].set_ylabel(\"Data and Model\")\n",
      "l_resid, = ax[1].plot(wl, fl - model_flux, \"b\")\n",
      "ax[1].set_xlabel(r\"$\\lambda$\\AA\")\n",
      "ax[1].set_ylabel(\"Residuals\")\n",
      "\n",
      "#Mask all the residuals\n",
      "\n",
      "\n",
      "\n",
      "\n",
      "#fig2 = plt.figure()\n",
      "#ax2 = fig2.add_subplot(111)\n",
      "#im = ax2.imshow(cov, origin='upper', interpolation='none')\n",
      "\n",
      "#plt.show()"
     ],
     "language": "python",
     "metadata": {},
     "outputs": [
      {
       "metadata": {},
       "output_type": "pyout",
       "prompt_number": 5,
       "text": [
        "<matplotlib.text.Text at 0x7f6efdce07f0>"
       ]
      }
     ],
     "prompt_number": 5
    },
    {
     "cell_type": "code",
     "collapsed": false,
     "input": [
      "def gaussian(ax, region_dict):\n",
      "    '''\n",
      "    Paint a Gaussian envelope on the axes.\n",
      "    '''\n",
      "    a = 10**region_dict['loga']\n",
      "    mu = region_dict['mu']\n",
      "    sigma = region_dict['sigma'] * mu #convert from velocity space to Delta wavelength space\n",
      "    \n",
      "    wl = np.linspace(mu - 4 * sigma, mu + 4 * sigma)\n",
      "    ys = a/(np.sqrt(2 * np.pi) * sigma) * np.exp(-0.5 * (wl - mu)**2/sigma**2)\n",
      "    ax.fill_between(wl, -ys, ys, alpha=0.5)"
     ],
     "language": "python",
     "metadata": {},
     "outputs": [],
     "prompt_number": 6
    },
    {
     "cell_type": "code",
     "collapsed": false,
     "input": [
      "#List of where the regions are\n",
      "[{\"loga\":-12.07, \"mu\":5188.7, \"sigma\":5.16}]"
     ],
     "language": "python",
     "metadata": {},
     "outputs": []
    },
    {
     "cell_type": "code",
     "collapsed": false,
     "input": [
      "gaussian(ax[1], {\"loga\":-12.07, \"mu\":5188.7, \"sigma\":5.16})"
     ],
     "language": "python",
     "metadata": {},
     "outputs": [],
     "prompt_number": 7
    },
    {
     "cell_type": "code",
     "collapsed": false,
     "input": [
      "plt.show()"
     ],
     "language": "python",
     "metadata": {},
     "outputs": [],
     "prompt_number": 8
    },
    {
     "cell_type": "code",
     "collapsed": false,
     "input": [],
     "language": "python",
     "metadata": {},
     "outputs": []
    }
   ],
   "metadata": {}
  }
 ]
}