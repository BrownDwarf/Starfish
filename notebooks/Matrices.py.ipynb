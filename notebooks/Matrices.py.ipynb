{
 "metadata": {
  "language": "Julia",
  "name": "",
  "signature": "sha256:4449bcf03339f7d1d09823164a17221fe577bfeaa36565fd39903d1cc519dc3a"
 },
 "nbformat": 3,
 "nbformat_minor": 0,
 "worksheets": [
  {
   "cells": [
    {
     "cell_type": "markdown",
     "metadata": {},
     "source": [
      "# Covariance matrices for systematic errors\n",
      "Ian Czekala, Harvard CfA"
     ]
    },
    {
     "cell_type": "code",
     "collapsed": false,
     "input": [
      "#Import all of the relevant python modules\n",
      "import numpy as np\n",
      "import scipy.sparse as sp #Sparse array module\n",
      "from scipy.sparse.linalg import inv as sinv\n",
      "from scipy.sparse.linalg import spsolve\n",
      "from numpy.linalg import inv,det\n",
      "\n",
      "#embed plots in this notebook\n",
      "%matplotlib inline \n",
      "import matplotlib\n",
      "import matplotlib.pyplot as plt\n",
      "\n",
      "\n",
      "def line(x, b, m):\n",
      "    return b + m * x\n",
      "\n",
      "def gauss(x, amp=15, mu=0, sigma=1):\n",
      "    return amp/np.sqrt(2 * np.pi * sigma**2) * np.exp(-0.5 * x**2/ sigma**2)"
     ],
     "language": "python",
     "metadata": {},
     "outputs": [],
     "prompt_number": 57
    },
    {
     "cell_type": "markdown",
     "metadata": {},
     "source": [
      "# Create the dataset"
     ]
    },
    {
     "cell_type": "code",
     "collapsed": false,
     "input": [
      "npoints = 3000\n",
      "xs = np.linspace(-100, 100, num=npoints)\n",
      "npoints = len(xs)\n",
      "#Create a continuum with a gaussian absorption line superimposed. Add Gaussian noise.\n",
      "ys = line(xs, 10, 0.2) - gauss(xs, amp=15, mu=0, sigma=1) + np.random.normal(size=npoints)\n",
      "\n",
      "#Assume our model can only produce straight lines (ie, stellar continuum) in this region of the spectrum\n",
      "model_ys = line(xs, 10, 0.2)\n",
      "\n",
      "residuals = ys - model_ys\n",
      "\n",
      "print(len(xs))"
     ],
     "language": "python",
     "metadata": {},
     "outputs": [
      {
       "output_type": "stream",
       "stream": "stdout",
       "text": [
        "3000\n"
       ]
      }
     ],
     "prompt_number": 102
    },
    {
     "cell_type": "markdown",
     "metadata": {},
     "source": [
      "Plot the data set and the residuals using the best model we can muster"
     ]
    },
    {
     "cell_type": "code",
     "collapsed": false,
     "input": [
      "fig, ax = plt.subplots(nrows=2,sharex=True, figsize=(6,6))\n",
      "ax[0].plot(xs, ys, label=\"data\")\n",
      "ax[0].plot(xs, model_ys, label=\"model\")\n",
      "ax[0].set_ylabel(r\"$y$\")\n",
      "ax[0].legend()\n",
      "\n",
      "ax[1].plot(xs, residuals, label=\"residuals\")\n",
      "ax[1].legend()\n",
      "ax[1].set_xlabel(r\"$x$\")\n",
      "ax[1].set_ylabel(r\"$y - {\\rm model}$\")"
     ],
     "language": "python",
     "metadata": {},
     "outputs": [
      {
       "metadata": {},
       "output_type": "pyout",
       "prompt_number": 134,
       "text": [
        "<matplotlib.text.Text at 0x7f95a48253d0>"
       ]
      },
      {
       "metadata": {},
       "output_type": "display_data",
       "png": "[encoded data removed]",
       "text": [
        "<matplotlib.figure.Figure at 0x7f95a61df4d0>"
       ]
      }
     ],
     "prompt_number": 134
    },
    {
     "cell_type": "markdown",
     "metadata": {},
     "source": [
      "The \"true\" parameters of this data set are for the straight line, $b = 10$, $m = 0.2$ and for the Gaussian $a = 15$, $\\mu = 0$, $\\sigma = 1$. We see that there is a systematic error present in the residuals where our straight line model could not reproduce the Gaussian absorption line. If we could represent this systematic residual as correlated noise--via the covariance matrix--then we should be able to get a reasonable $\\chi^2$ for our fit, while also identifying the location of the Gaussian."
     ]
    },
    {
     "cell_type": "markdown",
     "metadata": {},
     "source": [
      "# Covariance functions\n",
      "\n",
      "## Matern kernels\n",
      "\n",
      "$$ k_{\\nu = 3/2}(r, a, l) = a \\left(1 + \\frac{\\sqrt{3} r}{l} \\right ) \\exp \\left (- \\frac{\\sqrt{3} r}{l} \\right ) $$\n",
      "\n",
      "$$ k_{\\nu = 5/2}(r, a, l) = a \\left(1 + \\frac{\\sqrt{5} r}{l} + \\frac{5 r^2}{3 l^2} \\right ) \\exp \\left (- \\frac{\\sqrt{5} r}{l} \\right ) $$\n",
      "\n",
      "We would like to use sparse matrices with compact support. Therefore we want to taper the Matern kernel to ensure it goes smoothly to zero at some point.\n",
      "\n",
      "The Haan window is \n",
      "\n",
      "$$ w(r) = 0.5 + 0.5 \\cos \\left( \\frac{\\pi r}{r_0} \\right) $$"
     ]
    },
    {
     "cell_type": "code",
     "collapsed": false,
     "input": [
      "def k_3_2(r, l):\n",
      "    return (1 + np.sqrt(3) * r/l) * np.exp(-np.sqrt(3) * r/l)\n",
      "\n",
      "def k_5_2(r, l):\n",
      "    return (1 + np.sqrt(5) * r/l + 5 * r**2/(3 * l**2)) * np.exp(- np.sqrt(5) * r/l)\n",
      "\n",
      "@np.vectorize\n",
      "def hann(r, r0):\n",
      "    if np.abs(r) < r0:\n",
      "        return 0.5 + 0.5 * np.cos(np.pi * r/r0)\n",
      "    else:\n",
      "        return 0\n",
      "\n",
      "def k_3_2_hann(r, l):\n",
      "    return k_3_2(r, l) * hann(r, 6 * l)\n",
      "    "
     ],
     "language": "python",
     "metadata": {},
     "outputs": [],
     "prompt_number": 70
    },
    {
     "cell_type": "markdown",
     "metadata": {},
     "source": [
      "Initialize a covariance matrix using input xs.\n"
     ]
    },
    {
     "cell_type": "code",
     "collapsed": false,
     "input": [
      "def gauss_func(x0i, x1i, x0v=None, x1v=None, amp=None, mu=None, sigma=None):\n",
      "    x0 = x0v[x0i]\n",
      "    x1 = x1v[x1i]\n",
      "    return amp**2/(2 * np.pi * sigma**2) * np.exp(-((x0 - mu)**2 + (x1 - mu)**2)/(2 * sigma**2))\n",
      "\n",
      "def k_3_2_func(x0i, x1i, x0v=None, x1v=None, amp=None, l=None):\n",
      "    x0 = x0v[x0i]\n",
      "    x1 = x1v[x1i]\n",
      "    r = np.abs(x1 - x0)\n",
      "    return amp**2 * k_3_2(r, l)\n",
      "\n",
      "def k_5_2_func(x0i, x1i, x0v=None, x1v=None, amp=None, l=None):\n",
      "    x0 = x0v[x0i]\n",
      "    x1 = x1v[x1i]\n",
      "    r = np.abs(x1 - x0)\n",
      "    return amp**2 * k_5_2(r, l)\n",
      "\n",
      "def k_3_2_hann_func(x0i, x1i, x0v=None, x1v=None, amp=None, l=None):\n",
      "    x0 = x0v[x0i]\n",
      "    x1 = x1v[x1i]\n",
      "    r = np.abs(x1 - x0)\n",
      "    return amp**2 * k_3_2(r, l) * hann(r, 6*l)"
     ],
     "language": "python",
     "metadata": {},
     "outputs": [],
     "prompt_number": 60
    },
    {
     "cell_type": "markdown",
     "metadata": {},
     "source": [
      "# Matern kernels with a Hanning window function\n",
      "\n"
     ]
    },
    {
     "cell_type": "code",
     "collapsed": false,
     "input": [
      "fig = plt.figure()\n",
      "ax = fig.add_subplot(111)\n",
      "rs = np.linspace(0,10,num=100)\n",
      "ax.semilogy(rs, k_3_2(rs, 1), label=r\"$k_{3/2}$\")\n",
      "ax.semilogy(rs, hann(rs, 6), label=\"Hann\")\n",
      "ax.semilogy(rs, k_3_2(rs, 1)* hann(rs, 6), label=\"comb\")\n",
      "ax.legend()\n",
      "ax.set_xlim(2, 6)\n",
      "ax.set_ylim(0, 0.2)\n",
      "plt.show()"
     ],
     "language": "python",
     "metadata": {},
     "outputs": [
      {
       "metadata": {},
       "output_type": "display_data",
       "png": "[encoded data removed]",
       "text": [
        "<matplotlib.figure.Figure at 0x7f95a87afd10>"
       ]
      }
     ],
     "prompt_number": 53
    },
    {
     "cell_type": "markdown",
     "metadata": {},
     "source": [
      "## Drawing samples from the covariance matrix"
     ]
    },
    {
     "cell_type": "code",
     "collapsed": false,
     "input": [
      "len_in = len(xs)\n",
      "mat_3_2 = np.fromfunction(k_3_2_hann_func, (len_in,len_in), x0v=xs, x1v=xs, amp=1, l=10, dtype=np.int)\n",
      "#Generate a fake noise set centered on mu = 0 and with covariance matrix we just determined\n",
      "y_reals = np.random.multivariate_normal(np.zeros((npoints,)), mat_3_2)\n",
      "plt.plot(xs, y_reals, \"k\", lw=0.2)"
     ],
     "language": "python",
     "metadata": {},
     "outputs": [
      {
       "metadata": {},
       "output_type": "pyout",
       "prompt_number": 62,
       "text": [
        "[<matplotlib.lines.Line2D at 0x7f954dc9c090>]"
       ]
      },
      {
       "metadata": {},
       "output_type": "display_data",
       "png": "[encoded data removed]",
       "text": [
        "<matplotlib.figure.Figure at 0x7f95a6105590>"
       ]
      }
     ],
     "prompt_number": 62
    },
    {
     "cell_type": "code",
     "collapsed": false,
     "input": [
      "len_in = len(xs)\n",
      "mat_5_2 = np.fromfunction(k_5_2_func, (len_in,len_in), x0v=xs, x1v=xs, amp=1, l=10, dtype=np.int)\n",
      "#Generate a fake noise set centered on mu = 0 and with covariance matrix we just determined\n",
      "y_reals = np.random.multivariate_normal(np.zeros((npoints,)), mat_5_2)\n",
      "plt.plot(xs, y_reals, \"k\", lw=0.2)"
     ],
     "language": "python",
     "metadata": {},
     "outputs": [
      {
       "metadata": {},
       "output_type": "pyout",
       "prompt_number": 34,
       "text": [
        "[<matplotlib.lines.Line2D at 0x7f95a8909b10>]"
       ]
      },
      {
       "metadata": {},
       "output_type": "display_data",
       "png": "[encoded data removed]",
       "text": [
        "<matplotlib.figure.Figure at 0x7f95a85f5990>"
       ]
      }
     ],
     "prompt_number": 34
    },
    {
     "cell_type": "code",
     "collapsed": false,
     "input": [
      "timeit mat_5_2 = np.fromfunction(k_5_2_func, (len_in,len_in), x0v=xs, x1v=xs, amp=1, l=10, dtype=np.int)"
     ],
     "language": "python",
     "metadata": {},
     "outputs": [
      {
       "output_type": "stream",
       "stream": "stdout",
       "text": [
        "1 loops, best of 3: 2.06 s per loop\n"
       ]
      }
     ],
     "prompt_number": 35
    },
    {
     "cell_type": "code",
     "collapsed": false,
     "input": [
      "plt.imshow(mat_3_2, origin=\"upper\")"
     ],
     "language": "python",
     "metadata": {},
     "outputs": [
      {
       "metadata": {},
       "output_type": "pyout",
       "prompt_number": 63,
       "text": [
        "<matplotlib.image.AxesImage at 0x7f954dc75a50>"
       ]
      },
      {
       "metadata": {},
       "output_type": "display_data",
       "png": "[encoded data removed]",
       "text": [
        "<matplotlib.figure.Figure at 0x7f95a87edd90>"
       ]
      }
     ],
     "prompt_number": 63
    },
    {
     "cell_type": "markdown",
     "metadata": {},
     "source": [
      "# Creating a sparse matrix using a Matern kernel\n",
      "\n",
      "Unlike the Gaussian case, now we may have a blocky structure, since the ``xs`` are not evenly spaced, so we can't just initialize using diagonals.\n",
      "\n",
      "1. start from the diagonal and keep computing r on the offsets until they are all greater than 6l. \n",
      "2. Then, calculate k_3_2 on the all the diagonals\n",
      "3. Initialize a sparse matrix using these diagonals\n"
     ]
    },
    {
     "cell_type": "code",
     "collapsed": false,
     "input": [
      "def sparse_k_3_2(xs, amp, l):\n",
      "    N = len(xs)\n",
      "    offset = 0\n",
      "    r0 = 6 * l\n",
      "    diags = []\n",
      "    while offset < N:\n",
      "        #Pairwise calculate rs\n",
      "        if offset == 0:\n",
      "            rs = np.zeros_like(xs)\n",
      "        else:\n",
      "            rs = np.abs(xs[offset:] - xs[:-offset])\n",
      "            k = np.empty_like(rs)\n",
      "        if np.min(rs) >= r0:\n",
      "            break\n",
      "        k = (0.5 + 0.5 * np.cos(np.pi * rs/r0)) * amp * (1 + np.sqrt(3) * rs/l) * np.exp(-np.sqrt(3) * rs/l)\n",
      "        k[rs >= r0] = 0\n",
      "        diags.append(k)\n",
      "        offset += 1\n",
      "        \n",
      "    #Mirror the diagonals\n",
      "    front = diags[1:].copy()\n",
      "    front.reverse()\n",
      "    diags = front + diags\n",
      "    offsets = [i for i in range(-offset + 1, offset)]\n",
      "    return sp.diags(diags, offsets, format=\"csc\")"
     ],
     "language": "python",
     "metadata": {},
     "outputs": [],
     "prompt_number": 135
    },
    {
     "cell_type": "code",
     "collapsed": false,
     "input": [
      "timeit sparse_k_3_2(xs, 1, 1)"
     ],
     "language": "python",
     "metadata": {},
     "outputs": [
      {
       "output_type": "stream",
       "stream": "stdout",
       "text": [
        "10 loops, best of 3: 90.9 ms per loop\n"
       ]
      }
     ],
     "prompt_number": 136
    },
    {
     "cell_type": "code",
     "collapsed": false,
     "input": [
      "ys = np.arange(10)\n",
      "mysparse = sparse_k_3_2(ys, 1, 1) + sp.eye(len(ys))\n",
      "print(mysparse)\n",
      "print(5 * mysparse)"
     ],
     "language": "python",
     "metadata": {},
     "outputs": [
      {
       "output_type": "stream",
       "stream": "stdout",
       "text": [
        "  (0, 0)\t2.0\n",
        "  (1, 0)\t0.450978896606\n",
        "  (2, 0)\t0.104798512644\n",
        "  (3, 0)\t0.0171566215987\n",
        "  (4, 0)\t0.00194193348553\n",
        "  (5, 0)\t0.000112170968055\n",
        "  (0, 1)\t0.450978896606\n",
        "  (1, 1)\t2.0\n",
        "  (2, 1)\t0.450978896606\n",
        "  (3, 1)\t0.104798512644\n",
        "  (4, 1)\t0.0171566215987\n",
        "  (5, 1)\t0.00194193348553\n",
        "  (6, 1)\t0.000112170968055\n",
        "  (0, 2)\t0.104798512644\n",
        "  (1, 2)\t0.450978896606\n",
        "  (2, 2)\t2.0\n",
        "  (3, 2)\t0.450978896606\n",
        "  (4, 2)\t0.104798512644\n",
        "  (5, 2)\t0.0171566215987\n",
        "  (6, 2)\t0.00194193348553\n",
        "  (7, 2)\t0.000112170968055\n",
        "  (0, 3)\t0.0171566215987\n",
        "  (1, 3)\t0.104798512644\n",
        "  (2, 3)\t0.450978896606\n",
        "  (3, 3)\t2.0\n",
        "  :\t:\n",
        "  (6, 6)\t2.0\n",
        "  (7, 6)\t0.450978896606\n",
        "  (8, 6)\t0.104798512644\n",
        "  (9, 6)\t0.0171566215987\n",
        "  (2, 7)\t0.000112170968055\n",
        "  (3, 7)\t0.00194193348553\n",
        "  (4, 7)\t0.0171566215987\n",
        "  (5, 7)\t0.104798512644\n",
        "  (6, 7)\t0.450978896606\n",
        "  (7, 7)\t2.0\n",
        "  (8, 7)\t0.450978896606\n",
        "  (9, 7)\t0.104798512644\n",
        "  (3, 8)\t0.000112170968055\n",
        "  (4, 8)\t0.00194193348553\n",
        "  (5, 8)\t0.0171566215987\n",
        "  (6, 8)\t0.104798512644\n",
        "  (7, 8)\t0.450978896606\n",
        "  (8, 8)\t2.0\n",
        "  (9, 8)\t0.450978896606\n",
        "  (4, 9)\t0.000112170968055\n",
        "  (5, 9)\t0.00194193348553\n",
        "  (6, 9)\t0.0171566215987\n",
        "  (7, 9)\t0.104798512644\n",
        "  (8, 9)\t0.450978896606\n",
        "  (9, 9)\t2.0\n",
        "  (0, 0)\t10.0\n",
        "  (1, 0)\t2.25489448303\n",
        "  (2, 0)\t0.523992563221\n",
        "  (3, 0)\t0.0857831079937\n",
        "  (4, 0)\t0.00970966742763\n",
        "  (5, 0)\t0.000560854840274\n",
        "  (0, 1)\t2.25489448303\n",
        "  (1, 1)\t10.0\n",
        "  (2, 1)\t2.25489448303\n",
        "  (3, 1)\t0.523992563221\n",
        "  (4, 1)\t0.0857831079937\n",
        "  (5, 1)\t0.00970966742763\n",
        "  (6, 1)\t0.000560854840274\n",
        "  (0, 2)\t0.523992563221\n",
        "  (1, 2)\t2.25489448303\n",
        "  (2, 2)\t10.0\n",
        "  (3, 2)\t2.25489448303\n",
        "  (4, 2)\t0.523992563221\n",
        "  (5, 2)\t0.0857831079937\n",
        "  (6, 2)\t0.00970966742763\n",
        "  (7, 2)\t0.000560854840274\n",
        "  (0, 3)\t0.0857831079937\n",
        "  (1, 3)\t0.523992563221\n",
        "  (2, 3)\t2.25489448303\n",
        "  (3, 3)\t10.0\n",
        "  :\t:\n",
        "  (6, 6)\t10.0\n",
        "  (7, 6)\t2.25489448303\n",
        "  (8, 6)\t0.523992563221\n",
        "  (9, 6)\t0.0857831079937\n",
        "  (2, 7)\t0.000560854840274\n",
        "  (3, 7)\t0.00970966742763\n",
        "  (4, 7)\t0.0857831079937\n",
        "  (5, 7)\t0.523992563221\n",
        "  (6, 7)\t2.25489448303\n",
        "  (7, 7)\t10.0\n",
        "  (8, 7)\t2.25489448303\n",
        "  (9, 7)\t0.523992563221\n",
        "  (3, 8)\t0.000560854840274\n",
        "  (4, 8)\t0.00970966742763\n",
        "  (5, 8)\t0.0857831079937\n",
        "  (6, 8)\t0.523992563221\n",
        "  (7, 8)\t2.25489448303\n",
        "  (8, 8)\t10.0\n",
        "  (9, 8)\t2.25489448303\n",
        "  (4, 9)\t0.000560854840274\n",
        "  (5, 9)\t0.00970966742763\n",
        "  (6, 9)\t0.0857831079937\n",
        "  (7, 9)\t0.523992563221\n",
        "  (8, 9)\t2.25489448303\n",
        "  (9, 9)\t10.0\n"
       ]
      }
     ],
     "prompt_number": 144
    },
    {
     "cell_type": "code",
     "collapsed": false,
     "input": [
      "def calcA(b, m):\n",
      "    return ys - line(xs, b, m)"
     ],
     "language": "python",
     "metadata": {},
     "outputs": [],
     "prompt_number": 121
    },
    {
     "cell_type": "code",
     "collapsed": false,
     "input": [
      "def gauss_func(x0i, x1i, x0v=None, x1v=None, amp=None, mu=None, sigma=None):\n",
      "    x0 = x0v[x0i]\n",
      "    x1 = x1v[x1i]\n",
      "    return amp**2/(2 * np.pi * sigma**2) * np.exp(-((x0 - mu)**2 + (x1 - mu)**2)/(2 * sigma**2))"
     ],
     "language": "python",
     "metadata": {},
     "outputs": [],
     "prompt_number": 6
    },
    {
     "cell_type": "code",
     "collapsed": false,
     "input": [
      "def Cfast(xs, amp, mu, sigma, var=1):\n",
      "    '''Create a sparse covariance matrix using identity and block_diagonal'''\n",
      "    #In the region of the Gaussian, the matrix will be dense, so just create it as `fromfunction`\n",
      "    #Above this region, the matrix will be simply Identity.\n",
      "    \n",
      "    #The matrix is also symmetric about the diagonal\n",
      "    \n",
      "    #Given mu, and the extent of sigma, estimate the data points that are above, in Gaussian, and below\n",
      "    n_above = np.sum(xs < (mu - 4 * sigma))\n",
      "    n_below = np.sum(xs > (mu + 4 * sigma))\n",
      "    ind_in = (xs >= (mu - 4 * sigma)) & (xs <= (mu + 4 * sigma)) #indices to grab the x values \n",
      "    len_in = np.sum(ind_in)\n",
      "    #print(n_above, n_below, len_in)\n",
      "    #that will be needed to evaluate the Gaussian\n",
      "    \n",
      "    if len_in == 0:\n",
      "        return sp.identity(len(xs), format=\"csc\")\n",
      "    else:    \n",
      "        #Create Gaussian, add the sparse diagonal to it\n",
      "        x_gauss = xs[ind_in]\n",
      "        gauss_mat = np.fromfunction(gauss_func, (len_in,len_in), x0v=x_gauss, x1v=x_gauss, amp=amp, mu=mu, sigma=sigma, dtype=np.int)\n",
      "        gauss_mat = gauss_mat + np.identity(len_in)\n",
      "        \n",
      "        #plt.imshow(gauss_mat)\n",
      "        if n_above == 0 and n_below == 0:\n",
      "            return sp.csc_matrix(gauss_mat)\n",
      "        elif n_above == 0:\n",
      "            return sp.block_diag((gauss_mat, sp.identity(n_below)), format=\"csc\")\n",
      "        elif n_below == 0:\n",
      "            return sp.block_diag((sp.identity(n_above), gauss_mat), format=\"csc\")\n",
      "        else:\n",
      "            return sp.block_diag((sp.identity(n_above), gauss_mat, sp.identity(n_below)), format=\"csc\")"
     ],
     "language": "python",
     "metadata": {},
     "outputs": [],
     "prompt_number": 9
    },
    {
     "cell_type": "markdown",
     "metadata": {},
     "source": [
      "How to initialize a csc_matrix using the list approach"
     ]
    },
    {
     "cell_type": "code",
     "collapsed": false,
     "input": [
      "data = np.array([3, 3, 3])\n",
      "ij = np.array([[0, 1, 2],[0, 1 , 2]])\n",
      "mymat = sp.csc_matrix((data, ij))"
     ],
     "language": "python",
     "metadata": {},
     "outputs": [],
     "prompt_number": 8
    },
    {
     "cell_type": "code",
     "collapsed": false,
     "input": [
      "def Cregion(xs, amp, mu, sigma, var=1):\n",
      "    '''Create a sparse covariance matrix using identity and block_diagonal'''\n",
      "    #In the region of the Gaussian, the matrix will be dense, so just create it as `fromfunction`\n",
      "    #and then later turn it into a sparse matrix with size xs x xs\n",
      "        \n",
      "    #Given mu, and the extent of sigma, estimate the data points that are above, in Gaussian, and below\n",
      "    n_above = np.sum(xs < (mu - 4 * sigma))\n",
      "    n_below = np.sum(xs > (mu + 4 * sigma))\n",
      "    \n",
      "    #Create dense matrix and indexes, then convert to lists so that you can pack things in as:\n",
      "    \n",
      "    #csc_matrix((data, ij), [shape=(M, N)])\n",
      "    #where data and ij satisfy the relationship a[ij[0, k], ij[1, k]] = data[k]\n",
      "    \n",
      "    len_x = len(xs)\n",
      "    ind_in = (xs >= (mu - 4 * sigma)) & (xs <= (mu + 4 * sigma)) #indices to grab the x values \n",
      "    len_in = np.sum(ind_in)\n",
      "    #print(n_above, n_below, len_in)\n",
      "    #that will be needed to evaluate the Gaussian\n",
      "    \n",
      "     \n",
      "    #Create Gaussian matrix fromfunction\n",
      "    x_gauss = xs[ind_in]\n",
      "    gauss_mat = np.fromfunction(gauss_func, (len_in,len_in), x0v=x_gauss, x1v=x_gauss, \n",
      "                                amp=amp, mu=mu, sigma=sigma, dtype=np.int).flatten()\n",
      "    \n",
      "    #Create an index array that matches the Gaussian\n",
      "    ij = np.indices((len_in, len_in)) + n_above\n",
      "    ij.shape = (2, -1)\n",
      "    \n",
      "    return sp.csc_matrix((gauss_mat, ij), shape=(len_x,len_x))\n",
      "    "
     ],
     "language": "python",
     "metadata": {},
     "outputs": [],
     "prompt_number": 7
    },
    {
     "cell_type": "markdown",
     "metadata": {},
     "source": [
      "Create many bad regions"
     ]
    },
    {
     "cell_type": "code",
     "collapsed": false,
     "input": [
      "S = Cregion(xs, 10, -20, 1) + Cregion(xs, 10, 0, 1) + Cregion(xs, 10, 20, 1) + sp.eye(len(xs))"
     ],
     "language": "python",
     "metadata": {},
     "outputs": [],
     "prompt_number": 13
    },
    {
     "cell_type": "code",
     "collapsed": false,
     "input": [
      "def lnprob_fast(b,m, amp, l):\n",
      "    A = calcA(b, m)\n",
      "    S = sparse_k_3_2(xs, amp, l) + sp.eye(len(xs))\n",
      "    s, logdet = np.linalg.slogdet(S.todense())\n",
      "    if s <= 0:\n",
      "        return -np.inf\n",
      "    lnp =  -0.5 * (A.T.dot(spsolve(S,A)) + logdet)\n",
      "    return lnp   \n",
      "    "
     ],
     "language": "python",
     "metadata": {},
     "outputs": [],
     "prompt_number": 138
    },
    {
     "cell_type": "code",
     "collapsed": false,
     "input": [
      "print(lnprob_fast(10, 0.2, 1, 0.1))\n",
      "print(lnprob_fast(10, 0.2, 1, 1))\n",
      "print(lnprob_fast(10, 0.2, 1, 10))\n",
      "print()\n",
      "print(lnprob_fast(10, 0.2, 10, 0.1))\n",
      "print(lnprob_fast(10, 0.2, 10, 1))\n",
      "print(lnprob_fast(10, 0.2, 10, 10))"
     ],
     "language": "python",
     "metadata": {},
     "outputs": [
      {
       "output_type": "stream",
       "stream": "stdout",
       "text": [
        "-1883.32528909\n",
        "-1661.08224326"
       ]
      },
      {
       "output_type": "stream",
       "stream": "stdout",
       "text": [
        "\n",
        "-1688.58840283"
       ]
      },
      {
       "output_type": "stream",
       "stream": "stdout",
       "text": [
        "\n",
        "\n",
        "-3224.11425617"
       ]
      },
      {
       "output_type": "stream",
       "stream": "stdout",
       "text": [
        "\n",
        "-1965.46043112"
       ]
      },
      {
       "output_type": "stream",
       "stream": "stdout",
       "text": [
        "\n",
        "-1646.16116033"
       ]
      },
      {
       "output_type": "stream",
       "stream": "stdout",
       "text": [
        "\n"
       ]
      }
     ],
     "prompt_number": 139
    },
    {
     "cell_type": "markdown",
     "metadata": {},
     "source": [
      "Rather than use a Gaussian for $k(x, x^\\prime)$, we can use a more general covariance function, such as the 'squared exponential' but with an added Gaussian taper\n",
      "\n",
      "$$k(x, x^\\prime | h, a, \\mu, \\sigma) = \\exp \\left ( \\frac{-( x - x^\\prime)^2 }{2 h^2} \\right ) \\frac{a^2}{2 \\pi \\sigma} \\exp \\left ( - \\frac{[(x - \\mu)^2 + (x^\\prime - \\mu)^2]}{2 \\sigma^2}\\right )$$\n",
      "\n",
      "here $h$ is a \"bandwidth\" that controls the power of the oscillations. If $h$ is small, then there will be high-frequency structure. If $h$ is large, then only low-frequency structure will remain."
     ]
    },
    {
     "cell_type": "code",
     "collapsed": false,
     "input": [
      "def exp_func(x0i, x1i, x0v=None, x1v=None, h=None, amp=None, mu=None, sigma=None):\n",
      "    x0 = x0v[x0i]\n",
      "    x1 = x1v[x1i]\n",
      "    return amp**2/(2 * np.pi * sigma**2) * np.exp(-((x0 - mu)**2 + (x1 - mu)**2)/(2 * sigma**2)) * np.exp(-0.5 * (x0 - x1)**2/h**2)"
     ],
     "language": "python",
     "metadata": {},
     "outputs": [],
     "prompt_number": 3
    }
   ],
   "metadata": {}
  }
 ]
}