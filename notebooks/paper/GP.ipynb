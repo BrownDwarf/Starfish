{
 "metadata": {
  "name": "",
  "signature": "sha256:6b34fb7111fd0e366274ab9748fb4dccd2344cd5773bb96dd496a17b7cc98c7b"
 },
 "nbformat": 3,
 "nbformat_minor": 0,
 "worksheets": [
  {
   "cells": [
    {
     "cell_type": "markdown",
     "metadata": {},
     "source": [
      "Appendix plots for describing the Gaussian process model"
     ]
    },
    {
     "cell_type": "code",
     "collapsed": false,
     "input": [
      "from Starfish.emulator import Emulator, PCAGrid\n",
      "from Starfish.utils import saveall\n",
      "import numpy as np\n",
      "import matplotlib.pyplot as plt\n",
      "from mpl_toolkits.axes_grid1.inset_locator import zoomed_inset_axes\n",
      "from mpl_toolkits.axes_grid1.inset_locator import inset_axes\n",
      "from mpl_toolkits.axes_grid1.inset_locator import mark_inset\n",
      "from matplotlib.ticker import FormatStrFormatter as FSF\n",
      "from matplotlib.ticker import MaxNLocator\n",
      "from matplotlib.ticker import MultipleLocator\n",
      "\n",
      "from Starfish.grid_tools import HDF5Interface"
     ],
     "language": "python",
     "metadata": {},
     "outputs": [],
     "prompt_number": 45
    },
    {
     "cell_type": "code",
     "collapsed": false,
     "input": [
      "em = Emulator.open(\"../../libraries/PHOENIX_SPEX_M_PCA.hdf5\") # All weights\n",
      "pca = em.PCAGrid"
     ],
     "language": "python",
     "metadata": {},
     "outputs": [],
     "prompt_number": 2
    },
    {
     "cell_type": "code",
     "collapsed": false,
     "input": [
      "temps = np.unique(pca.gparams[:,0])\n",
      "#loggs = np.unique(pca.gparams[:,1])\n",
      "#Zs = np.unique(pca.gparams[:,2])\n",
      "#points = {\"temp\":temps, \"logg\":loggs, \"Z\":Zs}"
     ],
     "language": "python",
     "metadata": {},
     "outputs": [],
     "prompt_number": 3
    },
    {
     "cell_type": "code",
     "collapsed": false,
     "input": [
      "# temps use just 2800 - 3200\n",
      "logg = 5.0\n",
      "Z = 0.0"
     ],
     "language": "python",
     "metadata": {},
     "outputs": [],
     "prompt_number": 4
    },
    {
     "cell_type": "code",
     "collapsed": false,
     "input": [
      "int_temps = np.linspace(temps[0], temps[-1], num=40)\n",
      "\n",
      "weight_index = 4\n",
      "weights = pca.w[weight_index]\n",
      "pcomp = pca.pcomps[weight_index]\n",
      "emw = em.WEs[weight_index] # The emulator for the first weight\n",
      "\n",
      "nsamp = 50"
     ],
     "language": "python",
     "metadata": {},
     "outputs": [],
     "prompt_number": 39
    },
    {
     "cell_type": "code",
     "collapsed": false,
     "input": [
      "fig = plt.figure(figsize=(4, 3))\n",
      "ax = fig.add_subplot(111)\n",
      "\n",
      "# Load the grid-point weights\n",
      "ww = []\n",
      "for temp in temps:\n",
      "    pars = np.array([temp, logg, Z])\n",
      "    index = pca.get_index(pars)\n",
      "    ww.append(weights[index])\n",
      "    \n",
      "#ax.plot(temps, ww, \"k\")\n",
      "ax.plot(temps, ww, \"bo\")\n",
      "\n",
      "fparams = []\n",
      "for temp in int_temps:\n",
      "    fparams.append([temp, logg, Z])\n",
      "fparams = np.array(fparams)        \n",
      "\n",
      "wgps = []\n",
      "for k in range(nsamp):\n",
      "    wgps.append(emw.draw_weights(fparams))\n",
      "    \n",
      "for k in range(nsamp):    \n",
      "    ax.plot(int_temps, wgps[k] , \"b\", lw=0.1)\n",
      "\n",
      "    \n",
      "ax.xaxis.set_major_formatter(FSF(\"%.0f\"))        \n",
      "ax.xaxis.set_major_locator(MultipleLocator(100))  \n",
      "\n",
      "ax.set_xlabel(r\"$T_\\textrm{eff}$\")\n",
      "ax.set_ylabel(r\"$w_5$\")\n",
      "fig.subplots_adjust(left=0.14, right=0.86, bottom=0.15)\n",
      "\n",
      "# axins = zoomed_inset_axes(ax, 6, loc=1) # zoom = 6\n",
      "axins = inset_axes(ax, width=1.5, height=1.5, loc=4)\n",
      "\n",
      "for k in range(nsamp):    \n",
      "    axins.plot(int_temps, wgps[k] , \"b\", lw=0.1)\n",
      "\n",
      "axins.axvline(3150, color=\"k\", ymin=0.3, ymax=0.7)    \n",
      "# ## sub region of the original image\n",
      "x1, x2, y1, y2 = 3140, 3160, -2.22, -2.18\n",
      "axins.set_xlim(x1, x2)\n",
      "axins.set_ylim(y1, y2)\n",
      "\n",
      "axins.xaxis.set_ticklabels([])\n",
      "axins.yaxis.set_ticklabels([])\n",
      "\n",
      "mark_inset(ax, axins, loc1=2, loc2=1, fc=\"none\", ec=\"0.6\")\n",
      "\n",
      "saveall(fig, \"../../plots/GP_left\")\n",
      "\n",
      "plt.show()"
     ],
     "language": "python",
     "metadata": {},
     "outputs": [],
     "prompt_number": 94
    },
    {
     "cell_type": "markdown",
     "metadata": {},
     "source": [
      "Now plot the probability distribution at 3150"
     ]
    },
    {
     "cell_type": "code",
     "collapsed": false,
     "input": [
      "mu, var = emw(np.array([3150, logg, Z]))"
     ],
     "language": "python",
     "metadata": {},
     "outputs": [],
     "prompt_number": 55
    },
    {
     "cell_type": "code",
     "collapsed": false,
     "input": [
      "print(mu, var)"
     ],
     "language": "python",
     "metadata": {},
     "outputs": [
      {
       "output_type": "stream",
       "stream": "stdout",
       "text": [
        "[-2.19961725] [[  2.75141670e-06]]\n"
       ]
      }
     ],
     "prompt_number": 66
    },
    {
     "cell_type": "code",
     "collapsed": false,
     "input": [
      "mu = mu[0]\n",
      "var = var[0][0]"
     ],
     "language": "python",
     "metadata": {},
     "outputs": [],
     "prompt_number": 67
    },
    {
     "cell_type": "code",
     "collapsed": false,
     "input": [
      "def gauss(x):\n",
      "    return 1/np.sqrt(2. * np.pi * var) * np.exp(-0.5 * (x - mu)**2/var)"
     ],
     "language": "python",
     "metadata": {},
     "outputs": [],
     "prompt_number": 68
    },
    {
     "cell_type": "code",
     "collapsed": false,
     "input": [
      "step = 0.3 * (y2 - y1)"
     ],
     "language": "python",
     "metadata": {},
     "outputs": [],
     "prompt_number": 77
    },
    {
     "cell_type": "code",
     "collapsed": false,
     "input": [
      "xs = np.linspace(y1 + step, y2 - step, num=100)"
     ],
     "language": "python",
     "metadata": {},
     "outputs": [],
     "prompt_number": 78
    },
    {
     "cell_type": "code",
     "collapsed": false,
     "input": [
      "fig = plt.figure(figsize=(3,3))\n",
      "ax = fig.add_subplot(111)\n",
      "\n",
      "ax.plot(xs, gauss(xs), \"k\")\n",
      "ax.set_xlim(xs[0], xs[-1])\n",
      "\n",
      "#ax.xaxis.set_major_formatter(FSF(\"%.0f\"))        \n",
      "ax.xaxis.set_major_locator(MultipleLocator(0.005))  \n",
      "ax.set_xlabel(r\"$w_5$\")\n",
      "ax.set_ylabel(r\"$p(w_5 | \\theta_\\ast)$\")\n",
      "\n",
      "fig.subplots_adjust(left=0.18, right=0.82, bottom=0.15)\n",
      "\n",
      "saveall(fig, \"../../plots/GP_right\")\n",
      "\n",
      "plt.show()"
     ],
     "language": "python",
     "metadata": {},
     "outputs": [],
     "prompt_number": 96
    },
    {
     "cell_type": "code",
     "collapsed": false,
     "input": [],
     "language": "python",
     "metadata": {},
     "outputs": []
    }
   ],
   "metadata": {}
  }
 ]
}