{
 "metadata": {
  "name": "",
  "signature": "sha256:77064026518fbaa90320fa502a86ecedd0917969fe0aebe763646ef5cf6187c8"
 },
 "nbformat": 3,
 "nbformat_minor": 0,
 "worksheets": [
  {
   "cells": [
    {
     "cell_type": "code",
     "collapsed": false,
     "input": [
      "#Import all of the relevant python modules\n",
      "import numpy as np\n",
      "import matplotlib\n",
      "import matplotlib.pyplot as plt\n",
      "from matplotlib.ticker import FormatStrFormatter as FSF\n",
      "from matplotlib.ticker import MaxNLocator\n",
      "from matplotlib.ticker import MultipleLocator"
     ],
     "language": "python",
     "metadata": {},
     "outputs": [],
     "prompt_number": 1
    },
    {
     "cell_type": "code",
     "collapsed": false,
     "input": [
      "from StellarSpectra.model import Model\n",
      "from StellarSpectra.spectrum import DataSpectrum\n",
      "from StellarSpectra.grid_tools import SPEX, HDF5Interface\n",
      "import scipy.sparse as sp\n",
      "import numpy as np\n",
      "\n",
      "myDataSpectrum = DataSpectrum.open(\"../../data/Gl51/Gl51RA.hdf5\", orders=np.array([0]))\n",
      "myInstrument = SPEX()\n",
      "myHDF5Interface = HDF5Interface(\"../../libraries/PHOENIX_SPEX_M.hdf5\")"
     ],
     "language": "python",
     "metadata": {},
     "outputs": [],
     "prompt_number": 2
    },
    {
     "cell_type": "code",
     "collapsed": false,
     "input": [
      "#Load a model using the JSON file\n",
      "myModel = Model.from_json(\"Gl51RA_model_final.json\", myDataSpectrum, myInstrument, myHDF5Interface)\n",
      "myOrderModel = myModel.OrderModels[0]\n",
      "spec = myModel.get_data()\n",
      "\n",
      "wl = spec.wls[0]\n",
      "fl = spec.fls[0]\n",
      "\n",
      "model_fl = myOrderModel.get_spectrum()\n",
      "\n",
      "residuals = fl - model_fl\n",
      "\n",
      "cheb = myOrderModel.get_Cheb()"
     ],
     "language": "python",
     "metadata": {},
     "outputs": [
      {
       "output_type": "stream",
       "stream": "stdout",
       "text": [
        "Determine Chunk Log: Wl is 1024\n",
        "Creating OrderModel 0\n"
       ]
      }
     ],
     "prompt_number": 3
    },
    {
     "cell_type": "code",
     "collapsed": false,
     "input": [
      "fig, ax = plt.subplots(nrows=2, figsize=(6.5,2.7), sharex=True)\n",
      "\n",
      "wlm = wl * 1e-4 #convert to microns\n",
      "\n",
      "l0, = ax[0].plot(wlm, fl, \"b\")\n",
      "l1, = ax[0].plot(wlm, model_fl, \"r\")\n",
      "\n",
      "ax[0].legend([l0, l1], [\"data\", \"model\"], loc=\"upper right\", ncol=2, prop={'size':10})\n",
      "ax[0].yaxis.set_major_locator(MaxNLocator(nbins=7, prune='lower'))\n",
      "#ax[0].fill_betweenx(np.array([1e-14, 2.4e-13]), 5144, 5150, color=\"0.5\", alpha=0.5)\n",
      "#ax[0].set_ylim(1e-14, 2.4e-13)\n",
      "\n",
      "#ax[1].fill_betweenx(np.array([-9e-14, 9e-14]), 5144, 5150, color=\"0.5\", alpha=0.5)\n",
      "l2, = ax[1].plot(wlm, residuals, \"k\")\n",
      "ax[1].xaxis.set_major_formatter(FSF(\"%.1f\"))\n",
      "ax[1].set_xlabel(r\"$\\lambda$ [$\\mu$m]\")\n",
      "ax[1].yaxis.set_major_locator(MaxNLocator(nbins=7, prune='upper'))\n",
      "scale = 1.1 * np.max(np.abs(residuals))\n",
      "#ax[1].set_xlim(5135, 5236)\n",
      "ax[1].set_ylim(-scale, scale)\n",
      "ax[1].legend([l2], [\"residuals\"], loc=\"upper right\", prop={'size':10})\n",
      "\n",
      "fig.subplots_adjust(hspace=0, left=0.12, right=0.95, bottom=0.17, top=0.93)\n",
      "fig.text(0.03, 0.6, r\"$f_\\lambda \\quad [\\frac{\\textrm{erg}}{\\textrm{cm}^2 \\, \\textrm{s} \\, \\textrm{\\AA}}]$\", rotation=\"vertical\")\n",
      "\n",
      "fig.savefig(\"../../plots/Gl51residual.png\")\n",
      "fig.savefig(\"../../plots/Gl51residual.pdf\")\n",
      "fig.savefig(\"../../plots/Gl51residual.svg\")\n",
      "plt.show()"
     ],
     "language": "python",
     "metadata": {},
     "outputs": [],
     "prompt_number": 11
    },
    {
     "cell_type": "code",
     "collapsed": false,
     "input": [],
     "language": "python",
     "metadata": {},
     "outputs": []
    }
   ],
   "metadata": {}
  }
 ]
}