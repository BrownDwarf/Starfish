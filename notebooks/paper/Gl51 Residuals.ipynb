{
 "metadata": {
  "name": "",
  "signature": "sha256:1fd7579583f50dbc2f606ee3de9e731b52cc9e677f31364975f4ce99a57bd1b9"
 },
 "nbformat": 3,
 "nbformat_minor": 0,
 "worksheets": [
  {
   "cells": [
    {
     "cell_type": "code",
     "collapsed": false,
     "input": [
      "#Import all of the relevant python modules\n",
      "import numpy as np\n",
      "import matplotlib\n",
      "import matplotlib.pyplot as plt\n",
      "from matplotlib.ticker import FormatStrFormatter as FSF\n",
      "from matplotlib.ticker import MaxNLocator\n",
      "from matplotlib.ticker import MultipleLocator"
     ],
     "language": "python",
     "metadata": {},
     "outputs": [],
     "prompt_number": 1
    },
    {
     "cell_type": "code",
     "collapsed": false,
     "input": [
      "from StellarSpectra.model import Model\n",
      "from StellarSpectra.spectrum import DataSpectrum\n",
      "from StellarSpectra.grid_tools import SPEX, HDF5Interface\n",
      "from StellarSpectra.utils import saveall\n",
      "import scipy.sparse as sp\n",
      "import numpy as np\n",
      "\n",
      "myDataSpectrum = DataSpectrum.open(\"../../data/Gl51/Gl51RA.hdf5\", orders=np.array([0]))\n",
      "myInstrument = SPEX()\n",
      "myHDF5Interface = HDF5Interface(\"../../libraries/PHOENIX_SPEX_M.hdf5\")"
     ],
     "language": "python",
     "metadata": {},
     "outputs": [],
     "prompt_number": 14
    },
    {
     "cell_type": "code",
     "collapsed": false,
     "input": [
      "#Load a model using the JSON file\n",
      "myModel = Model.from_json(\"Gl51_model0_final.json\", myDataSpectrum, myInstrument, myHDF5Interface)\n",
      "myOrderModel = myModel.OrderModels[0]\n",
      "spec = myModel.get_data()\n",
      "\n",
      "wl = spec.wls[0]\n",
      "fl = spec.fls[0]\n",
      "\n",
      "model_fl = myOrderModel.get_spectrum()\n",
      "\n",
      "residuals = fl - model_fl\n",
      "\n",
      "cheb = myOrderModel.get_Cheb()"
     ],
     "language": "python",
     "metadata": {},
     "outputs": [
      {
       "output_type": "stream",
       "stream": "stdout",
       "text": [
        "Determine Chunk Log: Wl is 1024\n",
        "Creating OrderModel 0\n",
        "creating region "
       ]
      },
      {
       "output_type": "stream",
       "stream": "stderr",
       "text": [
        "INFO:RegionCovarianceMatrix 22056.92494864523:Created region\n"
       ]
      },
      {
       "output_type": "stream",
       "stream": "stderr",
       "text": [
        "INFO:CovarianceMatrix:Added region 0 to self.RegionList\n"
       ]
      },
      {
       "output_type": "stream",
       "stream": "stderr",
       "text": [
        "INFO:RegionCovarianceMatrix 22652.978100190612:Created region\n"
       ]
      },
      {
       "output_type": "stream",
       "stream": "stderr",
       "text": [
        "INFO:CovarianceMatrix:Added region 1 to self.RegionList\n"
       ]
      },
      {
       "output_type": "stream",
       "stream": "stderr",
       "text": [
        "INFO:RegionCovarianceMatrix 22084.78296470615:Created region\n"
       ]
      },
      {
       "output_type": "stream",
       "stream": "stderr",
       "text": [
        "INFO:CovarianceMatrix:Added region 2 to self.RegionList\n"
       ]
      },
      {
       "output_type": "stream",
       "stream": "stderr",
       "text": [
        "INFO:RegionCovarianceMatrix 22625.371116290782:Created region\n"
       ]
      },
      {
       "output_type": "stream",
       "stream": "stderr",
       "text": [
        "INFO:CovarianceMatrix:Added region 3 to self.RegionList\n"
       ]
      },
      {
       "output_type": "stream",
       "stream": "stderr",
       "text": [
        "INFO:RegionCovarianceMatrix 22609.26887539992:Created region\n"
       ]
      },
      {
       "output_type": "stream",
       "stream": "stderr",
       "text": [
        "INFO:CovarianceMatrix:Added region 4 to self.RegionList\n"
       ]
      },
      {
       "output_type": "stream",
       "stream": "stderr",
       "text": [
        "INFO:RegionCovarianceMatrix 23380.627852924943:Created region\n"
       ]
      },
      {
       "output_type": "stream",
       "stream": "stderr",
       "text": [
        "INFO:CovarianceMatrix:Added region 5 to self.RegionList\n"
       ]
      },
      {
       "output_type": "stream",
       "stream": "stdout",
       "text": [
        " 0 0 {'sigma': 105.01839684048089, 'loga': -14.261241719333674, 'mu': 22056.92494864523}\n",
        "creating region  1 1 {'sigma': 120.9072991296247, 'loga': -14.73332879603619, 'mu': 22652.978100190612}\n",
        "creating region  2 2 {'sigma': 131.9965362017658, 'loga': -14.795385277442167, 'mu': 22084.78296470615}\n",
        "creating region  3 3 {'sigma': 86.83258590913002, 'loga': -14.654408866651673, 'mu': 22625.371116290782}\n",
        "creating region  4 4 {'sigma': 52.14706896796782, 'loga': -14.61901727721987, 'mu': 22609.26887539992}\n",
        "creating region  5 5 {'sigma': 85.25433304613068, 'loga': -14.998368835095075, 'mu': 23380.627852924943}\n"
       ]
      }
     ],
     "prompt_number": 3
    },
    {
     "cell_type": "code",
     "collapsed": false,
     "input": [
      "draws = np.load(\"Gl51_draws.npy\").T"
     ],
     "language": "python",
     "metadata": {},
     "outputs": [],
     "prompt_number": 20
    },
    {
     "cell_type": "code",
     "collapsed": false,
     "input": [
      "#Colorbrewer bands\n",
      "s3 = '#fee6ce'\n",
      "s2 = '#fdae6b'\n",
      "s1 = '#e6550d'"
     ],
     "language": "python",
     "metadata": {},
     "outputs": [],
     "prompt_number": 12
    },
    {
     "cell_type": "code",
     "collapsed": false,
     "input": [
      "fig, ax = plt.subplots(nrows=2, figsize=(6.5,2.7), sharex=True)\n",
      "\n",
      "wlm = wl * 1e-4 #convert to microns\n",
      "\n",
      "l0, = ax[0].plot(wlm, fl, \"b\")\n",
      "l1, = ax[0].plot(wlm, model_fl, \"r\")\n",
      "\n",
      "ax[0].legend([l0, l1], [\"data\", \"model\"], loc=\"upper right\", ncol=2, prop={'size':10})\n",
      "ax[0].yaxis.set_major_locator(MaxNLocator(nbins=7, prune='lower'))\n",
      "\n",
      "#Jump again and now plot the envelope of the draws\n",
      "min_spec, max_spec = utils.std_envelope(draws)\n",
      "ax[1].fill_between(wlm, 3*min_spec, 3*max_spec, zorder=0, color=s3)\n",
      "ax[1].fill_between(wlm, 2*min_spec, 2*max_spec, zorder=0, color=s2)\n",
      "ax[1].fill_between(wlm, min_spec, max_spec, zorder=0, color=s1)\n",
      "\n",
      "l2, = ax[1].plot(wlm, residuals, \"k\")\n",
      "ax[1].xaxis.set_major_formatter(FSF(\"%.1f\"))\n",
      "ax[1].set_xlabel(r\"$\\lambda$ [$\\mu$m]\")\n",
      "ax[1].yaxis.set_major_locator(MaxNLocator(nbins=7, prune='upper'))\n",
      "scale = 1.5 * np.max(np.abs(residuals))\n",
      "\n",
      "ax[1].set_ylim(-scale, scale)\n",
      "ax[1].set_xlim(np.min(wlm), np.max(wlm))\n",
      "ax[1].legend([l2], [\"residuals\"], loc=\"upper right\", prop={'size':10})\n",
      "\n",
      "fig.subplots_adjust(hspace=0, left=0.12, right=0.95, bottom=0.17, top=0.93)\n",
      "fig.text(0.03, 0.74, r\"$f_\\lambda \\quad [\\textrm{erg}\\;\\textrm{cm}^{-2}\\;\\textrm{s}^{-1}\\;\\textrm{\\AA}^{-1}]$\", rotation=\"vertical\")\n",
      "\n",
      "saveall(fig, \"../../plots/residuals_Gl51_logg\")\n",
      "plt.show()"
     ],
     "language": "python",
     "metadata": {},
     "outputs": [],
     "prompt_number": 23
    },
    {
     "cell_type": "code",
     "collapsed": false,
     "input": [],
     "language": "python",
     "metadata": {},
     "outputs": []
    }
   ],
   "metadata": {}
  }
 ]
}