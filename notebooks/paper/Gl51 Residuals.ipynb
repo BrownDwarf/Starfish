{
 "metadata": {
  "name": "",
  "signature": "sha256:2392c733455727e9b9813ded38412e16369fed1f35726a9d4d44f3ab1d9b7cb3"
 },
 "nbformat": 3,
 "nbformat_minor": 0,
 "worksheets": [
  {
   "cells": [
    {
     "cell_type": "code",
     "collapsed": false,
     "input": [
      "#Import all of the relevant python modules\n",
      "import numpy as np\n",
      "import matplotlib\n",
      "import matplotlib.pyplot as plt\n",
      "from matplotlib.ticker import FormatStrFormatter as FSF\n",
      "from matplotlib.ticker import MaxNLocator\n",
      "from matplotlib.ticker import MultipleLocator"
     ],
     "language": "python",
     "metadata": {},
     "outputs": [],
     "prompt_number": 1
    },
    {
     "cell_type": "code",
     "collapsed": false,
     "input": [
      "from StellarSpectra.model import Model\n",
      "from StellarSpectra.spectrum import DataSpectrum\n",
      "from StellarSpectra.grid_tools import SPEX, HDF5Interface\n",
      "from StellarSpectra.utils import saveall\n",
      "from StellarSpectra import utils\n",
      "import scipy.sparse as sp\n",
      "import numpy as np\n",
      "\n",
      "myDataSpectrum = DataSpectrum.open(\"../../data/Gl51/Gl51RA.hdf5\", orders=np.array([0]))\n",
      "myInstrument = SPEX()\n",
      "myHDF5Interface = HDF5Interface(\"../../libraries/PHOENIX_SPEX_M.hdf5\")\n",
      "myErrorHDF5Interface = HDF5Interface(\"../../libraries/PHOENIX_SPEX_M.hdf5\")"
     ],
     "language": "python",
     "metadata": {},
     "outputs": [],
     "prompt_number": 9
    },
    {
     "cell_type": "code",
     "collapsed": false,
     "input": [
      "#Load a model using the JSON file\n",
      "myModel = Model.from_json(\"Gl51_model0_final.json\", myDataSpectrum, myInstrument, myHDF5Interface, myErrorHDF5Interface)\n",
      "myOrderModel = myModel.OrderModels[0]\n",
      "spec = myModel.get_data()\n",
      "\n",
      "wl = spec.wls[0]\n",
      "fl = spec.fls[0]\n",
      "\n",
      "model_fl = myOrderModel.get_spectrum()\n",
      "\n",
      "residuals = fl - model_fl\n",
      "\n",
      "cheb = myOrderModel.get_Cheb()"
     ],
     "language": "python",
     "metadata": {},
     "outputs": [
      {
       "output_type": "stream",
       "stream": "stdout",
       "text": [
        "Determine Chunk Log: Wl is 2048\n",
        "Determine Chunk Log: Wl is 2048\n",
        "Creating OrderModel 0\n",
        "creating region "
       ]
      },
      {
       "output_type": "stream",
       "stream": "stderr",
       "text": [
        "INFO:RegionCovarianceMatrix 22056.92494864523:Created region\n"
       ]
      },
      {
       "output_type": "stream",
       "stream": "stderr",
       "text": [
        "INFO:CovarianceMatrix:Added region 0 to self.RegionList\n"
       ]
      },
      {
       "output_type": "stream",
       "stream": "stderr",
       "text": [
        "INFO:RegionCovarianceMatrix 22652.978100190612:Created region\n"
       ]
      },
      {
       "output_type": "stream",
       "stream": "stderr",
       "text": [
        "INFO:CovarianceMatrix:Added region 1 to self.RegionList\n"
       ]
      },
      {
       "output_type": "stream",
       "stream": "stderr",
       "text": [
        "INFO:RegionCovarianceMatrix 22084.78296470615:Created region\n"
       ]
      },
      {
       "output_type": "stream",
       "stream": "stderr",
       "text": [
        "INFO:CovarianceMatrix:Added region 2 to self.RegionList\n"
       ]
      },
      {
       "output_type": "stream",
       "stream": "stderr",
       "text": [
        "INFO:RegionCovarianceMatrix 22625.371116290782:Created region\n"
       ]
      },
      {
       "output_type": "stream",
       "stream": "stderr",
       "text": [
        "INFO:CovarianceMatrix:Added region 3 to self.RegionList\n"
       ]
      },
      {
       "output_type": "stream",
       "stream": "stderr",
       "text": [
        "INFO:RegionCovarianceMatrix 22609.26887539992:Created region\n"
       ]
      },
      {
       "output_type": "stream",
       "stream": "stderr",
       "text": [
        "INFO:CovarianceMatrix:Added region 4 to self.RegionList\n"
       ]
      },
      {
       "output_type": "stream",
       "stream": "stdout",
       "text": [
        " 0 0 {'sigma': 122.01839684048089, 'loga': -14.7541719333674, 'mu': 22056.92494864523}\n",
        "creating region  1 1 {'sigma': 99.9072991296247, 'loga': -14.73332879603619, 'mu': 22652.978100190612}\n",
        "creating region  2 2 {'sigma': 120.99653620176579, 'loga': -14.83385277442167, 'mu': 22084.78296470615}\n",
        "creating region  3 3 {'sigma': 94.83258590913002, 'loga': -14.744408866651673, 'mu': 22625.371116290782}\n",
        "creating region  4 4 {'sigma': 85.14706896796783, 'loga': -14.81901727721987, 'mu': 22609.26887539992}\n",
        "creating region "
       ]
      },
      {
       "output_type": "stream",
       "stream": "stderr",
       "text": [
        "INFO:RegionCovarianceMatrix 23380.627852924943:Created region\n"
       ]
      },
      {
       "output_type": "stream",
       "stream": "stderr",
       "text": [
        "INFO:CovarianceMatrix:Added region 5 to self.RegionList\n"
       ]
      },
      {
       "output_type": "stream",
       "stream": "stdout",
       "text": [
        " 5 5 {'sigma': 73.25433304613068, 'loga': -14.81368835095075, 'mu': 23380.627852924943}\n"
       ]
      }
     ],
     "prompt_number": 4
    },
    {
     "cell_type": "code",
     "collapsed": false,
     "input": [
      "draws = np.load(\"Gl51_draws.npy\").T"
     ],
     "language": "python",
     "metadata": {},
     "outputs": [],
     "prompt_number": 5
    },
    {
     "cell_type": "code",
     "collapsed": false,
     "input": [
      "#Colorbrewer bands\n",
      "s3 = '#fee6ce'\n",
      "s2 = '#fdae6b'\n",
      "s1 = '#e6550d'"
     ],
     "language": "python",
     "metadata": {},
     "outputs": [],
     "prompt_number": 6
    },
    {
     "cell_type": "code",
     "collapsed": false,
     "input": [
      "fig, ax = plt.subplots(nrows=2, figsize=(7,3), sharex=True)\n",
      "\n",
      "wlm = wl * 1e-4 #convert to microns\n",
      "\n",
      "l0, = ax[0].plot(wlm, fl*1e14, \"b\")\n",
      "l1, = ax[0].plot(wlm, model_fl*1e14, \"r\")\n",
      "\n",
      "ax[0].annotate(\"data\", (0.86, 0.75), xycoords=\"axes fraction\", ha=\"right\", color=\"b\", size=9)\n",
      "ax[0].annotate(\"model\", (0.97, 0.75), xycoords=\"axes fraction\", ha=\"right\", color=\"r\", size=9)\n",
      "\n",
      "#ax[0].legend([l0, l1], [\"data\", \"model\"], loc=\"upper right\", ncol=2, prop={'size':10})\n",
      "ax[0].yaxis.set_major_locator(MaxNLocator(nbins=7, prune='lower'))\n",
      "\n",
      "#Jump again and now plot the envelope of the draws\n",
      "min_spec, max_spec = utils.std_envelope(draws)\n",
      "ax[1].fill_between(wlm, 3e14*min_spec, 3e14*max_spec, zorder=0, color=s3)\n",
      "ax[1].fill_between(wlm, 2e14*min_spec, 2e14*max_spec, zorder=0, color=s2)\n",
      "ax[1].fill_between(wlm, 1e14*min_spec, 1e14*max_spec, zorder=0, color=s1)\n",
      "\n",
      "ax[1].plot(wl, residuals*1e14, \"w\", lw=1.8, zorder=1, ls=\"steps-mid\")\n",
      "l2, = ax[1].plot(wlm, residuals*1e14, \"k\", zorder=1)\n",
      "\n",
      "ax[1].xaxis.set_major_formatter(FSF(\"%.1f\"))\n",
      "ax[1].set_xlabel(r\"$\\lambda$ [$\\mu$m]\")\n",
      "\n",
      "scale = 1.5 * np.max(np.abs(residuals)) * 1e14\n",
      "\n",
      "ax[0].yaxis.set_major_locator(MaxNLocator(nbins=6, prune='lower'))   \n",
      "ax[1].yaxis.set_major_locator(MaxNLocator(nbins=6, prune='upper'))  \n",
      "\n",
      "ax[1].set_ylim(-scale, scale)\n",
      "ax[1].set_xlim(np.min(wlm), np.max(wlm))\n",
      "ax[1].annotate(\"residuals\", (0.97, 0.8), xycoords=\"axes fraction\", ha=\"right\", color=\"k\", size=9)\n",
      "#ax[1].legend([l2], [\"residuals\"], loc=\"upper right\", prop={'size':10})\n",
      "\n",
      "fig.subplots_adjust(hspace=0, left=0.1, right=0.9, bottom=0.17, top=0.93)\n",
      "fig.text(0.01, 0.83, r\"$f_\\lambda\\, \\times 10^{-14}\\, \\quad [\\textrm{erg}\\;\\textrm{cm}^{-2}\\;\\textrm{s}^{-1}\\;\\textrm{\\AA}^{-1}]$\", rotation=\"vertical\")\n",
      "\n",
      "saveall(fig, \"../../plots/residuals_Gl51_logg\")\n",
      "plt.show()"
     ],
     "language": "python",
     "metadata": {},
     "outputs": [],
     "prompt_number": 14
    },
    {
     "cell_type": "code",
     "collapsed": false,
     "input": [],
     "language": "python",
     "metadata": {},
     "outputs": []
    }
   ],
   "metadata": {}
  }
 ]
}