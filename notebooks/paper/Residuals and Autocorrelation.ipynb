{
 "metadata": {
  "name": "",
  "signature": "sha256:673f6f279c204076116d1294747611b1d39a2b864ddd081fd3ff98c3c9b5ecfd"
 },
 "nbformat": 3,
 "nbformat_minor": 0,
 "worksheets": [
  {
   "cells": [
    {
     "cell_type": "markdown",
     "metadata": {},
     "source": [
      "Figure 3 of the paper. These three figures will be combined using Inkscape."
     ]
    },
    {
     "cell_type": "code",
     "collapsed": false,
     "input": [
      "#Import all of the relevant python modules\n",
      "import numpy as np\n",
      "import matplotlib\n",
      "import matplotlib.pyplot as plt\n",
      "from matplotlib.ticker import FormatStrFormatter as FSF\n",
      "from matplotlib.ticker import MaxNLocator\n",
      "from matplotlib.ticker import MultipleLocator"
     ],
     "language": "python",
     "metadata": {},
     "outputs": [],
     "prompt_number": 1
    },
    {
     "cell_type": "code",
     "collapsed": false,
     "input": [
      "from StellarSpectra.model import Model\n",
      "from StellarSpectra.spectrum import DataSpectrum\n",
      "from StellarSpectra.grid_tools import TRES, HDF5Interface\n",
      "import scipy.sparse as sp\n",
      "import numpy as np\n",
      "\n",
      "myDataSpectrum = DataSpectrum.open(\"../../data/WASP14/WASP14-2009-06-14.hdf5\", orders=np.array([22]))\n",
      "myInstrument = TRES()\n",
      "myHDF5Interface = HDF5Interface(\"../../libraries/PHOENIX_TRES_F.hdf5\")"
     ],
     "language": "python",
     "metadata": {},
     "outputs": [],
     "prompt_number": 2
    },
    {
     "cell_type": "code",
     "collapsed": false,
     "input": [
      "#Load a model using the JSON file\n",
      "myModel = Model.from_json(\"../WASP14/model_final.json\", myDataSpectrum, myInstrument, myHDF5Interface)\n",
      "myOrderModel = myModel.OrderModels[0]\n",
      "spec = myModel.get_data()\n",
      "\n",
      "wl = spec.wls[0]\n",
      "fl = spec.fls[0]\n",
      "\n",
      "model_fl = myOrderModel.get_spectrum()\n",
      "\n",
      "residuals = fl - model_fl\n",
      "\n",
      "cheb = myOrderModel.get_Cheb()"
     ],
     "language": "python",
     "metadata": {},
     "outputs": [
      {
       "output_type": "stream",
       "stream": "stdout",
       "text": [
        "Determine Chunk Log: Wl is 8192\n",
        "Creating OrderModel 0\n"
       ]
      }
     ],
     "prompt_number": 3
    },
    {
     "cell_type": "markdown",
     "metadata": {},
     "source": [
      "## Large view residual plot"
     ]
    },
    {
     "cell_type": "code",
     "collapsed": false,
     "input": [
      "fig, ax = plt.subplots(nrows=2, figsize=(6.5,2.7), sharex=True)\n",
      "\n",
      "l0, = ax[0].plot(wl, fl, \"b\")\n",
      "l1, = ax[0].plot(wl, model_fl, \"r\")\n",
      "\n",
      "ax[0].legend([l0, l1], [\"data\", \"model\"], loc=\"lower right\", ncol=2, prop={'size':10})\n",
      "ax[0].yaxis.set_major_locator(MaxNLocator(nbins=7, prune='lower'))\n",
      "ax[0].fill_betweenx(np.array([1e-14, 2.4e-13]), 5144, 5150, color=\"0.5\", alpha=0.5)\n",
      "ax[0].set_ylim(1e-14, 2.4e-13)\n",
      "\n",
      "ax[1].fill_betweenx(np.array([-9e-14, 9e-14]), 5144, 5150, color=\"0.5\", alpha=0.5)\n",
      "l2, = ax[1].plot(wl, residuals, \"k\")\n",
      "ax[1].xaxis.set_major_formatter(FSF(\"%.0f\"))\n",
      "ax[1].set_xlabel(r\"$\\lambda$ [\\AA]\")\n",
      "ax[1].yaxis.set_major_locator(MaxNLocator(nbins=7, prune='upper'))\n",
      "ax[1].set_xlim(5135, 5236)\n",
      "ax[1].set_ylim(-9e-14, 9e-14)\n",
      "ax[1].legend([l2], [\"residuals\"], loc=\"upper right\", prop={'size':10})\n",
      "\n",
      "fig.subplots_adjust(hspace=0, left=0.12, right=0.95, bottom=0.17, top=0.93)\n",
      "fig.text(0.03, 0.6, r\"$f_\\lambda \\quad [\\frac{\\textrm{erg}}{\\textrm{cm}^2 \\, \\textrm{s} \\, \\textrm{\\AA}}]$\", rotation=\"vertical\")\n",
      "\n",
      "fig.savefig(\"../../plots/residual_23.png\")\n",
      "fig.savefig(\"../../plots/residual_23.pdf\")\n",
      "fig.savefig(\"../../plots/residual_23.svg\")\n",
      "plt.show()"
     ],
     "language": "python",
     "metadata": {},
     "outputs": [],
     "prompt_number": 4
    },
    {
     "cell_type": "markdown",
     "metadata": {},
     "source": [
      "# Autocorrelation of Class 0 region\n",
      "\n",
      "Create two separate figures, such that they can be shown side-by-side using \\includegraphics{}"
     ]
    },
    {
     "cell_type": "code",
     "collapsed": false,
     "input": [
      "fig, ax = plt.subplots(nrows=2, sharex=True, figsize=(3.5, 3.5))\n",
      "\n",
      "#Use the model and residuals from the previos plot.\n",
      "ind = (wl > 5144) & (wl < 5150)\n",
      "\n",
      "l0, = ax[0].plot(wl[ind], fl[ind], \"b\", label=\"data\", drawstyle=\"steps-mid\")\n",
      "l1, = ax[0].plot(wl[ind], model_fl[ind], \"r\", label=\"model\", drawstyle=\"steps-mid\")\n",
      "\n",
      "\n",
      "l2, = ax[1].plot(wl[ind], residuals[ind], \"k\", label=\"residuals\", drawstyle=\"steps-mid\")\n",
      "\n",
      "\n",
      "\n",
      "ax[0].legend([l0, l1], [\"data\", \"model\"], loc=\"lower left\", prop={'size':10})\n",
      "ax[1].legend([l2], [\"residuals\"], loc=\"upper left\", prop={'size':10})\n",
      "\n",
      "ax[1].set_xlabel(r\"$\\lambda$ [\\AA]\")\n",
      "ax[1].xaxis.set_major_formatter(FSF(\"%.0f\"))\n",
      "fig.text(0.03, 0.6, r\"$f_\\lambda \\quad [\\frac{\\textrm{erg}}{\\textrm{cm}^2 \\, \\textrm{s} \\, \\textrm{\\AA}}]$\", rotation=\"vertical\")\n",
      "fig.subplots_adjust(right=0.92, bottom=0.13, left=0.19, hspace=0)\n",
      "fig.savefig(\"../../plots/class0_residuals.png\")\n",
      "fig.savefig(\"../../plots/class0_residuals.svg\")\n",
      "fig.savefig(\"../../plots/class0_residuals.pdf\")\n",
      "plt.show()"
     ],
     "language": "python",
     "metadata": {},
     "outputs": [],
     "prompt_number": 5
    },
    {
     "cell_type": "markdown",
     "metadata": {},
     "source": [
      "$$\\hat{R}(k) = \\frac{1}{(n - k) \\sigma^2} \\sum_{t = 1}^{n - k} (X_t - \\mu) (X_{t+k} - \\mu) $$"
     ]
    },
    {
     "cell_type": "code",
     "collapsed": false,
     "input": [
      "def estimated_autocorrelation(x):\n",
      "    '''From http://stackoverflow.com/questions/14297012/estimate-autocorrelation-using-python'''\n",
      "    n = len(x)\n",
      "    variance = np.var(x)\n",
      "    x = x - np.mean(x)\n",
      "    r = np.correlate(x, x, mode = 'full')[-n:] #takes the positive half of the correlation\n",
      "    #assert N.allclose(r, N.array([(x[:n-k]*x[-(n-k):]).sum() for k in range(n)]))\n",
      "    result = r/(variance*(np.arange(n, 0, -1))) #divides by the number pixels used in the estimation\n",
      "    return result"
     ],
     "language": "python",
     "metadata": {},
     "outputs": [],
     "prompt_number": 6
    },
    {
     "cell_type": "code",
     "collapsed": false,
     "input": [
      "#Now estimate the autocorrelation of the residuals \n",
      "fig = plt.figure(figsize=(2.5,2.5))\n",
      "ax = fig.add_subplot(111)\n",
      "ax.axhline(0, ls=\":\", color=\"k\")\n",
      "ax.plot(estimated_autocorrelation(residuals), color=\"0.3\", drawstyle=\"steps-mid\")\n",
      "ax.set_xlabel(r\"pixel offset $k$\")\n",
      "ax.set_ylabel(\"autocorrelation\")\n",
      "ax.set_xlim(-1,35)\n",
      "ax.set_ylim(-0.2,1.05)\n",
      "\n",
      "fig.subplots_adjust(left=0.23, bottom=0.17, right=0.95)\n",
      "fig.savefig(\"../../plots/class0_autocorrelation.png\")\n",
      "fig.savefig(\"../../plots/class0_autocorrelation.pdf\")\n",
      "fig.savefig(\"../../plots/class0_autocorrelation.svg\")\n",
      "plt.show()"
     ],
     "language": "python",
     "metadata": {},
     "outputs": [],
     "prompt_number": 10
    },
    {
     "cell_type": "code",
     "collapsed": false,
     "input": [],
     "language": "python",
     "metadata": {},
     "outputs": []
    }
   ],
   "metadata": {}
  }
 ]
}