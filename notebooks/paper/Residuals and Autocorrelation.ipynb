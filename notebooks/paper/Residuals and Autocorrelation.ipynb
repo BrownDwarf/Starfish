{
 "metadata": {
  "name": "",
  "signature": "sha256:dc5cac09bd40b8c0752530448eee7b507fa0c41062c94475ffe142970e45e888"
 },
 "nbformat": 3,
 "nbformat_minor": 0,
 "worksheets": [
  {
   "cells": [
    {
     "cell_type": "markdown",
     "metadata": {},
     "source": [
      "Figure 3 of the paper. These three figures will be combined using Inkscape."
     ]
    },
    {
     "cell_type": "code",
     "collapsed": false,
     "input": [
      "#Import all of the relevant python modules\n",
      "import numpy as np\n",
      "import matplotlib\n",
      "import matplotlib.pyplot as plt\n",
      "from matplotlib.ticker import FormatStrFormatter as FSF\n",
      "from matplotlib.ticker import MaxNLocator\n",
      "from matplotlib.ticker import MultipleLocator"
     ],
     "language": "python",
     "metadata": {},
     "outputs": [],
     "prompt_number": 1
    },
    {
     "cell_type": "code",
     "collapsed": false,
     "input": [
      "from StellarSpectra.model import Model\n",
      "from StellarSpectra.spectrum import DataSpectrum\n",
      "from StellarSpectra.grid_tools import TRES, HDF5Interface\n",
      "from StellarSpectra.utils import saveall\n",
      "import scipy.sparse as sp\n",
      "import numpy as np\n",
      "\n",
      "myDataSpectrum = DataSpectrum.open(\"../../data/WASP14/WASP14-2009-06-14.hdf5\", orders=np.array([22]))\n",
      "myInstrument = TRES()\n",
      "myHDF5Interface = HDF5Interface(\"../../libraries/PHOENIX_TRES_F.hdf5\")"
     ],
     "language": "python",
     "metadata": {},
     "outputs": [],
     "prompt_number": 2
    },
    {
     "cell_type": "code",
     "collapsed": false,
     "input": [
      "#Load a model using the JSON file\n",
      "myModel = Model.from_json(\"../WASP14/model_final.json\", myDataSpectrum, myInstrument, myHDF5Interface)\n",
      "myOrderModel = myModel.OrderModels[0]\n",
      "spec = myModel.get_data()\n",
      "\n",
      "wl = spec.wls[0]\n",
      "fl = spec.fls[0]\n",
      "\n",
      "model_fl = myOrderModel.get_spectrum()\n",
      "\n",
      "residuals = fl - model_fl\n",
      "\n",
      "cheb = myOrderModel.get_Cheb()"
     ],
     "language": "python",
     "metadata": {},
     "outputs": [
      {
       "output_type": "stream",
       "stream": "stdout",
       "text": [
        "Determine Chunk Log: Wl is 8192\n",
        "Creating OrderModel 0\n"
       ]
      }
     ],
     "prompt_number": 3
    },
    {
     "cell_type": "markdown",
     "metadata": {},
     "source": [
      "## Large view residual plot"
     ]
    },
    {
     "cell_type": "code",
     "collapsed": false,
     "input": [
      "fig, ax = plt.subplots(nrows=2, figsize=(3.5,2.7), sharex=True)\n",
      "\n",
      "ax[0].plot(wl, fl*1e13, \"w\", lw=1.8)\n",
      "ax[0].plot(wl, model_fl*1e13, \"w\", lw=1.8)\n",
      "\n",
      "l0, = ax[0].plot(wl, fl*1e13, \"b\")\n",
      "l1, = ax[0].plot(wl, model_fl*1e13, \"r\")\n",
      "\n",
      "#ax[0].legend([l0, l1], [\"data\", \"model\"], loc=\"lower right\", ncol=2, prop={'size':10})\n",
      "ax[0].yaxis.set_major_locator(MaxNLocator(nbins=5, prune='lower'))\n",
      "ax[0].fill_betweenx(np.array([0.1, 2.7]), 5144, 5150, color=\"0.5\", alpha=0.5)\n",
      "ax[0].set_ylim(0.1, 2.7)\n",
      "\n",
      "ax[1].fill_betweenx(np.array([-0.9, 0.9]), 5144, 5150, color=\"0.5\", alpha=0.5)\n",
      "ax[1].plot(wl, residuals*1e13, \"w\", lw=1.8)\n",
      "l2, = ax[1].plot(wl, residuals*1e13, \"k\")\n",
      "ax[1].xaxis.set_major_formatter(FSF(\"%.0f\"))\n",
      "ax[1].set_xlabel(r\"$\\lambda$ [\\AA]\")\n",
      "ax[1].yaxis.set_major_locator(MaxNLocator(nbins=5))\n",
      "ax[1].set_xlim(5135, 5200)\n",
      "ax[1].set_ylim(-0.9, 0.9)\n",
      "#legend1 = ax[1].legend([l0, l1], [\"data\", \"model\", ], loc=\"upper right\", prop={'size':10}, ncol=2)\n",
      "#ax[1].legend([l2], [\"residuals\"], loc=\"lower center\", prop={'size':10})\n",
      "#ax[1].add_artist(legend1)\n",
      "\n",
      "ax[0].annotate(\"data\", (0.79, 0.82), xycoords=\"axes fraction\", ha=\"right\", color=\"b\", size=9)\n",
      "ax[0].annotate(\"model\", (0.97, 0.82), xycoords=\"axes fraction\", ha=\"right\", color=\"r\", size=9)\n",
      "\n",
      "ax[1].annotate(\"residuals\", (0.97, 0.82), xycoords=\"axes fraction\", ha=\"right\", color=\"k\", size=9)\n",
      "\n",
      "fig.subplots_adjust(hspace=0, left=0.17, right=0.83, bottom=0.17, top=0.93)\n",
      "fig.text(0.01, 0.83, r\"$f_\\lambda\\, \\times 10^{-13}\\, [\\textrm{erg}\\;\\textrm{cm}^{-2}\\;\\textrm{s}^{-1}\\;\\textrm{\\AA}^{-1}]$\", \n",
      "         rotation=\"vertical\")\n",
      "\n",
      "saveall(fig, \"../../plots/residuals_23\")\n",
      "plt.show()"
     ],
     "language": "python",
     "metadata": {},
     "outputs": [],
     "prompt_number": 22
    },
    {
     "cell_type": "markdown",
     "metadata": {},
     "source": [
      "# Autocorrelation of Class 0 region\n",
      "\n",
      "Create two separate figures, such that they can be shown side-by-side using \\includegraphics{}"
     ]
    },
    {
     "cell_type": "code",
     "collapsed": false,
     "input": [
      "fig, ax = plt.subplots(nrows=2, sharex=True, figsize=(3.5, 2.7))\n",
      "\n",
      "#Use the model and residuals from the previos plot.\n",
      "ind = (wl > 5144) & (wl < 5150)\n",
      "\n",
      "l0, = ax[0].plot(wl[ind], fl[ind]*1e13, \"b\", label=\"data\", drawstyle=\"steps-mid\")\n",
      "l1, = ax[0].plot(wl[ind], model_fl[ind]*1e13, \"r\", label=\"model\", drawstyle=\"steps-mid\")\n",
      "\n",
      "\n",
      "l2, = ax[1].plot(wl[ind], residuals[ind]*1e13, \"k\", label=\"residuals\", drawstyle=\"steps-mid\")\n",
      "\n",
      "for a in ax:\n",
      "    a.yaxis.set_major_locator(MaxNLocator(nbins=6, prune='upper'))\n",
      "\n",
      "#ax[0].legend([l0, l1], [\"data\", \"model\"], loc=\"lower left\", prop={'size':10})\n",
      "#ax[1].legend([l2], [\"residuals\"], loc=\"upper left\", prop={'size':10})\n",
      "ax[1].set_ylim(-0.2, 0.2)\n",
      "\n",
      "ax[1].set_xlabel(r\"$\\lambda$ [\\AA]\")\n",
      "ax[1].xaxis.set_major_formatter(FSF(\"%.0f\"))\n",
      "fig.text(0.01, 0.8, r\"$f_\\lambda\\, \\times 10^{-13}\\, [\\textrm{erg}\\;\\textrm{cm}^{-2}\\;\\textrm{s}^{-1}\\;\\textrm{\\AA}^{-1}]$\", rotation=\"vertical\")\n",
      "fig.subplots_adjust(bottom=0.16, top=0.93, hspace=0, left=0.17, right=0.83)\n",
      "saveall(fig, \"../../plots/class0_residuals\")\n",
      "plt.show()"
     ],
     "language": "python",
     "metadata": {},
     "outputs": [],
     "prompt_number": 21
    },
    {
     "cell_type": "markdown",
     "metadata": {},
     "source": [
      "$$\\hat{R}(k) = \\frac{1}{(n - k) \\sigma^2} \\sum_{t = 1}^{n - k} (X_t - \\mu) (X_{t+k} - \\mu) $$"
     ]
    },
    {
     "cell_type": "code",
     "collapsed": false,
     "input": [
      "def estimated_autocorrelation(x):\n",
      "    '''From http://stackoverflow.com/questions/14297012/estimate-autocorrelation-using-python'''\n",
      "    n = len(x)\n",
      "    variance = np.var(x)\n",
      "    x = x - np.mean(x)\n",
      "    r = np.correlate(x, x, mode = 'full')[-n:] #takes the positive half of the correlation\n",
      "    #assert N.allclose(r, N.array([(x[:n-k]*x[-(n-k):]).sum() for k in range(n)]))\n",
      "    result = r/(variance*(np.arange(n, 0, -1))) #divides by the number pixels used in the estimation\n",
      "    return result"
     ],
     "language": "python",
     "metadata": {},
     "outputs": [],
     "prompt_number": 23
    },
    {
     "cell_type": "code",
     "collapsed": false,
     "input": [
      "#Now estimate the autocorrelation of the residuals \n",
      "fig = plt.figure(figsize=(3.5,1.7))\n",
      "ax = fig.add_subplot(111)\n",
      "ax.axhline(0, ls=\":\", color=\"k\")\n",
      "ax.plot(estimated_autocorrelation(residuals), color=\"0.3\", drawstyle=\"steps-mid\")\n",
      "ax.set_xlabel(\"pixel offset\")\n",
      "ax.set_ylabel(\"autocorrelation\")\n",
      "ax.set_xlim(-0.3,35)\n",
      "ax.set_ylim(-0.2,1.1)\n",
      "\n",
      "fig.subplots_adjust(bottom=0.22, top=0.97, left=0.17, right=0.83)\n",
      "saveall(fig, \"../../plots/class0_autocorrelation\")\n",
      "plt.show()"
     ],
     "language": "python",
     "metadata": {},
     "outputs": [],
     "prompt_number": 24
    },
    {
     "cell_type": "code",
     "collapsed": false,
     "input": [],
     "language": "python",
     "metadata": {},
     "outputs": []
    }
   ],
   "metadata": {}
  }
 ]
}