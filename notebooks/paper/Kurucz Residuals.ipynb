{
 "metadata": {
  "name": "",
  "signature": "sha256:357cacd7c0a5decc43a90d19977614263fdbf3f0deca436eb62290f3ec736b2c"
 },
 "nbformat": 3,
 "nbformat_minor": 0,
 "worksheets": [
  {
   "cells": [
    {
     "cell_type": "code",
     "collapsed": false,
     "input": [
      "%matplotlib\n",
      "import matplotlib.pyplot as plt\n",
      "from matplotlib.ticker import FormatStrFormatter as FSF\n",
      "from matplotlib.ticker import MaxNLocator\n",
      "from matplotlib.ticker import MultipleLocator\n",
      "import numpy as np\n",
      "from IPython.html import widgets # Widget definitions\n",
      "from IPython.display import display, clear_output, HTML # Used to display widgets in the notebook\n",
      "from IPython.html.widgets import interact, interactive, fixed"
     ],
     "language": "python",
     "metadata": {},
     "outputs": [
      {
       "output_type": "stream",
       "stream": "stdout",
       "text": [
        "Using matplotlib backend: Qt4Agg\n"
       ]
      }
     ],
     "prompt_number": 1
    },
    {
     "cell_type": "code",
     "collapsed": false,
     "input": [
      "from StellarSpectra.model import Model\n",
      "from StellarSpectra.spectrum import DataSpectrum\n",
      "from StellarSpectra.grid_tools import TRES, SPEX, HDF5Interface\n",
      "from StellarSpectra.utils import saveall\n",
      "from StellarSpectra import utils\n",
      "import scipy.sparse as sp\n",
      "\n",
      "myDataSpectrum = DataSpectrum.open(\"../../data/WASP14/WASP14-2009-06-14.hdf5\", orders=np.array([21, 22, 23]))\n",
      "\n",
      "myInstrument = TRES()\n",
      "# myInstrument = SPEX()\n",
      "\n",
      "myHDF5Interface = HDF5Interface(\"../../libraries/Kurucz_TRES.hdf5\")\n",
      "\n",
      "#Load a model using the JSON file\n",
      "#Taken from:\n",
      "#/n/home07/iczekala/StellarSpectra/output/WASP14/Kurucz/21_22_23/logg/cov/2014-08-06/run18\n",
      "myModel = Model.from_json(\"WASP14_Kurucz_logg_model_final.json\", myDataSpectrum, myInstrument, myHDF5Interface)"
     ],
     "language": "python",
     "metadata": {},
     "outputs": [
      {
       "output_type": "stream",
       "stream": "stdout",
       "text": [
        "Determine Chunk Log: Wl is 8192\n",
        "Creating OrderModel 0\n",
        "Creating OrderModel 1\n",
        "Creating OrderModel 2\n"
       ]
      }
     ],
     "prompt_number": 2
    },
    {
     "cell_type": "code",
     "collapsed": false,
     "input": [
      "myOrderModel = myModel.OrderModels[1]\n",
      "model_flux = myOrderModel.get_spectrum()"
     ],
     "language": "python",
     "metadata": {},
     "outputs": [],
     "prompt_number": 3
    },
    {
     "cell_type": "code",
     "collapsed": false,
     "input": [
      "spec = myModel.get_data()\n",
      "wl = spec.wls[1]\n",
      "fl = spec.fls[1]\n",
      "\n",
      "model_fl = myOrderModel.get_spectrum()\n",
      "residuals = fl - model_fl\n",
      "\n",
      "mask = spec.masks[1]\n",
      "cov = myModel.OrderModels[1].get_Cov().todense()"
     ],
     "language": "python",
     "metadata": {},
     "outputs": [],
     "prompt_number": 4
    },
    {
     "cell_type": "code",
     "collapsed": false,
     "input": [
      "#draws = utils.random_draws(cov, num=4)\n",
      "draws = np.load(\"krucuz_residual_draws.npy\")"
     ],
     "language": "python",
     "metadata": {},
     "outputs": [],
     "prompt_number": 5
    },
    {
     "cell_type": "code",
     "collapsed": false,
     "input": [
      "utils.visualize_draws(draws, num=200)"
     ],
     "language": "python",
     "metadata": {},
     "outputs": [],
     "prompt_number": 6
    },
    {
     "cell_type": "code",
     "collapsed": false,
     "input": [
      "#Colorbrewer bands\n",
      "s3 = '#fee6ce'\n",
      "s2 = '#fdae6b'\n",
      "s1 = '#e6550d'"
     ],
     "language": "python",
     "metadata": {},
     "outputs": [],
     "prompt_number": 6
    },
    {
     "cell_type": "code",
     "collapsed": false,
     "input": [
      "fig, ax = plt.subplots(nrows=2, figsize=(6.5,3), sharex=True)\n",
      "l0, = ax[0].plot(wl, fl, \"b\")\n",
      "l1, = ax[0].plot(wl, model_flux, \"r\")\n",
      "\n",
      "ax[0].legend([l0, l1], [\"data\", \"model\"], loc=\"lower right\", ncol=2, prop={'size':10})\n",
      "\n",
      "#plot 2 draws, then \n",
      "sep = np.std(draws[0])\n",
      "\n",
      "\n",
      "#Jump again and now plot the envelope of the draws\n",
      "min_spec, max_spec = utils.std_envelope(draws)\n",
      "ax[1].fill_between(wl, 3*min_spec, 3*max_spec, zorder=0, color=s3)\n",
      "ax[1].fill_between(wl, 2*min_spec, 2*max_spec, zorder=0, color=s2)\n",
      "ax[1].fill_between(wl, min_spec, max_spec, zorder=0, color=s1)\n",
      "\n",
      "ax[1].plot(wl, residuals, \"w\", lw=1.8, zorder=1, ls=\"steps-mid\")\n",
      "l2, = ax[1].plot(wl, residuals, \"k\", zorder=1, ls=\"steps-mid\")\n",
      "\n",
      "ax[1].set_xlabel(r\"$\\lambda$ [\\AA]\")\n",
      "\n",
      "ax[1].xaxis.set_major_formatter(FSF(\"%.0f\"))\n",
      "ax[1].set_xlim(np.min(wl), np.max(wl))\n",
      "scale = 1.8 * np.max(np.abs(residuals))\n",
      "ax[1].set_ylim(-scale, scale)\n",
      "\n",
      "ax[1].legend([l2], [\"residuals\"], loc=\"upper right\", ncol=2, prop={'size':10})\n",
      "\n",
      "for a in ax:\n",
      "    a.yaxis.set_major_locator(MaxNLocator(nbins=7, prune='both'))\n",
      "\n",
      "fig.text(0.03, 0.75, r\"$f_\\lambda \\quad [\\textrm{erg}\\;\\textrm{cm}^{-2}\\;\\textrm{s}^{-1}\\;\\textrm{\\AA}^{-1}]$\", rotation=\"vertical\")\n",
      "fig.subplots_adjust(hspace=0, left=0.12, right=0.95, bottom=0.17, top=0.93)\n",
      "\n",
      "saveall(fig, \"../../plots/residuals_Kurucz_logg\")\n",
      "\n",
      "ax[1].set_ylim(-9e-14, 9e-14)\n",
      "saveall(fig, \"../../plots/residuals_Kurucz_logg_scale\")\n",
      "\n",
      "plt.show()"
     ],
     "language": "python",
     "metadata": {},
     "outputs": [],
     "prompt_number": 7
    },
    {
     "cell_type": "code",
     "collapsed": false,
     "input": [],
     "language": "python",
     "metadata": {},
     "outputs": []
    }
   ],
   "metadata": {}
  }
 ]
}