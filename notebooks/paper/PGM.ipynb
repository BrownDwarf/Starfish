{
 "cells": [
  {
   "cell_type": "code",
   "execution_count": 1,
   "metadata": {
    "collapsed": false
   },
   "outputs": [],
   "source": [
    "from matplotlib import rc\n",
    "rc(\"font\", family=\"serif\", size=10)\n",
    "rc(\"text\", usetex=True)\n",
    "\n",
    "import matplotlib.pyplot as plt\n",
    "import daft"
   ]
  },
  {
   "cell_type": "code",
   "execution_count": 2,
   "metadata": {
    "collapsed": false
   },
   "outputs": [],
   "source": [
    "# Instantiate the PGM.\n",
    "pgm = daft.PGM([4.0, 2.3], origin=[0.3, 0.3])\n",
    "\n",
    "# Parameters.\n",
    "pgm.add_node(daft.Node(\"star\", r\"$\\mathbf{\\theta}_\\star$\", 0.9, 2))\n",
    "pgm.add_node(daft.Node(\"w\", r\"$\\mathbf{w}$\", 1.8, 2, plot_params={\"fill\":True, \"fc\":\"w\"}))\n",
    "\n",
    "pgm.add_node(daft.Node(\"model\", r\"$\\mathbf{\\mathsf{M}}$\", 2.7, 2, plot_params={\"fill\":True, \"fc\":\"w\"}))\n",
    "\n",
    "pgm.add_node(daft.Node(\"eig\", r\"$\\mathbf{\\Xi}$\", 2.0, 1, fixed=True))\n",
    "pgm.add_node(daft.Node(\"obs\", r\"$\\mathbf{\\theta}_\\textrm{obs}$\", 2.55, 1))\n",
    "pgm.add_node(daft.Node(\"phi\", r\"$\\phi_{\\mathsf{P}}$\", 3.1, 1))\n",
    "\n",
    "pgm.add_node(daft.Node(\"data\", r\"$\\mathbf{\\mathsf{D}}$\", 3.7, 2, observed=True))\n",
    "pgm.add_node(daft.Node(\"nuis\", r\"$\\phi_\\mathsf{C}$\", 3.7, 1))\n",
    "\n",
    "\n",
    "\n",
    "# Add in the edges.\n",
    "pgm.add_edge(\"star\", \"w\")\n",
    "pgm.add_edge(\"w\", \"model\")\n",
    "pgm.add_edge(\"model\", \"data\")\n",
    "\n",
    "\n",
    "\n",
    "pgm.add_edge(\"eig\", \"model\")\n",
    "pgm.add_edge(\"obs\", \"model\")\n",
    "pgm.add_edge(\"phi\", \"model\")\n",
    "pgm.add_edge(\"nuis\", \"data\")\n",
    "\n",
    "pgm.render()\n",
    "pgm.figure.savefig(\"../../plots/PGM.svg\")\n",
    "pgm.figure.savefig(\"../../plots/PGM.pdf\")\n",
    "pgm.figure.savefig(\"../../plots/PGM.png\")\n",
    "plt.close()\n",
    "\n"
   ]
  },
  {
   "cell_type": "code",
   "execution_count": null,
   "metadata": {
    "collapsed": false
   },
   "outputs": [],
   "source": []
  }
 ],
 "metadata": {
  "kernelspec": {
   "display_name": "Python 2",
   "language": "python",
   "name": "python2"
  },
  "language_info": {
   "codemirror_mode": {
    "name": "ipython",
    "version": 2
   },
   "file_extension": ".py",
   "mimetype": "text/x-python",
   "name": "python",
   "nbconvert_exporter": "python",
   "pygments_lexer": "ipython2",
   "version": "2.7.9"
  }
 },
 "nbformat": 4,
 "nbformat_minor": 0
}
