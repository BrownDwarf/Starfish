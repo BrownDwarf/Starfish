{
 "metadata": {
  "name": "",
  "signature": "sha256:b828f96fdb7a003d469e66fdb0ed6ecd7729fd9f79ce28086f555c9c5116f589"
 },
 "nbformat": 3,
 "nbformat_minor": 0,
 "worksheets": [
  {
   "cells": [
    {
     "cell_type": "markdown",
     "metadata": {},
     "source": [
      "Plot the WASP14 spectrum with Regions overlaid"
     ]
    },
    {
     "cell_type": "code",
     "collapsed": false,
     "input": [
      "%matplotlib\n",
      "import matplotlib.pyplot as plt\n",
      "from matplotlib.ticker import FormatStrFormatter as FSF\n",
      "from matplotlib.ticker import MaxNLocator\n",
      "from matplotlib.ticker import MultipleLocator\n",
      "import numpy as np\n",
      "from IPython.html import widgets # Widget definitions\n",
      "from IPython.display import display, clear_output, HTML # Used to display widgets in the notebook\n",
      "from IPython.html.widgets import interact, interactive, fixed"
     ],
     "language": "python",
     "metadata": {},
     "outputs": [
      {
       "output_type": "stream",
       "stream": "stdout",
       "text": [
        "Using matplotlib backend: Qt4Agg\n"
       ]
      }
     ],
     "prompt_number": 31
    },
    {
     "cell_type": "code",
     "collapsed": false,
     "input": [
      "from StellarSpectra.model import Model\n",
      "from StellarSpectra.spectrum import DataSpectrum\n",
      "from StellarSpectra.grid_tools import TRES, SPEX, HDF5Interface\n",
      "import scipy.sparse as sp\n",
      "\n",
      "myDataSpectrum = DataSpectrum.open(\"../../data/WASP14/WASP14-2009-06-14.hdf5\", orders=np.array([22]))\n",
      "\n",
      "myInstrument = TRES()\n",
      "# myInstrument = SPEX()\n",
      "\n",
      "myHDF5Interface = HDF5Interface(\"../../libraries/PHOENIX_TRES_F.hdf5\")\n",
      "\n",
      "#Load a model using the JSON file\n",
      "myModel = Model.from_json(\"../WASP14_22_model_final_region.json\", myDataSpectrum, myInstrument, myHDF5Interface)"
     ],
     "language": "python",
     "metadata": {},
     "outputs": [
      {
       "output_type": "stream",
       "stream": "stdout",
       "text": [
        "Determine Chunk Log: Wl is 8192\n",
        "Creating OrderModel 0\n",
        "creating region "
       ]
      },
      {
       "output_type": "stream",
       "stream": "stderr",
       "text": [
        "INFO:RegionCovarianceMatrix 5188.770929306509:Created region\n"
       ]
      },
      {
       "output_type": "stream",
       "stream": "stderr",
       "text": [
        "INFO:CovarianceMatrix:Added region 0 to self.RegionList\n"
       ]
      },
      {
       "output_type": "stream",
       "stream": "stderr",
       "text": [
        "INFO:RegionCovarianceMatrix 5151.8534158849325:Created region\n"
       ]
      },
      {
       "output_type": "stream",
       "stream": "stderr",
       "text": [
        "INFO:CovarianceMatrix:Added region 1 to self.RegionList\n"
       ]
      },
      {
       "output_type": "stream",
       "stream": "stderr",
       "text": [
        "INFO:RegionCovarianceMatrix 5142.815880890552:Created region\n"
       ]
      },
      {
       "output_type": "stream",
       "stream": "stderr",
       "text": [
        "INFO:CovarianceMatrix:Added region 2 to self.RegionList\n"
       ]
      },
      {
       "output_type": "stream",
       "stream": "stderr",
       "text": [
        "INFO:RegionCovarianceMatrix 5201.686815355184:Created region\n"
       ]
      },
      {
       "output_type": "stream",
       "stream": "stderr",
       "text": [
        "INFO:CovarianceMatrix:Added region 3 to self.RegionList\n"
       ]
      },
      {
       "output_type": "stream",
       "stream": "stdout",
       "text": [
        " 0 0 {'mu': 5188.770929306509, 'sigma': 5.161308092494482, 'loga': -12.076165336887787}\n",
        "creating region  1 1 {'mu': 5151.8534158849325, 'sigma': 4.809287151430395, 'loga': -12.78120822355448}\n",
        "creating region  2 2 {'mu': 5142.815880890552, 'sigma': 7.433720494996769, 'loga': -12.526338163621313}\n",
        "creating region  3 3 {'mu': 5201.686815355184, 'sigma': 9.560940730866921, 'loga': -57.064715539113124}\n",
        "creating region "
       ]
      },
      {
       "output_type": "stream",
       "stream": "stderr",
       "text": [
        "INFO:RegionCovarianceMatrix 5150.756876675764:Created region\n"
       ]
      },
      {
       "output_type": "stream",
       "stream": "stderr",
       "text": [
        "INFO:CovarianceMatrix:Added region 4 to self.RegionList\n"
       ]
      },
      {
       "output_type": "stream",
       "stream": "stderr",
       "text": [
        "INFO:RegionCovarianceMatrix 5169.085875719616:Created region\n"
       ]
      },
      {
       "output_type": "stream",
       "stream": "stderr",
       "text": [
        "INFO:CovarianceMatrix:Added region 5 to self.RegionList\n"
       ]
      },
      {
       "output_type": "stream",
       "stream": "stderr",
       "text": [
        "INFO:RegionCovarianceMatrix 5198.620012768345:Created region\n"
       ]
      },
      {
       "output_type": "stream",
       "stream": "stderr",
       "text": [
        "INFO:CovarianceMatrix:Added region 6 to self.RegionList\n"
       ]
      },
      {
       "output_type": "stream",
       "stream": "stderr",
       "text": [
        "INFO:RegionCovarianceMatrix 5178.849915297965:Created region\n"
       ]
      },
      {
       "output_type": "stream",
       "stream": "stderr",
       "text": [
        "INFO:CovarianceMatrix:Added region 7 to self.RegionList\n"
       ]
      },
      {
       "output_type": "stream",
       "stream": "stdout",
       "text": [
        " 4 4 {'mu': 5150.756876675764, 'sigma': 7.17815124402818, 'loga': -12.305001160847057}\n",
        "creating region  5 5 {'mu': 5169.085875719616, 'sigma': 6.878226981503173, 'loga': -12.438745669164504}\n",
        "creating region  6 6 {'mu': 5198.620012768345, 'sigma': 6.1537481296828425, 'loga': -12.927756678556008}\n",
        "creating region  7 7 {'mu': 5178.849915297965, 'sigma': 1.5886138084364085, 'loga': -52.89854288142054}\n"
       ]
      }
     ],
     "prompt_number": 7
    },
    {
     "cell_type": "code",
     "collapsed": false,
     "input": [
      "myOrderModel = myModel.OrderModels[0]\n",
      "model_flux = myOrderModel.get_spectrum()"
     ],
     "language": "python",
     "metadata": {},
     "outputs": [],
     "prompt_number": 3
    },
    {
     "cell_type": "code",
     "collapsed": false,
     "input": [
      "spec = myModel.get_data()\n",
      "wl = spec.wls[0]\n",
      "fl = spec.fls[0]\n",
      "\n",
      "model_fl = myOrderModel.get_spectrum()\n",
      "residuals = fl - model_fl\n",
      "\n",
      "mask = spec.masks[0]\n",
      "cov = myModel.OrderModels[0].get_Cov().todense()"
     ],
     "language": "python",
     "metadata": {},
     "outputs": [],
     "prompt_number": 8
    },
    {
     "cell_type": "code",
     "collapsed": false,
     "input": [
      "#also, we should visualize what typical draws look like from the Matern kernel\n",
      "#For example, what does a random draw from Matern look like, what does 3 times that in amplitude look like..."
     ],
     "language": "python",
     "metadata": {},
     "outputs": []
    },
    {
     "cell_type": "code",
     "collapsed": false,
     "input": [
      "N = len(wl)\n",
      "fake_cov = np.random.multivariate_normal(np.zeros((N,)), cov)"
     ],
     "language": "python",
     "metadata": {},
     "outputs": [],
     "prompt_number": 6
    },
    {
     "cell_type": "code",
     "collapsed": false,
     "input": [
      "for cov in cov_list:\n",
      "    plt.plot(wl, cov, \"k\", lw=0.2)\n",
      "plt.plot(wl, model_flux - fl, \"b\")\n",
      "plt.show()"
     ],
     "language": "python",
     "metadata": {},
     "outputs": []
    },
    {
     "cell_type": "code",
     "collapsed": false,
     "input": [
      "import StellarSpectra.constants as C\n",
      "def gaussian(ax, region):\n",
      "    '''\n",
      "    Paint a Gaussian envelope on the axes.\n",
      "    '''\n",
      "    if type(region) == dict:\n",
      "        a = 10**region_dict['loga']\n",
      "        mu = region_dict['mu']\n",
      "        sigma = region_dict['sigma'] \n",
      "    elif type(region) == list:\n",
      "        a, mu, sigma = region\n",
      "        a = 10**a\n",
      "\n",
      "    sig = sigma/C.c_kms * mu #convert to angstroms for the spacing\n",
      "    wl = np.linspace(mu - 4 * sig, mu + 4 * sig)\n",
      "    ys = a * np.exp(-0.5 * (C.c_kms/mu)**2 * (wl - mu)**2/sigma**2)\n",
      "    \n",
      "    ax.fill_between(wl, -ys, ys, alpha=0.8, color=\"magenta\", zorder=100)"
     ],
     "language": "python",
     "metadata": {},
     "outputs": [],
     "prompt_number": 26
    },
    {
     "cell_type": "code",
     "collapsed": true,
     "input": [
      "#List of where the regions are. From 8/13/14 4sig run\n",
      "region_list = [[ -1.37557276e+01,   5.17068109e+03,   5.07069537e+00],\n",
      "    [  -13.7420562,   5198.61903481,     5.48643032],\n",
      "    [ -1.34095891e+01,   5.23530766e+03,   4.82242126e+00],\n",
      "    [  -13.64347323,  5150.74527037,     6.67246923],\n",
      "    [  -13.70379713,  5169.07086766,     6.47508788],\n",
      "    [  -13.76186598,  5202.25227836,     7.45325824],\n",
      "    [  -13.70503714,  5187.83335919,     5.30911125],\n",
      "    [  -13.38718559,  5142.85381703,     7.06802524],\n",
      "    [  -13.58059031,  5151.82322042,     6.15930413],\n",
      "    [  -13.37354867,  5188.75488375,     5.79597804],\n",
      "    [  -13.74135283,  5234.57274185,     5.49249104]]\n",
      "\n",
      "global_cov = 10**(-14.34)"
     ],
     "language": "python",
     "metadata": {},
     "outputs": [],
     "prompt_number": 15
    },
    {
     "cell_type": "code",
     "collapsed": false,
     "input": [
      "fig, ax = plt.subplots(nrows=2, figsize=(6.5,3), sharex=True)\n",
      "l0, = ax[0].plot(wl, fl, \"b\")\n",
      "l1, = ax[0].plot(wl, model_flux, \"r\")\n",
      "\n",
      "l2, = ax[1].plot(wl, residuals, color=\"0.5\")\n",
      "\n",
      "ax[0].legend([l0, l1], [\"data\", \"model\"], loc=\"lower right\", ncol=2, prop={'size':10})\n",
      "\n",
      "ax[1].set_xlabel(r\"$\\lambda$ [\\AA]\")\n",
      "\n",
      "thresh = 3 * global_cov\n",
      "ax[1].axhline(thresh, color=\"0.5\", ls=\"-.\")\n",
      "ax[1].axhline(-thresh, color=\"0.5\", ls=\"-.\")\n",
      "\n",
      "for region in region_list:\n",
      "    gaussian(ax[1], region)\n",
      "\n",
      "ax[1].xaxis.set_major_formatter(FSF(\"%.0f\"))\n",
      "ax[1].set_xlim(np.min(wl), np.max(wl))\n",
      "scale = 1.1 * np.max(np.abs(residuals))\n",
      "ax[1].set_ylim(-scale, scale)\n",
      "\n",
      "l3, = ax[1].plot(wl, residuals + 2, color=\"magenta\") #Fake plot to just get the color handle for the legend\n",
      "\n",
      "ax[1].legend([l2, l3], [\"residuals\", r\"$\\mathcal{K}_l$\"], loc=\"upper right\", ncol=2, prop={'size':10})\n",
      "\n",
      "fig.text(0.03, 0.7, r\"$f_\\lambda \\quad [\\textrm{erg}\\;\\textrm{cm}^{-2}\\;\\textrm{s}^{-1}\\;\\textrm{\\AA}^{-1}]$\", rotation=\"vertical\")\n",
      "fig.subplots_adjust(hspace=0, left=0.12, right=0.95, bottom=0.17, top=0.93)\n",
      "\n",
      "fig.savefig(\"../../plots/regions_23.png\")\n",
      "fig.savefig(\"../../plots/regions_23.pdf\")\n",
      "fig.savefig(\"../../plots/regions_23.svg\")\n",
      "\n",
      "plt.show()\n"
     ],
     "language": "python",
     "metadata": {},
     "outputs": [],
     "prompt_number": 42
    },
    {
     "cell_type": "code",
     "collapsed": false,
     "input": [],
     "language": "python",
     "metadata": {},
     "outputs": []
    }
   ],
   "metadata": {}
  }
 ]
}