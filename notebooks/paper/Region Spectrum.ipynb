{
 "metadata": {
  "name": "",
  "signature": "sha256:2cbc9ffc1545e272cbb9cb08745cbfc3c8ddb39b05e362b2991219973b3d7376"
 },
 "nbformat": 3,
 "nbformat_minor": 0,
 "worksheets": [
  {
   "cells": [
    {
     "cell_type": "markdown",
     "metadata": {},
     "source": [
      "Plot the WASP14 spectrum with Regions overlaid"
     ]
    },
    {
     "cell_type": "code",
     "collapsed": false,
     "input": [
      "%matplotlib\n",
      "import matplotlib.pyplot as plt\n",
      "import numpy as np\n",
      "from IPython.html import widgets # Widget definitions\n",
      "from IPython.display import display, clear_output, HTML # Used to display widgets in the notebook\n",
      "from IPython.html.widgets import interact, interactive, fixed"
     ],
     "language": "python",
     "metadata": {},
     "outputs": [
      {
       "output_type": "stream",
       "stream": "stdout",
       "text": [
        "Using matplotlib backend: Qt4Agg\n"
       ]
      }
     ],
     "prompt_number": 1
    },
    {
     "cell_type": "code",
     "collapsed": false,
     "input": [
      "from StellarSpectra.model import Model\n",
      "from StellarSpectra.spectrum import DataSpectrum\n",
      "from StellarSpectra.grid_tools import TRES, SPEX, HDF5Interface\n",
      "import scipy.sparse as sp\n",
      "import numpy as np\n",
      "\n",
      "myDataSpectrum = DataSpectrum.open(\"../../data/WASP14/WASP14-2009-06-14.hdf5\", orders=np.array([22]))\n",
      "#mask = np.load(\"WASP14_24.mask.npy\")\n",
      "#myDataSpectrum.add_mask(np.atleast_2d(mask))\n",
      "#myDataSpectrum = DataSpectrum.open(\"../data/LkCa15/LkCa15-2013-10-12.hdf5\", orders=np.array([32]))\n",
      "# myDataSpectrum = DataSpectrum.open(\"../data/Gl51/Gl51.hdf5\")\n",
      "\n",
      "myInstrument = TRES()\n",
      "# myInstrument = SPEX()\n",
      "\n",
      "myHDF5Interface = HDF5Interface(\"../../libraries/PHOENIX_TRES_F.hdf5\")\n",
      "# myHDF5Interface = HDF5Interface(\"../libraries/Kurucz_TRES.hdf5\")\n",
      "#myHDF5Interface = HDF5Interface(\"../libraries/Kurucz_master.hdf5\")\n",
      "\n",
      "#Load a model using the JSON file\n",
      "myModel = Model.from_json(\"../WASP14_22_model_final_region.json\", myDataSpectrum, myInstrument, myHDF5Interface)\n",
      "myModel.evaluate()"
     ],
     "language": "python",
     "metadata": {},
     "outputs": [
      {
       "output_type": "stream",
       "stream": "stdout",
       "text": [
        "Determine Chunk Log: Wl is 8192\n",
        "Creating OrderModel 0\n",
        "creating region "
       ]
      },
      {
       "output_type": "stream",
       "stream": "stdout",
       "text": [
        " 0 0 {'sigma': 5.161308092494482, 'loga': -12.076165336887787, 'mu': 5188.770929306509}\n",
        "('Created Region and logPrior is ', 0.0)\n",
        "Added region to self.RegionList\n",
        "creating region  1 1 {'sigma': 4.809287151430395, 'loga': -12.78120822355448, 'mu': 5151.8534158849325}\n",
        "('Created Region and logPrior is ', 0.0)\n",
        "Added region to self.RegionList\n",
        "creating region "
       ]
      },
      {
       "output_type": "stream",
       "stream": "stdout",
       "text": [
        " 2 2 {'sigma': 7.433720494996769, 'loga': -12.526338163621313, 'mu': 5142.815880890552}\n",
        "('Created Region and logPrior is ', 0.0)\n",
        "Added region to self.RegionList\n",
        "creating region  3 3 {'sigma': 9.560940730866921, 'loga': -57.064715539113124, 'mu': 5201.686815355184}\n",
        "('Created Region and logPrior is ', 0.0)\n",
        "Added region to self.RegionList\n",
        "creating region "
       ]
      },
      {
       "output_type": "stream",
       "stream": "stdout",
       "text": [
        " 4 4 {'sigma': 7.17815124402818, 'loga': -12.305001160847057, 'mu': 5150.756876675764}\n",
        "('Created Region and logPrior is ', 0.0)\n",
        "Added region to self.RegionList\n",
        "creating region  5 5 {'sigma': 6.878226981503173, 'loga': -12.438745669164504, 'mu': 5169.085875719616}\n",
        "('Created Region and logPrior is ', 0.0)\n",
        "Added region to self.RegionList\n",
        "creating region "
       ]
      },
      {
       "output_type": "stream",
       "stream": "stdout",
       "text": [
        " 6 6 {'sigma': 6.1537481296828425, 'loga': -12.927756678556008, 'mu': 5198.620012768345}\n",
        "('Created Region and logPrior is ', 0.0)\n",
        "Added region to self.RegionList\n",
        "creating region  7 7 {'sigma': 1.5886138084364085, 'loga': -52.89854288142054, 'mu': 5178.849915297965}\n",
        "('Created Region and logPrior is ', 0.0)\n",
        "Added region to self.RegionList\n"
       ]
      },
      {
       "metadata": {},
       "output_type": "pyout",
       "prompt_number": 2,
       "text": [
        "75012.470933388438"
       ]
      }
     ],
     "prompt_number": 2
    },
    {
     "cell_type": "code",
     "collapsed": false,
     "input": [
      "myOrderModel = myModel.OrderModels[0]\n",
      "model_flux = myOrderModel.get_spectrum()"
     ],
     "language": "python",
     "metadata": {},
     "outputs": [],
     "prompt_number": 3
    },
    {
     "cell_type": "code",
     "collapsed": false,
     "input": [
      "spec = myModel.get_data()\n",
      "wl = spec.wls[0]\n",
      "fl = spec.fls[0]\n",
      "mask = spec.masks[0]\n",
      "cov = myModel.OrderModels[0].get_Cov().todense()"
     ],
     "language": "python",
     "metadata": {},
     "outputs": [],
     "prompt_number": 4
    },
    {
     "cell_type": "code",
     "collapsed": false,
     "input": [
      "#also, we should visualize what typical draws look like from the Matern kernel\n",
      "#For example, what does a random draw from Matern look like, what does 3 times that in amplitude look like..."
     ],
     "language": "python",
     "metadata": {},
     "outputs": []
    },
    {
     "cell_type": "code",
     "collapsed": false,
     "input": [
      "N = len(wl)\n",
      "fake_cov = np.random.multivariate_normal(np.zeros((N,)), cov)"
     ],
     "language": "python",
     "metadata": {},
     "outputs": [],
     "prompt_number": 6
    },
    {
     "cell_type": "code",
     "collapsed": false,
     "input": [
      "for cov in cov_list:\n",
      "    plt.plot(wl, cov, \"k\", lw=0.2)\n",
      "plt.plot(wl, model_flux - fl, \"b\")\n",
      "plt.show()"
     ],
     "language": "python",
     "metadata": {},
     "outputs": []
    },
    {
     "cell_type": "code",
     "collapsed": false,
     "input": [
      "fig, ax = plt.subplots(nrows=2, figsize=(11,8), sharex=True)\n",
      "ax[0].plot(wl, fl, \"b\")\n",
      "l_model, = ax[0].plot(wl, model_flux, \"r\")\n",
      "ax[0].set_ylabel(\"Data and Model\")\n",
      "\n",
      "ax[1].plot(wl, fake_cov, \"k\", lw=0.2)\n",
      "l_resid, = ax[1].plot(wl, fl - model_flux, \"b\")\n",
      "\n",
      "ax[1].set_xlabel(r\"$\\lambda$\\AA\")\n",
      "ax[1].set_ylabel(\"Residuals\")\n",
      "\n",
      "\n",
      "for region in region_list:\n",
      "    gaussian(ax[1], region)\n",
      "\n",
      "#Mask all the residuals\n",
      "thresh = 3 * 10**(-14.31)\n",
      "ax[1].axhline(thresh)\n",
      "ax[1].axhline(-thresh)\n",
      "\n",
      "\n",
      "#fig2 = plt.figure()\n",
      "#ax2 = fig2.add_subplot(111)\n",
      "#im = ax2.imshow(cov, origin='upper', interpolation='none')\n",
      "\n",
      "#plt.show()"
     ],
     "language": "python",
     "metadata": {},
     "outputs": [
      {
       "output_type": "stream",
       "stream": "stderr",
       "text": [
        "ERROR:astropy:NameError: name 'region_list' is not defined\n"
       ]
      },
      {
       "output_type": "stream",
       "stream": "stdout",
       "text": [
        "ERROR: NameError: name 'region_list' is not defined [IPython.core.interactiveshell]\n"
       ]
      },
      {
       "ename": "NameError",
       "evalue": "name 'region_list' is not defined",
       "output_type": "pyerr",
       "traceback": [
        "\u001b[1;31m---------------------------------------------------------------------------\u001b[0m\n\u001b[1;31mNameError\u001b[0m                                 Traceback (most recent call last)",
        "\u001b[1;32m<ipython-input-7-f447360628a0>\u001b[0m in \u001b[0;36m<module>\u001b[1;34m()\u001b[0m\n\u001b[0;32m     11\u001b[0m \u001b[1;33m\u001b[0m\u001b[0m\n\u001b[0;32m     12\u001b[0m \u001b[1;33m\u001b[0m\u001b[0m\n\u001b[1;32m---> 13\u001b[1;33m \u001b[1;32mfor\u001b[0m \u001b[0mregion\u001b[0m \u001b[1;32min\u001b[0m \u001b[0mregion_list\u001b[0m\u001b[1;33m:\u001b[0m\u001b[1;33m\u001b[0m\u001b[0m\n\u001b[0m\u001b[0;32m     14\u001b[0m     \u001b[0mgaussian\u001b[0m\u001b[1;33m(\u001b[0m\u001b[0max\u001b[0m\u001b[1;33m[\u001b[0m\u001b[1;36m1\u001b[0m\u001b[1;33m]\u001b[0m\u001b[1;33m,\u001b[0m \u001b[0mregion\u001b[0m\u001b[1;33m)\u001b[0m\u001b[1;33m\u001b[0m\u001b[0m\n\u001b[0;32m     15\u001b[0m \u001b[1;33m\u001b[0m\u001b[0m\n",
        "\u001b[1;31mNameError\u001b[0m: name 'region_list' is not defined"
       ]
      }
     ],
     "prompt_number": 7
    },
    {
     "cell_type": "code",
     "collapsed": false,
     "input": [
      "import StellarSpectra.constants as C\n",
      "def gaussian(ax, region_dict):\n",
      "    '''\n",
      "    Paint a Gaussian envelope on the axes.\n",
      "    '''\n",
      "    a = 10**region_dict['loga']\n",
      "    mu = region_dict['mu']\n",
      "    sigma = region_dict['sigma'] \n",
      "    \n",
      "    sig = sigma/C.c_kms * mu #convert to angstroms for the spacing\n",
      "    wl = np.linspace(mu - 4 * sig, mu + 4 * sig)\n",
      "    ys = a/(np.sqrt(2 * np.pi) * sigma) * np.exp(-0.5 * (C.c_kms/mu)**2 * (wl - mu)**2/sigma**2)\n",
      "    \n",
      "    ax.fill_between(wl, -ys, ys, alpha=0.5, color=\"red\")"
     ],
     "language": "python",
     "metadata": {},
     "outputs": [],
     "prompt_number": 25
    },
    {
     "cell_type": "code",
     "collapsed": false,
     "input": [
      "3 * 10**(-14.27)"
     ],
     "language": "python",
     "metadata": {},
     "outputs": [
      {
       "metadata": {},
       "output_type": "pyout",
       "prompt_number": 30,
       "text": [
        "1.6110953891107596e-14"
       ]
      }
     ],
     "prompt_number": 30
    },
    {
     "cell_type": "code",
     "collapsed": false,
     "input": [
      "#List of where the regions are\n",
      "region_list = [{\"loga\":-12.43138897, \"mu\":5150.75036863, \"sigma\":6.68948328}, \n",
      " {\"loga\":-12.50590102, \"mu\":5169.07403568, \"sigma\":6.53540384},\n",
      " {\"loga\":-12.15537625, \"mu\":5142.84711735, \"sigma\":7.09632993},\n",
      " {\"loga\":-12.39904128, \"mu\":5151.82333855, \"sigma\":6.2158408},\n",
      " {\"loga\":-12.21506766, \"mu\":5188.75495288, \"sigma\":5.78075681},]"
     ],
     "language": "python",
     "metadata": {},
     "outputs": [],
     "prompt_number": 24
    },
    {
     "cell_type": "code",
     "collapsed": false,
     "input": [],
     "language": "python",
     "metadata": {},
     "outputs": [
      {
       "output_type": "stream",
       "stream": "stdout",
       "text": [
        "[ 5188.34277031  5188.35735111  5188.37193191  5188.38651272  5188.40109352\n",
        "  5188.41567433  5188.43025513  5188.44483593  5188.45941674  5188.47399754\n",
        "  5188.48857834  5188.50315915  5188.51773995  5188.53232076  5188.54690156\n",
        "  5188.56148236  5188.57606317  5188.59064397  5188.60522478  5188.61980558\n",
        "  5188.63438638  5188.64896719  5188.66354799  5188.67812879  5188.6927096\n",
        "  5188.7072904   5188.72187121  5188.73645201  5188.75103281  5188.76561362\n",
        "  5188.78019442  5188.79477522  5188.80935603  5188.82393683  5188.83851764\n",
        "  5188.85309844  5188.86767924  5188.88226005  5188.89684085  5188.91142166\n",
        "  5188.92600246  5188.94058326  5188.95516407  5188.96974487  5188.98432567\n",
        "  5188.99890648  5189.01348728  5189.02806809  5189.04264889  5189.05722969]\n",
        "[  2.20751930e-17   4.18540235e-17   7.72669120e-17   1.38890818e-16\n",
        "   2.43095630e-16   4.14289957e-16   6.87472448e-16   1.11078454e-15\n",
        "   1.74754349e-15   2.67700878e-15   3.99296254e-15   5.79914961e-15\n",
        "   8.20081525e-15   1.12920653e-14   1.51395641e-14   1.97640979e-14\n",
        "   2.51225814e-14   3.10938975e-14   3.74722441e-14   4.39711555e-14\n",
        "   5.02400071e-14   5.58927068e-14   6.05458291e-14   6.38611825e-14\n",
        "   6.55863283e-14   6.55863283e-14   6.38611825e-14   6.05458291e-14\n",
        "   5.58927068e-14   5.02400071e-14   4.39711555e-14   3.74722441e-14\n",
        "   3.10938975e-14   2.51225814e-14   1.97640979e-14   1.51395641e-14\n",
        "   1.12920653e-14   8.20081525e-15   5.79914961e-15   3.99296254e-15\n",
        "   2.67700878e-15   1.74754349e-15   1.11078454e-15   6.87472448e-16\n",
        "   4.14289957e-16   2.43095630e-16   1.38890818e-16   7.72669120e-17\n",
        "   4.18540235e-17   2.20751930e-17]\n"
       ]
      }
     ],
     "prompt_number": 22
    },
    {
     "cell_type": "code",
     "collapsed": false,
     "input": [
      "plt.show()"
     ],
     "language": "python",
     "metadata": {},
     "outputs": [],
     "prompt_number": 20
    },
    {
     "cell_type": "code",
     "collapsed": false,
     "input": [],
     "language": "python",
     "metadata": {},
     "outputs": []
    }
   ],
   "metadata": {}
  }
 ]
}