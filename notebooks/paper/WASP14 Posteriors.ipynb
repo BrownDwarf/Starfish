{
 "metadata": {
  "name": "",
  "signature": "sha256:ba73fed8c8aa7c680077897fa92c9c535884f00ccdde3096858b3744e919cd0a"
 },
 "nbformat": 3,
 "nbformat_minor": 0,
 "worksheets": [
  {
   "cells": [
    {
     "cell_type": "markdown",
     "metadata": {},
     "source": [
      "Plot all of the output on one T_eff v Z plane, w/ error bars."
     ]
    },
    {
     "cell_type": "code",
     "collapsed": false,
     "input": [
      "from astropy.io import ascii\n",
      "import numpy as np\n",
      "import matplotlib.pyplot as plt\n",
      "from matplotlib.patches import Ellipse"
     ],
     "language": "python",
     "metadata": {},
     "outputs": [],
     "prompt_number": 14
    },
    {
     "cell_type": "code",
     "collapsed": false,
     "input": [
      "torres = ascii.read(\"torres.dat\")\n",
      "torres"
     ],
     "language": "python",
     "metadata": {},
     "outputs": [
      {
       "html": [
        "<table id=\"table140600782747968\"><thead><tr><th>T</th><th>Terr</th><th>Z</th><th>Zerr</th><th>v</th><th>verr</th><th>name</th></tr></thead><tr><td>6508</td><td>50</td><td>-0.18</td><td>0.08</td><td>3.6</td><td>0.5</td><td>SPCH</td></tr><tr><td>6470</td><td>50</td><td>-0.18</td><td>0.08</td><td>3.5</td><td>0.5</td><td>SPCF</td></tr><tr><td>6507</td><td>50</td><td>-0.15</td><td>0.08</td><td>3.9</td><td>0.5</td><td>SPCT</td></tr><tr><td>6497</td><td>44</td><td>-0.05</td><td>0.04</td><td>3.0</td><td>0.5</td><td>SMEH</td></tr><tr><td>6450</td><td>75</td><td>-0.23</td><td>0.12</td><td>-99.0</td><td>-99.0</td><td>MOOGH</td></tr><tr><td>6150</td><td>75</td><td>-0.34</td><td>0.1</td><td>-99.0</td><td>-99.0</td><td>MOOGT</td></tr><tr><td>6462</td><td>75</td><td>-0.13</td><td>0.08</td><td>3.5</td><td>0.9</td><td>ALL</td></tr></table>"
       ],
       "metadata": {},
       "output_type": "pyout",
       "prompt_number": 7,
       "text": [
        "<Table rows=7 names=('T','Terr','Z','Zerr','v','verr','name')>\n",
        "array([(6508, 50, -0.18, 0.08, 3.6, 0.5, 'SPCH'),\n",
        "       (6470, 50, -0.18, 0.08, 3.5, 0.5, 'SPCF'),\n",
        "       (6507, 50, -0.15, 0.08, 3.9, 0.5, 'SPCT'),\n",
        "       (6497, 44, -0.05, 0.04, 3.0, 0.5, 'SMEH'),\n",
        "       (6450, 75, -0.23, 0.12, -99.0, -99.0, 'MOOGH'),\n",
        "       (6150, 75, -0.34, 0.1, -99.0, -99.0, 'MOOGT'),\n",
        "       (6462, 75, -0.13, 0.08, 3.5, 0.9, 'ALL')], \n",
        "      dtype=[('T', '<i8'), ('Terr', '<i8'), ('Z', '<f8'), ('Zerr', '<f8'), ('v', '<f8'), ('verr', '<f8'), ('name', '<U5')])"
       ]
      }
     ],
     "prompt_number": 7
    },
    {
     "cell_type": "code",
     "collapsed": false,
     "input": [
      "data = ascii.read(\"czekala.dat\")\n",
      "data"
     ],
     "language": "python",
     "metadata": {},
     "outputs": [
      {
       "html": [
        "<table id=\"table140600787177544\"><thead><tr><th>T</th><th>Terr</th><th>Z</th><th>Zerr</th><th>rho</th><th>name</th></tr></thead><tr><td>6517</td><td>12.5</td><td>-0.27</td><td>0.0083</td><td>0.847</td><td>Klogg</td></tr><tr><td>6313</td><td>17.4</td><td>-0.386</td><td>0.01</td><td>0.928</td><td>Kglob</td></tr><tr><td>5985</td><td>74.0</td><td>-0.66</td><td>0.07</td><td>0.958</td><td>Pglob</td></tr></table>"
       ],
       "metadata": {},
       "output_type": "pyout",
       "prompt_number": 63,
       "text": [
        "<Table rows=3 names=('T','Terr','Z','Zerr','rho','name')>\n",
        "array([(6517, 12.5, -0.27, 0.0083, 0.847, 'Klogg'),\n",
        "       (6313, 17.4, -0.386, 0.01, 0.928, 'Kglob'),\n",
        "       (5985, 74.0, -0.66, 0.07, 0.958, 'Pglob')], \n",
        "      dtype=[('T', '<i8'), ('Terr', '<f8'), ('Z', '<f8'), ('Zerr', '<f8'), ('rho', '<f8'), ('name', '<U5')])"
       ]
      }
     ],
     "prompt_number": 63
    },
    {
     "cell_type": "code",
     "collapsed": false,
     "input": [
      "def ellipse(ax, x, y, xerr, yerr, rho=0):\n",
      "    '''\n",
      "    Plot an error ellipse on an axes.\n",
      "    '''\n",
      "    #width and height of ellipse correspond to the semimajor and semiminor axes\n",
      "    \n",
      "    cov = np.array([[xerr**2, xerr*yerr*rho], [xerr*yerr*rho, yerr**2]])\n",
      "    plot_cov_ellipse(cov, (x,y), ax=ax, fill=False, nstd=1)\n",
      "    \n",
      "    ax.plot(x, y, \"ko\", markersize=4)"
     ],
     "language": "python",
     "metadata": {},
     "outputs": [],
     "prompt_number": 100
    },
    {
     "cell_type": "code",
     "collapsed": false,
     "input": [
      "def plot_cov_ellipse(cov, pos, nstd=1, ax=None, **kwargs):\n",
      "    \"\"\"\n",
      "    Plots an `nstd` sigma error ellipse based on the specified covariance\n",
      "    matrix (`cov`). Additional keyword arguments are passed on to the \n",
      "    ellipse patch artist.\n",
      "\n",
      "    Parameters\n",
      "    ----------\n",
      "        cov : The 2x2 covariance matrix to base the ellipse on\n",
      "        pos : The location of the center of the ellipse. Expects a 2-element\n",
      "            sequence of [x0, y0].\n",
      "        nstd : The radius of the ellipse in numbers of standard deviations.\n",
      "            Defaults to 2 standard deviations.\n",
      "        ax : The axis that the ellipse will be plotted on. Defaults to the \n",
      "            current axis.\n",
      "        Additional keyword arguments are pass on to the ellipse patch.\n",
      "    \n",
      "    from: http://stackoverflow.com/questions/12301071/multidimensional-confidence-intervals\n",
      "        \n",
      "\n",
      "    Returns\n",
      "    -------\n",
      "        A matplotlib ellipse artist\n",
      "    \"\"\"\n",
      "    def eigsorted(cov):\n",
      "        vals, vecs = np.linalg.eigh(cov)\n",
      "        order = vals.argsort()[::-1]\n",
      "        return vals[order], vecs[:,order]\n",
      "\n",
      "    if ax is None:\n",
      "        ax = plt.gca()\n",
      "\n",
      "    vals, vecs = eigsorted(cov)\n",
      "    theta = np.degrees(np.arctan2(*vecs[:,0][::-1]))\n",
      "\n",
      "    # Width and height are \"full\" widths, not radius\n",
      "    width, height = 2 * nstd * np.sqrt(vals)\n",
      "    ellip = Ellipse(xy=pos, width=width, height=height, angle=theta, **kwargs)\n",
      "\n",
      "    ax.add_artist(ellip)\n",
      "    return ellip"
     ],
     "language": "python",
     "metadata": {},
     "outputs": [],
     "prompt_number": 75
    },
    {
     "cell_type": "code",
     "collapsed": false,
     "input": [
      "fig = plt.figure(figsize=(3.5,3.5))\n",
      "ax = fig.add_subplot(111)\n",
      "ax.errorbar(torres[\"Z\"], torres[\"T\"], xerr=torres[\"Zerr\"], yerr=torres[\"Terr\"], fmt=\"o\", markersize=4)\n",
      "for row in data:\n",
      "    ellipse(ax, row[\"Z\"], row[\"T\"], xerr=row[\"Zerr\"], yerr=row[\"Terr\"], rho=row[\"rho\"])\n",
      "ax.set_xlabel(r\"$[{\\rm m}/{\\rm H}]$\")\n",
      "ax.set_ylabel(r\"$T_{\\rm eff}$\")\n",
      "ax.set_ylim(5750, 6600)\n",
      "ax.set_ylim(5900, 6600)\n",
      "ax.set_xlim(-0.9, 0)\n",
      "ax.set_xlim(-0.75, 0)\n",
      "fig.subplots_adjust(bottom=0.16, left=0.15)\n",
      "fig.savefig(\"../../plots/metacomparison.png\")\n",
      "fig.savefig(\"../../plots/metacomparison.pdf\")\n",
      "fig.savefig(\"../../plots/metacomparison.svg\")\n",
      "plt.show()"
     ],
     "language": "python",
     "metadata": {},
     "outputs": [],
     "prompt_number": 102
    },
    {
     "cell_type": "code",
     "collapsed": false,
     "input": [
      "#Try the ellipse with a simple example\n",
      "fig = plt.figure()\n",
      "ax = fig.add_subplot(111)\n",
      "#for rho in np.linspace(0, 1, num=10):\n",
      "#    ellipse(ax, 0, 0, 1, 0.5, rho=rho)\n",
      "ellipse(ax, 0, 0, 1, 0.5, rho=0)\n",
      "plt.show()"
     ],
     "language": "python",
     "metadata": {},
     "outputs": [],
     "prompt_number": 48
    },
    {
     "cell_type": "markdown",
     "metadata": {},
     "source": [
      "What should we do about coloring in this plot? I suppose we should categorize by Torres v. Czekala, SPC v. SME v. MOOG, and PHOENIX v. Kurucz? Also, how many orders, etc.."
     ]
    },
    {
     "cell_type": "code",
     "collapsed": false,
     "input": [],
     "language": "python",
     "metadata": {},
     "outputs": []
    }
   ],
   "metadata": {}
  }
 ]
}