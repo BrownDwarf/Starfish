{
 "metadata": {
  "name": "",
  "signature": "sha256:6d2071b2c36cbf9a59636537b553c8f9dbe2d3ba9cde9ee82c4c1f4b1fc1577e"
 },
 "nbformat": 3,
 "nbformat_minor": 0,
 "worksheets": [
  {
   "cells": [
    {
     "cell_type": "code",
     "collapsed": false,
     "input": [
      "%load_ext autoreload\n",
      "%autoreload 2"
     ],
     "language": "python",
     "metadata": {},
     "outputs": [],
     "prompt_number": 1
    },
    {
     "cell_type": "code",
     "collapsed": false,
     "input": [
      "#Import all of the relevant python modules\n",
      "import numpy as np\n",
      "import matplotlib\n",
      "import matplotlib.pyplot as plt\n",
      "from matplotlib.ticker import FormatStrFormatter as FSF\n",
      "from matplotlib.ticker import MaxNLocator\n",
      "from matplotlib.ticker import MultipleLocator"
     ],
     "language": "python",
     "metadata": {},
     "outputs": [],
     "prompt_number": 2
    },
    {
     "cell_type": "code",
     "collapsed": false,
     "input": [
      "from StellarSpectra.model import Model\n",
      "from StellarSpectra.spectrum import DataSpectrum\n",
      "from StellarSpectra.grid_tools import TRES, HDF5Interface\n",
      "from StellarSpectra import utils\n",
      "from StellarSpectra.utils import saveall\n",
      "import scipy.sparse as sp\n",
      "import numpy as np\n",
      "\n",
      "myDataSpectrum = DataSpectrum.open(\"../../data/WASP14/WASP14-2009-06-14.hdf5\", orders=np.array([22]))\n",
      "myInstrument = TRES()\n",
      "myHDF5Interface = HDF5Interface(\"../../libraries/PHOENIX_TRES_F.hdf5\")"
     ],
     "language": "python",
     "metadata": {},
     "outputs": [],
     "prompt_number": 3
    },
    {
     "cell_type": "code",
     "collapsed": false,
     "input": [
      "#Load a model using the JSON file\n",
      "#myModel = Model.from_json(\"../WASP14/model_final.json\", myDataSpectrum, myInstrument, myHDF5Interface)\n",
      "myModel = Model.from_json(\"../WASP14_22_model_final_region.json\", myDataSpectrum, myInstrument, myHDF5Interface)\n",
      "myOrderModel = myModel.OrderModels[0]\n",
      "spec = myModel.get_data()\n",
      "\n",
      "wl = spec.wls[0]\n",
      "fl = spec.fls[0]\n",
      "sigma = spec.sigmas[0]\n",
      "\n",
      "model_fl = myOrderModel.get_spectrum()\n",
      "\n",
      "residuals = fl - model_fl\n",
      "cheb = myOrderModel.get_Cheb()"
     ],
     "language": "python",
     "metadata": {},
     "outputs": [
      {
       "output_type": "stream",
       "stream": "stdout",
       "text": [
        "Determine Chunk Log: Wl is 8192\n",
        "Creating OrderModel 0\n",
        "creating region "
       ]
      },
      {
       "output_type": "stream",
       "stream": "stderr",
       "text": [
        "INFO:RegionCovarianceMatrix 5188.770929306509:Created region\n"
       ]
      },
      {
       "output_type": "stream",
       "stream": "stderr",
       "text": [
        "INFO:CovarianceMatrix:Added region 0 to self.RegionList\n"
       ]
      },
      {
       "output_type": "stream",
       "stream": "stderr",
       "text": [
        "INFO:RegionCovarianceMatrix 5151.8534158849325:Created region\n"
       ]
      },
      {
       "output_type": "stream",
       "stream": "stderr",
       "text": [
        "INFO:CovarianceMatrix:Added region 1 to self.RegionList\n"
       ]
      },
      {
       "output_type": "stream",
       "stream": "stderr",
       "text": [
        "INFO:RegionCovarianceMatrix 5142.815880890552:Created region\n"
       ]
      },
      {
       "output_type": "stream",
       "stream": "stderr",
       "text": [
        "INFO:CovarianceMatrix:Added region 2 to self.RegionList\n"
       ]
      },
      {
       "output_type": "stream",
       "stream": "stderr",
       "text": [
        "INFO:RegionCovarianceMatrix 5201.686815355184:Created region\n"
       ]
      },
      {
       "output_type": "stream",
       "stream": "stderr",
       "text": [
        "INFO:CovarianceMatrix:Added region 3 to self.RegionList\n"
       ]
      },
      {
       "output_type": "stream",
       "stream": "stdout",
       "text": [
        " 0 0 {'mu': 5188.770929306509, 'sigma': 5.161308092494482, 'loga': -12.076165336887787}\n",
        "creating region  1 1 {'mu': 5151.8534158849325, 'sigma': 4.809287151430395, 'loga': -12.78120822355448}\n",
        "creating region  2 2 {'mu': 5142.815880890552, 'sigma': 7.433720494996769, 'loga': -12.526338163621313}\n",
        "creating region  3 3 {'mu': 5201.686815355184, 'sigma': 9.560940730866921, 'loga': -57.064715539113124}\n",
        "creating region "
       ]
      },
      {
       "output_type": "stream",
       "stream": "stderr",
       "text": [
        "INFO:RegionCovarianceMatrix 5150.756876675764:Created region\n"
       ]
      },
      {
       "output_type": "stream",
       "stream": "stderr",
       "text": [
        "INFO:CovarianceMatrix:Added region 4 to self.RegionList\n"
       ]
      },
      {
       "output_type": "stream",
       "stream": "stderr",
       "text": [
        "INFO:RegionCovarianceMatrix 5169.085875719616:Created region\n"
       ]
      },
      {
       "output_type": "stream",
       "stream": "stderr",
       "text": [
        "INFO:CovarianceMatrix:Added region 5 to self.RegionList\n"
       ]
      },
      {
       "output_type": "stream",
       "stream": "stderr",
       "text": [
        "INFO:RegionCovarianceMatrix 5198.620012768345:Created region\n"
       ]
      },
      {
       "output_type": "stream",
       "stream": "stderr",
       "text": [
        "INFO:CovarianceMatrix:Added region 6 to self.RegionList\n"
       ]
      },
      {
       "output_type": "stream",
       "stream": "stderr",
       "text": [
        "INFO:RegionCovarianceMatrix 5178.849915297965:Created region\n"
       ]
      },
      {
       "output_type": "stream",
       "stream": "stderr",
       "text": [
        "INFO:CovarianceMatrix:Added region 7 to self.RegionList\n"
       ]
      },
      {
       "output_type": "stream",
       "stream": "stdout",
       "text": [
        " 4 4 {'mu': 5150.756876675764, 'sigma': 7.17815124402818, 'loga': -12.305001160847057}\n",
        "creating region  5 5 {'mu': 5169.085875719616, 'sigma': 6.878226981503173, 'loga': -12.438745669164504}\n",
        "creating region  6 6 {'mu': 5198.620012768345, 'sigma': 6.1537481296828425, 'loga': -12.927756678556008}\n",
        "creating region  7 7 {'mu': 5178.849915297965, 'sigma': 1.5886138084364085, 'loga': -52.89854288142054}\n"
       ]
      }
     ],
     "prompt_number": 4
    },
    {
     "cell_type": "markdown",
     "metadata": {},
     "source": [
      "## Large view residual plot"
     ]
    },
    {
     "cell_type": "code",
     "collapsed": false,
     "input": [
      "sh0 = 5201.4\n",
      "sh1 = 5205.1"
     ],
     "language": "python",
     "metadata": {},
     "outputs": [],
     "prompt_number": 12
    },
    {
     "cell_type": "code",
     "collapsed": false,
     "input": [
      "fig, ax = plt.subplots(nrows=2, figsize=(6.5,2.2), sharex=True)\n",
      "\n",
      "l0, = ax[0].plot(wl, fl, \"b\")\n",
      "l1, = ax[0].plot(wl, model_fl, \"r\")\n",
      "\n",
      "ax[0].legend([l0, l1], [\"data\", \"model\"], loc=\"lower right\", ncol=2, prop={'size':10})\n",
      "ax[0].yaxis.set_major_locator(MaxNLocator(nbins=7, prune='lower'))\n",
      "ax[0].fill_betweenx(np.array([1e-14, 2.4e-13]), sh0, sh1, color=\"0.5\", alpha=0.5)\n",
      "ax[0].set_ylim(1e-14, 2.4e-13)\n",
      "\n",
      "ax[1].fill_betweenx(np.array([-9e-14, 9e-14]), sh0, sh1, color=\"0.5\", alpha=0.5)\n",
      "l2, = ax[1].plot(wl, residuals, \"k\")\n",
      "ax[1].xaxis.set_major_formatter(FSF(\"%.0f\"))\n",
      "ax[1].set_xlabel(r\"$\\lambda$ [\\AA]\")\n",
      "ax[1].yaxis.set_major_locator(MaxNLocator(nbins=7, prune='upper'))\n",
      "ax[1].set_xlim(5190, 5236)\n",
      "ax[1].set_ylim(-4e-14, 4e-14)\n",
      "ax[1].legend([l2], [\"residuals\"], loc=\"upper right\", prop={'size':10})\n",
      "\n",
      "fig.subplots_adjust(hspace=0, left=0.12, right=0.95, bottom=0.19, top=0.91)\n",
      "fig.text(0.03, 0.8, r\"$f_\\lambda \\quad [\\textrm{erg}\\;\\textrm{cm}^{-2}\\;\\textrm{s}^{-1}\\;\\textrm{\\AA}^{-1}]$\", rotation=\"vertical\")\n",
      "\n",
      "saveall(fig, \"../../plots/matrix_residual\")\n",
      "plt.show()"
     ],
     "language": "python",
     "metadata": {},
     "outputs": [],
     "prompt_number": 103
    },
    {
     "cell_type": "markdown",
     "metadata": {},
     "source": [
      "## Random draws from Covariance matrices\n",
      "\n",
      "Select the region that has global and local kernels"
     ]
    },
    {
     "cell_type": "code",
     "collapsed": false,
     "input": [
      "ind = (wl > sh0) & (wl < sh1)\n",
      "w = wl[ind]\n",
      "s = sigma[ind]\n",
      "r = residuals[ind]"
     ],
     "language": "python",
     "metadata": {},
     "outputs": [],
     "prompt_number": 13
    },
    {
     "cell_type": "code",
     "collapsed": false,
     "input": [
      "#These are using some of the best-fit parameters from \n",
      "#/n/home07/iczekala/StellarSpectra/output/WASP14/PHOENIX/22/region/4sig/2014-08-13/run60/22\n",
      "\n",
      "mat_poisson = utils.Poisson_matrix(w, sigma=s)\n",
      "mat_global = utils.k_global_matrix(w, a=10**(-14.34), l=10.26)\n",
      "# -13.77186598,  5202.25227836,     7.45325824\n",
      "mat_local = utils.k_local_matrix(w, a=10**(-13.77), mu=5202.25, sigma=7.4532)\n",
      "mat_combined = mat_poisson + mat_global + mat_local"
     ],
     "language": "python",
     "metadata": {},
     "outputs": [],
     "prompt_number": 14
    },
    {
     "cell_type": "code",
     "collapsed": false,
     "input": [
      "draws = utils.random_draws(mat_combined, num=100)\n",
      "np.save(\"combined_draws.npy\", draws)"
     ],
     "language": "python",
     "metadata": {},
     "outputs": [],
     "prompt_number": 15
    },
    {
     "cell_type": "code",
     "collapsed": false,
     "input": [
      "draws = np.load(\"combined_draws.npy\")"
     ],
     "language": "python",
     "metadata": {},
     "outputs": [],
     "prompt_number": 8
    },
    {
     "cell_type": "code",
     "collapsed": false,
     "input": [
      "utils.visualize_draws(draws)"
     ],
     "language": "python",
     "metadata": {},
     "outputs": [],
     "prompt_number": 16
    },
    {
     "cell_type": "code",
     "collapsed": false,
     "input": [
      "def miniplot(ax, cov, spaces):\n",
      "    '''\n",
      "    Given an axes, plot the scenario of a bunch of random draws on top of it\n",
      "    '''\n",
      "    draws = utils.random_draws(cov, num=50)\n",
      "    \n",
      "    #plot the first three staggered\n",
      "    #spaces = sep = 6*np.std(draws[0])\n",
      "    \n",
      "    for draw, space in zip(draws[:3], spaces):\n",
      "        ax.axhline(space, ls=\":\", color=\"0.3\")\n",
      "        ax.plot(w, draw + space, \"0.4\", ls=\"steps-mid\")\n",
      "        \n",
      "        \n",
      "    #Jump again and now plot the envelope of the draws\n",
      "    min_spec, max_spec = utils.envelope(draws)\n",
      "    ax.fill_between(w, min_spec, max_spec, alpha=0.4, zorder=0)\n",
      "    \n",
      "    ax.plot(w, r, \"w\", lw=1.8, zorder=1, ls=\"steps-mid\")\n",
      "    ax.plot(w, r, \"k\", zorder=1, ls=\"steps-mid\")\n",
      "        "
     ],
     "language": "python",
     "metadata": {},
     "outputs": [],
     "prompt_number": 17
    },
    {
     "cell_type": "code",
     "collapsed": false,
     "input": [
      "def complot(ax, draws, selected, spaces):\n",
      "    '''\n",
      "    Given selected draws, copy the plot\n",
      "    '''\n",
      "    for draw, space in zip(selected, spaces):\n",
      "        ax.axhline(space, ls=\":\", color=\"0.3\")\n",
      "        ax.plot(w, draw + space, \"0.4\", ls=\"steps-mid\")\n",
      "        \n",
      "        \n",
      "    #Jump again and now plot the envelope of the draws\n",
      "    min_spec, max_spec = utils.envelope(draws)\n",
      "    ax.fill_between(w, min_spec, max_spec, alpha=0.4, zorder=0)\n",
      "    \n",
      "    ax.plot(w, r, \"w\", lw=1.8, zorder=1, ls=\"steps-mid\")\n",
      "    ax.plot(w, r, \"k\", zorder=1, ls=\"steps-mid\")\n",
      "    "
     ],
     "language": "python",
     "metadata": {},
     "outputs": [],
     "prompt_number": 18
    },
    {
     "cell_type": "code",
     "collapsed": false,
     "input": [
      "fig, ax = plt.subplots(nrows=3, figsize=(3., 6.5), sharex=True, sharey=True)\n",
      "\n",
      "spaces = 1.1 * np.array([3.97828569937e-14, 7.95657139874e-14, 1.19348570981e-13]) #determined from \n",
      "#spaces = sep = 6*np.std(draws[0]) on a draw from the combined matrix\n",
      "\n",
      "miniplot(ax[0], mat_poisson, spaces)\n",
      "miniplot(ax[1], mat_global + mat_poisson, spaces)\n",
      "complot(ax[2], draws=draws[:50], selected=draws[np.array([17, 6, 16])], spaces=spaces)\n",
      "\n",
      "l0, = ax[0].plot(np.ones(10), \"0.4\")\n",
      "l1, = ax[0].plot(np.ones(10), \"k\")\n",
      "\n",
      "legend1 = ax[0].legend([l0], [\"random draw\"], loc=\"upper right\", prop={'size':10})\n",
      "ax[0].legend([l1], [\"residuals\"], loc=\"lower right\", prop={'size':10})\n",
      "ax[0].add_artist(legend1)\n",
      "\n",
      "fig.text(0.23, 0.97, r\"$f_\\lambda$ + offset $\\quad [\\textrm{erg}\\;\\textrm{cm}^{-2}\\;\\textrm{s}^{-1}\\;\\textrm{\\AA}^{-1}]$\")\n",
      "\n",
      "ax[-1].set_xlim(sh0 + 0.1, sh1 - 0.1)\n",
      "ax[-1].set_ylim(-5.5e-14, 1.7e-13)\n",
      "ax[-1].xaxis.set_major_formatter(FSF(\"%.0f\"))\n",
      "ax[-1].xaxis.set_major_locator(MultipleLocator(1.))\n",
      "ax[-1].set_xlabel(r\"$\\lambda$ [\\AA]\")\n",
      "\n",
      "for a in ax:\n",
      "    a.yaxis.set_major_locator(MaxNLocator(nbins=7, prune='upper'))\n",
      "\n",
      "fig.subplots_adjust(hspace=0, top=0.935, right=0.94, left=0.15, bottom=0.08)\n",
      "saveall(fig, \"../../plots/white_to_local\")\n",
      "\n",
      "plt.show()"
     ],
     "language": "python",
     "metadata": {},
     "outputs": [],
     "prompt_number": 21
    },
    {
     "cell_type": "markdown",
     "metadata": {},
     "source": [
      "## Visualizing covariance matrices"
     ]
    },
    {
     "cell_type": "code",
     "collapsed": false,
     "input": [
      "def plot_matrix(wl, cov, title=False):\n",
      "    '''\n",
      "    Construct the plot!\n",
      "    '''\n",
      "    fig = plt.figure(figsize=(2.9,2.5))\n",
      "    ax = fig.add_subplot(111)\n",
      "    \n",
      "    left, right = wl[0], wl[-1]\n",
      "    \n",
      "    img = ax.imshow(cov, interpolation=\"none\", origin=\"upper\", extent=[left, right, right, left], cmap=plt.cm.OrRd)\n",
      "    \n",
      "    ax.xaxis.set_major_formatter(FSF(\"%.0f\"))\n",
      "    ax.xaxis.set_major_locator(MultipleLocator(1.))\n",
      "    #labels = ax.get_xticklabels()\n",
      "    #for label in labels:\n",
      "    #    label.set_rotation(40)\n",
      "\n",
      "    ax.yaxis.set_major_formatter(FSF(\"%.0f\"))\n",
      "    ax.yaxis.set_major_locator(MultipleLocator(1.))\n",
      "\n",
      "    ax.set_xlabel(r\"$\\lambda$ [\\AA]\")\n",
      "    ax.set_ylabel(r\"$\\lambda$ [\\AA]\")\n",
      "\n",
      "    cax = fig.add_axes([0.84, 0.22, 0.03, 0.65])\n",
      "    cb = fig.colorbar(img, cax=cax)\n",
      "\n",
      "    #ticks = np.linspace(0, np.max(cov), num=6)\n",
      "    #cb.set_ticks(ticks)\n",
      "    cb.set_ticks(MaxNLocator(nbins=5))\n",
      "\n",
      "    #fig.suptitle(r\"$\\sigma_{ij}$\",x=0.76,y=0.89)\n",
      "    \n",
      "    if title:\n",
      "        fig.text(0.25, 0.9, r\"$\\mathsf{C}_{ij} \\quad [\\textrm{erg}^2\\;\\textrm{cm}^{-4}\\;\\textrm{s}^{-2}\\;\\textrm{\\AA}^{-2}]$\")\n",
      "\n",
      "    fig.subplots_adjust(left=0.22, bottom=0.1, top=0.99, right=0.79)\n",
      "    \n",
      "    return fig,ax\n",
      "    #saveall(fig, fname)\n",
      "    #plt.show()"
     ],
     "language": "python",
     "metadata": {},
     "outputs": [],
     "prompt_number": 104
    },
    {
     "cell_type": "code",
     "collapsed": false,
     "input": [
      "fig, ax = plot_matrix(w, mat_poisson, title=True)\n",
      "ax.annotate(r\"$\\delta_{ij} \\sigma_i$\", (5204.7, 5202), ha=\"right\")\n",
      "saveall(fig, \"../../plots/matrix_poisson\")\n",
      "plt.show()"
     ],
     "language": "python",
     "metadata": {},
     "outputs": [],
     "prompt_number": 116
    },
    {
     "cell_type": "code",
     "collapsed": false,
     "input": [
      "fig, ax = plot_matrix(w, mat_poisson + mat_global)\n",
      "ax.annotate(r\"$\\mathcal{K}^{\\rm g} + \\delta_{ij} \\sigma_i$\", (5204.7, 5202), ha=\"right\")\n",
      "saveall(fig, \"../../plots/matrix_global\")\n",
      "plt.show()"
     ],
     "language": "python",
     "metadata": {},
     "outputs": [],
     "prompt_number": 117
    },
    {
     "cell_type": "code",
     "collapsed": false,
     "input": [
      "fig, ax = plot_matrix(w, mat_poisson + mat_global + mat_local)\n",
      "ax.annotate(r\"$\\mathcal{K}^l + \\mathcal{K}^{\\rm g} + \\delta_{ij} \\sigma_i$\", (5204.7, 5202), ha=\"right\")\n",
      "saveall(fig, \"../../plots/matrix_local\")\n",
      "plt.show()"
     ],
     "language": "python",
     "metadata": {},
     "outputs": [],
     "prompt_number": 118
    },
    {
     "cell_type": "code",
     "collapsed": false,
     "input": [],
     "language": "python",
     "metadata": {},
     "outputs": []
    }
   ],
   "metadata": {}
  }
 ]
}