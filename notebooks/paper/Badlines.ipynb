{
 "metadata": {
  "name": "",
  "signature": "sha256:b6b2720a50e3627181b05014ddbb7404a4b904445d69eb8496c3125755dc63b7"
 },
 "nbformat": 3,
 "nbformat_minor": 0,
 "worksheets": [
  {
   "cells": [
    {
     "cell_type": "code",
     "collapsed": false,
     "input": [
      "#Import all of the relevant python modules\n",
      "import numpy as np\n",
      "import matplotlib\n",
      "import matplotlib.pyplot as plt\n",
      "from matplotlib.ticker import FormatStrFormatter as FSF\n",
      "from matplotlib.ticker import MaxNLocator\n",
      "from matplotlib.ticker import MultipleLocator"
     ],
     "language": "python",
     "metadata": {},
     "outputs": [],
     "prompt_number": 1
    },
    {
     "cell_type": "code",
     "collapsed": false,
     "input": [
      "from StellarSpectra.model import Model\n",
      "from StellarSpectra.spectrum import DataSpectrum\n",
      "from StellarSpectra.grid_tools import TRES, HDF5Interface\n",
      "from StellarSpectra.utils import saveall\n",
      "import scipy.sparse as sp\n",
      "import numpy as np\n",
      "\n",
      "myDataSpectrum = DataSpectrum.open(\"../../data/WASP14/WASP14-2009-06-14.hdf5\", orders=np.array([22, 23]))\n",
      "myInstrument = TRES()\n",
      "myHDF5Interface = HDF5Interface(\"../../libraries/PHOENIX_TRES_F.hdf5\")"
     ],
     "language": "python",
     "metadata": {},
     "outputs": [],
     "prompt_number": 2
    },
    {
     "cell_type": "code",
     "collapsed": false,
     "input": [
      "#Load a model using the JSON file\n",
      "myModel = Model.from_json(\"../WASP14/model_final_22_23.json\", myDataSpectrum, myInstrument, myHDF5Interface)\n",
      "\n",
      "myOrderModel22 = myModel.OrderModels[0]\n",
      "myOrderModel23 = myModel.OrderModels[1]\n",
      "\n",
      "spec = myModel.get_data()\n",
      "\n",
      "wl22 = spec.wls[0]\n",
      "fl22 = spec.fls[0]\n",
      "model_fl22 = myOrderModel22.get_spectrum()\n",
      "\n",
      "wl23 = spec.wls[1]\n",
      "fl23 = spec.fls[1]\n",
      "model_fl23 = myOrderModel23.get_spectrum()"
     ],
     "language": "python",
     "metadata": {},
     "outputs": [
      {
       "output_type": "stream",
       "stream": "stdout",
       "text": [
        "Determine Chunk Log: Wl is 16384\n",
        "Creating OrderModel 0\n",
        "Creating OrderModel 1\n"
       ]
      }
     ],
     "prompt_number": 3
    },
    {
     "cell_type": "code",
     "collapsed": false,
     "input": [
      "height = 1.8\n",
      "texttop = 0.8\n",
      "sargs = {\"left\":0.18, \"right\":0.82, \"top\":0.91, \"hspace\":0, \"bottom\":0.22}"
     ],
     "language": "python",
     "metadata": {},
     "outputs": [],
     "prompt_number": 12
    },
    {
     "cell_type": "code",
     "collapsed": false,
     "input": [
      "ind = (wl22 >= 5144) & (wl22 <= 5150)\n",
      "w = wl22[ind]\n",
      "f = fl22[ind]\n",
      "m = model_fl22[ind]\n",
      "r = f - m\n",
      "\n",
      "fig,ax = plt.subplots(nrows=2, figsize=(3.5,height), sharex=True)\n",
      "\n",
      "ax[0].plot(w, f, \"b\", label=\"data\", drawstyle=\"steps-mid\")\n",
      "ax[0].plot(w, m, \"r\", label=\"model\", drawstyle=\"steps-mid\")\n",
      "\n",
      "ax[1].axhline(0, ls=\":\", color=\"0.5\")\n",
      "ax[1].plot(w, r, \"k\", drawstyle=\"steps-mid\")\n",
      "ax[1].set_xlabel(r\"$\\lambda$ [\\AA]\")\n",
      "ax[1].xaxis.set_major_formatter(FSF(\"%.0f\"))\n",
      "\n",
      "for a in ax:\n",
      "    a.yaxis.set_major_locator(MaxNLocator(nbins=6, prune='both'))\n",
      "    \n",
      "fig.text(0.03, texttop, r\"$f_\\lambda \\quad [\\textrm{erg}\\;\\textrm{cm}^{-2}\\;\\textrm{s}^{-1}\\;\\textrm{\\AA}^{-1}]$\", rotation=\"vertical\")\n",
      "fig.subplots_adjust(**sargs)\n",
      "saveall(fig, \"../../plots/badlines0\")\n",
      "\n",
      "plt.show()\n",
      "\n",
      "\n"
     ],
     "language": "python",
     "metadata": {},
     "outputs": [],
     "prompt_number": 13
    },
    {
     "cell_type": "code",
     "collapsed": false,
     "input": [
      "ind = (wl22 >= 5188) & (wl22 <= 5189.6)\n",
      "w = wl22[ind]\n",
      "f = fl22[ind]\n",
      "m = model_fl22[ind]\n",
      "r = f - m\n",
      "\n",
      "fig,ax = plt.subplots(nrows=2, figsize=(3.5, height), sharex=True)\n",
      "\n",
      "l0, = ax[0].plot(w, f, \"b\", label=\"data\", drawstyle=\"steps-mid\")\n",
      "l1, = ax[0].plot(w, m, \"r\", label=\"model\", drawstyle=\"steps-mid\")\n",
      "\n",
      "ax[0].legend(loc=\"lower right\", prop={'size':10})\n",
      "\n",
      "ax[1].axhline(0, ls=\":\", color=\"0.5\")\n",
      "l2, = ax[1].plot(w, r, \"k\", label=\"residuals\", drawstyle=\"steps-mid\")\n",
      "ax[1].set_xlabel(r\"$\\lambda$ [\\AA]\")\n",
      "ax[1].xaxis.set_major_formatter(FSF(\"%.1f\"))\n",
      "ax[1].xaxis.set_major_locator(MultipleLocator(0.4))\n",
      "\n",
      "ax[1].legend(loc=\"lower right\", prop={'size':10})\n",
      "\n",
      "for a in ax:\n",
      "    a.yaxis.set_major_locator(MaxNLocator(nbins=5, prune='both'))\n",
      "    \n",
      "    \n",
      "fig.text(0.03, texttop, r\"$f_\\lambda \\quad [\\textrm{erg}\\;\\textrm{cm}^{-2}\\;\\textrm{s}^{-1}\\;\\textrm{\\AA}^{-1}]$\", rotation=\"vertical\")\n",
      "fig.subplots_adjust(**sargs)\n",
      "\n",
      "saveall(fig, \"../../plots/badlines1\")\n",
      "\n",
      "plt.show()"
     ],
     "language": "python",
     "metadata": {},
     "outputs": [],
     "prompt_number": 19
    },
    {
     "cell_type": "code",
     "collapsed": false,
     "input": [
      "ind = (wl23 >= 5257.8) & (wl23 <= 5260)\n",
      "w = wl23[ind]\n",
      "f = fl23[ind]\n",
      "m = model_fl23[ind]\n",
      "r = f - m\n",
      "\n",
      "fig,ax = plt.subplots(nrows=2, figsize=(3.5,height), sharex=True)\n",
      "\n",
      "ax[0].plot(w, f, \"b\", label=\"data\", drawstyle=\"steps-mid\")\n",
      "ax[0].plot(w, m, \"r\", label=\"model\", drawstyle=\"steps-mid\")\n",
      "\n",
      "ax[1].axhline(0, ls=\":\", color=\"0.5\")\n",
      "ax[1].plot(w, r, \"k\", drawstyle=\"steps-mid\")\n",
      "ax[1].set_xlabel(r\"$\\lambda$ [\\AA]\")\n",
      "ax[1].xaxis.set_major_formatter(FSF(\"%.1f\"))\n",
      "ax[1].xaxis.set_major_locator(MultipleLocator(0.5))\n",
      "\n",
      "for a in ax:\n",
      "    a.yaxis.set_major_locator(MaxNLocator(nbins=5, prune='both'))\n",
      "    \n",
      "ax[-1].set_xlim(5258, 5259.9)\n",
      "   \n",
      "    \n",
      "fig.text(0.03, texttop, r\"$f_\\lambda \\quad [\\textrm{erg}\\;\\textrm{cm}^{-2}\\;\\textrm{s}^{-1}\\;\\textrm{\\AA}^{-1}]$\", rotation=\"vertical\")\n",
      "fig.subplots_adjust(**sargs)\n",
      "\n",
      "saveall(fig, \"../../plots/badlines2\")\n",
      "plt.show()"
     ],
     "language": "python",
     "metadata": {},
     "outputs": [],
     "prompt_number": 16
    },
    {
     "cell_type": "code",
     "collapsed": false,
     "input": [
      "ind = (wl23 >= 5260) & (wl23 <= 5269)\n",
      "w = wl23[ind]\n",
      "f = fl23[ind]\n",
      "m = model_fl23[ind]\n",
      "r = f - m\n",
      "\n",
      "fig,ax = plt.subplots(nrows=2, figsize=(3.5, height), sharex=True)\n",
      "\n",
      "ax[0].plot(w, f, \"b\", label=\"data\", drawstyle=\"steps-mid\")\n",
      "ax[0].plot(w, m, \"r\", label=\"model\", drawstyle=\"steps-mid\")\n",
      "\n",
      "ax[1].axhline(0, ls=\":\", color=\"0.5\")\n",
      "ax[1].plot(w, r, \"k\", drawstyle=\"steps-mid\")\n",
      "ax[1].set_xlabel(r\"$\\lambda$ [\\AA]\")\n",
      "ax[1].xaxis.set_major_formatter(FSF(\"%.0f\"))\n",
      "ax[1].xaxis.set_major_locator(MultipleLocator(2))\n",
      "\n",
      "for a in ax:\n",
      "    a.yaxis.set_major_locator(MaxNLocator(nbins=5, prune='both'))\n",
      "    \n",
      "    \n",
      "fig.text(0.03, texttop, r\"$f_\\lambda \\quad [\\textrm{erg}\\;\\textrm{cm}^{-2}\\;\\textrm{s}^{-1}\\;\\textrm{\\AA}^{-1}]$\", rotation=\"vertical\")\n",
      "fig.subplots_adjust(**sargs)\n",
      "\n",
      "saveall(fig, \"../../plots/badlines3\")\n",
      "plt.show()"
     ],
     "language": "python",
     "metadata": {},
     "outputs": [],
     "prompt_number": 17
    },
    {
     "cell_type": "code",
     "collapsed": false,
     "input": [],
     "language": "python",
     "metadata": {},
     "outputs": []
    }
   ],
   "metadata": {}
  }
 ]
}