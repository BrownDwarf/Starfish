{
 "metadata": {
  "name": "",
  "signature": "sha256:6e70b633c64a6d6439dc4f1c57f98e673ce342c7dd4bbffbbac9ed0034455684"
 },
 "nbformat": 3,
 "nbformat_minor": 0,
 "worksheets": [
  {
   "cells": [
    {
     "cell_type": "markdown",
     "metadata": {},
     "source": [
      "I envision this figure much like the previous one, in a 1-column vertical distribution of \n",
      " panels.  At top, you would show the data spectrum at an overlap of two spectral orders, along \n",
      " with the post-processed model with no Chebyshev polynomials applied.  Next, you would show the \n",
      " two Chebyshev polynomials appropriate for the two orders.  And then in the final panel you would \n",
      " revisit the top panel with the polynomials applied, demonstrating the improvement."
     ]
    },
    {
     "cell_type": "code",
     "collapsed": false,
     "input": [
      "import matplotlib\n",
      "import matplotlib.pyplot as plt\n",
      "from matplotlib.ticker import FormatStrFormatter as FSF\n",
      "from matplotlib.ticker import MultipleLocator\n",
      "import numpy as np\n",
      "\n",
      "from StellarSpectra.spectrum import DataSpectrum"
     ],
     "language": "python",
     "metadata": {},
     "outputs": [],
     "prompt_number": 1
    },
    {
     "cell_type": "code",
     "collapsed": false,
     "input": [
      "myDataSpectrum = DataSpectrum.open(\"../../data/WASP14/WASP14-2009-06-14.hdf5\", orders=[22,23])\n",
      "wls = myDataSpectrum.wls\n",
      "fls = myDataSpectrum.fls"
     ],
     "language": "python",
     "metadata": {},
     "outputs": [],
     "prompt_number": 2
    },
    {
     "cell_type": "code",
     "collapsed": false,
     "input": [
      "plt.plot(wls[0], fls[0])\n",
      "plt.plot(wls[1], fls[1])\n",
      "plt.show()"
     ],
     "language": "python",
     "metadata": {},
     "outputs": [],
     "prompt_number": 3
    },
    {
     "cell_type": "code",
     "collapsed": false,
     "input": [
      "from StellarSpectra.model import Model\n",
      "from StellarSpectra.spectrum import DataSpectrum\n",
      "from StellarSpectra.grid_tools import TRES, HDF5Interface\n",
      "\n",
      "\n",
      "myInstrument = TRES()\n",
      "myHDF5Interface = HDF5Interface(\"../../libraries/PHOENIX_TRES_F.hdf5\")\n",
      "\n",
      "myModel = Model.from_json(\"WASP14_model_final.json\", myDataSpectrum, myInstrument, myHDF5Interface)"
     ],
     "language": "python",
     "metadata": {},
     "outputs": [
      {
       "output_type": "stream",
       "stream": "stdout",
       "text": [
        "Determine Chunk Log: Wl is 16384\n",
        "Creating OrderModel 0\n",
        "Creating OrderModel 1\n",
        "params are "
       ]
      },
      {
       "output_type": "stream",
       "stream": "stdout",
       "text": [
        " {'c1': -0.011076790411924121, 'c2': -0.005713282322843295, 'c3': -0.01473318196174655, 'logc0': 0.004324226098714657}\n",
        "params are  {'c1': -0.015907652622619697, 'c2': -0.011629613752802912, 'c3': 0.008158848949356121, 'logc0': 0.0}\n"
       ]
      }
     ],
     "prompt_number": 4
    },
    {
     "cell_type": "code",
     "collapsed": false,
     "input": [
      "model22 = myModel.OrderModels[0]\n",
      "model23 = myModel.OrderModels[1]\n",
      "\n",
      "cheb22 = model22.get_Cheb()\n",
      "cheb23 = model23.get_Cheb()\n",
      "\n",
      "fl22 = model22.get_spectrum()\n",
      "fl23 = model23.get_spectrum()\n",
      "\n",
      "fl22n = fl22/cheb22\n",
      "fl23n = fl23/cheb23"
     ],
     "language": "python",
     "metadata": {},
     "outputs": [],
     "prompt_number": 5
    },
    {
     "cell_type": "markdown",
     "metadata": {},
     "source": [
      "Get a model spectrum with cheb set to 0.0, or just divide by the cheb spectrum"
     ]
    },
    {
     "cell_type": "code",
     "collapsed": false,
     "input": [
      "import matplotlib\n",
      "matplotlib.rc(\"lines\", linewidth=0.75)\n",
      "\n",
      "fig, ax = plt.subplots(nrows=4, figsize=(3.5, 6), sharex=True)\n",
      "\n",
      "#ax[0].plot(wls[0], fl22n, \"r\", lw=0.5)\n",
      "#ax[0].plot(wls[1], fl23n, \"r\", lw=0.5)\n",
      "\n",
      "ax[0].plot(wls[0], fls[0], \"b\")\n",
      "ax[0].plot(wls[1], fls[1], \"g\")\n",
      "ax[0].set_ylabel(\"$\\propto f_\\lambda$\")\n",
      "ax[0].set_ylim(1.8e-13, 2.12e-13)\n",
      "\n",
      "ax[1].plot(wls[0], cheb22, \"b\", label=\"order 23\")\n",
      "ax[1].plot(wls[1], cheb23, \"g\", label=\"order 24\")\n",
      "ax[1].set_ylabel(\"Chebyshev\")\n",
      "ax[1].legend(loc=\"lower center\", prop={'size':10})\n",
      "ax[1].set_ylim(0.95, 1.03)\n",
      "\n",
      "ax[2].plot(wls[0], fls[0]/cheb22, \"b\")\n",
      "ax[2].plot(wls[1], fls[1]/cheb23, \"g\")\n",
      "ax[2].set_ylabel(\"data\")\n",
      "ax[2].set_ylim(1.8e-13, 2.12e-13)\n",
      "\n",
      "ax[3].plot(wls[0], fl22, \"b\")\n",
      "ax[3].plot(wls[1], fl23, \"g\")\n",
      "ax[3].set_ylim(1.8e-13, 2.12e-13)\n",
      "ax[3].set_ylabel(\"model\")\n",
      "\n",
      "ax[-1].set_xlim(5210, 5240)\n",
      "ax[-1].xaxis.set_major_formatter(FSF(\"%.0f\"))\n",
      "ax[-1].xaxis.set_major_locator(MultipleLocator(8.))\n",
      "ax[-1].set_xlabel(r\"$\\lambda$  (\\AA)\")\n",
      "\n",
      "\n",
      "\n",
      "fig.subplots_adjust(left=0.2, top=0.94)\n",
      "fig.savefig(\"../../plots/chebyshev.png\")\n",
      "fig.savefig(\"../../plots/chebyshev.pdf\")\n",
      "fig.savefig(\"../../plots/chebyshev.svg\")\n",
      "\n",
      "plt.show()\n"
     ],
     "language": "python",
     "metadata": {},
     "outputs": []
    },
    {
     "cell_type": "code",
     "collapsed": false,
     "input": [],
     "language": "python",
     "metadata": {},
     "outputs": []
    }
   ],
   "metadata": {}
  }
 ]
}