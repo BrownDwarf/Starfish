{
 "metadata": {
  "name": "",
  "signature": "sha256:2918e2e0b848d7c7afc169b605c54ce9760bbe0088e04495093588ddfd5771fc"
 },
 "nbformat": 3,
 "nbformat_minor": 0,
 "worksheets": [
  {
   "cells": [
    {
     "cell_type": "markdown",
     "metadata": {},
     "source": [
      "I envision this figure much like the previous one, in a 1-column vertical distribution of \n",
      " panels.  At top, you would show the data spectrum at an overlap of two spectral orders, along \n",
      " with the post-processed model with no Chebyshev polynomials applied.  Next, you would show the \n",
      " two Chebyshev polynomials appropriate for the two orders.  And then in the final panel you would \n",
      " revisit the top panel with the polynomials applied, demonstrating the improvement."
     ]
    },
    {
     "cell_type": "code",
     "collapsed": false,
     "input": [
      "import matplotlib\n",
      "import matplotlib.pyplot as plt\n",
      "from matplotlib.ticker import FormatStrFormatter as FSF\n",
      "from matplotlib.ticker import MultipleLocator\n",
      "from matplotlib.ticker import MaxNLocator\n",
      "from StellarSpectra.utils import saveall\n",
      "import numpy as np\n",
      "\n",
      "from StellarSpectra.spectrum import DataSpectrum"
     ],
     "language": "python",
     "metadata": {},
     "outputs": [],
     "prompt_number": 1
    },
    {
     "cell_type": "code",
     "collapsed": false,
     "input": [
      "myDataSpectrum = DataSpectrum.open(\"../../data/WASP14/WASP14-2009-06-14.hdf5\", orders=[22,23])\n",
      "wls = myDataSpectrum.wls\n",
      "fls = myDataSpectrum.fls"
     ],
     "language": "python",
     "metadata": {},
     "outputs": [],
     "prompt_number": 2
    },
    {
     "cell_type": "code",
     "collapsed": false,
     "input": [
      "plt.plot(wls[0], fls[0])\n",
      "plt.plot(wls[1], fls[1])\n",
      "plt.show()"
     ],
     "language": "python",
     "metadata": {},
     "outputs": [],
     "prompt_number": 3
    },
    {
     "cell_type": "code",
     "collapsed": false,
     "input": [
      "from StellarSpectra.model import Model\n",
      "from StellarSpectra.spectrum import DataSpectrum\n",
      "from StellarSpectra.grid_tools import TRES, HDF5Interface\n",
      "\n",
      "\n",
      "myInstrument = TRES()\n",
      "myHDF5Interface = HDF5Interface(\"../../libraries/PHOENIX_TRES_F.hdf5\")\n",
      "\n",
      "myModel = Model.from_json(\"WASP14_model_final.json\", myDataSpectrum, myInstrument, myHDF5Interface)"
     ],
     "language": "python",
     "metadata": {},
     "outputs": [
      {
       "output_type": "stream",
       "stream": "stdout",
       "text": [
        "Determine Chunk Log: Wl is 16384\n",
        "Creating OrderModel 0\n",
        "Creating OrderModel 1\n"
       ]
      }
     ],
     "prompt_number": 3
    },
    {
     "cell_type": "code",
     "collapsed": false,
     "input": [
      "model22 = myModel.OrderModels[0]\n",
      "model23 = myModel.OrderModels[1]\n",
      "\n",
      "cheb22 = model22.get_Cheb()\n",
      "cheb23 = model23.get_Cheb()\n",
      "\n",
      "fl22 = model22.get_spectrum()\n",
      "fl23 = model23.get_spectrum()\n",
      "\n",
      "fl22n = fl22/cheb22\n",
      "fl23n = fl23/cheb23"
     ],
     "language": "python",
     "metadata": {},
     "outputs": [],
     "prompt_number": 4
    },
    {
     "cell_type": "markdown",
     "metadata": {},
     "source": [
      "Get a model spectrum with cheb set to 0.0, or just divide by the cheb spectrum"
     ]
    },
    {
     "cell_type": "code",
     "collapsed": false,
     "input": [
      "import matplotlib\n",
      "matplotlib.rc(\"lines\", linewidth=0.75)\n",
      "\n",
      "fig, ax = plt.subplots(nrows=4, figsize=(3.5, 6), sharex=True)\n",
      "\n",
      "\n",
      "#ax[0].legend(loc=\"lower right\", ncol=2, prop={'size':10})\n",
      "#ax[0].set_ylabel(r\"$f_\\lambda\\, \\times 10^{-13}\\, [\\textrm{erg}\\;\\textrm{cm}^{-2}\\;\\textrm{s}^{-1}\\;\\textrm{\\AA}^{-1}]$\", labelpad=9)\n",
      "\n",
      "ax[0].plot(wls[0], cheb22, \"g\")\n",
      "ax[0].plot(wls[1], cheb23, \"m\")\n",
      "ax[0].yaxis.set_major_formatter(FSF(\"%.2f\"))\n",
      "ax[0].set_ylabel(r\"$\\mathsf{P}$\")\n",
      "\n",
      "ax[1].plot(wls[0], fls[0]*1e13, \"g\", label=\"order 23\")\n",
      "ax[1].plot(wls[1], fls[1]*1e13, \"m\", label=\"order 24\")\n",
      "\n",
      "ax[2].plot(wls[0], fls[0]/cheb22 * 1e13, \"g\")\n",
      "ax[2].plot(wls[1], fls[1]/cheb23 * 1e13, \"m\")\n",
      "\n",
      "ax[3].plot(wls[0], fl22 *1e13, \"g\")\n",
      "ax[3].plot(wls[1], fl23 *1e13, \"m\")\n",
      "\n",
      "for a in ax[1:]:\n",
      "    a.set_ylim(0.5, 2.4)\n",
      "\n",
      "labels = [\"polynomials\", \"raw data\", \"corrected data\", \"distorted model\"]\n",
      "\n",
      "for a, label in zip(ax, labels):\n",
      "    a.annotate(label, (0.97, 0.85), xycoords=\"axes fraction\", ha=\"right\", color=\"0.2\", size=9)\n",
      "    a.yaxis.set_major_locator(MaxNLocator(nbins=6, prune='both'))\n",
      "\n",
      "fig.text(0.03, 0.55, r\"$f_\\lambda\\, \\times 10^{-13}\\,[\\textrm{erg}\\;\\textrm{cm}^{-2}\\;\\textrm{s}^{-1}\\;\\textrm{\\AA}^{-1}]$\", rotation=\"vertical\")\n",
      "\n",
      "ax[-1].set_xlim(5229, 5236)\n",
      "ax[-1].xaxis.set_major_formatter(FSF(\"%.0f\"))\n",
      "ax[-1].xaxis.set_major_locator(MultipleLocator(2.))\n",
      "ax[-1].set_xlabel(r\"$\\lambda$  [\\AA]\")\n",
      "\n",
      "fig.subplots_adjust(left=0.18, top=0.97, hspace=0.07, right=0.82)\n",
      "saveall(fig, \"../../plots/chebyshev\")\n",
      "\n",
      "plt.show()\n"
     ],
     "language": "python",
     "metadata": {},
     "outputs": [],
     "prompt_number": 27
    },
    {
     "cell_type": "code",
     "collapsed": false,
     "input": [],
     "language": "python",
     "metadata": {},
     "outputs": []
    }
   ],
   "metadata": {}
  }
 ]
}