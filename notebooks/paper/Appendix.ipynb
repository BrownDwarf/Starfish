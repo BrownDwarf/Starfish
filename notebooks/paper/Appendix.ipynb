{
 "metadata": {
  "name": "",
  "signature": "sha256:d9ca55c8c7e6e048baa89a1c09f7c9e31a6413a9e7d787f7a71d7334b966a5b7"
 },
 "nbformat": 3,
 "nbformat_minor": 0,
 "worksheets": [
  {
   "cells": [
    {
     "cell_type": "code",
     "collapsed": false,
     "input": [
      "import matplotlib.pyplot as plt\n",
      "import numpy as np\n",
      "from StellarSpectra.grid_tools import HDF5Interface\n",
      "import StellarSpectra.constants as C\n",
      "from StellarSpectra.utils import saveall"
     ],
     "language": "python",
     "metadata": {},
     "outputs": [],
     "prompt_number": 1
    },
    {
     "cell_type": "code",
     "collapsed": false,
     "input": [
      "from matplotlib.ticker import FormatStrFormatter as FSF\n",
      "from matplotlib.ticker import MaxNLocator\n",
      "from matplotlib.ticker import MultipleLocator"
     ],
     "language": "python",
     "metadata": {},
     "outputs": [],
     "prompt_number": 2
    },
    {
     "cell_type": "code",
     "collapsed": false,
     "input": [
      "#interface = HDF5Interface(\"../libraries/PHOENIX_F.hdf5\")\n",
      "interface = HDF5Interface(\"../../libraries/PHOENIX_TRES_F.hdf5\")"
     ],
     "language": "python",
     "metadata": {},
     "outputs": [],
     "prompt_number": 3
    },
    {
     "cell_type": "markdown",
     "metadata": {},
     "source": [
      "## Interpolation errors"
     ]
    },
    {
     "cell_type": "code",
     "collapsed": false,
     "input": [
      "wl_raw = interface.wl\n",
      "#ind = (wl_raw > 5162.01) & (wl_raw < 5162.54) #for hires\n",
      "#ind = (wl_raw > 5161.9) & (wl_raw < 5162.69) #for lowres\n",
      "ind = (wl_raw > 5160.9) & (wl_raw < 5163.3) #for lowres, slightly wider wl range\n",
      "#ind = (wl_raw > 3000) & (wl_raw < 9000) #for statistics\n",
      "#ind = (wl_raw > 5150) & (wl_raw < 5200) #for lowres, all\n",
      "\n",
      "wl_raw = wl_raw[ind]"
     ],
     "language": "python",
     "metadata": {},
     "outputs": [],
     "prompt_number": 4
    },
    {
     "cell_type": "markdown",
     "metadata": {},
     "source": [
      "Fake interpolated spectrum will be T=6000, L=4.0, Z=-0.5"
     ]
    },
    {
     "cell_type": "code",
     "collapsed": false,
     "input": [
      "flt60g40m05 = interface.load_flux({\"temp\":6000,\"logg\":4.0, \"Z\":-0.5, \"alpha\":0.0})[ind]\n",
      "\n",
      "flt59g40m05 = interface.load_flux({\"temp\":5900,\"logg\":4.0, \"Z\":-0.5, \"alpha\":0.0})[ind]\n",
      "flt61g40m05 = interface.load_flux({\"temp\":6100,\"logg\":4.0, \"Z\":-0.5, \"alpha\":0.0})[ind]\n",
      "\n",
      "flt60g45m05 = interface.load_flux({\"temp\":6000,\"logg\":4.5, \"Z\":-0.5, \"alpha\":0.0})[ind]\n",
      "flt60g35m05 = interface.load_flux({\"temp\":6000,\"logg\":3.5, \"Z\":-0.5, \"alpha\":0.0})[ind]\n",
      "\n",
      "flt60g40m00 = interface.load_flux({\"temp\":6000,\"logg\":4.0, \"Z\":0.0, \"alpha\":0.0})[ind]\n",
      "flt60g40m10 = interface.load_flux({\"temp\":6000,\"logg\":4.0, \"Z\":-1.0, \"alpha\":0.0})[ind]"
     ],
     "language": "python",
     "metadata": {},
     "outputs": [],
     "prompt_number": 5
    },
    {
     "cell_type": "code",
     "collapsed": false,
     "input": [
      "spec_temp = (flt61g40m05 + flt59g40m05)/2.\n",
      "spec_logg = (flt60g35m05 + flt60g45m05)/2.\n",
      "spec_Z = (flt60g40m10 + flt60g40m00)/2."
     ],
     "language": "python",
     "metadata": {},
     "outputs": [],
     "prompt_number": 6
    },
    {
     "cell_type": "code",
     "collapsed": false,
     "input": [
      "def get_error(spec):\n",
      "    return (spec - flt60g40m05)/flt60g40m05"
     ],
     "language": "python",
     "metadata": {},
     "outputs": [],
     "prompt_number": 7
    },
    {
     "cell_type": "code",
     "collapsed": false,
     "input": [
      "err_temp = get_error(spec_temp)\n",
      "err_logg = get_error(spec_logg)\n",
      "err_Z = get_error(spec_Z)"
     ],
     "language": "python",
     "metadata": {},
     "outputs": [],
     "prompt_number": 8
    },
    {
     "cell_type": "code",
     "collapsed": false,
     "input": [
      "change_temp = (flt61g40m05 - flt59g40m05)/flt60g40m05\n",
      "change_logg = (flt60g45m05 - flt60g35m05)/flt60g40m05\n",
      "change_Z = (flt60g40m00 - flt60g40m10)/flt60g40m05"
     ],
     "language": "python",
     "metadata": {},
     "outputs": [],
     "prompt_number": 9
    },
    {
     "cell_type": "code",
     "collapsed": false,
     "input": [
      "specs = [spec_temp, spec_logg, spec_Z]\n",
      "errs = [err_temp, err_logg, err_Z]\n",
      "change_spec = [change_temp, change_logg, change_Z]\n",
      "labels = [r\"$T_{\\rm eff}$\", r\"$\\log g$\", r\"[${\\rm Fe}/{\\rm H}$]\"]\n",
      "colors = [\"b\", \"g\", \"r\"]\n",
      "\n",
      "fig, ax = plt.subplots(nrows=2, ncols=3, figsize=(6.5, 4.0), sharex=True)\n",
      "\n",
      "aa = ax[0] #row 0, all cols\n",
      "bb = ax[1] #row 1, all cols\n",
      "\n",
      "for a in aa:\n",
      "    a.plot(wl_raw, flt60g40m05*1e-7, \"k\", label=\"True\")\n",
      "\n",
      "for a,spec,color,label in zip(aa, specs, colors, labels):\n",
      "    a.plot(wl_raw, spec*1e-7, color=color, label=label)\n",
      "    \n",
      "for a,label,color in zip(aa, labels, colors):\n",
      "    a.annotate(label, (0.1, 0.1), xycoords=\"axes fraction\", ha=\"left\", color=color, size=9)\n",
      "\n",
      "aa[0].annotate(\"True\", (0.1, 0.2), xycoords=\"axes fraction\", ha=\"left\", color=\"k\", size=9)\n",
      "    \n",
      "#ax[0].legend(loc=\"lower left\", prop={'size':8})\n",
      "\n",
      "for b,change,color in zip(bb, change_spec, colors):\n",
      "    env = 100*np.abs(change)\n",
      "    b.fill_between(wl_raw, -env, env, color=color, alpha=0.2)\n",
      "    b.axhline(0, color=\"k\", ls=\":\")\n",
      "        \n",
      "for b,err,color in zip(bb, errs, colors):\n",
      "    b.plot(wl_raw, 100*err, color=color)\n",
      "        \n",
      "scale = 200*np.max(np.abs(err_Z))\n",
      "\n",
      "ax[0,0].set_xlim(wl_raw[0], wl_raw[-1])\n",
      "ax[0,0].set_ylabel(r\"$f_\\lambda\\, \\times 10^{7}\\, [\\textrm{erg}\\;\\textrm{cm}^{-2}\\;\\textrm{s}^{-1}\\;\\textrm{\\AA}^{-1}]$\")\n",
      "ax[1,0].set_ylabel(r\"$e_\\lambda / f_\\lambda \\quad$\" + \"[\\%]\")\n",
      "\n",
      "for a in aa:\n",
      "    a.set_ylim(0.4, 1.0)\n",
      "    \n",
      "for a in aa[1:]:\n",
      "    a.yaxis.set_ticklabels([])\n",
      "\n",
      "for b in bb:\n",
      "    b.set_ylim(-5.5, 5.5)\n",
      "    b.xaxis.set_major_formatter(FSF(\"%.0f\"))\n",
      "    b.xaxis.set_major_locator(MultipleLocator(1.))\n",
      "    \n",
      "for b in bb[1:]:\n",
      "    b.yaxis.set_ticklabels([])\n",
      "    \n",
      "fig.text(0.48, 0.02, r\"$\\lambda$ [\\AA]\")\n",
      "fig.subplots_adjust(left=0.1, right=0.9, hspace=0.1, wspace=0.1, top=0.95, bottom=0.12)\n",
      "saveall(fig, \"../../plots/interp_errors\")\n",
      "\n",
      "plt.show()"
     ],
     "language": "python",
     "metadata": {},
     "outputs": [],
     "prompt_number": 35
    },
    {
     "cell_type": "markdown",
     "metadata": {},
     "source": [
      "In contrast, what is the actual change in 100K, 0.5 dex surface gravity or metallicity?"
     ]
    },
    {
     "cell_type": "code",
     "collapsed": false,
     "input": [
      "\n",
      "for change in change_spec:\n",
      "    plt.plot(wl_raw, 100*change)\n",
      "    \n",
      "plt.show()"
     ],
     "language": "python",
     "metadata": {},
     "outputs": [],
     "prompt_number": 33
    },
    {
     "cell_type": "markdown",
     "metadata": {},
     "source": [
      "## Other interpolation work"
     ]
    },
    {
     "cell_type": "code",
     "collapsed": true,
     "input": [
      "#errspec = interface.get_error_spectrum({\"temp\":6000,\"logg\":4.5, \"Z\":-0.5, \"alpha\":0.0}, axis=\"temp\")[ind]\n",
      "errspec1 = interface.get_error_spectrum({\"temp\":5900,\"logg\":3.5, \"Z\":-1.0, \"alpha\":0.0}, axis=\"temp\")[ind]\n",
      "errspec2 = interface.get_error_spectrum({\"temp\":5900,\"logg\":3.5, \"Z\":0.0, \"alpha\":0.0}, axis=\"temp\")[ind] \n",
      "errspec3 = interface.get_error_spectrum({\"temp\":5900,\"logg\":4.5, \"Z\":-1.0, \"alpha\":0.0}, axis=\"temp\")[ind] \n",
      "errspec4 = interface.get_error_spectrum({\"temp\":5900,\"logg\":4.5, \"Z\":0.0, \"alpha\":0.0}, axis=\"temp\")[ind] \n",
      "\n",
      "errspec5 = interface.get_error_spectrum({\"temp\":6100,\"logg\":3.5, \"Z\":-1.0, \"alpha\":0.0}, axis=\"temp\")[ind]\n",
      "errspec6 = interface.get_error_spectrum({\"temp\":6100,\"logg\":3.5, \"Z\":0.0, \"alpha\":0.0}, axis=\"temp\")[ind] \n",
      "errspec7 = interface.get_error_spectrum({\"temp\":6100,\"logg\":4.5, \"Z\":-1.0, \"alpha\":0.0}, axis=\"temp\")[ind] \n",
      "errspec8 = interface.get_error_spectrum({\"temp\":6100,\"logg\":4.5, \"Z\":0.0, \"alpha\":0.0}, axis=\"temp\")[ind] "
     ],
     "language": "python",
     "metadata": {},
     "outputs": [
      {
       "output_type": "stream",
       "stream": "stdout",
       "text": [
        "loading {'logg': 3.5, 'alpha': 0.0, 'temp': 5900, 'Z': -1.0}\n",
        "[5000 5100 5200 5300 5400 5500 5600 5700 5800 5900 6000 6100 6200 6300 6400\n",
        " 6500 6600 6700]\n",
        "loading {'logg': 3.5, 'alpha': 0.0, 'temp': 5800, 'Z': -1.0}\n",
        "loading {'logg': 3.5, 'alpha': 0.0, 'temp': 6000, 'Z': -1.0}\n",
        "loading {'logg': 3.5, 'alpha': 0.0, 'temp': 5900, 'Z': 0.0}\n",
        "[5000 5100 5200 5300 5400 5500 5600 5700 5800 5900 6000 6100 6200 6300 6400\n",
        " 6500 6600 6700]"
       ]
      },
      {
       "output_type": "stream",
       "stream": "stdout",
       "text": [
        "\n",
        "loading {'logg': 3.5, 'alpha': 0.0, 'temp': 5800, 'Z': 0.0}\n",
        "loading {'logg': 3.5, 'alpha': 0.0, 'temp': 6000, 'Z': 0.0}\n",
        "loading {'logg': 4.5, 'alpha': 0.0, 'temp': 5900, 'Z': -1.0}\n",
        "[5000 5100 5200 5300 5400 5500 5600 5700 5800 5900 6000 6100 6200 6300 6400\n",
        " 6500 6600 6700]\n",
        "loading {'logg': 4.5, 'alpha': 0.0, 'temp': 5800, 'Z': -1.0}\n",
        "loading {'logg': 4.5, 'alpha': 0.0, 'temp': 6000, 'Z': -1.0}"
       ]
      },
      {
       "output_type": "stream",
       "stream": "stdout",
       "text": [
        "\n",
        "loading {'logg': 4.5, 'alpha': 0.0, 'temp': 5900, 'Z': 0.0}\n",
        "[5000 5100 5200 5300 5400 5500 5600 5700 5800 5900 6000 6100 6200 6300 6400\n",
        " 6500 6600 6700]\n",
        "loading {'logg': 4.5, 'alpha': 0.0, 'temp': 5800, 'Z': 0.0}\n",
        "loading {'logg': 4.5, 'alpha': 0.0, 'temp': 6000, 'Z': 0.0}\n",
        "loading {'logg': 3.5, 'alpha': 0.0, 'temp': 6100, 'Z': -1.0}"
       ]
      },
      {
       "output_type": "stream",
       "stream": "stdout",
       "text": [
        "\n",
        "[5000 5100 5200 5300 5400 5500 5600 5700 5800 5900 6000 6100 6200 6300 6400\n",
        " 6500 6600 6700]\n",
        "loading {'logg': 3.5, 'alpha': 0.0, 'temp': 6000, 'Z': -1.0}\n",
        "loading {'logg': 3.5, 'alpha': 0.0, 'temp': 6200, 'Z': -1.0}\n",
        "loading {'logg': 3.5, 'alpha': 0.0, 'temp': 6100, 'Z': 0.0}\n",
        "[5000 5100 5200 5300 5400 5500 5600 5700 5800 5900 6000 6100 6200 6300 6400\n",
        " 6500 6600 6700]"
       ]
      },
      {
       "output_type": "stream",
       "stream": "stdout",
       "text": [
        "\n",
        "loading {'logg': 3.5, 'alpha': 0.0, 'temp': 6000, 'Z': 0.0}\n",
        "loading {'logg': 3.5, 'alpha': 0.0, 'temp': 6200, 'Z': 0.0}\n",
        "loading {'logg': 4.5, 'alpha': 0.0, 'temp': 6100, 'Z': -1.0}\n",
        "[5000 5100 5200 5300 5400 5500 5600 5700 5800 5900 6000 6100 6200 6300 6400\n",
        " 6500 6600 6700]\n",
        "loading {'logg': 4.5, 'alpha': 0.0, 'temp': 6000, 'Z': -1.0}\n",
        "loading {'logg': 4.5, 'alpha': 0.0, 'temp': 6200, 'Z': -1.0}"
       ]
      },
      {
       "output_type": "stream",
       "stream": "stdout",
       "text": [
        "\n",
        "loading {'logg': 4.5, 'alpha': 0.0, 'temp': 6100, 'Z': 0.0}\n",
        "[5000 5100 5200 5300 5400 5500 5600 5700 5800 5900 6000 6100 6200 6300 6400\n",
        " 6500 6600 6700]\n",
        "loading {'logg': 4.5, 'alpha': 0.0, 'temp': 6000, 'Z': 0.0}\n",
        "loading {'logg': 4.5, 'alpha': 0.0, 'temp': 6200, 'Z': 0.0}"
       ]
      },
      {
       "output_type": "stream",
       "stream": "stdout",
       "text": [
        "\n"
       ]
      }
     ],
     "prompt_number": 5
    },
    {
     "cell_type": "code",
     "collapsed": false,
     "input": [
      "#estimate the covariance between these\n",
      "errspec = np.array([errspec1, errspec2, errspec3, errspec4, errspec5, errspec6, errspec7, errspec8])\n",
      "#cov_mat = np.cov(errspec,rowvar=0)\n",
      "cov_mat = np.dot(errspec.T, errspec)/8.\n",
      "plt.imshow(cov_mat, origin=\"upper\", interpolation=\"none\")\n",
      "plt.show()"
     ],
     "language": "python",
     "metadata": {},
     "outputs": [],
     "prompt_number": 6
    },
    {
     "cell_type": "code",
     "collapsed": false,
     "input": [
      "def force_to_zero(mat, dist=10):\n",
      "    '''\n",
      "    If a row and column are greater than 10 apart, set to 0.\n",
      "    '''\n",
      "    nmat = mat.copy()\n",
      "    nrows, ncols = nmat.shape\n",
      "    for i in range(nrows):\n",
      "        for j in range(ncols):\n",
      "            if np.abs(i - j) > dist:\n",
      "                nmat[i,j] = 0.0\n",
      "    return nmat\n",
      "    "
     ],
     "language": "python",
     "metadata": {},
     "outputs": [],
     "prompt_number": 10
    },
    {
     "cell_type": "code",
     "collapsed": false,
     "input": [
      "mat2 = force_to_zero(cov_mat, dist=50)"
     ],
     "language": "python",
     "metadata": {},
     "outputs": [],
     "prompt_number": 35
    },
    {
     "cell_type": "code",
     "collapsed": false,
     "input": [
      "plt.imshow(mat2, origin=\"upper\", interpolation=\"none\")\n",
      "plt.show()"
     ],
     "language": "python",
     "metadata": {},
     "outputs": [],
     "prompt_number": 36
    },
    {
     "cell_type": "code",
     "collapsed": false,
     "input": [
      "draws = [np.random.multivariate_normal(np.zeros_like(wl_raw), cov_mat) for i in range(25)]"
     ],
     "language": "python",
     "metadata": {},
     "outputs": [],
     "prompt_number": 20
    },
    {
     "cell_type": "code",
     "collapsed": false,
     "input": [
      "draws2 = [np.random.multivariate_normal(np.zeros_like(wl_raw), mat2) for i in range(2)]"
     ],
     "language": "python",
     "metadata": {},
     "outputs": [],
     "prompt_number": 37
    },
    {
     "cell_type": "code",
     "collapsed": false,
     "input": [
      "for draw in draws2:\n",
      "    plt.plot(wl_raw, draw, lw=0.3)\n",
      "    \n",
      "for spec in errspec:\n",
      "    plt.plot(wl_raw, spec)\n",
      "\n",
      "plt.show()"
     ],
     "language": "python",
     "metadata": {},
     "outputs": [],
     "prompt_number": 38
    },
    {
     "cell_type": "code",
     "collapsed": true,
     "input": [
      "#Over metallicity \n",
      "flt61g45m05_int = (flt61g45m10 + flt61g45p00)/2\n",
      "flt61g35m05_int = (flt61g35m10 + flt61g35p00)/2\n",
      "\n",
      "flt59g45m05_int = (flt59g45m10 + flt59g45p00)/2\n",
      "flt59g35m05_int = (flt59g35m10 + flt59g35p00)/2\n",
      "\n",
      "#Plot all of these to see what they look like\n",
      "errspecm0 = (flt61g45m05 - flt61g45m05_int)/flt61g45m05\n",
      "errspecm1 = (flt61g35m05 - flt61g35m05_int)/flt61g35m05\n",
      "errspecm2 = (flt59g45m05 - flt59g45m05_int)/flt59g45m05\n",
      "errspecm3 = (flt59g35m05 - flt59g35m05_int)/flt59g35m05\n",
      "errspecm = (errspecm0 + errspecm1 + errspecm2 + errspecm3)/4"
     ],
     "language": "python",
     "metadata": {},
     "outputs": [],
     "prompt_number": 8
    },
    {
     "cell_type": "code",
     "collapsed": false,
     "input": [
      "fig = plt.figure(figsize=(8,8))\n",
      "ax = fig.add_subplot(111)\n",
      "\n",
      "errspecs = [errspecm0, errspecm1, errspecm2, errspecm3, errspecm]\n",
      "labels = [\"0\", \"1\", \"2\", \"3\", \"avg\"]\n",
      "for errspec, label in zip(errspecs, labels):\n",
      "    ax.plot(wl_raw, errspec*100, label=label)\n",
      "ax.legend()\n",
      "plt.show()"
     ],
     "language": "python",
     "metadata": {},
     "outputs": [],
     "prompt_number": 9
    },
    {
     "cell_type": "code",
     "collapsed": false,
     "input": [
      "fig, ax = plt.subplots(nrows=2, figsize=(8,8), sharex=True)\n",
      "\n",
      "colors = [\"b\", \"c\", \"r\", \"k\"]\n",
      "#labels = [\"0.0\", \"-0.5\", \"-1.0\", \"-0.5 int\"]\n",
      "labels = [\"-1.0\", \"-0.5\", \"0.0\", \"0.0 int\"]\n",
      "\n",
      "fls = [flt60g45m10, flt60g45m05, flt60g45p00, flt60g45m05_int]\n",
      "\n",
      "for fl, color, label in zip(fls, colors, labels):\n",
      "    ax[0].plot(wl_raw, fl/fl[0], \"o\", color=color, label=label)\n",
      "    \n",
      "for wl in wl_raw:\n",
      "    ax[0].axvline(wl, color=\"0.2\", lw=0.1)\n",
      "    \n",
      "ax[0].legend(loc=\"lower right\")\n",
      "\n",
      "ax[1].axhline(0.0, color=\"0.2\")    \n",
      "ax[1].plot(wl_raw, errspec*100, \"k-\")        \n",
      "ax[1].plot(wl_raw, errspec*100, \"ko\")    \n",
      "ax[-1].set_xlim(wl_raw[0], wl_raw[-1])\n",
      "ax[1].set_ylabel(\"Error [\\%]\")\n",
      "ax[1].xaxis.set_major_formatter(FSF(\"%.0f\"))\n",
      "ax[-1].set_xlabel(r\"$\\lambda$ [\\AA]\")\n",
      "\n",
      "fig.savefig(\"../plots/interp_tests/metallicity.png\")\n",
      "    \n",
      "plt.show()"
     ],
     "language": "python",
     "metadata": {},
     "outputs": [],
     "prompt_number": 89
    },
    {
     "cell_type": "markdown",
     "metadata": {},
     "source": [
      "# Estimating covariance matrix"
     ]
    },
    {
     "cell_type": "code",
     "collapsed": false,
     "input": [
      "from StellarSpectra.model import Model\n",
      "from StellarSpectra.spectrum import DataSpectrum\n",
      "from StellarSpectra.grid_tools import TRES, HDF5Interface\n",
      "import scipy.sparse as sp\n",
      "import matplotlib\n",
      "\n",
      "myDataSpectrum = DataSpectrum.open(\"../../data/WASP14/WASP14-2009-06-14.hdf5\", orders=np.array([22]))\n",
      "myInstrument = TRES()\n",
      "myHDF5Interface = HDF5Interface(\"../../libraries/PHOENIX_TRES_F.hdf5\")\n",
      "myErrorHDF5Interface = HDF5Interface(\"../../libraries/PHOENIX_TRES_F.hdf5\")"
     ],
     "language": "python",
     "metadata": {},
     "outputs": [],
     "prompt_number": 3
    },
    {
     "cell_type": "code",
     "collapsed": false,
     "input": [
      "#Load a model using the JSON file\n",
      "myModel = Model.from_json(\"../WASP14_22_model_final_region.json\", myDataSpectrum, myInstrument, \n",
      "                          myHDF5Interface, myErrorHDF5Interface)\n",
      "myOrderModel = myModel.OrderModels[0]\n",
      "spec = myModel.get_data()\n",
      "\n",
      "wl = spec.wls[0]\n",
      "fl = spec.fls[0]\n",
      "sigma = spec.sigmas[0]\n",
      "\n",
      "model_fl = myOrderModel.get_spectrum()\n",
      "\n",
      "residuals = fl - model_fl\n",
      "cheb = myOrderModel.get_Cheb()"
     ],
     "language": "python",
     "metadata": {},
     "outputs": [
      {
       "output_type": "stream",
       "stream": "stdout",
       "text": [
        "Determine Chunk Log: Wl is 8192\n",
        "Determine Chunk Log: Wl is 8192\n",
        "Creating OrderModel 0\n",
        "creating region "
       ]
      },
      {
       "output_type": "stream",
       "stream": "stderr",
       "text": [
        "INFO:RegionCovarianceMatrix 5188.770929306509:Created region\n"
       ]
      },
      {
       "output_type": "stream",
       "stream": "stderr",
       "text": [
        "INFO:CovarianceMatrix:Added region 0 to self.RegionList\n"
       ]
      },
      {
       "output_type": "stream",
       "stream": "stderr",
       "text": [
        "INFO:RegionCovarianceMatrix 5151.8534158849325:Created region\n"
       ]
      },
      {
       "output_type": "stream",
       "stream": "stderr",
       "text": [
        "INFO:CovarianceMatrix:Added region 1 to self.RegionList\n"
       ]
      },
      {
       "output_type": "stream",
       "stream": "stdout",
       "text": [
        " 0 0 {'loga': -13.37, 'mu': 5188.770929306509, 'sigma': 5.791308092494482}\n",
        "creating region  1 1 {'loga': -13.5808223554479, 'mu': 5151.8534158849325, 'sigma': 6.15871514303948}\n",
        "creating region "
       ]
      },
      {
       "output_type": "stream",
       "stream": "stderr",
       "text": [
        "INFO:RegionCovarianceMatrix 5142.815880890552:Created region\n"
       ]
      },
      {
       "output_type": "stream",
       "stream": "stderr",
       "text": [
        "INFO:CovarianceMatrix:Added region 2 to self.RegionList\n"
       ]
      },
      {
       "output_type": "stream",
       "stream": "stderr",
       "text": [
        "INFO:RegionCovarianceMatrix 5202.25:Created region\n"
       ]
      },
      {
       "output_type": "stream",
       "stream": "stderr",
       "text": [
        "INFO:CovarianceMatrix:Added region 3 to self.RegionList\n"
       ]
      },
      {
       "output_type": "stream",
       "stream": "stdout",
       "text": [
        " 2 2 {'loga': -13.3838163621313, 'mu': 5142.815880890552, 'sigma': 7.06720494996769}\n",
        "creating region  3 3 {'loga': -13.76715539113124, 'mu': 5202.25, 'sigma': 7.45407308669212}\n",
        "creating region "
       ]
      },
      {
       "output_type": "stream",
       "stream": "stderr",
       "text": [
        "INFO:RegionCovarianceMatrix 5150.756876675764:Created region\n"
       ]
      },
      {
       "output_type": "stream",
       "stream": "stderr",
       "text": [
        "INFO:CovarianceMatrix:Added region 4 to self.RegionList\n"
       ]
      },
      {
       "output_type": "stream",
       "stream": "stderr",
       "text": [
        "INFO:RegionCovarianceMatrix 5169.085875719616:Created region\n"
       ]
      },
      {
       "output_type": "stream",
       "stream": "stderr",
       "text": [
        "INFO:CovarianceMatrix:Added region 5 to self.RegionList\n"
       ]
      },
      {
       "output_type": "stream",
       "stream": "stdout",
       "text": [
        " 4 4 {'loga': -13.6401160847057, 'mu': 5150.756876675764, 'sigma': 6.67512440281796}\n",
        "creating region  5 5 {'loga': -13.70345669164504, 'mu': 5169.085875719616, 'sigma': 6.47569815031727}\n",
        "creating region "
       ]
      },
      {
       "output_type": "stream",
       "stream": "stderr",
       "text": [
        "INFO:RegionCovarianceMatrix 5198.620012768345:Created region\n"
       ]
      },
      {
       "output_type": "stream",
       "stream": "stderr",
       "text": [
        "INFO:CovarianceMatrix:Added region 6 to self.RegionList\n"
       ]
      },
      {
       "output_type": "stream",
       "stream": "stderr",
       "text": [
        "INFO:RegionCovarianceMatrix 5170.68:Created region\n"
       ]
      },
      {
       "output_type": "stream",
       "stream": "stderr",
       "text": [
        "INFO:CovarianceMatrix:Added region 7 to self.RegionList\n"
       ]
      },
      {
       "output_type": "stream",
       "stream": "stdout",
       "text": [
        " 6 6 {'loga': -13.74756678556008, 'mu': 5198.620012768345, 'sigma': 5.481296828425}\n",
        "creating region  7 7 {'loga': -13.756, 'mu': 5170.68, 'sigma': 5.07}\n",
        "creating region "
       ]
      },
      {
       "output_type": "stream",
       "stream": "stderr",
       "text": [
        "INFO:RegionCovarianceMatrix 5235.3:Created region\n"
       ]
      },
      {
       "output_type": "stream",
       "stream": "stderr",
       "text": [
        "INFO:CovarianceMatrix:Added region 8 to self.RegionList\n"
       ]
      },
      {
       "output_type": "stream",
       "stream": "stdout",
       "text": [
        " 8 8 {'loga': -13.41, 'mu': 5235.3, 'sigma': 4.822}\n",
        "creating region "
       ]
      },
      {
       "output_type": "stream",
       "stream": "stderr",
       "text": [
        "INFO:RegionCovarianceMatrix 5187.8:Created region\n"
       ]
      },
      {
       "output_type": "stream",
       "stream": "stderr",
       "text": [
        "INFO:CovarianceMatrix:Added region 9 to self.RegionList\n"
       ]
      },
      {
       "output_type": "stream",
       "stream": "stderr",
       "text": [
        "INFO:RegionCovarianceMatrix 5234.57:Created region\n"
       ]
      },
      {
       "output_type": "stream",
       "stream": "stderr",
       "text": [
        "INFO:CovarianceMatrix:Added region 10 to self.RegionList\n"
       ]
      },
      {
       "output_type": "stream",
       "stream": "stdout",
       "text": [
        " 9 9 {'loga': -13.705, 'mu': 5187.8, 'sigma': 5.309}\n",
        "creating region  10 10 {'loga': -13.74756678556008, 'mu': 5234.57, 'sigma': 5.492}\n"
       ]
      }
     ],
     "prompt_number": 4
    },
    {
     "cell_type": "code",
     "collapsed": false,
     "input": [
      "params = {'vz': -4.8456827988388413, 'logOmega': -19.658942686778765, 'vsini': 5.0328046854058668, \n",
      "          'temp': 6220., 'logg': 4.2, 'Z': -0.4}\n",
      "myModel.update_Model(params)"
     ],
     "language": "python",
     "metadata": {},
     "outputs": [],
     "prompt_number": 5
    },
    {
     "cell_type": "code",
     "collapsed": false,
     "input": [
      "cov = np.asarray(myModel.OrderModels[0].get_Cov_interp().todense())"
     ],
     "language": "python",
     "metadata": {},
     "outputs": [],
     "prompt_number": 6
    },
    {
     "cell_type": "code",
     "collapsed": false,
     "input": [
      "ind2 = (wl > 5160.9) & (wl < 5163.3) \n",
      "wlt = wl[ind2]"
     ],
     "language": "python",
     "metadata": {},
     "outputs": [],
     "prompt_number": 7
    },
    {
     "cell_type": "code",
     "collapsed": false,
     "input": [
      "start = np.argwhere(ind2 == True)[0][0]\n",
      "end = np.argwhere(ind2 == True)[-1][0]"
     ],
     "language": "python",
     "metadata": {},
     "outputs": [],
     "prompt_number": 8
    },
    {
     "cell_type": "code",
     "collapsed": false,
     "input": [
      "covt = cov[start:end, start:end]"
     ],
     "language": "python",
     "metadata": {},
     "outputs": [],
     "prompt_number": 9
    },
    {
     "cell_type": "code",
     "collapsed": false,
     "input": [
      "#norm = matplotlib.colors.Normalize(vmin=-31, vmax=-27.5, clip=True)\n",
      "#norm = matplotlib.colors.Normalize(vmin=-6.9981851210520075e-32, vmax=1.9066636993100171e-30, clip=True)\n",
      "scale = np.max(np.abs(covt))\n",
      "norm = matplotlib.colors.SymLogNorm(7e-32, vmin=-scale, vmax=scale)\n",
      "#vmin=-31, vmax=-27.5"
     ],
     "language": "python",
     "metadata": {},
     "outputs": [],
     "prompt_number": 35
    },
    {
     "cell_type": "code",
     "collapsed": false,
     "input": [
      "def plot_matrix(wl, cov, title=False, axl=False):\n",
      "    '''\n",
      "    Construct the plot!\n",
      "    '''\n",
      "    fig = plt.figure(figsize=(2.95,2.35))\n",
      "    ax = fig.add_subplot(111)\n",
      "    \n",
      "    left, right = wl[0], wl[-1]\n",
      "    \n",
      "    \n",
      "    #cmap=plt.cm.Blues,\n",
      "    img = ax.imshow(cov, interpolation=\"none\", origin=\"upper\", extent=[left, right, right, left], \n",
      "                    norm=norm, cmap=plt.cm.RdBu)\n",
      "    \n",
      "    ax.xaxis.set_major_formatter(FSF(\"%.0f\"))\n",
      "    ax.xaxis.set_major_locator(MultipleLocator(1.))\n",
      "\n",
      "    ax.yaxis.set_major_formatter(FSF(\"%.0f\"))\n",
      "    ax.yaxis.set_major_locator(MultipleLocator(1.))\n",
      "\n",
      "    if axl:\n",
      "        ax.set_xlabel(r\"$\\lambda$ [\\AA]\")\n",
      "        ax.set_ylabel(r\"$\\lambda$ [\\AA]\")\n",
      "        \n",
      "    else:\n",
      "        ax.xaxis.set_ticklabels([])\n",
      "        ax.yaxis.set_ticklabels([])\n",
      "    \n",
      "    if title:\n",
      "        cax = fig.add_axes([0.82, 0.22, 0.03, 0.65])\n",
      "        cb = fig.colorbar(img, cax=cax)\n",
      "        cb.set_ticks(matplotlib.ticker.FixedLocator([-1e-30, -1e-31, 0, 1e-31, 1e-30]))\n",
      "        \n",
      "        #fig.text(0.25, 0.91, \n",
      "        #         r\"$\\mathsf{C}_{ij}^\\textrm{int}\\,[\\textrm{erg}^2\\;\\textrm{cm}^{-4}\\;\\textrm{s}^{-2}\\;\\textrm{\\AA}^{-2}]$\")\n",
      "\n",
      "    #img.set_clim(-6.9981851210520075e-32, 1.9066636993100171e-30)\n",
      "    fig.subplots_adjust(left=0.2, bottom=0.12, top=0.95, right=0.79)\n",
      "    \n",
      "    return fig,ax"
     ],
     "language": "python",
     "metadata": {},
     "outputs": [],
     "prompt_number": 57
    },
    {
     "cell_type": "code",
     "collapsed": false,
     "input": [
      "fig, ax = plot_matrix(wlt, covt, title=True, axl=True)\n",
      "ax.annotate(r\"$\\mathcal{K}^{\\rm int}$\", (5163.08, 5161.3), ha=\"right\", size=9)\n",
      "saveall(fig, \"../../plots/interp_matrix\")\n",
      "plt.show()"
     ],
     "language": "python",
     "metadata": {},
     "outputs": [],
     "prompt_number": 58
    },
    {
     "cell_type": "code",
     "collapsed": false,
     "input": [],
     "language": "python",
     "metadata": {},
     "outputs": []
    }
   ],
   "metadata": {}
  }
 ]
}