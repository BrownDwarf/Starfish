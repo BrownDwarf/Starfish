{
 "metadata": {
  "name": "",
  "signature": "sha256:0055556c6072fe7fd08cb77f7e188331b1479b44b9feb31712259cba289c775a"
 },
 "nbformat": 3,
 "nbformat_minor": 0,
 "worksheets": [
  {
   "cells": [
    {
     "cell_type": "markdown",
     "metadata": {},
     "source": [
      "What is the error introduced from resampling the PCA spectra before reconstruction? Technically this is a non-linear operation. Turns out it's less than 0.2% across the entire spectrum for WASP-14. It becomes even less when the sampling rate is higher (ie, for broad lines)."
     ]
    },
    {
     "cell_type": "code",
     "collapsed": false,
     "input": [
      "from Starfish.emulator import PCAGrid\n",
      "from Starfish.spectrum import DataSpectrum\n",
      "from scipy.interpolate import InterpolatedUnivariateSpline\n",
      "import matplotlib.pyplot as plt\n",
      "import numpy as np"
     ],
     "language": "python",
     "metadata": {},
     "outputs": [],
     "prompt_number": 36
    },
    {
     "cell_type": "code",
     "collapsed": false,
     "input": [
      "pca = PCAGrid.open(\"../libraries/PHOENIX_TRES_F_PCA.hdf5\")"
     ],
     "language": "python",
     "metadata": {},
     "outputs": [],
     "prompt_number": 2
    },
    {
     "cell_type": "code",
     "collapsed": false,
     "input": [
      "pca.pcomps.shape"
     ],
     "language": "python",
     "metadata": {},
     "outputs": [
      {
       "metadata": {},
       "output_type": "pyout",
       "prompt_number": 4,
       "text": [
        "(40, 32768)"
       ]
      }
     ],
     "prompt_number": 4
    },
    {
     "cell_type": "code",
     "collapsed": false,
     "input": [
      "#Find the weights for a given spectrum\n",
      "pca.w.shape"
     ],
     "language": "python",
     "metadata": {},
     "outputs": [
      {
       "metadata": {},
       "output_type": "pyout",
       "prompt_number": 6,
       "text": [
        "(40, 220)"
       ]
      }
     ],
     "prompt_number": 6
    },
    {
     "cell_type": "code",
     "collapsed": false,
     "input": [
      "param = pca.gparams[114]\n",
      "w = pca.w[:,114]\n",
      "wl = pca.wl"
     ],
     "language": "python",
     "metadata": {},
     "outputs": [],
     "prompt_number": 24
    },
    {
     "cell_type": "code",
     "collapsed": false,
     "input": [
      "recons = pca.reconstruct(w)"
     ],
     "language": "python",
     "metadata": {},
     "outputs": [],
     "prompt_number": 23
    },
    {
     "cell_type": "code",
     "collapsed": false,
     "input": [
      "plt.plot(wl, recons)\n",
      "plt.show()"
     ],
     "language": "python",
     "metadata": {},
     "outputs": [],
     "prompt_number": 27
    },
    {
     "cell_type": "code",
     "collapsed": false,
     "input": [
      "#Read in the data spectrum\n",
      "myDataSpectrum = DataSpectrum.open(\"../data/WASP14/WASP14-2009-06-14.hdf5\", orders=[22])\n",
      "wl_data = myDataSpectrum.wls[0]"
     ],
     "language": "python",
     "metadata": {},
     "outputs": [],
     "prompt_number": 35
    },
    {
     "cell_type": "code",
     "collapsed": false,
     "input": [
      "#Resample recons to wl_data\n",
      "interp = InterpolatedUnivariateSpline(wl, recons, k=5)\n",
      "recons_samp = interp(wl_data)"
     ],
     "language": "python",
     "metadata": {},
     "outputs": [],
     "prompt_number": 37
    },
    {
     "cell_type": "code",
     "collapsed": false,
     "input": [
      "plt.plot(wl_data, recons_samp)\n",
      "plt.show()"
     ],
     "language": "python",
     "metadata": {},
     "outputs": [],
     "prompt_number": 38
    },
    {
     "cell_type": "code",
     "collapsed": false,
     "input": [
      "#Take the output from the FFT operation (pcomps_full), and stuff them into respective data products\n",
      "pcomps = np.empty((pca.pcomps.shape[0], len(wl_data)))\n",
      "for lres, hres in zip(pcomps, pca.pcomps):\n",
      "    interp = InterpolatedUnivariateSpline(wl, hres, k=5)\n",
      "    lres[:] = interp(wl_data)\n",
      "    del interp\n",
      "\n",
      "#gc.collect()\n",
      "interp = InterpolatedUnivariateSpline(wl, pca.flux_mean, k=5)\n",
      "flux_mean_presamp = interp(wl_data)\n",
      "\n",
      "interp = InterpolatedUnivariateSpline(wl, pca.flux_std, k=5)\n",
      "flux_std_presamp = interp(wl_data)"
     ],
     "language": "python",
     "metadata": {},
     "outputs": [],
     "prompt_number": 48
    },
    {
     "cell_type": "code",
     "collapsed": false,
     "input": [
      "recons_presamp = pcomps.T.dot(w[:,np.newaxis])[:,0] * flux_std_presamp + flux_mean_presamp"
     ],
     "language": "python",
     "metadata": {},
     "outputs": [],
     "prompt_number": 55
    },
    {
     "cell_type": "code",
     "collapsed": false,
     "input": [
      "recons_presamp.shape"
     ],
     "language": "python",
     "metadata": {},
     "outputs": [
      {
       "metadata": {},
       "output_type": "pyout",
       "prompt_number": 56,
       "text": [
        "(2298,)"
       ]
      }
     ],
     "prompt_number": 56
    },
    {
     "cell_type": "code",
     "collapsed": true,
     "input": [
      "fig, ax = plt.subplots(nrows=2, sharex=True)\n",
      "ax[0].plot(wl_data, recons_samp)\n",
      "ax[0].plot(wl_data, recons_presamp)\n",
      "ax[1].plot(wl_data, (recons_samp - recons_presamp)/recons_samp * 100)\n",
      "ax[1].set_ylabel(\"Percent Error\")\n",
      "fig.savefig(\"../plots/emulator/pre_sampling_error.png\")\n",
      "plt.show()"
     ],
     "language": "python",
     "metadata": {},
     "outputs": [],
     "prompt_number": 59
    },
    {
     "cell_type": "code",
     "collapsed": false,
     "input": [],
     "language": "python",
     "metadata": {},
     "outputs": []
    }
   ],
   "metadata": {}
  }
 ]
}