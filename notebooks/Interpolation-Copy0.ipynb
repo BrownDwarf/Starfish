{
 "metadata": {
  "name": "",
  "signature": "sha256:d8be444d08cfe7fb6c998281ec1eef5fcf40a0896a3d19f7aff68a8d9a56bfed"
 },
 "nbformat": 3,
 "nbformat_minor": 0,
 "worksheets": [
  {
   "cells": [
    {
     "cell_type": "code",
     "collapsed": false,
     "input": [
      "import matplotlib.pyplot as plt\n",
      "import numpy as np\n",
      "from StellarSpectra.grid_tools import HDF5Interface\n",
      "import StellarSpectra.constants as C\n",
      "from StellarSpectra.utils import saveall"
     ],
     "language": "python",
     "metadata": {},
     "outputs": [],
     "prompt_number": 1
    },
    {
     "cell_type": "code",
     "collapsed": false,
     "input": [
      "from matplotlib.ticker import FormatStrFormatter as FSF\n",
      "from matplotlib.ticker import MaxNLocator\n",
      "from matplotlib.ticker import MultipleLocator"
     ],
     "language": "python",
     "metadata": {},
     "outputs": [],
     "prompt_number": 2
    },
    {
     "cell_type": "code",
     "collapsed": false,
     "input": [
      "#interface = HDF5Interface(\"../libraries/PHOENIX_F.hdf5\")\n",
      "interface = HDF5Interface(\"../libraries/PHOENIX_TRES_F.hdf5\")"
     ],
     "language": "python",
     "metadata": {},
     "outputs": [],
     "prompt_number": 3
    },
    {
     "cell_type": "markdown",
     "metadata": {},
     "source": [
      "## Over metallicity"
     ]
    },
    {
     "cell_type": "code",
     "collapsed": false,
     "input": [
      "wl_raw = interface.wl\n",
      "#ind = (wl_raw > 5162.01) & (wl_raw < 5162.54) #for hires\n",
      "#ind = (wl_raw > 5161.9) & (wl_raw < 5162.69) #for lowres\n",
      "ind = (wl_raw > 5159) & (wl_raw < 5164) #for lowres, slightly wider wl range\n",
      "#ind = (wl_raw > 3000) & (wl_raw < 9000) #for statistics\n",
      "#ind = (wl_raw > 5150) & (wl_raw < 5200) #for lowres, all\n",
      "\n",
      "wl_raw = wl_raw[ind]"
     ],
     "language": "python",
     "metadata": {},
     "outputs": [],
     "prompt_number": 28
    },
    {
     "cell_type": "code",
     "collapsed": false,
     "input": [
      "#flt60g45m10 = interface.load_flux({\"temp\":6000,\"logg\":4.5, \"Z\":-1.0, \"alpha\":0.0})[ind]\n",
      "#flt60g45m05 = interface.load_flux({\"temp\":6000,\"logg\":4.5, \"Z\":-0.5, \"alpha\":0.0})[ind]\n",
      "#flt60g45p00 = interface.load_flux({\"temp\":6000,\"logg\":4.5, \"Z\":0.0, \"alpha\":0.0})[ind]\n",
      "#flt60g45p05 = interface.load_flux({\"temp\":6000,\"logg\":4.5, \"Z\":0.5, \"alpha\":0.0})[ind]\n",
      "\n",
      "#flt60g40m10 = interface.load_flux({\"temp\":6000,\"logg\":4.0, \"Z\":-1.0, \"alpha\":0.0})[ind]\n",
      "#flt60g40m05 = interface.load_flux({\"temp\":6000,\"logg\":4.0, \"Z\":-0.5, \"alpha\":0.0})[ind]\n",
      "#flt60g40p00 = interface.load_flux({\"temp\":6000,\"logg\":4.0, \"Z\":0.0, \"alpha\":0.0})[ind]\n",
      "\n",
      "#flt60g35m05 = interface.load_flux({\"temp\":6000,\"logg\":3.5, \"Z\":-0.5, \"alpha\":0.0})[ind]\n",
      "flt56g40m05 = interface.load_flux({\"temp\":5600,\"logg\":4.0, \"Z\":-0.5, \"alpha\":0.0})[ind]\n",
      "flt57g40m05 = interface.load_flux({\"temp\":5700,\"logg\":4.0, \"Z\":-0.5, \"alpha\":0.0})[ind]\n",
      "flt58g40m05 = interface.load_flux({\"temp\":5800,\"logg\":4.0, \"Z\":-0.5, \"alpha\":0.0})[ind]\n",
      "flt59g40m05 = interface.load_flux({\"temp\":5900,\"logg\":4.0, \"Z\":-0.5, \"alpha\":0.0})[ind]\n",
      "flt60g40m05 = interface.load_flux({\"temp\":6000,\"logg\":4.0, \"Z\":-0.5, \"alpha\":0.0})[ind]\n",
      "flt61g40m05 = interface.load_flux({\"temp\":6100,\"logg\":4.0, \"Z\":-0.5, \"alpha\":0.0})[ind]\n",
      "flt62g40m05 = interface.load_flux({\"temp\":6200,\"logg\":4.0, \"Z\":-0.5, \"alpha\":0.0})[ind]\n",
      "flt63g40m05 = interface.load_flux({\"temp\":6300,\"logg\":4.0, \"Z\":-0.5, \"alpha\":0.0})[ind]\n",
      "flt64g40m05 = interface.load_flux({\"temp\":6400,\"logg\":4.0, \"Z\":-0.5, \"alpha\":0.0})[ind]\n",
      "\n",
      "\n",
      "\n",
      "flt60g45m05 = interface.load_flux({\"temp\":6000,\"logg\":4.5, \"Z\":-0.5, \"alpha\":0.0})[ind]\n",
      "\n",
      "#We are going to interpolate to flt60g40m05, so we can use NONE of these values in the 8 gridpoints\n",
      "flt61g45m10 = interface.load_flux({\"temp\":6100,\"logg\":4.5, \"Z\":-1.0, \"alpha\":0.0})[ind]\n",
      "flt61g45m05 = interface.load_flux({\"temp\":6100,\"logg\":4.5, \"Z\":-0.5, \"alpha\":0.0})[ind]\n",
      "flt61g45p00 = interface.load_flux({\"temp\":6100,\"logg\":4.5, \"Z\":0.0, \"alpha\":0.0})[ind]\n",
      "\n",
      "flt61g35m10 = interface.load_flux({\"temp\":6100,\"logg\":3.5, \"Z\":-1.0, \"alpha\":0.0})[ind]\n",
      "flt61g35m05 = interface.load_flux({\"temp\":6100,\"logg\":3.5, \"Z\":-0.5, \"alpha\":0.0})[ind]\n",
      "flt61g35p00 = interface.load_flux({\"temp\":6100,\"logg\":3.5, \"Z\":0.0, \"alpha\":0.0})[ind]\n",
      "\n",
      "flt59g45m10 = interface.load_flux({\"temp\":5900,\"logg\":4.5, \"Z\":-1.0, \"alpha\":0.0})[ind]\n",
      "flt59g45m05 = interface.load_flux({\"temp\":5900,\"logg\":4.5, \"Z\":-0.5, \"alpha\":0.0})[ind]\n",
      "flt59g45p00 = interface.load_flux({\"temp\":5900,\"logg\":4.5, \"Z\":0.0, \"alpha\":0.0})[ind]\n",
      "\n",
      "flt59g35m10 = interface.load_flux({\"temp\":5900,\"logg\":3.5, \"Z\":-1.0, \"alpha\":0.0})[ind]\n",
      "flt59g35m05 = interface.load_flux({\"temp\":5900,\"logg\":3.5, \"Z\":-0.5, \"alpha\":0.0})[ind]\n",
      "flt59g35p00 = interface.load_flux({\"temp\":5900,\"logg\":3.5, \"Z\":0.0, \"alpha\":0.0})[ind]\n",
      "\n",
      "\n",
      "#fls = [flm05, fl00, flp05]"
     ],
     "language": "python",
     "metadata": {},
     "outputs": [],
     "prompt_number": 29
    },
    {
     "cell_type": "markdown",
     "metadata": {},
     "source": [
      "## How interpolation error increases with distance\n",
      "\n",
      "The idea is to do interpolations over 200K, 400K, and 600K and then see how the error changes with distance. If it changes linearly, this would be a good reinforcement to use the linear map."
     ]
    },
    {
     "cell_type": "code",
     "collapsed": false,
     "input": [
      "err200 = np.abs((flt61g40m05 + flt59g40m05)/2. - flt60g40m05)\n",
      "err400 = np.abs((flt62g40m05 + flt58g40m05)/2. - flt60g40m05)\n",
      "err600 = np.abs((flt63g40m05 + flt57g40m05)/2. - flt60g40m05)\n",
      "err800 = np.abs((flt64g40m05 + flt56g40m05)/2. - flt60g40m05)"
     ],
     "language": "python",
     "metadata": {},
     "outputs": [],
     "prompt_number": 30
    },
    {
     "cell_type": "code",
     "collapsed": false,
     "input": [
      "errs = [err200, err400, err600, err800]\n",
      "colors = [\"b\", \"g\", \"r\", \"m\"]\n",
      "for err,color in zip(errs, colors):\n",
      "    plt.plot(wl_raw, err, color=color)\n",
      "    plt.plot(wl_raw, err, \"o\", color=color)\n",
      "    \n",
      "plt.legend()\n",
      "plt.show()"
     ],
     "language": "python",
     "metadata": {},
     "outputs": [],
     "prompt_number": 31
    },
    {
     "cell_type": "code",
     "collapsed": false,
     "input": [
      "vals = [200, 400, 600, 800]\n",
      "for err, val, color in zip(errs, vals, colors):\n",
      "    plt.plot(val, np.mean(err), \"o\", color=color)\n",
      "    \n",
      "plt.xlim(0, 850)\n",
      "plt.ylim(0, 1e5)\n",
      "plt.show()"
     ],
     "language": "python",
     "metadata": {},
     "outputs": [],
     "prompt_number": 32
    },
    {
     "cell_type": "markdown",
     "metadata": {},
     "source": [
      "## Other interpolation work"
     ]
    },
    {
     "cell_type": "code",
     "collapsed": true,
     "input": [
      "#errspec = interface.get_error_spectrum({\"temp\":6000,\"logg\":4.5, \"Z\":-0.5, \"alpha\":0.0}, axis=\"temp\")[ind]\n",
      "errspec1 = interface.get_error_spectrum({\"temp\":5900,\"logg\":3.5, \"Z\":-1.0, \"alpha\":0.0}, axis=\"temp\")[ind]\n",
      "errspec2 = interface.get_error_spectrum({\"temp\":5900,\"logg\":3.5, \"Z\":0.0, \"alpha\":0.0}, axis=\"temp\")[ind] \n",
      "errspec3 = interface.get_error_spectrum({\"temp\":5900,\"logg\":4.5, \"Z\":-1.0, \"alpha\":0.0}, axis=\"temp\")[ind] \n",
      "errspec4 = interface.get_error_spectrum({\"temp\":5900,\"logg\":4.5, \"Z\":0.0, \"alpha\":0.0}, axis=\"temp\")[ind] \n",
      "\n",
      "errspec5 = interface.get_error_spectrum({\"temp\":6100,\"logg\":3.5, \"Z\":-1.0, \"alpha\":0.0}, axis=\"temp\")[ind]\n",
      "errspec6 = interface.get_error_spectrum({\"temp\":6100,\"logg\":3.5, \"Z\":0.0, \"alpha\":0.0}, axis=\"temp\")[ind] \n",
      "errspec7 = interface.get_error_spectrum({\"temp\":6100,\"logg\":4.5, \"Z\":-1.0, \"alpha\":0.0}, axis=\"temp\")[ind] \n",
      "errspec8 = interface.get_error_spectrum({\"temp\":6100,\"logg\":4.5, \"Z\":0.0, \"alpha\":0.0}, axis=\"temp\")[ind] "
     ],
     "language": "python",
     "metadata": {},
     "outputs": [
      {
       "output_type": "stream",
       "stream": "stdout",
       "text": [
        "loading {'logg': 3.5, 'alpha': 0.0, 'temp': 5900, 'Z': -1.0}\n",
        "[5000 5100 5200 5300 5400 5500 5600 5700 5800 5900 6000 6100 6200 6300 6400\n",
        " 6500 6600 6700]\n",
        "loading {'logg': 3.5, 'alpha': 0.0, 'temp': 5800, 'Z': -1.0}\n",
        "loading {'logg': 3.5, 'alpha': 0.0, 'temp': 6000, 'Z': -1.0}\n",
        "loading {'logg': 3.5, 'alpha': 0.0, 'temp': 5900, 'Z': 0.0}\n",
        "[5000 5100 5200 5300 5400 5500 5600 5700 5800 5900 6000 6100 6200 6300 6400\n",
        " 6500 6600 6700]"
       ]
      },
      {
       "output_type": "stream",
       "stream": "stdout",
       "text": [
        "\n",
        "loading {'logg': 3.5, 'alpha': 0.0, 'temp': 5800, 'Z': 0.0}\n",
        "loading {'logg': 3.5, 'alpha': 0.0, 'temp': 6000, 'Z': 0.0}\n",
        "loading {'logg': 4.5, 'alpha': 0.0, 'temp': 5900, 'Z': -1.0}\n",
        "[5000 5100 5200 5300 5400 5500 5600 5700 5800 5900 6000 6100 6200 6300 6400\n",
        " 6500 6600 6700]\n",
        "loading {'logg': 4.5, 'alpha': 0.0, 'temp': 5800, 'Z': -1.0}\n",
        "loading {'logg': 4.5, 'alpha': 0.0, 'temp': 6000, 'Z': -1.0}"
       ]
      },
      {
       "output_type": "stream",
       "stream": "stdout",
       "text": [
        "\n",
        "loading {'logg': 4.5, 'alpha': 0.0, 'temp': 5900, 'Z': 0.0}\n",
        "[5000 5100 5200 5300 5400 5500 5600 5700 5800 5900 6000 6100 6200 6300 6400\n",
        " 6500 6600 6700]\n",
        "loading {'logg': 4.5, 'alpha': 0.0, 'temp': 5800, 'Z': 0.0}\n",
        "loading {'logg': 4.5, 'alpha': 0.0, 'temp': 6000, 'Z': 0.0}\n",
        "loading {'logg': 3.5, 'alpha': 0.0, 'temp': 6100, 'Z': -1.0}"
       ]
      },
      {
       "output_type": "stream",
       "stream": "stdout",
       "text": [
        "\n",
        "[5000 5100 5200 5300 5400 5500 5600 5700 5800 5900 6000 6100 6200 6300 6400\n",
        " 6500 6600 6700]\n",
        "loading {'logg': 3.5, 'alpha': 0.0, 'temp': 6000, 'Z': -1.0}\n",
        "loading {'logg': 3.5, 'alpha': 0.0, 'temp': 6200, 'Z': -1.0}\n",
        "loading {'logg': 3.5, 'alpha': 0.0, 'temp': 6100, 'Z': 0.0}\n",
        "[5000 5100 5200 5300 5400 5500 5600 5700 5800 5900 6000 6100 6200 6300 6400\n",
        " 6500 6600 6700]"
       ]
      },
      {
       "output_type": "stream",
       "stream": "stdout",
       "text": [
        "\n",
        "loading {'logg': 3.5, 'alpha': 0.0, 'temp': 6000, 'Z': 0.0}\n",
        "loading {'logg': 3.5, 'alpha': 0.0, 'temp': 6200, 'Z': 0.0}\n",
        "loading {'logg': 4.5, 'alpha': 0.0, 'temp': 6100, 'Z': -1.0}\n",
        "[5000 5100 5200 5300 5400 5500 5600 5700 5800 5900 6000 6100 6200 6300 6400\n",
        " 6500 6600 6700]\n",
        "loading {'logg': 4.5, 'alpha': 0.0, 'temp': 6000, 'Z': -1.0}\n",
        "loading {'logg': 4.5, 'alpha': 0.0, 'temp': 6200, 'Z': -1.0}"
       ]
      },
      {
       "output_type": "stream",
       "stream": "stdout",
       "text": [
        "\n",
        "loading {'logg': 4.5, 'alpha': 0.0, 'temp': 6100, 'Z': 0.0}\n",
        "[5000 5100 5200 5300 5400 5500 5600 5700 5800 5900 6000 6100 6200 6300 6400\n",
        " 6500 6600 6700]\n",
        "loading {'logg': 4.5, 'alpha': 0.0, 'temp': 6000, 'Z': 0.0}\n",
        "loading {'logg': 4.5, 'alpha': 0.0, 'temp': 6200, 'Z': 0.0}"
       ]
      },
      {
       "output_type": "stream",
       "stream": "stdout",
       "text": [
        "\n"
       ]
      }
     ],
     "prompt_number": 5
    },
    {
     "cell_type": "code",
     "collapsed": false,
     "input": [
      "#estimate the covariance between these\n",
      "errspec = np.array([errspec1, errspec2, errspec3, errspec4, errspec5, errspec6, errspec7, errspec8])\n",
      "#cov_mat = np.cov(errspec,rowvar=0)\n",
      "cov_mat = np.dot(errspec.T, errspec)/8.\n",
      "plt.imshow(cov_mat, origin=\"upper\", interpolation=\"none\")\n",
      "plt.show()"
     ],
     "language": "python",
     "metadata": {},
     "outputs": [],
     "prompt_number": 6
    },
    {
     "cell_type": "code",
     "collapsed": false,
     "input": [
      "def force_to_zero(mat, dist=10):\n",
      "    '''\n",
      "    If a row and column are greater than 10 apart, set to 0.\n",
      "    '''\n",
      "    nmat = mat.copy()\n",
      "    nrows, ncols = nmat.shape\n",
      "    for i in range(nrows):\n",
      "        for j in range(ncols):\n",
      "            if np.abs(i - j) > dist:\n",
      "                nmat[i,j] = 0.0\n",
      "    return nmat\n",
      "    "
     ],
     "language": "python",
     "metadata": {},
     "outputs": [],
     "prompt_number": 10
    },
    {
     "cell_type": "code",
     "collapsed": false,
     "input": [
      "mat2 = force_to_zero(cov_mat, dist=50)"
     ],
     "language": "python",
     "metadata": {},
     "outputs": [],
     "prompt_number": 35
    },
    {
     "cell_type": "code",
     "collapsed": false,
     "input": [
      "plt.imshow(mat2, origin=\"upper\", interpolation=\"none\")\n",
      "plt.show()"
     ],
     "language": "python",
     "metadata": {},
     "outputs": [],
     "prompt_number": 36
    },
    {
     "cell_type": "code",
     "collapsed": false,
     "input": [
      "draws = [np.random.multivariate_normal(np.zeros_like(wl_raw), cov_mat) for i in range(25)]"
     ],
     "language": "python",
     "metadata": {},
     "outputs": [],
     "prompt_number": 20
    },
    {
     "cell_type": "code",
     "collapsed": false,
     "input": [
      "draws2 = [np.random.multivariate_normal(np.zeros_like(wl_raw), mat2) for i in range(2)]"
     ],
     "language": "python",
     "metadata": {},
     "outputs": [],
     "prompt_number": 37
    },
    {
     "cell_type": "code",
     "collapsed": false,
     "input": [
      "for draw in draws2:\n",
      "    plt.plot(wl_raw, draw, lw=0.3)\n",
      "    \n",
      "for spec in errspec:\n",
      "    plt.plot(wl_raw, spec)\n",
      "\n",
      "plt.show()"
     ],
     "language": "python",
     "metadata": {},
     "outputs": [],
     "prompt_number": 38
    },
    {
     "cell_type": "code",
     "collapsed": true,
     "input": [
      "#Over metallicity \n",
      "flt61g45m05_int = (flt61g45m10 + flt61g45p00)/2\n",
      "flt61g35m05_int = (flt61g35m10 + flt61g35p00)/2\n",
      "\n",
      "flt59g45m05_int = (flt59g45m10 + flt59g45p00)/2\n",
      "flt59g35m05_int = (flt59g35m10 + flt59g35p00)/2\n",
      "\n",
      "#Plot all of these to see what they look like\n",
      "errspecm0 = (flt61g45m05 - flt61g45m05_int)/flt61g45m05\n",
      "errspecm1 = (flt61g35m05 - flt61g35m05_int)/flt61g35m05\n",
      "errspecm2 = (flt59g45m05 - flt59g45m05_int)/flt59g45m05\n",
      "errspecm3 = (flt59g35m05 - flt59g35m05_int)/flt59g35m05\n",
      "errspecm = (errspecm0 + errspecm1 + errspecm2 + errspecm3)/4"
     ],
     "language": "python",
     "metadata": {},
     "outputs": [],
     "prompt_number": 8
    },
    {
     "cell_type": "code",
     "collapsed": false,
     "input": [
      "fig = plt.figure(figsize=(8,8))\n",
      "ax = fig.add_subplot(111)\n",
      "\n",
      "errspecs = [errspecm0, errspecm1, errspecm2, errspecm3, errspecm]\n",
      "labels = [\"0\", \"1\", \"2\", \"3\", \"avg\"]\n",
      "for errspec, label in zip(errspecs, labels):\n",
      "    ax.plot(wl_raw, errspec*100, label=label)\n",
      "ax.legend()\n",
      "plt.show()"
     ],
     "language": "python",
     "metadata": {},
     "outputs": [],
     "prompt_number": 9
    },
    {
     "cell_type": "code",
     "collapsed": false,
     "input": [
      "fig, ax = plt.subplots(nrows=2, figsize=(8,8), sharex=True)\n",
      "\n",
      "colors = [\"b\", \"c\", \"r\", \"k\"]\n",
      "#labels = [\"0.0\", \"-0.5\", \"-1.0\", \"-0.5 int\"]\n",
      "labels = [\"-1.0\", \"-0.5\", \"0.0\", \"0.0 int\"]\n",
      "\n",
      "fls = [flt60g45m10, flt60g45m05, flt60g45p00, flt60g45m05_int]\n",
      "\n",
      "for fl, color, label in zip(fls, colors, labels):\n",
      "    ax[0].plot(wl_raw, fl/fl[0], \"o\", color=color, label=label)\n",
      "    \n",
      "for wl in wl_raw:\n",
      "    ax[0].axvline(wl, color=\"0.2\", lw=0.1)\n",
      "    \n",
      "ax[0].legend(loc=\"lower right\")\n",
      "\n",
      "ax[1].axhline(0.0, color=\"0.2\")    \n",
      "ax[1].plot(wl_raw, errspec*100, \"k-\")        \n",
      "ax[1].plot(wl_raw, errspec*100, \"ko\")    \n",
      "ax[-1].set_xlim(wl_raw[0], wl_raw[-1])\n",
      "ax[1].set_ylabel(\"Error [\\%]\")\n",
      "ax[1].xaxis.set_major_formatter(FSF(\"%.0f\"))\n",
      "ax[-1].set_xlabel(r\"$\\lambda$ [\\AA]\")\n",
      "\n",
      "fig.savefig(\"../plots/interp_tests/metallicity.png\")\n",
      "    \n",
      "plt.show()"
     ],
     "language": "python",
     "metadata": {},
     "outputs": [],
     "prompt_number": 89
    },
    {
     "cell_type": "markdown",
     "metadata": {},
     "source": [
      "## Over temperature"
     ]
    },
    {
     "cell_type": "code",
     "collapsed": false,
     "input": [
      "flt60g40m05_int = (flt59g40m05 + flt61g40m05)/2\n",
      "errspect = (flt60g40m05 - flt60g40m05_int)/flt60g40m05"
     ],
     "language": "python",
     "metadata": {},
     "outputs": [],
     "prompt_number": 7
    },
    {
     "cell_type": "code",
     "collapsed": false,
     "input": [
      "fig, ax = plt.subplots(nrows=2, figsize=(8,8), sharex=True)\n",
      "\n",
      "colors = [\"b\", \"c\", \"r\", \"k\"]\n",
      "labels = [\"5900\", \"6000\", \"6100\", \"6000 int\"]\n",
      "\n",
      "fls = [flt59g45m05, flt60g45m05, flt61g45m05, flt60g45m05_int]\n",
      "\n",
      "for fl, color, label in zip(fls, colors, labels):\n",
      "    ax[0].plot(wl_raw, fl/fl[0], \"o\", color=color, label=label)\n",
      "    \n",
      "for wl in wl_raw:\n",
      "    ax[0].axvline(wl, color=\"0.2\", lw=0.1)\n",
      "    \n",
      "ax[0].legend(loc=\"lower right\")\n",
      "\n",
      "ax[1].axhline(0.0, color=\"0.2\")    \n",
      "ax[1].plot(wl_raw, errspec*100, \"k-\")        \n",
      "ax[1].plot(wl_raw, errspec*100, \"ko\")    \n",
      "ax[-1].set_xlim(wl_raw[0], wl_raw[-1])\n",
      "ax[1].set_ylabel(\"Error [\\%]\")\n",
      "ax[1].xaxis.set_major_formatter(FSF(\"%.0f\"))\n",
      "ax[-1].set_xlabel(r\"$\\lambda$ [\\AA]\")\n",
      "    \n",
      "fig.savefig(\"../plots/interp_tests/temperature.png\")\n",
      "\n",
      "plt.show()"
     ],
     "language": "python",
     "metadata": {},
     "outputs": [],
     "prompt_number": 91
    },
    {
     "cell_type": "markdown",
     "metadata": {},
     "source": [
      "## Over logg"
     ]
    },
    {
     "cell_type": "code",
     "collapsed": false,
     "input": [
      "flt60g40m05_int = (flt60g35m05 + flt60g45m05)/2\n",
      "errspecg = (flt60g40m05 - flt60g40m05_int)/flt60g40m05"
     ],
     "language": "python",
     "metadata": {},
     "outputs": [],
     "prompt_number": 8
    },
    {
     "cell_type": "code",
     "collapsed": false,
     "input": [
      "fig, ax = plt.subplots(nrows=2, figsize=(8,8), sharex=True)\n",
      "\n",
      "colors = [\"b\", \"c\", \"r\", \"k\"]\n",
      "labels = [\"3.5\", \"4.0\", \"4.5\", \"4.0 int\"]\n",
      "\n",
      "fls = [flt60g35m05, flt60g40m05, flt60g45m05, flt60g40m05_int]\n",
      "\n",
      "for fl, color, label in zip(fls, colors, labels):\n",
      "    ax[0].plot(wl_raw, fl/fl[0], \"o\", color=color, label=label)\n",
      "    \n",
      "for wl in wl_raw:\n",
      "    ax[0].axvline(wl, color=\"0.2\", lw=0.1)\n",
      "    \n",
      "ax[0].legend(loc=\"lower right\")\n",
      "\n",
      "ax[1].axhline(0.0, color=\"0.2\")    \n",
      "ax[1].plot(wl_raw, errspec*100, \"k-\")        \n",
      "ax[1].plot(wl_raw, errspec*100, \"ko\")    \n",
      "ax[-1].set_xlim(wl_raw[0], wl_raw[-1])\n",
      "ax[1].set_ylabel(\"Error [\\%]\")\n",
      "ax[1].xaxis.set_major_formatter(FSF(\"%.0f\"))\n",
      "ax[-1].set_xlabel(r\"$\\lambda$ [\\AA]\")\n",
      "    \n",
      "fig.savefig(\"../plots/interp_tests/logg.png\")\n",
      "\n",
      "plt.show()"
     ],
     "language": "python",
     "metadata": {},
     "outputs": [],
     "prompt_number": 93
    },
    {
     "cell_type": "markdown",
     "metadata": {},
     "source": [
      "## Over everything"
     ]
    },
    {
     "cell_type": "code",
     "collapsed": false,
     "input": [
      "flt60g40m05_int = (flt59g45m10 + flt59g45p00 + flt59g35m10 + flt59g35p00 + \n",
      "                   flt61g45m10 + flt61g45p00 + flt61g35m10 + flt61g35p00)/8\n",
      "errspece = (flt60g40m05 - flt60g40m05_int)/flt60g40m05"
     ],
     "language": "python",
     "metadata": {},
     "outputs": [],
     "prompt_number": 9
    },
    {
     "cell_type": "code",
     "collapsed": false,
     "input": [
      "fig, ax = plt.subplots(nrows=2, figsize=(8,8), sharex=True)\n",
      "\n",
      "# colors = [\"b\", \"c\", \"r\", \"k\"]\n",
      "labels = [\"t50g40m05\", \"t61g40m05\", \"t60g35m05\", \"t60g45m05\", \"t60g40m10\", \"t60g40p00\", \"tg60g40m05\", \"t60g40m05int\"]\n",
      "\n",
      "fls = [flt59g40m05, flt61g40m05, flt60g35m05, flt60g45m05, flt60g40m10, flt60g40p00, flt60g40m05, flt60g40m05_int]\n",
      "\n",
      "for fl, label in zip(fls, labels):\n",
      "    ax[0].plot(wl_raw, fl/fl[0], \"o\", label=label)\n",
      "    \n",
      "for wl in wl_raw:\n",
      "    ax[0].axvline(wl, color=\"0.2\", lw=0.1)\n",
      "    \n",
      "ax[0].legend(loc=\"lower right\")\n",
      "\n",
      "ax[1].axhline(0.0, color=\"0.2\")    \n",
      "ax[1].plot(wl_raw, errspec*100, \"k-\")        \n",
      "ax[1].plot(wl_raw, errspec*100, \"ko\")    \n",
      "ax[-1].set_xlim(wl_raw[0], wl_raw[-1])\n",
      "ax[1].set_ylabel(\"Error [\\%]\")\n",
      "ax[1].xaxis.set_major_formatter(FSF(\"%.0f\"))\n",
      "ax[-1].set_xlabel(r\"$\\lambda$ [\\AA]\")\n",
      "    \n",
      "fig.savefig(\"../plots/interp_tests/everything.png\")\n",
      "\n",
      "plt.show()"
     ],
     "language": "python",
     "metadata": {},
     "outputs": [],
     "prompt_number": 102
    },
    {
     "cell_type": "code",
     "collapsed": false,
     "input": [
      "sumspec = errspect + errspecg + errspecm"
     ],
     "language": "python",
     "metadata": {},
     "outputs": [],
     "prompt_number": 10
    },
    {
     "cell_type": "code",
     "collapsed": false,
     "input": [
      "avgspec = sumspec/3.0"
     ],
     "language": "python",
     "metadata": {},
     "outputs": [],
     "prompt_number": 11
    },
    {
     "cell_type": "code",
     "collapsed": false,
     "input": [
      "fig = plt.figure(figsize=(8,8))\n",
      "ax = fig.add_subplot(111)\n",
      "\n",
      "colors = [\"b\", \"r\", \"g\", \"k\", \"m\", \"y\"]\n",
      "labels = [\"temp\", \"logg\", \"Z\", \"all\", \"sum\", \"avg\"]\n",
      "\n",
      "for errspec,color,label in zip([errspect, errspecg, errspecm, errspece, sumspec, avgspec],colors,labels):\n",
      "    ax.plot(wl_raw, errspec*100, color)\n",
      "    ax.plot(wl_raw, errspec*100, \"o\" + color, label=label)\n",
      "    \n",
      "ax.legend(loc=\"upper left\")\n",
      "\n",
      "plt.show()"
     ],
     "language": "python",
     "metadata": {},
     "outputs": [],
     "prompt_number": 12
    },
    {
     "cell_type": "markdown",
     "metadata": {},
     "source": [
      "## estimating covariance matrix"
     ]
    },
    {
     "cell_type": "code",
     "collapsed": false,
     "input": [
      "plt.plot(wl_raw, errspec)\n",
      "plt.show()"
     ],
     "language": "python",
     "metadata": {},
     "outputs": [],
     "prompt_number": 152
    },
    {
     "cell_type": "code",
     "collapsed": true,
     "input": [
      "mat = np.outer(errspec, errspec)"
     ],
     "language": "python",
     "metadata": {},
     "outputs": [],
     "prompt_number": 119
    },
    {
     "cell_type": "code",
     "collapsed": false,
     "input": [
      "plt.imshow(mat, interpolation=\"none\", origin=\"upper\", vmin=-5e-4, vmax=5e-4)\n",
      "plt.colorbar()\n",
      "plt.show()"
     ],
     "language": "python",
     "metadata": {},
     "outputs": [],
     "prompt_number": 137
    },
    {
     "cell_type": "code",
     "collapsed": false,
     "input": [
      "plt.hist(mat.flatten(), bins=40)\n",
      "plt.show()"
     ],
     "language": "python",
     "metadata": {},
     "outputs": [],
     "prompt_number": 134
    },
    {
     "cell_type": "code",
     "collapsed": false,
     "input": [
      "plt.plot(np.diag(mat))\n",
      "plt.plot(errspec**2, \"o\")\n",
      "plt.show()"
     ],
     "language": "python",
     "metadata": {},
     "outputs": [],
     "prompt_number": 135
    },
    {
     "cell_type": "code",
     "collapsed": false,
     "input": [
      "draws = [np.random.multivariate_normal(np.zeros_like(wl_raw), mat) for i in range(5)]"
     ],
     "language": "python",
     "metadata": {},
     "outputs": [],
     "prompt_number": 128
    },
    {
     "cell_type": "code",
     "collapsed": false,
     "input": [
      "plt.plot(wl_raw, errspec)\n",
      "for draw in draws:\n",
      "    plt.plot(wl_raw, draw, \"k\", lw=\"0.4\")\n",
      "plt.show()"
     ],
     "language": "python",
     "metadata": {},
     "outputs": [],
     "prompt_number": 129
    },
    {
     "cell_type": "code",
     "collapsed": true,
     "input": [
      "mat_inv = np.linalg.inv(mat)"
     ],
     "language": "python",
     "metadata": {},
     "outputs": [],
     "prompt_number": 148
    },
    {
     "cell_type": "code",
     "collapsed": false,
     "input": [
      "mat_inv_abs = np.log10(np.abs(mat_inv))"
     ],
     "language": "python",
     "metadata": {},
     "outputs": [],
     "prompt_number": 144
    },
    {
     "cell_type": "code",
     "collapsed": false,
     "input": [
      "plt.imshow(mat_inv[0:100,0:100], interpolation=\"none\", origin=\"upper\")\n",
      "plt.colorbar()\n",
      "plt.show()"
     ],
     "language": "python",
     "metadata": {},
     "outputs": [],
     "prompt_number": 151
    },
    {
     "cell_type": "code",
     "collapsed": false,
     "input": [],
     "language": "python",
     "metadata": {},
     "outputs": [
      {
       "metadata": {},
       "output_type": "pyout",
       "prompt_number": 142,
       "text": [
        "3.1675697e+16"
       ]
      }
     ],
     "prompt_number": 142
    },
    {
     "cell_type": "code",
     "collapsed": false,
     "input": [],
     "language": "python",
     "metadata": {},
     "outputs": []
    }
   ],
   "metadata": {}
  }
 ]
}