{
 "metadata": {
  "name": "",
  "signature": "sha256:8af99dd7547e7f40528dc1da184bfabf17feef2217b2c5e42ea2c48a6af6908c"
 },
 "nbformat": 3,
 "nbformat_minor": 0,
 "worksheets": [
  {
   "cells": [
    {
     "cell_type": "code",
     "collapsed": false,
     "input": [
      "%load_ext autoreload\n",
      "%autoreload 2"
     ],
     "language": "python",
     "metadata": {},
     "outputs": [],
     "prompt_number": 1
    },
    {
     "cell_type": "code",
     "collapsed": false,
     "input": [
      "from Starfish.grid_tools import HDF5Interface\n",
      "import numpy as np\n",
      "from sklearn.decomposition import PCA\n",
      "import matplotlib.pyplot as plt\n",
      "import scipy.sparse as sp"
     ],
     "language": "python",
     "metadata": {},
     "outputs": [],
     "prompt_number": 8
    },
    {
     "cell_type": "code",
     "collapsed": false,
     "input": [
      "grid = HDF5Interface(\"../libraries/PHOENIX_SPEX_M.hdf5\", ranges={\"temp\":(2800, 3400), \n",
      "                                                                 \"logg\":(4.5, 6.0),\n",
      "                                                                 \"Z\":(-0.5, 1.0),\n",
      "                                                                 \"alpha\":(0.0, 0.0)})\n",
      "wl = grid.wl\n",
      "ind = (wl > 20000) * (wl < 24000)\n",
      "wl = wl[ind]\n",
      "npix = len(wl)"
     ],
     "language": "python",
     "metadata": {},
     "outputs": [],
     "prompt_number": 9
    },
    {
     "cell_type": "code",
     "collapsed": false,
     "input": [
      "print(npix)"
     ],
     "language": "python",
     "metadata": {},
     "outputs": [
      {
       "output_type": "stream",
       "stream": "stdout",
       "text": [
        "2067\n"
       ]
      }
     ],
     "prompt_number": 4
    },
    {
     "cell_type": "markdown",
     "metadata": {},
     "source": [
      "## Running PCA"
     ]
    },
    {
     "cell_type": "code",
     "collapsed": false,
     "input": [
      "m = len(grid.list_grid_points)\n",
      "print(m, len(wl) )\n",
      "fluxes = np.empty( (m,len(wl)) )"
     ],
     "language": "python",
     "metadata": {},
     "outputs": [
      {
       "output_type": "stream",
       "stream": "stdout",
       "text": [
        "112 2067\n"
       ]
      }
     ],
     "prompt_number": 4
    },
    {
     "cell_type": "code",
     "collapsed": false,
     "input": [
      "for i, spec in enumerate(grid.fluxes):\n",
      "    fluxes[i,:] = spec[ind]"
     ],
     "language": "python",
     "metadata": {},
     "outputs": [],
     "prompt_number": 5
    },
    {
     "cell_type": "code",
     "collapsed": false,
     "input": [
      "pca = PCA()\n",
      "pca.fit(fluxes)\n",
      "comp = pca.transform(fluxes)\n",
      "components = pca.components_\n",
      "mean = pca.mean_\n",
      "components.shape"
     ],
     "language": "python",
     "metadata": {},
     "outputs": [
      {
       "metadata": {},
       "output_type": "pyout",
       "prompt_number": 6,
       "text": [
        "(112, 2067)"
       ]
      }
     ],
     "prompt_number": 6
    },
    {
     "cell_type": "code",
     "collapsed": false,
     "input": [
      "fig, ax = plt.subplots(nrows=5, figsize=(7, 10), sharex=True, sharey=True)\n",
      "for i in range(5):\n",
      "    ax[i].plot(wl, components[i])\n",
      "    #ax[i].yaxis.set_ticklabels([])\n",
      "plt.show();"
     ],
     "language": "python",
     "metadata": {},
     "outputs": [
      {
       "output_type": "stream",
       "stream": "stderr",
       "text": [
        "/usr/lib/python3.4/site-packages/matplotlib/texmanager.py:575: DeprecationWarning: npy_PyFile_Dup is deprecated, use npy_PyFile_Dup2\n",
        "  X = read_png(os.path.join(self.texcache, pngfile))\n",
        "/usr/lib/python3.4/site-packages/matplotlib/texmanager.py:575: DeprecationWarning: npy_PyFile_Dup is deprecated, use npy_PyFile_Dup2\n",
        "  X = read_png(os.path.join(self.texcache, pngfile))\n"
       ]
      },
      {
       "output_type": "stream",
       "stream": "stderr",
       "text": [
        "/usr/lib/python3.4/site-packages/matplotlib/texmanager.py:575: DeprecationWarning: npy_PyFile_Dup is deprecated, use npy_PyFile_Dup2\n",
        "  X = read_png(os.path.join(self.texcache, pngfile))\n",
        "/usr/lib/python3.4/site-packages/matplotlib/texmanager.py:575: DeprecationWarning: npy_PyFile_Dup is deprecated, use npy_PyFile_Dup2\n",
        "  X = read_png(os.path.join(self.texcache, pngfile))\n",
        "/usr/lib/python3.4/site-packages/matplotlib/texmanager.py:575: DeprecationWarning: npy_PyFile_Dup is deprecated, use npy_PyFile_Dup2\n",
        "  X = read_png(os.path.join(self.texcache, pngfile))\n",
        "/usr/lib/python3.4/site-packages/matplotlib/texmanager.py:575: DeprecationWarning: npy_PyFile_Dup is deprecated, use npy_PyFile_Dup2\n",
        "  X = read_png(os.path.join(self.texcache, pngfile))\n",
        "/usr/lib/python3.4/site-packages/matplotlib/texmanager.py:575: DeprecationWarning: npy_PyFile_Dup is deprecated, use npy_PyFile_Dup2\n",
        "  X = read_png(os.path.join(self.texcache, pngfile))\n",
        "/usr/lib/python3.4/site-packages/matplotlib/texmanager.py:575: DeprecationWarning: npy_PyFile_Dup is deprecated, use npy_PyFile_Dup2\n",
        "  X = read_png(os.path.join(self.texcache, pngfile))\n"
       ]
      },
      {
       "output_type": "stream",
       "stream": "stderr",
       "text": [
        "/usr/lib/python3.4/site-packages/matplotlib/texmanager.py:575: DeprecationWarning: npy_PyFile_Dup is deprecated, use npy_PyFile_Dup2\n",
        "  X = read_png(os.path.join(self.texcache, pngfile))\n",
        "/usr/lib/python3.4/site-packages/matplotlib/texmanager.py:575: DeprecationWarning: npy_PyFile_Dup is deprecated, use npy_PyFile_Dup2\n",
        "  X = read_png(os.path.join(self.texcache, pngfile))\n",
        "/usr/lib/python3.4/site-packages/matplotlib/texmanager.py:575: DeprecationWarning: npy_PyFile_Dup is deprecated, use npy_PyFile_Dup2\n",
        "  X = read_png(os.path.join(self.texcache, pngfile))\n",
        "/usr/lib/python3.4/site-packages/matplotlib/texmanager.py:575: DeprecationWarning: npy_PyFile_Dup is deprecated, use npy_PyFile_Dup2\n",
        "  X = read_png(os.path.join(self.texcache, pngfile))\n",
        "/usr/lib/python3.4/site-packages/matplotlib/texmanager.py:575: DeprecationWarning: npy_PyFile_Dup is deprecated, use npy_PyFile_Dup2\n",
        "  X = read_png(os.path.join(self.texcache, pngfile))\n"
       ]
      },
      {
       "output_type": "stream",
       "stream": "stderr",
       "text": [
        "/usr/lib/python3.4/site-packages/matplotlib/texmanager.py:575: DeprecationWarning: npy_PyFile_Dup is deprecated, use npy_PyFile_Dup2\n",
        "  X = read_png(os.path.join(self.texcache, pngfile))\n",
        "/usr/lib/python3.4/site-packages/matplotlib/texmanager.py:575: DeprecationWarning: npy_PyFile_Dup is deprecated, use npy_PyFile_Dup2\n",
        "  X = read_png(os.path.join(self.texcache, pngfile))\n",
        "/usr/lib/python3.4/site-packages/matplotlib/texmanager.py:575: DeprecationWarning: npy_PyFile_Dup is deprecated, use npy_PyFile_Dup2\n",
        "  X = read_png(os.path.join(self.texcache, pngfile))\n",
        "/usr/lib/python3.4/site-packages/matplotlib/texmanager.py:575: DeprecationWarning: npy_PyFile_Dup is deprecated, use npy_PyFile_Dup2\n",
        "  X = read_png(os.path.join(self.texcache, pngfile))\n"
       ]
      }
     ],
     "prompt_number": 7
    },
    {
     "cell_type": "code",
     "collapsed": false,
     "input": [
      "plt.plot(wl, mean)\n",
      "plt.show();"
     ],
     "language": "python",
     "metadata": {},
     "outputs": []
    },
    {
     "cell_type": "markdown",
     "metadata": {},
     "source": [
      "Choose a spectrum at random to see if we can reproduce it with the components"
     ]
    },
    {
     "cell_type": "code",
     "collapsed": false,
     "input": [
      "fl = grid.load_flux(grid.list_grid_points[200])[ind]"
     ],
     "language": "python",
     "metadata": {},
     "outputs": [],
     "prompt_number": 13
    },
    {
     "cell_type": "code",
     "collapsed": false,
     "input": [
      "plt.plot(wl,fl)\n",
      "#plt.plot(wl, mean)\n",
      "plt.show();"
     ],
     "language": "python",
     "metadata": {},
     "outputs": []
    },
    {
     "cell_type": "markdown",
     "metadata": {},
     "source": [
      "Now, determine the coefficents that decompose `fl` into the different basis vectors"
     ]
    },
    {
     "cell_type": "code",
     "collapsed": false,
     "input": [
      "ncomp = 5\n",
      "pcomps = components[0:ncomp]"
     ],
     "language": "python",
     "metadata": {},
     "outputs": [],
     "prompt_number": 8
    },
    {
     "cell_type": "code",
     "collapsed": false,
     "input": [
      "coefs = np.empty((components.shape[0], ncomp))\n",
      "for i in range(len(coefs)):\n",
      "    for j in range(ncomp):\n",
      "        coefs[i,j] = np.sum(components[j] * (fluxes[i] -  mean))"
     ],
     "language": "python",
     "metadata": {},
     "outputs": [],
     "prompt_number": 9
    },
    {
     "cell_type": "code",
     "collapsed": false,
     "input": [
      "print(pcomps.shape)\n",
      "print(fluxes.shape)\n",
      "nfluxes = fluxes - mean"
     ],
     "language": "python",
     "metadata": {},
     "outputs": [
      {
       "output_type": "stream",
       "stream": "stdout",
       "text": [
        "(5, 2067)\n",
        "(112, 2067)\n"
       ]
      }
     ],
     "prompt_number": 10
    },
    {
     "cell_type": "code",
     "collapsed": false,
     "input": [
      "out = []\n",
      "for i in range(ncomp):\n",
      "    temp = np.sum(nfluxes * pcomps[i], axis=1)\n",
      "    out.append(temp)\n",
      "w = np.hstack(out)[np.newaxis].T"
     ],
     "language": "python",
     "metadata": {},
     "outputs": [],
     "prompt_number": 11
    },
    {
     "cell_type": "code",
     "collapsed": false,
     "input": [
      "w.shape"
     ],
     "language": "python",
     "metadata": {},
     "outputs": [
      {
       "metadata": {},
       "output_type": "pyout",
       "prompt_number": 12,
       "text": [
        "(560, 1)"
       ]
      }
     ],
     "prompt_number": 12
    },
    {
     "cell_type": "markdown",
     "metadata": {},
     "source": [
      "We need a `(m, nparams)` matrix of all of the stellar parameters, which have been standardized onto the interval `[0, 1]`"
     ]
    },
    {
     "cell_type": "code",
     "collapsed": false,
     "input": [
      "#Load all spectra into a grid \n",
      "gparams = np.empty((len(grid.list_grid_points), 3))\n",
      "\n",
      "for i, params in enumerate(grid.list_grid_points):\n",
      "    gparams[i, :] = np.array([params[\"temp\"], params[\"logg\"], params[\"Z\"]])\n",
      "    \n",
      "#Then standardize onto the interval 0 - 1\n",
      "mins = np.min(gparams, axis=0)\n",
      "maxs = np.max(gparams, axis=0)\n",
      "\n",
      "gparams = (gparams - mins)/(maxs - mins)"
     ],
     "language": "python",
     "metadata": {},
     "outputs": [],
     "prompt_number": 13
    },
    {
     "cell_type": "code",
     "collapsed": false,
     "input": [
      "#This has been standardized\n",
      "gparams"
     ],
     "language": "python",
     "metadata": {},
     "outputs": [
      {
       "metadata": {},
       "output_type": "pyout",
       "prompt_number": 14,
       "text": [
        "array([[ 0.        ,  0.        ,  0.        ],\n",
        "       [ 0.        ,  0.        ,  0.33333333],\n",
        "       [ 0.        ,  0.        ,  0.66666667],\n",
        "       [ 0.        ,  0.        ,  1.        ],\n",
        "       [ 0.        ,  0.33333333,  0.        ],\n",
        "       [ 0.        ,  0.33333333,  0.33333333],\n",
        "       [ 0.        ,  0.33333333,  0.66666667],\n",
        "       [ 0.        ,  0.33333333,  1.        ],\n",
        "       [ 0.        ,  0.66666667,  0.        ],\n",
        "       [ 0.        ,  0.66666667,  0.33333333],\n",
        "       [ 0.        ,  0.66666667,  0.66666667],\n",
        "       [ 0.        ,  0.66666667,  1.        ],\n",
        "       [ 0.        ,  1.        ,  0.        ],\n",
        "       [ 0.        ,  1.        ,  0.33333333],\n",
        "       [ 0.        ,  1.        ,  0.66666667],\n",
        "       [ 0.        ,  1.        ,  1.        ],\n",
        "       [ 0.16666667,  0.        ,  0.        ],\n",
        "       [ 0.16666667,  0.        ,  0.33333333],\n",
        "       [ 0.16666667,  0.        ,  0.66666667],\n",
        "       [ 0.16666667,  0.        ,  1.        ],\n",
        "       [ 0.16666667,  0.33333333,  0.        ],\n",
        "       [ 0.16666667,  0.33333333,  0.33333333],\n",
        "       [ 0.16666667,  0.33333333,  0.66666667],\n",
        "       [ 0.16666667,  0.33333333,  1.        ],\n",
        "       [ 0.16666667,  0.66666667,  0.        ],\n",
        "       [ 0.16666667,  0.66666667,  0.33333333],\n",
        "       [ 0.16666667,  0.66666667,  0.66666667],\n",
        "       [ 0.16666667,  0.66666667,  1.        ],\n",
        "       [ 0.16666667,  1.        ,  0.        ],\n",
        "       [ 0.16666667,  1.        ,  0.33333333],\n",
        "       [ 0.16666667,  1.        ,  0.66666667],\n",
        "       [ 0.16666667,  1.        ,  1.        ],\n",
        "       [ 0.33333333,  0.        ,  0.        ],\n",
        "       [ 0.33333333,  0.        ,  0.33333333],\n",
        "       [ 0.33333333,  0.        ,  0.66666667],\n",
        "       [ 0.33333333,  0.        ,  1.        ],\n",
        "       [ 0.33333333,  0.33333333,  0.        ],\n",
        "       [ 0.33333333,  0.33333333,  0.33333333],\n",
        "       [ 0.33333333,  0.33333333,  0.66666667],\n",
        "       [ 0.33333333,  0.33333333,  1.        ],\n",
        "       [ 0.33333333,  0.66666667,  0.        ],\n",
        "       [ 0.33333333,  0.66666667,  0.33333333],\n",
        "       [ 0.33333333,  0.66666667,  0.66666667],\n",
        "       [ 0.33333333,  0.66666667,  1.        ],\n",
        "       [ 0.33333333,  1.        ,  0.        ],\n",
        "       [ 0.33333333,  1.        ,  0.33333333],\n",
        "       [ 0.33333333,  1.        ,  0.66666667],\n",
        "       [ 0.33333333,  1.        ,  1.        ],\n",
        "       [ 0.5       ,  0.        ,  0.        ],\n",
        "       [ 0.5       ,  0.        ,  0.33333333],\n",
        "       [ 0.5       ,  0.        ,  0.66666667],\n",
        "       [ 0.5       ,  0.        ,  1.        ],\n",
        "       [ 0.5       ,  0.33333333,  0.        ],\n",
        "       [ 0.5       ,  0.33333333,  0.33333333],\n",
        "       [ 0.5       ,  0.33333333,  0.66666667],\n",
        "       [ 0.5       ,  0.33333333,  1.        ],\n",
        "       [ 0.5       ,  0.66666667,  0.        ],\n",
        "       [ 0.5       ,  0.66666667,  0.33333333],\n",
        "       [ 0.5       ,  0.66666667,  0.66666667],\n",
        "       [ 0.5       ,  0.66666667,  1.        ],\n",
        "       [ 0.5       ,  1.        ,  0.        ],\n",
        "       [ 0.5       ,  1.        ,  0.33333333],\n",
        "       [ 0.5       ,  1.        ,  0.66666667],\n",
        "       [ 0.5       ,  1.        ,  1.        ],\n",
        "       [ 0.66666667,  0.        ,  0.        ],\n",
        "       [ 0.66666667,  0.        ,  0.33333333],\n",
        "       [ 0.66666667,  0.        ,  0.66666667],\n",
        "       [ 0.66666667,  0.        ,  1.        ],\n",
        "       [ 0.66666667,  0.33333333,  0.        ],\n",
        "       [ 0.66666667,  0.33333333,  0.33333333],\n",
        "       [ 0.66666667,  0.33333333,  0.66666667],\n",
        "       [ 0.66666667,  0.33333333,  1.        ],\n",
        "       [ 0.66666667,  0.66666667,  0.        ],\n",
        "       [ 0.66666667,  0.66666667,  0.33333333],\n",
        "       [ 0.66666667,  0.66666667,  0.66666667],\n",
        "       [ 0.66666667,  0.66666667,  1.        ],\n",
        "       [ 0.66666667,  1.        ,  0.        ],\n",
        "       [ 0.66666667,  1.        ,  0.33333333],\n",
        "       [ 0.66666667,  1.        ,  0.66666667],\n",
        "       [ 0.66666667,  1.        ,  1.        ],\n",
        "       [ 0.83333333,  0.        ,  0.        ],\n",
        "       [ 0.83333333,  0.        ,  0.33333333],\n",
        "       [ 0.83333333,  0.        ,  0.66666667],\n",
        "       [ 0.83333333,  0.        ,  1.        ],\n",
        "       [ 0.83333333,  0.33333333,  0.        ],\n",
        "       [ 0.83333333,  0.33333333,  0.33333333],\n",
        "       [ 0.83333333,  0.33333333,  0.66666667],\n",
        "       [ 0.83333333,  0.33333333,  1.        ],\n",
        "       [ 0.83333333,  0.66666667,  0.        ],\n",
        "       [ 0.83333333,  0.66666667,  0.33333333],\n",
        "       [ 0.83333333,  0.66666667,  0.66666667],\n",
        "       [ 0.83333333,  0.66666667,  1.        ],\n",
        "       [ 0.83333333,  1.        ,  0.        ],\n",
        "       [ 0.83333333,  1.        ,  0.33333333],\n",
        "       [ 0.83333333,  1.        ,  0.66666667],\n",
        "       [ 0.83333333,  1.        ,  1.        ],\n",
        "       [ 1.        ,  0.        ,  0.        ],\n",
        "       [ 1.        ,  0.        ,  0.33333333],\n",
        "       [ 1.        ,  0.        ,  0.66666667],\n",
        "       [ 1.        ,  0.        ,  1.        ],\n",
        "       [ 1.        ,  0.33333333,  0.        ],\n",
        "       [ 1.        ,  0.33333333,  0.33333333],\n",
        "       [ 1.        ,  0.33333333,  0.66666667],\n",
        "       [ 1.        ,  0.33333333,  1.        ],\n",
        "       [ 1.        ,  0.66666667,  0.        ],\n",
        "       [ 1.        ,  0.66666667,  0.33333333],\n",
        "       [ 1.        ,  0.66666667,  0.66666667],\n",
        "       [ 1.        ,  0.66666667,  1.        ],\n",
        "       [ 1.        ,  1.        ,  0.        ],\n",
        "       [ 1.        ,  1.        ,  0.33333333],\n",
        "       [ 1.        ,  1.        ,  0.66666667],\n",
        "       [ 1.        ,  1.        ,  1.        ]])"
       ]
      }
     ],
     "prompt_number": 14
    },
    {
     "cell_type": "code",
     "collapsed": false,
     "input": [
      "np.prod(np.array([0.9, 0.9, 0.9]))"
     ],
     "language": "python",
     "metadata": {},
     "outputs": [
      {
       "metadata": {},
       "output_type": "pyout",
       "prompt_number": 54,
       "text": [
        "0.72900000000000009"
       ]
      }
     ],
     "prompt_number": 54
    },
    {
     "cell_type": "code",
     "collapsed": false,
     "input": [
      "def R(p0, p1, irhos):\n",
      "    '''\n",
      "    Autocorrelation function.\n",
      "    \n",
      "    p0, p1 : the two sets of parameters, each shape (nparams,)\n",
      "    \n",
      "    irhos : shape (nparams,)\n",
      "    '''\n",
      "    return np.prod(irhos**(4 * (p0 - p1)**2 ))"
     ],
     "language": "python",
     "metadata": {},
     "outputs": [],
     "prompt_number": 15
    },
    {
     "cell_type": "code",
     "collapsed": false,
     "input": [
      "R(gparams[1], gparams[2], np.array([0.9, 0.9, 0.9]))"
     ],
     "language": "python",
     "metadata": {},
     "outputs": [
      {
       "metadata": {},
       "output_type": "pyout",
       "prompt_number": 16,
       "text": [
        "0.95425256837580053"
       ]
      }
     ],
     "prompt_number": 16
    },
    {
     "cell_type": "markdown",
     "metadata": {},
     "source": [
      "$\\Lambda_{w_i} \\equiv \\lambda_{w_i}^{-1} R(\\theta^*; \\rho_{w_i})$"
     ]
    },
    {
     "cell_type": "code",
     "collapsed": false,
     "input": [
      "def R_func(x0i, x1i, x0v=None, x1v=None, irhos=None):\n",
      "    x0 = x0v[x0i]\n",
      "    x1 = x1v[x1i]   \n",
      "    return R(x0, x1, irhos)"
     ],
     "language": "python",
     "metadata": {},
     "outputs": [],
     "prompt_number": 96
    },
    {
     "cell_type": "code",
     "collapsed": false,
     "input": [
      "%load_ext cythonmagic"
     ],
     "language": "python",
     "metadata": {},
     "outputs": [],
     "prompt_number": 1
    },
    {
     "cell_type": "code",
     "collapsed": false,
     "input": [
      "%%cython\n",
      "import scipy.sparse as sp\n",
      "import numpy as np\n",
      "import math\n",
      "cimport numpy as np\n",
      "cimport cython\n",
      "\n",
      "def k(np.ndarray[np.double_t, ndim=1] p0, np.ndarray[np.double_t, ndim=1] p1, np.ndarray[np.double_t, ndim=1] params):\n",
      "    '''\n",
      "    Autocorrelation function.\n",
      "    \n",
      "    Assumes params are a**2, l_t^2, l_l^2, l_z^2 ...\n",
      "    '''\n",
      "    return params[0] * math.exp(-0.5 * np.sum((p0 - p1)**2/params[1:4]))\n",
      "\n",
      "def k2(np.ndarray[np.double_t, ndim=1] p0, np.ndarray[np.double_t, ndim=1] p1, np.ndarray[np.double_t, ndim=1] params):\n",
      "    return params[0] * math.exp(-0.5 * ((p0[0] - p1[0])**2/params[1] + (p0[1] - p1[1])**2/params[2] + (p0[2] - p1[2])**2/params[3]))\n",
      "\n",
      "def k3(np.ndarray[np.double_t, ndim=1] p0, np.ndarray[np.double_t, ndim=1] p1, double a2, double lt2, double ll2, double lz2):\n",
      "    return a2 * math.exp(-0.5 * ((p0[0] - p1[0])**2/lt2 + (p0[1] - p1[1])**2/ll2 + (p0[2] - p1[2])**2/lz2))"
     ],
     "language": "python",
     "metadata": {},
     "outputs": [],
     "prompt_number": 9
    },
    {
     "cell_type": "code",
     "collapsed": false,
     "input": [
      "%timeit k(np.array([3000., 4.5, 0.25]), np.array([3200, 5.5, -0.5]), np.array([1., 1e4,1.,1.]))"
     ],
     "language": "python",
     "metadata": {},
     "outputs": [
      {
       "output_type": "stream",
       "stream": "stdout",
       "text": [
        "10000 loops, best of 3: 40.7 \u00b5s per loop\n"
       ]
      }
     ],
     "prompt_number": 6
    },
    {
     "cell_type": "code",
     "collapsed": false,
     "input": [
      "%timeit k2(np.array([3000., 4.5, 0.25]), np.array([3200, 5.5, -0.5]), np.array([1., 1e4,1.,1.]))"
     ],
     "language": "python",
     "metadata": {},
     "outputs": [
      {
       "output_type": "stream",
       "stream": "stdout",
       "text": [
        "100000 loops, best of 3: 10.2 \u00b5s per loop\n"
       ]
      }
     ],
     "prompt_number": 8
    },
    {
     "cell_type": "code",
     "collapsed": false,
     "input": [
      "%timeit k3(np.array([3000., 4.5, 0.25]), np.array([3200, 5.5, -0.5]), 1., 1e4, 1., 1.) "
     ],
     "language": "python",
     "metadata": {},
     "outputs": [
      {
       "output_type": "stream",
       "stream": "stdout",
       "text": [
        "100000 loops, best of 3: 7.39 \u00b5s per loop\n"
       ]
      }
     ],
     "prompt_number": 10
    },
    {
     "cell_type": "code",
     "collapsed": false,
     "input": [
      "%%cython\n",
      "import scipy.sparse as sp\n",
      "import numpy as np\n",
      "import math\n",
      "cimport numpy as np\n",
      "cimport cython\n",
      "\n",
      "@cython.boundscheck(False)\n",
      "def R(np.ndarray[np.double_t, ndim=1] p0, np.ndarray[np.double_t, ndim=1] p1, np.ndarray[np.double_t, ndim=1] irhos):\n",
      "    '''\n",
      "    Autocorrelation function.\n",
      "    \n",
      "    p0, p1 : the two sets of parameters, each shape (nparams,)\n",
      "    \n",
      "    irhos : shape (nparams,)\n",
      "    '''\n",
      "    cdef double sum = 0.\n",
      "    cdef unsigned int i = 0\n",
      "    for i in range(3):\n",
      "        sum += 4. * (p0[i] - p1[i])*(p0[i] - p1[i]) * irhos[i]\n",
      "    return math.exp(sum)\n",
      "\n",
      "def csigma(int m, iprecision, irhos, gparams):\n",
      "    '''\n",
      "    Create the dense matrix using cython\n",
      "    '''\n",
      "    cdef int i = 0\n",
      "    cdef int j = 0\n",
      "    mat = np.empty((m,m), dtype=np.float64)\n",
      "    for i in range(m):\n",
      "        for j in range(m):\n",
      "                mat[i,j] = R(gparams[i], gparams[j], irhos)\n",
      "    return mat/iprecision"
     ],
     "language": "python",
     "metadata": {},
     "outputs": [
      {
       "output_type": "stream",
       "stream": "stderr",
       "text": [
        "/usr/lib/python3.4/site-packages/Cython/Utils.py:309: DeprecationWarning: 'U' mode is deprecated\n",
        "  encoding=encoding, errors=error_handling)\n",
        "/usr/lib/python3.4/site-packages/Cython/Utils.py:309: DeprecationWarning: 'U' mode is deprecated\n",
        "  encoding=encoding, errors=error_handling)\n",
        "/usr/lib/python3.4/site-packages/Cython/Utils.py:309: DeprecationWarning: 'U' mode is deprecated\n",
        "  encoding=encoding, errors=error_handling)\n",
        "/usr/lib/python3.4/site-packages/Cython/Utils.py:309: DeprecationWarning: 'U' mode is deprecated\n",
        "  encoding=encoding, errors=error_handling)\n",
        "/usr/lib/python3.4/site-packages/Cython/Utils.py:309: DeprecationWarning: 'U' mode is deprecated\n",
        "  encoding=encoding, errors=error_handling)\n",
        "/usr/lib/python3.4/site-packages/Cython/Utils.py:309: DeprecationWarning: 'U' mode is deprecated\n",
        "  encoding=encoding, errors=error_handling)\n",
        "/usr/lib/python3.4/site-packages/Cython/Utils.py:309: DeprecationWarning: 'U' mode is deprecated\n",
        "  encoding=encoding, errors=error_handling)\n",
        "/usr/lib/python3.4/site-packages/Cython/Utils.py:309: DeprecationWarning: 'U' mode is deprecated\n",
        "  encoding=encoding, errors=error_handling)\n"
       ]
      },
      {
       "output_type": "stream",
       "stream": "stderr",
       "text": [
        "/usr/lib/python3.4/site-packages/Cython/Utils.py:309: DeprecationWarning: 'U' mode is deprecated\n",
        "  encoding=encoding, errors=error_handling)\n",
        "/usr/lib/python3.4/site-packages/Cython/Utils.py:309: DeprecationWarning: 'U' mode is deprecated\n",
        "  encoding=encoding, errors=error_handling)\n"
       ]
      },
      {
       "output_type": "stream",
       "stream": "stderr",
       "text": [
        "/usr/lib/python3.4/site-packages/Cython/Utils.py:309: DeprecationWarning: 'U' mode is deprecated\n",
        "  encoding=encoding, errors=error_handling)\n",
        "/usr/lib/python3.4/site-packages/Cython/Utils.py:309: DeprecationWarning: 'U' mode is deprecated\n",
        "  encoding=encoding, errors=error_handling)\n",
        "/usr/lib/python3.4/site-packages/Cython/Utils.py:309: DeprecationWarning: 'U' mode is deprecated\n",
        "  encoding=encoding, errors=error_handling)\n",
        "/usr/lib/python3.4/site-packages/Cython/Utils.py:309: DeprecationWarning: 'U' mode is deprecated\n",
        "  encoding=encoding, errors=error_handling)\n"
       ]
      },
      {
       "output_type": "stream",
       "stream": "stderr",
       "text": [
        "/usr/lib/python3.4/site-packages/Cython/Utils.py:309: DeprecationWarning: 'U' mode is deprecated\n",
        "  encoding=encoding, errors=error_handling)\n",
        "/usr/lib/python3.4/site-packages/Cython/Utils.py:309: DeprecationWarning: 'U' mode is deprecated\n",
        "  encoding=encoding, errors=error_handling)\n",
        "/usr/lib/python3.4/site-packages/Cython/Utils.py:309: DeprecationWarning: 'U' mode is deprecated\n",
        "  encoding=encoding, errors=error_handling)\n",
        "/usr/lib/python3.4/site-packages/Cython/Utils.py:309: DeprecationWarning: 'U' mode is deprecated\n",
        "  encoding=encoding, errors=error_handling)\n",
        "/usr/lib/python3.4/site-packages/Cython/Utils.py:309: DeprecationWarning: 'U' mode is deprecated\n",
        "  encoding=encoding, errors=error_handling)\n",
        "/usr/lib/python3.4/site-packages/Cython/Utils.py:309: DeprecationWarning: 'U' mode is deprecated\n",
        "  encoding=encoding, errors=error_handling)\n",
        "/usr/lib/python3.4/site-packages/Cython/Utils.py:309: DeprecationWarning: 'U' mode is deprecated\n",
        "  encoding=encoding, errors=error_handling)\n",
        "/usr/lib/python3.4/site-packages/Cython/Utils.py:309: DeprecationWarning: 'U' mode is deprecated\n",
        "  encoding=encoding, errors=error_handling)\n"
       ]
      },
      {
       "output_type": "stream",
       "stream": "stderr",
       "text": [
        "/usr/lib/python3.4/site-packages/Cython/Utils.py:309: DeprecationWarning: 'U' mode is deprecated\n",
        "  encoding=encoding, errors=error_handling)\n",
        "/usr/lib/python3.4/site-packages/Cython/Utils.py:309: DeprecationWarning: 'U' mode is deprecated\n",
        "  encoding=encoding, errors=error_handling)\n",
        "/usr/lib/python3.4/site-packages/Cython/Utils.py:309: DeprecationWarning: 'U' mode is deprecated\n",
        "  encoding=encoding, errors=error_handling)\n",
        "/usr/lib/python3.4/site-packages/Cython/Utils.py:309: DeprecationWarning: 'U' mode is deprecated\n",
        "  encoding=encoding, errors=error_handling)\n",
        "/usr/lib/python3.4/site-packages/Cython/Utils.py:309: DeprecationWarning: 'U' mode is deprecated\n",
        "  encoding=encoding, errors=error_handling)\n"
       ]
      }
     ],
     "prompt_number": 18
    },
    {
     "cell_type": "code",
     "collapsed": false,
     "input": [
      "R(np.array([0.0, 0.0, 0.25]), np.array([0.25, 0.25, 0.0]), np.array([0.9,0.9,0.9]))"
     ],
     "language": "python",
     "metadata": {},
     "outputs": [
      {
       "metadata": {},
       "output_type": "pyout",
       "prompt_number": 23,
       "text": [
        "0.92402108647230685"
       ]
      }
     ],
     "prompt_number": 23
    },
    {
     "cell_type": "code",
     "collapsed": false,
     "input": [
      "%timeit R(np.array([0.0, 0.0, 0.25]), np.array([0.25, 0.25, 0.0]), np.array([0.9,0.9,0.9]))"
     ],
     "language": "python",
     "metadata": {},
     "outputs": [
      {
       "output_type": "stream",
       "stream": "stdout",
       "text": [
        "100000 loops, best of 3: 9.61 \u00b5s per loop\n"
       ]
      }
     ],
     "prompt_number": 38
    },
    {
     "cell_type": "code",
     "collapsed": false,
     "input": [
      "%timeit np.exp(-0.5)"
     ],
     "language": "python",
     "metadata": {},
     "outputs": [
      {
       "output_type": "stream",
       "stream": "stdout",
       "text": [
        "100000 loops, best of 3: 2.33 \u00b5s per loop\n"
       ]
      }
     ],
     "prompt_number": 34
    },
    {
     "cell_type": "code",
     "collapsed": false,
     "input": [
      "import math"
     ],
     "language": "python",
     "metadata": {},
     "outputs": [],
     "prompt_number": 35
    },
    {
     "cell_type": "code",
     "collapsed": false,
     "input": [
      "%timeit math.exp(-0.5)"
     ],
     "language": "python",
     "metadata": {},
     "outputs": [
      {
       "output_type": "stream",
       "stream": "stdout",
       "text": [
        "10000000 loops, best of 3: 168 ns per loop\n"
       ]
      }
     ],
     "prompt_number": 36
    },
    {
     "cell_type": "code",
     "collapsed": false,
     "input": [
      "#Reports: Just numpy as cython: 36us\n",
      "#Doing **: 9us (not full implementation)\n",
      "#Actually exponentiating: 12.6 us\n",
      "#Using a for loop: 12.7us\n",
      "#Turning off bounds checking 12.6us\n",
      "#Using math.exp 9.6us\n"
     ],
     "language": "python",
     "metadata": {},
     "outputs": [
      {
       "metadata": {},
       "output_type": "pyout",
       "prompt_number": 15,
       "text": [
        "0.401408"
       ]
      }
     ],
     "prompt_number": 15
    },
    {
     "cell_type": "code",
     "collapsed": false,
     "input": [
      "xs = np.arange(500)\n",
      "plt.plot(xs, 95.7e-6*xs**2)\n",
      "plt.xlabel(\"simulations\")\n",
      "plt.ylabel(\"execution time [s]\")\n",
      "plt.show()\n",
      "#95.7e-6 * 500 * 500"
     ],
     "language": "python",
     "metadata": {},
     "outputs": [
      {
       "output_type": "stream",
       "stream": "stderr",
       "text": [
        "/usr/lib/python3.4/site-packages/matplotlib/texmanager.py:575: DeprecationWarning: npy_PyFile_Dup is deprecated, use npy_PyFile_Dup2\n",
        "  X = read_png(os.path.join(self.texcache, pngfile))\n",
        "/usr/lib/python3.4/site-packages/matplotlib/texmanager.py:575: DeprecationWarning: npy_PyFile_Dup is deprecated, use npy_PyFile_Dup2\n",
        "  X = read_png(os.path.join(self.texcache, pngfile))\n"
       ]
      }
     ],
     "prompt_number": 125
    },
    {
     "cell_type": "code",
     "collapsed": false,
     "input": [
      "%timeit csigma(m, 1.0, np.array([0.9,0.9,0.9]), gparams)"
     ],
     "language": "python",
     "metadata": {},
     "outputs": [
      {
       "output_type": "stream",
       "stream": "stdout",
       "text": [
        "1 loops, best of 3: 807 ms per loop\n"
       ]
      }
     ],
     "prompt_number": 143
    },
    {
     "cell_type": "code",
     "collapsed": true,
     "input": [
      "mat = np.fromfunction(R_func, (m,m), x0v=gparams, x1v=gparams, \n",
      "                      irhos=np.array([0.9,0.9,0.9]), dtype=np.int)"
     ],
     "language": "python",
     "metadata": {},
     "outputs": [],
     "prompt_number": 97
    },
    {
     "cell_type": "code",
     "collapsed": false,
     "input": [
      "def Sigma_i(iprecision, irhos):\n",
      "    '''\n",
      "    Function to create the dense matrix Sigma, for a specific eigenspectra \n",
      "    \n",
      "    iprecision : scalar\n",
      "    irhos : shape (nparams,)\n",
      "    \n",
      "    returns a matrix with shape (m, m)\n",
      "    '''\n",
      "    mat = sp.dok_matrix((m,m), dtype=np.float64)\n",
      "    for i in range(m):\n",
      "        for j in range(m):\n",
      "            mat[i,j] = iprecision * R(gparams[i], gparams[j], irhos)\n",
      "        \n",
      "    return mat"
     ],
     "language": "python",
     "metadata": {},
     "outputs": [],
     "prompt_number": 19
    },
    {
     "cell_type": "code",
     "collapsed": false,
     "input": [
      "%timeit Sigma_i(1.0, np.array([0.9, 0.9, 0.9]))"
     ],
     "language": "python",
     "metadata": {},
     "outputs": [
      {
       "output_type": "stream",
       "stream": "stdout",
       "text": [
        "1 loops, best of 3: 1.5 s per loop\n"
       ]
      }
     ],
     "prompt_number": 145
    },
    {
     "cell_type": "code",
     "collapsed": false,
     "input": [
      "def Sigma(precisions, rhos):\n",
      "    '''\n",
      "    Create all Sigmas\n",
      "    '''\n",
      "    sigmas = []\n",
      "    \n",
      "    for iprecision, irhos in zip(precisions, rhos):\n",
      "        sigmas.append(Sigma_i(iprecision, irhos))\n",
      "        \n",
      "    return sp.block_diag(sigmas)"
     ],
     "language": "python",
     "metadata": {},
     "outputs": [],
     "prompt_number": 20
    },
    {
     "cell_type": "code",
     "collapsed": false,
     "input": [
      "bigsig = Sigma(np.random.uniform(size=(5,)), np.random.uniform(size=(5, 3)))"
     ],
     "language": "python",
     "metadata": {},
     "outputs": [],
     "prompt_number": 147
    },
    {
     "cell_type": "code",
     "collapsed": false,
     "input": [
      "%timeit Sigma(np.random.uniform(size=(5,)), np.random.uniform(size=(5, 3)))"
     ],
     "language": "python",
     "metadata": {},
     "outputs": [
      {
       "output_type": "stream",
       "stream": "stdout",
       "text": [
        "1 loops, best of 3: 8 s per loop\n"
       ]
      }
     ],
     "prompt_number": 148
    },
    {
     "cell_type": "markdown",
     "metadata": {},
     "source": [
      "## Bayesian Emulator\n",
      "\n",
      "Modeled after Habib et al. 2007 and Heitmann et al. 2009. \n",
      "\n",
      "Our first goal is to construct the posterior distribution described by Heitmann Eqn. B17, and then sample from it using `emcee`.\n",
      "\n",
      "The second goal is to produce weights from the GP in Eqn. B19. "
     ]
    },
    {
     "cell_type": "markdown",
     "metadata": {},
     "source": [
      "### Constructing the Posterior distribution\n",
      "\n",
      "Assume that $m=500$ is the number of synthetic spectra in the grid.\n",
      "\n",
      "We will need functions to compute the following\n",
      "\n",
      "* $\\Phi$ : matrix of size `(Npix*m, m*5)`\n",
      "* $\\mathcal{P}^*$ : vector of length `(Npix*500)`\n",
      "* $\\hat{w}$\n",
      "* $\\Sigma_{w_i}$ : determined by $R(\\theta, \\theta^\\prime ; \\rho_{w_i})$\n",
      "* $\\Sigma_{w}$"
     ]
    },
    {
     "cell_type": "code",
     "collapsed": false,
     "input": [
      "print(components.shape)"
     ],
     "language": "python",
     "metadata": {},
     "outputs": [
      {
       "output_type": "stream",
       "stream": "stdout",
       "text": [
        "(500, 554)\n"
       ]
      }
     ],
     "prompt_number": 204
    },
    {
     "cell_type": "code",
     "collapsed": false,
     "input": [
      "b = np.random.uniform(size=(50,1))\n",
      "#b = b[np.newaxis].T\n",
      "pp = np.kron(np.eye(10), b)"
     ],
     "language": "python",
     "metadata": {},
     "outputs": [],
     "prompt_number": 218
    },
    {
     "cell_type": "code",
     "collapsed": false,
     "input": [
      "PP = np.hstack((pp, pp, pp, pp, pp))"
     ],
     "language": "python",
     "metadata": {},
     "outputs": [],
     "prompt_number": 219
    },
    {
     "cell_type": "code",
     "collapsed": false,
     "input": [
      "plt.imshow(PP, origin=\"upper\", interpolation=\"none\")\n",
      "plt.show()"
     ],
     "language": "python",
     "metadata": {},
     "outputs": [
      {
       "output_type": "stream",
       "stream": "stderr",
       "text": [
        "/usr/lib/python3.4/site-packages/matplotlib/texmanager.py:575: DeprecationWarning: npy_PyFile_Dup is deprecated, use npy_PyFile_Dup2\n",
        "  X = read_png(os.path.join(self.texcache, pngfile))\n",
        "/usr/lib/python3.4/site-packages/matplotlib/texmanager.py:575: DeprecationWarning: npy_PyFile_Dup is deprecated, use npy_PyFile_Dup2\n",
        "  X = read_png(os.path.join(self.texcache, pngfile))\n",
        "/usr/lib/python3.4/site-packages/matplotlib/texmanager.py:575: DeprecationWarning: npy_PyFile_Dup is deprecated, use npy_PyFile_Dup2\n",
        "  X = read_png(os.path.join(self.texcache, pngfile))\n",
        "/usr/lib/python3.4/site-packages/matplotlib/texmanager.py:575: DeprecationWarning: npy_PyFile_Dup is deprecated, use npy_PyFile_Dup2\n",
        "  X = read_png(os.path.join(self.texcache, pngfile))\n",
        "/usr/lib/python3.4/site-packages/matplotlib/texmanager.py:575: DeprecationWarning: npy_PyFile_Dup is deprecated, use npy_PyFile_Dup2\n",
        "  X = read_png(os.path.join(self.texcache, pngfile))\n"
       ]
      }
     ],
     "prompt_number": 220
    },
    {
     "cell_type": "code",
     "collapsed": false,
     "input": [
      "PP.T.dot(PP)"
     ],
     "language": "python",
     "metadata": {},
     "outputs": [
      {
       "metadata": {},
       "output_type": "pyout",
       "prompt_number": 221,
       "text": [
        "array([[ 17.49345505,   0.        ,   0.        , ...,   0.        ,\n",
        "          0.        ,   0.        ],\n",
        "       [  0.        ,  17.49345505,   0.        , ...,   0.        ,\n",
        "          0.        ,   0.        ],\n",
        "       [  0.        ,   0.        ,  17.49345505, ...,   0.        ,\n",
        "          0.        ,   0.        ],\n",
        "       ..., \n",
        "       [  0.        ,   0.        ,   0.        , ...,  17.49345505,\n",
        "          0.        ,   0.        ],\n",
        "       [  0.        ,   0.        ,   0.        , ...,   0.        ,\n",
        "         17.49345505,   0.        ],\n",
        "       [  0.        ,   0.        ,   0.        , ...,   0.        ,\n",
        "          0.        ,  17.49345505]])"
       ]
      }
     ],
     "prompt_number": 221
    },
    {
     "cell_type": "code",
     "collapsed": false,
     "input": [
      "plt.imshow(np.dot(PP.T, PP),origin=\"upper\", interpolation=\"none\")\n",
      "plt.show()"
     ],
     "language": "python",
     "metadata": {},
     "outputs": [],
     "prompt_number": 222
    },
    {
     "cell_type": "code",
     "collapsed": false,
     "input": [
      "#Assumes that the following variables are defined\n",
      "#m = number of simulations\n",
      "#pcomps = array of principal components, truncated to how many we want\n",
      "\n",
      "\n",
      "def Phi():\n",
      "    '''\n",
      "    Use the ncomponents to create the large Phi matrix\n",
      "    '''\n",
      "    out = []\n",
      "    #First, assemble the sub-phis\n",
      "    for component in pcomps:\n",
      "        out.append(sp.kron(sp.eye(m, format=\"csc\"), component[np.newaxis].T, format=\"csc\"))\n",
      "    return sp.hstack(out, format=\"csc\")"
     ],
     "language": "python",
     "metadata": {},
     "outputs": [],
     "prompt_number": 27
    },
    {
     "cell_type": "code",
     "collapsed": false,
     "input": [
      "PHI = Phi()"
     ],
     "language": "python",
     "metadata": {},
     "outputs": [],
     "prompt_number": 22
    },
    {
     "cell_type": "code",
     "collapsed": false,
     "input": [
      "plt.spy(PHI, aspect=\"auto\")\n",
      "plt.show()"
     ],
     "language": "python",
     "metadata": {},
     "outputs": [
      {
       "output_type": "stream",
       "stream": "stderr",
       "text": [
        "/usr/lib/python3.4/site-packages/matplotlib/texmanager.py:575: DeprecationWarning: npy_PyFile_Dup is deprecated, use npy_PyFile_Dup2\n",
        "  X = read_png(os.path.join(self.texcache, pngfile))\n",
        "/usr/lib/python3.4/site-packages/matplotlib/texmanager.py:575: DeprecationWarning: npy_PyFile_Dup is deprecated, use npy_PyFile_Dup2\n",
        "  X = read_png(os.path.join(self.texcache, pngfile))\n",
        "/usr/lib/python3.4/site-packages/matplotlib/texmanager.py:575: DeprecationWarning: npy_PyFile_Dup is deprecated, use npy_PyFile_Dup2\n",
        "  X = read_png(os.path.join(self.texcache, pngfile))\n",
        "/usr/lib/python3.4/site-packages/matplotlib/texmanager.py:575: DeprecationWarning: npy_PyFile_Dup is deprecated, use npy_PyFile_Dup2\n",
        "  X = read_png(os.path.join(self.texcache, pngfile))\n",
        "/usr/lib/python3.4/site-packages/matplotlib/texmanager.py:575: DeprecationWarning: npy_PyFile_Dup is deprecated, use npy_PyFile_Dup2\n",
        "  X = read_png(os.path.join(self.texcache, pngfile))\n",
        "/usr/lib/python3.4/site-packages/matplotlib/texmanager.py:575: DeprecationWarning: npy_PyFile_Dup is deprecated, use npy_PyFile_Dup2\n",
        "  X = read_png(os.path.join(self.texcache, pngfile))\n",
        "/usr/lib/python3.4/site-packages/matplotlib/texmanager.py:575: DeprecationWarning: npy_PyFile_Dup is deprecated, use npy_PyFile_Dup2\n",
        "  X = read_png(os.path.join(self.texcache, pngfile))\n"
       ]
      },
      {
       "output_type": "stream",
       "stream": "stderr",
       "text": [
        "/usr/lib/python3.4/site-packages/matplotlib/texmanager.py:575: DeprecationWarning: npy_PyFile_Dup is deprecated, use npy_PyFile_Dup2\n",
        "  X = read_png(os.path.join(self.texcache, pngfile))\n",
        "/usr/lib/python3.4/site-packages/matplotlib/texmanager.py:575: DeprecationWarning: npy_PyFile_Dup is deprecated, use npy_PyFile_Dup2\n",
        "  X = read_png(os.path.join(self.texcache, pngfile))\n",
        "/usr/lib/python3.4/site-packages/matplotlib/texmanager.py:575: DeprecationWarning: npy_PyFile_Dup is deprecated, use npy_PyFile_Dup2\n",
        "  X = read_png(os.path.join(self.texcache, pngfile))\n",
        "/usr/lib/python3.4/site-packages/matplotlib/texmanager.py:575: DeprecationWarning: npy_PyFile_Dup is deprecated, use npy_PyFile_Dup2\n",
        "  X = read_png(os.path.join(self.texcache, pngfile))\n",
        "/usr/lib/python3.4/site-packages/matplotlib/texmanager.py:575: DeprecationWarning: npy_PyFile_Dup is deprecated, use npy_PyFile_Dup2\n",
        "  X = read_png(os.path.join(self.texcache, pngfile))\n"
       ]
      }
     ],
     "prompt_number": 23
    },
    {
     "cell_type": "code",
     "collapsed": false,
     "input": [
      "PHI.shape"
     ],
     "language": "python",
     "metadata": {},
     "outputs": [
      {
       "metadata": {},
       "output_type": "pyout",
       "prompt_number": 32,
       "text": [
        "(231504, 560)"
       ]
      }
     ],
     "prompt_number": 32
    },
    {
     "cell_type": "code",
     "collapsed": true,
     "input": [
      "p = PHI.T.dot(PHI).tocsc()"
     ],
     "language": "python",
     "metadata": {},
     "outputs": [],
     "prompt_number": 24
    },
    {
     "cell_type": "code",
     "collapsed": false,
     "input": [
      "plt.spy(PHI, aspect=\"auto\")\n",
      "plt.show()"
     ],
     "language": "python",
     "metadata": {},
     "outputs": [],
     "prompt_number": 37
    },
    {
     "cell_type": "code",
     "collapsed": true,
     "input": [
      "plt.spy(p, aspect=\"auto\")\n",
      "plt.show()"
     ],
     "language": "python",
     "metadata": {},
     "outputs": [],
     "prompt_number": 36
    },
    {
     "cell_type": "code",
     "collapsed": false,
     "input": [
      "plt.spy(PHI.T, aspect=\"auto\")\n",
      "plt.show()"
     ],
     "language": "python",
     "metadata": {},
     "outputs": [],
     "prompt_number": 34
    },
    {
     "cell_type": "code",
     "collapsed": false,
     "input": [
      "pd= p.todense()"
     ],
     "language": "python",
     "metadata": {},
     "outputs": [],
     "prompt_number": 16
    },
    {
     "cell_type": "code",
     "collapsed": false,
     "input": [
      "plt.plot(np.diag(pd) - np.mean(pd))\n",
      "plt.show()"
     ],
     "language": "python",
     "metadata": {},
     "outputs": [],
     "prompt_number": 212
    },
    {
     "cell_type": "code",
     "collapsed": false,
     "input": [
      "plt.imshow(pd, origin=\"upper\", interpolation=\"none\")\n",
      "plt.colorbar()\n",
      "plt.show()\n"
     ],
     "language": "python",
     "metadata": {},
     "outputs": []
    },
    {
     "cell_type": "code",
     "collapsed": false,
     "input": [
      "recons = PHI.dot(w)\n",
      "recons"
     ],
     "language": "python",
     "metadata": {},
     "outputs": [
      {
       "metadata": {},
       "output_type": "pyout",
       "prompt_number": 24,
       "text": [
        "array([[  48467.81265632],\n",
        "       [  52348.39631862],\n",
        "       [  54881.04945862],\n",
        "       ..., \n",
        "       [-110923.43756562],\n",
        "       [-108631.90031287],\n",
        "       [-105413.74731364]])"
       ]
      }
     ],
     "prompt_number": 24
    },
    {
     "cell_type": "code",
     "collapsed": false,
     "input": [
      "recons = recons.reshape(m,-1) + mean"
     ],
     "language": "python",
     "metadata": {},
     "outputs": [],
     "prompt_number": 25
    },
    {
     "cell_type": "code",
     "collapsed": false,
     "input": [
      "recons"
     ],
     "language": "python",
     "metadata": {},
     "outputs": [
      {
       "metadata": {},
       "output_type": "pyout",
       "prompt_number": 26,
       "text": [
        "array([[ 1620166.73229918,  1634685.7177472 ,  1641390.52825326, ...,\n",
        "         1108639.44235073,  1104441.05957111,  1097926.97610255],\n",
        "       [ 1648293.55648544,  1658232.55660144,  1662482.81676333, ...,\n",
        "         1145800.64903134,  1142791.63901973,  1137198.59605514],\n",
        "       [ 1663895.75010882,  1671709.63903263,  1675303.58434362, ...,\n",
        "         1163081.9095996 ,  1160536.44258387,  1155455.39497391],\n",
        "       ..., \n",
        "       [ 1472703.25608416,  1483182.73275429,  1486867.28603399, ...,\n",
        "          865985.84184786,   865157.22252306,   864155.79061586],\n",
        "       [ 1490293.47244533,  1498484.83634722,  1500438.2461166 , ...,\n",
        "          877519.93868236,   877049.21794392,   876317.08213647],\n",
        "       [ 1517594.41508184,  1524011.58721526,  1524636.32020694, ...,\n",
        "          889866.3157826 ,   889261.90828088,   888456.03840064]])"
       ]
      }
     ],
     "prompt_number": 26
    },
    {
     "cell_type": "code",
     "collapsed": false,
     "input": [
      "orig = np.ravel(fluxes)\n",
      "orign = np.ravel(fluxes - mean)\n",
      "recons = np.ravel(recons)"
     ],
     "language": "python",
     "metadata": {},
     "outputs": [],
     "prompt_number": 27
    },
    {
     "cell_type": "code",
     "collapsed": false,
     "input": [
      "fig, ax = plt.subplots(nrows=2, sharex=True)\n",
      "ax[0].plot(orig)\n",
      "ax[0].plot(recons)\n",
      "ax[1].plot((orig - recons)/orig * 100)\n",
      "plt.show()"
     ],
     "language": "python",
     "metadata": {},
     "outputs": [
      {
       "output_type": "stream",
       "stream": "stderr",
       "text": [
        "/usr/lib/python3.4/site-packages/matplotlib/texmanager.py:575: DeprecationWarning: npy_PyFile_Dup is deprecated, use npy_PyFile_Dup2\n",
        "  X = read_png(os.path.join(self.texcache, pngfile))\n",
        "/usr/lib/python3.4/site-packages/matplotlib/texmanager.py:575: DeprecationWarning: npy_PyFile_Dup is deprecated, use npy_PyFile_Dup2\n",
        "  X = read_png(os.path.join(self.texcache, pngfile))\n",
        "/usr/lib/python3.4/site-packages/matplotlib/texmanager.py:575: DeprecationWarning: npy_PyFile_Dup is deprecated, use npy_PyFile_Dup2\n",
        "  X = read_png(os.path.join(self.texcache, pngfile))\n",
        "/usr/lib/python3.4/site-packages/matplotlib/texmanager.py:575: DeprecationWarning: npy_PyFile_Dup is deprecated, use npy_PyFile_Dup2\n",
        "  X = read_png(os.path.join(self.texcache, pngfile))\n"
       ]
      },
      {
       "output_type": "stream",
       "stream": "stderr",
       "text": [
        "/usr/lib/python3.4/site-packages/matplotlib/texmanager.py:575: DeprecationWarning: npy_PyFile_Dup is deprecated, use npy_PyFile_Dup2\n",
        "  X = read_png(os.path.join(self.texcache, pngfile))\n",
        "/usr/lib/python3.4/site-packages/matplotlib/texmanager.py:575: DeprecationWarning: npy_PyFile_Dup is deprecated, use npy_PyFile_Dup2\n",
        "  X = read_png(os.path.join(self.texcache, pngfile))\n",
        "/usr/lib/python3.4/site-packages/matplotlib/texmanager.py:575: DeprecationWarning: npy_PyFile_Dup is deprecated, use npy_PyFile_Dup2\n",
        "  X = read_png(os.path.join(self.texcache, pngfile))\n",
        "/usr/lib/python3.4/site-packages/matplotlib/texmanager.py:575: DeprecationWarning: npy_PyFile_Dup is deprecated, use npy_PyFile_Dup2\n",
        "  X = read_png(os.path.join(self.texcache, pngfile))\n",
        "/usr/lib/python3.4/site-packages/matplotlib/texmanager.py:575: DeprecationWarning: npy_PyFile_Dup is deprecated, use npy_PyFile_Dup2\n",
        "  X = read_png(os.path.join(self.texcache, pngfile))\n",
        "/usr/lib/python3.4/site-packages/matplotlib/texmanager.py:575: DeprecationWarning: npy_PyFile_Dup is deprecated, use npy_PyFile_Dup2\n",
        "  X = read_png(os.path.join(self.texcache, pngfile))\n"
       ]
      },
      {
       "output_type": "stream",
       "stream": "stderr",
       "text": [
        "/usr/lib/python3.4/site-packages/matplotlib/texmanager.py:575: DeprecationWarning: npy_PyFile_Dup is deprecated, use npy_PyFile_Dup2\n",
        "  X = read_png(os.path.join(self.texcache, pngfile))\n",
        "/usr/lib/python3.4/site-packages/matplotlib/texmanager.py:575: DeprecationWarning: npy_PyFile_Dup is deprecated, use npy_PyFile_Dup2\n",
        "  X = read_png(os.path.join(self.texcache, pngfile))\n",
        "/usr/lib/python3.4/site-packages/matplotlib/texmanager.py:575: DeprecationWarning: npy_PyFile_Dup is deprecated, use npy_PyFile_Dup2\n",
        "  X = read_png(os.path.join(self.texcache, pngfile))\n"
       ]
      },
      {
       "output_type": "stream",
       "stream": "stderr",
       "text": [
        "/usr/lib/python3.4/site-packages/matplotlib/texmanager.py:575: DeprecationWarning: npy_PyFile_Dup is deprecated, use npy_PyFile_Dup2\n",
        "  X = read_png(os.path.join(self.texcache, pngfile))\n",
        "/usr/lib/python3.4/site-packages/matplotlib/texmanager.py:575: DeprecationWarning: npy_PyFile_Dup is deprecated, use npy_PyFile_Dup2\n",
        "  X = read_png(os.path.join(self.texcache, pngfile))\n",
        "/usr/lib/python3.4/site-packages/matplotlib/texmanager.py:575: DeprecationWarning: npy_PyFile_Dup is deprecated, use npy_PyFile_Dup2\n",
        "  X = read_png(os.path.join(self.texcache, pngfile))\n",
        "/usr/lib/python3.4/site-packages/matplotlib/texmanager.py:575: DeprecationWarning: npy_PyFile_Dup is deprecated, use npy_PyFile_Dup2\n",
        "  X = read_png(os.path.join(self.texcache, pngfile))\n",
        "/usr/lib/python3.4/site-packages/matplotlib/texmanager.py:575: DeprecationWarning: npy_PyFile_Dup is deprecated, use npy_PyFile_Dup2\n",
        "  X = read_png(os.path.join(self.texcache, pngfile))\n",
        "/usr/lib/python3.4/site-packages/matplotlib/texmanager.py:575: DeprecationWarning: npy_PyFile_Dup is deprecated, use npy_PyFile_Dup2\n",
        "  X = read_png(os.path.join(self.texcache, pngfile))\n",
        "/usr/lib/python3.4/site-packages/matplotlib/texmanager.py:575: DeprecationWarning: npy_PyFile_Dup is deprecated, use npy_PyFile_Dup2\n",
        "  X = read_png(os.path.join(self.texcache, pngfile))\n"
       ]
      },
      {
       "output_type": "stream",
       "stream": "stderr",
       "text": [
        "/usr/lib/python3.4/site-packages/matplotlib/texmanager.py:575: DeprecationWarning: npy_PyFile_Dup is deprecated, use npy_PyFile_Dup2\n",
        "  X = read_png(os.path.join(self.texcache, pngfile))\n",
        "/usr/lib/python3.4/site-packages/matplotlib/texmanager.py:575: DeprecationWarning: npy_PyFile_Dup is deprecated, use npy_PyFile_Dup2\n",
        "  X = read_png(os.path.join(self.texcache, pngfile))\n",
        "/usr/lib/python3.4/site-packages/matplotlib/texmanager.py:575: DeprecationWarning: npy_PyFile_Dup is deprecated, use npy_PyFile_Dup2\n",
        "  X = read_png(os.path.join(self.texcache, pngfile))\n",
        "/usr/lib/python3.4/site-packages/matplotlib/texmanager.py:575: DeprecationWarning: npy_PyFile_Dup is deprecated, use npy_PyFile_Dup2\n",
        "  X = read_png(os.path.join(self.texcache, pngfile))\n",
        "/usr/lib/python3.4/site-packages/matplotlib/texmanager.py:575: DeprecationWarning: npy_PyFile_Dup is deprecated, use npy_PyFile_Dup2\n",
        "  X = read_png(os.path.join(self.texcache, pngfile))\n"
       ]
      },
      {
       "output_type": "stream",
       "stream": "stderr",
       "text": [
        "/usr/lib/python3.4/site-packages/matplotlib/texmanager.py:575: DeprecationWarning: npy_PyFile_Dup is deprecated, use npy_PyFile_Dup2\n",
        "  X = read_png(os.path.join(self.texcache, pngfile))\n",
        "/usr/lib/python3.4/site-packages/matplotlib/texmanager.py:575: DeprecationWarning: npy_PyFile_Dup is deprecated, use npy_PyFile_Dup2\n",
        "  X = read_png(os.path.join(self.texcache, pngfile))\n",
        "/usr/lib/python3.4/site-packages/matplotlib/texmanager.py:575: DeprecationWarning: npy_PyFile_Dup is deprecated, use npy_PyFile_Dup2\n",
        "  X = read_png(os.path.join(self.texcache, pngfile))\n",
        "/usr/lib/python3.4/site-packages/matplotlib/texmanager.py:575: DeprecationWarning: npy_PyFile_Dup is deprecated, use npy_PyFile_Dup2\n",
        "  X = read_png(os.path.join(self.texcache, pngfile))\n",
        "/usr/lib/python3.4/site-packages/matplotlib/texmanager.py:575: DeprecationWarning: npy_PyFile_Dup is deprecated, use npy_PyFile_Dup2\n",
        "  X = read_png(os.path.join(self.texcache, pngfile))\n",
        "/usr/lib/python3.4/site-packages/matplotlib/texmanager.py:575: DeprecationWarning: npy_PyFile_Dup is deprecated, use npy_PyFile_Dup2\n",
        "  X = read_png(os.path.join(self.texcache, pngfile))\n",
        "/usr/lib/python3.4/site-packages/matplotlib/texmanager.py:575: DeprecationWarning: npy_PyFile_Dup is deprecated, use npy_PyFile_Dup2\n",
        "  X = read_png(os.path.join(self.texcache, pngfile))\n"
       ]
      },
      {
       "output_type": "stream",
       "stream": "stderr",
       "text": [
        "/usr/lib/python3.4/site-packages/matplotlib/texmanager.py:575: DeprecationWarning: npy_PyFile_Dup is deprecated, use npy_PyFile_Dup2\n",
        "  X = read_png(os.path.join(self.texcache, pngfile))\n",
        "/usr/lib/python3.4/site-packages/matplotlib/texmanager.py:575: DeprecationWarning: npy_PyFile_Dup is deprecated, use npy_PyFile_Dup2\n",
        "  X = read_png(os.path.join(self.texcache, pngfile))\n"
       ]
      },
      {
       "output_type": "stream",
       "stream": "stderr",
       "text": [
        "/usr/lib/python3.4/site-packages/matplotlib/texmanager.py:575: DeprecationWarning: npy_PyFile_Dup is deprecated, use npy_PyFile_Dup2\n",
        "  X = read_png(os.path.join(self.texcache, pngfile))\n",
        "/usr/lib/python3.4/site-packages/matplotlib/texmanager.py:575: DeprecationWarning: npy_PyFile_Dup is deprecated, use npy_PyFile_Dup2\n",
        "  X = read_png(os.path.join(self.texcache, pngfile))\n"
       ]
      },
      {
       "output_type": "stream",
       "stream": "stderr",
       "text": [
        "/usr/lib/python3.4/site-packages/matplotlib/texmanager.py:575: DeprecationWarning: npy_PyFile_Dup is deprecated, use npy_PyFile_Dup2\n",
        "  X = read_png(os.path.join(self.texcache, pngfile))\n",
        "/usr/lib/python3.4/site-packages/matplotlib/texmanager.py:575: DeprecationWarning: npy_PyFile_Dup is deprecated, use npy_PyFile_Dup2\n",
        "  X = read_png(os.path.join(self.texcache, pngfile))\n"
       ]
      }
     ],
     "prompt_number": 28
    },
    {
     "cell_type": "markdown",
     "metadata": {},
     "source": [
      "$\\hat{w} = (\\Phi^T \\Phi)^{-1} \\Phi^T \\eta$"
     ]
    },
    {
     "cell_type": "code",
     "collapsed": false,
     "input": [
      "what = sp.linalg.inv(PHI.T.dot(PHI)).dot(PHI.T).dot(orign)"
     ],
     "language": "python",
     "metadata": {},
     "outputs": [],
     "prompt_number": 25
    },
    {
     "cell_type": "markdown",
     "metadata": {},
     "source": [
      "## Reconstructing spectra"
     ]
    },
    {
     "cell_type": "code",
     "collapsed": false,
     "input": [
      "def reconstruct(i, ncomp=20):\n",
      "    '''\n",
      "    Return the reconstructed spectrum\n",
      "    '''\n",
      "    f = np.empty((ncomp, len(wl)))\n",
      "    for k in range(ncomp):\n",
      "        f[k, :] = components[k] * coefs[i,k]\n",
      "    return mean + np.sum(f, axis=0)"
     ],
     "language": "python",
     "metadata": {},
     "outputs": [],
     "prompt_number": 22
    },
    {
     "cell_type": "code",
     "collapsed": false,
     "input": [
      "s = reconstruct(200, ncomp)"
     ],
     "language": "python",
     "metadata": {},
     "outputs": [],
     "prompt_number": 43
    },
    {
     "cell_type": "code",
     "collapsed": false,
     "input": [
      "grid.list_grid_points[200]"
     ],
     "language": "python",
     "metadata": {},
     "outputs": [
      {
       "metadata": {},
       "output_type": "pyout",
       "prompt_number": 24,
       "text": [
        "{'Z': -0.5, 'temp': 3100, 'alpha': 0.0, 'logg': 4.0}"
       ]
      }
     ],
     "prompt_number": 24
    },
    {
     "cell_type": "code",
     "collapsed": false,
     "input": [
      "fig, ax = plt.subplots(nrows=2, sharex=True)\n",
      "ax[0].plot(wl, fl, label=\"real\")\n",
      "ax[0].plot(wl, s, label=\"PCA recons\")\n",
      "ax[0].legend(loc=\"lower left\")\n",
      "ax[0].set_ylabel(\"flam\")\n",
      "ax[1].plot(wl, (fl - s)/fl * 100)\n",
      "ax[1].set_ylabel(\"real - reconstituted (\\%)\")\n",
      "ax[1].set_xlabel(\"wavelength\")\n",
      "fig.subplots_adjust(left=0.2)\n",
      "fig.savefig(\"../plots/pca.png\")\n",
      "plt.show();"
     ],
     "language": "python",
     "metadata": {},
     "outputs": []
    },
    {
     "cell_type": "code",
     "collapsed": false,
     "input": [],
     "language": "python",
     "metadata": {},
     "outputs": []
    }
   ],
   "metadata": {}
  }
 ]
}