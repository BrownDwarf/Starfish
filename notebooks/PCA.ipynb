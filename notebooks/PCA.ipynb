{
 "metadata": {
  "name": "",
  "signature": "sha256:6bbe433b59a745890b2d1c2c529d64a6ff918acb2a3c289a0a1d6cd2eec8235b"
 },
 "nbformat": 3,
 "nbformat_minor": 0,
 "worksheets": [
  {
   "cells": [
    {
     "cell_type": "code",
     "collapsed": false,
     "input": [
      "%load_ext autoreload\n",
      "%autoreload 2"
     ],
     "language": "python",
     "metadata": {},
     "outputs": [],
     "prompt_number": 1
    },
    {
     "cell_type": "code",
     "collapsed": false,
     "input": [
      "from StellarSpectra.grid_tools import HDF5Interface\n",
      "import numpy as np\n",
      "from sklearn.decomposition import PCA\n",
      "import matplotlib.pyplot as plt"
     ],
     "language": "python",
     "metadata": {},
     "outputs": [],
     "prompt_number": 2
    },
    {
     "cell_type": "code",
     "collapsed": false,
     "input": [
      "grid = HDF5Interface(\"../libraries/PHOENIX_SPEX_M.hdf5\")\n",
      "wl = grid.wl\n",
      "ind = (wl > 20000) * (wl < 24000)\n",
      "wl = wl[ind]\n",
      "npix = len(wl)"
     ],
     "language": "python",
     "metadata": {},
     "outputs": [],
     "prompt_number": 24
    },
    {
     "cell_type": "code",
     "collapsed": false,
     "input": [
      "print(npix)\n",
      "print(npix * 500)"
     ],
     "language": "python",
     "metadata": {},
     "outputs": [
      {
       "output_type": "stream",
       "stream": "stdout",
       "text": [
        "2067\n",
        "1033500\n"
       ]
      }
     ],
     "prompt_number": 27
    },
    {
     "cell_type": "markdown",
     "metadata": {},
     "source": [
      "## Running PCA"
     ]
    },
    {
     "cell_type": "code",
     "collapsed": false,
     "input": [
      "m = len(grid.list_grid_points)\n",
      "print( m,len(wl) )\n",
      "fluxes = np.empty( (m,len(wl)) )"
     ],
     "language": "python",
     "metadata": {},
     "outputs": [
      {
       "output_type": "stream",
       "stream": "stdout",
       "text": [
        "500 2067\n"
       ]
      }
     ],
     "prompt_number": 32
    },
    {
     "cell_type": "code",
     "collapsed": false,
     "input": [
      "for i, spec in enumerate(grid.fluxes):\n",
      "    fluxes[i,:] = spec[ind]"
     ],
     "language": "python",
     "metadata": {},
     "outputs": [],
     "prompt_number": 33
    },
    {
     "cell_type": "code",
     "collapsed": false,
     "input": [
      "pca = PCA()"
     ],
     "language": "python",
     "metadata": {},
     "outputs": [],
     "prompt_number": 34
    },
    {
     "cell_type": "code",
     "collapsed": false,
     "input": [
      "pca.fit(fluxes)"
     ],
     "language": "python",
     "metadata": {},
     "outputs": [
      {
       "metadata": {},
       "output_type": "pyout",
       "prompt_number": 35,
       "text": [
        "PCA(copy=True, n_components=None, whiten=False)"
       ]
      }
     ],
     "prompt_number": 35
    },
    {
     "cell_type": "code",
     "collapsed": false,
     "input": [
      "comp = pca.transform(fluxes)"
     ],
     "language": "python",
     "metadata": {},
     "outputs": [],
     "prompt_number": 36
    },
    {
     "cell_type": "code",
     "collapsed": true,
     "input": [
      "components = pca.components_\n",
      "mean = pca.mean_"
     ],
     "language": "python",
     "metadata": {},
     "outputs": [],
     "prompt_number": 37
    },
    {
     "cell_type": "code",
     "collapsed": false,
     "input": [
      "components.shape"
     ],
     "language": "python",
     "metadata": {},
     "outputs": [
      {
       "metadata": {},
       "output_type": "pyout",
       "prompt_number": 38,
       "text": [
        "(500, 2067)"
       ]
      }
     ],
     "prompt_number": 38
    },
    {
     "cell_type": "code",
     "collapsed": false,
     "input": [
      "fig, ax = plt.subplots(nrows=30, figsize=(7, 10), sharex=True, sharey=True)\n",
      "for i in range(30):\n",
      "    ax[i].plot(wl, components[i])\n",
      "    ax[i].yaxis.set_ticklabels([])\n",
      "plt.show();"
     ],
     "language": "python",
     "metadata": {},
     "outputs": [],
     "prompt_number": 39
    },
    {
     "cell_type": "code",
     "collapsed": false,
     "input": [
      "plt.plot(wl, mean)\n",
      "plt.show();"
     ],
     "language": "python",
     "metadata": {},
     "outputs": []
    },
    {
     "cell_type": "markdown",
     "metadata": {},
     "source": [
      "Choose a spectrum at random to see if we can reproduce it with the components"
     ]
    },
    {
     "cell_type": "code",
     "collapsed": false,
     "input": [
      "fl = grid.load_flux(grid.list_grid_points[200])[ind]"
     ],
     "language": "python",
     "metadata": {},
     "outputs": [],
     "prompt_number": 13
    },
    {
     "cell_type": "code",
     "collapsed": false,
     "input": [
      "plt.plot(wl,fl)\n",
      "#plt.plot(wl, mean)\n",
      "plt.show();"
     ],
     "language": "python",
     "metadata": {},
     "outputs": []
    },
    {
     "cell_type": "markdown",
     "metadata": {},
     "source": [
      "Now, determine the coefficents that decompose `fl` into the different basis vectors"
     ]
    },
    {
     "cell_type": "code",
     "collapsed": false,
     "input": [
      "#We will do this for each of the actual spectra in the grid. So, this will then be a 500 by ncomponents matrix\n",
      "ncomp = 5"
     ],
     "language": "python",
     "metadata": {},
     "outputs": [],
     "prompt_number": 19
    },
    {
     "cell_type": "code",
     "collapsed": false,
     "input": [
      "coefs = np.empty((components.shape[0], ncomp))"
     ],
     "language": "python",
     "metadata": {},
     "outputs": [],
     "prompt_number": 39
    },
    {
     "cell_type": "code",
     "collapsed": false,
     "input": [
      "for i in range(len(coefs)):\n",
      "    for j in range(ncomp):\n",
      "        coefs[i,j] = np.sum(components[j] * (fluxes[i] -  mean))"
     ],
     "language": "python",
     "metadata": {},
     "outputs": [],
     "prompt_number": 40
    },
    {
     "cell_type": "markdown",
     "metadata": {},
     "source": [
      "## Bayesian Emulator\n",
      "\n",
      "Modeled after Habib et al. 2007 and Heitmann et al. 2009. \n",
      "\n",
      "Our first goal is to construct the posterior distribution described by Heitmann Eqn. B17, and then sample from it using `emcee`.\n",
      "\n",
      "The second goal is to produce weights from the GP in Eqn. B19. "
     ]
    },
    {
     "cell_type": "markdown",
     "metadata": {},
     "source": [
      "### Constructing the Posterior distribution\n",
      "\n",
      "Assume that $m=500$ is the number of synthetic spectra in the grid.\n",
      "\n",
      "We will need functions to compute the following\n",
      "\n",
      "* $\\Phi$ : matrix of size `(Npix*m, m*5)`\n",
      "* $\\mathcal{P}^*$ : vector of length `(Npix*500)`\n",
      "* $\\hat{w}$\n",
      "* $\\Sigma_{w_i}$ : determined by $R(\\theta, \\theta^\\prime ; \\rho_{w_i})$\n",
      "* $\\Sigma_{w}$"
     ]
    },
    {
     "cell_type": "code",
     "collapsed": false,
     "input": [
      "components.shape"
     ],
     "language": "python",
     "metadata": {},
     "outputs": [
      {
       "metadata": {},
       "output_type": "pyout",
       "prompt_number": 28,
       "text": [
        "(500, 2067)"
       ]
      }
     ],
     "prompt_number": 28
    },
    {
     "cell_type": "code",
     "collapsed": false,
     "input": [
      "#First component\n",
      "np.outer(np.eye(m),components[0]).shape"
     ],
     "language": "python",
     "metadata": {},
     "outputs": [
      {
       "metadata": {},
       "output_type": "pyout",
       "prompt_number": 42,
       "text": [
        "(250000, 2067)"
       ]
      }
     ],
     "prompt_number": 42
    },
    {
     "cell_type": "markdown",
     "metadata": {},
     "source": [
      "## Reconstructing spectra"
     ]
    },
    {
     "cell_type": "code",
     "collapsed": false,
     "input": [
      "def reconstruct(i, ncomp=20):\n",
      "    '''\n",
      "    Return the reconstructed spectrum\n",
      "    '''\n",
      "    f = np.empty((ncomp, len(wl)))\n",
      "    for k in range(ncomp):\n",
      "        f[k, :] = components[k] * coefs[i,k]\n",
      "    return mean + np.sum(f, axis=0)"
     ],
     "language": "python",
     "metadata": {},
     "outputs": [],
     "prompt_number": 22
    },
    {
     "cell_type": "code",
     "collapsed": false,
     "input": [
      "s = reconstruct(200, ncomp)"
     ],
     "language": "python",
     "metadata": {},
     "outputs": [],
     "prompt_number": 43
    },
    {
     "cell_type": "code",
     "collapsed": false,
     "input": [
      "grid.list_grid_points[200]"
     ],
     "language": "python",
     "metadata": {},
     "outputs": [
      {
       "metadata": {},
       "output_type": "pyout",
       "prompt_number": 24,
       "text": [
        "{'Z': -0.5, 'temp': 3100, 'alpha': 0.0, 'logg': 4.0}"
       ]
      }
     ],
     "prompt_number": 24
    },
    {
     "cell_type": "code",
     "collapsed": false,
     "input": [
      "fig, ax = plt.subplots(nrows=2, sharex=True)\n",
      "ax[0].plot(wl, fl, label=\"real\")\n",
      "ax[0].plot(wl, s, label=\"PCA recons\")\n",
      "ax[0].legend(loc=\"lower left\")\n",
      "ax[0].set_ylabel(\"flam\")\n",
      "ax[1].plot(wl, (fl - s)/fl * 100)\n",
      "ax[1].set_ylabel(\"real - reconstituted (\\%)\")\n",
      "ax[1].set_xlabel(\"wavelength\")\n",
      "fig.subplots_adjust(left=0.2)\n",
      "fig.savefig(\"../plots/pca.png\")\n",
      "plt.show();"
     ],
     "language": "python",
     "metadata": {},
     "outputs": []
    },
    {
     "cell_type": "code",
     "collapsed": false,
     "input": [],
     "language": "python",
     "metadata": {},
     "outputs": []
    }
   ],
   "metadata": {}
  }
 ]
}