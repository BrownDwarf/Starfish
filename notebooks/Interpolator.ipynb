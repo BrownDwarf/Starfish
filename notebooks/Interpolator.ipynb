{
 "metadata": {
  "name": "",
  "signature": "sha256:1761e312cf7e33f5d569b606ae24e3a783cbea35d77cd2bca68ff1ba2b0b6411"
 },
 "nbformat": 3,
 "nbformat_minor": 0,
 "worksheets": [
  {
   "cells": [
    {
     "cell_type": "markdown",
     "metadata": {},
     "source": [
      "Try out the interpolator and see if the error spectra make sense"
     ]
    },
    {
     "cell_type": "code",
     "collapsed": false,
     "input": [
      "%load_ext autoreload\n",
      "%autoreload 2"
     ],
     "language": "python",
     "metadata": {},
     "outputs": [],
     "prompt_number": 1
    },
    {
     "cell_type": "code",
     "collapsed": false,
     "input": [
      "import matplotlib.pyplot as plt\n",
      "import numpy as np\n",
      "from StellarSpectra.grid_tools import HDF5Interface, Interpolator\n",
      "import StellarSpectra.constants as C\n",
      "from StellarSpectra.spectrum import DataSpectrum\n",
      "from StellarSpectra.utils import saveall"
     ],
     "language": "python",
     "metadata": {},
     "outputs": [],
     "prompt_number": 5
    },
    {
     "cell_type": "code",
     "collapsed": false,
     "input": [
      "#interface = HDF5Interface(\"../libraries/PHOENIX_F.hdf5\")\n",
      "interface = HDF5Interface(\"../libraries/PHOENIX_TRES_F.hdf5\")\n",
      "dataspec = DataSpectrum.open(\"../data/WASP14/WASP14-2009-06-14.hdf5\", orders=np.array([22]))\n",
      "interpolator = Interpolator(interface, dataspec, trilinear=True)"
     ],
     "language": "python",
     "metadata": {},
     "outputs": [
      {
       "output_type": "stream",
       "stream": "stdout",
       "text": [
        "Determine Chunk Log: Wl is 8192\n"
       ]
      }
     ],
     "prompt_number": 6
    },
    {
     "cell_type": "code",
     "collapsed": false,
     "input": [
      "params = {\"temp\":6150, \"logg\":4.29, \"Z\":-0.4}\n",
      "fl, errspec = interpolator(params)"
     ],
     "language": "python",
     "metadata": {},
     "outputs": [
      {
       "output_type": "stream",
       "stream": "stdout",
       "text": [
        "[(6100, 6200), (4.0, 4.5), (-0.5, 0.0)]\n",
        "[(0.5, 0.5), (0.41999999999999993, 0.58000000000000007), (0.80000000000000004, 0.19999999999999996)]\n",
        "[ 0.168  0.042  0.232  0.058  0.168  0.042  0.232  0.058]\n",
        "[ 0.40987803  0.20493902  0.48166378  0.24083189  0.40987803  0.20493902\n",
        "  0.48166378  0.24083189]\n",
        "[ 0.168  0.042  0.232  0.058  0.168  0.042  0.232  0.058]\n"
       ]
      }
     ],
     "prompt_number": 10
    },
    {
     "cell_type": "code",
     "collapsed": false,
     "input": [
      "wl = interpolator.wl\n",
      "ind = (wl > 5160) & (wl < 5164)\n",
      "wl_raw = wl[ind]"
     ],
     "language": "python",
     "metadata": {},
     "outputs": [],
     "prompt_number": 27
    },
    {
     "cell_type": "code",
     "collapsed": false,
     "input": [
      "for spec in errspec:\n",
      "    plt.plot(wl_raw, spec[ind])\n",
      "plt.show()\n",
      "    "
     ],
     "language": "python",
     "metadata": {},
     "outputs": [],
     "prompt_number": 28
    },
    {
     "cell_type": "code",
     "collapsed": false,
     "input": [],
     "language": "python",
     "metadata": {},
     "outputs": []
    }
   ],
   "metadata": {}
  }
 ]
}