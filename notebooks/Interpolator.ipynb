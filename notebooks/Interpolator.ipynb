{
 "metadata": {
  "name": "",
  "signature": "sha256:b6601f9e0fbc99b464d705230bc9e40b0ba8422218fe034cbc97774a26fdaeeb"
 },
 "nbformat": 3,
 "nbformat_minor": 0,
 "worksheets": [
  {
   "cells": [
    {
     "cell_type": "markdown",
     "metadata": {},
     "source": [
      "Try out the interpolator and see if the error spectra make sense"
     ]
    },
    {
     "cell_type": "code",
     "collapsed": false,
     "input": [
      "%load_ext autoreload\n",
      "%autoreload 2"
     ],
     "language": "python",
     "metadata": {},
     "outputs": [],
     "prompt_number": 1
    },
    {
     "cell_type": "code",
     "collapsed": false,
     "input": [
      "import matplotlib.pyplot as plt\n",
      "import numpy as np\n",
      "from StellarSpectra.grid_tools import HDF5Interface, Interpolator\n",
      "import StellarSpectra.constants as C\n",
      "from StellarSpectra.spectrum import DataSpectrum\n",
      "from StellarSpectra.utils import saveall"
     ],
     "language": "python",
     "metadata": {},
     "outputs": [
      {
       "output_type": "stream",
       "stream": "stdout",
       "text": [
        "Determine Chunk Log: Wl is 8192\n"
       ]
      }
     ],
     "prompt_number": 6
    },
    {
     "cell_type": "code",
     "collapsed": false,
     "input": [
      "#interface = HDF5Interface(\"../libraries/PHOENIX_F.hdf5\")\n",
      "interface = HDF5Interface(\"../libraries/PHOENIX_TRES_F.hdf5\")\n",
      "dataspec = DataSpectrum.open(\"../data/WASP14/WASP14-2009-06-14.hdf5\", orders=np.array([22]))\n",
      "interpolator = Interpolator(interface, dataspec, trilinear=True)"
     ],
     "language": "python",
     "metadata": {},
     "outputs": [
      {
       "output_type": "stream",
       "stream": "stdout",
       "text": [
        "Determine Chunk Log: Wl is 8192\n"
       ]
      }
     ],
     "prompt_number": 33
    },
    {
     "cell_type": "code",
     "collapsed": false,
     "input": [
      "params = {\"temp\":6150, \"logg\":4.29, \"Z\":-0.5}\n",
      "fl, errspec = interpolator(params)"
     ],
     "language": "python",
     "metadata": {},
     "outputs": [
      {
       "output_type": "stream",
       "stream": "stdout",
       "text": [
        "[(6100, 6200), (-0.5, -0.5), (4.0, 4.5)]\n",
        "[(0.5, 0.5), (1.0, 0.0), (0.41999999999999993, 0.58000000000000007)]\n",
        "[0.5, 0.0, 0.41999999999999993]\n",
        "[ 0.21  0.29  0.    0.    0.21  0.29  0.    0.  ]\n",
        "[ 0.41472507  0.57271557  0.          0.          0.41472507  0.57271557\n",
        "  0.          0.        ]\n"
       ]
      }
     ],
     "prompt_number": 37
    },
    {
     "cell_type": "code",
     "collapsed": false,
     "input": [
      "wl = interpolator.wl\n",
      "ind = (wl > 5160) & (wl < 5164)\n",
      "wl_raw = wl[ind]"
     ],
     "language": "python",
     "metadata": {},
     "outputs": [],
     "prompt_number": 27
    },
    {
     "cell_type": "code",
     "collapsed": false,
     "input": [
      "for spec in errspec:\n",
      "    plt.plot(wl_raw, spec[ind])\n",
      "plt.show()\n",
      "    "
     ],
     "language": "python",
     "metadata": {},
     "outputs": [],
     "prompt_number": 28
    },
    {
     "cell_type": "code",
     "collapsed": false,
     "input": [],
     "language": "python",
     "metadata": {},
     "outputs": []
    }
   ],
   "metadata": {}
  }
 ]
}