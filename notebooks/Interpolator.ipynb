{
 "metadata": {
  "name": "",
  "signature": "sha256:c2fc9cb710d61039a1f0d7cbf7d5295593cab0dffc86f703fe526932150c00d5"
 },
 "nbformat": 3,
 "nbformat_minor": 0,
 "worksheets": [
  {
   "cells": [
    {
     "cell_type": "markdown",
     "metadata": {},
     "source": [
      "Try out the interpolator and see if the error spectra make sense"
     ]
    },
    {
     "cell_type": "code",
     "collapsed": false,
     "input": [
      "%load_ext autoreload\n",
      "%autoreload 2"
     ],
     "language": "python",
     "metadata": {},
     "outputs": [],
     "prompt_number": 1
    },
    {
     "cell_type": "code",
     "collapsed": false,
     "input": [
      "import matplotlib.pyplot as plt\n",
      "import numpy as np\n",
      "from StellarSpectra.grid_tools import HDF5Interface, Interpolator\n",
      "import StellarSpectra.constants as C\n",
      "from StellarSpectra.spectrum import DataSpectrum\n",
      "from StellarSpectra.utils import saveall"
     ],
     "language": "python",
     "metadata": {},
     "outputs": [],
     "prompt_number": 2
    },
    {
     "cell_type": "code",
     "collapsed": false,
     "input": [
      "#interface = HDF5Interface(\"../libraries/PHOENIX_F.hdf5\")\n",
      "interface = HDF5Interface(\"../libraries/PHOENIX_TRES_F.hdf5\")\n",
      "dataspec = DataSpectrum.open(\"../data/WASP14/WASP14-2009-06-14.hdf5\", orders=np.array([22]))"
     ],
     "language": "python",
     "metadata": {},
     "outputs": [],
     "prompt_number": 3
    },
    {
     "cell_type": "code",
     "collapsed": false,
     "input": [
      "interpolator = Interpolator(interface, dataspec, trilinear=True)"
     ],
     "language": "python",
     "metadata": {},
     "outputs": [
      {
       "output_type": "stream",
       "stream": "stdout",
       "text": [
        "Determine Chunk Log: Wl is 8192\n"
       ]
      }
     ],
     "prompt_number": 25
    },
    {
     "cell_type": "code",
     "collapsed": false,
     "input": [
      "params = {\"temp\":6010, \"logg\":4.1, \"Z\":-0.3}\n",
      "fl, errspec = interpolator(params)"
     ],
     "language": "python",
     "metadata": {},
     "outputs": [
      {
       "output_type": "stream",
       "stream": "stdout",
       "text": [
        "('t6000g4.0z-0.5a0.0', 0.43200000000000066)\n",
        "('t6000g4.0z0.0a0.0', 0.28800000000000031)\n",
        "('t6100g4.0z-0.5a0.0', 0.047999999999999883)\n",
        "('t6100g4.0z0.0a0.0', 0.03199999999999991)\n",
        "('t6000g4.5z-0.5a0.0', 0.10799999999999968)\n",
        "('t6000g4.5z0.0a0.0', 0.071999999999999759)\n",
        "('t6100g4.5z-0.5a0.0', 0.011999999999999917)\n",
        "('t6100g4.5z0.0a0.0', 0.0079999999999999412)\n",
        "Error spec for 0\n",
        "Error spec for 1\n",
        "Error spec for 2\n",
        "Error spec for 3\n",
        "Error spec for 4\n",
        "Error spec for 5\n",
        "Error spec for 6\n",
        "Error spec for 7\n",
        "Error spec for 8\n",
        "Error spec for 9\n",
        "Error spec for 10\n",
        "Error spec for 11\n",
        "Error spec for 12"
       ]
      },
      {
       "output_type": "stream",
       "stream": "stdout",
       "text": [
        "\n",
        "Error spec for 13\n",
        "Error spec for 14\n",
        "Error spec for 15\n",
        "Error spec for 16\n",
        "Error spec for 17\n",
        "Error spec for 18\n",
        "Error spec for 19\n",
        "Error spec for 20\n",
        "Error spec for 21\n",
        "Error spec for 22\n",
        "Error spec for 23\n"
       ]
      }
     ],
     "prompt_number": 26
    },
    {
     "cell_type": "code",
     "collapsed": false,
     "input": [
      "wl = interpolator.wl\n",
      "ind = (wl > 5160) & (wl < 5164)\n",
      "wl_raw = wl[ind]"
     ],
     "language": "python",
     "metadata": {},
     "outputs": [],
     "prompt_number": 27
    },
    {
     "cell_type": "code",
     "collapsed": false,
     "input": [
      "for spec in errspec:\n",
      "    plt.plot(wl_raw, spec[ind])\n",
      "plt.show()\n",
      "    "
     ],
     "language": "python",
     "metadata": {},
     "outputs": [],
     "prompt_number": 28
    },
    {
     "cell_type": "code",
     "collapsed": false,
     "input": [],
     "language": "python",
     "metadata": {},
     "outputs": []
    }
   ],
   "metadata": {}
  }
 ]
}