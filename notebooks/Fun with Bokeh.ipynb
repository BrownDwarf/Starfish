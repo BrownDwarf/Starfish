{
 "metadata": {
  "name": "",
  "signature": "sha256:cded426ed12e17adc401b239a9f7bc39f2ebd564c5bdfdef09233c111d7e2164"
 },
 "nbformat": 3,
 "nbformat_minor": 0,
 "worksheets": [
  {
   "cells": [
    {
     "cell_type": "markdown",
     "metadata": {},
     "source": [
      "#Bokeh Residual viewer\n",
      "\n",
      "Goal is to have an embeddable Bokeh file in my reveal.js \n",
      "\n",
      "Along with a visualization of the covariance matrix"
     ]
    },
    {
     "cell_type": "code",
     "collapsed": false,
     "input": [
      "#Load some spectra\n",
      "import numpy as np\n",
      "from bokeh.plotting import *"
     ],
     "language": "python",
     "metadata": {},
     "outputs": [],
     "prompt_number": 7
    },
    {
     "cell_type": "code",
     "collapsed": false,
     "input": [
      "wl = np.load(\"wl.npy\")\n",
      "fl_noisey = np.load(\"fakeWASP.clean.fl.npy\")\n",
      "fl_clean = np.load(\"fakeWASP.noisey.fl.npy\")"
     ],
     "language": "python",
     "metadata": {},
     "outputs": [],
     "prompt_number": 4
    },
    {
     "cell_type": "code",
     "collapsed": false,
     "input": [
      "figure(tools=\"pan,wheel_zoom,box_zoom,reset,previewsave,select\")\n",
      "\n",
      "line(wl, fl_noisey, legend=\"WASP14\")\n",
      "\n",
      "show()  # open a browser"
     ],
     "language": "python",
     "metadata": {},
     "outputs": [],
     "prompt_number": 8
    },
    {
     "cell_type": "code",
     "collapsed": false,
     "input": [],
     "language": "python",
     "metadata": {},
     "outputs": []
    }
   ],
   "metadata": {}
  }
 ]
}