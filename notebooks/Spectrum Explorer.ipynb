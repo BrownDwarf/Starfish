{
 "metadata": {
  "name": "",
  "signature": "sha256:ddc911b361aba63da39a09e624b044aec6bea938eab6923f67b676323eace485"
 },
 "nbformat": 3,
 "nbformat_minor": 0,
 "worksheets": [
  {
   "cells": [
    {
     "cell_type": "markdown",
     "metadata": {},
     "source": [
      "#Spectrum Explorer\n",
      "\n",
      "Designed to visualize and explore fits to the data"
     ]
    },
    {
     "cell_type": "code",
     "collapsed": false,
     "input": [
      "%load_ext autoreload\n",
      "%autoreload 2"
     ],
     "language": "python",
     "metadata": {},
     "outputs": [],
     "prompt_number": 1
    },
    {
     "cell_type": "code",
     "collapsed": false,
     "input": [
      "%matplotlib\n",
      "import matplotlib.pyplot as plt\n",
      "import numpy as np\n",
      "from IPython.html import widgets # Widget definitions\n",
      "from IPython.display import display, clear_output, HTML # Used to display widgets in the notebook\n",
      "from IPython.html.widgets import interact, interactive, fixed"
     ],
     "language": "python",
     "metadata": {},
     "outputs": [
      {
       "output_type": "stream",
       "stream": "stdout",
       "text": [
        "Using matplotlib backend: Qt4Agg\n"
       ]
      }
     ],
     "prompt_number": 1
    },
    {
     "cell_type": "code",
     "collapsed": false,
     "input": [
      "from StellarSpectra.model import Model\n",
      "from StellarSpectra.spectrum import DataSpectrum\n",
      "from StellarSpectra.grid_tools import TRES, SPEX, HDF5Interface\n",
      "import scipy.sparse as sp\n",
      "import numpy as np\n",
      "\n",
      "#myDataSpectrum = DataSpectrum.open(\"../data/WASP14/WASP14-2010-03-29.hdf5\", orders=np.array([22]))\n",
      "myDataSpectrum = DataSpectrum.open(\"../data/WASP14/WASP14-2009-06-14.hdf5\", orders=np.array([22]))\n",
      "\n",
      "#mask = np.load(\"WASP14_24.mask.npy\")\n",
      "#myDataSpectrum.add_mask(np.atleast_2d(mask))\n",
      "#myDataSpectrum = DataSpectrum.open(\"../data/LkCa15/LkCa15-2013-10-12.hdf5\", orders=np.array([32]))\n",
      "# myDataSpectrum = DataSpectrum.open(\"../data/Gl51/Gl51.hdf5\")\n",
      "\n",
      "myInstrument = TRES()\n",
      "# myInstrument = SPEX()\n",
      "\n",
      "myHDF5Interface = HDF5Interface(\"../libraries/PHOENIX_TRES_F.hdf5\")\n",
      "#myHDF5Interface = HDF5Interface(\"../libraries/Kurucz_TRES.hdf5\")\n",
      "#myHDF5Interface = HDF5Interface(\"../libraries/Kurucz_master.hdf5\")"
     ],
     "language": "python",
     "metadata": {},
     "outputs": [],
     "prompt_number": 2
    },
    {
     "cell_type": "code",
     "collapsed": false,
     "input": [
      "#Load a model using the JSON file\n",
      "myModel = Model.from_json(\"WASP2_21_22_23_model_final.json\", myDataSpectrum, myInstrument, myHDF5Interface)\n",
      "#myModel.evaluate()"
     ],
     "language": "python",
     "metadata": {},
     "outputs": [
      {
       "output_type": "stream",
       "stream": "stdout",
       "text": [
        "Determine Chunk Log: Wl is 8192\n",
        "Creating OrderModel 0\n",
        "Creating OrderModel 1\n",
        "Creating OrderModel 2\n",
        "Deallocating Covariance Matrix"
       ]
      },
      {
       "output_type": "stream",
       "stream": "stdout",
       "text": [
        "\n",
        "Deallocating GlobalCovarianceMatrix\n",
        "Deallocating Common\n",
        "Deallocating Covariance Matrix\n",
        "Deallocating GlobalCovarianceMatrix\n",
        "Deallocating Common\n",
        "Deallocating Covariance Matrix\n",
        "Deallocating GlobalCovarianceMatrix\n",
        "Deallocating Common\n"
       ]
      }
     ],
     "prompt_number": 13
    },
    {
     "cell_type": "code",
     "collapsed": false,
     "input": [
      "#Or, instantiate and tweak parameters\n",
      "myModel = Model(myDataSpectrum, myInstrument, myHDF5Interface, stellar_tuple=(\"temp\", \"logg\", \"Z\", \"vsini\", \"vz\", \"logOmega\"), \n",
      "                cheb_tuple=(\"logc0\",\"c1\", \"c2\", \"c3\"), cov_tuple=(\"sigAmp\", \"logAmp\", \"l\"), region_tuple=(\"loga\", \"mu\", \"sigma\"), \n",
      "                max_v=20, debug=True)"
     ],
     "language": "python",
     "metadata": {},
     "outputs": [
      {
       "output_type": "stream",
       "stream": "stderr",
       "text": [
        "DEBUG:GlobalCovarianceMatrix:Initialized GlobalCovarianceMatrix\n"
       ]
      },
      {
       "output_type": "stream",
       "stream": "stderr",
       "text": [
        "DEBUG:InterpCovarianceMatrix:Initialized InterpCovarianceMatrix\n"
       ]
      },
      {
       "output_type": "stream",
       "stream": "stderr",
       "text": [
        "DEBUG:CovarianceMatrix:updating factorization\n"
       ]
      },
      {
       "output_type": "stream",
       "stream": "stderr",
       "text": [
        "DEBUG:CovarianceMatrix:Adding interp_matrix and GCM\n"
       ]
      },
      {
       "output_type": "stream",
       "stream": "stderr",
       "text": [
        "DEBUG:CovarianceMatrix:shifting self.L_last to point to self.L\n"
       ]
      },
      {
       "output_type": "stream",
       "stream": "stderr",
       "text": [
        "DEBUG:CovarianceMatrix:updating logdet\n"
       ]
      },
      {
       "output_type": "stream",
       "stream": "stdout",
       "text": [
        "Determine Chunk Log: Wl is 8192\n",
        "Creating OrderModel 0\n"
       ]
      }
     ],
     "prompt_number": 3
    },
    {
     "cell_type": "code",
     "collapsed": false,
     "input": [
      "#myOrderModel.update_Cov({\"sigAmp\": 1, \"logAmp\":-14 , \"l\":10.})\n",
      "#First pass at actually plotting the model\n",
      "#params = {\"temp\":6000, \"logg\":4.0, \"Z\":-0.3, \"vsini\":4, \"vz\":-5, \"logOmega\":-19.6}\n",
      "#params = {\"temp\":6315, \"logg\":3.92, \"Z\":-0.3, \"vsini\":4, \"vz\":-5, \"logOmega\":-12.72}\n",
      "#params = {'temp': 6313.276253398848, 'vz': -4.5886794506100905, 'logOmega': -19.659, \n",
      "#          'Z': -0.45755240763502216, 'vsini': 5.1871494360273905, 'logg': 3.9089865093046496}\n",
      "\n",
      "params = {'vz': -4.8456827988388413, 'logOmega': -19.658942686778765, 'vsini': 5.0328046854058668, \n",
      "          'temp': 6220.0106396310739, 'logg': 4.29, 'Z': -0.35001081006631218}\n",
      "#params = {\"temp\":6315, \"logg\":3.92, \"Z\":-0.3, \"vsini\":4, \"vz\":-4.4, \"logOmega\":-12.96}\n",
      "#params = {\"temp\":4500, \"logg\":4.0, \"Z\":-0.1, \"vsini\":10, \"vz\":15, \"logOmega\":-19.}\n",
      "# params = {\"temp\":3000, \"logg\":4.0, \"Z\":-0.1, \"vsini\":10, \"vz\":0, \"logOmega\":-19.}\n",
      "myModel.update_Model(params)\n",
      "print(myModel.evaluate())\n",
      "\n",
      "#myOrderModel.update_Cheb({\"c1\":0.0, \"c2\":0.0, \"c3\":0.0})\n",
      "\n",
      "#cov = myModel.OrderModels[0].get_Cov()"
     ],
     "language": "python",
     "metadata": {},
     "outputs": [
      {
       "output_type": "stream",
       "stream": "stderr",
       "text": [
        "DEBUG:CovarianceMatrix:updating interp errors\n"
       ]
      },
      {
       "output_type": "stream",
       "stream": "stderr",
       "text": [
        "DEBUG:InterpCovarianceMatrix:Updating InterpCovarianceMatrix\n"
       ]
      },
      {
       "output_type": "stream",
       "stream": "stderr",
       "text": [
        "DEBUG:InterpCovarianceMatrix:shifting self.A_last to point to self.A\n"
       ]
      },
      {
       "output_type": "stream",
       "stream": "stderr",
       "text": [
        "DEBUG:CovarianceMatrix:updating factorization\n"
       ]
      },
      {
       "output_type": "stream",
       "stream": "stderr",
       "text": [
        "DEBUG:CovarianceMatrix:freeing old A\n"
       ]
      },
      {
       "output_type": "stream",
       "stream": "stderr",
       "text": [
        "DEBUG:CovarianceMatrix:Adding interp_matrix and GCM\n"
       ]
      },
      {
       "output_type": "stream",
       "stream": "stderr",
       "text": [
        "DEBUG:CovarianceMatrix:shifting self.L_last to point to self.L\n"
       ]
      },
      {
       "output_type": "stream",
       "stream": "stderr",
       "text": [
        "DEBUG:CovarianceMatrix:updating logdet\n"
       ]
      },
      {
       "output_type": "stream",
       "stream": "stderr",
       "text": [
        "DEBUG:Model:evaluating model <StellarSpectra.model.Model object at 0x7ff8a489c0b8>\n"
       ]
      },
      {
       "output_type": "stream",
       "stream": "stderr",
       "text": [
        "DEBUG:CovarianceMatrix:evaluating covariance matrix\n"
       ]
      },
      {
       "output_type": "stream",
       "stream": "stderr",
       "text": [
        "DEBUG:CovarianceMatrix:evaluating chi2\n"
       ]
      },
      {
       "output_type": "stream",
       "stream": "stdout",
       "text": [
        "67938.8747227\n"
       ]
      }
     ],
     "prompt_number": 4
    },
    {
     "cell_type": "code",
     "collapsed": false,
     "input": [
      "#params = {'logOmega': -19.69045147013749, 'temp': 6219.4026633831281, 'vz': -4.864716315534733, 'logg': 4.29, \n",
      "# 'Z': -0.25012131204369881, 'vsini': 4.994423918348339}\n",
      "#params = {'logOmega': -19.659045147013749, 'temp': 6219.4026633831281, 'vz': -4.864716315534733, 'logg': 4.29, \n",
      "# 'Z': -0.3509729219906163, 'vsini': 4.994423918348339}\n",
      "params = {'vz': -4.8456827988388413, 'logOmega': -19.658942686778765, 'vsini': 5.0328046854058668, 'temp': 6220.0106396310739, \n",
      " 'logg': 4.29, 'Z': -0.35001081006631218}\n",
      "myModel.update_Model(params)\n",
      "print(myModel.evaluate())\n",
      "\n",
      "#Strangely, Z is totally the value that changes this. Why? This is super-precise inference on Z, to the 4th digit. WTF?"
     ],
     "language": "python",
     "metadata": {},
     "outputs": [
      {
       "output_type": "stream",
       "stream": "stdout",
       "text": [
        "75252.2266811\n"
       ]
      }
     ],
     "prompt_number": 5
    },
    {
     "cell_type": "code",
     "collapsed": false,
     "input": [
      "myOrderModel = myModel.OrderModels[0]\n",
      "#myOrderModel.update_Cheb({'c3': 0.0022745611258502803, 'c2': -0.024660521505542141, \n",
      "#                          'logc0': -0.020399928159079816, 'c1': -0.05817214397082078})\n",
      "myOrderModel.update_Cheb({'c3': 0.00, 'c2': 0.0, \n",
      "                          'logc0': 0.0, 'c1': -0.0})\n",
      "print(myOrderModel.evaluate())\n",
      "#myOrderModel = myModel.OrderModels[1]\n",
      "model_flux = myOrderModel.get_spectrum()"
     ],
     "language": "python",
     "metadata": {},
     "outputs": [
      {
       "output_type": "stream",
       "stream": "stdout",
       "text": [
        "67938.87472268744\n"
       ]
      }
     ],
     "prompt_number": 63
    },
    {
     "cell_type": "code",
     "collapsed": false,
     "input": [
      "spec = myModel.get_data()\n",
      "wl = spec.wls[0]\n",
      "fl = spec.fls[0]\n",
      "mask = spec.masks[0]\n",
      "#wl = spec.wls[1]\n",
      "#fl = spec.fls[1]\n",
      "#mask = spec.masks[1]\n",
      "\n",
      "fig, ax = plt.subplots(nrows=2, figsize=(11,8), sharex=True)\n",
      "ax[0].plot(wl, fl, \"b\")\n",
      "l_model, = ax[0].plot(wl, model_flux, \"r\")\n",
      "ax[0].set_ylabel(\"Data and Model\")\n",
      "l_resid, = ax[1].plot(wl, fl - model_flux, \"b\")\n",
      "ax[1].set_xlabel(r\"$\\lambda$\\AA\")\n",
      "ax[1].set_ylabel(\"Residuals\")\n",
      "\n",
      "#good = [5142.8, 5150.7, 5151.8, 5169.1, 5170.7, 5172.3, 5183.2, 5183.8, 5184.2, 5187.8, 5188.8, 5197.4, 5198.6, 5217.7, 5235.3]\n",
      "#bad = [5145., 5167.0, 5171.5, 5178.7, 5194.9, 5202.3, 5226.5, 5232.5, 5234.6]\n",
      "\n",
      "#Plot the axvline on the lines\n",
      "#for line in good:\n",
      "#    ax[1].axvline(line, color=\"0.5\")\n",
      "    \n",
      "#for line in bad:\n",
      "#    ax[1].axvline(line, color=\"r\")\n",
      "\n",
      "\n",
      "\n",
      "#cov = myModel.OrderModels[0].get_Cov().todense()\n",
      "\n",
      "#fig2 = plt.figure()\n",
      "#ax2 = fig2.add_subplot(111)\n",
      "#im = ax2.imshow(cov, origin='upper', interpolation='none')\n",
      "\n",
      "plt.show()"
     ],
     "language": "python",
     "metadata": {},
     "outputs": [],
     "prompt_number": 10
    },
    {
     "cell_type": "code",
     "collapsed": false,
     "input": [
      "def update_model_plot(**kwargs):\n",
      "    '''Take the kwargs, update the model and residuals'''\n",
      "    \n",
      "    #Update the model spectrum\n",
      "    myModel.update_Model(kwargs)\n",
      "    model_flux = myOrderModel.get_spectrum()\n",
      "    l_model.set_ydata(model_flux)\n",
      "    \n",
      "    #Update the residuals\n",
      "    residuals = fl - model_flux\n",
      "    l_resid.set_ydata(residuals)\n",
      "    \n",
      "    #Find ymax and ymin and rescale\n",
      "    ax[0].set_ylim(np.min([fl, model_flux]), np.max([fl, model_flux]))\n",
      "    ax[1].set_ylim(np.min(fl - model_flux), np.max(fl - model_flux))\n",
      "    \n",
      "    #Redraw the plot\n",
      "    fig.canvas.draw_idle()\n",
      "    \n",
      "    #Calculate and print the lnprob\n",
      "    print(myOrderModel.evaluate())\n",
      "    "
     ],
     "language": "python",
     "metadata": {},
     "outputs": [],
     "prompt_number": 9
    },
    {
     "cell_type": "code",
     "collapsed": false,
     "input": [
      "np.save(\"WASPfl.npy\", myOrderModel.get_spectrum())\n",
      "np.save(\"WASP_resid.npy\", fl - model_flux)    "
     ],
     "language": "python",
     "metadata": {},
     "outputs": [],
     "prompt_number": 11
    },
    {
     "cell_type": "code",
     "collapsed": false,
     "input": [
      "def update_Cheb_plot(**kw):\n",
      "    '''Take the kwargs, update the model and residuals'''\n",
      "    \n",
      "    #Update the Chebyshev polynomial\n",
      "    myOrderModel.update_Cheb(kw)\n",
      "    \n",
      "    model_flux = myOrderModel.get_spectrum()\n",
      "    l_model.set_ydata(model_flux)\n",
      "    \n",
      "    #Update the residuals\n",
      "    l_resid.set_ydata(fl - model_flux)\n",
      "    \n",
      "    #Find ymax and ymin and rescale\n",
      "    ax[0].set_ylim(np.min([fl, model_flux]), np.max([fl, model_flux]))\n",
      "    ax[1].set_ylim(np.min(fl - model_flux), np.max(fl - model_flux))\n",
      "    \n",
      "    #Redraw the plot\n",
      "    fig.canvas.draw_idle()\n",
      "    \n",
      "    #Calculate and print the lnprob\n",
      "    #print(myModel.evaluate())\n",
      "    "
     ],
     "language": "python",
     "metadata": {},
     "outputs": [],
     "prompt_number": 8
    },
    {
     "cell_type": "code",
     "collapsed": false,
     "input": [
      "def update_Cov_plot(**kwargs):\n",
      "    '''Take the kwargs, update the model and residuals'''\n",
      "    \n",
      "    #Update the covariance matrix\n",
      "    myModel.OrderModels[0].update_Cov(kwargs)\n",
      "    cov = myModel.OrderModels[0].get_Cov().todense()\n",
      "    \n",
      "    \n",
      "    #Replot the covariance matrix\n",
      "    im.set_array(cov)\n",
      "    \n",
      "    #Redraw the plot\n",
      "    fig2.canvas.draw_idle()\n",
      "    \n",
      "    #Calculate and print the lnprob\n",
      "    print(myModel.evaluate())\n",
      "    "
     ],
     "language": "python",
     "metadata": {},
     "outputs": [],
     "prompt_number": 8
    },
    {
     "cell_type": "code",
     "collapsed": false,
     "input": [
      "i = interact(update_model_plot,\n",
      "         temp=(5500,6500, 10),\n",
      "         logg=(2.5,5.0, 0.1),\n",
      "         Z=(-1, 0.5, 0.1),\n",
      "         #alpha=(0.0, 0.4, 0.05),\n",
      "         vsini=(3, 8., 0.5),\n",
      "         vz=(-10,0, 0.1),\n",
      "         #Av=(0.0,1.0, 0.05),\n",
      "         logOmega=(-13.,-12., 0.01),\n",
      "         #logOmega=(-20.4,-19.0, 0.01),\n",
      "         )"
     ],
     "language": "python",
     "metadata": {},
     "outputs": [
      {
       "output_type": "stream",
       "stream": "stdout",
       "text": [
        "74614.55674281382\n"
       ]
      }
     ],
     "prompt_number": 11
    },
    {
     "cell_type": "code",
     "collapsed": false,
     "input": [
      "i = interact(update_Cheb_plot,\n",
      "         c1=(-0.2, 0.2, 0.01),\n",
      "         c2=(-0.2, 0.2, 0.01),\n",
      "         c3=(-0.2, 0.2, 0.01),\n",
      "         )"
     ],
     "language": "python",
     "metadata": {},
     "outputs": [
      {
       "output_type": "stream",
       "stream": "stdout",
       "text": [
        "params are  {'c1': 0.11, 'c2': -0.2, 'c3': -6.938893903907228e-18}\n"
       ]
      }
     ],
     "prompt_number": 10
    },
    {
     "cell_type": "code",
     "collapsed": false,
     "input": [
      "i = interact(update_Cov_plot,\n",
      "         sigAmp=(.5,1.5, 0.1),\n",
      "         logAmp=(-15,-13, 0.2),\n",
      "         l=(1, 50, 1),\n",
      "         )"
     ],
     "language": "python",
     "metadata": {},
     "outputs": [
      {
       "output_type": "stream",
       "stream": "stdout",
       "text": [
        "74024.8847862\n"
       ]
      }
     ],
     "prompt_number": 14
    },
    {
     "cell_type": "markdown",
     "metadata": {},
     "source": [
      "Good starting guesses for WASP-14:\n",
      "temp: 6100\n",
      "logg: 4.0\n",
      "Z: -0.5\n",
      "vsini: 6\n",
      "vz: 13.7\n",
      "log_Omega: -19.7\n",
      "alpha: 0.2"
     ]
    }
   ],
   "metadata": {}
  }
 ]
}