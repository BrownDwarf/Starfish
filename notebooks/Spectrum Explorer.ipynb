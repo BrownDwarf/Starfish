{
 "metadata": {
  "name": "",
  "signature": "sha256:fe237c5aec9e3451074910d4c2d5849bf67b915f91b7edbe3f10f5bd63522962"
 },
 "nbformat": 3,
 "nbformat_minor": 0,
 "worksheets": [
  {
   "cells": [
    {
     "cell_type": "markdown",
     "metadata": {},
     "source": [
      "#Spectrum Explorer\n",
      "\n",
      "Designed to visualize and explore fits to the data"
     ]
    },
    {
     "cell_type": "code",
     "collapsed": false,
     "input": [
      "%matplotlib\n",
      "import matplotlib.pyplot as plt\n",
      "import numpy as np\n",
      "from IPython.html import widgets # Widget definitions\n",
      "from IPython.display import display, clear_output, HTML # Used to display widgets in the notebook\n",
      "from IPython.html.widgets import interact, interactive, fixed"
     ],
     "language": "python",
     "metadata": {},
     "outputs": [
      {
       "output_type": "stream",
       "stream": "stdout",
       "text": [
        "Using matplotlib backend: Qt4Agg\n"
       ]
      }
     ],
     "prompt_number": 1
    },
    {
     "cell_type": "code",
     "collapsed": false,
     "input": [
      "from StellarSpectra.model import Model\n",
      "from StellarSpectra.spectrum import DataSpectrum\n",
      "from StellarSpectra.grid_tools import TRES, SPEX, HDF5Interface\n",
      "import scipy.sparse as sp\n",
      "import numpy as np\n",
      "\n",
      "#myDataSpectrum = DataSpectrum.open(\"WASP14/WASP-14_2009-06-15_04h13m57s_cb.spec.flux\", orders=np.array([22]))\n",
      "#myDataSpectrum = DataSpectrum.open(\"../data/LkCa15/LkCa15-2013-10-12.hdf5\", orders=np.array([32]))\n",
      "myDataSpectrum = DataSpectrum.open(\"../data/Gl51/Gl51.hdf5\")\n",
      "\n",
      "#myInstrument = TRES()\n",
      "myInstrument = SPEX()\n",
      "\n",
      "myHDF5Interface = HDF5Interface(\"../libraries/PHOENIX_SPEX_2300.hdf5\")\n",
      "#myHDF5Interface = HDF5Interface(\"../libraries/Kurucz_master.hdf5\")\n",
      "\n",
      "myModel = Model(myDataSpectrum, myInstrument, myHDF5Interface, stellar_tuple=(\"temp\", \"logg\", \"Z\", \"vsini\", \"vz\", \"logOmega\"), \n",
      "                cheb_tuple=(\"c1\", \"c2\", \"c3\"), cov_tuple=(\"sigAmp\", \"logAmp\", \"l\"), region_tuple=(\"h\", \"loga\", \"mu\", \"sigma\"))\n",
      "myOrderModel = myModel.OrderModels[0]"
     ],
     "language": "python",
     "metadata": {},
     "outputs": [
      {
       "output_type": "stream",
       "stream": "stdout",
       "text": [
        "ss is len 3710\n",
        "Creating OrderModel 0\n"
       ]
      }
     ],
     "prompt_number": 2
    },
    {
     "cell_type": "code",
     "collapsed": false,
     "input": [
      "myOrderModel.update_Cov({\"sigAmp\": 1, \"logAmp\":-15 , \"l\":0.5})"
     ],
     "language": "python",
     "metadata": {},
     "outputs": [],
     "prompt_number": 4
    },
    {
     "cell_type": "code",
     "collapsed": false,
     "input": [
      "#First pass at actually plotting the model\n",
      "#params = {\"temp\":4500, \"logg\":4.0, \"Z\":-0.1, \"vsini\":10, \"vz\":15, \"logOmega\":-19.}\n",
      "params = {\"temp\":3000, \"logg\":4.0, \"Z\":-0.1, \"vsini\":10, \"vz\":0, \"logOmega\":-19.}\n",
      "myModel.update_Model(params)\n",
      "\n",
      "myOrderModel.update_Cheb({\"c1\":0.0, \"c2\":0.0, \"c3\":0.0})\n",
      "model_flux = myOrderModel.get_spectrum()"
     ],
     "language": "python",
     "metadata": {},
     "outputs": [
      {
       "output_type": "stream",
       "stream": "stdout",
       "text": [
        "interpolated fl is len 7418\n",
        "params are "
       ]
      },
      {
       "output_type": "stream",
       "stream": "stdout",
       "text": [
        " {'c2': 0.0, 'c3': 0.0, 'c1': 0.0}\n"
       ]
      }
     ],
     "prompt_number": 3
    },
    {
     "cell_type": "code",
     "collapsed": false,
     "input": [
      "spec = myModel.get_data()\n",
      "wl = spec.wls[0]\n",
      "\n",
      "wl_mask = spec.wls[spec.masks]\n",
      "fl = spec.fls[spec.masks]\n",
      "\n",
      "print(len(wl_mask), len(fl))\n",
      "print(wl_mask, fl)\n",
      "print(len(wl), len(model_flux))\n",
      "print(wl, model_flux)\n",
      "\n",
      "fig, ax = plt.subplots(nrows=2, figsize=(11,8))#, sharex=True)\n",
      "ax[0].plot(wl_mask, fl, \"b\")\n",
      "l_model, = ax[0].plot(wl, model_flux, \"r\")\n",
      "ax[0].set_ylabel(\"Data and Model\")\n",
      "#l_resid, = ax[1].plot(wl, fl - model_flux, \"b\")\n",
      "ax[1].set_xlabel(r\"$\\lambda$\\AA\")\n",
      "ax[1].set_ylabel(\"Residuals\")\n",
      "\n",
      "#cov = myModel.OrderModels[0].get_Cov()[0].todense()\n",
      "\n",
      "#fig2 = plt.figure()\n",
      "#ax2 = fig2.add_subplot(111)\n",
      "#im = ax2.imshow(cov, origin='upper', interpolation='none')\n",
      "\n",
      "plt.show()"
     ],
     "language": "python",
     "metadata": {},
     "outputs": [
      {
       "output_type": "stream",
       "stream": "stdout",
       "text": [
        "4297 4297\n",
        "[  8051.96   8053.99   8056.01 ...,  24986.38  24991.42  24996.46] [  9.31694975e-14   9.63062976e-14   9.78462984e-14 ...,   1.71529999e-14\n",
        "   1.78184002e-14   1.78218002e-14]\n",
        "4315 4315\n",
        "[  8051.96   8053.99   8056.01 ...,  24986.38  24991.42  24996.46] [  4.18234322e-13   4.20293127e-13   4.23241812e-13 ...,   7.53443442e-14\n",
        "   7.57690320e-14   7.66914546e-14]\n"
       ]
      }
     ],
     "prompt_number": 12
    },
    {
     "cell_type": "code",
     "collapsed": false,
     "input": [
      "def update_model_plot(**kwargs):\n",
      "    '''Take the kwargs, update the model and residuals'''\n",
      "    \n",
      "    #Update the model spectrum\n",
      "    myModel.update_Model(kwargs)\n",
      "    model_flux = myOrderModel.get_spectrum()\n",
      "    l_model.set_ydata(model_flux)\n",
      "    \n",
      "    #Update the residuals\n",
      "    #residuals = fl - model_flux\n",
      "    #l_resid.set_ydata(residuals)\n",
      "    \n",
      "    #Find ymax and ymin and rescale\n",
      "    #ax[0].set_ylim(np.min([fl, model_flux]), np.max([fl, model_flux]))\n",
      "    #ax[1].set_ylim(np.min(fl - model_flux), np.max(fl - model_flux))\n",
      "    \n",
      "    #Redraw the plot\n",
      "    fig.canvas.draw_idle()\n",
      "    \n",
      "    #Calculate and print the lnprob\n",
      "    #print(myModel.evaluate())\n",
      "    "
     ],
     "language": "python",
     "metadata": {},
     "outputs": [],
     "prompt_number": 11
    },
    {
     "cell_type": "code",
     "collapsed": false,
     "input": [
      "np.save(\"WASPfl.npy\", myOrderModel.get_spectrum())\n",
      "np.save(\"WASP_resid.npy\", fl - model_flux)    "
     ],
     "language": "python",
     "metadata": {},
     "outputs": [],
     "prompt_number": 11
    },
    {
     "cell_type": "code",
     "collapsed": false,
     "input": [
      "def update_Cheb_plot(**kw):\n",
      "    '''Take the kwargs, update the model and residuals'''\n",
      "    \n",
      "    #Update the Chebyshev polynomial\n",
      "    myOrderModel.update_Cheb(kw)\n",
      "    \n",
      "    model_flux = myOrderModel.get_spectrum()\n",
      "    l_model.set_ydata(model_flux)\n",
      "    \n",
      "    #Update the residuals\n",
      "    l_resid.set_ydata(fl - model_flux)\n",
      "    \n",
      "    #Find ymax and ymin and rescale\n",
      "    ax[0].set_ylim(np.min([fl, model_flux]), np.max([fl, model_flux]))\n",
      "    ax[1].set_ylim(np.min(fl - model_flux), np.max(fl - model_flux))\n",
      "    \n",
      "    #Redraw the plot\n",
      "    fig.canvas.draw_idle()\n",
      "    \n",
      "    #Calculate and print the lnprob\n",
      "    #print(myModel.evaluate())\n",
      "    "
     ],
     "language": "python",
     "metadata": {},
     "outputs": [],
     "prompt_number": 9
    },
    {
     "cell_type": "code",
     "collapsed": false,
     "input": [
      "def update_Cov_plot(**kwargs):\n",
      "    '''Take the kwargs, update the model and residuals'''\n",
      "    \n",
      "    #Update the covariance matrix\n",
      "    myModel.update_Cov(kwargs)\n",
      "    cov = myModel.get_Cov()[0].todense()\n",
      "    \n",
      "    #Replot the covariance matrix\n",
      "    im.set_array(cov)\n",
      "    \n",
      "    #Redraw the plot\n",
      "    fig2.canvas.draw_idle()\n",
      "    \n",
      "    #Calculate and print the lnprob\n",
      "    print(myModel.evaluate())\n",
      "    "
     ],
     "language": "python",
     "metadata": {},
     "outputs": [],
     "prompt_number": 9
    },
    {
     "cell_type": "code",
     "collapsed": false,
     "input": [
      "i = interact(update_model_plot,\n",
      "         temp=(2500,4500, 10),\n",
      "         logg=(3.5,5.0, 0.1),\n",
      "         Z=(-0.5, 0.5, 0.1),\n",
      "         #alpha=(0.0, 0.4, 0.05),\n",
      "         vsini=(3, 15., 0.5),\n",
      "         vz=(-30,30, 0.1),\n",
      "         #Av=(0.0,1.0, 0.05),\n",
      "         #logOmega=(-19.9,-19.5, 0.01),\n",
      "         logOmega=(-21.,-19., 0.01),\n",
      "         )"
     ],
     "language": "python",
     "metadata": {},
     "outputs": [
      {
       "output_type": "stream",
       "stream": "stdout",
       "text": [
        "interpolated fl is len 7418\n"
       ]
      }
     ],
     "prompt_number": 14
    },
    {
     "cell_type": "code",
     "collapsed": false,
     "input": [
      "i = interact(update_Cheb_plot,\n",
      "         c1=(-0.2, 0.2, 0.01),\n",
      "         c2=(-0.2, 0.2, 0.01),\n",
      "         c3=(-0.2, 0.2, 0.01),\n",
      "         )"
     ],
     "language": "python",
     "metadata": {},
     "outputs": [
      {
       "output_type": "stream",
       "stream": "stdout",
       "text": [
        "params are  {'c1': 0.11, 'c2': -0.2, 'c3': -6.938893903907228e-18}\n"
       ]
      }
     ],
     "prompt_number": 10
    },
    {
     "cell_type": "code",
     "collapsed": false,
     "input": [
      "i = interact(update_Cov_plot,\n",
      "         sigAmp=(.5,1.5, 0.1),\n",
      "         logAmp=(-15,-13, 0.2),\n",
      "         l=(0.1, 1, 0.1),\n",
      "         )"
     ],
     "language": "python",
     "metadata": {},
     "outputs": [
      {
       "output_type": "stream",
       "stream": "stdout",
       "text": [
        "72857.5012234\n"
       ]
      }
     ],
     "prompt_number": 16
    },
    {
     "cell_type": "markdown",
     "metadata": {},
     "source": [
      "Good starting guesses for WASP-14:\n",
      "temp: 6100\n",
      "logg: 4.0\n",
      "Z: -0.5\n",
      "vsini: 6\n",
      "vz: 13.7\n",
      "log_Omega: -19.7\n",
      "alpha: 0.2"
     ]
    }
   ],
   "metadata": {}
  }
 ]
}