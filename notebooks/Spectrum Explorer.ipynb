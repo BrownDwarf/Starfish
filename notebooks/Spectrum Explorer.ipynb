{
 "metadata": {
  "name": "",
  "signature": "sha256:bd41dfecccf2ea9789731e4f63c4beaf5c2eb5d8e661af2453cb003eae2e8bf7"
 },
 "nbformat": 3,
 "nbformat_minor": 0,
 "worksheets": [
  {
   "cells": [
    {
     "cell_type": "markdown",
     "metadata": {},
     "source": [
      "How do we choose a reasonable range of slider values? Can this instead be just a flipper? Maybe there can be toggle button widgets which set the ranges of the sliders? Or maybe we can just regenerate the sliders using some more reasonable values.\n",
      "\n",
      "* Containers are useful to pull together many different widgets at once (Part 3)\n",
      "\n",
      "* show other widgets based upon values of others\n",
      "\n",
      "For example, if  $Z >=0 $, then $[\\alpha/{\\rm Fe}] = 0$."
     ]
    },
    {
     "cell_type": "code",
     "collapsed": false,
     "input": [
      "%matplotlib\n",
      "import matplotlib.pyplot as plt\n",
      "import numpy as np\n",
      "from IPython.html import widgets # Widget definitions\n",
      "from IPython.display import display, clear_output, HTML # Used to display widgets in the notebook\n",
      "from IPython.html.widgets import interact, interactive, fixed"
     ],
     "language": "python",
     "metadata": {},
     "outputs": [
      {
       "output_type": "stream",
       "stream": "stdout",
       "text": [
        "Using matplotlib backend: Qt4Agg\n"
       ]
      }
     ],
     "prompt_number": 4
    },
    {
     "cell_type": "code",
     "collapsed": false,
     "input": [
      "from StellarSpectra.model import Model, SamplerStellarCheb\n",
      "from StellarSpectra.spectrum import DataSpectrum\n",
      "from StellarSpectra.grid_tools import TRES, HDF5Interface\n",
      "import scipy.sparse as sp\n",
      "import numpy as np\n",
      "\n",
      "myDataSpectrum = DataSpectrum.open(\"/home/ian/Grad/Research/Disks/StellarSpectra/tests/WASP14/WASP-14_2009-06-15_04h13m57s_cb.spec.flux\", orders=np.array([22]))\n",
      "myInstrument = TRES()\n",
      "myHDF5Interface = HDF5Interface(\"/home/ian/Grad/Research/Disks/StellarSpectra/libraries/PHOENIX_submaster.hdf5\")\n",
      "\n",
      "myModel = Model(myDataSpectrum, myInstrument, myHDF5Interface, stellar_tuple=(\"temp\", \"logg\", \"Z\", \"vsini\", \"vz\", \"logOmega\"), \n",
      "                cov_tuple=(\"sigAmp\", \"logAmp\", \"l\"))"
     ],
     "language": "python",
     "metadata": {},
     "outputs": [
      {
       "output_type": "stream",
       "stream": "stdout",
       "text": [
        "wl_FFT is 0.04805860213977044 km/s\n"
       ]
      }
     ],
     "prompt_number": 8
    },
    {
     "cell_type": "code",
     "collapsed": false,
     "input": [
      "%%timeit\n",
      "params = {\"temp\":6200, \"logg\":4.0, \"Z\":-0.2, \"vsini\":10, \"vz\":15, \"logOmega\":-22}\n",
      "myModel.update_Model(params)\n",
      "model_flux = myModel.get_spectrum()[0]"
     ],
     "language": "python",
     "metadata": {},
     "outputs": [
      {
       "output_type": "stream",
       "stream": "stdout",
       "text": [
        "1 loops, best of 3: 249 ms per loop\n"
       ]
      }
     ],
     "prompt_number": 13
    },
    {
     "cell_type": "code",
     "collapsed": false,
     "input": [
      "params = {\"temp\":6200, \"logg\":4.0, \"Z\":-0.2, \"vsini\":10, \"vz\":15, \"logOmega\":-22}\n",
      "myModel.update_Model(params)\n",
      "myModel.update_Cheb(np.array([0, 0, 0]))"
     ],
     "language": "python",
     "metadata": {},
     "outputs": [],
     "prompt_number": 4
    },
    {
     "cell_type": "code",
     "collapsed": false,
     "input": [
      "myModel.evaluate()"
     ],
     "language": "python",
     "metadata": {},
     "outputs": [
      {
       "metadata": {},
       "output_type": "pyout",
       "prompt_number": 6,
       "text": [
        "-5728173.2138670366"
       ]
      }
     ],
     "prompt_number": 6
    },
    {
     "cell_type": "code",
     "collapsed": false,
     "input": [
      "timeit myModel.evaluate()"
     ],
     "language": "python",
     "metadata": {},
     "outputs": [
      {
       "output_type": "stream",
       "stream": "stdout",
       "text": [
        "1000 loops, best of 3: 664 \u00b5s per loop\n"
       ]
      }
     ],
     "prompt_number": 5
    },
    {
     "cell_type": "code",
     "collapsed": false,
     "input": [
      "myModel.update_Cov({\"sigAmp\": 1, \"logAmp\":-15 , \"l\":0.5})"
     ],
     "language": "python",
     "metadata": {},
     "outputs": [],
     "prompt_number": 16
    },
    {
     "cell_type": "code",
     "collapsed": false,
     "input": [
      "timeit myModel.evaluate()"
     ],
     "language": "python",
     "metadata": {},
     "outputs": [
      {
       "output_type": "stream",
       "stream": "stdout",
       "text": [
        "1 loops, best of 3: 476 ms per loop\n"
       ]
      }
     ],
     "prompt_number": 17
    },
    {
     "cell_type": "code",
     "collapsed": false,
     "input": [
      "#First pass at actually plotting the model\n",
      "params = {\"temp\":6200, \"logg\":4.0, \"Z\":-0.2, \"vsini\":10, \"vz\":15, \"logOmega\":-20}\n",
      "myModel.update_Model(params)\n",
      "\n",
      "myModel.update_Cheb(np.array([0, 0, 0]))\n",
      "model_flux = myModel.get_spectrum()[0]\n",
      "\n",
      "spec = myModel.get_data()\n",
      "wl = spec.wls[0]\n",
      "fl = spec.fls[0]\n",
      "\n",
      "fig, ax = plt.subplots(nrows=2, figsize=(11,8), sharex=True)\n",
      "ax[0].plot(wl, fl, \"b\")\n",
      "l_model, = ax[0].plot(wl, model_flux, \"r\")\n",
      "ax[0].set_ylabel(\"Data and Model\")\n",
      "l_resid, = ax[1].plot(wl, fl - model_flux, \"b\")\n",
      "ax[1].set_xlabel(r\"$\\lambda$\\AA\")\n",
      "ax[1].set_ylabel(\"Residuals\")\n",
      "\n",
      "cov = myModel.get_Cov()[0].todense()\n",
      "\n",
      "fig2 = plt.figure()\n",
      "ax2 = fig2.add_subplot(111)\n",
      "im = ax2.imshow(cov, origin='upper', interpolation='none')\n",
      "\n",
      "plt.show()"
     ],
     "language": "python",
     "metadata": {},
     "outputs": [],
     "prompt_number": 8
    },
    {
     "cell_type": "code",
     "collapsed": false,
     "input": [
      "def update_model_plot(**kwargs):\n",
      "    '''Take the kwargs, update the model and residuals'''\n",
      "    \n",
      "    #Update the model spectrum\n",
      "    myModel.update_Model(kwargs)\n",
      "    model_flux = myModel.get_spectrum()[0]\n",
      "    l_model.set_ydata(model_flux)\n",
      "    \n",
      "    #Update the residuals\n",
      "    residuals = fl - model_flux\n",
      "    l_resid.set_ydata(residuals)\n",
      "    \n",
      "    #Find ymax and ymin and rescale\n",
      "    ax[0].set_ylim(np.min([fl, model_flux]), np.max([fl, model_flux]))\n",
      "    ax[1].set_ylim(np.min(fl - model_flux), np.max(fl - model_flux))\n",
      "    \n",
      "    #Redraw the plot\n",
      "    fig.canvas.draw_idle()\n",
      "    \n",
      "    #Calculate and print the lnprob\n",
      "    print(myModel.evaluate())\n",
      "    "
     ],
     "language": "python",
     "metadata": {},
     "outputs": [],
     "prompt_number": 9
    },
    {
     "cell_type": "code",
     "collapsed": false,
     "input": [
      "def update_Cheb_plot(**kw):\n",
      "    '''Take the kwargs, update the model and residuals'''\n",
      "    \n",
      "    p = np.array([kw['c1'], kw['c2'], kw['c3']])\n",
      "    #Update the Chebyshev polynomial\n",
      "    myModel.update_Cheb(p)\n",
      "    \n",
      "    model_flux = myModel.get_spectrum()[0]\n",
      "    l_model.set_ydata(model_flux)\n",
      "    \n",
      "    #Update the residuals\n",
      "    l_resid.set_ydata(fl - model_flux)\n",
      "    \n",
      "    #Find ymax and ymin and rescale\n",
      "    ax[0].set_ylim(np.min([fl, model_flux]), np.max([fl, model_flux]))\n",
      "    ax[1].set_ylim(np.min(fl - model_flux), np.max(fl - model_flux))\n",
      "    \n",
      "    #Redraw the plot\n",
      "    fig.canvas.draw_idle()\n",
      "    \n",
      "    #Calculate and print the lnprob\n",
      "    print(myModel.evaluate())\n",
      "    "
     ],
     "language": "python",
     "metadata": {},
     "outputs": [],
     "prompt_number": 10
    },
    {
     "cell_type": "code",
     "collapsed": false,
     "input": [
      "def update_Cov_plot(**kwargs):\n",
      "    '''Take the kwargs, update the model and residuals'''\n",
      "    \n",
      "    #Update the covariance matrix\n",
      "    myModel.update_Cov(kwargs)\n",
      "    cov = myModel.get_Cov()[0].todense()\n",
      "    \n",
      "    #Replot the covariance matrix\n",
      "    im.set_array(cov)\n",
      "    \n",
      "    #Redraw the plot\n",
      "    fig2.canvas.draw_idle()\n",
      "    \n",
      "    #Calculate and print the lnprob\n",
      "    print(myModel.evaluate())\n",
      "    "
     ],
     "language": "python",
     "metadata": {},
     "outputs": [],
     "prompt_number": 15
    },
    {
     "cell_type": "code",
     "collapsed": false,
     "input": [
      "i = interact(update_model_plot,\n",
      "         temp=(6000,6400, 10),\n",
      "         logg=(3.6,5.0, 0.1),\n",
      "         Z=(-1.0, 0.0, 0.1),\n",
      "         #alpha=(0.0, 0.4, 0.05),\n",
      "         vsini=(3, 8., 0.5),\n",
      "         vz=(12,14, 0.1),\n",
      "         #Av=(0.0,1.0, 0.05),\n",
      "         logOmega=(-19.9,-19.5, 0.01),\n",
      "         )"
     ],
     "language": "python",
     "metadata": {},
     "outputs": [
      {
       "output_type": "stream",
       "stream": "stdout",
       "text": [
        "40799.4624493\n"
       ]
      }
     ],
     "prompt_number": 11
    },
    {
     "cell_type": "code",
     "collapsed": false,
     "input": [
      "i = interact(update_Cheb_plot,\n",
      "         c1=(-0.2, 0.2, 0.01),\n",
      "         c2=(-0.2, 0.2, 0.01),\n",
      "         c3=(-0.2, 0.2, 0.01),\n",
      "         )"
     ],
     "language": "python",
     "metadata": {},
     "outputs": [
      {
       "output_type": "stream",
       "stream": "stdout",
       "text": [
        "37709.3008235\n"
       ]
      }
     ],
     "prompt_number": 12
    },
    {
     "cell_type": "code",
     "collapsed": false,
     "input": [
      "i = interact(update_Cov_plot,\n",
      "         sigAmp=(.5,1.5, 0.1),\n",
      "         logAmp=(-15,-13, 0.2),\n",
      "         l=(0.1, 1, 0.1),\n",
      "         )"
     ],
     "language": "python",
     "metadata": {},
     "outputs": [
      {
       "output_type": "stream",
       "stream": "stdout",
       "text": [
        "72857.5012234\n"
       ]
      }
     ],
     "prompt_number": 16
    },
    {
     "cell_type": "markdown",
     "metadata": {},
     "source": [
      "Good starting guesses:\n",
      "temp: 6100\n",
      "logg: 4.0\n",
      "Z: -0.5\n",
      "vsini: 6\n",
      "vz: 13.7\n",
      "log_Omega: -19.7\n",
      "alpha: 0.2"
     ]
    },
    {
     "cell_type": "markdown",
     "metadata": {},
     "source": [
      "# Visualizing matrices from the MCMC run\n",
      "\n",
      "Use the multidimensional Gaussian code to draw samples from this covariance matrix and see if they look anything like the residuals."
     ]
    },
    {
     "cell_type": "code",
     "collapsed": false,
     "input": [
      "def sparse_k_3_2(xs, amp, l):\n",
      "    N = len(xs)\n",
      "    offset = 0\n",
      "    r0 = 6 * l\n",
      "    diags = []\n",
      "    while offset < N:\n",
      "        #Pairwise calculate rs\n",
      "        if offset == 0:\n",
      "            rs = np.zeros_like(xs)\n",
      "        else:\n",
      "            rs = np.abs(xs[offset:] - xs[:-offset])\n",
      "            k = np.empty_like(rs)\n",
      "        if np.min(rs) >= r0:\n",
      "            break\n",
      "        k = (0.5 + 0.5 * np.cos(np.pi * rs/r0)) * amp**2 * (1 + np.sqrt(3) * rs/l) * np.exp(-np.sqrt(3) * rs/l)\n",
      "        k[rs >= r0] = 0\n",
      "        diags.append(k)\n",
      "        offset += 1\n",
      "\n",
      "    #Mirror the diagonals\n",
      "    front = diags[1:].copy()\n",
      "    front.reverse()\n",
      "    diags = front + diags\n",
      "    offsets = [i for i in range(-offset + 1, offset)]\n",
      "    return sp.diags(diags, offsets, format=\"csc\")"
     ],
     "language": "python",
     "metadata": {},
     "outputs": [],
     "prompt_number": 2
    },
    {
     "cell_type": "code",
     "collapsed": false,
     "input": [
      "spec = myModel.get_data()\n",
      "wl = spec.wls[0]\n",
      "sigAmp = 0.97\n",
      "l = 0.18 #ang\n",
      "amp = 10**(-14.17)\n",
      "sigma = myDataSpectrum.sigmas[0]\n",
      "sigmaMat = sp.diags([sigma**2], [0], dtype=np.float64, format=\"csc\")\n",
      "\n",
      "mysparse = sparse_k_3_2(wl, amp, l) + sigAmp**2 * sigmaMat"
     ],
     "language": "python",
     "metadata": {},
     "outputs": [],
     "prompt_number": 9
    },
    {
     "cell_type": "code",
     "collapsed": false,
     "input": [
      "mydense = mysparse.todense()"
     ],
     "language": "python",
     "metadata": {},
     "outputs": [],
     "prompt_number": 13
    },
    {
     "cell_type": "code",
     "collapsed": false,
     "input": [
      "fl_fake = np.random.multivariate_normal(np.zeros((len(wl),)), mydense)"
     ],
     "language": "python",
     "metadata": {},
     "outputs": [
      {
       "metadata": {},
       "output_type": "pyout",
       "prompt_number": 14,
       "text": [
        "[<matplotlib.lines.Line2D at 0x7f4928867dd0>]"
       ]
      }
     ],
     "prompt_number": 14
    },
    {
     "cell_type": "code",
     "collapsed": false,
     "input": [
      "plt.plot(wl, fl_fake/sigma, \"k\", lw=0.2)"
     ],
     "language": "python",
     "metadata": {},
     "outputs": []
    }
   ],
   "metadata": {}
  }
 ]
}