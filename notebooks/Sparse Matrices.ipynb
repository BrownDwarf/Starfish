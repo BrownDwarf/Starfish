{
 "metadata": {
  "name": ""
 },
 "nbformat": 3,
 "nbformat_minor": 0,
 "worksheets": [
  {
   "cells": [
    {
     "cell_type": "code",
     "collapsed": false,
     "input": [
      "%pylab inline\n",
      "import scipy.sparse as sp\n",
      "from scipy.sparse.linalg import inv as sinv\n",
      "import numpy as np\n",
      "from numpy.linalg import inv,det"
     ],
     "language": "python",
     "metadata": {},
     "outputs": [
      {
       "output_type": "stream",
       "stream": "stdout",
       "text": [
        "Populating the interactive namespace from numpy and matplotlib\n"
       ]
      }
     ],
     "prompt_number": 1
    },
    {
     "cell_type": "heading",
     "level": 2,
     "metadata": {},
     "source": [
      "Using Diagonals"
     ]
    },
    {
     "cell_type": "code",
     "collapsed": false,
     "input": [
      "N = 100000"
     ],
     "language": "python",
     "metadata": {},
     "outputs": [],
     "prompt_number": 8
    },
    {
     "cell_type": "code",
     "collapsed": false,
     "input": [
      "center = np.ones(N)"
     ],
     "language": "python",
     "metadata": {},
     "outputs": [],
     "prompt_number": 9
    },
    {
     "cell_type": "code",
     "collapsed": false,
     "input": [
      "offset1 = 0.5 * np.ones(N-1)\n",
      "offset2 = 0.1 * np.ones(N-2)"
     ],
     "language": "python",
     "metadata": {},
     "outputs": [],
     "prompt_number": 10
    },
    {
     "cell_type": "code",
     "collapsed": false,
     "input": [
      "print(center, offset1, offset2)"
     ],
     "language": "python",
     "metadata": {},
     "outputs": [
      {
       "output_type": "stream",
       "stream": "stdout",
       "text": [
        "[ 1.  1.  1. ...,  1.  1.  1.] [ 0.5  0.5  0.5 ...,  0.5  0.5  0.5] [ 0.1  0.1  0.1 ...,  0.1  0.1  0.1]\n"
       ]
      }
     ],
     "prompt_number": 11
    },
    {
     "cell_type": "code",
     "collapsed": false,
     "input": [
      "myarr = sp.diags([center, offset1, offset1, offset2, offset2], [0, -1, 1, -2, 2])"
     ],
     "language": "python",
     "metadata": {},
     "outputs": [],
     "prompt_number": 12
    },
    {
     "cell_type": "code",
     "collapsed": false,
     "input": [
      "out_vec =myarr.dot(np.ones(N))"
     ],
     "language": "python",
     "metadata": {},
     "outputs": [],
     "prompt_number": 14
    },
    {
     "cell_type": "code",
     "collapsed": false,
     "input": [
      "len(out_vec)"
     ],
     "language": "python",
     "metadata": {},
     "outputs": [
      {
       "metadata": {},
       "output_type": "pyout",
       "prompt_number": 15,
       "text": [
        "100000"
       ]
      }
     ],
     "prompt_number": 15
    },
    {
     "cell_type": "markdown",
     "metadata": {},
     "source": [
      "# Chi squared using a covariance matrix with off-diagonal terms"
     ]
    },
    {
     "cell_type": "code",
     "collapsed": false,
     "input": [
      "xs = np.linspace(-10,10)\n",
      "npoints = len(xs)"
     ],
     "language": "python",
     "metadata": {},
     "outputs": [],
     "prompt_number": 3
    },
    {
     "cell_type": "code",
     "collapsed": false,
     "input": [
      "sigma = 1\n",
      "amp = 30\n",
      "def gauss(x):\n",
      "    return amp/np.sqrt(2 * np.pi * sigma**2) * np.exp(-0.5 * x**2/ sigma**2)"
     ],
     "language": "python",
     "metadata": {},
     "outputs": [],
     "prompt_number": 4
    },
    {
     "cell_type": "code",
     "collapsed": false,
     "input": [
      "ys = gauss(xs) + np.random.normal(size=npoints)\n",
      "plot(xs, ys)amp_noise = 1\n",
      "sigma = 1"
     ],
     "language": "python",
     "metadata": {},
     "outputs": [
      {
       "ename": "SyntaxError",
       "evalue": "invalid syntax (<ipython-input-5-ff887843d124>, line 2)",
       "output_type": "pyerr",
       "traceback": [
        "\u001b[1;36m  File \u001b[1;32m\"<ipython-input-5-ff887843d124>\"\u001b[1;36m, line \u001b[1;32m2\u001b[0m\n\u001b[1;33m    plot(xs, ys)amp_noise = 1\u001b[0m\n\u001b[1;37m                        ^\u001b[0m\n\u001b[1;31mSyntaxError\u001b[0m\u001b[1;31m:\u001b[0m invalid syntax\n"
       ]
      }
     ],
     "prompt_number": 5
    },
    {
     "cell_type": "code",
     "collapsed": false,
     "input": [
      "def C(amp, mu, sigma, var=1):\n",
      "    '''Return the inverse of the covariance matrix as a sparse array'''\n",
      "    S = sp.dok_matrix((npoints, npoints), dtype=np.float64)\n",
      "    for i in range(npoints):\n",
      "        for j in range(npoints):\n",
      "            x0 = xs[i]\n",
      "            x1 = xs[j]\n",
      "            if np.abs(x0) < 4*sigma and np.abs(x1) < 4*sigma:\n",
      "                if i == j:\n",
      "                    S[i,j] = amp**2/(2 * np.pi * sigma**2) * np.exp(-((x0 - mu)**2 + (x1 - mu)**2)/(2 * sigma**2)) + var\n",
      "                else:\n",
      "                    S[i,j] = amp**2/(2 * np.pi * sigma**2) * np.exp(-((x0 - mu)**2 + (x1 - mu)**2)/(2 * sigma**2))\n",
      "            elif i == j:\n",
      "                S[i,j] = var\n",
      "    return S\n"
     ],
     "language": "python",
     "metadata": {},
     "outputs": [],
     "prompt_number": 22
    },
    {
     "cell_type": "code",
     "collapsed": false,
     "input": [
      "S = C(15, 0, 1)\n",
      "print(S)"
     ],
     "language": "python",
     "metadata": {},
     "outputs": [
      {
       "output_type": "stream",
       "stream": "stdout",
       "text": [
        "  (30, 26)\t2.38934197719\n",
        "  (20, 25)\t6.49220035856\n",
        "  (19, 19)\t1.23192447216\n",
        "  (24, 30)\t2.82247809406\n",
        "  (31, 19)\t0.0853557879093\n",
        "  (21, 28)\t4.65251069951\n",
        "  (20, 20)\t2.22706973776\n",
        "  (17, 20)\t0.0611685860848\n",
        "  (16, 28)\t0.0314137204313\n",
        "  (22, 19)\t1.71227603889\n",
        "  (18, 19)\t0.0853557879093\n",
        "  (17, 25)\t0.323631741777\n",
        "  (23, 26)\t24.6155786441\n",
        "  (18, 30)\t0.0853557879093\n",
        "  (33, 30)\t0.00701372885705\n",
        "  (45, 45)\t1.0\n",
        "  (34, 29)\t0.0036019684547\n",
        "  (34, 32)\t0.000179555660706\n",
        "  (15, 30)\t0.00156595245023\n",
        "  (25, 26)\t29.0778516256\n",
        "  (24, 17)\t0.323631741777\n",
        "  (23, 21)\t10.7016000213\n",
        "  (26, 17)\t0.273967371937\n",
        "  (25, 15)\t0.0190573527922\n",
        "  (27, 28)\t7.66909612322\n",
        "  :\t:\n",
        "  (17, 19)\t0.0265929861578\n",
        "  (23, 16)\t0.0722571301711\n",
        "  (22, 24)\t20.8380839061\n",
        "  (18, 24)\t1.03876421203\n",
        "  (17, 32)\t0.00304921212584\n",
        "  (23, 29)\t5.4959104461\n",
        "  (22, 15)\t0.0115612761068\n",
        "  (31, 29)\t0.196333455355\n",
        "  (34, 23)\t0.0161328206927\n",
        "  (24, 27)\t20.8380839061\n",
        "  (34, 33)\t4.7356649286e-05\n",
        "  (43, 43)\t1.0\n",
        "  (25, 28)\t12.6415690679\n",
        "  (24, 18)\t1.03876421203\n",
        "  (16, 33)\t0.000212105225559\n",
        "  (26, 27)\t17.6402816751\n",
        "  (25, 17)\t0.323631741777\n",
        "  (27, 18)\t0.630173560627\n",
        "  (26, 22)\t17.6402816751\n",
        "  (28, 21)\t4.65251069951\n",
        "  (29, 24)\t6.49220035856\n",
        "  (49, 49)\t1.0\n",
        "  (32, 31)\t0.00978708829308\n",
        "  (24, 32)\t0.323631741777\n",
        "  (19, 30)\t0.23192447216\n"
       ]
      }
     ],
     "prompt_number": 23
    },
    {
     "cell_type": "code",
     "collapsed": false,
     "input": [],
     "language": "python",
     "metadata": {},
     "outputs": [
      {
       "ename": "AttributeError",
       "evalue": "log10 not found",
       "output_type": "pyerr",
       "traceback": [
        "\u001b[1;31m---------------------------------------------------------------------------\u001b[0m\n\u001b[1;31mAttributeError\u001b[0m                            Traceback (most recent call last)",
        "\u001b[1;32m<ipython-input-32-f5206df917b8>\u001b[0m in \u001b[0;36m<module>\u001b[1;34m()\u001b[0m\n\u001b[1;32m----> 1\u001b[1;33m \u001b[0mnp\u001b[0m\u001b[1;33m.\u001b[0m\u001b[0mlog10\u001b[0m\u001b[1;33m(\u001b[0m\u001b[0mS\u001b[0m\u001b[1;33m)\u001b[0m\u001b[1;33m\u001b[0m\u001b[0m\n\u001b[0m",
        "\u001b[1;32m/usr/lib/python3.3/site-packages/scipy/sparse/base.py\u001b[0m in \u001b[0;36m__getattr__\u001b[1;34m(self, attr)\u001b[0m\n\u001b[0;32m    438\u001b[0m             \u001b[1;32mreturn\u001b[0m \u001b[0mself\u001b[0m\u001b[1;33m.\u001b[0m\u001b[0mgetnnz\u001b[0m\u001b[1;33m(\u001b[0m\u001b[1;33m)\u001b[0m\u001b[1;33m\u001b[0m\u001b[0m\n\u001b[0;32m    439\u001b[0m         \u001b[1;32melse\u001b[0m\u001b[1;33m:\u001b[0m\u001b[1;33m\u001b[0m\u001b[0m\n\u001b[1;32m--> 440\u001b[1;33m             \u001b[1;32mraise\u001b[0m \u001b[0mAttributeError\u001b[0m\u001b[1;33m(\u001b[0m\u001b[0mattr\u001b[0m \u001b[1;33m+\u001b[0m \u001b[1;34m\" not found\"\u001b[0m\u001b[1;33m)\u001b[0m\u001b[1;33m\u001b[0m\u001b[0m\n\u001b[0m\u001b[0;32m    441\u001b[0m \u001b[1;33m\u001b[0m\u001b[0m\n\u001b[0;32m    442\u001b[0m     \u001b[1;32mdef\u001b[0m \u001b[0mtranspose\u001b[0m\u001b[1;33m(\u001b[0m\u001b[0mself\u001b[0m\u001b[1;33m)\u001b[0m\u001b[1;33m:\u001b[0m\u001b[1;33m\u001b[0m\u001b[0m\n",
        "\u001b[1;31mAttributeError\u001b[0m: log10 not found"
       ]
      }
     ],
     "prompt_number": 32
    },
    {
     "cell_type": "code",
     "collapsed": false,
     "input": [
      "spy(S, markersize=2, marker=\".\")"
     ],
     "language": "python",
     "metadata": {},
     "outputs": [
      {
       "metadata": {},
       "output_type": "pyout",
       "prompt_number": 40,
       "text": [
        "<matplotlib.lines.Line2D at 0x7fb1c96bb090>"
       ]
      },
      {
       "metadata": {},
       "output_type": "display_data",
       "png": "[encoded data removed]",
       "text": [
        "<matplotlib.figure.Figure at 0x7fb1c975ab50>"
       ]
      }
     ],
     "prompt_number": 40
    },
    {
     "cell_type": "code",
     "collapsed": false,
     "input": [
      "Scsc = S.tocsc()\n",
      "Si = sinv(Scsc)"
     ],
     "language": "python",
     "metadata": {},
     "outputs": [],
     "prompt_number": 24
    },
    {
     "cell_type": "code",
     "collapsed": false,
     "input": [
      "spy(Si)"
     ],
     "language": "python",
     "metadata": {},
     "outputs": [
      {
       "metadata": {},
       "output_type": "pyout",
       "prompt_number": 25,
       "text": [
        "<matplotlib.lines.Line2D at 0x7fb1c9a39dd0>"
       ]
      },
      {
       "metadata": {},
       "output_type": "display_data",
       "png": "[encoded data removed]",
       "text": [
        "<matplotlib.figure.Figure at 0x7fb1d0077d10>"
       ]
      }
     ],
     "prompt_number": 25
    },
    {
     "cell_type": "code",
     "collapsed": false,
     "input": [
      "amp_gauss = 15\n",
      "sigma_gauss = 1\n",
      "var = 1\n",
      "S = sp.dok_matrix((npoints, npoints), dtype=float64)\n",
      "for i in range(npoints):\n",
      "     for j in range(npoints):\n",
      "            x0 = xs[i]\n",
      "            x1 = xs[j]\n",
      "            if np.abs(x0) < 4*sigma_gauss and np.abs(x1) < 4*sigma_gauss:\n",
      "                if i == j:\n",
      "                    S[i,j] = amp_gauss**2/(2 * np.pi * sigma_gauss**2) * np.exp(-(x0**2 + x1**2)/(2 * sigma_gauss**2)) + var\n",
      "                else:\n",
      "                    S[i,j] = amp_gauss**2/(2 * np.pi * sigma_gauss**2) * np.exp(-(x0**2 + x1**2)/(2 * sigma_gauss**2))  \n",
      "            elif i == j:\n",
      "                S[i,j] = var"
     ],
     "language": "python",
     "metadata": {},
     "outputs": [],
     "prompt_number": 13
    },
    {
     "cell_type": "code",
     "collapsed": false,
     "input": [
      "Scsc = S.tocsc()\n",
      "Si = sinv(Scsc)"
     ],
     "language": "python",
     "metadata": {},
     "outputs": [],
     "prompt_number": 14
    },
    {
     "cell_type": "code",
     "collapsed": false,
     "input": [
      "print(Si)"
     ],
     "language": "python",
     "metadata": {},
     "outputs": [
      {
       "output_type": "stream",
       "stream": "stdout",
       "text": [
        "  (0, 0)\t1.0\n",
        "  (1, 1)\t1.0\n",
        "  (2, 2)\t1.0\n",
        "  (3, 3)\t1.0\n",
        "  (4, 4)\t1.0\n",
        "  (5, 5)\t1.0\n",
        "  (6, 6)\t1.0\n",
        "  (7, 7)\t1.0\n",
        "  (8, 8)\t1.0\n",
        "  (9, 9)\t1.0\n",
        "  (10, 10)\t1.0\n",
        "  (11, 11)\t1.0\n",
        "  (12, 12)\t1.0\n",
        "  (13, 13)\t1.0\n",
        "  (14, 14)\t1.0\n",
        "  (15, 15)\t0.999999932441\n",
        "  (16, 15)\t-3.02589207808e-07\n",
        "  (17, 15)\t-1.14728567054e-06\n",
        "  (18, 15)\t-3.6824549069e-06\n",
        "  (19, 15)\t-1.00057820501e-05\n",
        "  (20, 15)\t-2.30150738637e-05\n",
        "  (21, 15)\t-4.48147977239e-05\n",
        "  (22, 15)\t-7.38717251146e-05\n",
        "  (23, 15)\t-0.00010308198546\n",
        "  (24, 15)\t-0.000121768523983\n",
        "  :\t:\n",
        "  (25, 34)\t-0.000121768523983\n",
        "  (26, 34)\t-0.00010308198546\n",
        "  (27, 34)\t-7.38717251147e-05\n",
        "  (28, 34)\t-4.48147977239e-05\n",
        "  (29, 34)\t-2.30150738637e-05\n",
        "  (30, 34)\t-1.00057820501e-05\n",
        "  (31, 34)\t-3.6824549069e-06\n",
        "  (32, 34)\t-1.14728567054e-06\n",
        "  (33, 34)\t-3.02589207808e-07\n",
        "  (34, 34)\t0.999999932441\n",
        "  (35, 35)\t1.0\n",
        "  (36, 36)\t1.0\n",
        "  (37, 37)\t1.0\n",
        "  (38, 38)\t1.0\n",
        "  (39, 39)\t1.0\n",
        "  (40, 40)\t1.0\n",
        "  (41, 41)\t1.0\n",
        "  (42, 42)\t1.0\n",
        "  (43, 43)\t1.0\n",
        "  (44, 44)\t1.0\n",
        "  (45, 45)\t1.0\n",
        "  (46, 46)\t1.0\n",
        "  (47, 47)\t1.0\n",
        "  (48, 48)\t1.0\n",
        "  (49, 49)\t1.0\n"
       ]
      }
     ],
     "prompt_number": 15
    },
    {
     "cell_type": "code",
     "collapsed": false,
     "input": [
      "print(S.todense()[23:27,23:27])"
     ],
     "language": "python",
     "metadata": {},
     "outputs": [
      {
       "output_type": "stream",
       "stream": "stdout",
       "text": [
        "[[  99.46231458  116.3114065   116.3114065    98.46231458]\n",
        " [ 116.3114065   138.39615345  137.39615345  116.3114065 ]\n",
        " [ 116.3114065   137.39615345  138.39615345  116.3114065 ]\n",
        " [  98.46231458  116.3114065   116.3114065    99.46231458]]\n"
       ]
      }
     ],
     "prompt_number": 240
    },
    {
     "cell_type": "code",
     "collapsed": false,
     "input": [
      "timeit np.dot((ys - xs).T, sinv(S).dot(ys - xs))"
     ],
     "language": "python",
     "metadata": {},
     "outputs": [
      {
       "output_type": "stream",
       "stream": "stdout",
       "text": [
        "10 loops, best of 3: 54 ms per loop\n"
       ]
      }
     ],
     "prompt_number": 232
    },
    {
     "cell_type": "code",
     "collapsed": false,
     "input": [
      "chi2 = np.dot((ys - xs).T, sinv(S).dot(ys - xs))\n",
      "print(chi2)\n",
      "print(npoints)"
     ],
     "language": "python",
     "metadata": {},
     "outputs": [
      {
       "output_type": "stream",
       "stream": "stdout",
       "text": [
        "1855.10894451\n",
        "50\n"
       ]
      }
     ],
     "prompt_number": 233
    },
    {
     "cell_type": "code",
     "collapsed": false,
     "input": [
      "timeit sinv(S.tocsc())"
     ],
     "language": "python",
     "metadata": {},
     "outputs": [
      {
       "output_type": "stream",
       "stream": "stdout",
       "text": [
        "10 loops, best of 3: 69.8 ms per loop\n"
       ]
      }
     ],
     "prompt_number": 94
    },
    {
     "cell_type": "code",
     "collapsed": false,
     "input": [
      "timeit inv(S.todense())"
     ],
     "language": "python",
     "metadata": {},
     "outputs": [
      {
       "output_type": "stream",
       "stream": "stdout",
       "text": [
        "1000 loops, best of 3: 1.08 ms per loop\n"
       ]
      }
     ],
     "prompt_number": 95
    },
    {
     "cell_type": "code",
     "collapsed": false,
     "input": [
      "for i in range(20):\n",
      "    y_reals = np.random.multivariate_normal(np.zeros((npoints,)), S.todense())\n",
      "    plot(xs, y_reals, \"k\",lw=0.2)\n",
      "plot(xs, ys, \"bo\")"
     ],
     "language": "python",
     "metadata": {},
     "outputs": [
      {
       "metadata": {},
       "output_type": "pyout",
       "prompt_number": 228,
       "text": [
        "[<matplotlib.lines.Line2D at 0x7fd91feb0490>]"
       ]
      },
      {
       "metadata": {},
       "output_type": "display_data",
       "png": "[encoded data removed]",
       "text": [
        "<matplotlib.figure.Figure at 0x7fd91feb0e50>"
       ]
      }
     ],
     "prompt_number": 228
    },
    {
     "cell_type": "code",
     "collapsed": false,
     "input": [
      "#Sigma = np.fromfunction(func, (npoints,npoints), x0v=xs, x1v=xs, dtype=np.int)"
     ],
     "language": "python",
     "metadata": {},
     "outputs": [],
     "prompt_number": 75
    },
    {
     "cell_type": "code",
     "collapsed": false,
     "input": [
      "amp_noise = 1\n",
      "sigma = 1\n",
      "def func(x0i, x1i, x0v=None, x1v=None):\n",
      "    x0 = x0v[x0i]\n",
      "    x1 = x1v[x1i]\n",
      "    if np.abs(x0) > 6*sigma or np.abs(x1) > 6*sigma:\n",
      "        return 0\n",
      "    else:\n",
      "        return amp_noise/(2 * np.pi * sigma**2) * np.exp(-(x0**2 + x1**2)/(2 * sigma**2))"
     ],
     "language": "python",
     "metadata": {},
     "outputs": [],
     "prompt_number": 73
    }
   ],
   "metadata": {}
  }
 ]
}