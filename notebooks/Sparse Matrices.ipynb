{
 "metadata": {
  "name": ""
 },
 "nbformat": 3,
 "nbformat_minor": 0,
 "worksheets": [
  {
   "cells": [
    {
     "cell_type": "code",
     "collapsed": false,
     "input": [
      "%pylab inline\n",
      "import scipy.sparse as sp\n",
      "from scipy.sparse.linalg import inv as sinv\n",
      "import numpy as np\n",
      "from numpy.linalg import inv,det"
     ],
     "language": "python",
     "metadata": {},
     "outputs": [],
     "prompt_number": 150
    },
    {
     "cell_type": "heading",
     "level": 2,
     "metadata": {},
     "source": [
      "Using Diagonals"
     ]
    },
    {
     "cell_type": "code",
     "collapsed": false,
     "input": [
      "N = 100000"
     ],
     "language": "python",
     "metadata": {},
     "outputs": [],
     "prompt_number": 8
    },
    {
     "cell_type": "code",
     "collapsed": false,
     "input": [
      "center = np.ones(N)"
     ],
     "language": "python",
     "metadata": {},
     "outputs": [],
     "prompt_number": 9
    },
    {
     "cell_type": "code",
     "collapsed": false,
     "input": [
      "offset1 = 0.5 * np.ones(N-1)\n",
      "offset2 = 0.1 * np.ones(N-2)"
     ],
     "language": "python",
     "metadata": {},
     "outputs": [],
     "prompt_number": 10
    },
    {
     "cell_type": "code",
     "collapsed": false,
     "input": [
      "print(center, offset1, offset2)"
     ],
     "language": "python",
     "metadata": {},
     "outputs": [
      {
       "output_type": "stream",
       "stream": "stdout",
       "text": [
        "[ 1.  1.  1. ...,  1.  1.  1.] [ 0.5  0.5  0.5 ...,  0.5  0.5  0.5] [ 0.1  0.1  0.1 ...,  0.1  0.1  0.1]\n"
       ]
      }
     ],
     "prompt_number": 11
    },
    {
     "cell_type": "code",
     "collapsed": false,
     "input": [
      "myarr = sp.diags([center, offset1, offset1, offset2, offset2], [0, -1, 1, -2, 2])"
     ],
     "language": "python",
     "metadata": {},
     "outputs": [],
     "prompt_number": 12
    },
    {
     "cell_type": "code",
     "collapsed": false,
     "input": [
      "out_vec =myarr.dot(np.ones(N))"
     ],
     "language": "python",
     "metadata": {},
     "outputs": [],
     "prompt_number": 14
    },
    {
     "cell_type": "code",
     "collapsed": false,
     "input": [
      "len(out_vec)"
     ],
     "language": "python",
     "metadata": {},
     "outputs": [
      {
       "metadata": {},
       "output_type": "pyout",
       "prompt_number": 15,
       "text": [
        "100000"
       ]
      }
     ],
     "prompt_number": 15
    },
    {
     "cell_type": "markdown",
     "metadata": {},
     "source": [
      "# Chi squared using a covariance matrix with off-diagonal terms"
     ]
    },
    {
     "cell_type": "code",
     "collapsed": false,
     "input": [
      "xs = np.linspace(-10,10)\n",
      "npoints = len(xs)"
     ],
     "language": "python",
     "metadata": {},
     "outputs": [],
     "prompt_number": 187
    },
    {
     "cell_type": "code",
     "collapsed": false,
     "input": [
      "sigma = 1\n",
      "amp = 30\n",
      "def gauss(x):\n",
      "    return amp/np.sqrt(2 * np.pi * sigma**2) * np.exp(-0.5 * x**2/ sigma**2)"
     ],
     "language": "python",
     "metadata": {},
     "outputs": [],
     "prompt_number": 188
    },
    {
     "cell_type": "code",
     "collapsed": false,
     "input": [
      "ys = gauss(xs) + np.random.normal(size=npoints)\n",
      "plot(xs, ys)amp_noise = 1\n",
      "sigma = 1"
     ],
     "language": "python",
     "metadata": {},
     "outputs": [
      {
       "metadata": {},
       "output_type": "pyout",
       "prompt_number": 189,
       "text": [
        "[<matplotlib.lines.Line2D at 0x7fd920455f50>]"
       ]
      },
      {
       "metadata": {},
       "output_type": "display_data",
       "png": "[encoded data removed]",
       "text": [
        "<matplotlib.figure.Figure at 0x7fd9205707d0>"
       ]
      }
     ],
     "prompt_number": 189
    },
    {
     "cell_type": "code",
     "collapsed": false,
     "input": [
      "amp_gauss = 30\n",
      "sigma_gauss = 1\n",
      "var = 1\n",
      "S = sp.dok_matrix((npoints, npoints), dtype=float64)\n",
      "for i in range(npoints):\n",
      "     for j in range(npoints):\n",
      "            x0 = xs[i]\n",
      "            x1 = xs[j]\n",
      "            if np.abs(x0) < 4*sigma_gauss and np.abs(x1) < 4*sigma_gauss:\n",
      "                if i == j:\n",
      "                    S[i,j] = amp_gauss**2/(2 * np.pi * sigma_gauss**2) * np.exp(-(x0**2 + x1**2)/(2 * sigma_gauss**2)) + var\n",
      "                else:\n",
      "                    S[i,j] = amp_gauss**2/(2 * np.pi * sigma_gauss**2) * np.exp(-(x0**2 + x1**2)/(2 * sigma_gauss**2))  \n",
      "            elif i == j:\n",
      "                S[i,j] = var"
     ],
     "language": "python",
     "metadata": {},
     "outputs": [],
     "prompt_number": 213
    },
    {
     "cell_type": "code",
     "collapsed": false,
     "input": [
      "print(S.todense()[23:27,23:27])"
     ],
     "language": "python",
     "metadata": {},
     "outputs": [
      {
       "output_type": "stream",
       "stream": "stdout",
       "text": [
        "[[  99.46231458  116.3114065   116.3114065    98.46231458]\n",
        " [ 116.3114065   138.39615345  137.39615345  116.3114065 ]\n",
        " [ 116.3114065   137.39615345  138.39615345  116.3114065 ]\n",
        " [  98.46231458  116.3114065   116.3114065    99.46231458]]\n"
       ]
      }
     ],
     "prompt_number": 240
    },
    {
     "cell_type": "code",
     "collapsed": false,
     "input": [
      "timeit np.dot((ys - xs).T, sinv(S).dot(ys - xs))"
     ],
     "language": "python",
     "metadata": {},
     "outputs": [
      {
       "output_type": "stream",
       "stream": "stdout",
       "text": [
        "10 loops, best of 3: 54 ms per loop\n"
       ]
      }
     ],
     "prompt_number": 232
    },
    {
     "cell_type": "code",
     "collapsed": false,
     "input": [
      "chi2 = np.dot((ys - xs).T, sinv(S).dot(ys - xs))\n",
      "print(chi2)\n",
      "print(npoints)"
     ],
     "language": "python",
     "metadata": {},
     "outputs": [
      {
       "output_type": "stream",
       "stream": "stdout",
       "text": [
        "1855.10894451\n",
        "50\n"
       ]
      }
     ],
     "prompt_number": 233
    },
    {
     "cell_type": "code",
     "collapsed": false,
     "input": [
      "timeit sinv(S.tocsc())"
     ],
     "language": "python",
     "metadata": {},
     "outputs": [
      {
       "output_type": "stream",
       "stream": "stdout",
       "text": [
        "10 loops, best of 3: 69.8 ms per loop\n"
       ]
      }
     ],
     "prompt_number": 94
    },
    {
     "cell_type": "code",
     "collapsed": false,
     "input": [
      "timeit inv(S.todense())"
     ],
     "language": "python",
     "metadata": {},
     "outputs": [
      {
       "output_type": "stream",
       "stream": "stdout",
       "text": [
        "1000 loops, best of 3: 1.08 ms per loop\n"
       ]
      }
     ],
     "prompt_number": 95
    },
    {
     "cell_type": "code",
     "collapsed": false,
     "input": [
      "for i in range(20):\n",
      "    y_reals = np.random.multivariate_normal(np.zeros((npoints,)), S.todense())\n",
      "    plot(xs, y_reals, \"k\",lw=0.2)\n",
      "plot(xs, ys, \"bo\")"
     ],
     "language": "python",
     "metadata": {},
     "outputs": [
      {
       "metadata": {},
       "output_type": "pyout",
       "prompt_number": 228,
       "text": [
        "[<matplotlib.lines.Line2D at 0x7fd91feb0490>]"
       ]
      },
      {
       "metadata": {},
       "output_type": "display_data",
       "png": "[encoded data removed]",
       "text": [
        "<matplotlib.figure.Figure at 0x7fd91feb0e50>"
       ]
      }
     ],
     "prompt_number": 228
    },
    {
     "cell_type": "code",
     "collapsed": false,
     "input": [
      "#Sigma = np.fromfunction(func, (npoints,npoints), x0v=xs, x1v=xs, dtype=np.int)"
     ],
     "language": "python",
     "metadata": {},
     "outputs": [],
     "prompt_number": 75
    },
    {
     "cell_type": "code",
     "collapsed": false,
     "input": [
      "amp_noise = 1\n",
      "sigma = 1\n",
      "def func(x0i, x1i, x0v=None, x1v=None):\n",
      "    x0 = x0v[x0i]\n",
      "    x1 = x1v[x1i]\n",
      "    if np.abs(x0) > 6*sigma or np.abs(x1) > 6*sigma:\n",
      "        return 0\n",
      "    else:\n",
      "        return amp_noise/(2 * np.pi * sigma**2) * np.exp(-(x0**2 + x1**2)/(2 * sigma**2))"
     ],
     "language": "python",
     "metadata": {},
     "outputs": [],
     "prompt_number": 73
    }
   ],
   "metadata": {}
  }
 ]
}