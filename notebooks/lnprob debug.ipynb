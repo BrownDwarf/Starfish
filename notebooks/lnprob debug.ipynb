{
 "metadata": {
  "name": "",
  "signature": "sha256:bdbc89661ecf06b392a9ca0ce54331232d85d9cc3e05d358ba08dacd91055e8e"
 },
 "nbformat": 3,
 "nbformat_minor": 0,
 "worksheets": [
  {
   "cells": [
    {
     "cell_type": "markdown",
     "metadata": {},
     "source": [
      "This notebook seeks to pin down the problem with the lnprob drifting away."
     ]
    },
    {
     "cell_type": "code",
     "collapsed": false,
     "input": [
      "%load_ext autoreload\n",
      "%autoreload 2\n",
      "%matplotlib\n",
      "\n",
      "import matplotlib.pyplot as plt\n",
      "import numpy as np\n",
      "from IPython.html import widgets # Widget definitions\n",
      "from IPython.display import display, clear_output, HTML # Used to display widgets in the notebook\n",
      "from IPython.html.widgets import interact, interactive, fixed"
     ],
     "language": "python",
     "metadata": {},
     "outputs": [
      {
       "output_type": "stream",
       "stream": "stdout",
       "text": [
        "Using matplotlib backend: Qt4Agg\n"
       ]
      }
     ],
     "prompt_number": 1
    },
    {
     "cell_type": "code",
     "collapsed": false,
     "input": [
      "from StellarSpectra.model import Model\n",
      "from StellarSpectra.spectrum import DataSpectrum\n",
      "from StellarSpectra.grid_tools import TRES, SPEX, HDF5Interface\n",
      "import scipy.sparse as sp\n",
      "import numpy as np\n",
      "\n",
      "myDataSpectrum = DataSpectrum.open(\"../data/WASP14/WASP14-2009-06-14.hdf5\", orders=np.array([22]))\n",
      "myInstrument = TRES()\n",
      "\n",
      "myHDF5Interface = HDF5Interface(\"../libraries/PHOENIX_TRES_F.hdf5\")\n",
      "\n",
      "#instantiate and tweak parameters\n",
      "myModel = Model(myDataSpectrum, myInstrument, myHDF5Interface, stellar_tuple=(\"temp\", \"logg\", \"Z\", \"vsini\", \"vz\", \"logOmega\"), \n",
      "                cheb_tuple=(\"logc0\",\"c1\", \"c2\", \"c3\"), cov_tuple=(\"sigAmp\", \"logAmp\", \"l\"), region_tuple=(\"loga\", \"mu\", \"sigma\"), \n",
      "                max_v=20, debug=True)\n",
      "myOrderModel = myModel.OrderModels[0]"
     ],
     "language": "python",
     "metadata": {},
     "outputs": [
      {
       "output_type": "stream",
       "stream": "stderr",
       "text": [
        "DEBUG:GlobalCovarianceMatrix:Initialized GlobalCovarianceMatrix\n"
       ]
      },
      {
       "output_type": "stream",
       "stream": "stderr",
       "text": [
        "DEBUG:InterpCovarianceMatrix:Initialized InterpCovarianceMatrix\n"
       ]
      },
      {
       "output_type": "stream",
       "stream": "stderr",
       "text": [
        "DEBUG:CovarianceMatrix:updating factorization\n"
       ]
      },
      {
       "output_type": "stream",
       "stream": "stderr",
       "text": [
        "DEBUG:CovarianceMatrix:Adding interp_matrix and GCM\n"
       ]
      },
      {
       "output_type": "stream",
       "stream": "stderr",
       "text": [
        "DEBUG:CovarianceMatrix:shifting self.L_last to point to self.L\n"
       ]
      },
      {
       "output_type": "stream",
       "stream": "stderr",
       "text": [
        "DEBUG:CovarianceMatrix:updating logdet\n"
       ]
      },
      {
       "output_type": "stream",
       "stream": "stdout",
       "text": [
        "Determine Chunk Log: Wl is 8192\n",
        "Creating OrderModel 0\n"
       ]
      }
     ],
     "prompt_number": 2
    },
    {
     "cell_type": "code",
     "collapsed": false,
     "input": [
      "def check_params(stellar=None, cheb=None):\n",
      "    '''\n",
      "    Update the model with both given stellar and chebyshev parameters, evaluate lnprob. If either of them is none, \n",
      "    don't update that.\n",
      "    '''\n",
      "    if stellar is not None:\n",
      "        myModel.update_Model(stellar)\n",
      "    \n",
      "    if cheb is not None:\n",
      "        myOrderModel.update_Cheb(cheb)\n",
      "    \n",
      "    return myModel.evaluate()"
     ],
     "language": "python",
     "metadata": {},
     "outputs": [],
     "prompt_number": 3
    },
    {
     "cell_type": "code",
     "collapsed": false,
     "input": [
      "check_params(stellar={'logOmega': -19.678468645296945, 'vz': -4.8296969715201277, 'vsini': 5.0328251778745861,\n",
      " 'temp': 6216.801923979292, 'Z': -0.4308532917161787, 'logg': 4.29},\n",
      "             cheb= {'c2': -0.0078662952332263381, 'c3': -0.00062746962187723229, 'logc0': -0.0061919478143556252, \n",
      "                    'c1': -0.0038506600061154039})\n",
      "#According to the run, should give 145008.06797741377\n",
      "#But returns 70252.47182451222, when clean initialized. After initializing all of the lower values, gives 145008.067. What gives?"
     ],
     "language": "python",
     "metadata": {},
     "outputs": [
      {
       "output_type": "stream",
       "stream": "stdout",
       "text": [
        "setting downsampled errors\n",
        "  C_CONTIGUOUS : True\n",
        "  F_CONTIGUOUS : False\n",
        "  OWNDATA : True\n",
        "  WRITEABLE : True\n",
        "  ALIGNED : True\n",
        "  UPDATEIFCOPY : False"
       ]
      },
      {
       "output_type": "stream",
       "stream": "stderr",
       "text": [
        "DEBUG:CovarianceMatrix:updating interp errors\n"
       ]
      },
      {
       "output_type": "stream",
       "stream": "stderr",
       "text": [
        "DEBUG:InterpCovarianceMatrix:Updating InterpCovarianceMatrix\n"
       ]
      },
      {
       "output_type": "stream",
       "stream": "stderr",
       "text": [
        "DEBUG:InterpCovarianceMatrix:freeing self.A inside of GCM.update\n"
       ]
      },
      {
       "output_type": "stream",
       "stream": "stderr",
       "text": [
        "DEBUG:InterpCovarianceMatrix:shifting self.A_last to point to self.A\n"
       ]
      },
      {
       "output_type": "stream",
       "stream": "stderr",
       "text": [
        "DEBUG:CovarianceMatrix:updating factorization\n"
       ]
      },
      {
       "output_type": "stream",
       "stream": "stderr",
       "text": [
        "DEBUG:CovarianceMatrix:freeing old A\n"
       ]
      },
      {
       "output_type": "stream",
       "stream": "stderr",
       "text": [
        "DEBUG:CovarianceMatrix:Adding interp_matrix and GCM\n"
       ]
      },
      {
       "output_type": "stream",
       "stream": "stderr",
       "text": [
        "DEBUG:CovarianceMatrix:freeing self.L_last inside of update_factorization\n"
       ]
      },
      {
       "output_type": "stream",
       "stream": "stderr",
       "text": [
        "DEBUG:CovarianceMatrix:shifting self.L_last to point to self.L\n"
       ]
      },
      {
       "output_type": "stream",
       "stream": "stderr",
       "text": [
        "DEBUG:CovarianceMatrix:updating logdet\n"
       ]
      },
      {
       "output_type": "stream",
       "stream": "stderr",
       "text": [
        "DEBUG:Model:evaluating model <StellarSpectra.model.Model object at 0x7f8592857320>\n"
       ]
      },
      {
       "output_type": "stream",
       "stream": "stderr",
       "text": [
        "DEBUG:CovarianceMatrix:evaluating covariance matrix\n"
       ]
      },
      {
       "output_type": "stream",
       "stream": "stderr",
       "text": [
        "DEBUG:CovarianceMatrix:evaluating chi2\n"
       ]
      },
      {
       "output_type": "stream",
       "stream": "stdout",
       "text": [
        "\n"
       ]
      },
      {
       "metadata": {},
       "output_type": "pyout",
       "prompt_number": 10,
       "text": [
        "70093.902249813182"
       ]
      }
     ],
     "prompt_number": 10
    },
    {
     "cell_type": "markdown",
     "metadata": {},
     "source": [
      "After here, we are trying to reproduce the chain of samples in `output/WASP14/PHOENIX/22/interp_errors/run07`"
     ]
    },
    {
     "cell_type": "code",
     "collapsed": false,
     "input": [
      "check_params(stellar={'vz': -4.823923816370411, 'vsini': 5.0989394827247958, 'logg': 4.29, \n",
      "                      'logOmega': -19.678049670694506, 'Z': -0.4250222530709904, 'temp': 6226.4793642085951},\n",
      "             cheb={'c3': 0.00087798741175266614, 'c1': -0.0083762163643208796, \n",
      "                   'logc0': -0.005985697928439556, 'c2': -0.011869491143400598})\n",
      "#accepted, should return 446158.56814910716"
     ],
     "language": "python",
     "metadata": {},
     "outputs": [
      {
       "output_type": "stream",
       "stream": "stderr",
       "text": [
        "DEBUG:CovarianceMatrix:updating interp errors\n"
       ]
      },
      {
       "output_type": "stream",
       "stream": "stderr",
       "text": [
        "DEBUG:InterpCovarianceMatrix:Updating InterpCovarianceMatrix\n"
       ]
      },
      {
       "output_type": "stream",
       "stream": "stderr",
       "text": [
        "DEBUG:InterpCovarianceMatrix:freeing self.A inside of GCM.update\n"
       ]
      },
      {
       "output_type": "stream",
       "stream": "stderr",
       "text": [
        "DEBUG:InterpCovarianceMatrix:shifting self.A_last to point to self.A\n"
       ]
      },
      {
       "output_type": "stream",
       "stream": "stderr",
       "text": [
        "DEBUG:CovarianceMatrix:updating factorization\n"
       ]
      },
      {
       "output_type": "stream",
       "stream": "stderr",
       "text": [
        "DEBUG:CovarianceMatrix:freeing old A\n"
       ]
      },
      {
       "output_type": "stream",
       "stream": "stderr",
       "text": [
        "DEBUG:CovarianceMatrix:Adding interp_matrix and GCM\n"
       ]
      },
      {
       "output_type": "stream",
       "stream": "stderr",
       "text": [
        "DEBUG:CovarianceMatrix:freeing self.L_last inside of update_factorization\n"
       ]
      },
      {
       "output_type": "stream",
       "stream": "stderr",
       "text": [
        "DEBUG:CovarianceMatrix:shifting self.L_last to point to self.L\n"
       ]
      },
      {
       "output_type": "stream",
       "stream": "stderr",
       "text": [
        "DEBUG:CovarianceMatrix:updating logdet\n"
       ]
      },
      {
       "output_type": "stream",
       "stream": "stderr",
       "text": [
        "DEBUG:Model:evaluating model <StellarSpectra.model.Model object at 0x7f8592857320>\n"
       ]
      },
      {
       "output_type": "stream",
       "stream": "stderr",
       "text": [
        "DEBUG:CovarianceMatrix:evaluating covariance matrix\n"
       ]
      },
      {
       "output_type": "stream",
       "stream": "stderr",
       "text": [
        "DEBUG:CovarianceMatrix:evaluating chi2\n"
       ]
      },
      {
       "output_type": "stream",
       "stream": "stdout",
       "text": [
        "setting downsampled errors\n"
       ]
      },
      {
       "metadata": {},
       "output_type": "pyout",
       "prompt_number": 12,
       "text": [
        "70725.78566958537"
       ]
      }
     ],
     "prompt_number": 12
    },
    {
     "cell_type": "code",
     "collapsed": false,
     "input": [
      "check_params(stellar={'logOmega': -19.679083136564483, 'vz': -4.8225480597408632, 'vsini': 5.0219380305301184, \n",
      "                      'temp': 6221.6813303969275, 'Z': -0.44587322161077669, 'logg': 4.29})\n",
      "#should return 44134.067022878044"
     ],
     "language": "python",
     "metadata": {},
     "outputs": [
      {
       "output_type": "stream",
       "stream": "stdout",
       "text": [
        "setting downsampled errors\n",
        "  C_CONTIGUOUS : True\n",
        "  F_CONTIGUOUS : False\n",
        "  OWNDATA : True\n",
        "  WRITEABLE : True\n",
        "  ALIGNED : True\n",
        "  UPDATEIFCOPY : False"
       ]
      },
      {
       "output_type": "stream",
       "stream": "stderr",
       "text": [
        "DEBUG:CovarianceMatrix:updating interp errors\n"
       ]
      },
      {
       "output_type": "stream",
       "stream": "stderr",
       "text": [
        "DEBUG:InterpCovarianceMatrix:Updating InterpCovarianceMatrix\n"
       ]
      },
      {
       "output_type": "stream",
       "stream": "stderr",
       "text": [
        "DEBUG:InterpCovarianceMatrix:freeing self.A inside of GCM.update\n"
       ]
      },
      {
       "output_type": "stream",
       "stream": "stderr",
       "text": [
        "DEBUG:InterpCovarianceMatrix:shifting self.A_last to point to self.A\n"
       ]
      },
      {
       "output_type": "stream",
       "stream": "stderr",
       "text": [
        "DEBUG:CovarianceMatrix:updating factorization\n"
       ]
      },
      {
       "output_type": "stream",
       "stream": "stderr",
       "text": [
        "DEBUG:CovarianceMatrix:freeing old A\n"
       ]
      },
      {
       "output_type": "stream",
       "stream": "stderr",
       "text": [
        "DEBUG:CovarianceMatrix:Adding interp_matrix and GCM\n"
       ]
      },
      {
       "output_type": "stream",
       "stream": "stderr",
       "text": [
        "DEBUG:CovarianceMatrix:freeing self.L_last inside of update_factorization\n"
       ]
      },
      {
       "output_type": "stream",
       "stream": "stderr",
       "text": [
        "DEBUG:CovarianceMatrix:shifting self.L_last to point to self.L\n"
       ]
      },
      {
       "output_type": "stream",
       "stream": "stderr",
       "text": [
        "DEBUG:CovarianceMatrix:updating logdet\n"
       ]
      },
      {
       "output_type": "stream",
       "stream": "stderr",
       "text": [
        "DEBUG:Model:evaluating model <StellarSpectra.model.Model object at 0x7f8592857320>\n"
       ]
      },
      {
       "output_type": "stream",
       "stream": "stderr",
       "text": [
        "DEBUG:CovarianceMatrix:evaluating covariance matrix\n"
       ]
      },
      {
       "output_type": "stream",
       "stream": "stderr",
       "text": [
        "DEBUG:CovarianceMatrix:evaluating chi2\n"
       ]
      },
      {
       "output_type": "stream",
       "stream": "stdout",
       "text": [
        "\n"
       ]
      },
      {
       "metadata": {},
       "output_type": "pyout",
       "prompt_number": 11,
       "text": [
        "68416.429939491631"
       ]
      }
     ],
     "prompt_number": 11
    },
    {
     "cell_type": "code",
     "collapsed": false,
     "input": [
      "check_params(cheb={'c2': 0.00076526398057992387, 'c3': -9.9125845423926094e-05, \n",
      "              'logc0': -0.00023936701511803957, 'c1': -0.00056975049492731197})\n",
      "#should propose 43982.48994094554"
     ],
     "language": "python",
     "metadata": {},
     "outputs": [
      {
       "output_type": "stream",
       "stream": "stderr",
       "text": [
        "DEBUG:Model:evaluating model <StellarSpectra.model.Model object at 0x7f8592857320>\n"
       ]
      },
      {
       "output_type": "stream",
       "stream": "stderr",
       "text": [
        "DEBUG:CovarianceMatrix:evaluating covariance matrix\n"
       ]
      },
      {
       "output_type": "stream",
       "stream": "stderr",
       "text": [
        "DEBUG:CovarianceMatrix:evaluating chi2\n"
       ]
      },
      {
       "metadata": {},
       "output_type": "pyout",
       "prompt_number": 6,
       "text": [
        "67863.952132951032"
       ]
      }
     ],
     "prompt_number": 6
    },
    {
     "cell_type": "code",
     "collapsed": false,
     "input": [
      "check_params(stellar={'logOmega': -19.678465569124569, 'vz': -4.816848652829032, 'vsini': 5.0286195999526999, \n",
      "                      'temp': 6223.9076035410999, 'Z': -0.43595838684011945, 'logg': 4.29},\n",
      "             cheb={'logc0': 0.0, 'c1':0.0, 'c2':0.0, 'c3':0.0})\n",
      "#should return 79651.06641943587"
     ],
     "language": "python",
     "metadata": {},
     "outputs": [
      {
       "output_type": "stream",
       "stream": "stdout",
       "text": [
        "setting downsampled errors\n",
        "  C_CONTIGUOUS : True\n",
        "  F_CONTIGUOUS : False\n",
        "  OWNDATA : True\n",
        "  WRITEABLE : True\n",
        "  ALIGNED : True\n",
        "  UPDATEIFCOPY : False"
       ]
      },
      {
       "output_type": "stream",
       "stream": "stderr",
       "text": [
        "DEBUG:CovarianceMatrix:updating interp errors\n"
       ]
      },
      {
       "output_type": "stream",
       "stream": "stderr",
       "text": [
        "DEBUG:InterpCovarianceMatrix:Updating InterpCovarianceMatrix\n"
       ]
      },
      {
       "output_type": "stream",
       "stream": "stderr",
       "text": [
        "DEBUG:InterpCovarianceMatrix:freeing self.A inside of GCM.update\n"
       ]
      },
      {
       "output_type": "stream",
       "stream": "stderr",
       "text": [
        "DEBUG:InterpCovarianceMatrix:shifting self.A_last to point to self.A\n"
       ]
      },
      {
       "output_type": "stream",
       "stream": "stderr",
       "text": [
        "DEBUG:CovarianceMatrix:updating factorization\n"
       ]
      },
      {
       "output_type": "stream",
       "stream": "stderr",
       "text": [
        "DEBUG:CovarianceMatrix:freeing old A\n"
       ]
      },
      {
       "output_type": "stream",
       "stream": "stderr",
       "text": [
        "DEBUG:CovarianceMatrix:Adding interp_matrix and GCM\n"
       ]
      },
      {
       "output_type": "stream",
       "stream": "stderr",
       "text": [
        "DEBUG:CovarianceMatrix:freeing self.L_last inside of update_factorization\n"
       ]
      },
      {
       "output_type": "stream",
       "stream": "stderr",
       "text": [
        "DEBUG:CovarianceMatrix:shifting self.L_last to point to self.L\n"
       ]
      },
      {
       "output_type": "stream",
       "stream": "stderr",
       "text": [
        "DEBUG:CovarianceMatrix:updating logdet\n"
       ]
      },
      {
       "output_type": "stream",
       "stream": "stderr",
       "text": [
        "DEBUG:Model:evaluating model <StellarSpectra.model.Model object at 0x7f8592857320>\n"
       ]
      },
      {
       "output_type": "stream",
       "stream": "stderr",
       "text": [
        "DEBUG:CovarianceMatrix:evaluating covariance matrix\n"
       ]
      },
      {
       "output_type": "stream",
       "stream": "stderr",
       "text": [
        "DEBUG:CovarianceMatrix:evaluating chi2\n"
       ]
      },
      {
       "output_type": "stream",
       "stream": "stdout",
       "text": [
        "\n"
       ]
      },
      {
       "metadata": {},
       "output_type": "pyout",
       "prompt_number": 7,
       "text": [
        "71763.479642300721"
       ]
      }
     ],
     "prompt_number": 7
    },
    {
     "cell_type": "code",
     "collapsed": false,
     "input": [
      "check_params(cheb={'c2': 0.0012257404722666317, 'c3': 0.0011186129994150238, \n",
      "                   'logc0': -0.00035310087486560538, 'c1': -0.00022552506560758392})\n",
      "#should return 79562.64818777023"
     ],
     "language": "python",
     "metadata": {},
     "outputs": [
      {
       "output_type": "stream",
       "stream": "stderr",
       "text": [
        "DEBUG:Model:evaluating model <StellarSpectra.model.Model object at 0x7f8592857320>\n"
       ]
      },
      {
       "output_type": "stream",
       "stream": "stderr",
       "text": [
        "DEBUG:CovarianceMatrix:evaluating covariance matrix\n"
       ]
      },
      {
       "output_type": "stream",
       "stream": "stderr",
       "text": [
        "DEBUG:CovarianceMatrix:evaluating chi2\n"
       ]
      },
      {
       "metadata": {},
       "output_type": "pyout",
       "prompt_number": 8,
       "text": [
        "71774.072483784432"
       ]
      }
     ],
     "prompt_number": 8
    },
    {
     "cell_type": "code",
     "collapsed": false,
     "input": [
      "check_params(stellar={'logOmega': -19.678923069276777, 'vz': -4.8242316488250374, 'vsini': 5.0265030888767424, \n",
      "                      'temp': 6232.6887840714471, 'Z': -0.43884384422163281, 'logg': 4.29},\n",
      "             cheb={'logc0': 0.0, 'c1':0.0, 'c2':0.0, 'c3':0.0})\n",
      "#should return 74811.31057786425, but be rejected"
     ],
     "language": "python",
     "metadata": {},
     "outputs": [
      {
       "output_type": "stream",
       "stream": "stdout",
       "text": [
        "setting downsampled errors\n",
        "  C_CONTIGUOUS : True\n",
        "  F_CONTIGUOUS : False\n",
        "  OWNDATA : True\n",
        "  WRITEABLE : True\n",
        "  ALIGNED : True\n",
        "  UPDATEIFCOPY : False"
       ]
      },
      {
       "output_type": "stream",
       "stream": "stderr",
       "text": [
        "DEBUG:CovarianceMatrix:updating interp errors\n"
       ]
      },
      {
       "output_type": "stream",
       "stream": "stderr",
       "text": [
        "DEBUG:InterpCovarianceMatrix:Updating InterpCovarianceMatrix\n"
       ]
      },
      {
       "output_type": "stream",
       "stream": "stderr",
       "text": [
        "DEBUG:InterpCovarianceMatrix:freeing self.A inside of GCM.update\n"
       ]
      },
      {
       "output_type": "stream",
       "stream": "stderr",
       "text": [
        "DEBUG:InterpCovarianceMatrix:shifting self.A_last to point to self.A\n"
       ]
      },
      {
       "output_type": "stream",
       "stream": "stderr",
       "text": [
        "DEBUG:CovarianceMatrix:updating factorization\n"
       ]
      },
      {
       "output_type": "stream",
       "stream": "stderr",
       "text": [
        "DEBUG:CovarianceMatrix:freeing old A\n"
       ]
      },
      {
       "output_type": "stream",
       "stream": "stderr",
       "text": [
        "DEBUG:CovarianceMatrix:Adding interp_matrix and GCM\n"
       ]
      },
      {
       "output_type": "stream",
       "stream": "stderr",
       "text": [
        "DEBUG:CovarianceMatrix:freeing self.L_last inside of update_factorization\n"
       ]
      },
      {
       "output_type": "stream",
       "stream": "stderr",
       "text": [
        "DEBUG:CovarianceMatrix:shifting self.L_last to point to self.L\n"
       ]
      },
      {
       "output_type": "stream",
       "stream": "stderr",
       "text": [
        "DEBUG:CovarianceMatrix:updating logdet\n"
       ]
      },
      {
       "output_type": "stream",
       "stream": "stderr",
       "text": [
        "DEBUG:Model:evaluating model <StellarSpectra.model.Model object at 0x7f8592857320>\n"
       ]
      },
      {
       "output_type": "stream",
       "stream": "stderr",
       "text": [
        "DEBUG:CovarianceMatrix:evaluating covariance matrix\n"
       ]
      },
      {
       "output_type": "stream",
       "stream": "stderr",
       "text": [
        "DEBUG:CovarianceMatrix:evaluating chi2\n"
       ]
      },
      {
       "output_type": "stream",
       "stream": "stdout",
       "text": [
        "\n"
       ]
      },
      {
       "metadata": {},
       "output_type": "pyout",
       "prompt_number": 9,
       "text": [
        "70737.24302592942"
       ]
      }
     ],
     "prompt_number": 9
    },
    {
     "cell_type": "code",
     "collapsed": false,
     "input": [
      "check_params(stellar={'logOmega': -19.678465569124569, 'vz': -4.816848652829032, 'vsini': 5.0286195999526999, \n",
      "                      'temp': 6223.9076035410999, 'Z': -0.43595838684011945, 'logg': 4.29},\n",
      "            cheb={'c2': -0.0034898486890816032, 'c3': -0.0006368118565008655, \n",
      "                  'logc0': -0.0014391820851634976, 'c1': 0.0014494930320145102})\n",
      "\n",
      "#should return 79933.38731829943, accepted"
     ],
     "language": "python",
     "metadata": {},
     "outputs": [
      {
       "output_type": "stream",
       "stream": "stderr",
       "text": [
        "DEBUG:CovarianceMatrix:updating interp errors\n"
       ]
      },
      {
       "output_type": "stream",
       "stream": "stderr",
       "text": [
        "DEBUG:InterpCovarianceMatrix:Updating InterpCovarianceMatrix\n"
       ]
      },
      {
       "output_type": "stream",
       "stream": "stderr",
       "text": [
        "DEBUG:InterpCovarianceMatrix:freeing self.A inside of GCM.update\n"
       ]
      },
      {
       "output_type": "stream",
       "stream": "stderr",
       "text": [
        "DEBUG:InterpCovarianceMatrix:shifting self.A_last to point to self.A\n"
       ]
      },
      {
       "output_type": "stream",
       "stream": "stderr",
       "text": [
        "DEBUG:CovarianceMatrix:updating factorization\n"
       ]
      },
      {
       "output_type": "stream",
       "stream": "stderr",
       "text": [
        "DEBUG:CovarianceMatrix:freeing old A\n"
       ]
      },
      {
       "output_type": "stream",
       "stream": "stderr",
       "text": [
        "DEBUG:CovarianceMatrix:Adding interp_matrix and GCM\n"
       ]
      },
      {
       "output_type": "stream",
       "stream": "stderr",
       "text": [
        "DEBUG:CovarianceMatrix:freeing self.L_last inside of update_factorization\n"
       ]
      },
      {
       "output_type": "stream",
       "stream": "stderr",
       "text": [
        "DEBUG:CovarianceMatrix:shifting self.L_last to point to self.L\n"
       ]
      },
      {
       "output_type": "stream",
       "stream": "stderr",
       "text": [
        "DEBUG:CovarianceMatrix:updating logdet\n"
       ]
      },
      {
       "output_type": "stream",
       "stream": "stderr",
       "text": [
        "DEBUG:Model:evaluating model <StellarSpectra.model.Model object at 0x7fc93d1de5f8>\n"
       ]
      },
      {
       "output_type": "stream",
       "stream": "stderr",
       "text": [
        "DEBUG:CovarianceMatrix:evaluating covariance matrix\n"
       ]
      },
      {
       "output_type": "stream",
       "stream": "stderr",
       "text": [
        "DEBUG:CovarianceMatrix:evaluating chi2\n"
       ]
      },
      {
       "output_type": "stream",
       "stream": "stdout",
       "text": [
        "setting downsampled errors\n"
       ]
      },
      {
       "metadata": {},
       "output_type": "pyout",
       "prompt_number": 13,
       "text": [
        "76587.160243542894"
       ]
      }
     ],
     "prompt_number": 13
    },
    {
     "cell_type": "code",
     "collapsed": false,
     "input": [
      "check_params(stellar={'logOmega': -19.678095374023709, 'vz': -4.813870693083885, 'vsini': 5.0215665829995997, \n",
      "                      'temp': 6226.3517114975084, 'Z': -0.42288604239496785, 'logg': 4.29})\n",
      "#should return  73985.46599604236, be rejected"
     ],
     "language": "python",
     "metadata": {},
     "outputs": [
      {
       "output_type": "stream",
       "stream": "stderr",
       "text": [
        "DEBUG:CovarianceMatrix:updating interp errors\n"
       ]
      },
      {
       "output_type": "stream",
       "stream": "stderr",
       "text": [
        "DEBUG:InterpCovarianceMatrix:Updating InterpCovarianceMatrix\n"
       ]
      },
      {
       "output_type": "stream",
       "stream": "stderr",
       "text": [
        "DEBUG:InterpCovarianceMatrix:freeing self.A inside of GCM.update\n"
       ]
      },
      {
       "output_type": "stream",
       "stream": "stderr",
       "text": [
        "DEBUG:InterpCovarianceMatrix:shifting self.A_last to point to self.A\n"
       ]
      },
      {
       "output_type": "stream",
       "stream": "stderr",
       "text": [
        "DEBUG:CovarianceMatrix:updating factorization\n"
       ]
      },
      {
       "output_type": "stream",
       "stream": "stderr",
       "text": [
        "DEBUG:CovarianceMatrix:freeing old A\n"
       ]
      },
      {
       "output_type": "stream",
       "stream": "stderr",
       "text": [
        "DEBUG:CovarianceMatrix:Adding interp_matrix and GCM\n"
       ]
      },
      {
       "output_type": "stream",
       "stream": "stderr",
       "text": [
        "DEBUG:CovarianceMatrix:freeing self.L_last inside of update_factorization\n"
       ]
      },
      {
       "output_type": "stream",
       "stream": "stderr",
       "text": [
        "DEBUG:CovarianceMatrix:shifting self.L_last to point to self.L\n"
       ]
      },
      {
       "output_type": "stream",
       "stream": "stderr",
       "text": [
        "DEBUG:CovarianceMatrix:updating logdet\n"
       ]
      },
      {
       "output_type": "stream",
       "stream": "stderr",
       "text": [
        "DEBUG:Model:evaluating model <StellarSpectra.model.Model object at 0x7ff8eac785f8>\n"
       ]
      },
      {
       "output_type": "stream",
       "stream": "stderr",
       "text": [
        "DEBUG:CovarianceMatrix:evaluating covariance matrix\n"
       ]
      },
      {
       "output_type": "stream",
       "stream": "stderr",
       "text": [
        "DEBUG:CovarianceMatrix:evaluating chi2\n"
       ]
      },
      {
       "output_type": "stream",
       "stream": "stdout",
       "text": [
        "setting downsampled errors\n"
       ]
      },
      {
       "metadata": {},
       "output_type": "pyout",
       "prompt_number": 11,
       "text": [
        "73985.46599604236"
       ]
      }
     ],
     "prompt_number": 11
    },
    {
     "cell_type": "code",
     "collapsed": false,
     "input": [
      "check_params(stellar={'logOmega': -19.678465569124569, 'vz': -4.816848652829032, 'vsini': 5.0286195999526999, \n",
      "                      'temp': 6223.9076035410999, 'Z': -0.43595838684011945, 'logg': 4.29},\n",
      "             cheb={'c2': -0.002939551341987221, 'c3': -0.001057702271255958, \n",
      "                   'logc0': -0.0012818113570059663, 'c1': 0.0002189976532176569})\n",
      "#return 79890.70627401445, be rejected"
     ],
     "language": "python",
     "metadata": {},
     "outputs": [
      {
       "output_type": "stream",
       "stream": "stderr",
       "text": [
        "DEBUG:CovarianceMatrix:updating interp errors\n"
       ]
      },
      {
       "output_type": "stream",
       "stream": "stderr",
       "text": [
        "DEBUG:InterpCovarianceMatrix:Updating InterpCovarianceMatrix\n"
       ]
      },
      {
       "output_type": "stream",
       "stream": "stderr",
       "text": [
        "DEBUG:InterpCovarianceMatrix:freeing self.A inside of GCM.update\n"
       ]
      },
      {
       "output_type": "stream",
       "stream": "stderr",
       "text": [
        "DEBUG:InterpCovarianceMatrix:shifting self.A_last to point to self.A\n"
       ]
      },
      {
       "output_type": "stream",
       "stream": "stderr",
       "text": [
        "DEBUG:CovarianceMatrix:updating factorization\n"
       ]
      },
      {
       "output_type": "stream",
       "stream": "stderr",
       "text": [
        "DEBUG:CovarianceMatrix:freeing old A\n"
       ]
      },
      {
       "output_type": "stream",
       "stream": "stderr",
       "text": [
        "DEBUG:CovarianceMatrix:Adding interp_matrix and GCM\n"
       ]
      },
      {
       "output_type": "stream",
       "stream": "stderr",
       "text": [
        "DEBUG:CovarianceMatrix:freeing self.L_last inside of update_factorization\n"
       ]
      },
      {
       "output_type": "stream",
       "stream": "stderr",
       "text": [
        "DEBUG:CovarianceMatrix:shifting self.L_last to point to self.L\n"
       ]
      },
      {
       "output_type": "stream",
       "stream": "stderr",
       "text": [
        "DEBUG:CovarianceMatrix:updating logdet\n"
       ]
      },
      {
       "output_type": "stream",
       "stream": "stderr",
       "text": [
        "DEBUG:Model:evaluating model <StellarSpectra.model.Model object at 0x7fc93d1de5f8>\n"
       ]
      },
      {
       "output_type": "stream",
       "stream": "stderr",
       "text": [
        "DEBUG:CovarianceMatrix:evaluating covariance matrix\n"
       ]
      },
      {
       "output_type": "stream",
       "stream": "stderr",
       "text": [
        "DEBUG:CovarianceMatrix:evaluating chi2\n"
       ]
      },
      {
       "output_type": "stream",
       "stream": "stdout",
       "text": [
        "setting downsampled errors\n"
       ]
      },
      {
       "metadata": {},
       "output_type": "pyout",
       "prompt_number": 14,
       "text": [
        "76540.233181956224"
       ]
      }
     ],
     "prompt_number": 14
    },
    {
     "cell_type": "code",
     "collapsed": false,
     "input": [
      "check_params(stellar={'logOmega': -19.677726591972071, 'vz': -4.8098486793466035, 'vsini': 5.0500178510019031, \n",
      "                      'temp': 6227.5429056125258, 'Z': -0.43659507895589589, 'logg': 4.29},\n",
      "             cheb={'c2': -0.0034898486890816032, 'c3': -0.0006368118565008655, \n",
      "                  'logc0': -0.0014391820851634976, 'c1': 0.0014494930320145102})\n",
      "#proposed 73907.69590317424, rejected"
     ],
     "language": "python",
     "metadata": {},
     "outputs": [
      {
       "output_type": "stream",
       "stream": "stderr",
       "text": [
        "DEBUG:CovarianceMatrix:updating interp errors\n"
       ]
      },
      {
       "output_type": "stream",
       "stream": "stderr",
       "text": [
        "DEBUG:InterpCovarianceMatrix:Updating InterpCovarianceMatrix\n"
       ]
      },
      {
       "output_type": "stream",
       "stream": "stderr",
       "text": [
        "DEBUG:InterpCovarianceMatrix:freeing self.A inside of GCM.update\n"
       ]
      },
      {
       "output_type": "stream",
       "stream": "stderr",
       "text": [
        "DEBUG:InterpCovarianceMatrix:shifting self.A_last to point to self.A\n"
       ]
      },
      {
       "output_type": "stream",
       "stream": "stderr",
       "text": [
        "DEBUG:CovarianceMatrix:updating factorization\n"
       ]
      },
      {
       "output_type": "stream",
       "stream": "stderr",
       "text": [
        "DEBUG:CovarianceMatrix:freeing old A\n"
       ]
      },
      {
       "output_type": "stream",
       "stream": "stderr",
       "text": [
        "DEBUG:CovarianceMatrix:Adding interp_matrix and GCM\n"
       ]
      },
      {
       "output_type": "stream",
       "stream": "stderr",
       "text": [
        "DEBUG:CovarianceMatrix:freeing self.L_last inside of update_factorization\n"
       ]
      },
      {
       "output_type": "stream",
       "stream": "stderr",
       "text": [
        "DEBUG:CovarianceMatrix:shifting self.L_last to point to self.L\n"
       ]
      },
      {
       "output_type": "stream",
       "stream": "stderr",
       "text": [
        "DEBUG:CovarianceMatrix:updating logdet\n"
       ]
      },
      {
       "output_type": "stream",
       "stream": "stderr",
       "text": [
        "DEBUG:Model:evaluating model <StellarSpectra.model.Model object at 0x7fc93d1de5f8>\n"
       ]
      },
      {
       "output_type": "stream",
       "stream": "stderr",
       "text": [
        "DEBUG:CovarianceMatrix:evaluating covariance matrix\n"
       ]
      },
      {
       "output_type": "stream",
       "stream": "stderr",
       "text": [
        "DEBUG:CovarianceMatrix:evaluating chi2\n"
       ]
      },
      {
       "output_type": "stream",
       "stream": "stdout",
       "text": [
        "setting downsampled errors\n"
       ]
      },
      {
       "metadata": {},
       "output_type": "pyout",
       "prompt_number": 15,
       "text": [
        "81020.691496757368"
       ]
      }
     ],
     "prompt_number": 15
    },
    {
     "cell_type": "code",
     "collapsed": false,
     "input": [
      "check_params(stellar={'logOmega': -19.678465569124569, 'vz': -4.816848652829032, 'vsini': 5.0286195999526999, \n",
      "                      'temp': 6223.9076035410999, 'Z': -0.43595838684011945, 'logg': 4.29},\n",
      "            cheb={'c2': -0.0060476331927181125, 'c3': 0.00067382149836206354, \n",
      "                  'logc0': 0.00065581782576496894, 'c1': 0.0010832104071900159})\n",
      "\n",
      "#returns 80183.54997547447, accepted"
     ],
     "language": "python",
     "metadata": {},
     "outputs": [
      {
       "output_type": "stream",
       "stream": "stderr",
       "text": [
        "DEBUG:CovarianceMatrix:updating interp errors\n"
       ]
      },
      {
       "output_type": "stream",
       "stream": "stderr",
       "text": [
        "DEBUG:InterpCovarianceMatrix:Updating InterpCovarianceMatrix\n"
       ]
      },
      {
       "output_type": "stream",
       "stream": "stderr",
       "text": [
        "DEBUG:InterpCovarianceMatrix:freeing self.A inside of GCM.update\n"
       ]
      },
      {
       "output_type": "stream",
       "stream": "stderr",
       "text": [
        "DEBUG:InterpCovarianceMatrix:shifting self.A_last to point to self.A\n"
       ]
      },
      {
       "output_type": "stream",
       "stream": "stderr",
       "text": [
        "DEBUG:CovarianceMatrix:updating factorization\n"
       ]
      },
      {
       "output_type": "stream",
       "stream": "stderr",
       "text": [
        "DEBUG:CovarianceMatrix:freeing old A\n"
       ]
      },
      {
       "output_type": "stream",
       "stream": "stderr",
       "text": [
        "DEBUG:CovarianceMatrix:Adding interp_matrix and GCM\n"
       ]
      },
      {
       "output_type": "stream",
       "stream": "stderr",
       "text": [
        "DEBUG:CovarianceMatrix:freeing self.L_last inside of update_factorization\n"
       ]
      },
      {
       "output_type": "stream",
       "stream": "stderr",
       "text": [
        "DEBUG:CovarianceMatrix:shifting self.L_last to point to self.L\n"
       ]
      },
      {
       "output_type": "stream",
       "stream": "stderr",
       "text": [
        "DEBUG:CovarianceMatrix:updating logdet\n"
       ]
      },
      {
       "output_type": "stream",
       "stream": "stderr",
       "text": [
        "DEBUG:Model:evaluating model <StellarSpectra.model.Model object at 0x7fc93d1de5f8>\n"
       ]
      },
      {
       "output_type": "stream",
       "stream": "stderr",
       "text": [
        "DEBUG:CovarianceMatrix:evaluating covariance matrix\n"
       ]
      },
      {
       "output_type": "stream",
       "stream": "stderr",
       "text": [
        "DEBUG:CovarianceMatrix:evaluating chi2\n"
       ]
      },
      {
       "output_type": "stream",
       "stream": "stdout",
       "text": [
        "setting downsampled errors\n"
       ]
      },
      {
       "metadata": {},
       "output_type": "pyout",
       "prompt_number": 16,
       "text": [
        "76906.904923376162"
       ]
      }
     ],
     "prompt_number": 16
    },
    {
     "cell_type": "code",
     "collapsed": false,
     "input": [
      "check_params(stellar={'logOmega': -19.678076365298836, 'vz': -4.8169564745632334, 'vsini': 5.0290280275312922, \n",
      "                      'temp': 6224.3850653777281, 'Z': -0.42635787683085752, 'logg': 4.29})\n",
      "\n",
      "#returns 78493.97410538877, rejected"
     ],
     "language": "python",
     "metadata": {},
     "outputs": [
      {
       "output_type": "stream",
       "stream": "stderr",
       "text": [
        "DEBUG:CovarianceMatrix:updating interp errors\n"
       ]
      },
      {
       "output_type": "stream",
       "stream": "stderr",
       "text": [
        "DEBUG:InterpCovarianceMatrix:Updating InterpCovarianceMatrix\n"
       ]
      },
      {
       "output_type": "stream",
       "stream": "stderr",
       "text": [
        "DEBUG:InterpCovarianceMatrix:freeing self.A inside of GCM.update\n"
       ]
      },
      {
       "output_type": "stream",
       "stream": "stderr",
       "text": [
        "DEBUG:InterpCovarianceMatrix:shifting self.A_last to point to self.A\n"
       ]
      },
      {
       "output_type": "stream",
       "stream": "stderr",
       "text": [
        "DEBUG:CovarianceMatrix:updating factorization\n"
       ]
      },
      {
       "output_type": "stream",
       "stream": "stderr",
       "text": [
        "DEBUG:CovarianceMatrix:freeing old A\n"
       ]
      },
      {
       "output_type": "stream",
       "stream": "stderr",
       "text": [
        "DEBUG:CovarianceMatrix:Adding interp_matrix and GCM\n"
       ]
      },
      {
       "output_type": "stream",
       "stream": "stderr",
       "text": [
        "DEBUG:CovarianceMatrix:freeing self.L_last inside of update_factorization\n"
       ]
      },
      {
       "output_type": "stream",
       "stream": "stderr",
       "text": [
        "DEBUG:CovarianceMatrix:shifting self.L_last to point to self.L\n"
       ]
      },
      {
       "output_type": "stream",
       "stream": "stderr",
       "text": [
        "DEBUG:CovarianceMatrix:updating logdet\n"
       ]
      },
      {
       "output_type": "stream",
       "stream": "stderr",
       "text": [
        "DEBUG:Model:evaluating model <StellarSpectra.model.Model object at 0x7fc93d1de5f8>\n"
       ]
      },
      {
       "output_type": "stream",
       "stream": "stderr",
       "text": [
        "DEBUG:CovarianceMatrix:evaluating covariance matrix\n"
       ]
      },
      {
       "output_type": "stream",
       "stream": "stderr",
       "text": [
        "DEBUG:CovarianceMatrix:evaluating chi2\n"
       ]
      },
      {
       "output_type": "stream",
       "stream": "stdout",
       "text": [
        "setting downsampled errors\n"
       ]
      },
      {
       "metadata": {},
       "output_type": "pyout",
       "prompt_number": 17,
       "text": [
        "74851.419859402609"
       ]
      }
     ],
     "prompt_number": 17
    },
    {
     "cell_type": "code",
     "collapsed": false,
     "input": [
      "check_params(stellar={'logOmega': -19.678465569124569, 'vz': -4.816848652829032, 'vsini': 5.0286195999526999, \n",
      "                      'temp': 6223.9076035410999, 'Z': -0.43595838684011945, 'logg': 4.29},\n",
      "             cheb={'c2': -0.0076861801035355863, 'c3': 0.0017820375649157424, \n",
      "                   'logc0': -0.0016747146630732008, 'c1': -0.0031325866243926749})\n",
      "\n",
      "#returns 80369.88667457929, accepted"
     ],
     "language": "python",
     "metadata": {},
     "outputs": [
      {
       "output_type": "stream",
       "stream": "stderr",
       "text": [
        "DEBUG:CovarianceMatrix:updating interp errors\n"
       ]
      },
      {
       "output_type": "stream",
       "stream": "stderr",
       "text": [
        "DEBUG:InterpCovarianceMatrix:Updating InterpCovarianceMatrix\n"
       ]
      },
      {
       "output_type": "stream",
       "stream": "stderr",
       "text": [
        "DEBUG:InterpCovarianceMatrix:freeing self.A inside of GCM.update\n"
       ]
      },
      {
       "output_type": "stream",
       "stream": "stderr",
       "text": [
        "DEBUG:InterpCovarianceMatrix:shifting self.A_last to point to self.A\n"
       ]
      },
      {
       "output_type": "stream",
       "stream": "stderr",
       "text": [
        "DEBUG:CovarianceMatrix:updating factorization\n"
       ]
      },
      {
       "output_type": "stream",
       "stream": "stderr",
       "text": [
        "DEBUG:CovarianceMatrix:freeing old A\n"
       ]
      },
      {
       "output_type": "stream",
       "stream": "stderr",
       "text": [
        "DEBUG:CovarianceMatrix:Adding interp_matrix and GCM\n"
       ]
      },
      {
       "output_type": "stream",
       "stream": "stderr",
       "text": [
        "DEBUG:CovarianceMatrix:freeing self.L_last inside of update_factorization\n"
       ]
      },
      {
       "output_type": "stream",
       "stream": "stderr",
       "text": [
        "DEBUG:CovarianceMatrix:shifting self.L_last to point to self.L\n"
       ]
      },
      {
       "output_type": "stream",
       "stream": "stderr",
       "text": [
        "DEBUG:CovarianceMatrix:updating logdet\n"
       ]
      },
      {
       "output_type": "stream",
       "stream": "stderr",
       "text": [
        "DEBUG:Model:evaluating model <StellarSpectra.model.Model object at 0x7fc93d1de5f8>\n"
       ]
      },
      {
       "output_type": "stream",
       "stream": "stderr",
       "text": [
        "DEBUG:CovarianceMatrix:evaluating covariance matrix\n"
       ]
      },
      {
       "output_type": "stream",
       "stream": "stderr",
       "text": [
        "DEBUG:CovarianceMatrix:evaluating chi2\n"
       ]
      },
      {
       "output_type": "stream",
       "stream": "stdout",
       "text": [
        "setting downsampled errors\n"
       ]
      },
      {
       "metadata": {},
       "output_type": "pyout",
       "prompt_number": 18,
       "text": [
        "77179.31984612142"
       ]
      }
     ],
     "prompt_number": 18
    },
    {
     "cell_type": "code",
     "collapsed": false,
     "input": [
      "check_params(stellar={'logOmega': -19.679076155131803, 'vz': -4.815942191270242, 'vsini': 5.0425692950772776, \n",
      "                      'temp': 6221.1828111284967, 'Z': -0.43369913389820619, 'logg': 4.29})\n",
      "#returns 75419.20986198299, rejected"
     ],
     "language": "python",
     "metadata": {},
     "outputs": [
      {
       "output_type": "stream",
       "stream": "stderr",
       "text": [
        "DEBUG:CovarianceMatrix:updating interp errors\n"
       ]
      },
      {
       "output_type": "stream",
       "stream": "stderr",
       "text": [
        "DEBUG:InterpCovarianceMatrix:Updating InterpCovarianceMatrix\n"
       ]
      },
      {
       "output_type": "stream",
       "stream": "stderr",
       "text": [
        "DEBUG:InterpCovarianceMatrix:freeing self.A inside of GCM.update\n"
       ]
      },
      {
       "output_type": "stream",
       "stream": "stderr",
       "text": [
        "DEBUG:InterpCovarianceMatrix:shifting self.A_last to point to self.A\n"
       ]
      },
      {
       "output_type": "stream",
       "stream": "stderr",
       "text": [
        "DEBUG:CovarianceMatrix:updating factorization\n"
       ]
      },
      {
       "output_type": "stream",
       "stream": "stderr",
       "text": [
        "DEBUG:CovarianceMatrix:freeing old A\n"
       ]
      },
      {
       "output_type": "stream",
       "stream": "stderr",
       "text": [
        "DEBUG:CovarianceMatrix:Adding interp_matrix and GCM\n"
       ]
      },
      {
       "output_type": "stream",
       "stream": "stderr",
       "text": [
        "DEBUG:CovarianceMatrix:freeing self.L_last inside of update_factorization\n"
       ]
      },
      {
       "output_type": "stream",
       "stream": "stderr",
       "text": [
        "DEBUG:CovarianceMatrix:shifting self.L_last to point to self.L\n"
       ]
      },
      {
       "output_type": "stream",
       "stream": "stderr",
       "text": [
        "DEBUG:CovarianceMatrix:updating logdet\n"
       ]
      },
      {
       "output_type": "stream",
       "stream": "stderr",
       "text": [
        "DEBUG:Model:evaluating model <StellarSpectra.model.Model object at 0x7fc93d1de5f8>\n"
       ]
      },
      {
       "output_type": "stream",
       "stream": "stderr",
       "text": [
        "DEBUG:CovarianceMatrix:evaluating covariance matrix\n"
       ]
      },
      {
       "output_type": "stream",
       "stream": "stderr",
       "text": [
        "DEBUG:CovarianceMatrix:evaluating chi2\n"
       ]
      },
      {
       "output_type": "stream",
       "stream": "stdout",
       "text": [
        "setting downsampled errors\n"
       ]
      },
      {
       "metadata": {},
       "output_type": "pyout",
       "prompt_number": 19,
       "text": [
        "83981.812664216879"
       ]
      }
     ],
     "prompt_number": 19
    },
    {
     "cell_type": "code",
     "collapsed": false,
     "input": [
      "check_params(stellar={'logOmega': -19.678465569124569, 'vz': -4.816848652829032, 'vsini': 5.0286195999526999, \n",
      "                      'temp': 6223.9076035410999, 'Z': -0.43595838684011945, 'logg': 4.29},\n",
      "             cheb={'c2': -0.0063802626360022086, 'c3': 0.0043592228532286642, \n",
      "                   'logc0': -0.0057616922149867616, 'c1': -0.0032583424198346631})\n",
      "\n",
      "#returns 80303.707415797, rejected"
     ],
     "language": "python",
     "metadata": {},
     "outputs": [
      {
       "output_type": "stream",
       "stream": "stderr",
       "text": [
        "DEBUG:CovarianceMatrix:updating interp errors\n"
       ]
      },
      {
       "output_type": "stream",
       "stream": "stderr",
       "text": [
        "DEBUG:InterpCovarianceMatrix:Updating InterpCovarianceMatrix\n"
       ]
      },
      {
       "output_type": "stream",
       "stream": "stderr",
       "text": [
        "DEBUG:InterpCovarianceMatrix:freeing self.A inside of GCM.update\n"
       ]
      },
      {
       "output_type": "stream",
       "stream": "stderr",
       "text": [
        "DEBUG:InterpCovarianceMatrix:shifting self.A_last to point to self.A\n"
       ]
      },
      {
       "output_type": "stream",
       "stream": "stderr",
       "text": [
        "DEBUG:CovarianceMatrix:updating factorization\n"
       ]
      },
      {
       "output_type": "stream",
       "stream": "stderr",
       "text": [
        "DEBUG:CovarianceMatrix:freeing old A\n"
       ]
      },
      {
       "output_type": "stream",
       "stream": "stderr",
       "text": [
        "DEBUG:CovarianceMatrix:Adding interp_matrix and GCM\n"
       ]
      },
      {
       "output_type": "stream",
       "stream": "stderr",
       "text": [
        "DEBUG:CovarianceMatrix:freeing self.L_last inside of update_factorization\n"
       ]
      },
      {
       "output_type": "stream",
       "stream": "stderr",
       "text": [
        "DEBUG:CovarianceMatrix:shifting self.L_last to point to self.L\n"
       ]
      },
      {
       "output_type": "stream",
       "stream": "stderr",
       "text": [
        "DEBUG:CovarianceMatrix:updating logdet\n"
       ]
      },
      {
       "output_type": "stream",
       "stream": "stderr",
       "text": [
        "DEBUG:Model:evaluating model <StellarSpectra.model.Model object at 0x7fc93d1de5f8>\n"
       ]
      },
      {
       "output_type": "stream",
       "stream": "stderr",
       "text": [
        "DEBUG:CovarianceMatrix:evaluating covariance matrix\n"
       ]
      },
      {
       "output_type": "stream",
       "stream": "stderr",
       "text": [
        "DEBUG:CovarianceMatrix:evaluating chi2\n"
       ]
      },
      {
       "output_type": "stream",
       "stream": "stdout",
       "text": [
        "setting downsampled errors\n"
       ]
      },
      {
       "metadata": {},
       "output_type": "pyout",
       "prompt_number": 20,
       "text": [
        "77128.301736356763"
       ]
      }
     ],
     "prompt_number": 20
    },
    {
     "cell_type": "code",
     "collapsed": false,
     "input": [
      "check_params(stellar={'logOmega': -19.678105301324756, 'vz': -4.8211700878056849, 'vsini': 5.0053751114698057, \n",
      "             'temp': 6223.7981288493893, 'Z': -0.42869343208593241, 'logg': 4.29},\n",
      "             cheb={'c2': -0.0076861801035355863, 'c3': 0.0017820375649157424, \n",
      "                   'logc0': -0.0016747146630732008, 'c1': -0.0031325866243926749})\n",
      "#returns 55811.96629094411, rejected"
     ],
     "language": "python",
     "metadata": {},
     "outputs": [
      {
       "output_type": "stream",
       "stream": "stderr",
       "text": [
        "DEBUG:CovarianceMatrix:updating interp errors\n"
       ]
      },
      {
       "output_type": "stream",
       "stream": "stderr",
       "text": [
        "DEBUG:InterpCovarianceMatrix:Updating InterpCovarianceMatrix\n"
       ]
      },
      {
       "output_type": "stream",
       "stream": "stderr",
       "text": [
        "DEBUG:InterpCovarianceMatrix:freeing self.A inside of GCM.update\n"
       ]
      },
      {
       "output_type": "stream",
       "stream": "stderr",
       "text": [
        "DEBUG:InterpCovarianceMatrix:shifting self.A_last to point to self.A\n"
       ]
      },
      {
       "output_type": "stream",
       "stream": "stderr",
       "text": [
        "DEBUG:CovarianceMatrix:updating factorization\n"
       ]
      },
      {
       "output_type": "stream",
       "stream": "stderr",
       "text": [
        "DEBUG:CovarianceMatrix:freeing old A\n"
       ]
      },
      {
       "output_type": "stream",
       "stream": "stderr",
       "text": [
        "DEBUG:CovarianceMatrix:Adding interp_matrix and GCM\n"
       ]
      },
      {
       "output_type": "stream",
       "stream": "stderr",
       "text": [
        "DEBUG:CovarianceMatrix:freeing self.L_last inside of update_factorization\n"
       ]
      },
      {
       "output_type": "stream",
       "stream": "stderr",
       "text": [
        "DEBUG:CovarianceMatrix:shifting self.L_last to point to self.L\n"
       ]
      },
      {
       "output_type": "stream",
       "stream": "stderr",
       "text": [
        "DEBUG:CovarianceMatrix:updating logdet\n"
       ]
      },
      {
       "output_type": "stream",
       "stream": "stderr",
       "text": [
        "DEBUG:Model:evaluating model <StellarSpectra.model.Model object at 0x7fc93d1de5f8>\n"
       ]
      },
      {
       "output_type": "stream",
       "stream": "stderr",
       "text": [
        "DEBUG:CovarianceMatrix:evaluating covariance matrix\n"
       ]
      },
      {
       "output_type": "stream",
       "stream": "stderr",
       "text": [
        "DEBUG:CovarianceMatrix:evaluating chi2\n"
       ]
      },
      {
       "output_type": "stream",
       "stream": "stdout",
       "text": [
        "setting downsampled errors\n"
       ]
      },
      {
       "metadata": {},
       "output_type": "pyout",
       "prompt_number": 21,
       "text": [
        "61755.372894860033"
       ]
      }
     ],
     "prompt_number": 21
    },
    {
     "cell_type": "code",
     "collapsed": false,
     "input": [
      "check_params(stellar={'logOmega': -19.678465569124569, 'vz': -4.816848652829032, 'vsini': 5.0286195999526999, \n",
      "                      'temp': 6223.9076035410999, 'Z': -0.43595838684011945, 'logg': 4.29},\n",
      "             cheb={'c2': -0.0065260997034931002, 'c3': -0.001501863348204349, \n",
      "                  'logc0': -0.0013584746575760632, 'c1': -0.00014266674497360847})\n",
      "\n",
      "#returns 80187.60766067018, rejected"
     ],
     "language": "python",
     "metadata": {},
     "outputs": [
      {
       "output_type": "stream",
       "stream": "stderr",
       "text": [
        "DEBUG:CovarianceMatrix:updating interp errors\n"
       ]
      },
      {
       "output_type": "stream",
       "stream": "stderr",
       "text": [
        "DEBUG:InterpCovarianceMatrix:Updating InterpCovarianceMatrix\n"
       ]
      },
      {
       "output_type": "stream",
       "stream": "stderr",
       "text": [
        "DEBUG:InterpCovarianceMatrix:freeing self.A inside of GCM.update\n"
       ]
      },
      {
       "output_type": "stream",
       "stream": "stderr",
       "text": [
        "DEBUG:InterpCovarianceMatrix:shifting self.A_last to point to self.A\n"
       ]
      },
      {
       "output_type": "stream",
       "stream": "stderr",
       "text": [
        "DEBUG:CovarianceMatrix:updating factorization\n"
       ]
      },
      {
       "output_type": "stream",
       "stream": "stderr",
       "text": [
        "DEBUG:CovarianceMatrix:freeing old A\n"
       ]
      },
      {
       "output_type": "stream",
       "stream": "stderr",
       "text": [
        "DEBUG:CovarianceMatrix:Adding interp_matrix and GCM\n"
       ]
      },
      {
       "output_type": "stream",
       "stream": "stderr",
       "text": [
        "DEBUG:CovarianceMatrix:freeing self.L_last inside of update_factorization\n"
       ]
      },
      {
       "output_type": "stream",
       "stream": "stderr",
       "text": [
        "DEBUG:CovarianceMatrix:shifting self.L_last to point to self.L\n"
       ]
      },
      {
       "output_type": "stream",
       "stream": "stderr",
       "text": [
        "DEBUG:CovarianceMatrix:updating logdet\n"
       ]
      },
      {
       "output_type": "stream",
       "stream": "stderr",
       "text": [
        "DEBUG:Model:evaluating model <StellarSpectra.model.Model object at 0x7fc93d1de5f8>\n"
       ]
      },
      {
       "output_type": "stream",
       "stream": "stderr",
       "text": [
        "DEBUG:CovarianceMatrix:evaluating covariance matrix\n"
       ]
      },
      {
       "output_type": "stream",
       "stream": "stderr",
       "text": [
        "DEBUG:CovarianceMatrix:evaluating chi2\n"
       ]
      },
      {
       "output_type": "stream",
       "stream": "stdout",
       "text": [
        "setting downsampled errors\n"
       ]
      },
      {
       "metadata": {},
       "output_type": "pyout",
       "prompt_number": 22,
       "text": [
        "76908.135148536443"
       ]
      }
     ],
     "prompt_number": 22
    },
    {
     "cell_type": "code",
     "collapsed": false,
     "input": [
      "check_params(stellar={'logOmega': -19.679353190084409, 'vz': -4.8174226281996502, 'vsini': 5.0238007440692565, \n",
      "                      'temp': 6217.9262080877879, 'Z': -0.43818023587762683, 'logg': 4.29},\n",
      "             cheb={'c2': -0.0076861801035355863, 'c3': 0.0017820375649157424, \n",
      "                   'logc0': -0.0016747146630732008, 'c1': -0.0031325866243926749})\n",
      "#returns 59234.44330935111, rejected"
     ],
     "language": "python",
     "metadata": {},
     "outputs": [
      {
       "output_type": "stream",
       "stream": "stderr",
       "text": [
        "DEBUG:CovarianceMatrix:updating interp errors\n"
       ]
      },
      {
       "output_type": "stream",
       "stream": "stderr",
       "text": [
        "DEBUG:InterpCovarianceMatrix:Updating InterpCovarianceMatrix\n"
       ]
      },
      {
       "output_type": "stream",
       "stream": "stderr",
       "text": [
        "DEBUG:InterpCovarianceMatrix:freeing self.A inside of GCM.update\n"
       ]
      },
      {
       "output_type": "stream",
       "stream": "stderr",
       "text": [
        "DEBUG:InterpCovarianceMatrix:shifting self.A_last to point to self.A\n"
       ]
      },
      {
       "output_type": "stream",
       "stream": "stderr",
       "text": [
        "DEBUG:CovarianceMatrix:updating factorization\n"
       ]
      },
      {
       "output_type": "stream",
       "stream": "stderr",
       "text": [
        "DEBUG:CovarianceMatrix:freeing old A\n"
       ]
      },
      {
       "output_type": "stream",
       "stream": "stderr",
       "text": [
        "DEBUG:CovarianceMatrix:Adding interp_matrix and GCM\n"
       ]
      },
      {
       "output_type": "stream",
       "stream": "stderr",
       "text": [
        "DEBUG:CovarianceMatrix:freeing self.L_last inside of update_factorization\n"
       ]
      },
      {
       "output_type": "stream",
       "stream": "stderr",
       "text": [
        "DEBUG:CovarianceMatrix:shifting self.L_last to point to self.L\n"
       ]
      },
      {
       "output_type": "stream",
       "stream": "stderr",
       "text": [
        "DEBUG:CovarianceMatrix:updating logdet\n"
       ]
      },
      {
       "output_type": "stream",
       "stream": "stderr",
       "text": [
        "DEBUG:Model:evaluating model <StellarSpectra.model.Model object at 0x7fc93d1de5f8>\n"
       ]
      },
      {
       "output_type": "stream",
       "stream": "stderr",
       "text": [
        "DEBUG:CovarianceMatrix:evaluating covariance matrix\n"
       ]
      },
      {
       "output_type": "stream",
       "stream": "stderr",
       "text": [
        "DEBUG:CovarianceMatrix:evaluating chi2\n"
       ]
      },
      {
       "output_type": "stream",
       "stream": "stdout",
       "text": [
        "setting downsampled errors\n"
       ]
      },
      {
       "metadata": {},
       "output_type": "pyout",
       "prompt_number": 23,
       "text": [
        "69694.027380108528"
       ]
      }
     ],
     "prompt_number": 23
    },
    {
     "cell_type": "code",
     "collapsed": false,
     "input": [
      "check_params(stellar={'logOmega': -19.678465569124569, 'vz': -4.816848652829032, 'vsini': 5.0286195999526999, \n",
      "                      'temp': 6223.9076035410999, 'Z': -0.43595838684011945, 'logg': 4.29},\n",
      "             cheb={'c2': -0.0064091129646019268, 'c3': 0.0020283778723995918, \n",
      "                   'logc0': 0.00054894145309940072, 'c1': -0.0036326415540494945})\n",
      "#returns 80278.08395259677, rejected"
     ],
     "language": "python",
     "metadata": {},
     "outputs": [
      {
       "output_type": "stream",
       "stream": "stderr",
       "text": [
        "DEBUG:CovarianceMatrix:updating interp errors\n"
       ]
      },
      {
       "output_type": "stream",
       "stream": "stderr",
       "text": [
        "DEBUG:InterpCovarianceMatrix:Updating InterpCovarianceMatrix\n"
       ]
      },
      {
       "output_type": "stream",
       "stream": "stderr",
       "text": [
        "DEBUG:InterpCovarianceMatrix:freeing self.A inside of GCM.update\n"
       ]
      },
      {
       "output_type": "stream",
       "stream": "stderr",
       "text": [
        "DEBUG:InterpCovarianceMatrix:shifting self.A_last to point to self.A\n"
       ]
      },
      {
       "output_type": "stream",
       "stream": "stderr",
       "text": [
        "DEBUG:CovarianceMatrix:updating factorization\n"
       ]
      },
      {
       "output_type": "stream",
       "stream": "stderr",
       "text": [
        "DEBUG:CovarianceMatrix:freeing old A\n"
       ]
      },
      {
       "output_type": "stream",
       "stream": "stderr",
       "text": [
        "DEBUG:CovarianceMatrix:Adding interp_matrix and GCM\n"
       ]
      },
      {
       "output_type": "stream",
       "stream": "stderr",
       "text": [
        "DEBUG:CovarianceMatrix:freeing self.L_last inside of update_factorization\n"
       ]
      },
      {
       "output_type": "stream",
       "stream": "stderr",
       "text": [
        "DEBUG:CovarianceMatrix:shifting self.L_last to point to self.L\n"
       ]
      },
      {
       "output_type": "stream",
       "stream": "stderr",
       "text": [
        "DEBUG:CovarianceMatrix:updating logdet\n"
       ]
      },
      {
       "output_type": "stream",
       "stream": "stderr",
       "text": [
        "DEBUG:Model:evaluating model <StellarSpectra.model.Model object at 0x7fc93d1de5f8>\n"
       ]
      },
      {
       "output_type": "stream",
       "stream": "stderr",
       "text": [
        "DEBUG:CovarianceMatrix:evaluating covariance matrix\n"
       ]
      },
      {
       "output_type": "stream",
       "stream": "stderr",
       "text": [
        "DEBUG:CovarianceMatrix:evaluating chi2\n"
       ]
      },
      {
       "output_type": "stream",
       "stream": "stdout",
       "text": [
        "setting downsampled errors\n"
       ]
      },
      {
       "metadata": {},
       "output_type": "pyout",
       "prompt_number": 24,
       "text": [
        "77076.330264668111"
       ]
      }
     ],
     "prompt_number": 24
    },
    {
     "cell_type": "code",
     "collapsed": false,
     "input": [
      "check_params(stellar={'logOmega': -19.678898799226225, 'vz': -4.8100275635706549, 'vsini': 5.0293571538082578, \n",
      "                      'temp': 6226.1220982136092, 'Z': -0.4302809540599582, 'logg': 4.29},\n",
      "             cheb={'c2': -0.0076861801035355863, 'c3': 0.0017820375649157424, \n",
      "                   'logc0': -0.0016747146630732008, 'c1': -0.0031325866243926749})\n",
      "#proposed 74357.4533685644, rejected"
     ],
     "language": "python",
     "metadata": {},
     "outputs": [
      {
       "output_type": "stream",
       "stream": "stderr",
       "text": [
        "DEBUG:CovarianceMatrix:updating interp errors\n"
       ]
      },
      {
       "output_type": "stream",
       "stream": "stderr",
       "text": [
        "DEBUG:InterpCovarianceMatrix:Updating InterpCovarianceMatrix\n"
       ]
      },
      {
       "output_type": "stream",
       "stream": "stderr",
       "text": [
        "DEBUG:InterpCovarianceMatrix:freeing self.A inside of GCM.update\n"
       ]
      },
      {
       "output_type": "stream",
       "stream": "stderr",
       "text": [
        "DEBUG:InterpCovarianceMatrix:shifting self.A_last to point to self.A\n"
       ]
      },
      {
       "output_type": "stream",
       "stream": "stderr",
       "text": [
        "DEBUG:CovarianceMatrix:updating factorization\n"
       ]
      },
      {
       "output_type": "stream",
       "stream": "stderr",
       "text": [
        "DEBUG:CovarianceMatrix:freeing old A\n"
       ]
      },
      {
       "output_type": "stream",
       "stream": "stderr",
       "text": [
        "DEBUG:CovarianceMatrix:Adding interp_matrix and GCM\n"
       ]
      },
      {
       "output_type": "stream",
       "stream": "stderr",
       "text": [
        "DEBUG:CovarianceMatrix:freeing self.L_last inside of update_factorization\n"
       ]
      },
      {
       "output_type": "stream",
       "stream": "stderr",
       "text": [
        "DEBUG:CovarianceMatrix:shifting self.L_last to point to self.L\n"
       ]
      },
      {
       "output_type": "stream",
       "stream": "stderr",
       "text": [
        "DEBUG:CovarianceMatrix:updating logdet\n"
       ]
      },
      {
       "output_type": "stream",
       "stream": "stderr",
       "text": [
        "DEBUG:Model:evaluating model <StellarSpectra.model.Model object at 0x7fc93d1de5f8>\n"
       ]
      },
      {
       "output_type": "stream",
       "stream": "stderr",
       "text": [
        "DEBUG:CovarianceMatrix:evaluating covariance matrix\n"
       ]
      },
      {
       "output_type": "stream",
       "stream": "stderr",
       "text": [
        "DEBUG:CovarianceMatrix:evaluating chi2\n"
       ]
      },
      {
       "output_type": "stream",
       "stream": "stdout",
       "text": [
        "setting downsampled errors\n"
       ]
      },
      {
       "metadata": {},
       "output_type": "pyout",
       "prompt_number": 25,
       "text": [
        "88010.532992255961"
       ]
      }
     ],
     "prompt_number": 25
    },
    {
     "cell_type": "markdown",
     "metadata": {},
     "source": [
      "Last stellar parameters accepted"
     ]
    },
    {
     "cell_type": "code",
     "collapsed": false,
     "input": [
      "check_params(stellar={'logOmega': -19.678468645296945, 'vz': -4.8296969715201277, 'vsini': 5.0328251778745861, \n",
      " 'temp': 6216.801923979292, 'Z': -0.4308532917161787, 'logg': 4.29},\n",
      "             cheb={'c2': -0.17241273464339671, 'c3': -0.09675253761386407, \n",
      "                   'logc0': 0.038710924294486811, 'c1': 0.36284068825950294})\n",
      "#returns 7632274.540665773"
     ],
     "language": "python",
     "metadata": {},
     "outputs": [
      {
       "output_type": "stream",
       "stream": "stderr",
       "text": [
        "DEBUG:CovarianceMatrix:updating interp errors\n"
       ]
      },
      {
       "output_type": "stream",
       "stream": "stderr",
       "text": [
        "DEBUG:InterpCovarianceMatrix:Updating InterpCovarianceMatrix\n"
       ]
      },
      {
       "output_type": "stream",
       "stream": "stderr",
       "text": [
        "DEBUG:InterpCovarianceMatrix:freeing self.A inside of GCM.update\n"
       ]
      },
      {
       "output_type": "stream",
       "stream": "stderr",
       "text": [
        "DEBUG:InterpCovarianceMatrix:shifting self.A_last to point to self.A\n"
       ]
      },
      {
       "output_type": "stream",
       "stream": "stderr",
       "text": [
        "DEBUG:CovarianceMatrix:updating factorization\n"
       ]
      },
      {
       "output_type": "stream",
       "stream": "stderr",
       "text": [
        "DEBUG:CovarianceMatrix:freeing old A\n"
       ]
      },
      {
       "output_type": "stream",
       "stream": "stderr",
       "text": [
        "DEBUG:CovarianceMatrix:Adding interp_matrix and GCM\n"
       ]
      },
      {
       "output_type": "stream",
       "stream": "stderr",
       "text": [
        "DEBUG:CovarianceMatrix:freeing self.L_last inside of update_factorization\n"
       ]
      },
      {
       "output_type": "stream",
       "stream": "stderr",
       "text": [
        "DEBUG:CovarianceMatrix:shifting self.L_last to point to self.L\n"
       ]
      },
      {
       "output_type": "stream",
       "stream": "stderr",
       "text": [
        "DEBUG:CovarianceMatrix:updating logdet\n"
       ]
      },
      {
       "output_type": "stream",
       "stream": "stderr",
       "text": [
        "DEBUG:Model:evaluating model <StellarSpectra.model.Model object at 0x7ff8eac785f8>\n"
       ]
      },
      {
       "output_type": "stream",
       "stream": "stderr",
       "text": [
        "DEBUG:CovarianceMatrix:evaluating covariance matrix\n"
       ]
      },
      {
       "output_type": "stream",
       "stream": "stderr",
       "text": [
        "DEBUG:CovarianceMatrix:evaluating chi2\n"
       ]
      },
      {
       "output_type": "stream",
       "stream": "stdout",
       "text": [
        "setting downsampled errors\n"
       ]
      },
      {
       "metadata": {},
       "output_type": "pyout",
       "prompt_number": 26,
       "text": [
        "7632274.5406657727"
       ]
      }
     ],
     "prompt_number": 26
    },
    {
     "cell_type": "code",
     "collapsed": false,
     "input": [],
     "language": "python",
     "metadata": {},
     "outputs": []
    }
   ],
   "metadata": {}
  }
 ]
}