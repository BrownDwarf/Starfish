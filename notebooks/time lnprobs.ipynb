{
 "metadata": {
  "name": ""
 },
 "nbformat": 3,
 "nbformat_minor": 0,
 "worksheets": [
  {
   "cells": [
    {
     "cell_type": "code",
     "collapsed": false,
     "input": [
      "from StellarSpectra.model import Model, SamplerModelCheb\n",
      "from StellarSpectra.spectrum import DataSpectrum\n",
      "from StellarSpectra.grid_tools import TRES, HDF5Interface, InterpolationError\n",
      "import numpy as np\n",
      "\n",
      "myDataSpectrum = DataSpectrum.open(\"/home/ian/Grad/Research/Disks/StellarSpectra/tests/WASP14/WASP-14_2009-06-15_04h13m57s_cb.spec.flux\", orders=np.array([21,22,23]))\n",
      "myInstrument = TRES()\n",
      "myHDF5Interface = HDF5Interface(\"/home/ian/Grad/Research/Disks/StellarSpectra/libraries/PHOENIX_submaster.hdf5\")\n",
      "\n",
      "myModel = Model(myDataSpectrum, myInstrument, myHDF5Interface, (\"temp\", \"logg\", \"Z\", \"alpha\", \"vsini\", \"vz\", \"Av\", \"Omega\"))"
     ],
     "language": "python",
     "metadata": {},
     "outputs": [],
     "prompt_number": 1
    },
    {
     "cell_type": "code",
     "collapsed": false,
     "input": [
      "def lnprob_Model(p):\n",
      "    params = myModel.zip_stellar_p(p)\n",
      "    try:\n",
      "        myModel.update_Model(params)\n",
      "        return myModel.evaluate()\n",
      "    except InterpolationError:\n",
      "        return -np.inf"
     ],
     "language": "python",
     "metadata": {},
     "outputs": [],
     "prompt_number": 2
    },
    {
     "cell_type": "code",
     "collapsed": false,
     "input": [
      "timeit lnprob_Model(np.array([  6778. ,  4.13 , -0.2, 0.08,  6.754 ,  13  , 0.07, 2.88002749e-20]))"
     ],
     "language": "python",
     "metadata": {},
     "outputs": [
      {
       "output_type": "stream",
       "stream": "stdout",
       "text": [
        "10 loops, best of 3: 138 ms per loop\n"
       ]
      }
     ],
     "prompt_number": 5
    },
    {
     "cell_type": "code",
     "collapsed": false,
     "input": [],
     "language": "python",
     "metadata": {},
     "outputs": []
    }
   ],
   "metadata": {}
  }
 ]
}