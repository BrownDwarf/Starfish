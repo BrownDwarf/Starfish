{
 "metadata": {
  "name": "",
  "signature": "sha256:2ae3bac15cc325c0d05297528b395d26d8051ed0cf22dd2e3895772904e26b27"
 },
 "nbformat": 3,
 "nbformat_minor": 0,
 "worksheets": [
  {
   "cells": [
    {
     "cell_type": "markdown",
     "metadata": {},
     "source": [
      "Visualize a Gaussian"
     ]
    },
    {
     "cell_type": "code",
     "collapsed": false,
     "input": [
      "%matplotlib\n",
      "import matplotlib.pyplot as plt\n",
      "import numpy as np\n",
      "from IPython.html import widgets # Widget definitions\n",
      "from IPython.display import display, clear_output, HTML # Used to display widgets in the notebook\n",
      "from IPython.html.widgets import interact, interactive, fixed"
     ],
     "language": "python",
     "metadata": {},
     "outputs": [
      {
       "output_type": "stream",
       "stream": "stdout",
       "text": [
        "Using matplotlib backend: Qt4Agg\n"
       ]
      }
     ],
     "prompt_number": 1
    },
    {
     "cell_type": "code",
     "collapsed": false,
     "input": [
      "xs = np.linspace(-10, 10, num=300)\n",
      "def gaussian(a, mu, sigma):\n",
      "    #return a/(np.sqrt(2. * np.pi) * sigma) * np.exp(-0.5 * (xs-mu)**2/sigma**2)\n",
      "    return a * np.exp(-0.5 * (xs-mu)**2/sigma**2)"
     ],
     "language": "python",
     "metadata": {},
     "outputs": [],
     "prompt_number": 6
    },
    {
     "cell_type": "code",
     "collapsed": false,
     "input": [
      "fig = plt.figure()\n",
      "ax = fig.add_subplot(111)\n",
      "ys = gaussian(1, 0, 1)\n",
      "l, = ax.plot(xs, ys)\n",
      "plt.show()"
     ],
     "language": "python",
     "metadata": {},
     "outputs": [],
     "prompt_number": 7
    },
    {
     "cell_type": "code",
     "collapsed": false,
     "input": [
      "def update_plot(**kwargs):\n",
      "    '''Take the kwargs, update the plot'''\n",
      "    ys = gaussian(**kwargs)\n",
      "    l.set_ydata(ys)\n",
      "    #Find ymax and ymin and rescale\n",
      "    ax.set_ylim(np.min(ys),  np.max(ys))\n",
      "        \n",
      "    #Redraw the plot\n",
      "    fig.canvas.draw_idle()"
     ],
     "language": "python",
     "metadata": {},
     "outputs": [],
     "prompt_number": 4
    },
    {
     "cell_type": "code",
     "collapsed": false,
     "input": [
      "i = interact(update_plot,\n",
      "         a=(0.1, 5, 0.1),\n",
      "         mu=(-0.2, 0.2, 0.01),\n",
      "         sigma=(0.1, 5, 0.1),\n",
      "         )"
     ],
     "language": "python",
     "metadata": {},
     "outputs": [
      {
       "output_type": "stream",
       "stream": "stdout",
       "text": [
        "\r"
       ]
      },
      {
       "output_type": "stream",
       "stream": "stderr",
       "text": [
        "\r"
       ]
      }
     ],
     "prompt_number": 5
    },
    {
     "cell_type": "code",
     "collapsed": false,
     "input": [],
     "language": "python",
     "metadata": {},
     "outputs": []
    }
   ],
   "metadata": {}
  }
 ]
}