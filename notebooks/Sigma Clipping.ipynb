{
 "metadata": {
  "name": "",
  "signature": "sha256:9ab7a78ff7454aa0135f84410aa140374fa74cdc28eed7150e50a4bc1e085213"
 },
 "nbformat": 3,
 "nbformat_minor": 0,
 "worksheets": [
  {
   "cells": [
    {
     "cell_type": "markdown",
     "metadata": {},
     "source": [
      "#Sigma clipping\n",
      "\n",
      "Explore how sigma clipping might work on the residuals, how we could use it to identify regions.\n",
      "\n"
     ]
    },
    {
     "cell_type": "code",
     "collapsed": false,
     "input": [
      "#Import all of the relevant python modules\n",
      "import numpy as np\n",
      "import matplotlib\n",
      "import matplotlib.pyplot as plt\n",
      "from matplotlib.ticker import FormatStrFormatter as FSF\n",
      "from matplotlib.ticker import MaxNLocator\n",
      "from matplotlib.ticker import MultipleLocator"
     ],
     "language": "python",
     "metadata": {},
     "outputs": [],
     "prompt_number": 10
    },
    {
     "cell_type": "code",
     "collapsed": false,
     "input": [
      "from StellarSpectra.model import Model\n",
      "from StellarSpectra.spectrum import DataSpectrum\n",
      "from StellarSpectra.grid_tools import TRES, HDF5Interface\n",
      "import scipy.sparse as sp\n",
      "\n",
      "myDataSpectrum = DataSpectrum.open(\"../data/WASP14/WASP14-2009-06-14.hdf5\", orders=np.array([22]))\n",
      "myInstrument = TRES()\n",
      "myHDF5Interface = HDF5Interface(\"../libraries/PHOENIX_TRES_F.hdf5\")"
     ],
     "language": "python",
     "metadata": {},
     "outputs": [],
     "prompt_number": 16
    },
    {
     "cell_type": "code",
     "collapsed": false,
     "input": [
      "#Load a model using the JSON file\n",
      "myModel = Model.from_json(\"WASP14/model_final.json\", myDataSpectrum, myInstrument, myHDF5Interface)\n",
      "myOrderModel = myModel.OrderModels[0]\n",
      "spec = myModel.get_data()\n",
      "\n",
      "wl = spec.wls[0]\n",
      "fl = spec.fls[0]\n",
      "\n",
      "model_fl = myOrderModel.get_spectrum()\n",
      "\n",
      "residuals = fl - model_fl"
     ],
     "language": "python",
     "metadata": {},
     "outputs": [
      {
       "output_type": "stream",
       "stream": "stdout",
       "text": [
        "Determine Chunk Log: Wl is 8192\n",
        "Creating OrderModel 0\n"
       ]
      }
     ],
     "prompt_number": 17
    },
    {
     "cell_type": "code",
     "collapsed": false,
     "input": [
      "residual_list = np.load(\"../residuals.npy\")"
     ],
     "language": "python",
     "metadata": {},
     "outputs": [],
     "prompt_number": 33
    },
    {
     "cell_type": "code",
     "collapsed": false,
     "input": [
      "residuals = np.average(residual_list, axis=0)"
     ],
     "language": "python",
     "metadata": {},
     "outputs": [],
     "prompt_number": 38
    },
    {
     "cell_type": "code",
     "collapsed": false,
     "input": [
      "residuals"
     ],
     "language": "python",
     "metadata": {},
     "outputs": [
      {
       "metadata": {},
       "output_type": "pyout",
       "prompt_number": 35,
       "text": [
        "array([ -7.01381130e-15,  -1.24076016e-14,  -2.94381419e-16, ...,\n",
        "        -1.17821865e-15,   7.06042500e-15,   6.68068698e-15])"
       ]
      }
     ],
     "prompt_number": 35
    },
    {
     "cell_type": "markdown",
     "metadata": {},
     "source": [
      "Estimate the mean and standard deviation of the residuals."
     ]
    },
    {
     "cell_type": "code",
     "collapsed": false,
     "input": [
      "mean = np.mean(residuals)\n",
      "std = np.std(residuals)\n",
      "print(\"Mean: {}; std: {}; 3 std: {}\".format(mean, std, 3 * std))"
     ],
     "language": "python",
     "metadata": {},
     "outputs": [
      {
       "output_type": "stream",
       "stream": "stdout",
       "text": [
        "Mean: 2.067126341295359e-17; std: 7.101506732974136e-15; 3 std: 2.1304520198922408e-14\n"
       ]
      }
     ],
     "prompt_number": 21
    },
    {
     "cell_type": "code",
     "collapsed": false,
     "input": [
      "plt.hist(residuals, bins=20)\n",
      "plt.axvline(3 * std)\n",
      "plt.axvline(-3 * std)\n",
      "plt.show()"
     ],
     "language": "python",
     "metadata": {},
     "outputs": [],
     "prompt_number": 11
    },
    {
     "cell_type": "code",
     "collapsed": false,
     "input": [
      "fig, ax = plt.subplots(nrows=2, sharex=True, figsize=(8,3))\n",
      "\n",
      "ax[0].plot(wl, residuals, \"r\")\n",
      "ax[0].axhline(3 * std)\n",
      "ax[0].axhline(-3 * std)\n",
      "ax[0].plot(wl, filtered_data, \"b\")\n",
      "\n",
      "ax[1].fill_between(wl, min_spectrum, max_spectrum)\n",
      "plt.show()"
     ],
     "language": "python",
     "metadata": {},
     "outputs": [],
     "prompt_number": 50
    },
    {
     "cell_type": "code",
     "collapsed": false,
     "input": [
      "from astropy.stats.funcs import sigma_clip"
     ],
     "language": "python",
     "metadata": {},
     "outputs": [],
     "prompt_number": 37
    },
    {
     "cell_type": "code",
     "collapsed": false,
     "input": [
      "from operator import itemgetter"
     ],
     "language": "python",
     "metadata": {},
     "outputs": [],
     "prompt_number": 52
    },
    {
     "cell_type": "code",
     "collapsed": false,
     "input": [
      "filtered_data = sigma_clip(residuals, sig=3., iters=None)"
     ],
     "language": "python",
     "metadata": {},
     "outputs": [],
     "prompt_number": 39
    },
    {
     "cell_type": "code",
     "collapsed": false,
     "input": [
      "stds = np.std(residual_list, axis=0)"
     ],
     "language": "python",
     "metadata": {},
     "outputs": [],
     "prompt_number": 40
    },
    {
     "cell_type": "code",
     "collapsed": false,
     "input": [
      "max_spectrum = np.max(residual_list, axis=0)\n",
      "min_spectrum = np.min(residual_list, axis=0)"
     ],
     "language": "python",
     "metadata": {},
     "outputs": [],
     "prompt_number": 36
    },
    {
     "cell_type": "markdown",
     "metadata": {},
     "source": [
      "How to sort the masked residuals by order of largest residual, and also return the wavelengths.\n",
      "\n",
      "`True` indicates that the value is invalid."
     ]
    },
    {
     "cell_type": "code",
     "collapsed": false,
     "input": [
      "mask = filtered_data.mask\n",
      "\n",
      "#Sort in decreasing strength of residual\n",
      "for w,resid in sorted(zip(wl[mask], np.abs(residuals[mask])), key=itemgetter(1), reverse=True):\n",
      "    print(w)\n",
      "\n",
      "#Then, starting with the strongest and progessing in decreasing strength of residual, \n",
      "#if residual is not covered, then instantiate a region\n"
     ],
     "language": "python",
     "metadata": {},
     "outputs": [
      {
       "output_type": "stream",
       "stream": "stdout",
       "text": [
        "5188.75688164\n",
        "5188.71298631\n",
        "5188.80077373\n",
        "5188.66908773\n",
        "5188.84466257\n",
        "5151.82491736\n",
        "5151.87141499\n",
        "5142.9337278\n",
        "5187.834398\n",
        "5151.7784166\n",
        "5202.25010728\n",
        "5142.79243962\n",
        "5169.04072372\n",
        "5150.70803543\n",
        "5150.75460816\n",
        "5187.87835824\n",
        "5187.79043451\n",
        "5169.08603721\n",
        "5188.6251859\n",
        "5150.80117775\n",
        "5235.3667473\n",
        "5142.83953878\n",
        "5151.91790948\n",
        "5198.6368284\n",
        "5202.20722843\n",
        "5198.59367368\n",
        "5188.88854817\n",
        "5235.24609702\n",
        "5169.13134751\n",
        "5142.74533736\n",
        "5151.73191271\n",
        "5142.88663484\n",
        "5168.99540705\n",
        "5178.70962885\n",
        "5170.67000188\n",
        "5234.60211248\n",
        "5235.32653394\n",
        "5202.29298284\n",
        "5198.55051568\n",
        "5150.66145958\n",
        "5197.42725744\n",
        "5198.67997984\n",
        "5150.84774422\n",
        "5202.33585511\n",
        "5178.75425438\n",
        "5167.04377974\n",
        "5170.71520063\n",
        "5166.9983231\n",
        "5169.17665463\n",
        "5234.52155327\n",
        "5217.68001249\n",
        "5234.56183457\n",
        "5144.95578739\n",
        "5178.66500011\n",
        "5202.16434629\n",
        "5183.20054718\n",
        "5172.34023014\n",
        "5139.15649811\n",
        "5167.08923321\n",
        "5183.15624386\n",
        "5166.95286327\n",
        "5172.70078575\n",
        "5167.1346835\n"
       ]
      }
     ],
     "prompt_number": 60
    },
    {
     "cell_type": "code",
     "collapsed": false,
     "input": [
      "plt.show()"
     ],
     "language": "python",
     "metadata": {},
     "outputs": [],
     "prompt_number": 48
    },
    {
     "cell_type": "code",
     "collapsed": false,
     "input": [],
     "language": "python",
     "metadata": {},
     "outputs": []
    }
   ],
   "metadata": {}
  }
 ]
}