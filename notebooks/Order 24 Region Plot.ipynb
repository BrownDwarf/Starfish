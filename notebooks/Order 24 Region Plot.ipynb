{
 "metadata": {
  "name": "",
  "signature": "sha256:62cdbf2dad5334710c5a4ea72270bec34c16eb5877eaf9c72c308b9af3f10f00"
 },
 "nbformat": 3,
 "nbformat_minor": 0,
 "worksheets": [
  {
   "cells": [
    {
     "cell_type": "markdown",
     "metadata": {},
     "source": [
      "This is all about getting to the bottom of how regions are fit in order 24, WASP-14, PHOENIX spectra"
     ]
    },
    {
     "cell_type": "code",
     "collapsed": false,
     "input": [
      "#Import all of the relevant python modules\n",
      "import numpy as np\n",
      "import matplotlib\n",
      "import matplotlib.pyplot as plt\n",
      "from matplotlib.ticker import FormatStrFormatter as FSF\n",
      "from matplotlib.ticker import MaxNLocator\n",
      "from matplotlib.ticker import MultipleLocator"
     ],
     "language": "python",
     "metadata": {},
     "outputs": [],
     "prompt_number": 1
    },
    {
     "cell_type": "code",
     "collapsed": false,
     "input": [
      "from StellarSpectra.model import Model\n",
      "from StellarSpectra.spectrum import DataSpectrum\n",
      "from StellarSpectra.grid_tools import TRES, HDF5Interface\n",
      "import StellarSpectra.constants as C\n",
      "import scipy.sparse as sp\n",
      "import numpy as np\n",
      "\n",
      "myDataSpectrum = DataSpectrum.open(\"../data/WASP14/WASP14-2009-06-14.hdf5\", orders=np.array([23]))\n",
      "myInstrument = TRES()\n",
      "myHDF5Interface = HDF5Interface(\"../libraries/PHOENIX_TRES_F.hdf5\")"
     ],
     "language": "python",
     "metadata": {},
     "outputs": [],
     "prompt_number": 4
    },
    {
     "cell_type": "code",
     "collapsed": false,
     "input": [
      "#Load a model using the JSON file\n",
      "myModel = Model.from_json(\"WASP14/model_final_23.json\", myDataSpectrum, myInstrument, myHDF5Interface)\n",
      "myOrderModel = myModel.OrderModels[0]\n",
      "spec = myModel.get_data()\n",
      "\n",
      "wl = spec.wls[0]\n",
      "fl = spec.fls[0]\n",
      "\n",
      "model_fl = myOrderModel.get_spectrum()\n",
      "\n",
      "residuals = fl - model_fl\n",
      "\n",
      "cheb = myOrderModel.get_Cheb()"
     ],
     "language": "python",
     "metadata": {},
     "outputs": [
      {
       "output_type": "stream",
       "stream": "stdout",
       "text": [
        "Determine Chunk Log: Wl is 8192\n",
        "Creating OrderModel 0\n",
        "params are "
       ]
      },
      {
       "output_type": "stream",
       "stream": "stdout",
       "text": [
        " {'c3': -0.004788022228329032, 'c1': -0.017684987777693707, 'logc0': -0.030610219611502083, 'c2': -0.017530605981209466}\n"
       ]
      }
     ],
     "prompt_number": 3
    },
    {
     "cell_type": "markdown",
     "metadata": {},
     "source": [
      "In math, the Gaussian-shaped residual is parameterized by\n",
      "$$R_\\lambda ( a, \\mu, \\sigma) = \\frac{a}{\\sqrt{2 \\pi} \\sigma} \\exp \\left [ - \\frac{r^2(\\lambda, \\mu)}{2 \\sigma^2} \\right ]$$\n",
      "and thus the kernel is\n",
      "$$K(\\lambda_i, \\lambda_j | a, \\mu, \\sigma) = \\frac{1}{2 \\pi} \\left ( \\frac{a}{\\sigma} \\right )^2 \\exp \\left [ - \\frac{r^2(\\lambda_i, \\mu) + r^2(\\lambda_j, \\mu)}{2 \\sigma^2} \\right ]$$"
     ]
    },
    {
     "cell_type": "code",
     "collapsed": false,
     "input": [
      "def Gaussian(wl, loga, mu, sigma):\n",
      "    '''\n",
      "    Given a wl array, return the Gaussian shaped residiual that would be overlaid as a (wl, fl) tuple.\n",
      "    '''\n",
      "    a = 10**loga\n",
      "    \n",
      "    #Truncate the input wavelength to within 4 sigma of mu, in velocity space\n",
      "    vs = C.c_kms * np.abs(wl - mu)/mu\n",
      "    ind = (vs < (4 * sigma))\n",
      "    vs = vs[ind]\n",
      "    wl = wl[ind]\n",
      "    \n",
      "    #Evaluate what the positive fl bracket would be\n",
      "    env = a/(np.sqrt(2. * np.pi) * sigma) * np.exp(-0.5 * vs**2 / sigma**2)\n",
      "    \n",
      "    #return both\n",
      "    return (wl, env)"
     ],
     "language": "python",
     "metadata": {},
     "outputs": [],
     "prompt_number": 8
    },
    {
     "cell_type": "code",
     "collapsed": false,
     "input": [
      "fig, ax = plt.subplots(nrows=2, figsize=(10,7), sharex=True)\n",
      "\n",
      "l0, = ax[0].plot(wl, fl, \"b\")\n",
      "l1, = ax[0].plot(wl, model_fl, \"r\")\n",
      "ax[0].set_ylabel(r\"$f_\\lambda$\")\n",
      "ax[0].yaxis.set_major_locator(MaxNLocator(nbins=7, prune='lower'))\n",
      "\n",
      "\n",
      "l2, = ax[1].plot(wl, residuals, \"k\")\n",
      "#ax[1].xaxis.set_major_formatter(FSF(\"%.0f\"))\n",
      "ax[1].set_xlabel(r\"$\\lambda$ (\\AA)\")\n",
      "ax[1].set_ylabel(r\"residuals $f_\\lambda$\")\n",
      "\n",
      "ax[-1].set_xlim(np.min(wl), np.max(wl))\n",
      "\n",
      "params = [(-12., 5245.6, 6),(-11.7, 5258.8, 10), (-12.3, 5260.6, 6), \n",
      "          (-12.1, 5292.5, 6), (-12.2, 5236.2, 6), (-12.3, 5235.3, 6),\n",
      "          (-12.1, 5268.3, 6), (-11.6, 5269.4, 15)]\n",
      "\n",
      "for param in params:\n",
      "    wlG, env = Gaussian(wl, *param)\n",
      "    ax[1].plot(wlG, env, \"r\")\n",
      "\n",
      "fig.subplots_adjust(left=0.14, right=0.95, bottom=0.18, top=0.94)\n",
      "\n",
      "#fig.savefig(\"../plots/residual_23.png\")\n",
      "#fig.savefig(\"../plots/residual_23.pdf\")\n",
      "#fig.savefig(\"../plots/residual_23.svg\")\n",
      "plt.show()"
     ],
     "language": "python",
     "metadata": {},
     "outputs": [],
     "prompt_number": 36
    },
    {
     "cell_type": "code",
     "collapsed": false,
     "input": [],
     "language": "python",
     "metadata": {},
     "outputs": []
    }
   ],
   "metadata": {}
  }
 ]
}